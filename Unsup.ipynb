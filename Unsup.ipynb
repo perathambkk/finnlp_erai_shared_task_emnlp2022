{
 "cells": [
  {
   "cell_type": "code",
   "execution_count": 1,
   "id": "b84d37be-6ada-4f24-aa95-ef2d7c0bebc8",
   "metadata": {},
   "outputs": [],
   "source": [
    "import json\n",
    "import nltk"
   ]
  },
  {
   "cell_type": "code",
   "execution_count": 2,
   "id": "69ea0a2f-614e-4005-a89b-83cc880d4e2d",
   "metadata": {},
   "outputs": [],
   "source": [
    "with open('ERAI Dataset_with_translation/ERAI_Dataset_unsupervised_with_translation.json') as fp:\n",
    "    data = json.load(fp)"
   ]
  },
  {
   "cell_type": "code",
   "execution_count": 3,
   "id": "0e3902e7-0086-4228-a024-a873db49e481",
   "metadata": {},
   "outputs": [
    {
     "data": {
      "text/plain": [
       "dict_keys(['index', 'post_rationale', 'post_rationale_en'])"
      ]
     },
     "execution_count": 3,
     "metadata": {},
     "output_type": "execute_result"
    }
   ],
   "source": [
    "data[0].keys()"
   ]
  },
  {
   "cell_type": "code",
   "execution_count": 4,
   "id": "e1e03ee3-4427-4e19-90fc-032e6a1d429a",
   "metadata": {},
   "outputs": [
    {
     "data": {
      "text/plain": [
       "210"
      ]
     },
     "execution_count": 4,
     "metadata": {},
     "output_type": "execute_result"
    }
   ],
   "source": [
    "len(data)"
   ]
  },
  {
   "cell_type": "code",
   "execution_count": 5,
   "id": "519f3e03-f833-4d4b-b59c-b1ce3a511a2b",
   "metadata": {},
   "outputs": [
    {
     "data": {
      "text/plain": [
       "' 關於新潤，很多人都會把新潤建設、新潤興業、華潤給搞混，以為他們是子母公司，事實不 然，雖然老闆同一個人，但上櫃的只有新潤興業(6186)，其他二家無任何關系，所以在查詢 建案的別混在一起查，會灌水太多。 回到正題，根據108第一季財報，新潤目前總共有8筆在推行的建案，已公開發售的有4筆、 分別為翠峰、A18、幸福莊園、橋峰；6月公開推出的是鉑麗；另外淡水新市段的尚未正式推 出，最後二個土城案當在規劃中。 以下根據預估完工時間做建案介紹。 一、 新潤翠峰，位於板橋永翠段，總銷為24億，預估完工日為2019年12月，預估交屋日 應該落在2020年第一季，銷售進度為90%，預估完銷eps為3.54.5元。 二、 新潤A18，位於桃園青昇段，總銷為23億，預估完工日為2019年第四季，預估交屋 日應該也是落在2020年第一季，銷售進度為70%，預估完銷EPS為3.54元。 三、 幸福莊園，位於鶯歌鳳鳴段，總銷為14億，預估完工日為2020年，交屋應該會落在 2021年的第一季，銷售進度為40%，預估完銷EPS為1.52元 四、 橋峰，位於三重福德南段，總銷6億，預估完工日為2020年，交屋應該落在2021年 的第一季，完銷，根據106年年報資料，預估EPS為1.49元 五、 新潤鉑麗，位於桃園善捷段，總銷為20億，目前潛銷中，6月正式推出，預估完 工日為2021年，交屋日應該落在2022年左右，預估完銷EPS為3.5元左右。該案原本名稱為新 潤翡麗2，後來更名為新潤鉑麗，新潤翡麗1是新潤建設，跟本標的新潤興業並無關聯。 六、 淡水三期，為於淡水新市段，總銷不明，預估完工日為2021年，該案等正式推出在 來追縱。 另外還有土城一期、二期當在規畫中，等正式推出在來追縱。 根據以上資料，新潤未來可預期的EPS，在2020年6.58.5區間，在2021年為33.5元區間 ，2022年則有3.5左右。 營收爆發年為明年，往後二年皆有3元以上EPS，以目前股價來看，尚有成長空間，加上新潤 本身前幾年配息率都有50%左右，就算去年沒賺錢，也願意拿公積出來配，算是很佛心的公 司，預估明年第二季有機會上看30元左右。預估持有時間為1年2年 最後附上今日盤中買進圖 https://i.imgur.com/zW1Od58.png '"
      ]
     },
     "execution_count": 5,
     "metadata": {},
     "output_type": "execute_result"
    }
   ],
   "source": [
    "data[0]['post_rationale']"
   ]
  },
  {
   "cell_type": "code",
   "execution_count": 6,
   "id": "8fe79773-36fe-4c51-887c-744ed3387fda",
   "metadata": {},
   "outputs": [
    {
     "data": {
      "text/plain": [
       "\"\\nRegarding Xinrun, many people confuse Xinrun Construction, Xinrun Xingye, and China Resources, thinking that they are the parent company. This is not the case. Although the boss is the same person, only Xinrun Xingye (6186) is listed on the counter, and the other two The family has nothing to do with it, so don't mix it up with those who are investigating and building a case, it will be too much water. Back to the topic, according to the first quarter financial report of 108, Xinrun currently has a total of 8 construction projects under implementation, 4 of which have been publicly sold, namely Cuifeng, A18, Happy Manor, and Qiaofeng; It is Boli; in addition, the Danshui new city section has not been officially launched, and the last two Tucheng projects should be planned. The following is an introduction to the construction project based on the estimated completion time. 1. Xinrun Cuifeng, located in the Yongcui section of Banqiao, has a total sales of 2.4 billion. The estimated completion date is December 2019, and the estimated delivery date should fall in the first quarter of 2020. The sales progress is 90%. The estimated sales eps is 3.54.5 yuan. 2. Xinrun A18, located in the Qingsheng section of Taoyuan, has a total sales of 2.3 billion. The estimated completion date is the fourth quarter of 2019. The estimated delivery date should also fall in the first quarter of 2020. The sales progress is 70%. The estimated sales EPS is 3.54 yuan. 3. Happy Manor, located in the Yingge and Fengming section, with a total sales of 1.4 billion, the estimated completion date is 2020, the handover should fall in the first quarter of 2021, the sales progress is 40%, and the estimated EPS is completed 4. Qiaofeng, located in the southern section of Sanchongfu, with a total sales of 600 million. The estimated completion date is 2020. The handover should fall in the first quarter of 2021, and it will be sold out. According to the 106 annual report, it is expected Estimated EPS is 1.49 yuan 5. Xinrun Boli, located in the Shanjie section of Taoyuan, with a total sales of 2 billion, is currently under-selling, it will be officially launched in June, the estimated completion date is 2021, and the delivery date should fall in 2022 Around, the estimated sales EPS is about 3.5 yuan. The original name of the case was Xinrun Feili 2, which was later changed to Xinrun Platinum. Xinrun Feili 1 was Xinrun Construction and had nothing to do with Xinrun Xingye. 6. The third phase of Danshui, the total sales in the new section of Danshui is unknown, and the estimated completion date is 2021. The case and others are officially launched to follow. In addition, the first and second phases of Tucheng are under planning and will be officially launched. According to the above information, the EPS that Xinrun can expect in the future will be in the range of 6.58.5 yuan in 2020, 33.5 yuan in 2021, and around 3.5 in 2022. The revenue explosion year is next year, and the next two years will have EPS of more than 3 yuan. Judging from the current stock price, there is still room for growth. In addition, Xinrun itself has a dividend rate of about 50% in the past few years, even if it did not make money last year, They are also willing to take out the accumulation, which is a very Buddhist company. It is estimated that there will be a chance to see about 30 yuan in the second quarter of next year. The estimated holding time is 1 year and 2 years. Finally, the intraday buying chart of today is attached https://i.imgur.com/zW1Od58.png\\n\""
      ]
     },
     "execution_count": 6,
     "metadata": {},
     "output_type": "execute_result"
    }
   ],
   "source": [
    "data[0]['post_rationale_en']"
   ]
  },
  {
   "cell_type": "code",
   "execution_count": 6,
   "id": "5c7dcb11-e88d-48c6-876c-c28122b7bc7a",
   "metadata": {},
   "outputs": [
    {
     "data": {
      "text/plain": [
       "' 一家飾品貿易商，主要外銷美，其次歐，旗下有代工廠，位於大陸。 不利因素：中美貿易戰可能導致營收衰退，但已著手在越南建廠，今年可投產。 主要投資理由：事業單純，每年盈餘穩定，股利穩定配發 https://i.imgur.com/GRvUnqt.jpg 主要投資時機：低本益比，近年內最低本益比是7，現在是8 https://i.imgur.com/tBkU4uR.jpg 注意：因成交量少，價格波動恐大，建議分批買進，若有下跌兩成則加碼。 '"
      ]
     },
     "execution_count": 6,
     "metadata": {},
     "output_type": "execute_result"
    }
   ],
   "source": [
    "data[10]['post_rationale']"
   ]
  },
  {
   "cell_type": "code",
   "execution_count": 7,
   "id": "158e3b2c-44a8-48f8-9200-98a897df2811",
   "metadata": {},
   "outputs": [
    {
     "data": {
      "text/plain": [
       "'A jewelry trader, which is mainly exported to the United States. Secondly, Europe, which has a foundry, is located on the mainland. Disadvantages: The Sino -US trade war may lead to revenue, but it has started to build factories in Vietnam and can be put into production this year. Main investment reasons: simple career, stable surplus every year, dividend stability distribution https://i.imgur.com/grvunqt.jpg Main investment timing: Low principles, the lowest pairing ratio in recent years is 7, now 8 HTTPS is 8 HTTPS : //i.imgur.com/tbku4ur.jpg Note: Due to the small transaction volume, the price fluctuations are large, it is recommended to buy in batches.'"
      ]
     },
     "execution_count": 7,
     "metadata": {},
     "output_type": "execute_result"
    }
   ],
   "source": [
    "data[10]['post_rationale_en']"
   ]
  },
  {
   "cell_type": "code",
   "execution_count": 8,
   "id": "604799a2-b41b-4ce2-823e-8c29b25476ed",
   "metadata": {},
   "outputs": [
    {
     "data": {
      "text/plain": [
       "'In the first season, the land was sold for tonic. There is no problem. In addition, the sales volume of the new car will be good after the third quarter will be changed.'"
      ]
     },
     "execution_count": 8,
     "metadata": {},
     "output_type": "execute_result"
    }
   ],
   "source": [
    "data[202]['post_rationale_en']"
   ]
  },
  {
   "cell_type": "code",
   "execution_count": 9,
   "id": "96e33654-1b7f-4a21-b0c2-e50a3de2b082",
   "metadata": {},
   "outputs": [
    {
     "data": {
      "text/plain": [
       "209"
      ]
     },
     "execution_count": 9,
     "metadata": {},
     "output_type": "execute_result"
    }
   ],
   "source": [
    "data[209]['index']"
   ]
  },
  {
   "cell_type": "code",
   "execution_count": 10,
   "id": "94a07d3b-9686-401b-9fa9-8a8f551d7822",
   "metadata": {},
   "outputs": [],
   "source": [
    "textlist = [d['post_rationale_en'] for d in data]"
   ]
  },
  {
   "cell_type": "code",
   "execution_count": 11,
   "id": "638ae9b7-16b3-4100-a36d-595a1873c39e",
   "metadata": {},
   "outputs": [],
   "source": [
    "from nltk.tokenize import sent_tokenize, word_tokenize"
   ]
  },
  {
   "cell_type": "code",
   "execution_count": 12,
   "id": "1113f927-e8df-4a62-b321-c550f20c73eb",
   "metadata": {},
   "outputs": [],
   "source": [
    "texts = []\n",
    "for t in textlist:\n",
    "    sents = sent_tokenize(t)\n",
    "    for s in sents:\n",
    "        text = word_tokenize(s)\n",
    "        texts.extend(text)"
   ]
  },
  {
   "cell_type": "code",
   "execution_count": 13,
   "id": "e74b84ba-1059-487f-9012-6358114db13b",
   "metadata": {},
   "outputs": [],
   "source": [
    "from nltk import FreqDist"
   ]
  },
  {
   "cell_type": "code",
   "execution_count": 14,
   "id": "010c96fd-83ac-4555-b78c-649d678b4b34",
   "metadata": {},
   "outputs": [],
   "source": [
    "vocab = set(texts)"
   ]
  },
  {
   "cell_type": "code",
   "execution_count": 15,
   "id": "85cb38dc-07bf-4d72-bfa5-76c798a7af2c",
   "metadata": {},
   "outputs": [],
   "source": [
    "import re"
   ]
  },
  {
   "cell_type": "code",
   "execution_count": 16,
   "id": "26b067ca-6e36-42ee-a999-fab3e158956c",
   "metadata": {},
   "outputs": [],
   "source": [
    "nonPunct = re.compile('.*[A-Za-z0-9].*')"
   ]
  },
  {
   "cell_type": "code",
   "execution_count": 17,
   "id": "e28eb037-4ed9-4972-92bd-b040de3b7229",
   "metadata": {},
   "outputs": [],
   "source": [
    "filtered = set([w.lower() for w in vocab if nonPunct.match(w)])"
   ]
  },
  {
   "cell_type": "code",
   "execution_count": 18,
   "id": "9a44c2df-31ee-49c1-b42a-237244fe7cfb",
   "metadata": {},
   "outputs": [
    {
     "data": {
      "text/plain": [
       "3836"
      ]
     },
     "execution_count": 18,
     "metadata": {},
     "output_type": "execute_result"
    }
   ],
   "source": [
    "len(vocab)"
   ]
  },
  {
   "cell_type": "code",
   "execution_count": 19,
   "id": "802395cd-f4e6-4b27-ae3f-16817e5a7889",
   "metadata": {},
   "outputs": [
    {
     "data": {
      "text/plain": [
       "3461"
      ]
     },
     "execution_count": 19,
     "metadata": {},
     "output_type": "execute_result"
    }
   ],
   "source": [
    "len(filtered)"
   ]
  },
  {
   "cell_type": "code",
   "execution_count": 20,
   "id": "709c252c-2a47-445a-a216-b7947ee35746",
   "metadata": {},
   "outputs": [],
   "source": [
    "filtered_texts = [w.lower() for w in texts if nonPunct.match(w)]"
   ]
  },
  {
   "cell_type": "code",
   "execution_count": 21,
   "id": "658c8904-da46-4260-8c6a-18697ba6ecc6",
   "metadata": {},
   "outputs": [],
   "source": [
    "fdist = FreqDist(texts)"
   ]
  },
  {
   "cell_type": "code",
   "execution_count": 22,
   "id": "94f4122c-76fa-4744-a6b1-b251f65e8643",
   "metadata": {},
   "outputs": [
    {
     "data": {
      "text/plain": [
       "FreqDist({'the': 3120, ',': 2131, '.': 1887, 'of': 1266, 'to': 1167, 'is': 1017, 'and': 786, 'in': 688, 'a': 555, 'The': 456, ...})"
      ]
     },
     "execution_count": 22,
     "metadata": {},
     "output_type": "execute_result"
    }
   ],
   "source": [
    "fdist"
   ]
  },
  {
   "cell_type": "code",
   "execution_count": 23,
   "id": "56e0bfe1-98bd-44c2-9328-6fd4cf911f7b",
   "metadata": {},
   "outputs": [
    {
     "data": {
      "text/plain": [
       "True"
      ]
     },
     "execution_count": 23,
     "metadata": {},
     "output_type": "execute_result"
    }
   ],
   "source": [
    "'profit' in vocab"
   ]
  },
  {
   "cell_type": "code",
   "execution_count": 24,
   "id": "6748e655-89c0-4402-a217-2adf8ce4af91",
   "metadata": {},
   "outputs": [
    {
     "data": {
      "text/plain": [
       "True"
      ]
     },
     "execution_count": 24,
     "metadata": {},
     "output_type": "execute_result"
    }
   ],
   "source": [
    "'loss' in vocab"
   ]
  },
  {
   "cell_type": "code",
   "execution_count": 25,
   "id": "119e986e-2bea-43ee-9b5c-9d4419b0b6d9",
   "metadata": {},
   "outputs": [],
   "source": [
    "ffdist = FreqDist(filtered_texts)"
   ]
  },
  {
   "cell_type": "code",
   "execution_count": 26,
   "id": "f681f3c8-9c37-47f8-8591-0c975d409d65",
   "metadata": {},
   "outputs": [
    {
     "data": {
      "text/plain": [
       "FreqDist({'the': 3576, 'of': 1269, 'to': 1173, 'is': 1035, 'in': 826, 'and': 791, 'it': 584, 'a': 561, 'that': 394, 'has': 365, ...})"
      ]
     },
     "execution_count": 26,
     "metadata": {},
     "output_type": "execute_result"
    }
   ],
   "source": [
    "ffdist"
   ]
  },
  {
   "cell_type": "code",
   "execution_count": 32,
   "id": "804d6db6-23fb-43f2-a786-9e8cb53421fa",
   "metadata": {},
   "outputs": [
    {
     "data": {
      "image/png": "[encoded data removed]",
      "text/plain": [
       "<Figure size 432x288 with 1 Axes>"
      ]
     },
     "metadata": {
      "needs_background": "light"
     },
     "output_type": "display_data"
    },
    {
     "data": {
      "text/plain": [
       "<AxesSubplot:xlabel='Samples', ylabel='Counts'>"
      ]
     },
     "execution_count": 32,
     "metadata": {},
     "output_type": "execute_result"
    }
   ],
   "source": [
    "ffdist.plot()"
   ]
  },
  {
   "cell_type": "code",
   "execution_count": 27,
   "id": "3ff431b4-a2be-40ca-a7d7-55612963b9fd",
   "metadata": {},
   "outputs": [],
   "source": [
    "fin_text = nltk.Text(filtered_texts)"
   ]
  },
  {
   "cell_type": "code",
   "execution_count": 28,
   "id": "e6dc5a98-045d-4695-a05e-84e2ff1653b0",
   "metadata": {},
   "outputs": [
    {
     "name": "stdout",
     "output_type": "stream",
     "text": [
      "<Text: regarding xinrun many people confuse xinrun construction xinrun...>\n"
     ]
    }
   ],
   "source": [
    "print(fin_text)"
   ]
  },
  {
   "cell_type": "code",
   "execution_count": 29,
   "id": "9dfed9e3-90f6-4f82-a373-d1b8fe3b6c5f",
   "metadata": {},
   "outputs": [
    {
     "name": "stdout",
     "output_type": "stream",
     "text": [
      "40266\n"
     ]
    }
   ],
   "source": [
    "print(len(fin_text))"
   ]
  },
  {
   "cell_type": "code",
   "execution_count": 30,
   "id": "3b2df4ce-6059-4d89-a8e6-f5db0e5478c7",
   "metadata": {},
   "outputs": [
    {
     "name": "stdout",
     "output_type": "stream",
     "text": [
      "gross_margin net_estimation net_should a_followed gross_margins\n",
      "'s_increased the_impact net_after the_or quarter_turnover a_from to_or\n",
      "a_space the_what net_estimate gross_130 gross_210 the_rose net_self\n",
      "the_of\n"
     ]
    }
   ],
   "source": [
    "fin_text.common_contexts([\"profit\"])"
   ]
  },
  {
   "cell_type": "code",
   "execution_count": 31,
   "id": "3997b1ba-1783-4b4a-8fd8-4942368912da",
   "metadata": {},
   "outputs": [
    {
     "name": "stdout",
     "output_type": "stream",
     "text": [
      "a_will -term_factory or_question and_listen stop_of stop_point or_was\n",
      "or_https and_of stop_set the_of stop_is\n"
     ]
    }
   ],
   "source": [
    "fin_text.common_contexts([\"loss\"])"
   ]
  },
  {
   "cell_type": "code",
   "execution_count": 32,
   "id": "1d2a7a32-fb2d-4688-b136-e88a6fe83553",
   "metadata": {},
   "outputs": [
    {
     "name": "stdout",
     "output_type": "stream",
     "text": [
      "stock price; taichung silver; taichung bank; trade war; united states;\n",
      "first quarter; younger brother; crude oil; pay attention; interest\n",
      "rate; last year; total sales; completion date; gross profit; sino -us;\n",
      "retail investors; technical aspect; foreign capital; financial report;\n",
      "largest shareholder\n"
     ]
    }
   ],
   "source": [
    "fin_text.collocations()"
   ]
  },
  {
   "cell_type": "code",
   "execution_count": 33,
   "id": "fd08906d-f04e-4c56-8451-cf7601de8aa9",
   "metadata": {},
   "outputs": [
    {
     "name": "stdout",
     "output_type": "stream",
     "text": [
      "company increase market head value bottom case sales future revenue\n",
      "price growth dividend shares yield rise news performance version worth\n"
     ]
    }
   ],
   "source": [
    "fin_text.similar(\"profit\")"
   ]
  },
  {
   "cell_type": "code",
   "execution_count": 34,
   "id": "4df64af9-6792-439c-a8be-ce1a5ecfcf6a",
   "metadata": {},
   "outputs": [
    {
     "name": "stdout",
     "output_type": "stream",
     "text": [
      "eps most proportion rebound construction company case addition\n",
      "completion time date information future range explosion stock price\n",
      "growth dividend rate\n"
     ]
    }
   ],
   "source": [
    "fin_text.similar(\"loss\")"
   ]
  },
  {
   "cell_type": "code",
   "execution_count": 35,
   "id": "d754003c-13be-4f09-807c-b7933cafd50d",
   "metadata": {},
   "outputs": [
    {
     "name": "stdout",
     "output_type": "stream",
     "text": [
      "Displaying 25 of 92 matches:\n",
      "in the second quarter with a 15 net profit estimate the sales can contribute a\n",
      "he second and third quarters 15 net profit estimate the sales can contribute a\n",
      "arter of 2021 with an estimated net profit of 15 after the sale the eps can be\n",
      "sed on an estimate of 15 of the net profit the sales can contribute about 3.2 \n",
      "rly financial report as for the net profit i adopt a more conservative estimat\n",
      "stimation method and the actual net profit should be relatively high chip leve\n",
      "th one among them longda has made a profit followed by lianshangfa and xinrun \n",
      "in each month of this year q1 gross profit margin of 30 is also better than th\n",
      "s remained at 5~8 and after-tax net profit margin has remained at 711 if the b\n",
      " pay dividends but also make a full profit by allocating dividends let 's look\n",
      "rstood let 's look at the operating profit rate and after-tax net profit rate \n",
      "ating profit rate and after-tax net profit rate which are outrageously stable \n",
      "wan 's 50 constituent stocks turn a profit in the first quarter technical rsi \n",
      "friends will the trade war make auo profit or loss question 2 auo began to inv\n",
      "opular smart retail auo established profit creation space to provide online an\n",
      "bout auo s 5 dividend when it turns profit and loss listen industrial touch lc\n",
      "ich is beneficial to the company 's profit in the case of the devaluation of t\n",
      "om 2017 to 2018 was amazing and the profit rate increased by almost 10 percent\n",
      "table for decision-making the gross profit margin of 18 is also better than th\n",
      "fitness equipment with higher gross profit margins has increased significantly\n",
      "f possible there is no need to stop profit within three years a jewelry trader\n",
      " to the increase in price the gross profit margin increased q1 's profit incre\n",
      "gross profit margin increased q1 's profit increased by 35 and the stock price\n",
      " income tax costs in the future the profit impact of this industry will be red\n",
      "t in fubon old in addition fubon 's profit dual engine has banks and life insu\n"
     ]
    }
   ],
   "source": [
    "fin_text.concordance(\"profit\")"
   ]
  },
  {
   "cell_type": "code",
   "execution_count": 36,
   "id": "ac56d20d-8f0a-4f25-a6c3-52987e68e664",
   "metadata": {},
   "outputs": [
    {
     "name": "stdout",
     "output_type": "stream",
     "text": [
      "Displaying 15 of 15 matches:\n",
      "he tianjin plant which is still at a loss will temporarily suspend production \n",
      "ill the trade war make auo profit or loss question 2 auo began to invest outsi\n",
      " 5 dividend when it turns profit and loss listen industrial touch lcd factory \n",
      "ssary to resolutely execute the stop loss of hundreds of yuan to compensate fo\n",
      "ally like that he must set up a stop loss point 35.3 to break a few white yuan\n",
      "vative the tianjin plant which has a loss will also temporarily suspend produc\n",
      "hat it should be losing a long -term loss factory how can it fall observing th\n",
      "f the closing 57.4 and the profit or loss was 870 yuan profit or loss https //\n",
      "rofit or loss was 870 yuan profit or loss https //imgur.com/8dkl90k.jpg buy re\n",
      "ine -type reversal so the profit and loss of the 2019/04/mid -time but the bor\n",
      " yes recently buy it back again stop loss set 16.8 after waiting for this good\n",
      "vative the tianjin plant which has a loss will also temporarily suspend produc\n",
      "hat it should be losing a long -term loss factory how can it fall i recently w\n",
      " have come to the trust interval the loss of the assessment of the right to th\n",
      " 329th period the fixing single stop loss is out again feeling out the younger\n"
     ]
    }
   ],
   "source": [
    "fin_text.concordance(\"loss\")"
   ]
  },
  {
   "cell_type": "code",
   "execution_count": 37,
   "id": "015a2557-9b5e-44a4-bf6f-61d795af8353",
   "metadata": {},
   "outputs": [
    {
     "data": {
      "text/plain": [
       "92"
      ]
     },
     "execution_count": 37,
     "metadata": {},
     "output_type": "execute_result"
    }
   ],
   "source": [
    "fin_text.count(\"profit\")"
   ]
  },
  {
   "cell_type": "code",
   "execution_count": 38,
   "id": "89398d9c-f408-4cac-b8b9-356e5895c73d",
   "metadata": {},
   "outputs": [
    {
     "data": {
      "text/plain": [
       "15"
      ]
     },
     "execution_count": 38,
     "metadata": {},
     "output_type": "execute_result"
    }
   ],
   "source": [
    "fin_text.count(\"loss\")"
   ]
  },
  {
   "cell_type": "code",
   "execution_count": 41,
   "id": "d0737cf1-753e-4bf2-8154-78a33b08dced",
   "metadata": {},
   "outputs": [],
   "source": [
    "import gensim.downloader as api\n",
    "wv = api.load('word2vec-google-news-300')"
   ]
  },
  {
   "cell_type": "code",
   "execution_count": 42,
   "id": "5db4dca2-600c-4b07-812f-ed7279df9257",
   "metadata": {},
   "outputs": [
    {
     "data": {
      "text/plain": [
       "<gensim.models.keyedvectors.KeyedVectors at 0x7fbcf97bf6a0>"
      ]
     },
     "execution_count": 42,
     "metadata": {},
     "output_type": "execute_result"
    }
   ],
   "source": [
    "wv"
   ]
  },
  {
   "cell_type": "code",
   "execution_count": null,
   "id": "3aff8c97-db0c-4184-be73-6e2c6390c296",
   "metadata": {},
   "outputs": [],
   "source": []
  },
  {
   "cell_type": "code",
   "execution_count": null,
   "id": "f8b47a63-edf7-410d-8709-c02cca6f63d0",
   "metadata": {},
   "outputs": [],
   "source": []
  }
 ],
 "metadata": {
  "kernelspec": {
   "display_name": "Python 3 (ipykernel)",
   "language": "python",
   "name": "python3"
  },
  "language_info": {
   "codemirror_mode": {
    "name": "ipython",
    "version": 3
   },
   "file_extension": ".py",
   "mimetype": "text/x-python",
   "name": "python",
   "nbconvert_exporter": "python",
   "pygments_lexer": "ipython3",
   "version": "3.10.4"
  }
 },
 "nbformat": 4,
 "nbformat_minor": 5
}
