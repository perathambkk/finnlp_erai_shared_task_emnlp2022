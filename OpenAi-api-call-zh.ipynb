{
 "cells": [
  {
   "cell_type": "code",
   "execution_count": 15,
   "id": "42abd6be-6e69-4e85-9bd6-bb3ad08fdc58",
   "metadata": {},
   "outputs": [],
   "source": [
    "import json\n",
    "\n",
    "import openai"
   ]
  },
  {
   "cell_type": "code",
   "execution_count": null,
   "id": "32a927ba-dcf4-443e-8cb8-1ed704ef0c87",
   "metadata": {},
   "outputs": [],
   "source": [
    "openai.api_key = \"Your Key Here\" "
   ]
  },
  {
   "cell_type": "code",
   "execution_count": 16,
   "id": "1eebd7e0-c217-4f5d-95a6-d0a4edf10bbc",
   "metadata": {},
   "outputs": [],
   "source": [
    "with open('prompts/openai_prompts_42.json', 'r') as f:\n",
    "    prompts = json.load(f)"
   ]
  },
  {
   "cell_type": "code",
   "execution_count": 18,
   "id": "eb1a18a3-044e-4f88-a4f5-f2b8b9cc5957",
   "metadata": {},
   "outputs": [],
   "source": [
    "response = openai.Completion.create(\n",
    "            model=\"text-davinci-002\",\n",
    "            prompt=prompts[-31]['prompt'],\n",
    "            temperature=0.7,\n",
    "            max_tokens=24,\n",
    "            stop=\"</s>\"\n",
    "        )"
   ]
  },
  {
   "cell_type": "code",
   "execution_count": 19,
   "id": "033ebb24-12bf-4408-861c-85d83efff0ea",
   "metadata": {},
   "outputs": [
    {
     "data": {
      "text/plain": [
       "<OpenAIObject text_completion id=cmpl-5nYbQT90GDrI7i31hxzKTFMP7GLqt at 0x7f17dfcae700> JSON: {\n",
       "  \"choices\": [\n",
       "    {\n",
       "      \"finish_reason\": \"length\",\n",
       "      \"index\": 0,\n",
       "      \"logprobs\": null,\n",
       "      \"text\": \"\\u59d4\\u54e1\\u6703\\u6210\\u54e1\\uff0c\\u64d4\\u4efb\\u88d5\\u9686\"\n",
       "    }\n",
       "  ],\n",
       "  \"created\": 1662492768,\n",
       "  \"id\": \"cmpl-5nYbQT90GDrI7i31hxzKTFMP7GLqt\",\n",
       "  \"model\": \"text-davinci-002\",\n",
       "  \"object\": \"text_completion\",\n",
       "  \"usage\": {\n",
       "    \"completion_tokens\": 24,\n",
       "    \"prompt_tokens\": 3934,\n",
       "    \"total_tokens\": 3958\n",
       "  }\n",
       "}"
      ]
     },
     "execution_count": 19,
     "metadata": {},
     "output_type": "execute_result"
    }
   ],
   "source": [
    "response"
   ]
  },
  {
   "cell_type": "code",
   "execution_count": 20,
   "id": "b6118bda-1dd9-4596-ab9b-5806ce3efd98",
   "metadata": {},
   "outputs": [
    {
     "data": {
      "text/plain": [
       "'委員會成員，擔任裕隆'"
      ]
     },
     "execution_count": 20,
     "metadata": {},
     "output_type": "execute_result"
    }
   ],
   "source": [
    "response.choices[0].text"
   ]
  },
  {
   "cell_type": "code",
   "execution_count": 6,
   "id": "a2904fb0-4a1f-4add-9aaf-daed0cd75ae5",
   "metadata": {},
   "outputs": [],
   "source": [
    "responses = []"
   ]
  },
  {
   "cell_type": "code",
   "execution_count": 7,
   "id": "cde77108-f582-4c84-9af9-98fe4f8aaa41",
   "metadata": {},
   "outputs": [
    {
     "name": "stdout",
     "output_type": "stream",
     "text": [
      "0\n",
      "1\n",
      "2\n",
      "3\n",
      "4\n",
      "5\n",
      "6\n",
      "7\n",
      "8\n",
      "9\n",
      "10\n",
      "11\n",
      "12\n",
      "13\n",
      "14\n",
      "15\n",
      "16\n",
      "17\n",
      "18\n",
      "19\n",
      "20\n",
      "21\n",
      "22\n",
      "23\n",
      "24\n",
      "25\n",
      "26\n",
      "27\n",
      "28\n",
      "29\n",
      "30\n",
      "31\n",
      "32\n",
      "33\n",
      "34\n",
      "35\n",
      "36\n",
      "37\n",
      "38\n",
      "39\n",
      "40\n",
      "41\n",
      "42\n",
      "43\n",
      "44\n",
      "45\n",
      "46\n",
      "47\n",
      "48\n",
      "49\n",
      "50\n",
      "51\n",
      "52\n",
      "53\n",
      "54\n",
      "55\n",
      "56\n",
      "57\n",
      "58\n",
      "59\n",
      "60\n",
      "61\n",
      "62\n",
      "63\n",
      "64\n",
      "65\n",
      "66\n",
      "67\n",
      "68\n",
      "69\n",
      "70\n",
      "71\n",
      "72\n",
      "73\n",
      "74\n",
      "75\n",
      "76\n",
      "77\n",
      "78\n",
      "79\n",
      "80\n",
      "81\n",
      "82\n",
      "83\n",
      "84\n",
      "85\n",
      "86\n"
     ]
    }
   ],
   "source": [
    "for i, p in enumerate(prompts):\n",
    "    print(i)\n",
    "    response = openai.Completion.create(\n",
    "            model=\"text-davinci-002\",\n",
    "            prompt=p['prompt'],\n",
    "            temperature=0.7,\n",
    "            max_tokens=24,\n",
    "            stop=\"</s>\"\n",
    "        )\n",
    "    res = {'index':p['index'],'r':response}\n",
    "    responses.append(res)"
   ]
  },
  {
   "cell_type": "code",
   "execution_count": 8,
   "id": "2f61dc14-987a-4c06-a88f-40139266379c",
   "metadata": {},
   "outputs": [],
   "source": [
    "with open('prompts/openai_prompts_42_res.json','w') as f:\n",
    "    json.dump(responses, f)"
   ]
  },
  {
   "cell_type": "code",
   "execution_count": null,
   "id": "ba25bab0-858f-42b0-831d-5a836d2e7a7b",
   "metadata": {},
   "outputs": [],
   "source": []
  }
 ],
 "metadata": {
  "kernelspec": {
   "display_name": "Python 3 (ipykernel)",
   "language": "python",
   "name": "python3"
  },
  "language_info": {
   "codemirror_mode": {
    "name": "ipython",
    "version": 3
   },
   "file_extension": ".py",
   "mimetype": "text/x-python",
   "name": "python",
   "nbconvert_exporter": "python",
   "pygments_lexer": "ipython3",
   "version": "3.10.4"
  }
 },
 "nbformat": 4,
 "nbformat_minor": 5
}
