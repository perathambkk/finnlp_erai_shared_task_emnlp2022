{
 "cells": [
  {
   "cell_type": "code",
   "execution_count": 6,
   "id": "c7ed7fa1-39a9-4430-92bd-b5faacad168c",
   "metadata": {},
   "outputs": [
    {
     "name": "stdout",
     "output_type": "stream",
     "text": [
      "[{'label': 'Specific FLS', 'score': 0.7727875709533691}]\n"
     ]
    }
   ],
   "source": [
    "from transformers import BertTokenizer, BertForSequenceClassification, pipeline\n",
    "\n",
    "finbert = BertForSequenceClassification.from_pretrained('yiyanghkust/finbert-fls',num_labels=3)\n",
    "tokenizer = BertTokenizer.from_pretrained('yiyanghkust/finbert-fls')\n",
    "nlp = pipeline(\"text-classification\", model=finbert, tokenizer=tokenizer)\n",
    "results = nlp('We expect the age of our fleet to enhance availability and reliability due to reduced downtime for repairs.')\n",
    "print(results)"
   ]
  },
  {
   "cell_type": "code",
   "execution_count": null,
   "id": "793297d2-88b9-4087-b553-1be7bdd2c704",
   "metadata": {},
   "outputs": [],
   "source": [
    "import json\n",
    "import time\n",
    "\n",
    "import nltk\n",
    "\n",
    "from tqdm.notebook import trange, tqdm"
   ]
  },
  {
   "cell_type": "code",
   "execution_count": null,
   "id": "68416911-e4d9-4bbe-9f14-7d139dcec0fc",
   "metadata": {},
   "outputs": [],
   "source": [
    "with open('ERAI Dataset_with_translation/ERAI_Dataset_unsupervised_with_translation.json') as fp:\n",
    "    data = json.load(fp)"
   ]
  },
  {
   "cell_type": "code",
   "execution_count": 7,
   "id": "6609cfc6-47d7-417e-b346-b29aaa9d9eb0",
   "metadata": {},
   "outputs": [],
   "source": [
    "from nltk.tokenize import sent_tokenize"
   ]
  },
  {
   "cell_type": "code",
   "execution_count": 8,
   "id": "cf027df3-d442-4151-950d-e53f0ce363aa",
   "metadata": {},
   "outputs": [],
   "source": [
    "label_set = ['Specific FLS','Non-specific FLS','Not FLS']"
   ]
  },
  {
   "cell_type": "code",
   "execution_count": 13,
   "id": "a779bfd9-9841-400e-b2f6-9637434549bb",
   "metadata": {},
   "outputs": [],
   "source": [
    "scores = {} # index:(label, score)"
   ]
  },
  {
   "cell_type": "code",
   "execution_count": 16,
   "id": "ed902968-4b69-441e-80ae-32aeda278a51",
   "metadata": {},
   "outputs": [
    {
     "data": {
      "application/vnd.jupyter.widget-view+json": {
       "model_id": "17ab640af1ff4f0089f236dcf339d454",
       "version_major": 2,
       "version_minor": 0
      },
      "text/plain": [
       "  0%|          | 0/210 [00:00<?, ?it/s]"
      ]
     },
     "metadata": {},
     "output_type": "display_data"
    }
   ],
   "source": [
    "for d in tqdm(data):\n",
    "    sents = sent_tokenize(d['post_rationale_en'])\n",
    "    labs = dict.fromkeys(label_set, 0)\n",
    "    for s in sents:\n",
    "        r = nlp(s)\n",
    "        labs[r[0]['label']] += r[0]['score']\n",
    "    scores[d['index']] = labs\n",
    "    time.sleep(2)"
   ]
  },
  {
   "cell_type": "code",
   "execution_count": 17,
   "id": "48081154-140f-40a1-8fe9-a105d67f1373",
   "metadata": {},
   "outputs": [],
   "source": [
    "with open('BuildingLexicon_code/scores/FinBERT-FLS.json', 'w') as f:\n",
    "    json.dump(scores, f)"
   ]
  },
  {
   "cell_type": "code",
   "execution_count": null,
   "id": "c6cbbaf9-d0d0-4d61-ba53-8aa945b94f96",
   "metadata": {},
   "outputs": [],
   "source": []
  },
  {
   "cell_type": "code",
   "execution_count": null,
   "id": "661f3bd4-b847-4544-a37d-e7d415564406",
   "metadata": {},
   "outputs": [],
   "source": []
  },
  {
   "cell_type": "code",
   "execution_count": null,
   "id": "18ea28c5-ba31-4c76-bca9-60e1454724a9",
   "metadata": {},
   "outputs": [],
   "source": []
  },
  {
   "cell_type": "code",
   "execution_count": null,
   "id": "e2911071-30c2-4c80-9c2d-51bb3f6348bd",
   "metadata": {},
   "outputs": [],
   "source": []
  }
 ],
 "metadata": {
  "kernelspec": {
   "display_name": "Python 3 (ipykernel)",
   "language": "python",
   "name": "python3"
  },
  "language_info": {
   "codemirror_mode": {
    "name": "ipython",
    "version": 3
   },
   "file_extension": ".py",
   "mimetype": "text/x-python",
   "name": "python",
   "nbconvert_exporter": "python",
   "pygments_lexer": "ipython3",
   "version": "3.10.4"
  }
 },
 "nbformat": 4,
 "nbformat_minor": 5
}
