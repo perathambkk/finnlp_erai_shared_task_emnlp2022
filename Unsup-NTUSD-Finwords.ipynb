{
 "cells": [
  {
   "cell_type": "code",
   "execution_count": 9,
   "id": "3d7f04dd-492d-49c9-9fea-8f999b146ec8",
   "metadata": {},
   "outputs": [],
   "source": [
    "import json\n",
    "import time\n",
    "\n",
    "from tqdm.notebook import trange, tqdm"
   ]
  },
  {
   "cell_type": "code",
   "execution_count": 10,
   "id": "d5d604fd-d4df-4f3d-a7eb-23d70d3f8a2c",
   "metadata": {},
   "outputs": [],
   "source": [
    "with open('BuildingLexicon_code/NTUSD-Fin/NTUSD_Fin_word_v1.0.json','r') as f:\n",
    "    finword = json.load(f)"
   ]
  },
  {
   "cell_type": "code",
   "execution_count": 11,
   "id": "bca96113-ff59-449c-a1d3-efa6f4c9b66e",
   "metadata": {},
   "outputs": [
    {
     "data": {
      "text/plain": [
       "8331"
      ]
     },
     "execution_count": 11,
     "metadata": {},
     "output_type": "execute_result"
    }
   ],
   "source": [
    "len(finword)"
   ]
  },
  {
   "cell_type": "code",
   "execution_count": 12,
   "id": "88d08e8e-8a36-4b86-8afe-491426ad2e49",
   "metadata": {},
   "outputs": [
    {
     "data": {
      "text/plain": [
       "dict_keys(['chi_squared', 'bull_cfidf', 'bear_freq', 'bull_freq', 'bear_cfidf', 'word_vec', 'token', 'market_sentiment'])"
      ]
     },
     "execution_count": 12,
     "metadata": {},
     "output_type": "execute_result"
    }
   ],
   "source": [
    "finword[0].keys()"
   ]
  },
  {
   "cell_type": "code",
   "execution_count": 13,
   "id": "af6eb137-2bbe-4e20-9cb1-f447fb90b3f7",
   "metadata": {},
   "outputs": [
    {
     "data": {
      "text/plain": [
       "['notes',\n",
       " 'manipulator',\n",
       " 'sucked',\n",
       " 'garage',\n",
       " 'aids',\n",
       " 'set',\n",
       " 'sleep',\n",
       " 'pennies',\n",
       " 'proved',\n",
       " 'triple',\n",
       " 'yess',\n",
       " 'designed',\n",
       " 'initiative',\n",
       " 'constantly',\n",
       " 'warmed',\n",
       " 'addiction',\n",
       " 'commence',\n",
       " 'cisco',\n",
       " 'refinance',\n",
       " 'risen',\n",
       " 'benchmark',\n",
       " 'tripled',\n",
       " 'listing',\n",
       " 'multiple',\n",
       " 'switch']"
      ]
     },
     "execution_count": 13,
     "metadata": {},
     "output_type": "execute_result"
    }
   ],
   "source": [
    "[f['token'] for f in finword[0:25]]"
   ]
  },
  {
   "cell_type": "code",
   "execution_count": 14,
   "id": "caf8e73c-018b-4493-91d7-3815e138e7f1",
   "metadata": {},
   "outputs": [],
   "source": [
    "with open('ERAI Dataset_with_translation/ERAI_Dataset_unsupervised_with_translation.json') as fp:\n",
    "    data = json.load(fp)"
   ]
  },
  {
   "cell_type": "code",
   "execution_count": 18,
   "id": "cdc6af71-74b9-4bac-b48f-34c8d08c0fc6",
   "metadata": {},
   "outputs": [],
   "source": [
    "def lexicon_scorer(text, lexicon, key='market_sentiment'):\n",
    "    score = 0.0\n",
    "    for l in lexicon:\n",
    "        if l['token'] in text:\n",
    "            score += l[key]\n",
    "    return score"
   ]
  },
  {
   "cell_type": "code",
   "execution_count": 19,
   "id": "82a3a066-fcb2-4d4d-b66b-378f76f1b391",
   "metadata": {},
   "outputs": [],
   "source": [
    "scores = {} # index:(label, score)"
   ]
  },
  {
   "cell_type": "code",
   "execution_count": 20,
   "id": "5460563f-ac17-40d6-8556-0cb0d47a1e76",
   "metadata": {},
   "outputs": [
    {
     "data": {
      "application/vnd.jupyter.widget-view+json": {
       "model_id": "0187721abe91422a92f3e914930314f9",
       "version_major": 2,
       "version_minor": 0
      },
      "text/plain": [
       "  0%|          | 0/210 [00:00<?, ?it/s]"
      ]
     },
     "metadata": {},
     "output_type": "display_data"
    }
   ],
   "source": [
    "for d in tqdm(data):\n",
    "    text = d['post_rationale']\n",
    "    scores[d['index']] = lexicon_scorer(text, lexicon=finword, key='market_sentiment')"
   ]
  },
  {
   "cell_type": "code",
   "execution_count": 21,
   "id": "a74ff943-b1f9-47bd-aadf-3be747f54c26",
   "metadata": {},
   "outputs": [],
   "source": [
    "with open('BuildingLexicon_code/scores/FinWord.json', 'w') as f:\n",
    "    json.dump(scores, f)"
   ]
  },
  {
   "cell_type": "code",
   "execution_count": 22,
   "id": "f30b87ab-3af7-4488-95a3-e9c5b9c98334",
   "metadata": {},
   "outputs": [
    {
     "data": {
      "text/plain": [
       "{0: 2.359903686635601,\n",
       " 1: 0.8481385916838917,\n",
       " 2: 0.0,\n",
       " 3: 0.0,\n",
       " 4: -0.6124962317119298,\n",
       " 5: 5.499665607164548,\n",
       " 6: 0.0,\n",
       " 7: 4.442751013316936,\n",
       " 8: 0.0,\n",
       " 9: 2.7645156957487984,\n",
       " 10: 2.1763712720873656,\n",
       " 11: 0.0,\n",
       " 12: 0.0,\n",
       " 13: 3.4132892627748888,\n",
       " 14: 0.0,\n",
       " 15: 0.0,\n",
       " 16: 1.0780529829931496,\n",
       " 17: 4.941305167210601,\n",
       " 18: 0.0,\n",
       " 19: 0.0,\n",
       " 20: 0.0,\n",
       " 21: 0.0,\n",
       " 22: 0.0,\n",
       " 23: 0.0,\n",
       " 24: 0.0,\n",
       " 25: 3.3281964717091697,\n",
       " 26: 0.0,\n",
       " 27: 0.0,\n",
       " 28: 5.664443174276148,\n",
       " 29: 0.0,\n",
       " 30: -1.7925423534614886,\n",
       " 31: 0.0,\n",
       " 32: 0.0,\n",
       " 33: 0.0,\n",
       " 34: 0.0,\n",
       " 35: 9.616906495278474,\n",
       " 36: -2.086532509766684,\n",
       " 37: 0.0,\n",
       " 38: 0.0,\n",
       " 39: 0.0,\n",
       " 40: 0.0,\n",
       " 41: 0.0,\n",
       " 42: 0.0,\n",
       " 43: 0.0,\n",
       " 44: 0.0,\n",
       " 45: 0.0,\n",
       " 46: 0.0,\n",
       " 47: 0.0,\n",
       " 48: -0.37355356927531247,\n",
       " 49: 2.1763712720873656,\n",
       " 50: 0.0,\n",
       " 51: -1.7925423534614886,\n",
       " 52: 5.499665607164548,\n",
       " 53: -0.19454299637601125,\n",
       " 54: 0.0,\n",
       " 55: 0.0,\n",
       " 56: -0.6124962317119298,\n",
       " 57: 0.0,\n",
       " 58: -0.19454299637601125,\n",
       " 59: 0.0,\n",
       " 60: 0.0,\n",
       " 61: -1.5979993570854774,\n",
       " 62: 0.0,\n",
       " 63: 1.1382115256763967,\n",
       " 64: 0.0,\n",
       " 65: 0.9262362774330377,\n",
       " 66: -0.19454299637601125,\n",
       " 67: 2.0543544034052665,\n",
       " 68: -2.785127767601015,\n",
       " 69: 0.0,\n",
       " 70: -2.785127767601015,\n",
       " 71: 0.0,\n",
       " 72: 2.1753202540438252,\n",
       " 73: 0.0,\n",
       " 74: 0.0641326689487336,\n",
       " 75: 2.7645156957487984,\n",
       " 76: -2.9173490969388425,\n",
       " 77: 9.616906495278474,\n",
       " 78: 0.0,\n",
       " 79: 0.0,\n",
       " 80: -0.5276311991945839,\n",
       " 81: 2.0249536113853708,\n",
       " 82: -0.6124962317119298,\n",
       " 83: 2.359903686635601,\n",
       " 84: 0.8481385916838917,\n",
       " 85: 0.0,\n",
       " 86: 5.499665607164548,\n",
       " 87: 0.0,\n",
       " 88: 0.0,\n",
       " 89: 6.590407500024526,\n",
       " 90: 0.0,\n",
       " 91: 0.0,\n",
       " 92: 3.3980634330465733,\n",
       " 93: 3.3980634330465698,\n",
       " 94: 0.0,\n",
       " 95: 0.08729846157680399,\n",
       " 96: 0.0,\n",
       " 97: 0.0,\n",
       " 98: 0.0,\n",
       " 99: 0.0,\n",
       " 100: 0.0,\n",
       " 101: 0.0,\n",
       " 102: 4.442751013316936,\n",
       " 103: 0.0,\n",
       " 104: 0.0,\n",
       " 105: 3.110364829986562,\n",
       " 106: 3.3281964717091697,\n",
       " 107: 0.0,\n",
       " 108: 0.0,\n",
       " 109: 2.7645156957487984,\n",
       " 110: 1.0780529829931496,\n",
       " 111: 5.664443174276148,\n",
       " 112: 3.0501401296262642,\n",
       " 113: 4.941305167210601,\n",
       " 114: 0.0,\n",
       " 115: 0.0641326689487336,\n",
       " 116: 0.0,\n",
       " 117: 0.0,\n",
       " 118: 0.0,\n",
       " 119: 0.0,\n",
       " 120: 0.0,\n",
       " 121: 9.616906495278474,\n",
       " 122: 2.7645156957487984,\n",
       " 123: 0.0,\n",
       " 124: -0.6124962317119298,\n",
       " 125: 0.0,\n",
       " 126: 5.499665607164548,\n",
       " 127: -1.7925423534614886,\n",
       " 128: 0.0,\n",
       " 129: 0.0,\n",
       " 130: 0.0,\n",
       " 131: 1.0780529829931496,\n",
       " 132: 0.0,\n",
       " 133: 0.0,\n",
       " 134: 0.0,\n",
       " 135: 5.664443174276148,\n",
       " 136: 2.1763712720873656,\n",
       " 137: -2.086532509766684,\n",
       " 138: 0.0,\n",
       " 139: 0.0,\n",
       " 140: 0.0,\n",
       " 141: 0.0,\n",
       " 142: 2.359903686635601,\n",
       " 143: 4.941305167210601,\n",
       " 144: 0.0,\n",
       " 145: 0.0,\n",
       " 146: 0.0,\n",
       " 147: 0.0,\n",
       " 148: 0.0,\n",
       " 149: 0.0,\n",
       " 150: 0.0,\n",
       " 151: 0.0,\n",
       " 152: 4.442751013316936,\n",
       " 153: 3.3281964717091697,\n",
       " 154: 0.0,\n",
       " 155: 0.0,\n",
       " 156: 0.0,\n",
       " 157: 0.0,\n",
       " 158: 0.0,\n",
       " 159: 0.0,\n",
       " 160: 0.8481385916838917,\n",
       " 161: 0.0,\n",
       " 162: 1.1392300007672347,\n",
       " 163: 0.0,\n",
       " 164: 0.0,\n",
       " 165: 2.1763712720873656,\n",
       " 166: 0.0,\n",
       " 167: 0.0,\n",
       " 168: 0.0,\n",
       " 169: 0.0,\n",
       " 170: 1.9168735987627983,\n",
       " 171: 0.0,\n",
       " 172: 1.2306017624372494,\n",
       " 173: 0.8481385916838917,\n",
       " 174: 0.0,\n",
       " 175: 0.4378549131418126,\n",
       " 176: 0.0,\n",
       " 177: 0.0,\n",
       " 178: 0.0,\n",
       " 179: 0.8481385916838917,\n",
       " 180: 0.0,\n",
       " 181: 0.0,\n",
       " 182: 1.1382115256763967,\n",
       " 183: 0.0,\n",
       " 184: 1.1476915795154348,\n",
       " 185: 1.1382115256763967,\n",
       " 186: 0.0,\n",
       " 187: 0.0,\n",
       " 188: 1.3282326804034739,\n",
       " 189: 0.0,\n",
       " 190: -0.0911974006270242,\n",
       " 191: 0.0,\n",
       " 192: 1.1392300007672347,\n",
       " 193: 0.0,\n",
       " 194: 0.0,\n",
       " 195: 0.0,\n",
       " 196: 0.0,\n",
       " 197: 0.0,\n",
       " 198: 0.0,\n",
       " 199: 0.0,\n",
       " 200: 0.0,\n",
       " 201: 0.0,\n",
       " 202: 0.0,\n",
       " 203: 0.0,\n",
       " 204: 0.0,\n",
       " 205: 0.0,\n",
       " 206: 0.0,\n",
       " 207: 2.1763712720873656,\n",
       " 208: 0.0,\n",
       " 209: 0.0}"
      ]
     },
     "execution_count": 22,
     "metadata": {},
     "output_type": "execute_result"
    }
   ],
   "source": [
    "scores"
   ]
  },
  {
   "cell_type": "code",
   "execution_count": null,
   "id": "2f80c9cd-93fc-436f-8dec-1ccf6472a7c4",
   "metadata": {},
   "outputs": [],
   "source": []
  },
  {
   "cell_type": "code",
   "execution_count": null,
   "id": "9af715b1-e3fe-481b-aeef-c15b2214b5fb",
   "metadata": {},
   "outputs": [],
   "source": []
  },
  {
   "cell_type": "code",
   "execution_count": null,
   "id": "eed002e9-5816-4abb-ae99-7cf39ef56d7a",
   "metadata": {},
   "outputs": [],
   "source": []
  },
  {
   "cell_type": "code",
   "execution_count": null,
   "id": "a8c67d86-8f56-4e1c-bea5-6ddd2f584a1a",
   "metadata": {},
   "outputs": [],
   "source": []
  },
  {
   "cell_type": "code",
   "execution_count": null,
   "id": "67006f63-1c5d-40fc-ab28-8793a41f6e32",
   "metadata": {},
   "outputs": [],
   "source": []
  }
 ],
 "metadata": {
  "kernelspec": {
   "display_name": "Python 3 (ipykernel)",
   "language": "python",
   "name": "python3"
  },
  "language_info": {
   "codemirror_mode": {
    "name": "ipython",
    "version": 3
   },
   "file_extension": ".py",
   "mimetype": "text/x-python",
   "name": "python",
   "nbconvert_exporter": "python",
   "pygments_lexer": "ipython3",
   "version": "3.10.4"
  }
 },
 "nbformat": 4,
 "nbformat_minor": 5
}
