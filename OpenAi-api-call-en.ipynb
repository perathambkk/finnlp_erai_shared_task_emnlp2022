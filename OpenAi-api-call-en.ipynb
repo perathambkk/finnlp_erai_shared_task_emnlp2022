{
 "cells": [
  {
   "cell_type": "code",
   "execution_count": 9,
   "id": "42abd6be-6e69-4e85-9bd6-bb3ad08fdc58",
   "metadata": {},
   "outputs": [],
   "source": [
    "import json\n",
    "import time\n",
    "\n",
    "import openai"
   ]
  },
  {
   "cell_type": "code",
   "execution_count": null,
   "id": "cb4a00ad-41b3-46c4-b450-ccd6530f6183",
   "metadata": {},
   "outputs": [],
   "source": [
    "openai.api_key = \"Your Key Here\" "
   ]
  },
  {
   "cell_type": "code",
   "execution_count": 2,
   "id": "1eebd7e0-c217-4f5d-95a6-d0a4edf10bbc",
   "metadata": {},
   "outputs": [],
   "source": [
    "with open('prompts-en/openai_prompts_42.json', 'r') as f:\n",
    "    prompts = json.load(f)"
   ]
  },
  {
   "cell_type": "code",
   "execution_count": 4,
   "id": "a2904fb0-4a1f-4add-9aaf-daed0cd75ae5",
   "metadata": {},
   "outputs": [],
   "source": [
    "responses = []"
   ]
  },
  {
   "cell_type": "code",
   "execution_count": 10,
   "id": "cde77108-f582-4c84-9af9-98fe4f8aaa41",
   "metadata": {},
   "outputs": [
    {
     "name": "stdout",
     "output_type": "stream",
     "text": [
      "37\n",
      "38\n",
      "39\n",
      "40\n",
      "41\n",
      "42\n",
      "43\n",
      "44\n",
      "45\n",
      "46\n",
      "47\n",
      "48\n",
      "49\n",
      "50\n",
      "51\n",
      "52\n",
      "53\n",
      "54\n",
      "55\n",
      "56\n",
      "57\n",
      "58\n",
      "59\n",
      "60\n",
      "61\n",
      "62\n",
      "63\n",
      "64\n",
      "65\n",
      "66\n",
      "67\n",
      "68\n",
      "69\n",
      "70\n",
      "71\n",
      "72\n",
      "73\n",
      "74\n",
      "75\n",
      "76\n",
      "77\n",
      "78\n",
      "79\n",
      "80\n",
      "81\n",
      "82\n",
      "83\n",
      "84\n",
      "85\n",
      "86\n",
      "87\n",
      "88\n",
      "89\n",
      "90\n",
      "91\n",
      "92\n",
      "93\n",
      "94\n",
      "95\n",
      "96\n",
      "97\n",
      "98\n",
      "99\n",
      "100\n",
      "101\n",
      "102\n",
      "103\n",
      "104\n",
      "105\n",
      "106\n",
      "107\n",
      "108\n",
      "109\n",
      "110\n",
      "111\n",
      "112\n",
      "113\n",
      "114\n",
      "115\n",
      "116\n",
      "117\n",
      "118\n",
      "119\n",
      "120\n",
      "121\n",
      "122\n",
      "123\n"
     ]
    }
   ],
   "source": [
    "for i, p in enumerate(prompts):\n",
    "    print(i)\n",
    "    response = openai.Completion.create(\n",
    "            model=\"text-davinci-002\",\n",
    "            prompt=p['prompt'],\n",
    "            temperature=0.7,\n",
    "            max_tokens=24,\n",
    "            stop=\"</s>\"\n",
    "        )\n",
    "    time.sleep(2)\n",
    "    res = {'index':p['index'],'r':response}\n",
    "    responses.append(res)"
   ]
  },
  {
   "cell_type": "code",
   "execution_count": 16,
   "id": "2f61dc14-987a-4c06-a88f-40139266379c",
   "metadata": {},
   "outputs": [],
   "source": [
    "with open('prompts-en/openai_prompts_42_res.json','w') as f:\n",
    "    json.dump(responses, f)"
   ]
  },
  {
   "cell_type": "code",
   "execution_count": null,
   "id": "65ef5579-38d8-4837-abec-e5da79ed3183",
   "metadata": {},
   "outputs": [],
   "source": []
  }
 ],
 "metadata": {
  "kernelspec": {
   "display_name": "Python 3 (ipykernel)",
   "language": "python",
   "name": "python3"
  },
  "language_info": {
   "codemirror_mode": {
    "name": "ipython",
    "version": 3
   },
   "file_extension": ".py",
   "mimetype": "text/x-python",
   "name": "python",
   "nbconvert_exporter": "python",
   "pygments_lexer": "ipython3",
   "version": "3.10.4"
  }
 },
 "nbformat": 4,
 "nbformat_minor": 5
}
