{
 "cells": [
  {
   "cell_type": "code",
   "execution_count": 1,
   "id": "c4796d2b-c4be-4a9e-ba3d-404071f51c54",
   "metadata": {},
   "outputs": [],
   "source": [
    "import json"
   ]
  },
  {
   "cell_type": "code",
   "execution_count": 2,
   "id": "7fc6711c-fd04-4845-9ae2-3a6e676fa67b",
   "metadata": {},
   "outputs": [],
   "source": [
    "with open('postprocess/ERAI_pairwise_[TEAM_NAME]_[Submission ID].json','r') as f:\n",
    "    tdata = json.load(f)"
   ]
  },
  {
   "cell_type": "code",
   "execution_count": 3,
   "id": "37c38d32-4404-42e8-b2a3-73d4f95b2b9a",
   "metadata": {},
   "outputs": [],
   "source": [
    "with open('prompts-en/openai_prompts_42_res.json','r') as fp:\n",
    "    data = json.load(fp)"
   ]
  },
  {
   "cell_type": "code",
   "execution_count": 4,
   "id": "10fd924b-a428-407b-908b-fe15e9d5f182",
   "metadata": {},
   "outputs": [
    {
     "data": {
      "text/plain": [
       "{'index': 400,\n",
       " 'r': {'id': 'cmpl-5nYxNUgyUHDVmBMNt6Em42gGOfVCF',\n",
       "  'object': 'text_completion',\n",
       "  'created': 1662494129,\n",
       "  'model': 'text-davinci-002',\n",
       "  'choices': [{'text': ' 1# maximal loss (ML)| 0',\n",
       "    'index': 0,\n",
       "    'logprobs': None,\n",
       "    'finish_reason': 'stop'}],\n",
       "  'usage': {'prompt_tokens': 3953,\n",
       "   'completion_tokens': 8,\n",
       "   'total_tokens': 3961}}}"
      ]
     },
     "execution_count": 4,
     "metadata": {},
     "output_type": "execute_result"
    }
   ],
   "source": [
    "data[0]"
   ]
  },
  {
   "cell_type": "code",
   "execution_count": 5,
   "id": "b06bb9c5-36a4-4d69-8414-97096c58a912",
   "metadata": {},
   "outputs": [
    {
     "data": {
      "text/plain": [
       "{'index': 400,\n",
       " 'post1': '這一兩天穩穩地走，感覺不錯！\\n 雖然失去攤平的機會，但是虧損穩定變少，也可以多留點現金在身旁。\\n －－－－－－－－－－－－－－－－\\n \\n 補一下營收，月減12%',\n",
       " 'post2': '神達:代子公司Silver Star Developments Ltd.公告董事會決議股利分派情形\\n 1.董事會決議日期:108/11/18\\n 2.發放股利種類及金額:\\n Silver Star Developments Ltd.\\n 現金股利：美金17,000,000元\\n \\n Silver Star Developments 好像專門在買/賣 SYNNEX CORPORATION 股票\\n 2018年有賣,有進 ....\\n 2019年倒沒看到進出\\n 不過真好野 ....股利1700萬美刀 ...換成台幣是5.1e....如果是100%持有的子公司\\n 大概可以貢獻 0.47元\\n 樂觀一點大概eps可以看到3\\n 所以股價30~33應該是合理的',\n",
       " 'post1_en': 'I walked steadily these two days and felt good!\\n Although losing the opportunity to flatten, but the loss of losses and stability, you can also leave more cash beside you.\\n ——————————————————————————————————————————————————————————\\n \\n Make up the revenue, a monthly decrease of 12%',\n",
       " 'post2_en': \"Shenda: Daizi Silver Star Developments LTD. Announcement of the Board of Direct\\n 1. Board resolution date: 108/11/18\\n 2. Distribution types and amounts:\\n Silver Star Developments LTD.\\n Cash dividend: US $ 17,000,000 yuan\\n \\n Silver Star Developments seems to be buying/selling Synnex Corporation stocks\\n Sell \\u200b\\u200bin 2018, there is advancement ...\\n I didn't see it in and out in 2019\\n But it's so good .... The dividend of 17 million dollars ... the replacement of Taiwan dollars is 5.1E .... If it is a subsidiary of 100%held\\n It can contribute 0.47 yuan\\n Optimistic about EPS, you can see 3\\n So the stock price 30 ~ 33 should be reasonable\",\n",
       " 'MPP_prediction': 0,\n",
       " 'ML_prediction': 0}"
      ]
     },
     "execution_count": 5,
     "metadata": {},
     "output_type": "execute_result"
    }
   ],
   "source": [
    "tdata[0]"
   ]
  },
  {
   "cell_type": "code",
   "execution_count": 6,
   "id": "6e444b91-42cc-4387-ac61-e2886f62773e",
   "metadata": {},
   "outputs": [],
   "source": [
    "import regex\n",
    "def convert_to_MPP_ML(text):\n",
    "    # ptr = r'\\bmaximal potential profit \\(MPP\\) : (\\d) maximal loss \\(ML\\) : (\\d)'\n",
    "    ptr = r'\\D+(\\d)\\D+(\\d)\\D*'\n",
    "    pattern = regex.compile(ptr)\n",
    "    r = pattern.findall(text)\n",
    "    return r"
   ]
  },
  {
   "cell_type": "code",
   "execution_count": 7,
   "id": "14e721a9-6e2f-4167-97d0-c117f02f7602",
   "metadata": {},
   "outputs": [],
   "source": [
    "preds = [convert_to_MPP_ML(t['r']['choices'][0]['text']) for t in data]"
   ]
  },
  {
   "cell_type": "code",
   "execution_count": 8,
   "id": "4c323a63-f462-43b7-a65c-7179de358e09",
   "metadata": {},
   "outputs": [
    {
     "data": {
      "text/plain": [
       "[('1', '1')]"
      ]
     },
     "execution_count": 8,
     "metadata": {},
     "output_type": "execute_result"
    }
   ],
   "source": [
    "preds[1]"
   ]
  },
  {
   "cell_type": "code",
   "execution_count": 9,
   "id": "4f8e7244-7de1-4c34-84d4-0b62b70de990",
   "metadata": {},
   "outputs": [
    {
     "data": {
      "text/plain": [
       "{'index': 512,\n",
       " 'r': {'id': 'cmpl-5nZ0fqvppptnJZ2WQ45ZitH5F5s6i',\n",
       "  'object': 'text_completion',\n",
       "  'created': 1662494333,\n",
       "  'model': 'text-davinci-002',\n",
       "  'choices': [{'text': ' 0# maximal loss (ML)| 1',\n",
       "    'index': 0,\n",
       "    'logprobs': None,\n",
       "    'finish_reason': 'stop'}],\n",
       "  'usage': {'prompt_tokens': 3978,\n",
       "   'completion_tokens': 8,\n",
       "   'total_tokens': 3986}}}"
      ]
     },
     "execution_count": 9,
     "metadata": {},
     "output_type": "execute_result"
    }
   ],
   "source": [
    "data[-31]"
   ]
  },
  {
   "cell_type": "code",
   "execution_count": 10,
   "id": "c1ff2dcf-b56a-4661-acf3-94db3dbdb0a7",
   "metadata": {},
   "outputs": [],
   "source": [
    "for i in range(len(tdata)):\n",
    "    tdata[i]['MPP_prediction'], tdata[i]['ML_prediction'] = int(preds[i][0][0]), int(preds[i][0][1])"
   ]
  },
  {
   "cell_type": "code",
   "execution_count": 11,
   "id": "d0fb41dc-e077-4731-8a84-0dffa3298d16",
   "metadata": {},
   "outputs": [],
   "source": [
    "sub_name = 'davinci-002-en'\n",
    "with open('postprocess/submissions/{}.json'.format(sub_name),'w')as f:\n",
    "    json.dump(tdata, f)"
   ]
  },
  {
   "cell_type": "code",
   "execution_count": 12,
   "id": "dbe2c851-f5bd-4fe7-88eb-05c484f163f1",
   "metadata": {},
   "outputs": [
    {
     "data": {
      "text/plain": [
       "[[('1', '0')],\n",
       " [('1', '1')],\n",
       " [('0', '1')],\n",
       " [('1', '1')],\n",
       " [('1', '1')],\n",
       " [('0', '1')],\n",
       " [('0', '1')],\n",
       " [('1', '1')],\n",
       " [('1', '0')],\n",
       " [('1', '1')],\n",
       " [('1', '1')],\n",
       " [('1', '0')],\n",
       " [('0', '1')],\n",
       " [('1', '0')],\n",
       " [('1', '0')],\n",
       " [('1', '0')],\n",
       " [('1', '1')],\n",
       " [('1', '1')],\n",
       " [('0', '1')],\n",
       " [('1', '0')],\n",
       " [('1', '1')],\n",
       " [('1', '1')],\n",
       " [('0', '1')],\n",
       " [('0', '1')],\n",
       " [('1', '0')],\n",
       " [('1', '1')],\n",
       " [('1', '0')],\n",
       " [('1', '1')],\n",
       " [('1', '0')],\n",
       " [('0', '1')],\n",
       " [('1', '1')],\n",
       " [('0', '1')],\n",
       " [('0', '1')],\n",
       " [('1', '0')],\n",
       " [('0', '1')],\n",
       " [('0', '1')],\n",
       " [('0', '1')],\n",
       " [('1', '0')],\n",
       " [('1', '0')],\n",
       " [('1', '0')],\n",
       " [('0', '0')],\n",
       " [('1', '0')],\n",
       " [('1', '1')],\n",
       " [('0', '1')],\n",
       " [('1', '0')],\n",
       " [('0', '0')],\n",
       " [('1', '0')],\n",
       " [('1', '0')],\n",
       " [('1', '1')],\n",
       " [('0', '1')],\n",
       " [('1', '0')],\n",
       " [('1', '0')],\n",
       " [('1', '0')],\n",
       " [('1', '0')],\n",
       " [('1', '1')],\n",
       " [('1', '0')],\n",
       " [('0', '1')],\n",
       " [('0', '0')],\n",
       " [('1', '0')],\n",
       " [('1', '1')],\n",
       " [('1', '1')],\n",
       " [('1', '0')],\n",
       " [('1', '0')],\n",
       " [('1', '0')],\n",
       " [('0', '1')],\n",
       " [('1', '1')],\n",
       " [('1', '0')],\n",
       " [('1', '0')],\n",
       " [('0', '1')],\n",
       " [('1', '1')],\n",
       " [('0', '0')],\n",
       " [('1', '0')],\n",
       " [('0', '1')],\n",
       " [('0', '1')],\n",
       " [('1', '0')],\n",
       " [('0', '1')],\n",
       " [('1', '0')],\n",
       " [('0', '1')],\n",
       " [('1', '1')],\n",
       " [('1', '0')],\n",
       " [('1', '0')],\n",
       " [('1', '0')],\n",
       " [('1', '1')],\n",
       " [('1', '0')],\n",
       " [('0', '1')],\n",
       " [('1', '0')],\n",
       " [('1', '1')]]"
      ]
     },
     "execution_count": 12,
     "metadata": {},
     "output_type": "execute_result"
    }
   ],
   "source": [
    "preds"
   ]
  },
  {
   "cell_type": "code",
   "execution_count": null,
   "id": "570c7060-977c-4746-b422-5876bda6565a",
   "metadata": {},
   "outputs": [],
   "source": []
  }
 ],
 "metadata": {
  "kernelspec": {
   "display_name": "Python 3 (ipykernel)",
   "language": "python",
   "name": "python3"
  },
  "language_info": {
   "codemirror_mode": {
    "name": "ipython",
    "version": 3
   },
   "file_extension": ".py",
   "mimetype": "text/x-python",
   "name": "python",
   "nbconvert_exporter": "python",
   "pygments_lexer": "ipython3",
   "version": "3.10.4"
  }
 },
 "nbformat": 4,
 "nbformat_minor": 5
}
