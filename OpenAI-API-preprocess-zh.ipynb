{
 "cells": [
  {
   "cell_type": "code",
   "execution_count": 90,
   "id": "435023dd-fcab-4d31-a87b-e65fd51db707",
   "metadata": {},
   "outputs": [],
   "source": [
    "import json\n",
    "import random\n",
    "from tqdm.notebook import trange, tqdm"
   ]
  },
  {
   "cell_type": "code",
   "execution_count": 91,
   "id": "e5516ca5-009d-4850-9e08-99393fc1b165",
   "metadata": {},
   "outputs": [],
   "source": [
    "from transformers import GPT2Tokenizer\n",
    "tokenizer = GPT2Tokenizer.from_pretrained(\"gpt2\")"
   ]
  },
  {
   "cell_type": "code",
   "execution_count": 92,
   "id": "cd0b8e6b-d3cd-400f-b7ea-752c1d10ddb5",
   "metadata": {},
   "outputs": [],
   "source": [
    "with open(\"ERAI Dataset_with_translation/ERAI_Dataset_pairwise_test_with_translation.json\",\"r\") as fp:\n",
    "    tdata = json.load(fp)"
   ]
  },
  {
   "cell_type": "code",
   "execution_count": 93,
   "id": "f9153b33-1a1f-444f-88bd-88f94e3db5e2",
   "metadata": {},
   "outputs": [],
   "source": [
    "with open(\"ERAI Dataset_with_translation/ERAI_Dataset_pairwise_train_with_translation.json\",\"r\") as fp:\n",
    "    data = json.load(fp)"
   ]
  },
  {
   "cell_type": "code",
   "execution_count": 94,
   "id": "d1edab2e-0814-418f-aceb-abc5b678f0fe",
   "metadata": {},
   "outputs": [
    {
     "data": {
      "text/plain": [
       "dict_keys(['index', 'post1', 'post2', 'MPP1', 'MPP2', 'ML1', 'ML2', 'MPP_label', 'ML_label', 'post1_en', 'post2_en'])"
      ]
     },
     "execution_count": 94,
     "metadata": {},
     "output_type": "execute_result"
    }
   ],
   "source": [
    "data[0].keys()"
   ]
  },
  {
   "cell_type": "code",
   "execution_count": 95,
   "id": "eaee550e-b3d1-460c-8c23-a2788d074546",
   "metadata": {},
   "outputs": [],
   "source": [
    "texts = []\n",
    "for d in data:\n",
    "    texts.append('post1 : ' + d['post1']+' post2: ' + d['post2']+ ' > maximal potential profit (MPP)| {}# maximal loss (ML)| {}</s> '.format(d['MPP_label'], d['ML_label']))"
   ]
  },
  {
   "cell_type": "code",
   "execution_count": 96,
   "id": "1cc5b864-543a-4ccc-b39b-94356f589db6",
   "metadata": {},
   "outputs": [
    {
     "name": "stderr",
     "output_type": "stream",
     "text": [
      "Token indices sequence length is longer than the specified maximum sequence length for this model (1088 > 1024). Running this sequence through the model will result in indexing errors\n"
     ]
    }
   ],
   "source": [
    "texts_lens = []\n",
    "for t in texts:\n",
    "    tks = tokenizer(t)\n",
    "    texts_lens.append(len(tks['input_ids']))"
   ]
  },
  {
   "cell_type": "code",
   "execution_count": 97,
   "id": "31c972fa-9b4f-478e-ad54-7b7b8bcffc57",
   "metadata": {},
   "outputs": [],
   "source": [
    "def create_prompt(texts, texts_lens, q, qlen, max_len=2048, sampling_patience=3, seed=42):\n",
    "    p = \"\"\n",
    "    plen = 0\n",
    "    random.seed(seed)\n",
    "    sampling_tolerance = 0\n",
    "    to_be_sampled = list(range(len(texts)))\n",
    "    count = 0\n",
    "    while True:\n",
    "        # generate a candidate without replacement\n",
    "        cidx = random.sample(to_be_sampled, 1)\n",
    "        cidx = cidx[0]\n",
    "       \n",
    "        if texts_lens[cidx] + qlen + plen > max_len:\n",
    "            if sampling_tolerance < sampling_patience:\n",
    "                sampling_tolerance += 1\n",
    "                continue\n",
    "            else:\n",
    "                break\n",
    "                \n",
    "        p += texts[cidx]\n",
    "        plen += texts_lens[cidx]\n",
    "        count += 1\n",
    "        \n",
    "    return p + q"
   ]
  },
  {
   "cell_type": "code",
   "execution_count": 108,
   "id": "39b13d43-63ed-4c43-bf79-93477c015547",
   "metadata": {},
   "outputs": [
    {
     "data": {
      "application/vnd.jupyter.widget-view+json": {
       "model_id": "7d450dbac2e34cf4926d69d15db2b349",
       "version_major": 2,
       "version_minor": 0
      },
      "text/plain": [
       "  0%|          | 0/87 [00:00<?, ?it/s]"
      ]
     },
     "metadata": {},
     "output_type": "display_data"
    }
   ],
   "source": [
    "prompts = []\n",
    "for d in tqdm(tdata):\n",
    "    q = 'post1 : ' +d['post1']+' post2: ' + d['post2']+ ' > maximal potential profit (MPP)|'\n",
    "    q_en = d['post1_en']+' ' + d['post2_en']+ ' > maximal potential profit (MPP)|'\n",
    "    qlen = len(tokenizer(q)['input_ids'])\n",
    "    if qlen > 4000:\n",
    "        q = q[0:int(7*len(q)/16)]\n",
    "        qlen = len(tokenizer(q)['input_ids'])\n",
    "    p = create_prompt(texts, texts_lens, q, qlen, max_len=4000, sampling_patience=10, seed=42)\n",
    "    prompts.append({'index':d['index'],'q':q,'q_en':q_en,'prompt':p})"
   ]
  },
  {
   "cell_type": "code",
   "execution_count": null,
   "id": "c91e07ea-8eb5-472b-9f13-e312015c5c18",
   "metadata": {},
   "outputs": [],
   "source": [
    "with open('prompts/openai_prompts_42.json', 'w') as f:\n",
    "    json.dump(prompts, f)"
   ]
  },
  {
   "cell_type": "code",
   "execution_count": null,
   "id": "2cccc0a3-9ae2-4946-9a11-1ec6a4063881",
   "metadata": {},
   "outputs": [],
   "source": []
  },
  {
   "cell_type": "code",
   "execution_count": 109,
   "id": "4a45c8cd-01a3-4f81-a4b8-ec1af73bb30b",
   "metadata": {},
   "outputs": [
    {
     "data": {
      "text/plain": [
       "3203"
      ]
     },
     "execution_count": 109,
     "metadata": {},
     "output_type": "execute_result"
    }
   ],
   "source": [
    "len(tokenizer(prompts[-31]['q'])['input_ids'])"
   ]
  },
  {
   "cell_type": "code",
   "execution_count": 110,
   "id": "cd352fa8-5d63-46fa-b024-ffe4c57c986d",
   "metadata": {},
   "outputs": [
    {
     "data": {
      "text/plain": [
       "{'index': 512,\n",
       " 'post1': '生意來了，好的開始是成功的一半。\\n 都是堅持做對的事，老闆娘與老闆不一樣了。\\n \\n 神秘金字塔-股權分散表-裕隆\\n http://norway.twsthr.info/StockHolders.aspx?stock=%E8%A3%95%E9%9A%86\\n \\n 股狗網-籌碼分析-裕隆\\n https://www.stockdog.com.tw/stockdog/index.php?m=overview&sid=2201\\n \\n 淳紳與裕隆簽訂合作意向書 委請整車、電池包組裝代工\\n 鉅亨網記者劉韋廷 台北 2019年8月26號21點48分\\n 電動車廠淳紳 (4529-TW) 今 (26) 日宣布，將與裕隆汽車 (2201-TW) 簽訂合作意向書，簽訂有效期限為 3 月，擬委託裕隆進行整車及電池包組裝代工。淳紳表示，因裕隆擁有車輛製造專業技術及能力，擬委託裕隆進行整車 SKD(semi knock down)與淳紳自主開發的電池包組裝代工，將先請裕隆進行專案執行評估及試作事宜，並經雙方協商後達成初步共識，將就相關事項簽訂意向書。淳紳表示，合作意向書有效期間為 3 個月，若本專案需較長之評估過程，雙方得合意延長本意向書之期間，而意向書僅敘述雙方合作意願與共識，對於公司財務與業務並未產生影響。\\n \\n \\n 新店裕隆城 1080826工地空拍',\n",
       " 'post2': '裕隆組織大改造！納智捷董座陳國榮辭職 由裕隆總座姚振祥兼任\\n ETtoday新聞雲 記者周康玉／台北報導 2019年09月12日 17:07\\n \\n 裕隆（2201）集團旗下自有品牌納智捷（LUXGEN）銷售表現始終未見起色，裕隆今（12）日證實，納智捷董事長、同時身兼華創車電董座的陳國榮已主動辭職，為品牌表現不佳負責。裕隆表示，已慰留陳國榮華創車電董座職務，未來納智捷董座由裕隆汽車總經理姚振祥兼任；裕隆強調，同意陳國榮辭董座是基於策略轉型考量，陳國榮仍為集團重要的決策委員。\\n \\n 裕隆表示，為了落實集團汽車價值鏈轉型策略及華創車電廠辦合一，集團組織及人事進行以下調整：\\n 一. 設立「自有品牌暨開放平台整合專案室」，負責納智捷品牌及開放平台價值鏈研發、採購、製造、銷售之協調與整合。該專案室總監乙職由裕隆汽車總經理姚振祥兼任，副總監由華創車電左自生副總經理擔任。\\n 二. 另為強化溝通及運作效率，「自有品牌暨開放平台整合專案室」直接向集團決策委員會報告。另，納智捷汽車董事長一職改由裕隆汽車總經理姚振祥兼任。\\n 三. 華創車電總經理李俊忠辭任，改由副總經理黃振宏暫代華創車電總經理職務。\\n 四. 華創車電董事長陳國榮請辭，已予慰留。\\n 五. 集團總管理處與決策委員會即日起不再設置副執行長。\\n \\n 裕隆集團同時發出三大聲明：\\n 一. 為落實裕隆汽車價值鏈轉型及華創車電廠辦合一策略，裕隆集團新成立「自有品牌暨開放平台整合專案室」，統籌研發、採購、製造、銷售等價值鏈的協調整合，以落實開放平台、多元客戶之轉型策略。\\n 二. 為強化縱向溝通及管理決策效率，「自有品牌暨開放平台整合專案室」直接向集團決策委員會報告，未來廠辦合一在三義，該新設專案室總監將由裕隆汽車姚振祥總經理兼任，副總監由華創車電副總經理左自生擔任。而為進一步強化溝通效率，姚振祥將兼任台灣納智捷董事長，原董事長陳國榮卸任，同時華創車電總經理李俊忠請辭，改由副總經理黃振宏暫代。\\n 三. 轉型策略需要更好的橫向及縱向溝通效率，考量組織扁平化能提昇溝通效率，故不再設置副執行長職位。\\n \\n \\n 【獨家】震撼！裕隆集團副執行長陳國榮 請辭華創及納智捷董座\\n 蘋果日報 出版時間：2019/09/12 18:09\\n https://tw.appledaily.com/new/realtime/20190912/1632413/\\n 裕隆（2201）集團自有品牌納智捷（LUXGEN）表現不如預期，具品牌研發大腦地位的華創車電將進行辦公室大規模遷移，同時推出優離優退方案，根據《蘋果新聞網》掌握資訊，華創董事長陳國榮及總經理李俊忠為表負責，也於日前提出辭呈。\\n \\n 陳國榮身為集團5人決策委員會成員，據了解，除請辭華創董事長，亦同步辭去納智捷董事長職務。\\n \\n 而在消息傳出後不久，裕隆於今日下班前也發出組織及人事調整共5點公告，公告內容除宣布納智捷董事長一職將由原來的陳國榮，改為裕隆現任總經理姚振祥兼任；也同步公告李俊忠辭任後，將改由副總黃振宏暫代原職務，至於陳國榮雖也請辭華創董座職務，不過集團予以慰留。\\n \\n 值得注意的是，伴隨集團目前積極進行「集團汽車價值鏈轉型策略」，裕隆這波組織及人事調整公告中也宣布，集團總管理處與決策委員會自即日起不再設置副執行長。\\n \\n 也就是說在這波組織調整當中，陳國榮除辭去納智捷董事長職務，同時也將卸下集團副執行長的位置。\\n \\n 據相關人士透露，會有這樣的決定，主要是執行長嚴陳莉蓮上任後，有鑑於集團牽涉事業體龐大，為落實專業分工，嚴陳希望可更強化專業經理人集團共治分工的組織管理模式，不希望將單一決策的重擔都壓在一個人的身上。\\n \\n 相關人士表示，因此除她仍持續以執行長身份為集團決策委員會5人小組成員之外，事實上，未來她更傾向於「共議制」，避免集團成為「一言堂」。\\n \\n 除相關人事調整，裕隆今也公告設立「自有品牌暨開放平台整合專案室」，主要將負責納智捷品牌及開放平台價值鏈研發、採購、製造、銷售之協調與整合。\\n \\n 根據公告，該專案室總監由姚振祥兼任，副總監則由華創車電副總經理左自生擔任。為強化溝通及運作效率，公告指出，「自有品牌暨開放平台整合專案室」將直接向集團決策委員會報告。\\n \\n 若再加上姚振祥也將接掌納智捷董座職務，隨著姚振祥身兼「自有品牌暨開放平台整合專案室」總監、納智捷董事長，以及裕隆總經理的三個重要職務，亦顯示未來裕隆集團自有品牌後續發展之路上，姚振祥將扮演相當吃重的角色。\\n \\n 對於今日集團的公告，裕隆稍後也說明，成立「自有品牌暨開放平台整合專案室」，主要有助於落實開放平台、多元客戶之轉型策略。而為了強化縱向溝通及管理決策效率，專案室直接向集團決策委員會報告，未來廠辦合一將一樣設在三義。\\n \\n 至於集團不再設副執行長職務，裕隆表示，轉型策略需要更好的橫向及縱向溝通效率，考量組織扁平化能提昇溝通效率，故不再設置副執行長職位。\\n \\n 事實上，上周《蘋果新聞網》曾獨家揭露身為納智捷研發大腦的華創車電，在新店發出一紙公告，宣布公司規劃「廠辦合一」，擬將原工作地點在新店與大園的同仁，全數遷往苗栗三義廠，且作為配套，華創也另發出「優惠退休（職）辦法」（優離優退），申請時間自9月9日開始至9月20日下午5時截止，並於總經理核准日之次日開始生效，最晚不超過10月1日。\\n \\n 也就是說，員工在看到通知後，這個月20日以前就得決定是否接受轉往三義廠工作，否則也可選擇優離或優退，一旦決定離開公司，則最晚9月底就必須離職。\\n \\n 由於納智捷所有車款製造研發主要都是來自於華創，華創可說是納智捷的主要骨幹，過去裕隆長期投注龐大資金，支持華創包括在引擎、底盤及車電等技術研發，不過，隨著納智捷在兩岸銷售未如預期，也使得集團對於華創乃至裕隆製造廠有了新的想法與策略。\\n \\n 華創公告將大規模遷移，同時亦釋出優離優退辦法，公司也將針對高階主管、按照不同職務進行減薪，相較於過去裕隆投入龐大資金在華創，這些動作也都被市場解讀為集團執行長嚴陳莉蓮上任後，決定開始對納智捷出手整頓。\\n \\n 若再看今天裕隆的組織及人事調整，市場直言「這不只是出手，而是下重手整頓了！」從認列虧損、華創搬遷，再加上高階主管人事地震，對於這一系列的變化，法人認為，短期內對裕隆來說陣痛難免，但是長期看法仍傾向於正面。\\n \\n 不過，在華創公告辦公室搬遷並同步推出優離優退配套後，由於員工必須在這個月20日之前就作出決定，目前也有內部員工認為決定的時間太短，呼籲公司可延長決定的時間。（陳慜蔚／台北報導）\\n \\n 預賞會前先偷跑，納智捷 URX 內裝照第一手搶先看！\\n 2019/09/12 11:32 自由時報 文／記者陳英傑\\n https://auto.ltn.com.tw/news/13547/2\\n 納智捷以突襲的方式，選在 9 月 16 日星期一舉辦全新物種車款 URX 的媒體預賞會，不過在這之前，URX 的內裝照片已先在網路上曝光！\\n \\n 來自網友提供的 URX 內裝照，可以發現 URX 的前座內裝已經完全與先前的納智捷截然不同，取消駕駛座儀表板，中控則有直立式 12 吋觸碰螢幕，前座冷氣出風口則是從駕駛門板一路延伸到副駕駛門板，提供更好的冷氣出風效率。\\n \\n 全新的內裝設計，URX 正式取消傳統儀表板。\\n \\n 許多功能都整合到 12 吋直立式螢幕裡，不過空調功能部分都還是採實體鋼琴式按鍵。另外也可看到 Keyless，皮革面積也因為取消傳統儀表板後，加大許多。\\n \\n 方向盤也全新設計，讓人耳目一新，採 D 型賽車方向盤設計，方向盤兩邊都有完整的快撥鍵。不過在這張照片上，似乎沒看到換檔撥片。\\n \\n URX 預計下週一舉辦台灣媒體預賞會。\\n \\n URX 採 5+2 七人座設定，預計會採用 1.8 升渦輪引擎，軸距 2,720mm，並且將是納智捷首款搭載 ACC 智慧定速的車款，更詳細的 URX 資訊，都有望在下週一的預賞會一次公布。\\n \\n 新店裕隆城1080911工地空拍',\n",
       " 'post1_en': \"The business is coming, and the good start is half the success of success.\\n They all insist on doing the right thing. The boss is different from the boss.\\n \\n Mysterious Pyramid-Equity Disclosure-Yulong\\n http://norway.twsthr.info/stockholders.aspx?stock=%E8%95%E9%9A%86\\n \\n Stock Dog Network-Blog analysis-Yulong\\n https://www.stockdog.com.tw/stockdog/index.php?M = OverView & SID = 2201\\n \\n Chun Shen and Yulong signed a letter of intent for cooperation to invite the vehicle and battery packaging to assemble foundry\\n Reporter Liu Weiting, Taipei, August 26, 2019, 21:48, 2019\\n Electric Vehicle Factory Chunshen (4529-TW) announced today (26) that it will sign a letter of intent to cooperate with Yulong Automobile (2201-TW) to sign the validity period in March, and it is intended to entrust Yulong to carry out the foundry for OEM. Chun Shen said that due to Yulong's professional and technical and capabilities in vehicle manufacturing, it is intended to entrust Yulong to carry out the battery packaging foundry developed by Jun Shen and Chun Shen. After negotiation between the two parties reached a preliminary consensus, the letter of intent will be signed on the relevant matters.Chun Shen said that the cooperation intent will be valid for 3 months. If the project needs a longer evaluation process, the two parties may be deliberately extended the period of this intent. influences.\\n \\n \\n New Store Yulong City 1080826 construction site empty shot\",\n",
       " 'post2_en': 'Yulong Organization\\'s great transformation! Chen Guorong, who is the Dong seat of Nazhijie, resigned by Yulongchang Yao Zhenxiang as concurrently\\n ETTODAY News Cloud Reporter Zhou Kangyu / Taipei Report September 12, 2019 17:07\\n \\n Yulong (2201) Group\\'s own brand Luxgen\\'s sales performance has never been improved. Yulong today (12) confirmed that Chen Guorong, chairman of Nazhijie, and Chen Guorong, who is also in Huachen Vehicle and Electricity, has taken the initiative to resign. , Responsible for the brand\\'s poor performance.Yulong said that Chen Guorong Hua Chuang Vehicle Director\\'s position has been comforted. In the future, Nazhijie Dongzheng will be concurrently held by Yao Zhenxiang, general manager of Yulong Automobile; Yulong emphasizes that Chen Guorong resignation is based on strategic transformation considerations. Member.\\n \\n Yulong said that in order to implement the group\\'s automotive value chain transformation strategy and the Huachuang Motor Power Plant Office, the group organization and personnel have adjusted the following adjustments:\\n one.Establish a \"self -owned brand and open platform integration project room\", which is responsible for the coordination and integration of the value chain R & D, procurement, manufacturing, and sales of the Nazhijie brand and open platform value chain. The director of the project office is also the general manager of Yulong Automobile Yao Zhenxiang, and the deputy director is the deputy general manager of Huaccho Electric Zuo Zisheng.\\n 2. In order to strengthen communication and operational efficiency, the \"own brand and open platform integration project room\" directly report to the group decision -making committee. In addition, the chairman of the Nazhijie Automobile is also the general manager of Yulong Motor Yao Zhenxiang.\\n 3. Li Junzhong, general manager of Huachuang Motor Electric, resigned, and changed the position of deputy general manager Huang Zhenhong temporarily on behalf of Huachuang\\'s general manager.\\n Four.Chen Guorong, chairman of Huachen Vehicle and Electricity, resigned and had been comforted.\\n 5. The Group\\'s General Management Office and the decision -making committee will no longer set up deputy executives.\\n \\n Yulong Group issued three major statements at the same time:\\n I. In order to implement the transformation of Yulong Motor Value Chain and the strategy of the Huachuang Motor Power Plant, Yulong Group newly established the \"self -owned brand and open platform integration project room\" to coordinate and integrate the research and development, procurement, manufacturing, and sales of value chains. In order to implement the transformation strategy of open platforms and multiple customers.\\n two.In order to strengthen the efficiency of vertical communication and management decision -making, the \"own brand and open platform integration project room\" directly report to the group decision -making committee. Zuo Zisheng, deputy general manager of Huading Motor Electricity. In order to further strengthen the efficiency of communication, Yao Zhenxiang will also serve as chairman of Taiwan\\'s Nazhijie. The former chairman Chen Guorong stepped down. At the same time, Li Junzhong, general manager of Huachen Motor Electric, resigned, and was temporarily replaced by deputy general manager Huang Zhenhong.\\n three.The transformation strategy requires better horizontal and vertical communication efficiency. Considering the flatness of the organization can improve communication efficiency, so no deputy executive positions are not set up.\\n \\n \\n [Exclusive] Shock! Chen Guorong, deputy chief executive of Yulong Group, resigned from Hua Chuang and Nazhijie.\\n Apple Daily Publishing Time: 2019/09/12 18:09\\n https: //tw.appleDaily.com/new/realTime/20190912/1632413/\\n Yulong (2201) Group\\'s own brand Luxgen is not as good as expected. Huachuang Vehicle and Electric, which has brain status, will be relocated to the office. At the same time In terms of information, Chen Guorong, chairman of Huading, and Li Junzhong, general manager, were responsible for the table, and also resigned a few days ago.\\n \\n Chen Guorong, as a member of the group\\'s five -person decision -making committee, is understood that in addition to the chairman of Huahua Chuang, he also resigned as Chairman of Nazhijie.Shortly after the news came out, Yulong also issued a total of 5 o\\'clock announcements of organization and personnel adjustment before get off work today. In addition to the announcement of the announcement of the chairman of Nazhijie, the original Chen Guorong will be changed to Yao Zhenxiang, the current general manager of Yulong; After the synchronous announcement of Li Junzhong resigned, he will be temporarily replaced by the deputy president Huang Zhenhong. As for Chen Guorong, he also resigned from Hua Chuang\\'s position, but the group was comforted.\\n \\n It is worth noting that with the Group\\'s current active \"group car value chain transformation strategy\", the Yulong Organization and Personnel Adjustment Announcement also announced that the Group\\'s General Management Office and the Decision Committee will no longer set up Deputy CEOs from now on.In other words, in the adjustment of this wave of organizations, Chen Guorong resigned from chairman of Nazhijie, and will also remove the position of the deputy chief executive of the group.\\n \\n According to relevant sources, there will be such a decision, mainly because the CEO Yan Chen Lilian took office, in view of the group involving the group\\'s huge, in order to implement the professional division of labor, Yan Chen hopes to strengthen the organizational management model of the group governing the division of labor. Do not want to press the burden of a single decision on a person.Relevant sources said that in addition to her continued as a member of the group decision -making committee as the CEO, in fact, in fact, in the future, she is more inclined to \"co -discussion\" and avoid the group from becoming a \"one word.\"\\n \\n In addition to the relevant personnel adjustment, Yulong also announced the establishment of the \"own brand and open platform integration project room\", which will mainly be responsible for the coordination and integration of the value chain of the Nazhijie brand and the open platform value chain.\\n \\n According to the announcement, the director of the project office was also held by Yao Zhenxiang, while the deputy director was the deputy general manager of Huachen Motor Electric, Zuo Zisheng.In order to strengthen communication and operational efficiency, the announcement pointed out that the \"own brand and open platform integration project room\" will directly report to the group decision -making committee.\\n \\n If you add Yao Zhenxiang, you will also take over the position of Na Zhijie. With the three important positions of Yao Zhenxiang and the director of the \"own brand and the open platform integration project room\", the chairman of Nazhijie, and the general manager of Yulong, In the future, Yao Zhenxiang will play a very heavy role in the future development of Yulong Group\\'s own brand.Regarding the announcement of today\\'s Group, Yulong also explained later that the establishment of the \"own brand and open platform integration project room\" mainly helps to implement the transformation strategy of open platforms and multiple customers. In order to strengthen the efficiency of vertical communication and management decision -making, the task room directly reported to the group decision -making committee that in the future, the Factory Office will be set up in Sanyi.\\n \\n As for the group\\'s no longer set up deputy executives, Yulong said that the transformation strategy requires better horizontal and vertical communication efficiency. Considering the flattening of the organization can improve the communication efficiency, so the deputy executive positions are no longer set up.In fact, last week, \"Apple News Network\" once exclusively revealed that as a China Vehicle Electric, which was developed as Nazhijie\\'s brain, issued a paper announcement in the new store, announcing the company\\'s planning \"factory office unite\", and planned to put the original work place in the new store in the new store. With the colleagues of Dayuan, all moved to Miaoli Sanyi Factory, and as a supporting facilities, Huachen also issued another \"preferential retirement (employment) method\" (Youli Yiyou). The application time starts from September 9th to the afternoon of September 20th The 5 o\\'clock, and the day after the general manager approved, it started to take effect, at the latest not exceeding October 1.In other words, after seeing the notice, employees must decide whether to accept the transfer to the Sanyi Factory before the 20th, otherwise they can also choose to leave or retire. Essence\\n \\n Since all the manufacturing research and development of Nazhijie\\'s models is mainly from Huaichuang, Huachuang can be said to be the main backbone of Nazhijie. In the past, Yulon has long betting on huge funds. However, as Nazhijie\\'s sales on both sides of the strait are not expected, the group has new ideas and strategies for Hua Chuang and even Yulon Manufacturing Factory.Huachuang Announcement will migrate on a large scale, and at the same time, the Youli Youyou Retirement Method will also be released. The company will also reduce salaries for high -level supervisors and according to different positions. Compared with the past, Yulong invested huge funds in China. These actions have also been in the market. After the interpretation of the group chief of the group Yan Chen Lilian, he decided to start rectifying Nazhijie.If you look at the organization and personnel adjustment of Yulong today, the market bluntly stated that \"this is not just a shot, but a heavy hand!\" Change, the legal person believes that it is inevitable for Yulong in the short term, but long -term views still tend to be positive.\\n \\n However, after the relocation of the Huachuang Announcement Office and launching the Youli Youyou supporting facilities, the employees must make a decision before the 20th of this month. At present, there are also internal employees that the decision is too short, and it is called on the company to extend the decision.(Chen Yanwei / Taipei report)\\n \\n Steal before the pre -reward meeting, and look at the first hand in Nazhijie URX in the first hand!\\n 2019/09/12 11:32 Free Times/reporter Chen Yingjie\\n https://auto.ltn.com.TW/News/13547/2\\n In the way of raid, Nazhijie chose a media pre -reward meeting on September 16 to hold a new species of vehicles URX, but before that, URX\\'s interior photos were exposed on the Internet!\\n \\n From the URX interior photos provided by netizens, it can be found that the front seat interior of the URX is completely different from the previous Nazhijie. The driver\\'s dashboard is canceled. It extends from driving door panel to the co -pilot door panel to provide better air -conditioning efficiency.\\n \\n With a new interior design, URX officially canceled the traditional instrument board.Many functions are integrated into the 12 -inch upright screen, but the air -conditioning function part is still a real piano -type button. In addition, you can also see Keyless, and the leather area has increased a lot after canceling the traditional instrument board.\\n \\n The steering wheel is also newly designed, which is refreshing. The steering wheel design of the D -type car is designed. There are complete fast -dial keys on both sides of the steering wheel. However, in this photo, I didn\\'t seem to see the shift paddles.\\n \\n URX is expected to hold a Taiwan media pre -rewards next Monday.\\n \\n URX adopts 5+2 seven -seater settings, and is expected to use 1. 1.The 8 -liter turbine engine, the wheelbase is 2,720mm, and it will be the first model of Nazhijie with ACC smart fixed speed. More detailed URX information is expected to be announced at the pre -reward meeting next Monday.\\n \\n New Store Yulong City 1080911 construction site empty shot'}"
      ]
     },
     "execution_count": 110,
     "metadata": {},
     "output_type": "execute_result"
    }
   ],
   "source": [
    "tdata[-31]"
   ]
  },
  {
   "cell_type": "code",
   "execution_count": null,
   "id": "eb6c1a60-b6dc-4d86-8fae-5b041cf0cc1b",
   "metadata": {},
   "outputs": [],
   "source": []
  },
  {
   "cell_type": "code",
   "execution_count": 111,
   "id": "4aa925ba-4ee9-4465-909e-905b78c4a637",
   "metadata": {},
   "outputs": [
    {
     "data": {
      "text/plain": [
       "861"
      ]
     },
     "execution_count": 111,
     "metadata": {},
     "output_type": "execute_result"
    }
   ],
   "source": [
    "len(tokenizer(tdata[-31]['post1'])['input_ids'])"
   ]
  },
  {
   "cell_type": "code",
   "execution_count": 112,
   "id": "c7f4181c-a68c-4a8a-b7c7-86f1f5a69550",
   "metadata": {},
   "outputs": [
    {
     "data": {
      "text/plain": [
       "6828"
      ]
     },
     "execution_count": 112,
     "metadata": {},
     "output_type": "execute_result"
    }
   ],
   "source": [
    "len(tokenizer(tdata[-31]['post2'])['input_ids'])"
   ]
  },
  {
   "cell_type": "code",
   "execution_count": 119,
   "id": "de5ac138-4751-4263-b2fe-02b9447a4816",
   "metadata": {},
   "outputs": [
    {
     "data": {
      "text/plain": [
       "{'index': 512,\n",
       " 'q': 'post1 : 生意來了，好的開始是成功的一半。\\n 都是堅持做對的事，老闆娘與老闆不一樣了。\\n \\n 神秘金字塔-股權分散表-裕隆\\n http://norway.twsthr.info/StockHolders.aspx?stock=%E8%A3%95%E9%9A%86\\n \\n 股狗網-籌碼分析-裕隆\\n https://www.stockdog.com.tw/stockdog/index.php?m=overview&sid=2201\\n \\n 淳紳與裕隆簽訂合作意向書 委請整車、電池包組裝代工\\n 鉅亨網記者劉韋廷 台北 2019年8月26號21點48分\\n 電動車廠淳紳 (4529-TW) 今 (26) 日宣布，將與裕隆汽車 (2201-TW) 簽訂合作意向書，簽訂有效期限為 3 月，擬委託裕隆進行整車及電池包組裝代工。淳紳表示，因裕隆擁有車輛製造專業技術及能力，擬委託裕隆進行整車 SKD(semi knock down)與淳紳自主開發的電池包組裝代工，將先請裕隆進行專案執行評估及試作事宜，並經雙方協商後達成初步共識，將就相關事項簽訂意向書。淳紳表示，合作意向書有效期間為 3 個月，若本專案需較長之評估過程，雙方得合意延長本意向書之期間，而意向書僅敘述雙方合作意願與共識，對於公司財務與業務並未產生影響。\\n \\n \\n 新店裕隆城 1080826工地空拍 post2: 裕隆組織大改造！納智捷董座陳國榮辭職 由裕隆總座姚振祥兼任\\n ETtoday新聞雲 記者周康玉／台北報導 2019年09月12日 17:07\\n \\n 裕隆（2201）集團旗下自有品牌納智捷（LUXGEN）銷售表現始終未見起色，裕隆今（12）日證實，納智捷董事長、同時身兼華創車電董座的陳國榮已主動辭職，為品牌表現不佳負責。裕隆表示，已慰留陳國榮華創車電董座職務，未來納智捷董座由裕隆汽車總經理姚振祥兼任；裕隆強調，同意陳國榮辭董座是基於策略轉型考量，陳國榮仍為集團重要的決策委員。\\n \\n 裕隆表示，為了落實集團汽車價值鏈轉型策略及華創車電廠辦合一，集團組織及人事進行以下調整：\\n 一. 設立「自有品牌暨開放平台整合專案室」，負責納智捷品牌及開放平台價值鏈研發、採購、製造、銷售之協調與整合。該專案室總監乙職由裕隆汽車總經理姚振祥兼任，副總監由華創車電左自生副總經理擔任。\\n 二. 另為強化溝通及運作效率，「自有品牌暨開放平台整合專案室」直接向集團決策委員會報告。另，納智捷汽車董事長一職改由裕隆汽車總經理姚振祥兼任。\\n 三. 華創車電總經理李俊忠辭任，改由副總經理黃振宏暫代華創車電總經理職務。\\n 四. 華創車電董事長陳國榮請辭，已予慰留。\\n 五. 集團總管理處與決策委員會即日起不再設置副執行長。\\n \\n 裕隆集團同時發出三大聲明：\\n 一. 為落實裕隆汽車價值鏈轉型及華創車電廠辦合一策略，裕隆集團新成立「自有品牌暨開放平台整合專案室」，統籌研發、採購、製造、銷售等價值鏈的協調整合，以落實開放平台、多元客戶之轉型策略。\\n 二. 為強化縱向溝通及管理決策效率，「自有品牌暨開放平台整合專案室」直接向集團決策委員會報告，未來廠辦合一在三義，該新設專案室總監將由裕隆汽車姚振祥總經理兼任，副總監由華創車電副總經理左自生擔任。而為進一步強化溝通效率，姚振祥將兼任台灣納智捷董事長，原董事長陳國榮卸任，同時華創車電總經理李俊忠請辭，改由副總經理黃振宏暫代。\\n 三. 轉型策略需要更好的橫向及縱向溝通效率，考量組織扁平化能提昇溝通效率，故不再設置副執行長職位。\\n \\n \\n 【獨家】震撼！裕隆集團副執行長陳國榮 請辭華創及納智捷董座\\n 蘋果日報 出版時間：2019/09/12 18:09\\n https://tw.appledaily.com/new/realtime/20190912/1632413/\\n 裕隆（2201）集團自有品牌納智捷（LUXGEN）表現不如預期，具品牌研發大腦地位的華創車電將進行辦公室大規模遷移，同時推出優離優退方案，根據《蘋果新聞網》掌握資訊，華創董事長陳國榮及總經理李俊忠為表負責，也於日前提出辭呈。\\n \\n 陳國榮身為集團5人決策',\n",
       " 'q_en': 'The business is coming, and the good start is half the success of success.\\n They all insist on doing the right thing. The boss is different from the boss.\\n \\n Mysterious Pyramid-Equity Disclosure-Yulong\\n http://norway.twsthr.info/stockholders.aspx?stock=%E8%95%E9%9A%86\\n \\n Stock Dog Network-Blog analysis-Yulong\\n https://www.stockdog.com.tw/stockdog/index.php?M = OverView & SID = 2201\\n \\n Chun Shen and Yulong signed a letter of intent for cooperation to invite the vehicle and battery packaging to assemble foundry\\n Reporter Liu Weiting, Taipei, August 26, 2019, 21:48, 2019\\n Electric Vehicle Factory Chunshen (4529-TW) announced today (26) that it will sign a letter of intent to cooperate with Yulong Automobile (2201-TW) to sign the validity period in March, and it is intended to entrust Yulong to carry out the foundry for OEM. Chun Shen said that due to Yulong\\'s professional and technical and capabilities in vehicle manufacturing, it is intended to entrust Yulong to carry out the battery packaging foundry developed by Jun Shen and Chun Shen. After negotiation between the two parties reached a preliminary consensus, the letter of intent will be signed on the relevant matters.Chun Shen said that the cooperation intent will be valid for 3 months. If the project needs a longer evaluation process, the two parties may be deliberately extended the period of this intent. influences.\\n \\n \\n New Store Yulong City 1080826 construction site empty shot Yulong Organization\\'s great transformation! Chen Guorong, who is the Dong seat of Nazhijie, resigned by Yulongchang Yao Zhenxiang as concurrently\\n ETTODAY News Cloud Reporter Zhou Kangyu / Taipei Report September 12, 2019 17:07\\n \\n Yulong (2201) Group\\'s own brand Luxgen\\'s sales performance has never been improved. Yulong today (12) confirmed that Chen Guorong, chairman of Nazhijie, and Chen Guorong, who is also in Huachen Vehicle and Electricity, has taken the initiative to resign. , Responsible for the brand\\'s poor performance.Yulong said that Chen Guorong Hua Chuang Vehicle Director\\'s position has been comforted. In the future, Nazhijie Dongzheng will be concurrently held by Yao Zhenxiang, general manager of Yulong Automobile; Yulong emphasizes that Chen Guorong resignation is based on strategic transformation considerations. Member.\\n \\n Yulong said that in order to implement the group\\'s automotive value chain transformation strategy and the Huachuang Motor Power Plant Office, the group organization and personnel have adjusted the following adjustments:\\n one.Establish a \"self -owned brand and open platform integration project room\", which is responsible for the coordination and integration of the value chain R & D, procurement, manufacturing, and sales of the Nazhijie brand and open platform value chain. The director of the project office is also the general manager of Yulong Automobile Yao Zhenxiang, and the deputy director is the deputy general manager of Huaccho Electric Zuo Zisheng.\\n 2. In order to strengthen communication and operational efficiency, the \"own brand and open platform integration project room\" directly report to the group decision -making committee. In addition, the chairman of the Nazhijie Automobile is also the general manager of Yulong Motor Yao Zhenxiang.\\n 3. Li Junzhong, general manager of Huachuang Motor Electric, resigned, and changed the position of deputy general manager Huang Zhenhong temporarily on behalf of Huachuang\\'s general manager.\\n Four.Chen Guorong, chairman of Huachen Vehicle and Electricity, resigned and had been comforted.\\n 5. The Group\\'s General Management Office and the decision -making committee will no longer set up deputy executives.\\n \\n Yulong Group issued three major statements at the same time:\\n I. In order to implement the transformation of Yulong Motor Value Chain and the strategy of the Huachuang Motor Power Plant, Yulong Group newly established the \"self -owned brand and open platform integration project room\" to coordinate and integrate the research and development, procurement, manufacturing, and sales of value chains. In order to implement the transformation strategy of open platforms and multiple customers.\\n two.In order to strengthen the efficiency of vertical communication and management decision -making, the \"own brand and open platform integration project room\" directly report to the group decision -making committee. Zuo Zisheng, deputy general manager of Huading Motor Electricity. In order to further strengthen the efficiency of communication, Yao Zhenxiang will also serve as chairman of Taiwan\\'s Nazhijie. The former chairman Chen Guorong stepped down. At the same time, Li Junzhong, general manager of Huachen Motor Electric, resigned, and was temporarily replaced by deputy general manager Huang Zhenhong.\\n three.The transformation strategy requires better horizontal and vertical communication efficiency. Considering the flatness of the organization can improve communication efficiency, so no deputy executive positions are not set up.\\n \\n \\n [Exclusive] Shock! Chen Guorong, deputy chief executive of Yulong Group, resigned from Hua Chuang and Nazhijie.\\n Apple Daily Publishing Time: 2019/09/12 18:09\\n https: //tw.appleDaily.com/new/realTime/20190912/1632413/\\n Yulong (2201) Group\\'s own brand Luxgen is not as good as expected. Huachuang Vehicle and Electric, which has brain status, will be relocated to the office. At the same time In terms of information, Chen Guorong, chairman of Huading, and Li Junzhong, general manager, were responsible for the table, and also resigned a few days ago.\\n \\n Chen Guorong, as a member of the group\\'s five -person decision -making committee, is understood that in addition to the chairman of Huahua Chuang, he also resigned as Chairman of Nazhijie.Shortly after the news came out, Yulong also issued a total of 5 o\\'clock announcements of organization and personnel adjustment before get off work today. In addition to the announcement of the announcement of the chairman of Nazhijie, the original Chen Guorong will be changed to Yao Zhenxiang, the current general manager of Yulong; After the synchronous announcement of Li Junzhong resigned, he will be temporarily replaced by the deputy president Huang Zhenhong. As for Chen Guorong, he also resigned from Hua Chuang\\'s position, but the group was comforted.\\n \\n It is worth noting that with the Group\\'s current active \"group car value chain transformation strategy\", the Yulong Organization and Personnel Adjustment Announcement also announced that the Group\\'s General Management Office and the Decision Committee will no longer set up Deputy CEOs from now on.In other words, in the adjustment of this wave of organizations, Chen Guorong resigned from chairman of Nazhijie, and will also remove the position of the deputy chief executive of the group.\\n \\n According to relevant sources, there will be such a decision, mainly because the CEO Yan Chen Lilian took office, in view of the group involving the group\\'s huge, in order to implement the professional division of labor, Yan Chen hopes to strengthen the organizational management model of the group governing the division of labor. Do not want to press the burden of a single decision on a person.Relevant sources said that in addition to her continued as a member of the group decision -making committee as the CEO, in fact, in fact, in the future, she is more inclined to \"co -discussion\" and avoid the group from becoming a \"one word.\"\\n \\n In addition to the relevant personnel adjustment, Yulong also announced the establishment of the \"own brand and open platform integration project room\", which will mainly be responsible for the coordination and integration of the value chain of the Nazhijie brand and the open platform value chain.\\n \\n According to the announcement, the director of the project office was also held by Yao Zhenxiang, while the deputy director was the deputy general manager of Huachen Motor Electric, Zuo Zisheng.In order to strengthen communication and operational efficiency, the announcement pointed out that the \"own brand and open platform integration project room\" will directly report to the group decision -making committee.\\n \\n If you add Yao Zhenxiang, you will also take over the position of Na Zhijie. With the three important positions of Yao Zhenxiang and the director of the \"own brand and the open platform integration project room\", the chairman of Nazhijie, and the general manager of Yulong, In the future, Yao Zhenxiang will play a very heavy role in the future development of Yulong Group\\'s own brand.Regarding the announcement of today\\'s Group, Yulong also explained later that the establishment of the \"own brand and open platform integration project room\" mainly helps to implement the transformation strategy of open platforms and multiple customers. In order to strengthen the efficiency of vertical communication and management decision -making, the task room directly reported to the group decision -making committee that in the future, the Factory Office will be set up in Sanyi.\\n \\n As for the group\\'s no longer set up deputy executives, Yulong said that the transformation strategy requires better horizontal and vertical communication efficiency. Considering the flattening of the organization can improve the communication efficiency, so the deputy executive positions are no longer set up.In fact, last week, \"Apple News Network\" once exclusively revealed that as a China Vehicle Electric, which was developed as Nazhijie\\'s brain, issued a paper announcement in the new store, announcing the company\\'s planning \"factory office unite\", and planned to put the original work place in the new store in the new store. With the colleagues of Dayuan, all moved to Miaoli Sanyi Factory, and as a supporting facilities, Huachen also issued another \"preferential retirement (employment) method\" (Youli Yiyou). The application time starts from September 9th to the afternoon of September 20th The 5 o\\'clock, and the day after the general manager approved, it started to take effect, at the latest not exceeding October 1.In other words, after seeing the notice, employees must decide whether to accept the transfer to the Sanyi Factory before the 20th, otherwise they can also choose to leave or retire. Essence\\n \\n Since all the manufacturing research and development of Nazhijie\\'s models is mainly from Huaichuang, Huachuang can be said to be the main backbone of Nazhijie. In the past, Yulon has long betting on huge funds. However, as Nazhijie\\'s sales on both sides of the strait are not expected, the group has new ideas and strategies for Hua Chuang and even Yulon Manufacturing Factory.Huachuang Announcement will migrate on a large scale, and at the same time, the Youli Youyou Retirement Method will also be released. The company will also reduce salaries for high -level supervisors and according to different positions. Compared with the past, Yulong invested huge funds in China. These actions have also been in the market. After the interpretation of the group chief of the group Yan Chen Lilian, he decided to start rectifying Nazhijie.If you look at the organization and personnel adjustment of Yulong today, the market bluntly stated that \"this is not just a shot, but a heavy hand!\" Change, the legal person believes that it is inevitable for Yulong in the short term, but long -term views still tend to be positive.\\n \\n However, after the relocation of the Huachuang Announcement Office and launching the Youli Youyou supporting facilities, the employees must make a decision before the 20th of this month. At present, there are also internal employees that the decision is too short, and it is called on the company to extend the decision.(Chen Yanwei / Taipei report)\\n \\n Steal before the pre -reward meeting, and look at the first hand in Nazhijie URX in the first hand!\\n 2019/09/12 11:32 Free Times/reporter Chen Yingjie\\n https://auto.ltn.com.TW/News/13547/2\\n In the way of raid, Nazhijie chose a media pre -reward meeting on September 16 to hold a new species of vehicles URX, but before that, URX\\'s interior photos were exposed on the Internet!\\n \\n From the URX interior photos provided by netizens, it can be found that the front seat interior of the URX is completely different from the previous Nazhijie. The driver\\'s dashboard is canceled. It extends from driving door panel to the co -pilot door panel to provide better air -conditioning efficiency.\\n \\n With a new interior design, URX officially canceled the traditional instrument board.Many functions are integrated into the 12 -inch upright screen, but the air -conditioning function part is still a real piano -type button. In addition, you can also see Keyless, and the leather area has increased a lot after canceling the traditional instrument board.\\n \\n The steering wheel is also newly designed, which is refreshing. The steering wheel design of the D -type car is designed. There are complete fast -dial keys on both sides of the steering wheel. However, in this photo, I didn\\'t seem to see the shift paddles.\\n \\n URX is expected to hold a Taiwan media pre -rewards next Monday.\\n \\n URX adopts 5+2 seven -seater settings, and is expected to use 1. 1.The 8 -liter turbine engine, the wheelbase is 2,720mm, and it will be the first model of Nazhijie with ACC smart fixed speed. More detailed URX information is expected to be announced at the pre -reward meeting next Monday.\\n \\n New Store Yulong City 1080911 construction site empty shot > maximal potential profit (MPP)|',\n",
       " 'prompt': 'post1 : 明後天漲停……夢到的 post2: Hotel部分似乎已經默默營業了\\n 但是疫情影響 有多少人去住還未知\\n \\n 題外話\\n 基泰這間公司的行銷真的很不行耶\\n 管理部門不打算花點錢妝點一下新大樓嗎 > maximal potential profit (MPP)| 1# maximal loss (ML)| 0</s> post1 : 這是一間好公司，我保險買他們家，股票也是，配股配息都有，連價差也有小賺過哈哈，持續支持 post2: 以今日金融股表現普普,漲跌互見,中壽的表現算很強勢,要壓回低補的可能性不高,我200張是已經脫離成本區1元以上,勝券在握,所以決定要參加後天的除息權. > maximal potential profit (MPP)| 1# maximal loss (ML)| 0</s> post1 : 公布了 台中銀第一季稅前0.33 稅後0.27 比去年第一季成長12%左右\\n \\n 好像普通 但是股價今天下跌? 是比大家預期的差嗎?\\n \\n 奇怪? post2: 台中銀被停止國際聯貸不知會有多大影響。 > maximal potential profit (MPP)| 1# maximal loss (ML)| 0</s> post1 : 目前沒人看好 post2: 小和實在威，不過早已出清等不到22接受 > maximal potential profit (MPP)| 0# maximal loss (ML)| 1</s> post1 : 生意來了，好的開始是成功的一半。\\n 都是堅持做對的事，老闆娘與老闆不一樣了。\\n \\n 神秘金字塔-股權分散表-裕隆\\n http://norway.twsthr.info/StockHolders.aspx?stock=%E8%A3%95%E9%9A%86\\n \\n 股狗網-籌碼分析-裕隆\\n https://www.stockdog.com.tw/stockdog/index.php?m=overview&sid=2201\\n \\n 淳紳與裕隆簽訂合作意向書 委請整車、電池包組裝代工\\n 鉅亨網記者劉韋廷 台北 2019年8月26號21點48分\\n 電動車廠淳紳 (4529-TW) 今 (26) 日宣布，將與裕隆汽車 (2201-TW) 簽訂合作意向書，簽訂有效期限為 3 月，擬委託裕隆進行整車及電池包組裝代工。淳紳表示，因裕隆擁有車輛製造專業技術及能力，擬委託裕隆進行整車 SKD(semi knock down)與淳紳自主開發的電池包組裝代工，將先請裕隆進行專案執行評估及試作事宜，並經雙方協商後達成初步共識，將就相關事項簽訂意向書。淳紳表示，合作意向書有效期間為 3 個月，若本專案需較長之評估過程，雙方得合意延長本意向書之期間，而意向書僅敘述雙方合作意願與共識，對於公司財務與業務並未產生影響。\\n \\n \\n 新店裕隆城 1080826工地空拍 post2: 裕隆組織大改造！納智捷董座陳國榮辭職 由裕隆總座姚振祥兼任\\n ETtoday新聞雲 記者周康玉／台北報導 2019年09月12日 17:07\\n \\n 裕隆（2201）集團旗下自有品牌納智捷（LUXGEN）銷售表現始終未見起色，裕隆今（12）日證實，納智捷董事長、同時身兼華創車電董座的陳國榮已主動辭職，為品牌表現不佳負責。裕隆表示，已慰留陳國榮華創車電董座職務，未來納智捷董座由裕隆汽車總經理姚振祥兼任；裕隆強調，同意陳國榮辭董座是基於策略轉型考量，陳國榮仍為集團重要的決策委員。\\n \\n 裕隆表示，為了落實集團汽車價值鏈轉型策略及華創車電廠辦合一，集團組織及人事進行以下調整：\\n 一. 設立「自有品牌暨開放平台整合專案室」，負責納智捷品牌及開放平台價值鏈研發、採購、製造、銷售之協調與整合。該專案室總監乙職由裕隆汽車總經理姚振祥兼任，副總監由華創車電左自生副總經理擔任。\\n 二. 另為強化溝通及運作效率，「自有品牌暨開放平台整合專案室」直接向集團決策委員會報告。另，納智捷汽車董事長一職改由裕隆汽車總經理姚振祥兼任。\\n 三. 華創車電總經理李俊忠辭任，改由副總經理黃振宏暫代華創車電總經理職務。\\n 四. 華創車電董事長陳國榮請辭，已予慰留。\\n 五. 集團總管理處與決策委員會即日起不再設置副執行長。\\n \\n 裕隆集團同時發出三大聲明：\\n 一. 為落實裕隆汽車價值鏈轉型及華創車電廠辦合一策略，裕隆集團新成立「自有品牌暨開放平台整合專案室」，統籌研發、採購、製造、銷售等價值鏈的協調整合，以落實開放平台、多元客戶之轉型策略。\\n 二. 為強化縱向溝通及管理決策效率，「自有品牌暨開放平台整合專案室」直接向集團決策委員會報告，未來廠辦合一在三義，該新設專案室總監將由裕隆汽車姚振祥總經理兼任，副總監由華創車電副總經理左自生擔任。而為進一步強化溝通效率，姚振祥將兼任台灣納智捷董事長，原董事長陳國榮卸任，同時華創車電總經理李俊忠請辭，改由副總經理黃振宏暫代。\\n 三. 轉型策略需要更好的橫向及縱向溝通效率，考量組織扁平化能提昇溝通效率，故不再設置副執行長職位。\\n \\n \\n 【獨家】震撼！裕隆集團副執行長陳國榮 請辭華創及納智捷董座\\n 蘋果日報 出版時間：2019/09/12 18:09\\n https://tw.appledaily.com/new/realtime/20190912/1632413/\\n 裕隆（2201）集團自有品牌納智捷（LUXGEN）表現不如預期，具品牌研發大腦地位的華創車電將進行辦公室大規模遷移，同時推出優離優退方案，根據《蘋果新聞網》掌握資訊，華創董事長陳國榮及總經理李俊忠為表負責，也於日前提出辭呈。\\n \\n 陳國榮身為集團5人決策'}"
      ]
     },
     "execution_count": 119,
     "metadata": {},
     "output_type": "execute_result"
    }
   ],
   "source": [
    "prompts[-31]"
   ]
  },
  {
   "cell_type": "code",
   "execution_count": 114,
   "id": "9f5adeec-b926-481e-8084-0227e61d4d88",
   "metadata": {},
   "outputs": [
    {
     "data": {
      "text/plain": [
       "3203"
      ]
     },
     "execution_count": 114,
     "metadata": {},
     "output_type": "execute_result"
    }
   ],
   "source": [
    "len(tokenizer(prompts[56]['q'])['input_ids'])"
   ]
  },
  {
   "cell_type": "code",
   "execution_count": 115,
   "id": "4cb25793-9a93-4c19-9915-a103a8c566eb",
   "metadata": {},
   "outputs": [
    {
     "data": {
      "text/plain": [
       "'裕隆組織大改造！納智捷董座陳國榮辭職 由裕隆總座姚振祥兼任\\n ETtoday新聞雲 記者周康玉／台北報導 2019年09月12日 17:07\\n \\n 裕隆（2201）集團旗下自有品牌納智捷（LUXGEN）銷售表現始終未見起色，裕隆今（12）日證實，納智捷董事長、同時身兼華創車電董座的陳國榮已主動辭職，為品牌表現不佳負責。裕隆表示，已慰留陳國榮華創車電董座職務，未來納智捷董座由裕隆汽車總經理姚振祥兼任；裕隆強調，同意陳國榮辭董座是基於策略轉型考量，陳國榮仍為集團重要的決策委員。\\n \\n 裕隆表示，為了落實集團汽車價值鏈轉型策略及華創車電廠辦合一，集團組織及人事進行以下調整：\\n 一. 設立「自有品牌暨開放平台整合專案室」，負責納智捷品牌及開放平台價值鏈研發、採購、製造、銷售之協調與整合。該專案室總監乙職由裕隆汽車總經理姚振祥兼任，副總監由華創車電左自生副總經理擔任。\\n 二. 另為強化溝通及運作效率，「自有品牌暨開放平台整合專案室」直接向集團決策委員會報告。另，納智捷汽車董事長一職改由裕隆汽車總經理姚振祥兼任。\\n 三. 華創車電總經理李俊忠辭任，改由副總經理黃振宏暫代華創車電總經理職務。\\n 四. 華創車電董事長陳國榮請辭，已予慰留。\\n 五. 集團總管理處與決策委員會即日起不再設置副執行長。\\n \\n 裕隆集團同時發出三大聲明：\\n 一. 為落實裕隆汽車價值鏈轉型及華創車電廠辦合一策略，裕隆集團新成立「自有品牌暨開放平台整合專案室」，統籌研發、採購、製造、銷售等價值鏈的協調整合，以落實開放平台、多元客戶之轉型策略。\\n 二. 為強化縱向溝通及管理決策效率，「自有品牌暨開放平台整合專案室」直接向集團決策委員會報告，未來廠辦合一在三義，該新設專案室總監將由裕隆汽車姚振祥總經理兼任，副總監由華創車電副總經理左自生擔任。而為進一步強化溝通效率，姚振祥將兼任台灣納智捷董事長，原董事長陳國榮卸任，同時華創車電總經理李俊忠請辭，改由副總經理黃振宏暫代。\\n 三. 轉型策略需要更好的橫向及縱向溝通效率，考量組織扁平化能提昇溝通效率，故不再設置副執行長職位。\\n \\n \\n 【獨家】震撼！裕隆集團副執行長陳國榮 請辭華創及納智捷董座\\n 蘋果日報 出版時間：2019/09/12 18:09\\n https://tw.appledaily.com/new/realtime/20190912/1632413/\\n 裕隆（2201）集團自有品牌納智捷（LUXGEN）表現不如預期，具品牌研發大腦地位的華創車電將進行辦公室大規模遷移，同時推出優離優退方案，根據《蘋果新聞網》掌握資訊，華創董事長陳國榮及總經理李俊忠為表負責，也於日前提出辭呈。\\n \\n 陳國榮身為集團5人決策委員會成員，據了解，除請辭華創董事長，亦同步辭去納智捷董事長職務。\\n \\n 而在消息傳出後不久，裕隆於今日下班前也發出組織及人事調整共5點公告，公告內容除宣布納智捷董事長一職將由原來的陳國榮，改為裕隆現任總經理姚振祥兼任；也同步公告李俊忠辭任後，將改由副總黃振宏暫代原職務，至於陳國榮雖也請辭華創董座職務，不過集團予以慰留。\\n \\n 值得注意的是，伴隨集團目前積極進行「集團汽車價值鏈轉型策略」，裕隆這波組織及人事調整公告中也宣布，集團總管理處與決策委員會自即日起不再設置副執行長。\\n \\n 也就是說在這波組織調整當中，陳國榮除辭去納智捷董事長職務，同時也將卸下集團副執行長的位置。\\n \\n 據相關人士透露，會有這樣的決定，主要是執行長嚴陳莉蓮上任後，有鑑於集團牽涉事業體龐大，為落實專業分工，嚴陳希望可更強化專業經理人集團共治分工的組織管理模式，不希望將單一決策的重擔都壓在一個人的身上。\\n \\n 相關人士表示，因此除她仍持續以執行長身份為集團決策委員會5人小組成員之外，事實上，未來她更傾向於「共議制」，避免集團成為「一言堂」。\\n \\n 除相關人事調整，裕隆今也公告設立「自有品牌暨開放平台整合專案室」，主要將負責納智捷品牌及開放平台價值鏈研發、採購、製造、銷售之協調與整合。\\n \\n 根據公告，該專案室總監由姚振祥兼任，副總監則由華創車電副總經理左自生擔任。為強化溝通及運作效率，公告指出，「自有品牌暨開放平台整合專案室」將直接向集團決策委員會報告。\\n \\n 若再加上姚振祥也將接掌納智捷董座職務，隨著姚振祥身兼「自有品牌暨開放平台整合專案室」總監、納智捷董事長，以及裕隆總經理的三個重要職務，亦顯示未來裕隆集團自有品牌後續發展之路上，姚振祥將扮演相當吃重的角色。\\n \\n 對於今日集團的公告，裕隆稍後也說明，成立「自有品牌暨開放平台整合專案室」，主要有助於落實開放平台、多元客戶之轉型策略。而為了強化縱向溝通及管理決策效率，專案室直接向集團決策委員會報告，未來廠辦合一將一樣設在三義。\\n \\n 至於集團不再設副執行長職務，裕隆表示，轉型策略需要更好的橫向及縱向溝通效率，考量組織扁平化能提昇溝通效率，故不再設置副執行長職位。\\n \\n 事實上，上周《蘋果新聞網》曾獨家揭露身為納智捷研發大腦的華創車電，在新店發出一紙公告，宣布公司規劃「廠辦合一」，擬將原工作地點在新店與大園的同仁，全數遷往苗栗三義廠，且作為配套，華創也另發出「優惠退休（職）辦法」（優離優退），申請時間自9月9日開始至9月20日下午5時截止，並於總經理核准日之次日開始生效，最晚不超過10月1日。\\n \\n 也就是說，員工在看到通知後，這個月20日以前就得決定是否接受轉往三義廠工作，否則也可選擇優離或優退，一旦決定離開公司，則最晚9月底就必須離職。\\n \\n 由於納智捷所有車款製造研發主要都是來自於華創，華創可說是納智捷的主要骨幹，過去裕隆長期投注龐大資金，支持華創包括在引擎、底盤及車電等技術研發，不過，隨著納智捷在兩岸銷售未如預期，也使得集團對於華創乃至裕隆製造廠有了新的想法與策略。\\n \\n 華創公告將大規模遷移，同時亦釋出優離優退辦法，公司也將針對高階主管、按照不同職務進行減薪，相較於過去裕隆投入龐大資金在華創，這些動作也都被市場解讀為集團執行長嚴陳莉蓮上任後，決定開始對納智捷出手整頓。\\n \\n 若再看今天裕隆的組織及人事調整，市場直言「這不只是出手，而是下重手整頓了！」從認列虧損、華創搬遷，再加上高階主管人事地震，對於這一系列的變化，法人認為，短期內對裕隆來說陣痛難免，但是長期看法仍傾向於正面。\\n \\n 不過，在華創公告辦公室搬遷並同步推出優離優退配套後，由於員工必須在這個月20日之前就作出決定，目前也有內部員工認為決定的時間太短，呼籲公司可延長決定的時間。（陳慜蔚／台北報導）\\n \\n 預賞會前先偷跑，納智捷 URX 內裝照第一手搶先看！\\n 2019/09/12 11:32 自由時報 文／記者陳英傑\\n https://auto.ltn.com.tw/news/13547/2\\n 納智捷以突襲的方式，選在 9 月 16 日星期一舉辦全新物種車款 URX 的媒體預賞會，不過在這之前，URX 的內裝照片已先在網路上曝光！\\n \\n 來自網友提供的 URX 內裝照，可以發現 URX 的前座內裝已經完全與先前的納智捷截然不同，取消駕駛座儀表板，中控則有直立式 12 吋觸碰螢幕，前座冷氣出風口則是從駕駛門板一路延伸到副駕駛門板，提供更好的冷氣出風效率。\\n \\n 全新的內裝設計，URX 正式取消傳統儀表板。\\n \\n 許多功能都整合到 12 吋直立式螢幕裡，不過空調功能部分都還是採實體鋼琴式按鍵。另外也可看到 Keyless，皮革面積也因為取消傳統儀表板後，加大許多。\\n \\n 方向盤也全新設計，讓人耳目一新，採 D 型賽車方向盤設計，方向盤兩邊都有完整的快撥鍵。不過在這張照片上，似乎沒看到換檔撥片。\\n \\n URX 預計下週一舉辦台灣媒體預賞會。\\n \\n URX 採 5+2 七人座設定，預計會採用 1.8 升渦輪引擎，軸距 2,720mm，並且將是納智捷首款搭載 ACC 智慧定速的車款，更詳細的 URX 資訊，都有望在下週一的預賞會一次公布。\\n \\n 新店裕隆城1080911工地空拍'"
      ]
     },
     "execution_count": 115,
     "metadata": {},
     "output_type": "execute_result"
    }
   ],
   "source": [
    "tdata[56]['post2']"
   ]
  },
  {
   "cell_type": "code",
   "execution_count": 116,
   "id": "bc09e9e3-010b-4128-9203-992e3299b4c4",
   "metadata": {},
   "outputs": [
    {
     "data": {
      "text/plain": [
       "'生意來了，好的開始是成功的一半。\\n 都是堅持做對的事，老闆娘與老闆不一樣了。\\n \\n 神秘金字塔-股權分散表-裕隆\\n http://norway.twsthr.info/StockHolders.aspx?stock=%E8%A3%95%E9%9A%86\\n \\n 股狗網-籌碼分析-裕隆\\n https://www.stockdog.com.tw/stockdog/index.php?m=overview&sid=2201\\n \\n 淳紳與裕隆簽訂合作意向書 委請整車、電池包組裝代工\\n 鉅亨網記者劉韋廷 台北 2019年8月26號21點48分\\n 電動車廠淳紳 (4529-TW) 今 (26) 日宣布，將與裕隆汽車 (2201-TW) 簽訂合作意向書，簽訂有效期限為 3 月，擬委託裕隆進行整車及電池包組裝代工。淳紳表示，因裕隆擁有車輛製造專業技術及能力，擬委託裕隆進行整車 SKD(semi knock down)與淳紳自主開發的電池包組裝代工，將先請裕隆進行專案執行評估及試作事宜，並經雙方協商後達成初步共識，將就相關事項簽訂意向書。淳紳表示，合作意向書有效期間為 3 個月，若本專案需較長之評估過程，雙方得合意延長本意向書之期間，而意向書僅敘述雙方合作意願與共識，對於公司財務與業務並未產生影響。\\n \\n \\n 新店裕隆城 1080826工地空拍'"
      ]
     },
     "execution_count": 116,
     "metadata": {},
     "output_type": "execute_result"
    }
   ],
   "source": [
    "tdata[56]['post1']"
   ]
  },
  {
   "cell_type": "code",
   "execution_count": null,
   "id": "3b1797ac-db7e-489c-9e4a-8f00af16e966",
   "metadata": {},
   "outputs": [],
   "source": []
  },
  {
   "cell_type": "code",
   "execution_count": 117,
   "id": "b5af8132-8980-4733-94b2-094a17cf11ad",
   "metadata": {},
   "outputs": [],
   "source": [
    "text = prompts[56]['q']"
   ]
  },
  {
   "cell_type": "code",
   "execution_count": 47,
   "id": "e588b16a-2d40-47d1-928b-d8dab6c2704f",
   "metadata": {},
   "outputs": [],
   "source": [
    "import re\n",
    "text = re.sub(r'^https?:\\/\\/.*[\\r\\n]*', '', text, flags=re.MULTILINE)"
   ]
  },
  {
   "cell_type": "code",
   "execution_count": 52,
   "id": "0844ab8b-fb30-4b0b-b2ac-92a3448a0746",
   "metadata": {},
   "outputs": [
    {
     "data": {
      "text/plain": [
       "7600"
      ]
     },
     "execution_count": 52,
     "metadata": {},
     "output_type": "execute_result"
    }
   ],
   "source": [
    "len(tokenizer(text)['input_ids'])"
   ]
  },
  {
   "cell_type": "code",
   "execution_count": 50,
   "id": "7507299e-1b67-47ad-bb8f-578bed99b441",
   "metadata": {},
   "outputs": [],
   "source": [
    "text = re.sub(r'http\\S+', '', text)"
   ]
  },
  {
   "cell_type": "code",
   "execution_count": 51,
   "id": "db99b902-b6f3-4dbb-8b70-0cd1ddc5b59d",
   "metadata": {},
   "outputs": [
    {
     "data": {
      "text/plain": [
       "'生意來了，好的開始是成功的一半。\\n 都是堅持做對的事，老闆娘與老闆不一樣了。\\n \\n 神秘金字塔-股權分散表-裕隆\\n \\n \\n 股狗網-籌碼分析-裕隆\\n \\n \\n 淳紳與裕隆簽訂合作意向書 委請整車、電池包組裝代工\\n 鉅亨網記者劉韋廷 台北 2019年8月26號21點48分\\n 電動車廠淳紳 (4529-TW) 今 (26) 日宣布，將與裕隆汽車 (2201-TW) 簽訂合作意向書，簽訂有效期限為 3 月，擬委託裕隆進行整車及電池包組裝代工。淳紳表示，因裕隆擁有車輛製造專業技術及能力，擬委託裕隆進行整車 SKD(semi knock down)與淳紳自主開發的電池包組裝代工，將先請裕隆進行專案執行評估及試作事宜，並經雙方協商後達成初步共識，將就相關事項簽訂意向書。淳紳表示，合作意向書有效期間為 3 個月，若本專案需較長之評估過程，雙方得合意延長本意向書之期間，而意向書僅敘述雙方合作意願與共識，對於公司財務與業務並未產生影響。\\n \\n \\n 新店裕隆城 1080826工地空拍 裕隆組織大改造！納智捷董座陳國榮辭職 由裕隆總座姚振祥兼任\\n ETtoday新聞雲 記者周康玉／台北報導 2019年09月12日 17:07\\n \\n 裕隆（2201）集團旗下自有品牌納智捷（LUXGEN）銷售表現始終未見起色，裕隆今（12）日證實，納智捷董事長、同時身兼華創車電董座的陳國榮已主動辭職，為品牌表現不佳負責。裕隆表示，已慰留陳國榮華創車電董座職務，未來納智捷董座由裕隆汽車總經理姚振祥兼任；裕隆強調，同意陳國榮辭董座是基於策略轉型考量，陳國榮仍為集團重要的決策委員。\\n \\n 裕隆表示，為了落實集團汽車價值鏈轉型策略及華創車電廠辦合一，集團組織及人事進行以下調整：\\n 一. 設立「自有品牌暨開放平台整合專案室」，負責納智捷品牌及開放平台價值鏈研發、採購、製造、銷售之協調與整合。該專案室總監乙職由裕隆汽車總經理姚振祥兼任，副總監由華創車電左自生副總經理擔任。\\n 二. 另為強化溝通及運作效率，「自有品牌暨開放平台整合專案室」直接向集團決策委員會報告。另，納智捷汽車董事長一職改由裕隆汽車總經理姚振祥兼任。\\n 三. 華創車電總經理李俊忠辭任，改由副總經理黃振宏暫代華創車電總經理職務。\\n 四. 華創車電董事長陳國榮請辭，已予慰留。\\n 五. 集團總管理處與決策委員會即日起不再設置副執行長。\\n \\n 裕隆集團同時發出三大聲明：\\n 一. 為落實裕隆汽車價值鏈轉型及華創車電廠辦合一策略，裕隆集團新成立「自有品牌暨開放平台整合專案室」，統籌研發、採購、製造、銷售等價值鏈的協調整合，以落實開放平台、多元客戶之轉型策略。\\n 二. 為強化縱向溝通及管理決策效率，「自有品牌暨開放平台整合專案室」直接向集團決策委員會報告，未來廠辦合一在三義，該新設專案室總監將由裕隆汽車姚振祥總經理兼任，副總監由華創車電副總經理左自生擔任。而為進一步強化溝通效率，姚振祥將兼任台灣納智捷董事長，原董事長陳國榮卸任，同時華創車電總經理李俊忠請辭，改由副總經理黃振宏暫代。\\n 三. 轉型策略需要更好的橫向及縱向溝通效率，考量組織扁平化能提昇溝通效率，故不再設置副執行長職位。\\n \\n \\n 【獨家】震撼！裕隆集團副執行長陳國榮 請辭華創及納智捷董座\\n 蘋果日報 出版時間：2019/09/12 18:09\\n \\n 裕隆（2201）集團自有品牌納智捷（LUXGEN）表現不如預期，具品牌研發大腦地位的華創車電將進行辦公室大規模遷移，同時推出優離優退方案，根據《蘋果新聞網》掌握資訊，華創董事長陳國榮及總經理李俊忠為表負責，也於日前提出辭呈。\\n \\n 陳國榮身為集團5人決策委員會成員，據了解，除請辭華創董事長，亦同步辭去納智捷董事長職務。\\n \\n 而在消息傳出後不久，裕隆於今日下班前也發出組織及人事調整共5點公告，公告內容除宣布納智捷董事長一職將由原來的陳國榮，改為裕隆現任總經理姚振祥兼任；也同步公告李俊忠辭任後，將改由副總黃振宏暫代原職務，至於陳國榮雖也請辭華創董座職務，不過集團予以慰留。\\n \\n 值得注意的是，伴隨集團目前積極進行「集團汽車價值鏈轉型策略」，裕隆這波組織及人事調整公告中也宣布，集團總管理處與決策委員會自即日起不再設置副執行長。\\n \\n 也就是說在這波組織調整當中，陳國榮除辭去納智捷董事長職務，同時也將卸下集團副執行長的位置。\\n \\n 據相關人士透露，會有這樣的決定，主要是執行長嚴陳莉蓮上任後，有鑑於集團牽涉事業體龐大，為落實專業分工，嚴陳希望可更強化專業經理人集團共治分工的組織管理模式，不希望將單一決策的重擔都壓在一個人的身上。\\n \\n 相關人士表示，因此除她仍持續以執行長身份為集團決策委員會5人小組成員之外，事實上，未來她更傾向於「共議制」，避免集團成為「一言堂」。\\n \\n 除相關人事調整，裕隆今也公告設立「自有品牌暨開放平台整合專案室」，主要將負責納智捷品牌及開放平台價值鏈研發、採購、製造、銷售之協調與整合。\\n \\n 根據公告，該專案室總監由姚振祥兼任，副總監則由華創車電副總經理左自生擔任。為強化溝通及運作效率，公告指出，「自有品牌暨開放平台整合專案室」將直接向集團決策委員會報告。\\n \\n 若再加上姚振祥也將接掌納智捷董座職務，隨著姚振祥身兼「自有品牌暨開放平台整合專案室」總監、納智捷董事長，以及裕隆總經理的三個重要職務，亦顯示未來裕隆集團自有品牌後續發展之路上，姚振祥將扮演相當吃重的角色。\\n \\n 對於今日集團的公告，裕隆稍後也說明，成立「自有品牌暨開放平台整合專案室」，主要有助於落實開放平台、多元客戶之轉型策略。而為了強化縱向溝通及管理決策效率，專案室直接向集團決策委員會報告，未來廠辦合一將一樣設在三義。\\n \\n 至於集團不再設副執行長職務，裕隆表示，轉型策略需要更好的橫向及縱向溝通效率，考量組織扁平化能提昇溝通效率，故不再設置副執行長職位。\\n \\n 事實上，上周《蘋果新聞網》曾獨家揭露身為納智捷研發大腦的華創車電，在新店發出一紙公告，宣布公司規劃「廠辦合一」，擬將原工作地點在新店與大園的同仁，全數遷往苗栗三義廠，且作為配套，華創也另發出「優惠退休（職）辦法」（優離優退），申請時間自9月9日開始至9月20日下午5時截止，並於總經理核准日之次日開始生效，最晚不超過10月1日。\\n \\n 也就是說，員工在看到通知後，這個月20日以前就得決定是否接受轉往三義廠工作，否則也可選擇優離或優退，一旦決定離開公司，則最晚9月底就必須離職。\\n \\n 由於納智捷所有車款製造研發主要都是來自於華創，華創可說是納智捷的主要骨幹，過去裕隆長期投注龐大資金，支持華創包括在引擎、底盤及車電等技術研發，不過，隨著納智捷在兩岸銷售未如預期，也使得集團對於華創乃至裕隆製造廠有了新的想法與策略。\\n \\n 華創公告將大規模遷移，同時亦釋出優離優退辦法，公司也將針對高階主管、按照不同職務進行減薪，相較於過去裕隆投入龐大資金在華創，這些動作也都被市場解讀為集團執行長嚴陳莉蓮上任後，決定開始對納智捷出手整頓。\\n \\n 若再看今天裕隆的組織及人事調整，市場直言「這不只是出手，而是下重手整頓了！」從認列虧損、華創搬遷，再加上高階主管人事地震，對於這一系列的變化，法人認為，短期內對裕隆來說陣痛難免，但是長期看法仍傾向於正面。\\n \\n 不過，在華創公告辦公室搬遷並同步推出優離優退配套後，由於員工必須在這個月20日之前就作出決定，目前也有內部員工認為決定的時間太短，呼籲公司可延長決定的時間。（陳慜蔚／台北報導）\\n \\n 預賞會前先偷跑，納智捷 URX 內裝照第一手搶先看！\\n 2019/09/12 11:32 自由時報 文／記者陳英傑\\n \\n 納智捷以突襲的方式，選在 9 月 16 日星期一舉辦全新物種車款 URX 的媒體預賞會，不過在這之前，URX 的內裝照片已先在網路上曝光！\\n \\n 來自網友提供的 URX 內裝照，可以發現 URX 的前座內裝已經完全與先前的納智捷截然不同，取消駕駛座儀表板，中控則有直立式 12 吋觸碰螢幕，前座冷氣出風口則是從駕駛門板一路延伸到副駕駛門板，提供更好的冷氣出風效率。\\n \\n 全新的內裝設計，URX 正式取消傳統儀表板。\\n \\n 許多功能都整合到 12 吋直立式螢幕裡，不過空調功能部分都還是採實體鋼琴式按鍵。另外也可看到 Keyless，皮革面積也因為取消傳統儀表板後，加大許多。\\n \\n 方向盤也全新設計，讓人耳目一新，採 D 型賽車方向盤設計，方向盤兩邊都有完整的快撥鍵。不過在這張照片上，似乎沒看到換檔撥片。\\n \\n URX 預計下週一舉辦台灣媒體預賞會。\\n \\n URX 採 5+2 七人座設定，預計會採用 1.8 升渦輪引擎，軸距 2,720mm，並且將是納智捷首款搭載 ACC 智慧定速的車款，更詳細的 URX 資訊，都有望在下週一的預賞會一次公布。\\n \\n 新店裕隆城1080911工地空拍 > maximal potential profit (MPP)|'"
      ]
     },
     "execution_count": 51,
     "metadata": {},
     "output_type": "execute_result"
    }
   ],
   "source": [
    "text"
   ]
  },
  {
   "cell_type": "code",
   "execution_count": null,
   "id": "5638ee02-2b61-4812-9fe4-8011c59a4c99",
   "metadata": {},
   "outputs": [],
   "source": []
  },
  {
   "cell_type": "code",
   "execution_count": null,
   "id": "12a467e3-6e48-4be2-92db-2ee387ff640e",
   "metadata": {},
   "outputs": [],
   "source": []
  },
  {
   "cell_type": "code",
   "execution_count": 118,
   "id": "22e725e4-2096-4e1f-99ee-c2dfd60cbb84",
   "metadata": {},
   "outputs": [],
   "source": [
    "with open('prompts/openai_prompts_42.json', 'w') as f:\n",
    "    json.dump(prompts, f)"
   ]
  },
  {
   "cell_type": "code",
   "execution_count": 85,
   "id": "8d359c34-e41c-445a-affa-bb56c2475cfd",
   "metadata": {},
   "outputs": [
    {
     "data": {
      "text/plain": [
       "87"
      ]
     },
     "execution_count": 85,
     "metadata": {},
     "output_type": "execute_result"
    }
   ],
   "source": [
    "len(prompts)"
   ]
  },
  {
   "cell_type": "code",
   "execution_count": 86,
   "id": "a67b88ac-cd94-41dc-8ba1-25b46c62ce8d",
   "metadata": {},
   "outputs": [],
   "source": [
    "len_p = [len(tokenizer(p['prompt'])['input_ids']) for p in prompts]"
   ]
  },
  {
   "cell_type": "code",
   "execution_count": 87,
   "id": "088c0231-e503-4dfc-a37f-bd5bcd2f4ea3",
   "metadata": {},
   "outputs": [
    {
     "data": {
      "text/plain": [
       "3996"
      ]
     },
     "execution_count": 87,
     "metadata": {},
     "output_type": "execute_result"
    }
   ],
   "source": [
    "max(len_p)"
   ]
  },
  {
   "cell_type": "code",
   "execution_count": 88,
   "id": "a70d77f6-8cbd-4a67-917f-7273dee99f76",
   "metadata": {},
   "outputs": [
    {
     "ename": "ValueError",
     "evalue": "7698 is not in list",
     "output_type": "error",
     "traceback": [
      "\u001b[0;31m---------------------------------------------------------------------------\u001b[0m",
      "\u001b[0;31mValueError\u001b[0m                                Traceback (most recent call last)",
      "Input \u001b[0;32mIn [88]\u001b[0m, in \u001b[0;36m<cell line: 1>\u001b[0;34m()\u001b[0m\n\u001b[0;32m----> 1\u001b[0m \u001b[43mlen_p\u001b[49m\u001b[38;5;241;43m.\u001b[39;49m\u001b[43mindex\u001b[49m\u001b[43m(\u001b[49m\u001b[38;5;241;43m7698\u001b[39;49m\u001b[43m)\u001b[49m\n",
      "\u001b[0;31mValueError\u001b[0m: 7698 is not in list"
     ]
    }
   ],
   "source": [
    "len_p.index(7698)"
   ]
  },
  {
   "cell_type": "code",
   "execution_count": 89,
   "id": "207fd4cc-4ec2-499a-8437-aed5b6238b61",
   "metadata": {},
   "outputs": [
    {
     "data": {
      "text/plain": [
       "3814"
      ]
     },
     "execution_count": 89,
     "metadata": {},
     "output_type": "execute_result"
    }
   ],
   "source": [
    "min(len_p)"
   ]
  },
  {
   "cell_type": "code",
   "execution_count": 36,
   "id": "b9a50cc7-b462-420f-b93b-bb3c1a3a1334",
   "metadata": {},
   "outputs": [
    {
     "data": {
      "text/plain": [
       "87"
      ]
     },
     "execution_count": 36,
     "metadata": {},
     "output_type": "execute_result"
    }
   ],
   "source": [
    "len(tdata)"
   ]
  },
  {
   "cell_type": "code",
   "execution_count": 37,
   "id": "d11d87f0-b03e-4832-bbb2-ca4047ef6fc9",
   "metadata": {},
   "outputs": [
    {
     "data": {
      "text/plain": [
       "[3991,\n",
       " 3988,\n",
       " 3939,\n",
       " 3917,\n",
       " 3851,\n",
       " 3856,\n",
       " 3945,\n",
       " 3996,\n",
       " 3920,\n",
       " 3877,\n",
       " 3934,\n",
       " 3979,\n",
       " 3978,\n",
       " 3935,\n",
       " 3929,\n",
       " 3837,\n",
       " 3991,\n",
       " 3939,\n",
       " 3992,\n",
       " 3894,\n",
       " 3915,\n",
       " 3902,\n",
       " 3928,\n",
       " 3856,\n",
       " 3975,\n",
       " 3890,\n",
       " 3981,\n",
       " 3910,\n",
       " 3922,\n",
       " 3934,\n",
       " 3913,\n",
       " 3978,\n",
       " 3967,\n",
       " 3878,\n",
       " 3884,\n",
       " 3987,\n",
       " 3936,\n",
       " 3894,\n",
       " 3572,\n",
       " 3909,\n",
       " 3959,\n",
       " 3913,\n",
       " 3850,\n",
       " 3826,\n",
       " 3873,\n",
       " 3875,\n",
       " 3936,\n",
       " 3834,\n",
       " 3835,\n",
       " 3951,\n",
       " 3929,\n",
       " 3959,\n",
       " 3589,\n",
       " 3992,\n",
       " 3968,\n",
       " 3942,\n",
       " 7698,\n",
       " 3956,\n",
       " 3802,\n",
       " 3904,\n",
       " 3874,\n",
       " 3852,\n",
       " 3751,\n",
       " 3969,\n",
       " 3877,\n",
       " 3736,\n",
       " 3931,\n",
       " 3833,\n",
       " 3939,\n",
       " 3970,\n",
       " 3980,\n",
       " 3963,\n",
       " 3850,\n",
       " 3961,\n",
       " 3910,\n",
       " 3980,\n",
       " 3944,\n",
       " 3912,\n",
       " 3870,\n",
       " 3989,\n",
       " 3853,\n",
       " 3892,\n",
       " 3946,\n",
       " 3896,\n",
       " 3570,\n",
       " 3901,\n",
       " 3795]"
      ]
     },
     "execution_count": 37,
     "metadata": {},
     "output_type": "execute_result"
    }
   ],
   "source": [
    "len_p"
   ]
  },
  {
   "cell_type": "code",
   "execution_count": 15,
   "id": "9fde9de2-acdd-4707-acc9-46e304d9af3e",
   "metadata": {},
   "outputs": [
    {
     "data": {
      "text/plain": [
       "'post1 : 明後天漲停……夢到的 post2: Hotel部分似乎已經默默營業了\\n 但是疫情影響 有多少人去住還未知\\n \\n 題外話\\n 基泰這間公司的行銷真的很不行耶\\n 管理部門不打算花點錢妝點一下新大樓嗎 > maximal potential profit (MPP)| 1# maximal loss (ML)| 0</s> post1 : 關於凱基蘋果分析師郭明錤此次的報料：「郭明錤還表示，市場對 2018 年下半年蘋果新款 iPhone 採用 Hybrid 鏡頭的期待過高。市場預期新款 iPhone 除了捨棄 Dotprojector 之 WLO（AMS 供應），改採 Hybrid（玻璃與塑膠混合）鏡頭（Hoya 與亞光的玻璃鏡片加上大立光與玉晶光的塑膠鏡片）之外，還將捨棄 Infrared camera 的 4P 鏡頭（大立光與玉晶光供應），改採 Hybrid 鏡頭（AAC 提供）。但基於凱基對 2018 年下半年新款 iPhone 將準時且順暢供貨，以及 TrueDepth camera 規格無顯著升級的假設，因此認為上述市場預期的發生機會不高。」\\n 亞光被點名2018無法打入蘋果供應鍊，因蘋果擔心其產能不足，恐造成出貨不順。。\\n \\n 不知各位看法如何？ 像大立光因應鏡頭鏡片數不斷從4p,5p甚至到7p鏡片數的須求增加，甚至也能吃下其他大廠得鏡片須求，不就是有需求就大力擴廠，而獲利就節節高升。 亞光不就應付混合鏡頭1g4p或2g3p 的1至2片玻璃鏡片g的部分，這樣也沒辦法趕快擴廠增加產能嗎？\\n 這個消息正確性很高嗎？ 近期亞光股價不振似乎回應了這則預測。 那其他次品牌大陸韓國和日本手機大廠有可能對亞光下訂單嗎？ post2: 11/14\\n 「手機鏡頭方面，過去手機鏡頭大多使用塑膠鏡片，從早期三片、四片塑膠鏡片，到現在已經用到六片塑膠鏡片、甚至開始研發七片結構。雙鏡頭設計整合廣角鏡頭與長焦鏡頭、將塑膠鏡頭的功能推上新境界，但也意味塑膠鏡頭在照相功能的極限將至。為了提高變焦倍數，搭配玻璃鏡片的潛望式變焦鏡頭應運而生。\\n \\n 據悉，目前大陸手機大廠OPPO、華為對於五倍變焦潛望式鏡頭都有興趣，亞光亦積極投入五倍變焦手機潛望式鏡頭的設計與製造，現階段正與日本廠商（驅動馬達）及以色列廠商（影像處理軟體）共同合作開發，預計最快在今年底將有樣品推出。而亞光擁有每月1200萬片非球面模造玻璃鏡片產能，亦為優勢之一。」\\n \\n 這則新聞裏的「據悉」⋯說oppo , 華為 對五倍光學變焦有興趣， 是真的嗎？ 說「最快年底有樣品推出」， 可見還沒送樣。 看來與蘋果也漸行漸遠， 先前的蘋果看亞光玻璃廠的消息似乎沒達成兩公司的合作。 > maximal potential profit (MPP)| 1# maximal loss (ML)| 0</s> post1 : 這是一間好公司，我保險買他們家，股票也是，配股配息都有，連價差也有小賺過哈哈，持續支持 post2: 以今日金融股表現普普,漲跌互見,中壽的表現算很強勢,要壓回低補的可能性不高,我200張是已經脫離成本區1元以上,勝券在握,所以決定要參加後天的除息權. > maximal potential profit (MPP)| 1# maximal loss (ML)| 0</s> 業績不好,消息面也很差,向上拼高通打品牌,管銷大影響EPS獲利,向下又有展訊積極猛打,更影響毛利及業績,\\n 前途相當不看好,持續看空它~\\n \\n =======================================\\n 袁帝文轉檯展訊 槓聯發科\\n 業界傳出，先前遭聯發科提告的聯發科前手機晶片部門最高主管袁帝文，在競業禁止期滿之後，近期轉往大陸扶植的手機晶片廠展訊任職，除擔任集團副總（VP）之外，更擔任IC設計業「金頭腦」角色的研發本部總經理，成為未來展訊集團總經理接班人選呼聲高。袁帝文本人昨（15）日不回應相關傳聞。\\n 據悉，展訊除了找袁帝文擔任要職之外，也已陸續網羅來自「大小M」—聯發科、晨星合計上百位員工，「小聯發科」的勢力逐步形成，希望藉此複製「大小M」的成功經驗。聯發科是台灣IC設計龍頭，其人才陸續遭展訊等大陸業者挖角，不利我IC設計產業發展。\\n \\n 袁帝文是聯發科前無線通訊事業部總經理，曾擔任董事長蔡明介特助。他在2012年2月離職後，在競業禁止期間內，被聯發科認為離職前下載不少公司機密文件，並且轉赴競爭對手擔任顧問，讓蔡明介大動肝火。\\n \\n 聯發科去年初對袁帝文提出違反營業秘密和競業禁止條款等民刑事訴訟，雖然刑事部分被新竹地檢署裁定不起訴，但智財法院民事偵察庭駁回袁帝文的抗告，雙方互有勝敗。據了解，袁帝文上個月在三年競業禁止期滿之後，正式進入展訊。\\n \\n 手機晶片供應鏈認為，展訊是聯發科在2G時代的頭號競爭對手，袁帝文又是當年聯發科在功能型手機時代稱王的戰將，如今前往展訊擔任要職，將所學功力注入新東家，有機會縮短展訊追趕聯發科的學習曲線。\\n \\n 展訊在3G時代一度發展不順，被大陸清華控股旗下紫光集團收購之後，即將轉型復出，敲定4月2日舉行新產品發表會。 今天發哥好強⋯⋯看來是沒機會加碼了 > maximal potential profit (MPP)|'"
      ]
     },
     "execution_count": 15,
     "metadata": {},
     "output_type": "execute_result"
    }
   ],
   "source": [
    "prompts[25]['prompt']"
   ]
  },
  {
   "cell_type": "code",
   "execution_count": 53,
   "id": "8f297110-9fda-49b7-9dc0-72f7123b23bc",
   "metadata": {},
   "outputs": [],
   "source": [
    "s = prompts[22]['prompt']"
   ]
  },
  {
   "cell_type": "code",
   "execution_count": 54,
   "id": "09f19f08-593e-40c8-8fce-d3008a76a011",
   "metadata": {},
   "outputs": [
    {
     "data": {
      "text/plain": [
       "'post1 : 明後天漲停……夢到的 post2: Hotel部分似乎已經默默營業了\\n 但是疫情影響 有多少人去住還未知\\n \\n 題外話\\n 基泰這間公司的行銷真的很不行耶\\n 管理部門不打算花點錢妝點一下新大樓嗎 > maximal potential profit (MPP)| 1# maximal loss (ML)| 0</s> post1 : 關於凱基蘋果分析師郭明錤此次的報料：「郭明錤還表示，市場對 2018 年下半年蘋果新款 iPhone 採用 Hybrid 鏡頭的期待過高。市場預期新款 iPhone 除了捨棄 Dotprojector 之 WLO（AMS 供應），改採 Hybrid（玻璃與塑膠混合）鏡頭（Hoya 與亞光的玻璃鏡片加上大立光與玉晶光的塑膠鏡片）之外，還將捨棄 Infrared camera 的 4P 鏡頭（大立光與玉晶光供應），改採 Hybrid 鏡頭（AAC 提供）。但基於凱基對 2018 年下半年新款 iPhone 將準時且順暢供貨，以及 TrueDepth camera 規格無顯著升級的假設，因此認為上述市場預期的發生機會不高。」\\n 亞光被點名2018無法打入蘋果供應鍊，因蘋果擔心其產能不足，恐造成出貨不順。。\\n \\n 不知各位看法如何？ 像大立光因應鏡頭鏡片數不斷從4p,5p甚至到7p鏡片數的須求增加，甚至也能吃下其他大廠得鏡片須求，不就是有需求就大力擴廠，而獲利就節節高升。 亞光不就應付混合鏡頭1g4p或2g3p 的1至2片玻璃鏡片g的部分，這樣也沒辦法趕快擴廠增加產能嗎？\\n 這個消息正確性很高嗎？ 近期亞光股價不振似乎回應了這則預測。 那其他次品牌大陸韓國和日本手機大廠有可能對亞光下訂單嗎？ post2: 11/14\\n 「手機鏡頭方面，過去手機鏡頭大多使用塑膠鏡片，從早期三片、四片塑膠鏡片，到現在已經用到六片塑膠鏡片、甚至開始研發七片結構。雙鏡頭設計整合廣角鏡頭與長焦鏡頭、將塑膠鏡頭的功能推上新境界，但也意味塑膠鏡頭在照相功能的極限將至。為了提高變焦倍數，搭配玻璃鏡片的潛望式變焦鏡頭應運而生。\\n \\n 據悉，目前大陸手機大廠OPPO、華為對於五倍變焦潛望式鏡頭都有興趣，亞光亦積極投入五倍變焦手機潛望式鏡頭的設計與製造，現階段正與日本廠商（驅動馬達）及以色列廠商（影像處理軟體）共同合作開發，預計最快在今年底將有樣品推出。而亞光擁有每月1200萬片非球面模造玻璃鏡片產能，亦為優勢之一。」\\n \\n 這則新聞裏的「據悉」⋯說oppo , 華為 對五倍光學變焦有興趣， 是真的嗎？ 說「最快年底有樣品推出」， 可見還沒送樣。 看來與蘋果也漸行漸遠， 先前的蘋果看亞光玻璃廠的消息似乎沒達成兩公司的合作。 > maximal potential profit (MPP)| 1# maximal loss (ML)| 0</s> 4G晶片驗證不如預期 聯發科明年出貨生變\\n \\n 自由時報自由時報 – 2014年12月3日 上午6:14\\n \\n 〔自由時報記者洪友芳／新竹報導〕業界傳出手機晶片大廠聯發科（2454）4G手機晶片送客戶驗證不如預期順利，恐增添明年出貨變數，供應鏈封測廠日月光（2311）、矽品（2325）、力成（6239）、京元電（2449）、矽格（6257）等，推估接單聯發科多少也會受到影響。\\n 聯發科今年營運高成長，前3季營收達1576.7億元，稅後淨利360.07億元，營收與獲利各成長逾6成；晶圓代工、封測等供應鏈廠商也同蒙其利，營運跟著受惠。不過，聯發科今年營收與獲利高成長的主要動能來自3G手機，明年4G手機晶片是否能帶動營運高成長，不無疑問。\\n 業界近期傳出高通陸續大挖聯發科在深圳子公司員工，並成功複製聯發科整體解決方案的配套服務，加上4G產品性能與價格優於聯發科，吸引中國手機客戶紛採用；聯發科4G手機晶片送客戶驗證，不如預期順利，客戶開案量比3G手機晶片少很多，這將反映在明年上半年營運上。這傳言跟聯發科日前法說會指明年上半年4G競爭壓力最大似不謀而合。\\n 聯發科下單主要封測廠包括日月光（2311）、矽品（2325）、力成（6239）、京元電（2449）、矽格（6257）等，法人推估聯發科明年在4G出貨若不如3G強勁，上述主要封測合作夥伴接單多少也會受到影響。不過，封測廠認為，目前還不知明年會不會受影響，但客戶不只聯發科1家，為了分散風險，客戶均朝多元發展，單1家占營收比重均不超過5%到10%為原則。 印度明年有望成為最炙手可熱的智慧機市場，分析師認為若想趕搭這波熱潮，投資智慧機零件廠是最佳選擇，其中頭號標的首推聯發科(2454)。部份人士更唱旺聯發科，預估明年有30%上行空間。\\n \\n Barronˋs 22日報導，Gartner預估明年印度智慧機銷量將成長兩倍，為智慧機市場的閃亮新星。匯豐(HSBC)亞洲科技研究主管Steven C. Pelayo指出，要從印度智慧機的強健需求獲利，應投資出貨印度的零件廠。他認為購入手機廠股票並非明智之舉，因為當地競爭過於激烈、壓縮毛利。各零件廠中，匯豐首選為聯發科，該公司對印度出貨估計佔今年總出貨量的10%。\\n \\n JP摩根(JPMorgan)的Alvin Kwock也極為看好聯發科，估計每股盈餘將從今年的台幣30.9元、明年升至台幣40.5元，並喊出台幣600元的目標價，等於有32%的上行空間。一般券商目標價為台幣506元，上行空間為11%。\\n \\n 摩根士丹利(Morgan Stanley)分析師Bill Lu也指出，近來賣壓使得聯發科股價相當有吸引力。 他說，聯發科當前股價約為預估盈餘的14倍，低於五年平均值的17倍；股價淨值比(P/B值)為3.1倍，也不及五年平均值的3.4倍。他認為股價已反應出現今低迷的營運環境，並稱該公司長期前景看好，中國以外市場出口熱絡，新4G產品銷售有望優於預期。\\n \\n 台北時間9點37分為止，聯發科漲0.44%至台幣457元。22日下跌0.44%收在台幣455元。\\n \\n CNBC 3日報導，IDC稱，今年第三季中國智慧機出貨量季增1%、年增11%至1.05億台，增幅低於亞洲其他地區。IDC資深市場分析師Kiranjeet Kaur表示，中國目睹了智慧機狂飆成長的最後黃金時光。\\n \\n 中國智慧機成長踩煞車，印度則熱度不減。IDC數據顯示，Q3印度智慧機出貨季增27%、年增82%至2,300萬部。目前印度7.7億手機用戶中，僅有兩成使用智慧機；電信商也積極提升一二線城市以外地區的網路覆蓋率，種種因素都有利買氣。 > maximal potential profit (MPP)|'"
      ]
     },
     "execution_count": 54,
     "metadata": {},
     "output_type": "execute_result"
    }
   ],
   "source": [
    "s"
   ]
  },
  {
   "cell_type": "code",
   "execution_count": null,
   "id": "d93512d8-228a-45e7-9e73-55c1bb11e0bc",
   "metadata": {},
   "outputs": [],
   "source": []
  },
  {
   "cell_type": "code",
   "execution_count": null,
   "id": "6c9fe1f6-2c63-4265-871c-ebc860330e96",
   "metadata": {},
   "outputs": [],
   "source": []
  },
  {
   "cell_type": "code",
   "execution_count": null,
   "id": "15f57245-867b-44fb-8ec1-6a3b08e0698a",
   "metadata": {},
   "outputs": [],
   "source": []
  }
 ],
 "metadata": {
  "kernelspec": {
   "display_name": "Python 3 (ipykernel)",
   "language": "python",
   "name": "python3"
  },
  "language_info": {
   "codemirror_mode": {
    "name": "ipython",
    "version": 3
   },
   "file_extension": ".py",
   "mimetype": "text/x-python",
   "name": "python",
   "nbconvert_exporter": "python",
   "pygments_lexer": "ipython3",
   "version": "3.10.4"
  }
 },
 "nbformat": 4,
 "nbformat_minor": 5
}
