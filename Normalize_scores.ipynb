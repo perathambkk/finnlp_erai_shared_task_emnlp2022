{
 "cells": [
  {
   "cell_type": "code",
   "execution_count": 3,
   "id": "fb9c88fc-b1cc-4d03-977e-46452cda10d5",
   "metadata": {},
   "outputs": [],
   "source": [
    "import os\n",
    "import json"
   ]
  },
  {
   "cell_type": "code",
   "execution_count": 4,
   "id": "c561fb28-2340-413f-abf6-d91a6371f31a",
   "metadata": {},
   "outputs": [],
   "source": [
    "files = os.listdir('.')"
   ]
  },
  {
   "cell_type": "code",
   "execution_count": 5,
   "id": "fa9d2b24-6d3e-48bd-9203-8461d20b8df0",
   "metadata": {},
   "outputs": [
    {
     "data": {
      "text/plain": [
       "['Normalize_scores.ipynb',\n",
       " 'bert-zh-tokenize-len.json',\n",
       " 'FinWord.json',\n",
       " 'FinBERT-FLS.json',\n",
       " '.ipynb_checkpoints',\n",
       " 'FinProLex.json']"
      ]
     },
     "execution_count": 5,
     "metadata": {},
     "output_type": "execute_result"
    }
   ],
   "source": [
    "files"
   ]
  },
  {
   "cell_type": "code",
   "execution_count": 6,
   "id": "0e7beb3d-910b-42b8-a390-2a18a55946c8",
   "metadata": {},
   "outputs": [],
   "source": [
    "json_files = [f for f in files if f.endswith('.json')]"
   ]
  },
  {
   "cell_type": "code",
   "execution_count": 7,
   "id": "5ed80a66-16a5-469a-a4e0-22d25c749406",
   "metadata": {},
   "outputs": [
    {
     "data": {
      "text/plain": [
       "['bert-zh-tokenize-len.json',\n",
       " 'FinWord.json',\n",
       " 'FinBERT-FLS.json',\n",
       " 'FinProLex.json']"
      ]
     },
     "execution_count": 7,
     "metadata": {},
     "output_type": "execute_result"
    }
   ],
   "source": [
    "json_files"
   ]
  },
  {
   "cell_type": "code",
   "execution_count": 84,
   "id": "3a8c28cd-e6c4-4b6e-a262-fa9bbf9cc7b7",
   "metadata": {},
   "outputs": [],
   "source": [
    "jf_path = json_files[0]"
   ]
  },
  {
   "cell_type": "code",
   "execution_count": 85,
   "id": "77960330-06a4-4abd-bebc-987d9f58474d",
   "metadata": {},
   "outputs": [],
   "source": [
    "with open(jf_path,'r') as jf:\n",
    "    data = json.load(jf)\n",
    "    v = list(data.values())\n",
    "    v_avg = sum(v)/len(v)\n",
    "    v_max = max([abs(i) for i in v])\n",
    "    n_data = {}\n",
    "    for k in data.keys():\n",
    "        v = data[k]\n",
    "        n_data[k] = v/v_max\n",
    "        "
   ]
  },
  {
   "cell_type": "code",
   "execution_count": 86,
   "id": "0f5f20ab-ed29-4dbd-ae6c-a5d75512cb80",
   "metadata": {},
   "outputs": [],
   "source": [
    "with open('Normalized/'+jf_path,'w') as jf:\n",
    "    json.dump(n_data, jf)"
   ]
  },
  {
   "cell_type": "code",
   "execution_count": null,
   "id": "8a71872a-f4c0-4c88-9814-c794e76c77ac",
   "metadata": {},
   "outputs": [],
   "source": []
  },
  {
   "cell_type": "code",
   "execution_count": 13,
   "id": "5ea94743-ebc5-47e4-8b7c-c93bd9de8031",
   "metadata": {},
   "outputs": [],
   "source": [
    "jf_path = json_files[2]"
   ]
  },
  {
   "cell_type": "code",
   "execution_count": 14,
   "id": "3f0652dc-07ec-4233-bbab-cbb00958cccb",
   "metadata": {},
   "outputs": [],
   "source": [
    "with open(jf_path,'r') as jf:\n",
    "    data = json.load(jf)"
   ]
  },
  {
   "cell_type": "code",
   "execution_count": 16,
   "id": "3e7348a0-e7cf-435b-a48a-0045ad9a75ff",
   "metadata": {},
   "outputs": [],
   "source": [
    "label_set = ['Specific FLS','Non-specific FLS','Not FLS']"
   ]
  },
  {
   "cell_type": "code",
   "execution_count": 26,
   "id": "225203de-ffd3-4794-9872-5bb40e57e695",
   "metadata": {},
   "outputs": [],
   "source": [
    "list0 = {d:data[str(d)][label_set[0]] for d in range(len(data))}"
   ]
  },
  {
   "cell_type": "code",
   "execution_count": 28,
   "id": "2a4c68e9-b88c-49b5-884b-a9350f5846a4",
   "metadata": {},
   "outputs": [],
   "source": [
    "list1 = {d:data[str(d)][label_set[1]] for d in range(len(data))}"
   ]
  },
  {
   "cell_type": "code",
   "execution_count": 29,
   "id": "d4680804-0edf-435a-a29f-3b4d9a31043f",
   "metadata": {},
   "outputs": [],
   "source": [
    "list2 = {d:data[str(d)][label_set[2]] for d in range(len(data))}"
   ]
  },
  {
   "cell_type": "code",
   "execution_count": 32,
   "id": "c25d9df8-9a0a-403e-8e91-f6b4e531113f",
   "metadata": {},
   "outputs": [],
   "source": [
    "with open('FinBERT-SpecificFLS.json', 'w') as f:\n",
    "    json.dump(list0, f)"
   ]
  },
  {
   "cell_type": "code",
   "execution_count": 33,
   "id": "e0a1fe46-45fe-4f94-97da-af7823a80b9e",
   "metadata": {},
   "outputs": [],
   "source": [
    "with open('FinBERT-Non-specificFLS.json', 'w') as f:\n",
    "    json.dump(list1, f)"
   ]
  },
  {
   "cell_type": "code",
   "execution_count": 34,
   "id": "83c9e1ef-065e-4430-a473-3d630ec96d98",
   "metadata": {},
   "outputs": [],
   "source": [
    "with open('FinBERT-Not-FLS.json', 'w') as f:\n",
    "    json.dump(list2, f)"
   ]
  },
  {
   "cell_type": "code",
   "execution_count": 42,
   "id": "10ebdbeb-4d8e-41e0-887f-86115612dcf5",
   "metadata": {},
   "outputs": [
    {
     "data": {
      "text/plain": [
       "(13.1111581325531, 0)"
      ]
     },
     "execution_count": 42,
     "metadata": {},
     "output_type": "execute_result"
    }
   ],
   "source": [
    "max(list0.values()), min(list0.values())"
   ]
  },
  {
   "cell_type": "code",
   "execution_count": 43,
   "id": "84cfd4bb-a66e-4f7c-8377-076913ab3a49",
   "metadata": {},
   "outputs": [
    {
     "data": {
      "text/plain": [
       "(4.514384150505066, 0)"
      ]
     },
     "execution_count": 43,
     "metadata": {},
     "output_type": "execute_result"
    }
   ],
   "source": [
    "max(list1.values()), min(list1.values())"
   ]
  },
  {
   "cell_type": "code",
   "execution_count": 44,
   "id": "782fd3b5-f062-48b0-9b4b-40bb5f452047",
   "metadata": {},
   "outputs": [
    {
     "data": {
      "text/plain": [
       "(110.06663513183594, 0)"
      ]
     },
     "execution_count": 44,
     "metadata": {},
     "output_type": "execute_result"
    }
   ],
   "source": [
    "max(list2.values()), min(list2.values())"
   ]
  },
  {
   "cell_type": "code",
   "execution_count": 49,
   "id": "ccbed83f-cd74-4c4f-8eed-a3396623daf6",
   "metadata": {},
   "outputs": [],
   "source": [
    "mv = max(list0.values())\n",
    "for d in list0:\n",
    "    list0[d] /= mv"
   ]
  },
  {
   "cell_type": "code",
   "execution_count": 51,
   "id": "4b1812f9-8b27-4da2-9ff5-423a7065e298",
   "metadata": {},
   "outputs": [],
   "source": [
    "with open('Normalized/'+'FinBERT-SpecificFLS.json', 'w') as f:\n",
    "    json.dump(list0, f)"
   ]
  },
  {
   "cell_type": "code",
   "execution_count": 52,
   "id": "0a4f12b4-f4a8-42ca-87a4-883b67e4caba",
   "metadata": {},
   "outputs": [],
   "source": [
    "mv = max(list1.values())\n",
    "for d in list1:\n",
    "    list1[d] /= mv"
   ]
  },
  {
   "cell_type": "code",
   "execution_count": 53,
   "id": "b933cf88-4d4e-44ae-9259-3cea510230ba",
   "metadata": {},
   "outputs": [],
   "source": [
    "with open('Normalized/'+'FinBERT-Non-specificFLS.json', 'w') as f:\n",
    "    json.dump(list1, f)"
   ]
  },
  {
   "cell_type": "code",
   "execution_count": 54,
   "id": "d5cb058d-1c43-45b8-9420-959847b5cd68",
   "metadata": {},
   "outputs": [],
   "source": [
    "mv = max(list2.values())\n",
    "for d in list2:\n",
    "    list2[d] /= mv"
   ]
  },
  {
   "cell_type": "code",
   "execution_count": 55,
   "id": "dcce70f4-1239-4532-bab6-1f1516d49665",
   "metadata": {},
   "outputs": [],
   "source": [
    "with open('Normalized/'+'FinBERT-Not-FLS.json', 'w') as f:\n",
    "    json.dump(list2, f)"
   ]
  },
  {
   "cell_type": "code",
   "execution_count": null,
   "id": "78720c82-f8c7-49f9-9f17-f23d2f28af2e",
   "metadata": {},
   "outputs": [],
   "source": []
  },
  {
   "cell_type": "code",
   "execution_count": 56,
   "id": "f743918c-60c3-4f09-a846-bae308d2ba7a",
   "metadata": {},
   "outputs": [],
   "source": [
    "jf_path = json_files[1]"
   ]
  },
  {
   "cell_type": "code",
   "execution_count": 57,
   "id": "9b5111b6-6da0-4525-a7fe-f1a94a3be3fc",
   "metadata": {},
   "outputs": [],
   "source": [
    "with open(jf_path,'r') as jf:\n",
    "    data = json.load(jf)"
   ]
  },
  {
   "cell_type": "code",
   "execution_count": 59,
   "id": "f2f4e66a-fc36-47c5-99b0-176e8965d583",
   "metadata": {},
   "outputs": [],
   "source": [
    "v = list(data.values())"
   ]
  },
  {
   "cell_type": "code",
   "execution_count": 60,
   "id": "7bd46b36-526a-429b-b69d-a2a5527d6ce8",
   "metadata": {},
   "outputs": [
    {
     "data": {
      "text/plain": [
       "(9.616906495278474, -2.9173490969388425)"
      ]
     },
     "execution_count": 60,
     "metadata": {},
     "output_type": "execute_result"
    }
   ],
   "source": [
    "max(v), min(v)"
   ]
  },
  {
   "cell_type": "code",
   "execution_count": 63,
   "id": "dac1ba36-5d1a-4a79-b001-fc7b05739ac9",
   "metadata": {},
   "outputs": [],
   "source": [
    "mxv = max(v)"
   ]
  },
  {
   "cell_type": "code",
   "execution_count": 64,
   "id": "37050169-e9e7-48a7-a27a-f40f30a3d1f9",
   "metadata": {},
   "outputs": [],
   "source": [
    "mnv = min(v)"
   ]
  },
  {
   "cell_type": "code",
   "execution_count": 70,
   "id": "c0d5253f-3e6e-422e-8fc0-18e8aebb527e",
   "metadata": {},
   "outputs": [],
   "source": [
    "list0 = {d:data[str(d)] for d in range(len(data))}"
   ]
  },
  {
   "cell_type": "code",
   "execution_count": 71,
   "id": "d90fe10c-873a-45c4-8998-0b1b2ce6f48b",
   "metadata": {},
   "outputs": [],
   "source": [
    "for l in list0:\n",
    "    if list0[l] > 0:\n",
    "        list0[l] /= mxv\n",
    "    else:\n",
    "        list0[l] /= -mnv"
   ]
  },
  {
   "cell_type": "code",
   "execution_count": 72,
   "id": "7073b23c-3588-4628-a8b8-10594e1b5e4f",
   "metadata": {},
   "outputs": [],
   "source": [
    "with open('Normalized/'+jf_path, 'w') as f:\n",
    "    json.dump(list0, f)"
   ]
  },
  {
   "cell_type": "code",
   "execution_count": null,
   "id": "cc162948-1a8d-41c8-8962-1765c75466c8",
   "metadata": {},
   "outputs": [],
   "source": []
  },
  {
   "cell_type": "code",
   "execution_count": 74,
   "id": "e7e85e88-e993-4d2b-aa9e-f722fcdc8311",
   "metadata": {},
   "outputs": [],
   "source": [
    "jf_path = json_files[3]"
   ]
  },
  {
   "cell_type": "code",
   "execution_count": 75,
   "id": "2602527a-6832-4f68-849a-e165b518eca7",
   "metadata": {},
   "outputs": [],
   "source": [
    "with open(jf_path,'r') as jf:\n",
    "    data = json.load(jf)"
   ]
  },
  {
   "cell_type": "code",
   "execution_count": 76,
   "id": "a4676ab1-7274-4b38-995c-7174c194cce8",
   "metadata": {},
   "outputs": [],
   "source": [
    "v = list(data.values())"
   ]
  },
  {
   "cell_type": "code",
   "execution_count": 77,
   "id": "a572d148-5179-470f-82ae-4ef33800e68f",
   "metadata": {},
   "outputs": [
    {
     "data": {
      "text/plain": [
       "(58.95730950782129, -559.1958426251452)"
      ]
     },
     "execution_count": 77,
     "metadata": {},
     "output_type": "execute_result"
    }
   ],
   "source": [
    "max(v), min(v)"
   ]
  },
  {
   "cell_type": "code",
   "execution_count": 78,
   "id": "1d626206-471a-46fb-902c-3fbee92fbe21",
   "metadata": {},
   "outputs": [],
   "source": [
    "mxv = max(v)"
   ]
  },
  {
   "cell_type": "code",
   "execution_count": 79,
   "id": "814e3711-9258-46e1-bb7d-12b318ae8b87",
   "metadata": {},
   "outputs": [],
   "source": [
    "mnv = min(v)"
   ]
  },
  {
   "cell_type": "code",
   "execution_count": 80,
   "id": "c5d2e814-ae7f-4fad-9519-db3808f7b7b2",
   "metadata": {},
   "outputs": [],
   "source": [
    "list0 = {d:data[str(d)] for d in range(len(data))}"
   ]
  },
  {
   "cell_type": "code",
   "execution_count": 81,
   "id": "18456fa1-22ae-4dca-a66e-9a9642aadfdc",
   "metadata": {},
   "outputs": [],
   "source": [
    "for l in list0:\n",
    "    if list0[l] > 0:\n",
    "        list0[l] /= mxv\n",
    "    else:\n",
    "        list0[l] /= -mnv"
   ]
  },
  {
   "cell_type": "code",
   "execution_count": 82,
   "id": "117e9c36-4fca-4ef7-94c9-0dbbf5a08687",
   "metadata": {},
   "outputs": [],
   "source": [
    "with open('Normalized/'+jf_path, 'w') as f:\n",
    "    json.dump(list0, f)"
   ]
  },
  {
   "cell_type": "code",
   "execution_count": 83,
   "id": "ea831bf6-f4e3-4130-9bf2-783ab5cc9bac",
   "metadata": {},
   "outputs": [
    {
     "data": {
      "text/plain": [
       "{0: -0.15523177595573034,\n",
       " 1: -0.16978381020540456,\n",
       " 2: -0.12635031771832395,\n",
       " 3: 0.139102942708813,\n",
       " 4: -1.0,\n",
       " 5: -0.21686241727817498,\n",
       " 6: 1.0,\n",
       " 7: -0.04928343439657619,\n",
       " 8: -0.08297460761238122,\n",
       " 9: -0.10714645868132441,\n",
       " 10: -0.049803906656903076,\n",
       " 11: -0.00046878473994489716,\n",
       " 12: -0.0017744379028870071,\n",
       " 13: -0.22720534283268645,\n",
       " 14: -0.03849631986132454,\n",
       " 15: -0.23302506053468047,\n",
       " 16: -0.051929939783279866,\n",
       " 17: -0.061703214486961026,\n",
       " 18: -0.3717426857795191,\n",
       " 19: 0.39728078648277165,\n",
       " 20: -0.06499103311543554,\n",
       " 21: -0.15316448072248237,\n",
       " 22: -0.10028526434126,\n",
       " 23: -0.14591306352516759,\n",
       " 24: -0.147336330495231,\n",
       " 25: -0.033412082899772926,\n",
       " 26: -0.02026694909002334,\n",
       " 27: -0.10793065488865908,\n",
       " 28: -0.1291699996639225,\n",
       " 29: -0.4398198964509476,\n",
       " 30: -0.12733247038753884,\n",
       " 31: -0.023088962464105155,\n",
       " 32: -0.06284607285122899,\n",
       " 33: -0.016174362776544285,\n",
       " 34: -0.2261530654443749,\n",
       " 35: -0.1443643705249084,\n",
       " 36: -0.17812042094957484,\n",
       " 37: -0.14821445573481576,\n",
       " 38: -0.0437765743870397,\n",
       " 39: -0.09546152359487711,\n",
       " 40: -0.1285702888766244,\n",
       " 41: -0.13938611091093783,\n",
       " 42: -0.05470541642045114,\n",
       " 43: -0.065119864393095,\n",
       " 44: -0.05657775939119564,\n",
       " 45: -0.2261530654443749,\n",
       " 46: -0.24975781161995209,\n",
       " 47: -0.06786147632522946,\n",
       " 48: -0.5167157905674241,\n",
       " 49: -0.09817657212787785,\n",
       " 50: -0.10495398602652309,\n",
       " 51: -0.12733247038753884,\n",
       " 52: -0.21686241727817498,\n",
       " 53: -0.24280968724125948,\n",
       " 54: -0.06444407323219582,\n",
       " 55: -0.15316448072248237,\n",
       " 56: -1.0,\n",
       " 57: -0.15160903900126738,\n",
       " 58: -0.2022142804576749,\n",
       " 59: -0.15585077061843347,\n",
       " 60: -0.12169461374346172,\n",
       " 61: -0.1200624335680864,\n",
       " 62: -0.17210670775851522,\n",
       " 63: -0.29428492036251663,\n",
       " 64: -0.11166829630976262,\n",
       " 65: -0.2065162833609867,\n",
       " 66: -0.16549374983184392,\n",
       " 67: -0.17252878293675136,\n",
       " 68: -0.0913471915636731,\n",
       " 69: -0.19582493737009965,\n",
       " 70: -0.10967031386770956,\n",
       " 71: -0.08399215818432001,\n",
       " 72: -0.27288332515171737,\n",
       " 73: -0.147336330495231,\n",
       " 74: -0.2716460840571323,\n",
       " 75: -0.10714645868132441,\n",
       " 76: -0.177739689757039,\n",
       " 77: -0.1443643705249084,\n",
       " 78: -0.10832463410653885,\n",
       " 79: -0.09746151008615601,\n",
       " 80: -0.16578879602569951,\n",
       " 81: -0.32442680078843594,\n",
       " 82: -1.0,\n",
       " 83: -0.15523177595573034,\n",
       " 84: -0.16978381020540456,\n",
       " 85: -0.12635031771832395,\n",
       " 86: -0.21686241727817498,\n",
       " 87: 0.139102942708813,\n",
       " 88: -0.3717426857795191,\n",
       " 89: -0.2846313448070709,\n",
       " 90: -0.0017744379028870071,\n",
       " 91: -0.08297460761238122,\n",
       " 92: -0.37925523898381863,\n",
       " 93: -0.3428336133187325,\n",
       " 94: -0.15554168317487632,\n",
       " 95: -0.37407422493465053,\n",
       " 96: -0.14821445573481576,\n",
       " 97: 1.0,\n",
       " 98: -0.23750126466580437,\n",
       " 99: -0.23302506053468047,\n",
       " 100: -0.4398198964509476,\n",
       " 101: -0.22067334623078047,\n",
       " 102: -0.04928343439657619,\n",
       " 103: -0.20494264911411392,\n",
       " 104: -0.2261530654443749,\n",
       " 105: -0.33009934868689417,\n",
       " 106: -0.033412082899772926,\n",
       " 107: -0.03849631986132454,\n",
       " 108: -0.14591306352516759,\n",
       " 109: -0.10714645868132441,\n",
       " 110: -0.051929939783279866,\n",
       " 111: -0.1291699996639225,\n",
       " 112: -0.28676783792159605,\n",
       " 113: -0.061703214486961026,\n",
       " 114: -0.23018871723546905,\n",
       " 115: -0.2716460840571323,\n",
       " 116: -0.02026694909002334,\n",
       " 117: -0.10793065488865908,\n",
       " 118: -0.00046878473994489716,\n",
       " 119: -0.12549482833093864,\n",
       " 120: -0.18129547193503326,\n",
       " 121: -0.1443643705249084,\n",
       " 122: -0.10714645868132441,\n",
       " 123: -0.147336330495231,\n",
       " 124: -1.0,\n",
       " 125: -0.15316448072248237,\n",
       " 126: -0.21686241727817498,\n",
       " 127: -0.12733247038753884,\n",
       " 128: -0.2261530654443749,\n",
       " 129: -0.3717426857795191,\n",
       " 130: -0.06284607285122899,\n",
       " 131: -0.051929939783279866,\n",
       " 132: -0.1285702888766244,\n",
       " 133: -0.03849631986132454,\n",
       " 134: -0.14591306352516759,\n",
       " 135: -0.1291699996639225,\n",
       " 136: -0.049803906656903076,\n",
       " 137: -0.17812042094957484,\n",
       " 138: -0.09546152359487711,\n",
       " 139: -0.14821445573481576,\n",
       " 140: -0.016174362776544285,\n",
       " 141: 1.0,\n",
       " 142: -0.15523177595573034,\n",
       " 143: -0.061703214486961026,\n",
       " 144: 0.39728078648277165,\n",
       " 145: -0.06499103311543554,\n",
       " 146: -0.00046878473994489716,\n",
       " 147: -0.10793065488865908,\n",
       " 148: -0.0437765743870397,\n",
       " 149: 0.139102942708813,\n",
       " 150: -0.4398198964509476,\n",
       " 151: -0.023088962464105155,\n",
       " 152: -0.04928343439657619,\n",
       " 153: -0.033412082899772926,\n",
       " 154: -0.23302506053468047,\n",
       " 155: -0.0017744379028870071,\n",
       " 156: -0.10028526434126,\n",
       " 157: -0.02026694909002334,\n",
       " 158: -0.12635031771832395,\n",
       " 159: -0.08297460761238122,\n",
       " 160: -0.16978381020540456,\n",
       " 161: -0.17547455934000017,\n",
       " 162: -0.125426969201576,\n",
       " 163: -0.07465841548928347,\n",
       " 164: -0.15508798595461984,\n",
       " 165: -0.05826079213687532,\n",
       " 166: -0.07528443950976957,\n",
       " 167: 0.0,\n",
       " 168: 0.0,\n",
       " 169: 0.0,\n",
       " 170: -0.2436930892984938,\n",
       " 171: -0.16171852589376845,\n",
       " 172: -0.28037300654928854,\n",
       " 173: -0.048878519006558076,\n",
       " 174: -0.06281317856668164,\n",
       " 175: -0.1661325953773975,\n",
       " 176: -0.057142868100068855,\n",
       " 177: -0.019822770237544928,\n",
       " 178: -0.08669255618342125,\n",
       " 179: -0.07608456945049091,\n",
       " 180: -0.0001699257395565925,\n",
       " 181: -0.0395689753379976,\n",
       " 182: -0.17333498425896296,\n",
       " 183: -0.13083163801739575,\n",
       " 184: -0.13184545066381115,\n",
       " 185: -0.09383111798531686,\n",
       " 186: -0.038695618010226765,\n",
       " 187: -0.05106507513745316,\n",
       " 188: -0.10763787378776428,\n",
       " 189: 0.09135965840839357,\n",
       " 190: -0.2430435622842434,\n",
       " 191: -0.045799871141039686,\n",
       " 192: -0.20456098983718493,\n",
       " 193: -0.002845934496729475,\n",
       " 194: -0.04600388355582099,\n",
       " 195: -0.024739973833768976,\n",
       " 196: -0.16906631197899377,\n",
       " 197: -0.09817144306362338,\n",
       " 198: -0.038413245049489834,\n",
       " 199: -0.09005594998060913,\n",
       " 200: -0.1808886079315757,\n",
       " 201: -0.041272892371843825,\n",
       " 202: -0.1359155779345172,\n",
       " 203: -0.0678450686748047,\n",
       " 204: -0.11532765071202813,\n",
       " 205: -0.10133294665604976,\n",
       " 206: -0.07131399474977942,\n",
       " 207: -0.17335169826723862,\n",
       " 208: -0.06022347433348451,\n",
       " 209: -0.06578775483582654}"
      ]
     },
     "execution_count": 83,
     "metadata": {},
     "output_type": "execute_result"
    }
   ],
   "source": [
    "list0"
   ]
  },
  {
   "cell_type": "code",
   "execution_count": null,
   "id": "98c2f62d-b8bb-45fd-b716-21e7655926d3",
   "metadata": {},
   "outputs": [],
   "source": []
  }
 ],
 "metadata": {
  "kernelspec": {
   "display_name": "Python 3 (ipykernel)",
   "language": "python",
   "name": "python3"
  },
  "language_info": {
   "codemirror_mode": {
    "name": "ipython",
    "version": 3
   },
   "file_extension": ".py",
   "mimetype": "text/x-python",
   "name": "python",
   "nbconvert_exporter": "python",
   "pygments_lexer": "ipython3",
   "version": "3.10.4"
  }
 },
 "nbformat": 4,
 "nbformat_minor": 5
}
