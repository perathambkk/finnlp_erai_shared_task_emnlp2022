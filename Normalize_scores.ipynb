{
 "cells": [
  {
   "cell_type": "code",
   "execution_count": 1,
   "id": "fb9c88fc-b1cc-4d03-977e-46452cda10d5",
   "metadata": {},
   "outputs": [],
   "source": [
    "import os\n",
    "import json"
   ]
  },
  {
   "cell_type": "code",
   "execution_count": 2,
   "id": "c561fb28-2340-413f-abf6-d91a6371f31a",
   "metadata": {},
   "outputs": [],
   "source": [
    "files = os.listdir('.')"
   ]
  },
  {
   "cell_type": "code",
   "execution_count": 3,
   "id": "c534698a-1899-41e4-a323-7eee4b51c66a",
   "metadata": {},
   "outputs": [
    {
     "data": {
      "text/plain": [
       "['FinBERT-tone.json',\n",
       " 'Normalize_scores.ipynb',\n",
       " 'bert-zh-tokenize-len.json',\n",
       " 'FinBERT-Non-specificFLS.json',\n",
       " 'ERAI-res.json',\n",
       " 'ERAI-cards.json',\n",
       " 'FinBERT-tone_Positive.json',\n",
       " 'FinBERT-Not-FLS.json',\n",
       " 'FinBERT-tone_Negative.json',\n",
       " 'Normalized',\n",
       " 'ERAI-finwords-res.json',\n",
       " 'ERAI-finprolex-res.json',\n",
       " 'FinBERT-tone_Neutral.json',\n",
       " 'FinWord.json',\n",
       " 'FinBERT-FLS.json',\n",
       " '.ipynb_checkpoints',\n",
       " 'FinBERT-SpecificFLS.json',\n",
       " 'ERAI-nouns.json',\n",
       " 'ERAI-verbs.json',\n",
       " 'FinProLex.json']"
      ]
     },
     "execution_count": 3,
     "metadata": {},
     "output_type": "execute_result"
    }
   ],
   "source": [
    "files"
   ]
  },
  {
   "cell_type": "code",
   "execution_count": 5,
   "id": "fa9d2b24-6d3e-48bd-9203-8461d20b8df0",
   "metadata": {},
   "outputs": [
    {
     "data": {
      "text/plain": [
       "['Normalize_scores.ipynb',\n",
       " 'bert-zh-tokenize-len.json',\n",
       " 'FinWord.json',\n",
       " 'FinBERT-FLS.json',\n",
       " '.ipynb_checkpoints',\n",
       " 'FinProLex.json']"
      ]
     },
     "execution_count": 5,
     "metadata": {},
     "output_type": "execute_result"
    }
   ],
   "source": [
    "files"
   ]
  },
  {
   "cell_type": "code",
   "execution_count": 6,
   "id": "0e7beb3d-910b-42b8-a390-2a18a55946c8",
   "metadata": {},
   "outputs": [],
   "source": [
    "json_files = [f for f in files if f.endswith('.json')]"
   ]
  },
  {
   "cell_type": "code",
   "execution_count": 7,
   "id": "5ed80a66-16a5-469a-a4e0-22d25c749406",
   "metadata": {},
   "outputs": [
    {
     "data": {
      "text/plain": [
       "['bert-zh-tokenize-len.json',\n",
       " 'FinWord.json',\n",
       " 'FinBERT-FLS.json',\n",
       " 'FinProLex.json']"
      ]
     },
     "execution_count": 7,
     "metadata": {},
     "output_type": "execute_result"
    }
   ],
   "source": [
    "json_files"
   ]
  },
  {
   "cell_type": "code",
   "execution_count": 84,
   "id": "3a8c28cd-e6c4-4b6e-a262-fa9bbf9cc7b7",
   "metadata": {},
   "outputs": [],
   "source": [
    "jf_path = json_files[0]"
   ]
  },
  {
   "cell_type": "code",
   "execution_count": 85,
   "id": "77960330-06a4-4abd-bebc-987d9f58474d",
   "metadata": {},
   "outputs": [],
   "source": [
    "with open(jf_path,'r') as jf:\n",
    "    data = json.load(jf)\n",
    "    v = list(data.values())\n",
    "    v_avg = sum(v)/len(v)\n",
    "    v_max = max([abs(i) for i in v])\n",
    "    n_data = {}\n",
    "    for k in data.keys():\n",
    "        v = data[k]\n",
    "        n_data[k] = v/v_max\n",
    "        "
   ]
  },
  {
   "cell_type": "code",
   "execution_count": 86,
   "id": "0f5f20ab-ed29-4dbd-ae6c-a5d75512cb80",
   "metadata": {},
   "outputs": [],
   "source": [
    "with open('Normalized/'+jf_path,'w') as jf:\n",
    "    json.dump(n_data, jf)"
   ]
  },
  {
   "cell_type": "code",
   "execution_count": null,
   "id": "8a71872a-f4c0-4c88-9814-c794e76c77ac",
   "metadata": {},
   "outputs": [],
   "source": []
  },
  {
   "cell_type": "code",
   "execution_count": 13,
   "id": "5ea94743-ebc5-47e4-8b7c-c93bd9de8031",
   "metadata": {},
   "outputs": [],
   "source": [
    "jf_path = json_files[2]"
   ]
  },
  {
   "cell_type": "code",
   "execution_count": 14,
   "id": "3f0652dc-07ec-4233-bbab-cbb00958cccb",
   "metadata": {},
   "outputs": [],
   "source": [
    "with open(jf_path,'r') as jf:\n",
    "    data = json.load(jf)"
   ]
  },
  {
   "cell_type": "code",
   "execution_count": 16,
   "id": "3e7348a0-e7cf-435b-a48a-0045ad9a75ff",
   "metadata": {},
   "outputs": [],
   "source": [
    "label_set = ['Specific FLS','Non-specific FLS','Not FLS']"
   ]
  },
  {
   "cell_type": "code",
   "execution_count": 26,
   "id": "225203de-ffd3-4794-9872-5bb40e57e695",
   "metadata": {},
   "outputs": [],
   "source": [
    "list0 = {d:data[str(d)][label_set[0]] for d in range(len(data))}"
   ]
  },
  {
   "cell_type": "code",
   "execution_count": 28,
   "id": "2a4c68e9-b88c-49b5-884b-a9350f5846a4",
   "metadata": {},
   "outputs": [],
   "source": [
    "list1 = {d:data[str(d)][label_set[1]] for d in range(len(data))}"
   ]
  },
  {
   "cell_type": "code",
   "execution_count": 29,
   "id": "d4680804-0edf-435a-a29f-3b4d9a31043f",
   "metadata": {},
   "outputs": [],
   "source": [
    "list2 = {d:data[str(d)][label_set[2]] for d in range(len(data))}"
   ]
  },
  {
   "cell_type": "code",
   "execution_count": 32,
   "id": "c25d9df8-9a0a-403e-8e91-f6b4e531113f",
   "metadata": {},
   "outputs": [],
   "source": [
    "with open('FinBERT-SpecificFLS.json', 'w') as f:\n",
    "    json.dump(list0, f)"
   ]
  },
  {
   "cell_type": "code",
   "execution_count": 33,
   "id": "e0a1fe46-45fe-4f94-97da-af7823a80b9e",
   "metadata": {},
   "outputs": [],
   "source": [
    "with open('FinBERT-Non-specificFLS.json', 'w') as f:\n",
    "    json.dump(list1, f)"
   ]
  },
  {
   "cell_type": "code",
   "execution_count": 34,
   "id": "83c9e1ef-065e-4430-a473-3d630ec96d98",
   "metadata": {},
   "outputs": [],
   "source": [
    "with open('FinBERT-Not-FLS.json', 'w') as f:\n",
    "    json.dump(list2, f)"
   ]
  },
  {
   "cell_type": "code",
   "execution_count": 42,
   "id": "10ebdbeb-4d8e-41e0-887f-86115612dcf5",
   "metadata": {},
   "outputs": [
    {
     "data": {
      "text/plain": [
       "(13.1111581325531, 0)"
      ]
     },
     "execution_count": 42,
     "metadata": {},
     "output_type": "execute_result"
    }
   ],
   "source": [
    "max(list0.values()), min(list0.values())"
   ]
  },
  {
   "cell_type": "code",
   "execution_count": 43,
   "id": "84cfd4bb-a66e-4f7c-8377-076913ab3a49",
   "metadata": {},
   "outputs": [
    {
     "data": {
      "text/plain": [
       "(4.514384150505066, 0)"
      ]
     },
     "execution_count": 43,
     "metadata": {},
     "output_type": "execute_result"
    }
   ],
   "source": [
    "max(list1.values()), min(list1.values())"
   ]
  },
  {
   "cell_type": "code",
   "execution_count": 44,
   "id": "782fd3b5-f062-48b0-9b4b-40bb5f452047",
   "metadata": {},
   "outputs": [
    {
     "data": {
      "text/plain": [
       "(110.06663513183594, 0)"
      ]
     },
     "execution_count": 44,
     "metadata": {},
     "output_type": "execute_result"
    }
   ],
   "source": [
    "max(list2.values()), min(list2.values())"
   ]
  },
  {
   "cell_type": "code",
   "execution_count": 49,
   "id": "ccbed83f-cd74-4c4f-8eed-a3396623daf6",
   "metadata": {},
   "outputs": [],
   "source": [
    "mv = max(list0.values())\n",
    "for d in list0:\n",
    "    list0[d] /= mv"
   ]
  },
  {
   "cell_type": "code",
   "execution_count": 51,
   "id": "4b1812f9-8b27-4da2-9ff5-423a7065e298",
   "metadata": {},
   "outputs": [],
   "source": [
    "with open('Normalized/'+'FinBERT-SpecificFLS.json', 'w') as f:\n",
    "    json.dump(list0, f)"
   ]
  },
  {
   "cell_type": "code",
   "execution_count": 52,
   "id": "0a4f12b4-f4a8-42ca-87a4-883b67e4caba",
   "metadata": {},
   "outputs": [],
   "source": [
    "mv = max(list1.values())\n",
    "for d in list1:\n",
    "    list1[d] /= mv"
   ]
  },
  {
   "cell_type": "code",
   "execution_count": 53,
   "id": "b933cf88-4d4e-44ae-9259-3cea510230ba",
   "metadata": {},
   "outputs": [],
   "source": [
    "with open('Normalized/'+'FinBERT-Non-specificFLS.json', 'w') as f:\n",
    "    json.dump(list1, f)"
   ]
  },
  {
   "cell_type": "code",
   "execution_count": 54,
   "id": "d5cb058d-1c43-45b8-9420-959847b5cd68",
   "metadata": {},
   "outputs": [],
   "source": [
    "mv = max(list2.values())\n",
    "for d in list2:\n",
    "    list2[d] /= mv"
   ]
  },
  {
   "cell_type": "code",
   "execution_count": 55,
   "id": "dcce70f4-1239-4532-bab6-1f1516d49665",
   "metadata": {},
   "outputs": [],
   "source": [
    "with open('Normalized/'+'FinBERT-Not-FLS.json', 'w') as f:\n",
    "    json.dump(list2, f)"
   ]
  },
  {
   "cell_type": "code",
   "execution_count": null,
   "id": "78720c82-f8c7-49f9-9f17-f23d2f28af2e",
   "metadata": {},
   "outputs": [],
   "source": []
  },
  {
   "cell_type": "code",
   "execution_count": 56,
   "id": "f743918c-60c3-4f09-a846-bae308d2ba7a",
   "metadata": {},
   "outputs": [],
   "source": [
    "jf_path = json_files[1]"
   ]
  },
  {
   "cell_type": "code",
   "execution_count": 57,
   "id": "9b5111b6-6da0-4525-a7fe-f1a94a3be3fc",
   "metadata": {},
   "outputs": [],
   "source": [
    "with open(jf_path,'r') as jf:\n",
    "    data = json.load(jf)"
   ]
  },
  {
   "cell_type": "code",
   "execution_count": 59,
   "id": "f2f4e66a-fc36-47c5-99b0-176e8965d583",
   "metadata": {},
   "outputs": [],
   "source": [
    "v = list(data.values())"
   ]
  },
  {
   "cell_type": "code",
   "execution_count": 60,
   "id": "7bd46b36-526a-429b-b69d-a2a5527d6ce8",
   "metadata": {},
   "outputs": [
    {
     "data": {
      "text/plain": [
       "(9.616906495278474, -2.9173490969388425)"
      ]
     },
     "execution_count": 60,
     "metadata": {},
     "output_type": "execute_result"
    }
   ],
   "source": [
    "max(v), min(v)"
   ]
  },
  {
   "cell_type": "code",
   "execution_count": 63,
   "id": "dac1ba36-5d1a-4a79-b001-fc7b05739ac9",
   "metadata": {},
   "outputs": [],
   "source": [
    "mxv = max(v)"
   ]
  },
  {
   "cell_type": "code",
   "execution_count": 64,
   "id": "37050169-e9e7-48a7-a27a-f40f30a3d1f9",
   "metadata": {},
   "outputs": [],
   "source": [
    "mnv = min(v)"
   ]
  },
  {
   "cell_type": "code",
   "execution_count": 70,
   "id": "c0d5253f-3e6e-422e-8fc0-18e8aebb527e",
   "metadata": {},
   "outputs": [],
   "source": [
    "list0 = {d:data[str(d)] for d in range(len(data))}"
   ]
  },
  {
   "cell_type": "code",
   "execution_count": 71,
   "id": "d90fe10c-873a-45c4-8998-0b1b2ce6f48b",
   "metadata": {},
   "outputs": [],
   "source": [
    "for l in list0:\n",
    "    if list0[l] > 0:\n",
    "        list0[l] /= mxv\n",
    "    else:\n",
    "        list0[l] /= -mnv"
   ]
  },
  {
   "cell_type": "code",
   "execution_count": 72,
   "id": "7073b23c-3588-4628-a8b8-10594e1b5e4f",
   "metadata": {},
   "outputs": [],
   "source": [
    "with open('Normalized/'+jf_path, 'w') as f:\n",
    "    json.dump(list0, f)"
   ]
  },
  {
   "cell_type": "code",
   "execution_count": null,
   "id": "cc162948-1a8d-41c8-8962-1765c75466c8",
   "metadata": {},
   "outputs": [],
   "source": []
  },
  {
   "cell_type": "code",
   "execution_count": 74,
   "id": "e7e85e88-e993-4d2b-aa9e-f722fcdc8311",
   "metadata": {},
   "outputs": [],
   "source": [
    "jf_path = json_files[3]"
   ]
  },
  {
   "cell_type": "code",
   "execution_count": 75,
   "id": "2602527a-6832-4f68-849a-e165b518eca7",
   "metadata": {},
   "outputs": [],
   "source": [
    "with open(jf_path,'r') as jf:\n",
    "    data = json.load(jf)"
   ]
  },
  {
   "cell_type": "code",
   "execution_count": 76,
   "id": "a4676ab1-7274-4b38-995c-7174c194cce8",
   "metadata": {},
   "outputs": [],
   "source": [
    "v = list(data.values())"
   ]
  },
  {
   "cell_type": "code",
   "execution_count": 77,
   "id": "a572d148-5179-470f-82ae-4ef33800e68f",
   "metadata": {},
   "outputs": [
    {
     "data": {
      "text/plain": [
       "(58.95730950782129, -559.1958426251452)"
      ]
     },
     "execution_count": 77,
     "metadata": {},
     "output_type": "execute_result"
    }
   ],
   "source": [
    "max(v), min(v)"
   ]
  },
  {
   "cell_type": "code",
   "execution_count": 78,
   "id": "1d626206-471a-46fb-902c-3fbee92fbe21",
   "metadata": {},
   "outputs": [],
   "source": [
    "mxv = max(v)"
   ]
  },
  {
   "cell_type": "code",
   "execution_count": 79,
   "id": "814e3711-9258-46e1-bb7d-12b318ae8b87",
   "metadata": {},
   "outputs": [],
   "source": [
    "mnv = min(v)"
   ]
  },
  {
   "cell_type": "code",
   "execution_count": 80,
   "id": "c5d2e814-ae7f-4fad-9519-db3808f7b7b2",
   "metadata": {},
   "outputs": [],
   "source": [
    "list0 = {d:data[str(d)] for d in range(len(data))}"
   ]
  },
  {
   "cell_type": "code",
   "execution_count": 81,
   "id": "18456fa1-22ae-4dca-a66e-9a9642aadfdc",
   "metadata": {},
   "outputs": [],
   "source": [
    "for l in list0:\n",
    "    if list0[l] > 0:\n",
    "        list0[l] /= mxv\n",
    "    else:\n",
    "        list0[l] /= -mnv"
   ]
  },
  {
   "cell_type": "code",
   "execution_count": 82,
   "id": "117e9c36-4fca-4ef7-94c9-0dbbf5a08687",
   "metadata": {},
   "outputs": [],
   "source": [
    "with open('Normalized/'+jf_path, 'w') as f:\n",
    "    json.dump(list0, f)"
   ]
  },
  {
   "cell_type": "code",
   "execution_count": null,
   "id": "ea831bf6-f4e3-4130-9bf2-783ab5cc9bac",
   "metadata": {},
   "outputs": [],
   "source": []
  },
  {
   "cell_type": "code",
   "execution_count": 4,
   "id": "9043ce0c-c675-4246-9b79-d65d73e6a166",
   "metadata": {},
   "outputs": [],
   "source": [
    "pos_set = ['nouns','verbs','cards']"
   ]
  },
  {
   "cell_type": "code",
   "execution_count": 10,
   "id": "98c2f62d-b8bb-45fd-b716-21e7655926d3",
   "metadata": {},
   "outputs": [],
   "source": [
    "jf_path = ['ERAI-{}.json'.format(pos) for pos in pos_set]"
   ]
  },
  {
   "cell_type": "code",
   "execution_count": 11,
   "id": "4ba73008-d5cd-4df7-918c-2633f0617476",
   "metadata": {},
   "outputs": [],
   "source": [
    "for i, pos in enumerate(pos_set):\n",
    "    with open(jf_path[i],'r') as jf:\n",
    "        data = json.load(jf)\n",
    "    v = list(data)\n",
    "    mxv = max(v)\n",
    "    mnv = min(v)\n",
    "    for j, l in enumerate(v):\n",
    "        if l >= 0:\n",
    "            v[j] /= mxv\n",
    "        else:\n",
    "            v[j] /= -mnv\n",
    "    with open('Normalized/'+jf_path[i], 'w') as f:\n",
    "        json.dump(v, f)"
   ]
  },
  {
   "cell_type": "code",
   "execution_count": null,
   "id": "56cc3ac6-08d5-4655-bfc7-c909dbbd0a6b",
   "metadata": {},
   "outputs": [],
   "source": []
  },
  {
   "cell_type": "code",
   "execution_count": 12,
   "id": "187a6a38-a720-40a5-a1ee-1d72a212f890",
   "metadata": {},
   "outputs": [],
   "source": [
    "ulc_set = ['ERAI-res','ERAI-finwords-res','ERAI-finprolex-res']"
   ]
  },
  {
   "cell_type": "code",
   "execution_count": 15,
   "id": "b4d056c9-afc9-4046-83df-80ed1078e559",
   "metadata": {},
   "outputs": [],
   "source": [
    "jf_path = ['{}.json'.format(ulc) for ulc in ulc_set]"
   ]
  },
  {
   "cell_type": "code",
   "execution_count": 16,
   "id": "8eeeddf8-478f-4af3-a3f9-39926c79f3b7",
   "metadata": {},
   "outputs": [],
   "source": [
    "with open(jf_path[0],'r') as fp:\n",
    "    data = json.load(fp)"
   ]
  },
  {
   "cell_type": "code",
   "execution_count": 18,
   "id": "56a634fb-52dd-4d72-ba6c-1e9c2bddf704",
   "metadata": {},
   "outputs": [
    {
     "data": {
      "text/plain": [
       "dict_keys(['pred_khat', 'pred_khat_bayes'])"
      ]
     },
     "execution_count": 18,
     "metadata": {},
     "output_type": "execute_result"
    }
   ],
   "source": [
    "data.keys()"
   ]
  },
  {
   "cell_type": "code",
   "execution_count": 19,
   "id": "095b31e3-5cfb-489e-8c29-9b67ceaf730b",
   "metadata": {},
   "outputs": [],
   "source": [
    "key = 'pred_khat_bayes'"
   ]
  },
  {
   "cell_type": "code",
   "execution_count": 20,
   "id": "96b180a7-9bda-41e0-b2db-3941c06cc01e",
   "metadata": {},
   "outputs": [],
   "source": [
    "for i, ulc in enumerate(ulc_set):\n",
    "    with open(jf_path[i],'r') as jf:\n",
    "        data = json.load(jf)\n",
    "    v = list(data[key])\n",
    "    mxv = max(v)\n",
    "    mnv = min(v)\n",
    "    for j, l in enumerate(v):\n",
    "        if l >= 0:\n",
    "            v[j] /= mxv\n",
    "        else:\n",
    "            v[j] /= -mnv\n",
    "    with open('Normalized/'+jf_path[i], 'w') as f:\n",
    "        json.dump(v, f)"
   ]
  },
  {
   "cell_type": "code",
   "execution_count": null,
   "id": "5c1512e9-40de-4669-926c-7bb9df6f5a77",
   "metadata": {},
   "outputs": [],
   "source": []
  },
  {
   "cell_type": "code",
   "execution_count": 21,
   "id": "85a1855f-cc5f-49c1-b020-870b1d3faf58",
   "metadata": {},
   "outputs": [],
   "source": [
    "key = 'pred_khat'"
   ]
  },
  {
   "cell_type": "code",
   "execution_count": 22,
   "id": "6196fd0f-0bb9-4d36-9364-0fd4b7f39778",
   "metadata": {},
   "outputs": [],
   "source": [
    "ulc_set = ['ERAI-res','ERAI-finwords-res','ERAI-finprolex-res']"
   ]
  },
  {
   "cell_type": "code",
   "execution_count": 23,
   "id": "b8b6b00c-8552-4a9f-8f78-3d1e1f5f56cd",
   "metadata": {},
   "outputs": [],
   "source": [
    "for i, ulc in enumerate(ulc_set):\n",
    "    with open(jf_path[i],'r') as jf:\n",
    "        data = json.load(jf)\n",
    "    v = list(data[key])\n",
    "    mxv = max(v)\n",
    "    mnv = min(v)\n",
    "    for j, l in enumerate(v):\n",
    "        if l >= 0:\n",
    "            v[j] /= mxv\n",
    "        else:\n",
    "            v[j] /= -mnv\n",
    "    with open('Normalized/fq_'+jf_path[i], 'w') as f:\n",
    "        json.dump(v, f)"
   ]
  },
  {
   "cell_type": "code",
   "execution_count": null,
   "id": "71a326ea-ce83-41dc-b9e1-6d68ee3cfce2",
   "metadata": {},
   "outputs": [],
   "source": []
  }
 ],
 "metadata": {
  "kernelspec": {
   "display_name": "Python 3 (ipykernel)",
   "language": "python",
   "name": "python3"
  },
  "language_info": {
   "codemirror_mode": {
    "name": "ipython",
    "version": 3
   },
   "file_extension": ".py",
   "mimetype": "text/x-python",
   "name": "python",
   "nbconvert_exporter": "python",
   "pygments_lexer": "ipython3",
   "version": "3.10.4"
  }
 },
 "nbformat": 4,
 "nbformat_minor": 5
}
