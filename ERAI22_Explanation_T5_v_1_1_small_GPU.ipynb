{
  "cells": [
    {
      "cell_type": "code",
      "execution_count": null,
      "metadata": {
        "colab": {
          "base_uri": "https://localhost:8080/"
        },
        "id": "E3NWJA-pFvbU",
        "outputId": "d762f2ef-386d-461b-bbe2-6a7ff2b729e2"
      },
      "outputs": [
        {
          "output_type": "stream",
          "name": "stdout",
          "text": [
            "Mon Aug 29 17:16:06 2022       \n",
            "+-----------------------------------------------------------------------------+\n",
            "| NVIDIA-SMI 460.32.03    Driver Version: 460.32.03    CUDA Version: 11.2     |\n",
            "|-------------------------------+----------------------+----------------------+\n",
            "| GPU  Name        Persistence-M| Bus-Id        Disp.A | Volatile Uncorr. ECC |\n",
            "| Fan  Temp  Perf  Pwr:Usage/Cap|         Memory-Usage | GPU-Util  Compute M. |\n",
            "|                               |                      |               MIG M. |\n",
            "|===============================+======================+======================|\n",
            "|   0  Tesla T4            Off  | 00000000:00:04.0 Off |                    0 |\n",
            "| N/A   67C    P8    11W /  70W |      0MiB / 15109MiB |      0%      Default |\n",
            "|                               |                      |                  N/A |\n",
            "+-------------------------------+----------------------+----------------------+\n",
            "                                                                               \n",
            "+-----------------------------------------------------------------------------+\n",
            "| Processes:                                                                  |\n",
            "|  GPU   GI   CI        PID   Type   Process name                  GPU Memory |\n",
            "|        ID   ID                                                   Usage      |\n",
            "|=============================================================================|\n",
            "|  No running processes found                                                 |\n",
            "+-----------------------------------------------------------------------------+\n"
          ]
        }
      ],
      "source": [
        "!nvidia-smi"
      ]
    },
    {
      "cell_type": "code",
      "execution_count": null,
      "metadata": {
        "id": "e1-sh1g1-AyM"
      },
      "outputs": [],
      "source": [
        "!cp -r /content/drive/MyDrive/ERAI22 ."
      ]
    },
    {
      "cell_type": "code",
      "execution_count": null,
      "metadata": {
        "id": "E09Kq1Hc4BYM"
      },
      "outputs": [],
      "source": [
        "# !cp -r /content/drive/MyDrive/FLUTE22_code ."
      ]
    },
    {
      "cell_type": "code",
      "execution_count": null,
      "metadata": {
        "colab": {
          "base_uri": "https://localhost:8080/"
        },
        "id": "tc8s6Ify-DJo",
        "outputId": "f099b8ec-8367-405a-a126-d02027ea14f7"
      },
      "outputs": [
        {
          "output_type": "stream",
          "name": "stdout",
          "text": [
            "Looking in indexes: https://pypi.org/simple, https://us-python.pkg.dev/colab-wheels/public/simple/\n",
            "Requirement already satisfied: sentencepiece in /usr/local/lib/python3.7/dist-packages (0.1.97)\n"
          ]
        }
      ],
      "source": [
        "!pip install sentencepiece"
      ]
    },
    {
      "cell_type": "code",
      "execution_count": null,
      "metadata": {
        "colab": {
          "base_uri": "https://localhost:8080/"
        },
        "id": "gOJOo9HajlDK",
        "outputId": "de8ce398-851a-4857-84df-4a8de8823963"
      },
      "outputs": [
        {
          "output_type": "stream",
          "name": "stdout",
          "text": [
            "Looking in indexes: https://pypi.org/simple, https://us-python.pkg.dev/colab-wheels/public/simple/\n",
            "Requirement already satisfied: datasets in /usr/local/lib/python3.7/dist-packages (2.4.0)\n",
            "Requirement already satisfied: aiohttp in /usr/local/lib/python3.7/dist-packages (from datasets) (3.8.1)\n",
            "Requirement already satisfied: importlib-metadata in /usr/local/lib/python3.7/dist-packages (from datasets) (4.12.0)\n",
            "Requirement already satisfied: huggingface-hub<1.0.0,>=0.1.0 in /usr/local/lib/python3.7/dist-packages (from datasets) (0.9.1)\n",
            "Requirement already satisfied: tqdm>=4.62.1 in /usr/local/lib/python3.7/dist-packages (from datasets) (4.64.0)\n",
            "Requirement already satisfied: requests>=2.19.0 in /usr/local/lib/python3.7/dist-packages (from datasets) (2.23.0)\n",
            "Requirement already satisfied: packaging in /usr/local/lib/python3.7/dist-packages (from datasets) (21.3)\n",
            "Requirement already satisfied: dill<0.3.6 in /usr/local/lib/python3.7/dist-packages (from datasets) (0.3.5.1)\n",
            "Requirement already satisfied: responses<0.19 in /usr/local/lib/python3.7/dist-packages (from datasets) (0.18.0)\n",
            "Requirement already satisfied: pandas in /usr/local/lib/python3.7/dist-packages (from datasets) (1.3.5)\n",
            "Requirement already satisfied: multiprocess in /usr/local/lib/python3.7/dist-packages (from datasets) (0.70.13)\n",
            "Requirement already satisfied: xxhash in /usr/local/lib/python3.7/dist-packages (from datasets) (3.0.0)\n",
            "Requirement already satisfied: numpy>=1.17 in /usr/local/lib/python3.7/dist-packages (from datasets) (1.21.6)\n",
            "Requirement already satisfied: pyarrow>=6.0.0 in /usr/local/lib/python3.7/dist-packages (from datasets) (6.0.1)\n",
            "Requirement already satisfied: fsspec[http]>=2021.11.1 in /usr/local/lib/python3.7/dist-packages (from datasets) (2022.7.1)\n",
            "Requirement already satisfied: filelock in /usr/local/lib/python3.7/dist-packages (from huggingface-hub<1.0.0,>=0.1.0->datasets) (3.8.0)\n",
            "Requirement already satisfied: typing-extensions>=3.7.4.3 in /usr/local/lib/python3.7/dist-packages (from huggingface-hub<1.0.0,>=0.1.0->datasets) (4.1.1)\n",
            "Requirement already satisfied: pyyaml>=5.1 in /usr/local/lib/python3.7/dist-packages (from huggingface-hub<1.0.0,>=0.1.0->datasets) (6.0)\n",
            "Requirement already satisfied: pyparsing!=3.0.5,>=2.0.2 in /usr/local/lib/python3.7/dist-packages (from packaging->datasets) (3.0.9)\n",
            "Requirement already satisfied: urllib3!=1.25.0,!=1.25.1,<1.26,>=1.21.1 in /usr/local/lib/python3.7/dist-packages (from requests>=2.19.0->datasets) (1.25.11)\n",
            "Requirement already satisfied: certifi>=2017.4.17 in /usr/local/lib/python3.7/dist-packages (from requests>=2.19.0->datasets) (2022.6.15)\n",
            "Requirement already satisfied: chardet<4,>=3.0.2 in /usr/local/lib/python3.7/dist-packages (from requests>=2.19.0->datasets) (3.0.4)\n",
            "Requirement already satisfied: idna<3,>=2.5 in /usr/local/lib/python3.7/dist-packages (from requests>=2.19.0->datasets) (2.10)\n",
            "Requirement already satisfied: charset-normalizer<3.0,>=2.0 in /usr/local/lib/python3.7/dist-packages (from aiohttp->datasets) (2.1.0)\n",
            "Requirement already satisfied: frozenlist>=1.1.1 in /usr/local/lib/python3.7/dist-packages (from aiohttp->datasets) (1.3.1)\n",
            "Requirement already satisfied: async-timeout<5.0,>=4.0.0a3 in /usr/local/lib/python3.7/dist-packages (from aiohttp->datasets) (4.0.2)\n",
            "Requirement already satisfied: attrs>=17.3.0 in /usr/local/lib/python3.7/dist-packages (from aiohttp->datasets) (22.1.0)\n",
            "Requirement already satisfied: aiosignal>=1.1.2 in /usr/local/lib/python3.7/dist-packages (from aiohttp->datasets) (1.2.0)\n",
            "Requirement already satisfied: yarl<2.0,>=1.0 in /usr/local/lib/python3.7/dist-packages (from aiohttp->datasets) (1.8.1)\n",
            "Requirement already satisfied: multidict<7.0,>=4.5 in /usr/local/lib/python3.7/dist-packages (from aiohttp->datasets) (6.0.2)\n",
            "Requirement already satisfied: asynctest==0.13.0 in /usr/local/lib/python3.7/dist-packages (from aiohttp->datasets) (0.13.0)\n",
            "Requirement already satisfied: zipp>=0.5 in /usr/local/lib/python3.7/dist-packages (from importlib-metadata->datasets) (3.8.1)\n",
            "Requirement already satisfied: pytz>=2017.3 in /usr/local/lib/python3.7/dist-packages (from pandas->datasets) (2022.2.1)\n",
            "Requirement already satisfied: python-dateutil>=2.7.3 in /usr/local/lib/python3.7/dist-packages (from pandas->datasets) (2.8.2)\n",
            "Requirement already satisfied: six>=1.5 in /usr/local/lib/python3.7/dist-packages (from python-dateutil>=2.7.3->pandas->datasets) (1.15.0)\n"
          ]
        }
      ],
      "source": [
        "!pip install datasets"
      ]
    },
    {
      "cell_type": "code",
      "execution_count": null,
      "metadata": {
        "colab": {
          "base_uri": "https://localhost:8080/"
        },
        "id": "Vxa4NVzc-DLt",
        "outputId": "72609d27-a3a4-42fd-9778-42b566cccc84"
      },
      "outputs": [
        {
          "output_type": "stream",
          "name": "stdout",
          "text": [
            "  Installing build dependencies ... \u001b[?25l\u001b[?25hdone\n",
            "  Getting requirements to build wheel ... \u001b[?25l\u001b[?25hdone\n",
            "    Preparing wheel metadata ... \u001b[?25l\u001b[?25hdone\n"
          ]
        }
      ],
      "source": [
        "!pip install -q git+https://github.com/huggingface/transformers.git"
      ]
    },
    {
      "cell_type": "code",
      "execution_count": null,
      "metadata": {
        "id": "3Hk_u7uD-DOP"
      },
      "outputs": [],
      "source": [
        "import torch\n",
        "import datasets\n",
        "from transformers import T5Tokenizer, T5ForConditionalGeneration"
      ]
    },
    {
      "cell_type": "code",
      "execution_count": null,
      "metadata": {
        "id": "3hZuRuPWlPQX"
      },
      "outputs": [],
      "source": [
        "from datasets import load_from_disk\n",
        "train_dataset = load_from_disk(\"/content/ERAI22/alltrain_data_debug.hf\")"
      ]
    },
    {
      "cell_type": "code",
      "source": [
        "train_dataset"
      ],
      "metadata": {
        "colab": {
          "base_uri": "https://localhost:8080/"
        },
        "id": "rN98_OQpmGEa",
        "outputId": "5dc70f0c-c881-4673-f22a-f98f322c0b88"
      },
      "execution_count": null,
      "outputs": [
        {
          "output_type": "execute_result",
          "data": {
            "text/plain": [
              "Dataset({\n",
              "    features: ['index', 'input_ids', 'attention_mask', 'decoder_input_ids', 'labels', 'decoder_attention_mask'],\n",
              "    num_rows: 200\n",
              "})"
            ]
          },
          "metadata": {},
          "execution_count": 11
        }
      ]
    },
    {
      "cell_type": "code",
      "execution_count": null,
      "metadata": {
        "id": "OcWJ0JYi3HYw"
      },
      "outputs": [],
      "source": [
        "import json"
      ]
    },
    {
      "cell_type": "code",
      "execution_count": null,
      "metadata": {
        "id": "ypTWHIzq3Icp"
      },
      "outputs": [],
      "source": [
        "args_dict = {\n",
        "  \"model_name_or_path\": 'google/t5-v1_1-small',\n",
        "  \"max_len\": 200 ,\n",
        "  \"target_max_len\": 200,\n",
        "  \"output_dir\": './ERAI22_T5-v1.1-small_GEN',\n",
        "  \"overwrite_output_dir\": True,\n",
        "  \"per_device_train_batch_size\": 8,\n",
        "  \"per_device_eval_batch_size\": 1,\n",
        "  \"gradient_accumulation_steps\": 4,\n",
        "  \"learning_rate\": 2.5e-5,\n",
        "  \"num_train_epochs\": 250,\n",
        "  \"do_train\": True,\n",
        "  \"logging_steps\": 50,\n",
        "  \"save_total_limit\": 1,\n",
        "  \"save_steps\": 1000,\n",
        "  \"logging_dir\": \"./ERAI22_T5-v1.1-small_GEN/train_log\",\n",
        "}"
      ]
    },
    {
      "cell_type": "code",
      "execution_count": null,
      "metadata": {
        "id": "YBhdnzU63Kuc"
      },
      "outputs": [],
      "source": [
        "with open('args.json', 'w') as f:\n",
        "  json.dump(args_dict, f)"
      ]
    },
    {
      "cell_type": "code",
      "execution_count": null,
      "metadata": {
        "id": "qGKpDKwo2RDH"
      },
      "outputs": [],
      "source": [
        "import dataclasses\n",
        "import logging\n",
        "import os\n",
        "import sys\n",
        "from dataclasses import dataclass, field\n",
        "from typing import Dict, List, Optional\n",
        "\n",
        "import numpy as np\n",
        "import torch\n",
        "\n",
        "from transformers import T5ForConditionalGeneration, T5Tokenizer, EvalPrediction\n",
        "from transformers import (\n",
        "    HfArgumentParser,\n",
        "    DataCollator,\n",
        "    Seq2SeqTrainer,\n",
        "    Seq2SeqTrainingArguments,\n",
        "    set_seed,\n",
        ")\n",
        "\n",
        "\n",
        "logger = logging.getLogger(__name__)"
      ]
    },
    {
      "cell_type": "code",
      "execution_count": null,
      "metadata": {
        "colab": {
          "base_uri": "https://localhost:8080/"
        },
        "id": "qgaoeGGg5yC-",
        "outputId": "8468d4f3-c0f6-460b-cc76-2e6711c619c3"
      },
      "outputs": [
        {
          "output_type": "execute_result",
          "data": {
            "text/plain": [
              "function"
            ]
          },
          "metadata": {},
          "execution_count": 109
        }
      ],
      "source": [
        "type(DataCollator)"
      ]
    },
    {
      "cell_type": "code",
      "execution_count": null,
      "metadata": {
        "id": "_PC-mXB92RFW"
      },
      "outputs": [],
      "source": [
        "# # prepares lm_labels from target_ids, returns examples with keys as expected by the forward method\n",
        "# # this is necessacry because the trainer directly passes this dict as arguments to the model\n",
        "# # so make sure the keys match the parameter names of the forward method\n",
        "# @dataclass\n",
        "# class T2TDataCollator:\n",
        "#   def __call__(self, batch: List) -> Dict[str, torch.Tensor]:\n",
        "#       \"\"\"\n",
        "#       Take a list of samples from a Dataset and collate them into a batch.\n",
        "#       Returns:\n",
        "#           A dictionary of tensors\n",
        "#       \"\"\"\n",
        "#       input_ids = torch.stack([torch.FloatTensor(example['input_ids']) for example in batch])\n",
        "#       lm_labels = torch.stack([torch.FloatTensor(example['target_ids']) for example in batch])\n",
        "#       lm_labels[lm_labels[:, :] == 0] = -100\n",
        "#       attention_mask = torch.stack([example['attention_mask'] for example in batch])\n",
        "#       decoder_attention_mask = torch.stack([example['target_attention_mask'] for example in batch])\n",
        "      \n",
        "\n",
        "#       return {\n",
        "#           'input_ids': input_ids, \n",
        "#           'attention_mask': attention_mask,\n",
        "#           'lm_labels': lm_labels, \n",
        "#           'decoder_attention_mask': decoder_attention_mask\n",
        "#       }"
      ]
    },
    {
      "cell_type": "code",
      "execution_count": null,
      "metadata": {
        "id": "7oB7TWIG2RHy"
      },
      "outputs": [],
      "source": [
        "set_seed(123);"
      ]
    },
    {
      "cell_type": "code",
      "execution_count": null,
      "metadata": {
        "id": "D8KE_bZG2RKL"
      },
      "outputs": [],
      "source": [
        "@dataclass\n",
        "class ModelArguments:\n",
        "    \"\"\"\n",
        "    Arguments pertaining to which model/config/tokenizer we are going to fine-tune from.\n",
        "    \"\"\"\n",
        "\n",
        "    model_name_or_path: str = field(\n",
        "        metadata={\"help\": \"Path to pretrained model or model identifier from huggingface.co/models\"}\n",
        "    )\n",
        "    tokenizer_name: Optional[str] = field(\n",
        "        default=None, metadata={\"help\": \"Pretrained tokenizer name or path if not the same as model_name\"}\n",
        "    )\n",
        "    cache_dir: Optional[str] = field(\n",
        "        default=None, metadata={\"help\": \"Where do you want to store the pretrained models downloaded from s3\"}\n",
        "    )"
      ]
    },
    {
      "cell_type": "code",
      "execution_count": null,
      "metadata": {
        "id": "DoKwTHp-2RMT"
      },
      "outputs": [],
      "source": [
        "@dataclass\n",
        "class DataTrainingArguments:\n",
        "    \"\"\"\n",
        "    Arguments pertaining to what data we are going to input our model for training and eval.\n",
        "    \"\"\"\n",
        "    train_file_path: Optional[str] = field(\n",
        "        default='train_data.pt',\n",
        "        metadata={\"help\": \"Path for cached train dataset\"},\n",
        "    )\n",
        "    valid_file_path: Optional[str] = field(\n",
        "        default='valid_data.pt',\n",
        "        metadata={\"help\": \"Path for cached valid dataset\"},\n",
        "    )\n",
        "    max_len: Optional[int] = field(\n",
        "        default=200,\n",
        "        metadata={\"help\": \"Max input length for the source text\"},\n",
        "    )\n",
        "    target_max_len: Optional[int] = field(\n",
        "        default=200,\n",
        "        metadata={\"help\": \"Max input length for the target text\"},\n",
        "    )"
      ]
    },
    {
      "cell_type": "code",
      "execution_count": null,
      "metadata": {
        "id": "U5VTyW9c3jOg",
        "colab": {
          "base_uri": "https://localhost:8080/"
        },
        "outputId": "69d7266f-0720-4412-92f2-7b5b6271aead"
      },
      "outputs": [
        {
          "output_type": "stream",
          "name": "stderr",
          "text": [
            "PyTorch: setting up devices\n",
            "The default value for the training argument `--report_to` will change in v5 (from all installed integrations to none). In v5, you will need to use `--report_to all` to get the same behavior as now. You should start updating your code and make this info disappear :-).\n"
          ]
        }
      ],
      "source": [
        "parser = HfArgumentParser((ModelArguments, DataTrainingArguments, Seq2SeqTrainingArguments))\n",
        "\n",
        "# we will load the arguments from a json file, \n",
        "#make sure you save the arguments in at ./args.json\n",
        "model_args, data_args, training_args = parser.parse_json_file(json_file=os.path.abspath('args.json'))"
      ]
    },
    {
      "cell_type": "code",
      "execution_count": null,
      "metadata": {
        "id": "oZ4OOEOJ4Ck7"
      },
      "outputs": [],
      "source": [
        "# Setup logging\n",
        "logging.basicConfig(\n",
        "  format=\"%(asctime)s - %(levelname)s - %(name)s -   %(message)s\",\n",
        "  datefmt=\"%m/%d/%Y %H:%M:%S\",\n",
        "  level=logging.INFO if training_args.local_rank in [-1, 0] else logging.WARN,\n",
        ")\n",
        "logger.info(\"Training/evaluation parameters %s\", training_args)"
      ]
    },
    {
      "cell_type": "code",
      "execution_count": null,
      "metadata": {
        "id": "ryro6Ftr4C2c"
      },
      "outputs": [],
      "source": []
    },
    {
      "cell_type": "code",
      "execution_count": null,
      "metadata": {
        "colab": {
          "base_uri": "https://localhost:8080/"
        },
        "id": "DQqDszas30PR",
        "outputId": "9f556de1-ddaa-4a7f-d4e7-3e3afc07034b"
      },
      "outputs": [
        {
          "output_type": "stream",
          "name": "stderr",
          "text": [
            "loading file spiece.model from cache at /root/.cache/huggingface/hub/models--google--t5-v1_1-small/snapshots/fb7e6cba609f7bab11c614294bc04f82f613c7b1/spiece.model\n",
            "loading file added_tokens.json from cache at None\n",
            "loading file special_tokens_map.json from cache at /root/.cache/huggingface/hub/models--google--t5-v1_1-small/snapshots/fb7e6cba609f7bab11c614294bc04f82f613c7b1/special_tokens_map.json\n",
            "loading file tokenizer_config.json from cache at /root/.cache/huggingface/hub/models--google--t5-v1_1-small/snapshots/fb7e6cba609f7bab11c614294bc04f82f613c7b1/tokenizer_config.json\n",
            "loading configuration file config.json from cache at /root/.cache/huggingface/hub/models--google--t5-v1_1-small/snapshots/fb7e6cba609f7bab11c614294bc04f82f613c7b1/config.json\n",
            "Model config T5Config {\n",
            "  \"_name_or_path\": \"google/t5-v1_1-small\",\n",
            "  \"architectures\": [\n",
            "    \"T5ForConditionalGeneration\"\n",
            "  ],\n",
            "  \"d_ff\": 1024,\n",
            "  \"d_kv\": 64,\n",
            "  \"d_model\": 512,\n",
            "  \"decoder_start_token_id\": 0,\n",
            "  \"dense_act_fn\": \"gelu_new\",\n",
            "  \"dropout_rate\": 0.1,\n",
            "  \"eos_token_id\": 1,\n",
            "  \"feed_forward_proj\": \"gated-gelu\",\n",
            "  \"initializer_factor\": 1.0,\n",
            "  \"is_encoder_decoder\": true,\n",
            "  \"is_gated_act\": true,\n",
            "  \"layer_norm_epsilon\": 1e-06,\n",
            "  \"model_type\": \"t5\",\n",
            "  \"num_decoder_layers\": 8,\n",
            "  \"num_heads\": 6,\n",
            "  \"num_layers\": 8,\n",
            "  \"output_past\": true,\n",
            "  \"pad_token_id\": 0,\n",
            "  \"relative_attention_max_distance\": 128,\n",
            "  \"relative_attention_num_buckets\": 32,\n",
            "  \"tie_word_embeddings\": false,\n",
            "  \"transformers_version\": \"4.22.0.dev0\",\n",
            "  \"use_cache\": true,\n",
            "  \"vocab_size\": 32128\n",
            "}\n",
            "\n"
          ]
        }
      ],
      "source": [
        "tokenizer = T5Tokenizer.from_pretrained(\n",
        "        model_args.tokenizer_name if model_args.tokenizer_name else model_args.model_name_or_path,\n",
        "        cache_dir=model_args.cache_dir,\n",
        "        model_max_length=256,\n",
        "    )"
      ]
    },
    {
      "cell_type": "code",
      "execution_count": null,
      "metadata": {
        "colab": {
          "base_uri": "https://localhost:8080/"
        },
        "id": "Muw6_4MU30Rw",
        "outputId": "fd0373ed-e63f-4802-eeeb-cfbdbc2c5db1"
      },
      "outputs": [
        {
          "output_type": "stream",
          "name": "stderr",
          "text": [
            "loading configuration file config.json from cache at /root/.cache/huggingface/hub/models--google--t5-v1_1-small/snapshots/fb7e6cba609f7bab11c614294bc04f82f613c7b1/config.json\n",
            "Model config T5Config {\n",
            "  \"architectures\": [\n",
            "    \"T5ForConditionalGeneration\"\n",
            "  ],\n",
            "  \"d_ff\": 1024,\n",
            "  \"d_kv\": 64,\n",
            "  \"d_model\": 512,\n",
            "  \"decoder_start_token_id\": 0,\n",
            "  \"dense_act_fn\": \"gelu_new\",\n",
            "  \"dropout_rate\": 0.1,\n",
            "  \"eos_token_id\": 1,\n",
            "  \"feed_forward_proj\": \"gated-gelu\",\n",
            "  \"initializer_factor\": 1.0,\n",
            "  \"is_encoder_decoder\": true,\n",
            "  \"is_gated_act\": true,\n",
            "  \"layer_norm_epsilon\": 1e-06,\n",
            "  \"model_type\": \"t5\",\n",
            "  \"num_decoder_layers\": 8,\n",
            "  \"num_heads\": 6,\n",
            "  \"num_layers\": 8,\n",
            "  \"output_past\": true,\n",
            "  \"pad_token_id\": 0,\n",
            "  \"relative_attention_max_distance\": 128,\n",
            "  \"relative_attention_num_buckets\": 32,\n",
            "  \"tie_word_embeddings\": false,\n",
            "  \"transformers_version\": \"4.22.0.dev0\",\n",
            "  \"use_cache\": true,\n",
            "  \"vocab_size\": 32128\n",
            "}\n",
            "\n",
            "loading weights file pytorch_model.bin from cache at /root/.cache/huggingface/hub/models--google--t5-v1_1-small/snapshots/fb7e6cba609f7bab11c614294bc04f82f613c7b1/pytorch_model.bin\n",
            "All model checkpoint weights were used when initializing T5ForConditionalGeneration.\n",
            "\n",
            "All the weights of T5ForConditionalGeneration were initialized from the model checkpoint at google/t5-v1_1-small.\n",
            "If your task is similar to the task the model of the checkpoint was trained on, you can already use T5ForConditionalGeneration for predictions without further training.\n"
          ]
        }
      ],
      "source": [
        "model = T5ForConditionalGeneration.from_pretrained(\n",
        "    model_args.model_name_or_path,\n",
        "    cache_dir=model_args.cache_dir,\n",
        ")"
      ]
    },
    {
      "cell_type": "code",
      "execution_count": null,
      "metadata": {
        "id": "VHRLsDvFG_gu"
      },
      "outputs": [],
      "source": [
        "from transformers import DataCollatorForSeq2Seq\n",
        "\n",
        "T2TDataCollator = DataCollatorForSeq2Seq(tokenizer=tokenizer, model=model, padding='max_length',  max_length=200, return_tensors='pt')"
      ]
    },
    {
      "cell_type": "code",
      "execution_count": null,
      "metadata": {
        "id": "RHRTZstZ30UU"
      },
      "outputs": [],
      "source": [
        "# from transformers import DataCollatorWithPadding\n",
        "\n",
        "# T2TDataCollator = DataCollatorWithPadding(tokenizer=tokenizer,  padding='max_length', max_length=512, return_tensors='pt')"
      ]
    },
    {
      "cell_type": "code",
      "execution_count": null,
      "metadata": {
        "id": "UoZL52wnfVPD"
      },
      "outputs": [],
      "source": []
    },
    {
      "cell_type": "code",
      "execution_count": null,
      "metadata": {
        "id": "wstaNoGs3sR7"
      },
      "outputs": [],
      "source": [
        "# Initialize our Trainer\n",
        "trainer = Seq2SeqTrainer(\n",
        "    model=model,\n",
        "    args=training_args,\n",
        "    train_dataset=train_dataset,\n",
        "    data_collator=T2TDataCollator,\n",
        ")"
      ]
    },
    {
      "cell_type": "code",
      "execution_count": null,
      "metadata": {
        "id": "GSRVxiUv30M0",
        "colab": {
          "base_uri": "https://localhost:8080/",
          "height": 1000
        },
        "outputId": "ca879a95-9b8e-4ba1-b79e-0e04961c465b"
      },
      "outputs": [
        {
          "output_type": "stream",
          "name": "stderr",
          "text": [
            "/usr/local/lib/python3.7/dist-packages/transformers/trainer.py:1470: FutureWarning: `model_path` is deprecated and will be removed in a future version. Use `resume_from_checkpoint` instead.\n",
            "  FutureWarning,\n",
            "The following columns in the training set don't have a corresponding argument in `T5ForConditionalGeneration.forward` and have been ignored: index. If index are not expected by `T5ForConditionalGeneration.forward`,  you can safely ignore this message.\n",
            "/usr/local/lib/python3.7/dist-packages/transformers/optimization.py:310: FutureWarning: This implementation of AdamW is deprecated and will be removed in a future version. Use the PyTorch implementation torch.optim.AdamW instead, or set `no_deprecation_warning=True` to disable this warning\n",
            "  FutureWarning,\n",
            "***** Running training *****\n",
            "  Num examples = 200\n",
            "  Num Epochs = 250\n",
            "  Instantaneous batch size per device = 8\n",
            "  Total train batch size (w. parallel, distributed & accumulation) = 32\n",
            "  Gradient Accumulation steps = 4\n",
            "  Total optimization steps = 1500\n"
          ]
        },
        {
          "output_type": "display_data",
          "data": {
            "text/plain": [
              "<IPython.core.display.HTML object>"
            ],
            "text/html": [
              "\n",
              "    <div>\n",
              "      \n",
              "      <progress value='1500' max='1500' style='width:300px; height:20px; vertical-align: middle;'></progress>\n",
              "      [1500/1500 27:22, Epoch 249/250]\n",
              "    </div>\n",
              "    <table border=\"1\" class=\"dataframe\">\n",
              "  <thead>\n",
              " <tr style=\"text-align: left;\">\n",
              "      <th>Step</th>\n",
              "      <th>Training Loss</th>\n",
              "    </tr>\n",
              "  </thead>\n",
              "  <tbody>\n",
              "    <tr>\n",
              "      <td>50</td>\n",
              "      <td>57.262300</td>\n",
              "    </tr>\n",
              "    <tr>\n",
              "      <td>100</td>\n",
              "      <td>43.559000</td>\n",
              "    </tr>\n",
              "    <tr>\n",
              "      <td>150</td>\n",
              "      <td>24.825200</td>\n",
              "    </tr>\n",
              "    <tr>\n",
              "      <td>200</td>\n",
              "      <td>8.640900</td>\n",
              "    </tr>\n",
              "    <tr>\n",
              "      <td>250</td>\n",
              "      <td>4.841600</td>\n",
              "    </tr>\n",
              "    <tr>\n",
              "      <td>300</td>\n",
              "      <td>4.020200</td>\n",
              "    </tr>\n",
              "    <tr>\n",
              "      <td>350</td>\n",
              "      <td>3.456000</td>\n",
              "    </tr>\n",
              "    <tr>\n",
              "      <td>400</td>\n",
              "      <td>2.899800</td>\n",
              "    </tr>\n",
              "    <tr>\n",
              "      <td>450</td>\n",
              "      <td>2.373900</td>\n",
              "    </tr>\n",
              "    <tr>\n",
              "      <td>500</td>\n",
              "      <td>1.873000</td>\n",
              "    </tr>\n",
              "    <tr>\n",
              "      <td>550</td>\n",
              "      <td>1.402600</td>\n",
              "    </tr>\n",
              "    <tr>\n",
              "      <td>600</td>\n",
              "      <td>1.022500</td>\n",
              "    </tr>\n",
              "    <tr>\n",
              "      <td>650</td>\n",
              "      <td>0.734600</td>\n",
              "    </tr>\n",
              "    <tr>\n",
              "      <td>700</td>\n",
              "      <td>0.520400</td>\n",
              "    </tr>\n",
              "    <tr>\n",
              "      <td>750</td>\n",
              "      <td>0.382900</td>\n",
              "    </tr>\n",
              "    <tr>\n",
              "      <td>800</td>\n",
              "      <td>0.282400</td>\n",
              "    </tr>\n",
              "    <tr>\n",
              "      <td>850</td>\n",
              "      <td>0.210500</td>\n",
              "    </tr>\n",
              "    <tr>\n",
              "      <td>900</td>\n",
              "      <td>0.156200</td>\n",
              "    </tr>\n",
              "    <tr>\n",
              "      <td>950</td>\n",
              "      <td>0.125400</td>\n",
              "    </tr>\n",
              "    <tr>\n",
              "      <td>1000</td>\n",
              "      <td>0.103100</td>\n",
              "    </tr>\n",
              "    <tr>\n",
              "      <td>1050</td>\n",
              "      <td>0.088100</td>\n",
              "    </tr>\n",
              "    <tr>\n",
              "      <td>1100</td>\n",
              "      <td>0.078900</td>\n",
              "    </tr>\n",
              "    <tr>\n",
              "      <td>1150</td>\n",
              "      <td>0.071600</td>\n",
              "    </tr>\n",
              "    <tr>\n",
              "      <td>1200</td>\n",
              "      <td>0.066600</td>\n",
              "    </tr>\n",
              "    <tr>\n",
              "      <td>1250</td>\n",
              "      <td>0.062600</td>\n",
              "    </tr>\n",
              "    <tr>\n",
              "      <td>1300</td>\n",
              "      <td>0.058900</td>\n",
              "    </tr>\n",
              "    <tr>\n",
              "      <td>1350</td>\n",
              "      <td>0.057200</td>\n",
              "    </tr>\n",
              "    <tr>\n",
              "      <td>1400</td>\n",
              "      <td>0.057300</td>\n",
              "    </tr>\n",
              "    <tr>\n",
              "      <td>1450</td>\n",
              "      <td>0.054600</td>\n",
              "    </tr>\n",
              "    <tr>\n",
              "      <td>1500</td>\n",
              "      <td>0.053700</td>\n",
              "    </tr>\n",
              "  </tbody>\n",
              "</table><p>"
            ]
          },
          "metadata": {}
        },
        {
          "output_type": "stream",
          "name": "stderr",
          "text": [
            "Saving model checkpoint to ./ERAI22_T5-v1.1-small_GEN/checkpoint-1000\n",
            "Configuration saved in ./ERAI22_T5-v1.1-small_GEN/checkpoint-1000/config.json\n",
            "Model weights saved in ./ERAI22_T5-v1.1-small_GEN/checkpoint-1000/pytorch_model.bin\n",
            "Deleting older checkpoint [ERAI22_T5-v1.1-small_GEN/checkpoint-1200] due to args.save_total_limit\n",
            "\n",
            "\n",
            "Training completed. Do not forget to share your model on huggingface.co/models =)\n",
            "\n",
            "\n",
            "Saving model checkpoint to ./ERAI22_T5-v1.1-small_GEN\n",
            "Configuration saved in ./ERAI22_T5-v1.1-small_GEN/config.json\n",
            "Model weights saved in ./ERAI22_T5-v1.1-small_GEN/pytorch_model.bin\n",
            "tokenizer config file saved in ./ERAI22_T5-v1.1-small_GEN/tokenizer_config.json\n",
            "Special tokens file saved in ./ERAI22_T5-v1.1-small_GEN/special_tokens_map.json\n"
          ]
        }
      ],
      "source": [
        "# Training\n",
        "if training_args.do_train:\n",
        "  trainer.train(\n",
        "      model_path=model_args.model_name_or_path if os.path.isdir(model_args.model_name_or_path) else None\n",
        "  )\n",
        "  trainer.save_model()\n",
        "  # For convenience, we also re-save the tokenizer to the same directory,\n",
        "  # so that you can share your model easily on huggingface.co/models =)\n",
        "  if trainer.is_world_process_zero():\n",
        "    tokenizer.save_pretrained(training_args.output_dir)"
      ]
    },
    {
      "cell_type": "code",
      "execution_count": null,
      "metadata": {
        "id": "kcL6EoJC0jDe",
        "colab": {
          "base_uri": "https://localhost:8080/"
        },
        "outputId": "9f6f5980-60a5-434c-c795-4a7f967ace8e"
      },
      "outputs": [
        {
          "output_type": "stream",
          "name": "stderr",
          "text": [
            "tokenizer config file saved in ./ERAI22_T5-v1.1-small_GEN/tokenizer_config.json\n",
            "Special tokens file saved in ./ERAI22_T5-v1.1-small_GEN/special_tokens_map.json\n"
          ]
        }
      ],
      "source": [
        "if trainer.is_world_process_zero():\n",
        "   tokenizer.save_pretrained(training_args.output_dir)"
      ]
    },
    {
      "cell_type": "code",
      "execution_count": null,
      "metadata": {
        "id": "IXLc86pU0rxL"
      },
      "outputs": [],
      "source": [
        "!cp -r /content/ERAI22_T5-v1.1-small_GEN /content/drive/MyDrive/"
      ]
    },
    {
      "cell_type": "code",
      "execution_count": null,
      "metadata": {
        "id": "qe2E9wHZyrKL"
      },
      "outputs": [],
      "source": [
        "# torch.save(model, './t5.pt')"
      ]
    },
    {
      "cell_type": "code",
      "execution_count": null,
      "metadata": {
        "id": "z-8_LnUN09k-"
      },
      "outputs": [],
      "source": [
        "model.eval();"
      ]
    },
    {
      "cell_type": "code",
      "execution_count": null,
      "metadata": {
        "id": "4uyrbJYytI4l"
      },
      "outputs": [],
      "source": [
        "import json"
      ]
    },
    {
      "cell_type": "code",
      "execution_count": null,
      "metadata": {
        "id": "QplU5bjdtI7R"
      },
      "outputs": [],
      "source": [
        "answers = []\n",
        "with open(\"/content/ERAI22/ERAI_Dataset_pairwise_test_with_translation.json\",'r') as f:\n",
        "    answers = json.load(f)"
      ]
    },
    {
      "cell_type": "code",
      "execution_count": null,
      "metadata": {
        "colab": {
          "base_uri": "https://localhost:8080/"
        },
        "id": "cwyy2nGRtJAN",
        "outputId": "16657d63-27ed-4413-8717-032b5eb48956"
      },
      "outputs": [
        {
          "output_type": "execute_result",
          "data": {
            "text/plain": [
              "[{'index': 400,\n",
              "  'post1': '這一兩天穩穩地走，感覺不錯！\\n 雖然失去攤平的機會，但是虧損穩定變少，也可以多留點現金在身旁。\\n －－－－－－－－－－－－－－－－\\n \\n 補一下營收，月減12%',\n",
              "  'post2': '神達:代子公司Silver Star Developments Ltd.公告董事會決議股利分派情形\\n 1.董事會決議日期:108/11/18\\n 2.發放股利種類及金額:\\n Silver Star Developments Ltd.\\n 現金股利：美金17,000,000元\\n \\n Silver Star Developments 好像專門在買/賣 SYNNEX CORPORATION 股票\\n 2018年有賣,有進 ....\\n 2019年倒沒看到進出\\n 不過真好野 ....股利1700萬美刀 ...換成台幣是5.1e....如果是100%持有的子公司\\n 大概可以貢獻 0.47元\\n 樂觀一點大概eps可以看到3\\n 所以股價30~33應該是合理的',\n",
              "  'post1_en': 'I walked steadily these two days and felt good!\\n Although losing the opportunity to flatten, but the loss of losses and stability, you can also leave more cash beside you.\\n ——————————————————————————————————————————————————————————\\n \\n Make up the revenue, a monthly decrease of 12%',\n",
              "  'post2_en': \"Shenda: Daizi Silver Star Developments LTD. Announcement of the Board of Direct\\n 1. Board resolution date: 108/11/18\\n 2. Distribution types and amounts:\\n Silver Star Developments LTD.\\n Cash dividend: US $ 17,000,000 yuan\\n \\n Silver Star Developments seems to be buying/selling Synnex Corporation stocks\\n Sell \\u200b\\u200bin 2018, there is advancement ...\\n I didn't see it in and out in 2019\\n But it's so good .... The dividend of 17 million dollars ... the replacement of Taiwan dollars is 5.1E .... If it is a subsidiary of 100%held\\n It can contribute 0.47 yuan\\n Optimistic about EPS, you can see 3\\n So the stock price 30 ~ 33 should be reasonable\"},\n",
              " {'index': 402,\n",
              "  'post1': '話說統一獲利真的很穩定，每股盈餘年年都差不多2塊半左右，以前還有配股，今年公告僅配息2元，配息超過3元的個股多得很，但股價都沒有這麼好，統一為何可以在這麼不起眼的獲利跟配息，卻維持這麼好的股價呢？',\n",
              "  'post2': '向下探底，今天來到56.5元，以配息兩元，合理股價應該還有一段差距吧！讓我們再看下去',\n",
              "  'post1_en': 'It is said that the unified profit is really stable. The earnings per share are almost about 2 and a half yuan. There were still allocating shares before. This year, the announcement of only 2 yuan for the dividend of the distribution and the dividend of more than 3 yuan was made. Well, why can unification be so good profit and dividend, but maintain such a good stock price?',\n",
              "  'post2_en': \"Fix the bottom, come to 56.5 yuan today, with two yuan for dividend, there should be a gap in the reasonable stock price! Let's look at it again\"},\n",
              " {'index': 404,\n",
              "  'post1': '統一這一波的漲勢真是猛。\\n 有甚麼消息嗎？',\n",
              "  'post2': '統一的股價創新高...\\n 對我這個長期定存統一股票的人，\\n 只能說',\n",
              "  'post1_en': 'The rise of this wave of unification is really fierce.\\n Is there any news?',\n",
              "  'post2_en': 'Unified stock price innovation high ...\\n For me who has a long -term deposit of unified stocks,\\n can only say'},\n",
              " {'index': 406,\n",
              "  'post1': '統一這一波跌得真慘 \\n 外資在股價跌到65的時候才降評，\\n 是不是真的想要減碼啊？ \\n \\n 《食品股》外資降評砍價 統一中箭臉綠\\n 2020年9月4日 上午10:49 時報資訊\\n \\n 【時報記者郭鴻慧台北報導】美系外資在新出爐的報告中，調降統一(1216)評等由「中立」降至「減碼」，目標價由原先的74元調降至58元。統一今日股價開低後，壓低在平盤下方整理，跌幅約1%左右。 美系外資說，統一轉投資的統一實(9907)前景仍疲軟，而統一超(2912)和統一的成長前景抱持「中立」看法。因統一集團的獲利成長前景冷淡，股東報酬率(ROE)趨勢下滑，加上統一股價表現優於其子公司，目前投資價值難以為繼，決定調降評等及目標價。 由統一企業、統清公司與高雄市台灣麵包大使協會共同主辦的烘焙王暨世界麵包大賽，台灣區準決賽將在9月9日開打，今年賽事匯集11位來自全台各地的烘焙高手，在準決賽現場將展現各自全能型烘焙工藝，每位選手帶來十款烘焙作品加上藝術麵包。果味、酒香、辛香料、跳跳糖等各色食材在麵包中創意迸發新滋味。準決賽將選出六強晉級動態決賽，於年底再爭奪世界麵包大賽的參賽門票。',\n",
              "  'post2': '盤中給賣掉，現在給我漲起~~氣死人',\n",
              "  'post1_en': 'The unified wave of this wave has fallen really miserable\\n When the stock price fell to 65, the foreign investment was reduced.\\n Do you really want to reduce the code?\\n \\n \"Food Stocks\" foreign investment and bargaining and bargaining unified noodles green face green\\n September 4, 2020 at 10:49 Times News\\n \\n [Times reporter Guo Honghui Taipei Report] In the newly released report, US foreign investment was reduced from \"neutral\" to \"reduced code\", and the target price was reduced from the original 74 yuan to 58 yuan. After the stock price opened today, the stock price was lowered under the flat disk, and the decline was about 1%. US foreign capital said that the prospect of the unified re -investor (9907) is still weak, while the unified super (2912) and unified growth prospects hold the \"neutral\" view.Due to the cold prospects of the unified group\\'s profit growth, the trend of the shareholders\\' return (ROE) has declined, and the unified stock price performance is better than its subsidiary company. At present, the investment value is difficult to sustain, and the target price is decided to adjust the evaluation. The baking king and World Bread Contest co -sponsored by Unified Enterprises, Unified Corporation, and the Taiwan Bread Ambassador Association of Kaohsiung City. The quasi -finals will show their own all -around baking processes. Each player brings ten baking works and art bread.Fruit flavor, wine aroma, spices, jumping sugar and other ingredients have a new taste in the bread. The finals will be selected to the top six promotional finals, and at the end of the year, they will compete for tickets for the World Bread Contest at the end of the year.',\n",
              "  'post2_en': 'Sold it on the plate, and now give me up ~~ Furious people'},\n",
              " {'index': 408,\n",
              "  'post1': '今天交完稅後，還有一點錢，\\n 又進了一張群創，\\n 進在11.3，\\n 把套牢股票減少一點解套壓力。',\n",
              "  'post2': '融資昨天暴增 要小心點\\n 可能又要盤個幾天才會繼續往上攻\\n 27日資券尚未出來~ 繼續看下去...',\n",
              "  'post1_en': 'After paying the tax today, there is still a little money,\\n I entered another group of creation,\\n Entry at 11.3,\\n Reduce the stress of the stock a little decompression.',\n",
              "  'post2_en': 'Funding is so careful yesterday\\n Maybe it may take a few days to continue to attack\\n The bonds have not yet come out on the 27th ~ Continue to watch ...'},\n",
              " {'index': 410,\n",
              "  'post1': '今天減碼一部分，從 10.x 已經漲了 50%，\\n 尤其是這幾天漲太兇了，會怕怕。',\n",
              "  'post2': '就昨天想的差不多~~跌到昨天最低點14.5雖有破但隨即大單接接所以買在14.55~14.75附近\\n \\n 沒有融資操作所以買不多,搶個反彈試試',\n",
              "  'post1_en': 'Today, a part of the code reduction has increased by 50%from 10.x,\\n Especially these days, it has been so fierce that it will be afraid.',\n",
              "  'post2_en': 'I was almost thinking yesterday ~~ I fell to the lowest point of yesterday 14.5, although there were broken, so they were connected by the big order, so I bought it near 14.55 ~ 14.75\\n \\n No financing operation, so I do n’t buy much, grab a rebound, try'},\n",
              " {'index': 412,\n",
              "  'post1': '已經在持續加碼中了\\n \\n 朝向50張邁進!!',\n",
              "  'post2': '群創今日股價已貼上月線\\n \\n \\n \\n 7/28星期一為Q2法說\\n 當Q2財報公布時，大家認為走勢會如何呢?\\n 再加上7/29開始為現金增資繳款日\\n 小弟認為，可能開平或開低，破一下月線\\n 然後盤中開始拉拉拉，然後一堆利多消息都出來了\\n 不知大家以為如何呢?',\n",
              "  'post1_en': 'Already continued to increase\\n \\n Go to 50 photos !!',\n",
              "  'post2_en': \"Qunchuang's stock price has been posted on the monthly line today\\n \\n \\n \\n 7/28 Monday is the Q2 method of Q2\\n When Q2's financial report was announced, what do you think of the trend?\\n Coupled with 7/29, starting the date of capital increase payment for cash\\n The younger brother thinks that it may be flat or low, break the month line\\n Then start Lala on the plate, and then a bunch of List news came out\\n I wonder what everyone thinks?\"},\n",
              " {'index': 414,\n",
              "  'post1': '真的好可愛。我也想買幾張，但是買不起。',\n",
              "  'post2': '聯發科市值衝破9000億元 登台股第三大權值股\\n \\n 鉅亨網記者魏志豪 2020年6月22日\\n \\n 手機晶片大廠聯發科 (2454-TW) 受惠 5G 晶片需求強，近期股價沿五日線上攻，今 (22) 日再度大漲逾半根漲停板、收最高，達 576 元，創 10 年多新高，市值達 9151 億元，超越中華電 (2412-TW)，躍居台股市值第三大。\\n \\n 聯發科近期股價表現強勢，從今年最低點 273 元起，一路上漲至今日最高點 576 元，股價翻倍漲，市值大增約 4800 億元，今日更達 9151 億元，超越中華電信的 8800 億元，躍居台股第 3 大市值個股。',\n",
              "  'post1_en': \"It's really cute. I also want to buy a few, but I can't afford it.\",\n",
              "  'post2_en': \"MediaTek's market value exceeds 900 billion yuan, the third largest equity stock on the stage\\n \\n Reporter Wei Zhihao, June 22, 2020\\n \\n The mobile chip large factory MediaTek (2454-TW) benefited 5G chip demand. Recently, the stock price has attacked along the fifth day. Today (22) has risen more than half of the daily limit and the highest closure, reaching 576 yuan, a new high of 10 years, a new high of 10 years. The market value reached 915.1 billion yuan, surpassing China Power (2412-TW), and jumped to the third largest market value of Taiwan stocks.\\n \\n MediaTek's recent stock price has performed strongly. From the lowest point of this year, the lowest point has risen to the highest point today, the highest point is 576 yuan, the stock price doubles, the market value has increased by about 480 billion yuan, and today is 915.1 billion yuan, surpassing China Telecom's 880 billion yuan , Lumping to Taiwan's third largest market value stocks.\"},\n",
              " {'index': 416,\n",
              "  'post1': '《半導體》聯發科創天價 飛越「6」字頭\\n 2020年7月7日 上午9:25\\n \\n 【時報記者王逸芯台北報導】聯發科(2454)繼昨日上演開盤瞬間填息秀後，今股價持續強攻，開高走高，漲幅一度逾2%，股價最高達606元，再創歷史新高。\\n \\n 聯發科下半年在大陸全力拚建5G下，預計會有明顯的5G換機潮，目前一線品牌大廠華為、OPPO、vivo以及小米等均為聯發科重要客戶，隨著大陸已經出現價格帶2000元人民幣的手機下，滲透率將會快速成長，有利於聯發科5G晶片拉貨潮。\\n \\n 聯發科在5G SoC(系統單晶片)上產品種類豐富，包括天璣1000、天璣1000+、天璣800、天璣820等，預計下半年還會持續有新品推出，讓各個價格帶的手機都有合適的晶片，加快5G智慧機普及率。',\n",
              "  'post2': '〈聯發科新晶片亮相〉天璣700系列首度問世 再攻5G中階市場\\n 鉅亨網記者魏志豪 台北2020/07/23 10:20\\n \\n \\n 聯發科天璣700系列首次問世 再攻5G中端市場。(圖:聯發科提供)\\n \\n 手機晶片大廠聯發科 (2454-TW) 今 (23) 日宣布，將推出最新系列產品天璣 720(Dimensity 720)，是繼天璣 800 系列後，再度推出滿足中階市場的產品，可望豐富 5G SoC(系統單晶片)的產品實力及廣度。\\n \\n 無線通訊事業部副總李彥輯表示，天璣 720 採用 7 奈米製程，整合低功耗 5G 數據機，同時支援獨家 5G UltraSave 省電技術，可根據網路環境及資料傳輸情況，動態調整數據機的工作模式，延長電池續航力，有助終端廠商為全球消費者打造差異化的 5G 手機。\\n \\n 此外，天璣 720 也具備出色的顯示和影像技術，可支援 90 Hz 高顯示更新率，實現快速、流暢的遊戲與串流媒體播放，並支援多鏡頭配置，最高可支援 6400 萬像素，或是 2000 萬與 1600 萬像素雙鏡頭的組合。\\n \\n 聯發科目前一共推出三系列的 5G 晶片，包括天璣 1000、800 以及 700 系列，其中，天璣 1000 系列主攻高階市場，天璣 800 與 700 系列則分別搶攻中高階與中階市場，市場預期，聯發科也將在今年第四季或明年初，推出更平價的 400 系列，且將首度採用 6 奈米製程，增加產品競爭力。',\n",
              "  'post1_en': '\"Semiconductor\" MediaTek creates sky -high prices to fly over the \"6\" word \"6\"\\n 9:25 am on July 7, 2020\\n \\n [Times reporter Wang Yixin Taipei Report] After the opening of the opening of the opening of the opening of the opening of the market yesterday, the stock price continued to attack, and the increase was more than 2%. The stock price reached a maximum of 606 yuan.\\n \\n Under the mainland\\'s full efforts to build 5G in the second half of the year, there will be an obvious wave of 5G replacement. At present, the first -tier brand large manufacturers Huawei, OPPO, vivo, and Xiaomi are important customers of MediaTek. Under the mobile phone, the penetration rate will grow rapidly, which will help MediaTek\\'s 5G chip to pull the goods.MediaTek has rich products on 5G SOC (system single chip), including Tianye 1000, Tianye 1000+, Tianye 800, Tianye 820, etc. It is expected that new products will be launched in the second half of the year. There are suitable chips to speed up the popularization rate of 5G smart machines.',\n",
              "  'post2_en': '\"MediaTek\\'s new chip appearance> Tianzhang 700 series first came out and attack 5G mid -range market\\n Jiheng.com reporter Wei Zhihao Taipei 2020/07/23 10:20\\n \\n \\n MediaTek Tianji 700 series came out for the first time and then attacked the 5G mid -range market. (Figure: Provided by MediaTek)\\n \\n Mobile chip large factory MediaTek (2454-TW) announced today (23) that the latest series of products Tianji 720 (Dimensity 720) will be launched. The strength and breadth of the 5G SoC (System Single chip).Li Yanji, deputy president of the Wireless Communication Division, said that the Tianyi 720 adopted a 7 -nanometer process to integrate low -power 5G data machines. At the same time, it supports exclusive 5G Ultrasave power saving technology. The working mode of the machine, extending the battery life of the battery, helps end manufacturers to create differentiated 5G mobile phones for global consumers.\\n \\n In addition, the Tianyi 720 also has excellent display and imaging technology, which can support the 90 Hz high display update rate, achieve fast and smooth game and streaming media play, and support multi -lens configuration. It can support up to 64 million pixels, or or The combination of 20 million and 16 million pixel dual lenses.MediaTek currently launched a total of three series of 5G chips, including Tianzhang 1000, 800, and 700 series. Among them, the Tianyi 1000 series mainly attacked the high -end market, and the Tianye 800 and 700 series were seized in high -end and middle markets, respectively. MediaTek will also launch a more cheap 400 series in the fourth quarter of this year, and will adopt a 6 -nanometer process for the first time to increase product competitiveness.'},\n",
              " {'index': 418,\n",
              "  'post1': '高通、華為和解 聯發科警戒\\n 2020-07-31 02:33 經濟日報 / 編譯葉亭均、記者李仲維、李孟珊／綜合報導\\n \\n 高通於美國時間29日宣布，已與華為簽署一項長期專利授權合約，將在本季獲得18億美元的追補款。分析師認為，這意味高通與華為達成和解，後續高通有機會重新回到華為5G晶片主供應商行列。\\n \\n 雖然依美國政府目前規定，高通仍不得向華為銷售晶片，對聯發科（2454）短期營運應無影響，但若美方解禁，長期使得聯發科面臨更激烈的壓力。',\n",
              "  'post2': '股利是去年的三倍\\n 聯發科真大方\\n 股東們樂翻了\\n \\n \\n \\n 〈聯發科法說〉今年每股擬配37元現金股利 未來四年加發超過1000億元\\n 鉅亨網記者魏志豪 台北2021/04/28 16:55\\n \\n 聯發科 (2454-TW) 法說會今 (28) 日公布股利政策，預計今年每股擬配 37 元現金股利，同時宣布調高經常性現金股利配息率至 80-85%，且為回饋長期股東，未來四年將額外加發總計超過 1000 億元的特別現金股利。\\n \\n 聯發科指出，考量公司對各類產品線競爭力，以及未來發展前景的信心，決議自今年起將經常性現金股利配息率，從往年的 60-70%，提升至 80-85%。\\n \\n 此外，為回饋長期股東，聯發科董事會也決議額外加發四年總計超過 1000 億元的特別現金股利，預計股東在 2021-2024 年的四個派息年度，每年除了 80-85% 配息率的經常性現金股利，將額外收到每股 16 元特別現金股利。',\n",
              "  'post1_en': 'Qualcomm and Huawei Call for Lianfa Science and Technology Alert\\n 2020-07-31 02:33 Economic Daily / Compiled Ye Tingjun, Reporter Li Zhongwei, Li Mengshan / Comprehensive Report\\n \\n Qualcomm announced on the 29th of the United States that it has signed a long -term patent authorization contract with Huawei, which will receive $ 1.8 billion in pursuit this season. Analysts believe that this means that Qualcomm has reached a settlement with Huawei, and then Qualcomm has the opportunity to return to the ranks of Huawei 5G chip main suppliers.\\n \\n Although according to the current regulations of the US government, Qualcomm still cannot sell chips to Huawei, which should have no impact on MediaTek (2454) short -term operations, but if the United States lifted the ban, MediaTek will face more intense pressure in the long run.',\n",
              "  'post2_en': 'Dividends are three times the last year\\n MediaTek is true\\n The shareholders are happy\\n \\n \\n \\n \"MediaTek\\'s Law Theory\" is intended to be provided with 37 yuan per share this year to issue more than 100 billion yuan in cash dividends in the next four years\\n Jiheng.com reporter Wei Zhihao Taipei 2021/04/28 16:55\\n \\n MediaTek (2454-TW) Lecture announced the dividend policy today (28). It is expected that 37 yuan per share will be provided for 37 yuan per share this year. Shareholders will add an additional special cash dividend of more than 100 billion yuan in the next four years.MediaTek pointed out that considering the company\\'s confidence in the competitiveness of various product lines and future development prospects, it has decided that since this year, it has increased regular cash dividend dividends from 60-70%in previous years to 80-85%.\\n \\n In addition, in order to give back to the long-term shareholders, the board of directors of MediaTek also decided to add a special cash dividend of more than 100 billion yuan for four years. It is expected that the shareholders\\' dividend year in 2021-2024 will be Regular cash dividends will receive an additional 16 yuan special cash dividend per share.'},\n",
              " {'index': 420,\n",
              "  'post1': '為什麼沒人談論聯發科? 漲了好幾倍了...絕對比台積電還猛的半導體股.',\n",
              "  'post2': '看吧...\\n \\n 飛起來了.',\n",
              "  'post1_en': 'Why does no one talk about MediaTek? It has risen several times ... definitely the semiconductor stocks that are definitely fierce than TSMC.',\n",
              "  'post2_en': 'Look ...\\n \\n Flying up.'},\n",
              " {'index': 422,\n",
              "  'post1': '發哥太猛了...',\n",
              "  'post2': '日前股價最高已攻克448元..\\n 明年四核心八核心高單價放量出貨\\n 中華酷聯宏米六家全採用MTK方案\\n 第一季即推出LTE方案晶片\\n 晨星納入版圖..\\n 白牌平板再提供成長動能..\\n 展訊要成氣候是後年的事了..\\n 股價拉回四百即是買點..\\n 明年EPS預估達到30元..\\n 也就是年賺400億\\n 明年股價將看到到600元..\\n 300看450時撻伐我的人..\\n 歡迎再來......\\n 有效期一年..',\n",
              "  'post1_en': 'Brother is too fierce ...',\n",
              "  'post2_en': \"Recently, the highest stock price has been conquered 448 yuan ..\\n Next year's four -core eight core high unit price shipment shipments\\n Chunghwa Cool Lianhong Mi Liujia adopted the MTK solution\\n In the first season, LTE scheme chip is launched\\n Morningstar incorporated into the territory ..\\n White card tablets provide growth momentum ..\\n It is a matter of the next year ..\\n The stock price pulls back four hundred is to buy points ..\\n EPS is estimated to reach 30 yuan next year ..\\n That is, earning 40 billion yuan a year\\n The stock price will see 600 yuan next year ..\\n 300 See the person who tart me at 450 ..\\n welcome again......\\n Valid for one year ..\"},\n",
              " {'index': 424,\n",
              "  'post1': '大事不妙~持續下探中....\\n 好時機已過,等反彈再賣出~',\n",
              "  'post2': '李Sir,\\n \\n 我有聲明啊~~~該人忘了MTK早就把先保之前收購的 Mstar 轉成MTK股\\n \\n 其實我也很看好MTK, 只是目前Mstar合併之後, 的一些事情, MTK都不說,\\n \\n 如同樓上網友說的一切要等到2014 Q1財報(合併Mstar營收)之後會比較明朗.\\n \\n 不過我相信MTK 2014 EPS 20 ~ 25 是沒問題的,\\n \\n 目前股價 400 ~ 410 相對本益比就高了些.',\n",
              "  'post1_en': \"It's not good ~ continue to visit ...\\n Good time has passed, wait for the rebound before selling ~\",\n",
              "  'post2_en': 'Lee Sir,\\n \\n I have a statement ~~~ The person has forgotten that MTK has already converted the MSTAR that the previous acquisition was previously acquired into MTK shares\\n \\n In fact, I am also very optimistic about MTK, but after the current MSTAR merges, some things, MTK will not say, MTK does\\n \\n As the netizens upstairs said, it would be clearer after the 2014 Q1 financial report (merged MSTAR revenue).\\n \\n But I believe that MTK 2014 EPS 20 ~ 25 is okay,\\n \\n At present, the stock price is 400 ~ 410. Compared with the interest -to -interest ratio, it is a bit higher.'},\n",
              " {'index': 426,\n",
              "  'post1': '聯發科LTE數據機獲TCL單\\n \\n 【中央社╱新竹24日電】 2014.02.24 10:15 am\\n \\n \\n 手機晶片廠聯發科接單傳捷報，LTE數據機解決方案MT6290獲TCL採用。\\n \\n 聯發科表示，TCL旗下品牌ALCATEL ONETOUCH的LTE智慧手機POP S7，採用聯發科1.3GHz四核心處理器及多模多頻LTE數據機MT6290。\\n \\n POP S7支援LTE高速行動網路，提供每秒高達150Mbit下載速度；另配有5吋IPS高解析廣視角螢幕，可讓使用者擁有身歷其境的影音及視覺體驗。\\n \\n 聯發科指出，POP S7將在第2季陸續在泛歐洲及亞太地區推出。\\n ==================================\\n 5吋 4G LTE POP S7 訂價189歐元，約台幣8000元。',\n",
              "  'post2': '今天突破前高來到465\\n 500就在前方不遠處...\\n 新聯發科能走多遠????\\n 大家用一年就能看到...\\n 今年會是聯發科挑戰高通的一年..',\n",
              "  'post1_en': \"MediaTek LTE data machine gets TCL single\\n \\n [Central News Agency / Hsinchu 24th] 2014.02.24 10:15 AM\\n \\n \\n Mobile chip factory MediaTek received a single report, LTE data machine solution MT6290 was adopted by TCL.\\n \\n MediaTek said that the LTE smartphone POP S7 of TCL's brand Alcatel OneTouch uses MediaTek 1.3GHz quad -core processor and multi -frequency multi -frequency LTE data machine MT6290.\\n \\n POP S7 supports LTE high -speed mobile network, providing up to 150Mbit download speed per second; also equipped with a 5 -inch IPS high -analysis wide -viewing angle screen, allowing users to have an audio and video and visual experience that can be experienced.\\n \\n MediaTek pointed out that the POP S7 will be launched in Pan Europe and the Asia -Pacific region in the second quarter.\\n ===============================\\n The 5 -inch 4G LTE POP S7 is priced at 189 euros, about NT $ 8,000.\",\n",
              "  'post2_en': 'Breakthrough today came to 465\\n 500 is not far ahead ...\\n How far can the new MediaTek go ????\\n Everyone can see ...\\n This year will be a year for MediaTek to challenge Qualcomm ..'},\n",
              " {'index': 428,\n",
              "  'post1': '今天帶量突破505元..\\n 下半年將會往600邁進....\\n 拭目以待....',\n",
              "  'post2': '499進一張!\\n 看好!\\n 跌破487停損~\\n 再上再接回~',\n",
              "  'post1_en': \"Today's bringing volume exceeds 505 yuan ..\\n The second half of the year will move to 600 ...\\n Wait and see ....\",\n",
              "  'post2_en': '499 Enter one!\\n Optimistic!\\n Fall below 487 to stop damage ~\\n Pick it back again ~'},\n",
              " {'index': 430,\n",
              "  'post1': '對手終於出招了...\\n \\n \\n 高通大殺價 聯發科有壓\\n 【經濟日報╱記者謝佳雯／台北報導】 2014.06.27 03:28 am\\n 業界傳出，手機晶片龍頭高通為搶下更多訂單，下季量產的三款64位元手機晶片將祭出「價格窒息戰」，售價跌破20美元大關，比聯發科同規格產品低逾三成，也比業界預期的價格還低15%至20%。高通殺價搶單，恐不利聯發科下半年營運。\\n 聯發科不對競爭對手策略置評。手機晶片供應鏈指出，近期晶圓代工產能吃緊，聯發科在為產能不足、可能面臨代工價格漲價並衝擊出貨而傷透腦筋之餘，高通又祭出新晶片超低價策略，成為左右聯發科下半年營運的新變數。\\n 半導體業者分析，高通是台積電等晶圓代工廠前三大客戶，握有對晶圓廠談判晶圓產能的籌碼，在其他IC設計業者面臨代工產能不足的問題時，高通相對沒有這個問題，因而有發動價格戰的利基。\\n 手機相關業者透露，高通即將於7月和8月量產的三款64位元4G新晶片訂價最低降到20美元以下，全力防堵聯發科與美滿科技（Marvell）「雙M」卡位。\\n 高通此次主要鎖定大陸最大電信營運商中國移動下半年將力推4G手機商機，此次三款新晶片分別是低階的「MSM8916」（指晶片代號）、中階的「MSM8936」和高階的「MSM8939」，全方位進攻。\\n 高通規劃，「MSM8916」將在7月底量產，現已獲得大多數手機品牌廠採用，客戶端手機大約在8月底、9月初上市，其餘兩顆64位元晶片則預定8月底量產。\\n 高通欲維持在4G市場領先，對新品採取更積極的價格策略，一出手就將「MSM8916」的最低價壓至20美元以下，遠低於其第一代4G晶片「MSM8974」上市價四、五十美元。\\n 相較之下，聯發科單顆八核心4G晶片上市價仍高達30美元，高通的64位元4G晶片的「超級訂價」，對於聯發科下季即將送樣的兩顆64位元4G晶片「MT6732」和「MT6752」價格策略的影響，將是市場觀察重點。\\n 外資巴克萊曾看好聯發科八核心64位元4G晶片平均售價可望超過20美元，有助提升平均售價和毛利率。隨著市場價格競爭白熱化，將左右聯發科下季毛利表現。',\n",
              "  'post2': '發哥每天的利多還是比利空多\\n 但股價磨人阿\\n 三不五時還會破底\\n 支撐都不是支撐\\n 能抱的住真的很厲害',\n",
              "  'post1_en': 'The opponent finally moved ...\\n \\n \\n Qualcomm bargaining MediaTek has pressure\\n [Economic Daily / Reporter Xie Jiawen / Taipei Report] 2014.06.27 03:28 AM\\n According to the industry, the mobile phone chip leader Qualcomm has placed more orders in order to grab more orders. The three 64 -bit mobile phone chips that are mass -produced next quarter will be sacrificed out of the \"prices\", and the price will fall below the $ 20 mark. It is more than 30%lower, and it is also 15%to 20%lower than the expected price in the industry. Qualcomm\\'s bargaining order is not good for MediaTek\\'s operation in the second half of the year.\\n MediaTek does not comment on competitors\\' strategies.The mobile phone chip supply chain pointed out that the recent wafer foundry production capacity is tight, and MediaTek is in lack of production capacity, may face the price increase of OEM and impacts the shipping brain. New variables operating in the second half of MediaTek in the second half of the year.\\n According to the analysis of semiconductor industry, Qualcomm is the top three customers of TSMC and other wafer agencies. It has a chip of the wafer capacity of the wafer fab. When other IC design operators are facing the problem of insufficient foundry capacity, Qualcomm does not have this problem. Therefore, there is a niche that launch a price war.Relevant operators of mobile phones revealed that Qualcomm\\'s three 64 -bit 4G 4G new chips that were mass -produced in July and August priced at a minimum price of less than 20 US dollars to prevent blocking the \"double M\" card position and Marvell\\'s \"Double M\" card.\\n Qualcomm will mainly lock in the largest telecommunications operator of the mainland this time China Mobile will push 4G mobile phone business opportunities in the second half of the year. The three new chips are low -level \"MSM8916\" (referred to as chip code), mid -range \"MSM8936\", and high -end ones \"MSM8939\", an all -round attack.\\n Qualcomm plan, \"MSM8916\" will be mass -produced at the end of July, and it has been adopted by most mobile phone brand factories. Client mobile phones are listed at the end of August and early September, and the remaining two 64 -bit chips are scheduled to mass production by the end of August.Qualcomm wants to maintain a lead in the 4G market. It takes a more active price strategy for new products. As soon as he shot, the minimum price of \"MSM8916\" was used to below $ 20, which was far lower than its first -generation 4G chip \"MSM8974\" listing price of four or five. Ten dollars.\\n In contrast, the market price of MediaTek\\'s single eight -core 4G chip is still as high as US $ 30. The \"super pricing\" of Qualcomm\\'s 64 -bit 4G chip. The influence of the price strategy of \"MT6752\" will be the focus of market observation.\\n Foreign -funded Barclays has been optimistic about the average price of MediaTek Eight Core 64 -bit 4G chips, which is expected to exceed $ 20, which will help increase the average selling price and gross profit margin.With the fierce competition in market prices, it will perform the next quarter of MediaTek\\'s gross profit.',\n",
              "  'post2_en': \"Big Brother's daily Lido is still Billy,\\n But the stock price is grinding\\n It will break the bottom of three or five o'clock\\n Support is not support\\n It's really amazing to hold it.\"},\n",
              " {'index': 432,\n",
              "  'post1': '大事不妙~~\\n 殺殺殺~快跑\\n 看來第三季展望不佳~',\n",
              "  'post2': '有人心慌慌了...\\n \\n -------------------------------------------------\\n 韓媒：聯發科急起直追！高通心慌、砍價鞏固市佔率\\n (2014/07/24 11:46:00)\\n MoneyDJ新聞 2014-07-24 11:46:00 記者 陳苓 報導\\n \\n 聯發科(2454)步步進逼，南韓業界傳出高通(Qualcomm)為了保住龍頭地位，史無前例殺價因應，不只大砍整合應用處理器(AP)和基頻晶片的系統單晶片(SoC)價格，LTE基頻晶片也一併降價，要讓聯發科難以衝高市佔率。\\n \\n 韓媒etnews 24日報導，業界人士透露，高通重手反擊聯發科，近來大幅下殺Snapdragon 410價格，這款SoC整合AP和LTE基頻晶片。據稱高通已經多次調降SoC價格，這種情況前所未見，要藉此打造防禦工事，阻止聯發科進攻。另外，據悉高通LTE晶片價格也從25美元，降至不到20美元，迫使其他業者跟進降價。\\n \\n 高通砍價，主因聯發科市佔率與日俱增。科技市調機構Strategy Analytics統計顯示，去年第3季高通、聯發科基頻晶片市佔率分別為66%、12%，今(2014)年Q1聯發科市佔率增至15%，高通卻持平未有進展。與此同時，高通Q1的LTE晶片市佔率從去年同期的95%下滑至Q1的91%。\\n \\n AP市場方面，去年高通和聯發科銷售市佔率分別為53.6%、9.7%，今年Q1聯發科急起直追，變為高通(53.4%)、蘋果(15.9%)、聯發科(12.5%)。業內人士稱，巨大的中國市場為聯發科掌控，高通採取行動確保領先優勢。他們說，高通在中國的授權獲利高於晶片成本，因此需要盡可能促銷產品，就算降價也在所不惜，預計高通將持續發動價格戰，避免對手坐大。\\n \\n 手機晶片大廠高通(Qualcomm Incorporated)剛於23日美股盤後公布2014會計年度第3季(截至6月底止)財報，儘管營收、盈餘超標，但顯然是受在中國大陸重要市場發展遇到挫折影響，本季展望較市場預期保守，也使得股價盤後走跌。\\n \\n 科技網站kitguru.net報導7月初指出，聯發科計畫於今年第四季末或明年第一季推出高階64位元SoC晶片MT6795，此款晶片等級較八核心的MT6752更高，極可能挑戰高通Snapdragon 610或更高階的Snapdragon 810。',\n",
              "  'post1_en': \"It's not good ~~\\n Kill and kill ~ fast running\\n It seems that the outlook in the third season is not good ~\",\n",
              "  'post2_en': \"Someone was panicked ...-----------------------------------------------\\n Korean media: MediaTek rushed to catch up! Qualcomm's panic, bargaining consolidation of the market share\\n (2014/07/24 11:46:00)\\n Moneydj News 2014-07-24 11:46:00 Reporter Chen Ling reported\\n \\n MediaTek (2454) advanced step by step. In order to keep the leading position in the South Korean industry, Qualcommmm is unprecedented. Base frequency chips are also reduced, making it difficult for MediaTek to rush to the market share.\\n \\n Korean media ETNEWS reported on the 24th that industry insiders revealed that Qualcomm counterattacked MediaTek, which recently killed the price of Snapdragon 410.It is said that Qualcomm has repeatedly reduced the SOC price. This situation has not been seen before. It is necessary to use this to create defense work to prevent MediaTek from attacking. In addition, it is reported that the price of Qualcomm LTE chip has also dropped from $ 25 to less than 20 US dollars, forcing other operators to follow up the price reduction.\\n \\n Qualcomm's bargaining is mainly due to the increasing market share of MediaTek. According to statistics from Strategy Analytics, the science and technology market adjustment agency showed that the market share of Qualcomm and MediaTek chip in the third quarter of last year was 66%and 12%, respectively. progress. At the same time, the market share of the LTE chip of Qualcomm Q1 fell from 95%in the same period last year to 91%of Q1.In terms of the AP market, the market share of Qualcomm and MediaTek was 53.6%and 9.7%, respectively. This year Q1 MediaTek rushed to catch up, becoming Qualcomm (53.4%), Apple (15.9%), and MediaTek (12.5%). Industry insiders said that the huge Chinese market is controlled by MediaTek, and Qualcomm adopts action to ensure its leading advantage. They said that Qualcomm's authorization in China is higher than the cost of the chip, so it is necessary to promote the products as much as possible. Even if the price reduction is, it is expected that Qualcomm will continue to launch a price war to avoid opponents.\\n \\n Qualcomm Incorpolet, the mobile phone chip factory, announced the third quarter of 2014 (as of the end of June) after the US stock market. The impact of setbacks, this season's outlook is conservative compared to market expectations, which has also caused the stock price to fall after the market.\\n \\n Technology website Kitguru.Net reported in early July that MediaTek plans to launch a high -level 64 -bit SOC chip MT6795 at the end of the fourth quarter of this year or the first quarter of next year. Snapdragon 810.\"},\n",
              " {'index': 434,\n",
              "  'post1': '怪怪~\\n 什麼狀況?\\n 怎麼跳水跳這麼猛?\\n 法說還沒開始啊~ 怎麼先來一場法會了?',\n",
              "  'post2': '今天公布7月業績\\n \\n 聯發科自結7月合併營收192.70億元、月增22.69%\\n 聯發科 103年7月營收192.70億、年增45.79%\\n 聯發科7月營收攀歷史次高，累計前7月增近七成\\n \\n 依照慣例，只要利多就是跌',\n",
              "  'post1_en': \"Strangely ~\\n What's happening?\\n How to diving so fiercely?\\n The Fa said that it hasn't started yet ~ How can I come first?\",\n",
              "  'post2_en': \"Today's July performance announced\\n \\n MediaTek merged revenue in July 19.270 billion yuan, a monthly increase of 22.69%\\n MediaTek's revenue in July 103 was 19.270 billion yuan, an annual increase of 45.79%\\n MediaTek's revenue in July climbed the second high, and the cumulative increased in July 70 % in the first July\\n \\n According to the convention, as long as the profit is a decline\"},\n",
              " {'index': 436,\n",
              "  'post1': '發科目前看起來出貨好像還滿樂觀的\\n \\n -------------------------------------------------\\n \\n 聯發科（2454）董事長蔡明介下午應邀在全球知識匯流平台TED在台北舉行的TEDxTaipei中演講時指出，今年全球晶片出貨將上看7億套，且開始注意行動科技在農業、線上教育及太空通信等領域的應用。',\n",
              "  'post2': '據傳中國對高通(Qualcomm)的反壟斷調查接近收尾，即將公布懲處方案。Bernstein Research的Stacy Rasgon表示，高通的權利金收費方式可能因此改變，並稱反壟斷陰影壟罩該公司股價，建議投資人不要逢低進場。\\n \\n Barronˋs 16日報導，Rasgon表示，中國消息顯示，高通反壟斷調查將進入懲罰階段，該公司可能必須變更權利金收取方式，改以晶片價格計算，而非整體裝置的價格計費。Rasgon報告指出，中國社科院成員蘇華(Su Hua)建議高通權利金收費方式，應遵照「最小銷售單位」(smallest salable unit)原則，以基頻處理器或系統單晶片(SoC)的價格計算。\\n \\n Rasgon同時表示，中國當局應會對高通開罰。中國經濟參考報報導，若以高通公司2013年度全球銷售額為罰款基數，以6%比例計算，對高通的罰款可能達14.9億美元，約人民幣91.7億元。為中國反壟斷的歷史性巨額罰款。\\n \\n 基於以上因素，Rasgon給予高通「符合市場表現」評等，並稱中國情況不利股價，呼籲投資人不要趁近期低檔進場。高通16日漲0.84%收在75.71美元。\\n \\n Barronˋs 7月31日報導，Rasgon向來看好高通，從2009年起一直將高通評為買進，反壟斷調查後，他將該公司評等下修至持有，目標價下砍5美元至80美元。\\n \\n Forbes 7月27日報導，高通應能靠談判解決壟斷爭議，但是該公司恐怕無法扭轉中國頹勢，更值得擔心的是，其他開發中國家可能會仿效中國，讓情況更加失控。高通7月23日盤後公佈財報指出，該公司和一家中國授權業者出現爭議，並有許多中國製造商低報授權產品銷售，部分業者更延後執行 授權。\\n \\n 高通預期情況會繼續惡化。總裁Derek Aberle接受路透專訪稱，負面影響可能持續好幾個季度。該公司估計，今年中國可能有1.7-2.6億支智慧機無法收到權利金。高通向幾乎所有智慧機收取權利金，就算未使用該公司晶片，也有權收取費用。',\n",
              "  'post1_en': 'Fa Ke seems to be very optimistic at present\\n \\n -----------------------------------------------\\n \\n Cai Mingjie, Chairman of MediaTek (2454), was invited to give a speech in TedxtAipei, a global knowledge convergence platform TED in the afternoon, pointed out that global chip shipments this year will look at 700 million sets, and began to pay attention to action technology in agriculture, online education and space. Applications in areas such as communication.',\n",
              "  'post2_en': 'It is rumored that China\\'s antitrust investigation against Qualcomm is close to the end and will soon announce the punishment plan. BernStein Research\\'s Stacy Rasgon said that Qualcomm\\'s right to pay for rights may change, and it is said that the company\\'s stock price of antitrust shadow shadow covers the company\\'s stock price. It is recommended that investors not enter the market.\\n \\n Barron 1s reported on the 16th that Rasgon said that Chinese news shows that Qualcomm\\'s antitrust survey will enter the punishment stage. The company may have to change the right to collect the rights and change the price of the chip instead of the price of the overall device.The Rasgon report pointed out that Su Hua, a member of the Chinese Academy of Social Sciences, suggested that Qualcomm\\'s rights money charges should follow the principle of \"Smallest Salable Unit\" to use the price of the foundation of the base frequency processor or system single chip (SoC) (SoC) calculate.\\n \\n Rasgon also said that the Chinese authorities should issue penalties for Qualcomm. According to the China Economic Reference report, if Qualcomm\\'s 2013 global sales as a fine, calculated at a ratio of 6%, the fine on Qualcomm may reach 1.49 billion US dollars, about RMB 91.700 million yuan. Historical fines for Chinese antitrust.\\n \\n Based on the above factors, Rasgon gave Qualcomm\\'s \"compliance with market performance\" and said that the situation in China was unfavorable to the stock price, calling on investors not to take advantage of the recent low -end entry. Gaochang rose 0.84%to 75 on the 16th.$ 71.\\n \\n Barron 7s reported on July 31 that Rasgon has always been optimistic about Qualcomm. Since 2009, Qualcomm has been rated as a buy. After an antitrust investigation, he repaired the company\\'s evaluation to hold, and cut 5 US dollars to $ 80 under target price. Essence\\n \\n Forbes reported on July 27 that Qualcomm should be able to resolve monopoly disputes by negotiations, but the company may not be able to reverse China\\'s slump, and it is even more worried that other countries may imitate China and make the situation more out of control. Gaotong announced on July 23 that the financial report stated that the company and a Chinese authorized operator had controversial, and many Chinese manufacturers\\' skewers authorized products to sell products, and some operators delayed their enrollment.Qualcomm\\'s expectations will continue to deteriorate. President Derek Aberle accepted an interview with Reuters that negative effects may last for several quarters. The company estimates that China may have 17-260 million smart phones this year cannot receive its rights. Qualcomm charges almost all smart machines, and even if the company\\'s chip is not used, it has the right to charge fees.'},\n",
              " {'index': 438,\n",
              "  'post1': '來幫發哥打打氣, 聽聽看不一樣的觀點!!\\n \\n \\n \\n 聯發科後市 陸行之送暖\\n 2014年09月18日 04:11\\n 記者張志榮／台北報導\\n \\n \\n \\n 巴克萊資本證券陸行之昨（17）日指出，受到3G智慧型手機訂單下修等因素影響，外資圈看聯發科今年第四季至明年第一季營收成長率預估平均值恐面臨下修壓力，但此無損該股多頭走勢，因為近期市場關於聯發科營運展望四大傳聞都是「誤解」。\\n \\n 陸行之認為，季節性訂單下修不會影響對聯發科的長線多頭看法，仍維持「加碼」投資評等與620元合理股價預估值不變，並針對近期外界對於聯發科營運的四大「誤解」進行說明，分述如下：\\n \\n 一、聯發科與高通的同等級產品訂價必須差不多：然根據供應鏈調查，不管是MT6752或MT6732，價格都比競爭對手高出2至4美元，背後因素很多，包括技術與成本考量都有，但也說明聯發科已開始意識到，產品若有競爭力，訂價可以訂得較高。\\n \\n 二、聯發科沒辦法賣高價4G LTE：事實上，單價逾40美元的MT6595與MT6795可望獲得全球二線手機品牌大廠採用，預估明年高價4G LTE佔整體出貨比重將達10％，今年高價3G產品MT6592約佔10％至15％，但佔整體手機晶片營收比重約30％至40％。\\n \\n 三、聯發科未來2年將面臨ASP與毛利率雙降風險：在單價逾40美元的MT6595與MT6795，及逾18美元的MT6732與MT6752推出後，高價與主流4G SoC將帶動整體產品組合往好的方向調整，對獲利有利，預估明年與後年毛利率可望向49％至50％攀升。\\n \\n 四、聯發科無低成本4G智慧型手機IC解決方案：在明年上半年推出入門款4G晶片MT6735與MT6735M前，預期聯發科會在接下來的第三季法說推出更低成本的4G智慧型手機IC解決方案，儘管屬於低成本，但價格仍會較競爭對手高出約2美元，有利於獲利。',\n",
              "  'post2': '今天大漲百點\\n 發哥逆勢下跌\\n 不太對勁，也許9月業績不佳\\n 要小心點...',\n",
              "  'post1_en': 'Come to help Brother Qi, listen to the different views !!MediaTek\\'s backlook of Lu Xing sent warmth\\n September 18, 2014 04:11\\n Reporter Zhang Zhirong / Taipei Report\\n \\n \\n \\n Barclays Capital Securities Lu Xingzhi pointed out yesterday (17) that due to factors such as 3G smartphone orders and other factors, the foreign capital circle watching MediaTek\\'s fourth quarter to the first quarter of next year\\'s revenue is estimated to face the average value. Stress, but this shares are bullish, because the recent rumors of the market for MediaTek\\'s operations are \"misunderstandings\".Lu Xingzhi believes that seasonal orders will not affect the long -term long -term views of MediaTek, and still maintain the \"plus\" investment review and 620 yuan reasonable stock price estimation value unchanged, and for the recent four \"misunderstandings of MediaTek\\'s operations of MediaTek\\'s operations, the outside world\\'s\" misunderstandings of misunderstandings \"Instructions, the division is as follows:\\n \\n I. MediaTek and Qualcomm\\'s same -level products must be similar to: But according to the supply chain survey, whether it is MT6752 or MT6732, the price is 2 to 4 US dollars higher than the competitors, including technology and cost considerations, including technology and cost considerations. However, it also shows that MediaTek has begun to realize that if the product is competitive, the price can be ordered.2. MediaTek has no way to sell high price 4G LTE: In fact, MT6595 and MT6795, which are more than $ 40, are expected to obtain a global second -tier mobile phone brand. High -priced 3G products MT6592 account for about 10 % to 15 %, but it accounts for about 30 % to 40 % of the overall mobile phone chip revenue.\\n \\n Third, MediaTek will face the risk of dual ASP and gross profit margins in the next two years: MT6595 and MT6795 with a unit price of more than $ 40 and MT6732 and MT6752, which are more than $ 18, and the mainstream 4G SOC will drive the overall product combination to the good. The direction adjustment is beneficial to profit. It is estimated that the gross profit margin next year and the next year is expected to rise to 49 % to 50 %.Fourth, MediaTek has no low cost 4G smartphone IC solution: Before the launch of the entry 4G chip MT6735 and MT6735M in the first half of next year, it is expected that MediaTek will launch a lower -cost 4G smart phone IC in the next third quarter method. Although the solution is low cost, the price will still be about $ 2 higher than the competitors, which is conducive to profit.',\n",
              "  'post2_en': 'Raise a hundred points today\\n Fat brother fell against the trend\\n Not very right, maybe the performance in September is not good\\n Be careful ...'},\n",
              " {'index': 440,\n",
              "  'post1': '國際股市大跌~發哥下週面臨400保衛戰~\\n 各位小心了~這一波真的再走空~畢竟年線已破了~',\n",
              "  'post2': '大陸手機競爭日益激烈，看樣子發哥要走出來才有希望...\\n \\n \\n 2014-10-20 12:58\\n 〔中央社〕中國智慧型手機今年成長僅12%，小米饑渴行銷等手法漸不管用，中低階產品性價比已達極致，中高階手機又由蘋果等國際品牌把持。專家分析，中國自有品牌手機面臨困境。\\n \\n 中國智慧型手機今年成長僅12%，小米饑渴行銷等手法漸不管用，中低階產品性價比已達極致，中高階手機又由蘋果等國際品牌把持。專家分析，中國自有品牌手機面臨困境。（法新社）\\n 中國智慧型手機今年成長僅12%，小米饑渴行銷等手法漸不管用，中低階產品性價比已達極致，中高階手機又由蘋果等國際品牌把持。專家分析，中國自有品牌手機面臨困境。（法新社）\\n \\n 在聯發科深耕中國大陸市場，提供公板給大陸白牌手機廠商開始「練兵」後，大陸自產手機如雨後春筍般冒出來，加上小米採粉絲經濟及饑渴營銷等行銷手法成功打出名號後，不斷有大陸手機新品牌加入市場廝殺。\\n \\n 不過，百度百家最近刊登業界專家的分析文章指出，大陸智慧型手機的紅利逐漸消失，從大陸自有品牌錘子手機銷量冷清的背後，就透露出警訊，那就是手機門檻愈來愈低，做出成績卻愈來愈難。\\n \\n 隨著大陸手機用戶對智慧手機愈來愈深入，態度愈來愈理性，這對大陸手機廠商來說，市場經更難經營。',\n",
              "  'post1_en': 'The international stock market plummeted ~ Fat Brother will face a 400 defense battle next week ~\\n Be careful ~ This wave really goes back ~ After all, the year line is broken ~',\n",
              "  'post2_en': 'Mainland mobile phones are increasingly fierce, and it seems that the elder brother will come out before there is hope ...2014-10-20 12:58\\n [Central News Agency] China\\'s smart phones have grown only 12%this year. Xiaomi\\'s hunger marketing and other methods are gradually increasingly used. Mid -level products are extremely cost -effective. Middle and high -end mobile phones are controlled by international brands such as Apple. Experts analyze that China\\'s own brand mobile phones are facing difficulties.\\n \\n China\\'s smart phones have grown only 12%this year. Xiaomi\\'s hunger marketing and other methods have gradually been used. Middle -low -level products are extremely cost -effective. Middle and high -end mobile phones are controlled by international brands such as Apple. Experts analyze that China\\'s own brand mobile phones are facing difficulties.(Agence France -Presse)\\n China\\'s smart phones have grown only 12%this year. Xiaomi\\'s hunger marketing and other methods have gradually been used. Middle -low -level products are extremely cost -effective. Middle and high -end mobile phones are controlled by international brands such as Apple. Experts analyze that China\\'s own brand mobile phones are facing difficulties. (Agence France -Presse)\\n \\n After MediaTek deeply cultivated the Chinese mainland market and provided the public board to the mainland white -brand mobile phone manufacturer to start \"training\", the mainland\\'s self -produced mobile phones came out like mushrooms. In addition, the marketing methods such as Xiaomi\\'s fan economy and hunger and thirsty marketing were successfully named after successful names. There are constant mainland mobile phones to join the market to fight.However, Baidu Baijia recently published an analysis article by industry experts pointed out that the dividends of mainland smart phones have gradually disappeared. Behind the deserted sales of self -owned brand hammer mobile phones in mainland China, the warning message is increasing. The results are getting more and more difficult.\\n \\n As mainland mobile phone users have deepened their smart phones and their attitudes are becoming more and more rational. For mainland mobile phone manufacturers, the market is more difficult to operate.'},\n",
              " {'index': 442,\n",
              "  'post1': '好消息來了\\n \\n 中央社記者張建中新竹2014年10月31日電）美系外資看好手機晶片廠聯發科 (2454) 未來營運發展，預期聯發科4G產品明年上半年便可望與高通(Qualcomm)並駕齊驅。',\n",
              "  'post2': '說真的，發哥真的不簡單\\n \\n ----------------------------------------------------------------\\n \\n 聯發科首獲2014年全球百大創新企業\\n \\n 2014-11-12 聯合晚報 記者王彤勻╱即時報導\\n \\n 聯發科(2454)宣布近來榮獲兩項國際殊榮，包括今年首度獲得湯森路透(Thomson Reuters)遴選為「2014年全球百大創新企業」（Top 100 Global Innovators 2014）之一。同時，聯發科董事長暨執行長蔡明介也再次獲選為《哈佛商業評論》「全球百大傑出執行長」(The Best-Performing CEOs in the World)。\\n \\n 《哈佛商業評論》「全球百大傑出執行長」排名是根據公司的財務績效作為量化的指標，不僅檢視總股東報酬率與市值的增加，同時也聚焦每一位執行長的長期績效。今年度，蔡明介再次獲選為《哈佛商業評論》所公布的2014年版「全球百大傑出執行長」，不僅是台灣唯一入榜的企業領導人，更連續兩次獲選，從上屆的83名，躍升至今年的21名。今年度入榜的全球傑出執行長還包括蟬聯兩屆第一名的亞馬遜執行長傑夫．貝佐斯(Jeff Bezos)、思科執行長約翰．錢伯斯(John Cham bers)及奈飛(Netflix)執行長里德．哈斯廷斯(Reed Hastings)等。',\n",
              "  'post1_en': \"Good news is here\\n \\n Central News Agency reporter Zhang Jianzhong, Hsinchu, October 31, 2014) The US foreign investment is optimistic about the future operation development of MediaTek (2454) of mobile phone chip factories. It is expected that MediaTek's 4G products will be expected to follow Qualcomon (Qualcomm) in the first half of next year.\",\n",
              "  'post2_en': 'Seriously, it ’s not easy to get your brother\\n \\n ------------------------------------------------ ----------------\\n \\n MediaTek first won the top 100 global innovation enterprises in 2014\\n \\n 2014-11-12 Joint Evening News reporter Wang Tongyun / Instant Report\\n \\n MediaTek (2454) announced that he has won two international honors recently, including the first time he won one of the Top 100 Global Innovators 2014 in the \"2014 Global Top 100 Global Innovators). At the same time, Cai Mingjie, Chairman and CEO of MediaTek, was once again selected as the \"Harvard Business Review\" \"The Best-Performing CEOS In the World\".The \"Harvard Business Review\" \"Global Top 100 Outstanding CEO\" ranking is based on the company\\'s financial performance as a quantitative indicator. It not only reviews the increase in total shareholders\\' return and market value, but also focuses on the long -term performance of each CEO. This year, Cai Mingjie was once again selected as the 2014 version of \"Global Top 100 Outstanding CEO\" published in the \"Harvard Business Review\". 83, jumped to 21 this year.The Global Outstanding CEO of this year also includes Jeff, the CEO of Amazon, who has won the first place in the first place. Jeff Bezos, CEO John. John Cham Beers and NETFLIX CEO Ride. Reed hastings and so on.'},\n",
              " {'index': 444,\n",
              "  'post1': '4G晶片驗證不如預期 聯發科明年出貨生變\\n \\n 自由時報自由時報 – 2014年12月3日 上午6:14\\n \\n 〔自由時報記者洪友芳／新竹報導〕業界傳出手機晶片大廠聯發科（2454）4G手機晶片送客戶驗證不如預期順利，恐增添明年出貨變數，供應鏈封測廠日月光（2311）、矽品（2325）、力成（6239）、京元電（2449）、矽格（6257）等，推估接單聯發科多少也會受到影響。\\n 聯發科今年營運高成長，前3季營收達1576.7億元，稅後淨利360.07億元，營收與獲利各成長逾6成；晶圓代工、封測等供應鏈廠商也同蒙其利，營運跟著受惠。不過，聯發科今年營收與獲利高成長的主要動能來自3G手機，明年4G手機晶片是否能帶動營運高成長，不無疑問。\\n 業界近期傳出高通陸續大挖聯發科在深圳子公司員工，並成功複製聯發科整體解決方案的配套服務，加上4G產品性能與價格優於聯發科，吸引中國手機客戶紛採用；聯發科4G手機晶片送客戶驗證，不如預期順利，客戶開案量比3G手機晶片少很多，這將反映在明年上半年營運上。這傳言跟聯發科日前法說會指明年上半年4G競爭壓力最大似不謀而合。\\n 聯發科下單主要封測廠包括日月光（2311）、矽品（2325）、力成（6239）、京元電（2449）、矽格（6257）等，法人推估聯發科明年在4G出貨若不如3G強勁，上述主要封測合作夥伴接單多少也會受到影響。不過，封測廠認為，目前還不知明年會不會受影響，但客戶不只聯發科1家，為了分散風險，客戶均朝多元發展，單1家占營收比重均不超過5%到10%為原則。',\n",
              "  'post2': '印度明年有望成為最炙手可熱的智慧機市場，分析師認為若想趕搭這波熱潮，投資智慧機零件廠是最佳選擇，其中頭號標的首推聯發科(2454)。部份人士更唱旺聯發科，預估明年有30%上行空間。\\n \\n Barronˋs 22日報導，Gartner預估明年印度智慧機銷量將成長兩倍，為智慧機市場的閃亮新星。匯豐(HSBC)亞洲科技研究主管Steven C. Pelayo指出，要從印度智慧機的強健需求獲利，應投資出貨印度的零件廠。他認為購入手機廠股票並非明智之舉，因為當地競爭過於激烈、壓縮毛利。各零件廠中，匯豐首選為聯發科，該公司對印度出貨估計佔今年總出貨量的10%。\\n \\n JP摩根(JPMorgan)的Alvin Kwock也極為看好聯發科，估計每股盈餘將從今年的台幣30.9元、明年升至台幣40.5元，並喊出台幣600元的目標價，等於有32%的上行空間。一般券商目標價為台幣506元，上行空間為11%。\\n \\n 摩根士丹利(Morgan Stanley)分析師Bill Lu也指出，近來賣壓使得聯發科股價相當有吸引力。 他說，聯發科當前股價約為預估盈餘的14倍，低於五年平均值的17倍；股價淨值比(P/B值)為3.1倍，也不及五年平均值的3.4倍。他認為股價已反應出現今低迷的營運環境，並稱該公司長期前景看好，中國以外市場出口熱絡，新4G產品銷售有望優於預期。\\n \\n 台北時間9點37分為止，聯發科漲0.44%至台幣457元。22日下跌0.44%收在台幣455元。\\n \\n CNBC 3日報導，IDC稱，今年第三季中國智慧機出貨量季增1%、年增11%至1.05億台，增幅低於亞洲其他地區。IDC資深市場分析師Kiranjeet Kaur表示，中國目睹了智慧機狂飆成長的最後黃金時光。\\n \\n 中國智慧機成長踩煞車，印度則熱度不減。IDC數據顯示，Q3印度智慧機出貨季增27%、年增82%至2,300萬部。目前印度7.7億手機用戶中，僅有兩成使用智慧機；電信商也積極提升一二線城市以外地區的網路覆蓋率，種種因素都有利買氣。',\n",
              "  'post1_en': \"4G chip verification is not as good as expected to be shipped by MediaTek next year\\n \\n Free Times Free Times -6:14 am on December 3, 2014\\n \\n [Liberty Times reporter Hong Youfang / Hsinchu report] The industry reports that the mobile phone chip large manufacturer MediaTek (2454) 4G mobile chip to send customers to verify that it is not as good as expected, and may add shipments next year. (2325), Licheng (6239), Jingyuan Electric (2449), Silicon (6257), etc., predict that the ordering department will also be affected.\\n MediaTek has grown high this year, with a revenue of 157.67 billion yuan in the first three quarters, and a net profit after tax of 360.At 700 million yuan, revenue and profit grew more than 60 %; supply chain manufacturers such as wafer foundry, seal testing and other supply chain were also profitable, and the operations followed the benefits. However, MediaTek's main momentum of revenue and profit growth this year comes from 3G mobile phones. Whether 4G mobile phone chips next year can drive high growth in operations.The industry has recently reported that Qualcomm has successively digged MediaTek's employees in Shenzhen subsidiaries, and successfully replicated the supporting services of MediaTek's overall solution. In addition, 4G product performance and price are better than MediaTek, which attracts Chinese mobile customers. Verification is worse than expected, and the number of customers has less cases than 3G mobile phones, which will be reflected in the operation of the first half of next year. This rumor said with MediaTek recently that it would coincide with the biggest pressure of 4G competition in the first half of next year.MediaTek's main seal testing plant includes Sun Moonlight (2311), Silicon (2325), Licheng (6239), Jingyuan Electric (2449), Silicon Grid (6257), etc. 3G is strong, and the above -mentioned main sealing and test partners will also be affected. However, the closed beta factory believes that it will not be affected next year, but the customers not only have one MediaTek. In order to disperse risks, customers have developed diversified. in principle.\",\n",
              "  'post2_en': \"India is expected to become the hottest smartphone market next year. Analysts believe that if they want to rush to this wave, invest in smart machine parts is the best choice. Among them, the top spot is the first to push MediaTek (2454). Some people even sing the Wanglian Section, and it is estimated that there will be 30%of the upward space next year.\\n \\n Barron 2s reported on the 22nd that Gartner estimates that the sales of Indian smart machines will be doubled next year, which will be a shiny star in the smart machine market. HSBC (HSBC) Asian Science and Technology Research Director Steven C.Playo pointed out that to make a profit from the strong demand of Indian smart machines, the Indian parts factory should be invested in the shipping. He believes that it is not wise to buy stock plant stocks, because local competition is too fierce and compressed gross profit. Among the parts of various parts, HSBC preferred MediaTek, which estimates 10%of India's total shipments this year.\\n \\n JP Morgan's Alvin Kwock's Alvin Kwock is also very optimistic about MediaTek. It is estimated that earnings per share will rise from NT $ 30.9 this year, next year to NT $ 40.5 yuan, and shouted the target price of 600 yuan, which is equivalent to 32%of the upward space. The target price of the general broker is NT $ 506, and the upward space is 11%.\\n \\n Bill Lu, an analyst of Morgan Stanley, also pointed out that recent selling pressure has made MediaTek's stock price quite attractive. He said that MediaTek's current stock price is about 14 times the estimated surplus, less than 17 times the average of five years; the net stock price ratio (P/B value) is 3.1 times, which is not as 3.4 times that of the five -year average. He believes that the stock price has responded to the sluggish operating environment, and said that the company's long -term prospects are optimistic. The exports of markets outside China are hot, and the sales of new 4G products are expected to be better than expected.\\n \\n At 9:37 Taipei time, MediaTek rose 0.44%to NT $ 457. Falling 0.44%on the 22nd closed at NT $ 455.\\n \\n CNBC reported on the 3rd that IDC said that the number of Chinese smart machine shipments in the third quarter of this year increased by 1%, an annual increase of 11%to 105 million units, an increase of lower than other parts of Asia. Ciranjeet Kaur, a senior market analyst at IDC, said that China has witnessed the last golden time of smart machines to grow.\\n \\n China's smart machine grows up and stepping on the brakes, and India has no heat. IDC data shows that Q3 India's smart machine shipments increased by 27%, an annual increase of 82%to 23 million units. At present, only 20 % of India's 770 million mobile phone users use smart phones; telecommunications vendors also actively enhance the network coverage rate in regions outside the first and second -tier cities, and various factors are beneficial to buy.\"},\n",
              " {'index': 446,\n",
              "  'post1': '第二代紅米手機發表，小米全系列產品棄用聯發科\\n \\n ----------------------------------------------\\n 紅米 2 硬體上最引人矚目的改變就是從 MTK 平臺轉向高通平臺，帶來的好處是軟體優化的一致性還有更好的通信基帶支持。看來 MTK 和小米之間「蜜月結束」的傳聞並非空穴來風。\\n \\n http://technews.tw/2015/01/04/redmi-2/',\n",
              "  'post2': '外資調降目標價了\\n \\n -------------------------------------------\\n \\n 聯發科目標價 歐資保守給461元\\n \\n 2015-01-12 15:12:20 聯合晚報 記者王彤勻／台北報導\\n \\n 手機晶片大廠聯發科(2454)去年12月營收微幅月增1.8%，來到170.75億元；去年第四季營收則季減3.51%，來到554.53億元，符合季減6%~季增2%的財測預期。不過歐系外資出具的最新報告，指出基於三大理由，對聯發科今年營運仍持保守看法，尤其上半年毛利率恐格外有壓。\\n \\n 該歐系外資指出，基於三大理由，聯發科今年面臨的挑戰恐更加嚴峻。首先，高通在中國大陸市場態度更積極 ；第二，展訊在3G晶片的捲土重來，恐導致產業再掀毛利率下跌的壓力；以及第三，聯發科去年表現強勁的3G晶片，今年產品組合優化效益有限；而4G晶片方面，隨著中低階的MT6735晶片出貨在即，聯發科的毛利率將在第一季就開始下滑。\\n \\n 該歐系外資並認為，在這三大利空之中，高通會是聯發科今年最大的挑戰。該歐系外資因此對聯發科今年營運持保守看法，給予持有評等、461元目標價。\\n \\n 另一家亞系外資則給予聯發科減碼評等，以及400元目標價。關於高通高階S810、中階S615兩顆4G晶片日前傳出過熱問題、聯發科有望受惠的說法，該亞系外資則持保留態度。該亞系外資分析，聯發科主打中階市場的MT 6752的確可望因此增加市占，不過高通的S810市面上目前沒有任何產品可取代、就連聯發科的MT 6795也無法。該亞系外資指出，近期MT 6795贏得的案子主要還是中國大陸的中~高階機種，目前幾乎沒有知名品牌廠的旗艦機種採用MT 6795。',\n",
              "  'post1_en': 'The second -generation Redmi mobile phone was published, Xiaomi full series of products abandon MediaTek\\n \\n ----------------------------------------------\\n The most noticeable change on Redmi 2 hardware is to shift from the MTK platform to Qualcomm platform. The benefits bring are the consistency of software optimization and better communication baseband support. It seems that the rumors of \"honeymoon ends\" between MTK and Xiaomi are not groundless.\\n \\n http://technews.tw/2015/01/04/redmi- 2/',\n",
              "  'post2_en': \"Foreign capital reduction target price\\n \\n -------------------------------------------------------------------------------------------------------------------------------------\\n \\n MediaTek's target price and European capital conservatively given 461 yuan\\n \\n 2015-01-12 15:12:20 Lianhe Evening News reporter Wang Tongyun / Taipei Report\\n \\n In December last year, the revenue of the mobile phone chip large manufacturer (2454) increased slightly by 1.8%monthly to 17.075 billion yuan. In the fourth quarter of last year, the revenue decreased by 3.51%to 554.5.3 billion yuan, in line with the quarterly decrease of 6%to 2%of financial test expectations. However, the latest report issued by the European Department of Foreign capital pointed out that based on the three major reasons, it still has a conservative view of MediaTek's operation this year, especially in the first half of the year.\\n \\n The European department pointed out that because of the three major reasons, MediaTek's challenges this year may be even more severe.First of all, Qualcomm's market attitude in mainland China is more positive. Second, the reunion of the exhibition News in 3G chips may lead to the pressure of the industry's fell -lift margin. Third, MediaTek's 3G chip last year last year, this year's product portfolio optimization benefits Limited; and in terms of 4G chips, as the low -level MT6735 chip is shipped, MediaTek's gross profit margin will begin to decline in the first season.\\n \\n The European department also believes that among these three major air, Qualcomm will be MediaTek's biggest challenge this year. The European department has therefore held conservative views on MediaTek's operations this year, and gives holding the target price of 461 yuan.Another Asian -based foreign capital gives Lianfa science reductions, as well as 400 yuan target price. Regarding the two 4G chips of Qualcomm High -level S810 and mid -range S615 recently reported overheating problems and MediaTek is expected to benefit, the Asian foreign capital has a reservation attitude. According to the analysis of the Asian department, MediaTek's main MT 6752 in the mid -range market is indeed expected to increase the market occupation. However, there is no product replacement on the market of Qualcomm's S810 market. Even MediaTek's MT 6795 cannot. The foreign investment of the Asian department pointed out that the recent cases won by MT 6795 are mainly Mainland China. At present, there are almost no flagship models of well -known brand factories using MT 6795.\"},\n",
              " {'index': 448,\n",
              "  'post1': '高通(Qualcomm)發展踢鐵板，聯發科(2454)趁勢崛起搶市佔！瑞銀(UBS)看好聯發科前景，升評為「買進」，目標價升至台幣560元，等於有15%的上漲空間。\\n \\n Barronˋs 8日報導，瑞銀分析師Eric Chen、Samson Hung、Sunny Lin預估，聯發科在中國4G智慧機的市佔將從去年的30%、今年增至46%。聯發科市佔增加 不只因為獲得低階機種採用，在高階機種也吃香，不少客戶放棄高通Snapdragon 800，改用聯發科MT6795。\\n \\n 瑞銀報告稱，他們認為Sony、LG、宏達電(2498)、小米、魅族、Oppo、聯想等，都是MT6795用戶。聯發科晶片獲得10個以上機種的設計採用(design win)，估計今年第二季每個月出貨量達200萬組，今年下半每月出貨量續增至400萬組。\\n \\n 聯發科在中階機種也有斬獲，瑞銀表示，高通MSM 8939設計比不上聯發科MT 6752，中國智慧機大廠聯想和華為等皆會改採聯發科晶片，預估MT6752/MT6732(主要是MT6752，售價18-20美元)出貨量將從Q1的每月150萬組，Q2增至每月300萬組。\\n \\n 瑞銀估計聯發科今年營收將成長20%；毛利率也將從去年的45%，今年提升至48.6%；每股盈餘也將大增21%。\\n \\n 台北時間9日中午12點27分為止，聯發科漲1.98%、報台幣488.5元。\\n \\n 美聯社1月底報導，高通在發佈前季財報(2015會計年度第一季)時首度公開表示，驍龍810高階處理器幾乎確定被某大型客戶的新一代旗艦裝置棄用，雖然高通沒有指名道姓，但指的應該就是三星Galaxy S6。\\n \\n 讓高通頭痛的還不只這一樁，其實驍龍系列處理器在大陸市場均遭遇苦戰，迫使高通下修財務展望，全年預估營收自268~288億美元調 降至260~280億美元；每股盈餘（EPS）自4.33~4.63美元調降至4.04~4.34美元。據FactSet調查，分析師平均預估營收、EPS各為278.1億美元與5.2美元。',\n",
              "  'post2': 'RTN.asia 24日報導，依據機器效能測試軟體Geekbench 3的評分結果，聯發科(2454)即將上市的64位元LTE晶片組「MT6795」效能擊敗了高通(Qualcomm)的「驍龍(Snapdragon)810」處理器。\\n \\n 在本次評分中，內建MT6795的裝置在多核心類別的得分為4536分，僅次於NVIDIA Tegra K1與Samsung Exynos 7420。其中，Exynos 7420在多核心類別的得分多達5478分。\\n \\n 相較之下，Snapdragon 810則退居第四名，內建這款處理器的「LG G Flex 2」智慧型手機本(2)月稍早在Geekbench 3跑出的評分為4398分。MT6795、Snapdragon 810都是八核心處理器，擁有四顆Cortex-A57核心、四顆Cortex-A53核心。\\n \\n 必須要提醒大家的是，由於經常有最新機種可供測試，因此Geekbench 3的評分常常會出現變化，上述數據並非絕對。另外，測試裝置使用的螢幕解析度、RAM以及記憶體種類也會影響Geekbench 3的評分。\\n \\n 以其他軟體來進行測試，結果便不太相同。據美國科技網站《PhoneArena》日前所做報導，Snapdragon 810與Exynos 7420均支援2K螢幕，但在效能上Snapdragon 810明顯高出一截，評測軟體安兔兔(Antutu)測試數據顯示，Snapdragon 810跑出61,499分，而Exynos 7420則是60,978分。\\n \\n 據報導，Snapdragon 810在多工、CUP整點/浮點運算、RAM存取速度，以及2D影像效能均佔優勢，而Exynos 7420只有在3D影像贏過驍龍810，也就是說Exynos 7420可能唯有在處理遊戲時才比較能發揮三星14奈米製程工藝的能耐。',\n",
              "  'post1_en': 'Qualcomm (Qualcomm) developed iron boards, MediaTek (2454) took advantage of the rise to grab the market! UBS is optimistic about MediaTek\\'s prospects and is promoted to \"buy\". The target price rises to NT $ 560, which is equivalent to 15%of the rise.\\n \\n Barron 8s reported on the 8th that UBS analysts Eric Chen, SAMSON HUNG, and Sunny Lin estimated that MediaTek\\'s market account for 4G smart machines in China will increase from 30%last year to 46%this year. The increase in MediaTek is not only because of the use of low -end models, but also incense in high -end models. Many customers have abandoned Qualcomm Snapdragon 800 and switched to MediaTek MT6795.\\n \\n UBS reports that they believe that Sony, LG, HTC (2498), Xiaomi, Meizu, OPPO, Lenovo, etc. are all MT6795 users.MediaTek chip has been used in the design of more than 10 models (Design Win). It is estimated that the monthly shipments of the second quarter of this year reached 2 million groups. In the second half of this year, the monthly shipment continued to increase to 4 million groups.\\n \\n MediaTek also won in mid -range models. UBS said that the design of the Qualcomm MSM 8939 is not as good as MediaTek MT 6752. China Smart Machine Factory Lenovo and Huawei will change the joint chip. The price of $ 18-20) shipments will be increased from 1.5 million groups per month to 3 million groups per month.\\n \\n UBS estimates that MediaTek\\'s revenue will grow by 20%this year; gross profit margin will also increase from 45%last year to 48.6%; earnings per share will also increase greatly by 21%.\\n \\n At 12:27 noon on the 9th of Taipei time, MediaTek rose 1.98%and NT $ 488.5.\\n \\n The Associated Press reported at the end of January that Qualcomm publicly stated for the first time in the first quarter of the financial report (the first quarter of 2015: the first quarter of the accounting year) that the Snapdragon 810 high -level processor was almost determined to be abandoned by the new generation flagship device of a large customer. The named name, but it should refer to the Samsung Galaxy S6.\\n \\n It has not only this one who makes Qualcomm headaches. In fact, the Snapdragon series processors have suffered a hard battle in the mainland market, forcing Qualcomm to build a financial outlook. The annual estimated revenue will be reduced from 26.8 to 28.8 billion U.S. dollars to 260 to 28 billion US dollars. ; Eap percentage (EPS) decreased from 4.33 ~ 4.63 US dollars to 4.04 ~ 4. 4.$ 34. According to the FactSet survey, the average estimated revenue and EPS were US $ 27.81 billion and $ 5.2 each.',\n",
              "  'post2_en': 'RTN.Asia reported on the 24th that according to the scoring results of Geekbench 3 in the machine performance test software, the 64 -bit LTE chipset \"MT6795\" of MediaTek (2454) defeated the \"Snapdragon 810\" processor of Qualcomm \"Snapdragon 810\" processor Essence\\n \\n In this score, the built -in MT6795 device scores 4536 points in the multi -core category, second only to NVIDIA Tegra K1 and Samsung Exynos 7420. Among them, the Exynos 7420 scored as many as 5478 points in the multi -core category.\\n \\n In contrast, the Snapdragon 810 retreated to fourth place. The \"LG G FLEX 2\" smart phone book (2) built in this processor (2) earned 4398 points at GeekBench 3 in the month. MT6795 and Snapdragon 810 are all octa-core processors, with four Cortex-A57 cores and four Cortex-A53 cores.It must be reminded that because the latest models are often available for testing, the score of Geekbench 3 often changes, and the above data is not absolute. In addition, the screen resolution, RAM and memory type used in the test device will also affect the score of Geekbench 3.\\n \\n Test it with other software, the results are not the same. According to the US technology website \"Phonearena\" recently reported, the Snapdragon 810 and Exynos 7420 both supported 2K screens, but the Snapdragon 810 was significantly higher in terms of efficiency. The test data of the Snapdragon 810 ran out. 61,499 points, and Exynos 7420 is 60,978 points.\\n \\n According to reports, the Snapdragon 810 has an advantage in multi -work, CUP\\'s overall point/floating -point operation, RAM access speed, and 2D image efficiency, and Exynos 7420 only won the Snapdragon 810 in 3D image, which means that the Exynos 7420 may only be only expelive. Only when dealing with the game, it is more capable that Samsung\\'s 14nm process technology can be played.'},\n",
              " {'index': 450,\n",
              "  'post1': '業績不好,消息面也很差,向上拼高通打品牌,管銷大影響EPS獲利,向下又有展訊積極猛打,更影響毛利及業績,\\n 前途相當不看好,持續看空它~\\n \\n =======================================\\n 袁帝文轉檯展訊 槓聯發科\\n 業界傳出，先前遭聯發科提告的聯發科前手機晶片部門最高主管袁帝文，在競業禁止期滿之後，近期轉往大陸扶植的手機晶片廠展訊任職，除擔任集團副總（VP）之外，更擔任IC設計業「金頭腦」角色的研發本部總經理，成為未來展訊集團總經理接班人選呼聲高。袁帝文本人昨（15）日不回應相關傳聞。\\n 據悉，展訊除了找袁帝文擔任要職之外，也已陸續網羅來自「大小M」—聯發科、晨星合計上百位員工，「小聯發科」的勢力逐步形成，希望藉此複製「大小M」的成功經驗。聯發科是台灣IC設計龍頭，其人才陸續遭展訊等大陸業者挖角，不利我IC設計產業發展。\\n \\n 袁帝文是聯發科前無線通訊事業部總經理，曾擔任董事長蔡明介特助。他在2012年2月離職後，在競業禁止期間內，被聯發科認為離職前下載不少公司機密文件，並且轉赴競爭對手擔任顧問，讓蔡明介大動肝火。\\n \\n 聯發科去年初對袁帝文提出違反營業秘密和競業禁止條款等民刑事訴訟，雖然刑事部分被新竹地檢署裁定不起訴，但智財法院民事偵察庭駁回袁帝文的抗告，雙方互有勝敗。據了解，袁帝文上個月在三年競業禁止期滿之後，正式進入展訊。\\n \\n 手機晶片供應鏈認為，展訊是聯發科在2G時代的頭號競爭對手，袁帝文又是當年聯發科在功能型手機時代稱王的戰將，如今前往展訊擔任要職，將所學功力注入新東家，有機會縮短展訊追趕聯發科的學習曲線。\\n \\n 展訊在3G時代一度發展不順，被大陸清華控股旗下紫光集團收購之後，即將轉型復出，敲定4月2日舉行新產品發表會。',\n",
              "  'post2': '今天發哥好強⋯⋯看來是沒機會加碼了',\n",
              "  'post1_en': 'The performance is not good, and the news surface is also poor. The upward fights for the brand. The management and sales have greatly affected EPS profits.\\n The future is not optimistic,Continue to empty it ~\\n \\n ==================================\\n Yuan Diwen Turning in Taiwan Exhibition News\\n According to the industry, Yuan Diwen, the highest supervisor of the former mobile phone chip department of MediaTek, which was previously reported by MediaTek, was recently transferred to the mobile phone chip factory in the mainland after the expiration of the bidding forbidden period. , Also serving as the general manager of the R & D headquarters of the IC design industry \"Golden Mind\", becoming a candidate for the general manager of the Future Exhibition News Group. Yuan Diwen did not respond to the relevant rumors yesterday (15).It is reported that in addition to finding Yuan Diwen as an important job, the exhibition News has also been online from \"size M\" -MediaTek and Morning Star in total. experience. MediaTek is the leader of Taiwan\\'s IC design. His talents have been dug by mainland operators such as exhibition News, which is not good for the development of the IC design industry.\\n \\n Yuan Diwen is the general manager of MediaTek\\'s former wireless communication division, and has served as Chairman Cai Mingjie.After he left in February 2012, during the bidding period, he was regarded by MediaTek to download many confidential documents of the company before leaving, and transferred to competitors as a consultant to make Cai Mingjie a big fire.\\n \\n In the beginning of last year, MediaTek filed a criminal lawsuit against Yuan Diwen\\'s violations of business secrets and the prohibition of bidding prohibitions. Although the criminal part was ruled by the Hsinchu Procuratorate by the Hsinchu District Prosecutor\\'s Office, the Civil Investigation Court of the Intelligence Court rejected Yuan Diwen\\'s prosecution, and the two sides won each other. It is understood that Yuan Diwen officially entered the exhibition news after the expiration of the three -year bidding period last month.The supply chain of the mobile phone chip believes that the Show News is the number one competitor of MediaTek in the 2G era. There is a chance to shorten the learning curve of the exhibition news to catch up with MediaTek.\\n \\n In the 3G era, the exhibition News has not developed smoothly. After being acquired by Ziguang Group, a subsidiary of Tsinghua Holdings, it is about to transform and come back, and it is finalized to hold a new product presentation on April 2.',\n",
              "  'post2_en': 'Today, my brother is so strong ... It seems that there is no chance to add it anymore'},\n",
              " {'index': 452,\n",
              "  'post1': '綜觀整體，從IC設計、晶圓製造、封裝測試、LED、LCD、安控、網通、CCL，到終端手機、NB，台島主流IT產業10年應該會被內地廠商K.O.掉。',\n",
              "  'post2': '聯發科自結3月合併營收204.01億元，月增110.95%\\n 聯發科 104年3月營收204.01億、年增17.05%\\n 第一季營收約475.33億(預估財測營收455~499億元)\\n \\n 發哥三月營收還可以，\\n 股價要有所反應才好\\n 我們繼續看下去....',\n",
              "  'post1_en': 'Looking at the whole, from IC design, wafer manufacturing, packaging testing, LED, LCD, security, Netcom, CCL, to terminal phones, NB, the mainstream IT industry in Taima should be removed by mainland manufacturers K.O..',\n",
              "  'post2_en': \"MediaTek merged the revenue of 20.401 billion yuan in March, an increase of 110.95% monthly\\n MediaTek's March 104 revenue was 20.401 billion yuan, an annual increase of 17.05%\\n The first quarter revenue is about 47.533 billion (estimated to have 455 ~ 49.9 billion yuan)\\n \\n Fa brother's March revenue is okay,\\n The stock price must be reacted\\n We continue to watch ....\"},\n",
              " {'index': 454,\n",
              "  'post1': '又再度跳水了⋯⋯這檔股票真的很傷腦筋',\n",
              "  'post2': '指數都快萬點，2454不漲反跌',\n",
              "  'post1_en': 'I dive again again. This stock is really hurting',\n",
              "  'post2_en': 'The index is almost 10,000, 2454 will not rise and fall'},\n",
              " {'index': 456,\n",
              "  'post1': '發哥有利空出盡\\n 開低走高醞釀反彈...',\n",
              "  'post2': '也來關注一下\\n 今天總算是紅的了\\n \\n 繼續置頂~~',\n",
              "  'post1_en': 'Fa brother is good\\n Open low and go, brewing rebound ...',\n",
              "  'post2_en': \"Come and pay attention\\n It's finally red today\\n \\n Continue to set the top ~~\"},\n",
              " {'index': 458,\n",
              "  'post1': '這個板停了嗎\\n 都沒有人關注了\\n 好奇怪\\n 發哥漲上來了\\n 重回400大關',\n",
              "  'post2': '對岸跳水...\\n 這邊也一起跳水.......',\n",
              "  'post1_en': \"Is this board stopped?\\n No one pays attention\\n it's wired\\n Fa brother rose up\\n Return to the 400 mark\",\n",
              "  'post2_en': 'Diving on the other side ...\\n Diving together here .......'},\n",
              " {'index': 460,\n",
              "  'post1': '2454走空了 短線還可硬撐長期300必破.',\n",
              "  'post2': '又跳水了。下周法說不知會不會真的下修出貨',\n",
              "  'post1_en': '2454 After the short -term, the short -term can also hardly support the long -term 300 to break.',\n",
              "  'post2_en': 'Diving again. I do n’t know if it will really be repaired next week.'},\n",
              " {'index': 462,\n",
              "  'post1': '看空的還不去空喔???\\n 只會喊喊想製造散戶恐慌想撿便宜的心態吧\\n 之前就知道的消息也跌一波了\\n 早就反映完利空了\\n 這麼有把握到三百以下現在空隨便都賺20元起跳還不快去空\\n 這波大跌下來反而外資都賣超一點點近兩天還買超就知道外資心態偏多了\\n 就只是散戶自己自砍給外資低接\\n 資減券增 準備嘎一波',\n",
              "  'post2': '現在的發哥只能靠小米支撐下半年,\\n \\n 但是後遺症是, 除了小米 note 2,\\n \\n 目前HTC, SONY, 魅族, 樂視, 其他廠使用X10做的手機, 應該都很難賣了..\\n \\n \\n 未來還會有一線廠商敢用 \"聯發哥旗艦晶片\" 作中高階手機嗎?',\n",
              "  'post1_en': \"Don't go empty on the empty one ???\\n I can only shout that I want to create an retail investor to panic and want to pick up the cheap mentality.\\n The news that I knew before was also a wave of waves\\n It has long been reflected in the empty empty\\n It's so confident that I will earn 20 yuan from three hundred now.\\n Instead, this wave of fell down, but foreign capital sells for more than two days and still buys superheartedly. I know that the foreign investment mentality is too much.\\n It's just that retail investors cut their own low -connection to foreign capital\\n A wave of preparations for the increase\",\n",
              "  'post2_en': 'Now my brother can only rely on Xiaomi to support the second half of the year,\\n \\n But the sequelae are, except Xiaomi Note 2,\\n \\n At present, HTC, SONY, Meizu, LeTV, and other manufacturers use X10 mobile phones, it should be difficult to sell ...\\n \\n \\n In the future, there will be a front -line manufacturer dare to use the \"MediaTek flagship chip\" as a mid -to -high -end mobile phone?'},\n",
              " {'index': 464,\n",
              "  'post1': '漲停了..................\\n 發生甚麼事??????',\n",
              "  'post2': '2015-09-07 15:38\\n 〔記者卓怡君／台北報導〕IC設計聯發科（2454）與立錡（6286）今日下午召開重大說明會，聯發科決定收購立錡，每股195元，以現金作為對價公開收購立錡股權，聯發科董事長蔡明介與立錡董事長邰中和共同出席，預計明年第二季完成。\\n \\n 真的併了\\n 今年連4併~~~~',\n",
              "  'post1_en': 'The daily limit ..................\\n What happened??????',\n",
              "  'post2_en': '2015-09-07 15:38\\n [Reporter Zhuoyi Jun / Taipei Report] IC Design MediaTek (2454) and Lizhen (6286) held a major briefing this afternoon. MediaTek decided to acquire Lixuan, which was 195 yuan per share. Chairman Cai Mingjie and Chairman of Lizhen, Mizuzhong and Lizhong, attended together, and are expected to be completed in the second quarter of next year.\\n \\n Really parallel\\n This year, 4 meads ~~~~'},\n",
              " {'index': 466,\n",
              "  'post1': 'IC設計幾乎都漲翻了 發哥還在跌 法人天天大賣!散戶別再接了 跟著空啊!\\n 發哥整個弱於大盤 弱於IC設計指標 等哪天大盤跌 IC設計指標跌 發哥就爽了....',\n",
              "  'post2': '聯發科應該正名為\"憐花瞌\"比較貼近它的股性 哈哈哈.',\n",
              "  'post1_en': 'IC design almost all rises, and the elder brother is still selling the legal person every day! Do n’t take the retail to follow the empty!\\n Fa brother is weaker than the large market, weaker than the IC design indicators, etc. Sominating the big market falls IC design indicators to fall. Brother is cool ...',\n",
              "  'post2_en': 'MediaTek should be known as \"Pinghua\" closer to its femorality hahaha.'},\n",
              " {'index': 468,\n",
              "  'post1': '現在mtk面臨的不是技術問題,你晶片做得再好,就算跑分跑10萬分,\\n 對岸一道命令,不准用mtk晶片,發哥就準備吃沙了....\\n \\n 當然發哥也可以尋求法律途徑,但勝算可能....',\n",
              "  'post2': '最該賣給紫光就是聯發科了 可以救救你那焉焉一息的股價.',\n",
              "  'post1_en': 'Now MTK is not facing technical problems. No matter how good your chip is, even if you run 100,000 points,\\n A command on the other side, the MTK chip is not allowed, and the brother is ready to eat sand ...\\n \\n Of course, the elder brother can also seek legal ways, but the chance of winning may ...',\n",
              "  'post2_en': \"The most important thing to be sold to Ziguang is MediaTek's stock price that can save you.\"},\n",
              " {'index': 470,\n",
              "  'post1': '昨天晚上夢到發哥已和紫光協商好\\n 壓低股價方式讓紫光入股\\n 這場神鬼乾坤大挪移似乎愈來愈精彩!!',\n",
              "  'post2': '公布的業積那麼差 我看明天開盤不妙吧 不知會不會往180.',\n",
              "  'post1_en': 'Last night I dreamed that the brother had been negotiated with Ziguang\\n Press the stock price method to let Ziguang invest in the shares\\n This god and ghost seemed to be more and more exciting !!',\n",
              "  'post2_en': 'The announcement of the announcement is so bad. I see if it ’s not good tomorrow. I do n’t know if it will go to 180.'},\n",
              " {'index': 472,\n",
              "  'post1': '聯發科最近好慘~\\n 外資又開始賣超了\\n 不知會下探到多少',\n",
              "  'post2': '看看憐發科這波會不會跌破前波低點193.5.',\n",
              "  'post1_en': \"MediaTek has been miserable recently ~\\n Foreign capital started to sell again\\n I don't know how much will I go down\",\n",
              "  'post2_en': \"See if Plumfa's wave will fall below the front wave low 193.5.\"},\n",
              " {'index': 474,\n",
              "  'post1': 'Intel 有投資展訊\\n \\n 若Intel 買展訊 再賣給發哥 應該就避掉520之後的政策問題\\n \\n 三家合一 應該是未來可預期的\\n \\n 目前消息推測有三\\n 賣掉杰發,\\n 收購Intel手機部門\\n 收購展訊\\n \\n 答案公布\\n \\n 聯發科（2454）今下午1時30分，於證交所3樓記者室舉行重大訊息記者會，宣布將子公司杰發以6億美元賣給四維圖新。四維圖新是一家中國企業，主要業務是為汽車品牌提供導航數據。',\n",
              "  'post2': '發哥下跌的原因，主要是大客戶oppo,vivio的單被高通奪走不少。',\n",
              "  'post1_en': 'Intel has an investment booster\\n \\n If Intel bought the exhibition news, it should be sold to the brother to avoid the policy issues after 520\\n \\n Three units should be expected in the future\\n \\n The current news speculates that there are three\\n Selling Jiefa,\\n Acquisition Intel mobile phone department\\n Acquisition\\n \\n Answer\\n \\n At 1:30 pm this afternoon, MediaTek (2454) held a major information press conference on the 3rd floor of the Securities Stock Exchange, announcing that the subsidiary had sold her subsidiary to $ 600 million to Sitama. Siweitu Xin is a Chinese enterprise. The main business is to provide navigation data for car brands.',\n",
              "  'post2_en': \"The reason for the decline of the elder brother is mainly the big customers OPPO, vivio's order has been taken away a lot by Qualcomm.\"},\n",
              " {'index': 476,\n",
              "  'post1': '還沒到下半年過了幾個月\\n 發哥營收一樣爛\\n 但美系外資最新報告極度看好,目標價調升至250\\n \\n 外資阿!!股價都給你用喊的就好',\n",
              "  'post2': '聯發科今（31）日公布第2季財報，因毛利率拉升至35%，單季稅後純益22.1億元，每股稅後純益1.51元，表現略優於預期，但仍為掛牌上市以來新低。\\n \\n 聯發科第2季營收為580.8億元，季增3.6%，落在財測中偏低標，原預估第2季毛利率為34%正負1.5百分點；營業費用率則為30%正負2個百分點，單季每股稅後純益將落在0.83元至1.14元間。\\n \\n 據聯發科剛剛公布的第2季財報，毛利率為35%，季增1.5個百分點，營業利益23.58億元，季增逾九成，稅後純益22.1億元，每股純益1.51元。\\n \\n \\n 列入保\"1\"總隊了\\n 沒賣子公司,就能保住1,不錯不錯',\n",
              "  'post1_en': \"It hasn't been a few months before the second half of the year\\n Fa brother's income is as bad\\n However, the latest report of the US foreign investment is extremely optimistic, and the target price is increased to 250\\n \\n Foreign capital !! The stock price will be shouted for you\",\n",
              "  'post2_en': 'MediaTek announced today (31) that the second quarter financial report was announced. Because the gross profit margin rose to 35%, the net profit after the single quarter tax was 2.21 billion yuan, and the net profit after tax per share was 1.51 yuan. New low.\\n \\n The second quarter revenue of MediaTek was 58.08 billion yuan, an increase of 3.6%, and it fell at a low bid in the financial test. It was estimated that the second quarter of the second quarter was 34%positive and negative 1.5 percentage points. For percentage, the net profit after tax per share will fall between 0.83 yuan to 1.14 yuan.\\n \\n According to MediaTek\\'s second quarter financial report, the gross profit margin was 35%, a quarterly increase of 1.5 percentage points, operating benefits of 2.358 billion yuan, a quarterly increase of more than 90%, net profit after tax 2.21 billion yuan, net profit per share 1. 1.51 yuan.\\n \\n \\n Lotten to the \"1\" team\\n You can save 1 without selling subsidiaries, not bad'},\n",
              " {'index': 478,\n",
              "  'post1': '省吃儉用就壓這一檔，\\n 終於讓我遇到這個價位，\\n 成本12.25買入，\\n 希望這會是個好買點\\n 會買聯電的原因，\\n 至少它還是代工二哥，\\n 未來還是頗看好晶圓在物聯網的表現!\\n 所以我是算投資吧?',\n",
              "  'post2': '8000大~~聯電還留著嗎?\\n \\n 不妙喔~~看樣子,10元應該見的到',\n",
              "  'post1_en': 'Save money and use this gear,\\n Finally let me meet this price,\\n Cost 12.25 Buy,\\n Hope this will be a good buy\\n The reason for buying UMC,\\n At least it is still the second brother,\\n In the future, it is quite optimistic about the performance of wafers at the Internet of Things!\\n So I calculate investment, right?',\n",
              "  'post2_en': \"8000 major ~~ Is UMC stay?\\n \\n It's not good ~~ It seems that 10 yuan should be seen\"},\n",
              " {'index': 480,\n",
              "  'post1': '破10.9了,看來真的目標是10\\n 幸好紅內褲提醒我們了',\n",
              "  'post2': '還是等跌破10元再找買點 , 現在很多股都跌到骨折了 , 沒必要一定要這支',\n",
              "  'post1_en': 'Breaking 10.9, it seems that the real goal is 10\\n Fortunately, red underwear reminds us',\n",
              "  'post2_en': 'Still wait to find a buy point at 10 yuan, and now many stocks have fallen to fractures, so there is no need to have this'},\n",
              " {'index': 482,\n",
              "  'post1': '聯電這個一直在追趕老大台積電的所謂晶圓雙雄長年老二,18年一直在苦苦追趕先進製程,\\n 人家老大台積電好整以暇整把賺起來往下一個先進製程去了..\\n 老二才趕到發現沒肉了只有湯..只好一直灌湯灌到飽..十几年下來…\\n 他終於搞懂了..干嘛要拼老大…成熟製程費用低..也有需求..本本份份當個老二也不錯..\\n 老二當的好也可以當大老二啊….\\n 從2018年開始減少資本支出,放棄先進製程…\\n 也許能走出失落的18年,也許大家會說這樣就能賺錢了?其實都有端倪可尋…\\n \\n 1降低資本支出:減少資本支出..不用拼先進製程就不用花錢蓋新廠買新機器..舊有的製程維護維修即可..\\n \\n 2執行減資及庫藏股買回,有時註銷減少股本,有時折價賣給員工..\\n 聯電10/14日有30名公司經營主管申報持股信託，合計申報6萬3550張，\\n 市價總值逾20.3億元,閉鎖期二年,為什麼要這樣?因為公司要那個那個了..\\n 不要問我那個那個是什麼..你想不出來也不要買了…\\n \\n 3中芯制裁:製程跟聯電高度重疊的中芯被偉大的USA列為實體清單,\\n 未來要賣機器給中芯都要許可證.. 在中芯的前 3 大客戶中，高通位居第二，占公司營收約 13%，\\n 主要代工產品為 8 吋 0.18 微米製程的電源管理 IC，以及 12 吋 14/28 奈米製程的入門及手機行動處理器為主。此前，川普政府放出風聲，考慮將中芯國際也加為黑名單。\\n 中芯國際最近發表聲明，強調任何關於中芯與中國軍方關係的假設，\\n 都是不真實的錯誤指控。據稱，蘋果也是高通電源管理 IC 的客戶，\\n 在當前 8 吋產能供不應求的情況下，為避免未來出現斷貨，產業鏈傳蘋果出面幫高通協商產能。不過高通台灣部門稱並不知道此事。博通是中芯另一大美國客戶，代工產品也以電源管理 IC 為主,\\n 這些怕交貨出問題也寧願找在台灣有廠交貨不會出問題的聯電 世界先進或者力積電可以預知訂單會塞爆八吋廠,那怎麼辨,漲價啊..加價購啊..此時不趁火打劫更待何時…\\n \\n 4提高配息:聯電去年的EPS是0.8 配息也是0.8,\\n 高層有暗示明示聯電會採世界先進高配息的方式,2\\n 020 EPS各家報告平均大概落在1.8元,也許可能可以配到1.6元現金,\\n 由殖利率去反推也許明年會落在45元,我認為明年由漲價10%去計算營收放大的程度..\\n EPS大概可以到3元同樣也配9成,愛作夢的自己去推算股價..\\n \\n 5侵權案:目前看起來和解金是6000万美金娘娘(很少的意思)..\\n 有朋友說17億很多內…我都笑的半死,\\n 聯電帳上現金有900多億一年現金流快400億,17億簡直就是藍鳥比...,\\n 這顆未爆彈高層為什麼之前喊戰到底,現在要和解了,\\n 因為光到處喊10億美金還是200億美金,投資法人跟散戶都腿軟了..你\\n 要那個那個不把未爆彈拆除,大家要怎麼那個那個啦….\\n \\n 結論:我認為經由減少資本支出的費用減少,還有8吋製程吃緊的漲價效益加中芯狗吃屎聯電擴大市占,加上聯芯每年虧一百億可以快速縮小..少虧一百億可是差很多的..\\n 聯電的EPS極限可以到4-4.5元,万一不小心配出4元來..\\n 也許目標價可以去跟世界先進看看一下..請問公堂之上假設一下不犯法吧..…\\n \\n 其實我不想發這篇文也很久沒發文了..\\n 一來是我也沒佔什麼好處,發文賺吆喝干嘛,而且我也沒辨法再結一次婚啊…\\n 也沒空建立在座各位的庫存天天盯著看叫你們感恩師父讚嘆師父...\\n 或者等下被說哎喲..叫人來抬轎,\\n 我相信那麼大的八人大轎也不是諸位等抬得動我喊的動的..\\n 其實兩年前有站內信我的..我都請他去看聯電,\\n 如果可以拋磚引玉..引出一些高手來補足錯誤之處也不錯..聯電18年後才醒悟..為時未晚…世界先進花了整整三年..我想聯電也要..少花錢多配息死道友訴訟止,大家來說說這下要多少元才可以厚…丞相 起風了 大家快乘著風破浪去....',\n",
              "  'post2': '如果\\n Q4 獲利 0.5，則全年 EPS 可望 2.0\\n Q4 獲利 0.6，則全年 EPS 可望 2.1\\n Q4 獲利 0.7，則全年 EPS 可望 2.2\\n Q4 獲利 0.8，則全年 EPS 可望 2.3\\n \\n 保守看或是樂觀看，明年配息皆可望較今年大幅成長',\n",
              "  'post1_en': \"UMC, the so -called wafer doubles that have been chasing the boss Tatoral Power for a long time, and have been struggling to catch up with the advanced process in 18 years.\\n The boss of the house is good for the whole process to make a lot of money to the next advanced process ..\\n The second child rushed to find that there was no meat, only soup .. I had to fill the soup until full .. After more than ten years ...\\n He finally understood .. Why do you want to fight for the boss ... The cost of mature process is low .. There is also a need .. It is also good to be the second child ..\\n The second child can also be the second child ...Starting to reduce capital expenditure since 2018, abandon advanced process ...\\n Maybe we can get out of the lost 18 years, maybe everyone will say that this can make money? In fact, there are clues to find ...\\n \\n 1 Reduce capital expenditure: reduce capital expenditure .. No need to spend money to build a new machine without spending the advanced process .. Old process maintenance and maintenance can be ..\\n \\n 2 Perform capital reduction and treasury stocks, sometimes cancel the reduction of share capital, and sometimes discount to employees ..\\n UMC 10/14 has 30 companies in charge of the management of holding holders, and the total application is 63,550.\\n The total value of the market price is more than 2.03 billion yuan, and the terminal period is two years, why is this? Because the company wants that one ...\\n Don't ask me what that one ..You can't think of it or buy it ...\\n \\n 3 SMIC sanctions: SMIC, which overlaps the high level of the process and the UMC, is listed as a physical list by the great USA,\\n In the future, it is necessary to sell the machine to the SMIC .. Among the top 3 customers of SMIC, Qualcomm ranks second, accounting for 13%of the company's revenue.\\n The main foundry products are 8 inches 0.The power management IC of the 18 micron process, as well as the entry and mobile phone operation processor of the 12 -inch 14/28 nanometer process. Earlier, the Trump administration released the wind, considering adding SMIC as a blacklist.\\n SMIC recently issued a statement that emphasizes any assumptions on the relationship between SMIC and the Chinese military.\\n They are unreal errors. It is said that Apple is also a customer of Qualcomm's power management IC.\\n In the case of current 8 -inch production capacity, in order to avoid the future out stock, the industrial chain rumors to help Quality negotiate production capacity. However, the Qualcomm Taiwan department said it did not know about it.Broadcom is another major American customer in SMIC.\\n These fear of delivery problems would rather find the UMC world advanced or Liqiyo who did not have any problems in Taiwan to deliver problems. . At this time, when will not take advantage of the fire, when will it be more ...\\n \\n 4 Increasing interest distribution: UMC's EPS last year was 0.8 distribution and 0.8, and\\n High -level hints that Mingxian UMC will adopt the world's advanced high dividend, 2\\n 020 EPS reports on average about 1.8 yuan, maybe it may be able to be equipped with 1.6 yuan cash.\\n Pushing from the yield of yield may fall at 45 yuan next year. I think the price increase will be increased by 10%next year ..EPS can also reach 90 % of the same, and the dream who loves to calculate the stock price ..\\n \\n 5 Infringement: At present, and Jiejin is 60 million US dollars (very little meaning) ..\\n Some friends said that there were a lot of 1.7 billion ... I laughed halfway,\\n The cash on the UMC has a cash flow of more than 90 billion years of cash faster, and 1700 million is simply a blue bird ratio ...,\\n Why did this unless bomb high level shouting to the end before? Now I have to reconcile,\\n Because it ’s a $ 1 billion of $ 1 billion everywhere, the investment legal person and retail are softened .. You\\n If you want that that does not demolish the unblied bomb, how do you want that ....Conclusion: I think that the cost of reducing capital expenditure is reduced, and the price increase benefits of 8 -inch tubes plus SMIC Eat Lianye Power to expand the market occupation. In addition, Lianxin's loss of 10 billion yuan per year can be reduced quickly .. 10 billion yuan less than 10 billion yuan less than 10 billion yuan. But a lot worse ..\\n UMC's EPS limit can be 4-4.5 yuan, in case you accidentally match 4 yuan ..\\n Maybe the target price can go with the world to take a look .. May I ask the hall to assume that it is not illegal .. ...\\n \\n In fact, I don’t want to publish this article for a long time ..At first I didn’t take care of any benefits. What did I make a lot of money, and I didn’t distinguish it again.\\n There is no time to build in the inventory here every day.\\n Or wait for it to be said .. Call someone to lift the car,\\n I believe that such a big eight -person sedan is not a moving of me ..\\n In fact, I believed me in the station two years ago .. I asked him to see UMC,\\n If you can throw bricks to attract jade .. It is good to lead some masters to make up for the mistake .. UMC will only wake up after 18 years .. It ’s too late for the world ... The world has spent three years for three years .. I think UMC will also want ...Spending less money and more dividend and the deadline for the deadline for the deadly, let's talk about how much yuan can be thicker ...\",\n",
              "  'post2_en': 'if\\n Q4 profit of 0.5, then EPS throughout the year is expected to 2.0\\n Q4 profit of 0.6, then EPS throughout the year is expected 2.1\\n Q4 profit of 0.7, then EPS throughout the year is expected 2.2\\n Q4 profit of 0.8, then EPS throughout the year is expected 2.3\\n \\n Looking at it conservatively or optimistic, the dividends next year are expected to grow significantly compared to this year'},\n",
              " {'index': 484,\n",
              "  'post1': '我是川普的支持者,但幾個星期看下來,縱使證據多如牛毛,證人超過千人,但司法部長昨天出來說,沒有什麼證據可以證明大選舞弊,從11/3選舉以來,司法部,FBI都原地不動,最後說沒有證據,這年頭冤案有少過嗎? 殺人犯被無罪釋放有少過嗎? 美國倒了,全世界將成為社會主義國家,換句話說,\"拜登勝利,中國將再次偉大\",\\n \\n 拜登說了無數次,中國是朋友,俄國才是敵人,他選前說貿易戰沒必要,正好歐洲除了英國幾乎沒有國家支持貿易戰,而川普半強迫的逼歐洲國選邊站,歐洲國家很不高興,尤其是德國,打不過老大哥只好不甘願的跟著走,有人受害就有人受益,台幣及台股成為強幣貨幣及市場,難道沒有原因?\\n \\n 其他川普的政策都將被推翻,拜登說上台第一件事就是重返CHO(WHO),好像離題了,只能說川普加油,只能說勝率5成,55波吧,\\n \\n 好了,聯電的單會接到接不完,是因為中蕊在中國有很多低階的大單,因為聯電和中國關係不錯,這些單都轉向聯電,假設貿易戰沒了,身為中國朋友的拜登應該會取消對中國大企業的制裁,華為,中興,中蕊...都將順風再起,一切都將恢復到2016前,聯電也將恢復以前水準,了不起就15元,不過要看美國總統是誰,要是拜登當選,台灣也可省了幾千億購買武器的浪費,習大大心中收復台灣的目標又近了一點,可喜可賀,\\n \\n 補充一句,政治和股市(股票)是習習相關的.',\n",
              "  'post2': '現在聯電\\n 放棄了先進製程\\n 充其量也只是世界先進的同階\\n \\n 14nm,7nm,5nm都沒',\n",
              "  'post1_en': 'I am a supporter of Trump, but after a few weeks, even though there are more evidence and more than a thousand witnesses, the Minister of Justice came out yesterday that there is no evidence to prove the fraud from the election. Since the 11/3 election, the Ministry of Justice, FBI, FBI It ’s all right, and there is no evidence in the end. Is there a few cases of injustice this year? Is the murderer\\'s innocent release?The United States has fallen, and the world will become a socialist country. In other words, \"Biden wins, China will be great again.\"\\n \\n Biden said countless times, China is a friend, and Russia is the enemy. He said before the election that the trade war was not necessary. It happened that Europe had almost no national support trade war except the United Kingdom. The country is very unhappy, especially in Germany, but the elder brother has no choice but to follow. Some people have benefited from being killed.Other Trump\\'s policies will be overthrown. Biden said that the first thing to come on stage was to return to Cho (WHO).\\n \\n Well, the UMC\\'s order will be received, because Zhong Rui has a lot of low -level orders in China, because UMC and China have a good relationship. These orders are turned to UMC. Assume that the trade war is gone. As a Chinese friend Biden should cancel sanctions against large Chinese enterprises, Huawei, ZTE, Zhongrui ...Both will come back to the wind, everything will be restored before 2016, UMC will also restore the previous level. It will be 15 yuan, but it depends on who the US president is. , Xi Da\\'s mind in the heart of Taiwan is a little closer, gratifying,\\n \\n In addition, the political and stock market (stock) is related to Xi.',\n",
              "  'post2_en': \"Now UMC\\n Give up the advanced process\\n At best, it is just the world's advanced level\\n \\n 14nm, 7nm, 5nm\"},\n",
              " {'index': 486,\n",
              "  'post1': '好啊～～～轎子坐好了！\\n 歡迎抬轎，一定超過63啦！',\n",
              "  'post2': '昨天買在15.05...\\n \\n 如果下周一直往14.5倒退~~\\n \\n 2303適合加碼攤平嗎?\\n \\n 打算成本攤平落在14元內，至少20張。',\n",
              "  'post1_en': 'Okay ~~~ Sit for sedan seeds!\\n Welcome to lift the sedan, it must exceed 63!',\n",
              "  'post2_en': 'I bought it yesterday at 15.05 ...\\n \\n If you will go back 14.5 next week ~~\\n \\n 2303 Is it suitable for overturning to flatten?\\n \\n The cost of planning to be flat within 14 yuan, at least 20.'},\n",
              " {'index': 488,\n",
              "  'post1': '恭喜，\\n 這波會漲到哪呢?\\n 雖然我已經解套了，\\n 但這檔還是比台積電便宜很多，\\n 值得關注後續走向，\\n 看來物聯網題材，\\n 仍少不了聯電捧場',\n",
              "  'post2': '今天聯電爆大量20萬張, 還給他亮燈, 是發生什麼事了嗎?',\n",
              "  'post1_en': 'Congratulations,\\n Where will this wave rise?\\n Although I have solved it,\\n But this gear is still much cheaper than TSMC,\\n It is worth paying attention to the follow -up direction,\\n It seems that the Internet of Things theme,\\n Still, UMC',\n",
              "  'post2_en': 'Today, there are a large number of 200,000 pieces of UMC, and what happened to him?'},\n",
              " {'index': 490,\n",
              "  'post1': '他說一定會突破16，\\n 有人敢跟嗎?\\n 我還沒跟....\\n Ps.我爸有20多年的股市經驗。\\n 不過我們操作方式不太一樣。\\n \\n 去年看過聯電從16元滾下山，\\n 已經嚇死我了，\\n 但這次感覺會站穩，\\n 2015年什麼都漲什麼都不奇怪~\\n 回正題，\\n 台GG都可以一直漲，\\n 聯電為什麼不可以?\\n \\n 半導體聽說會漲到2020年\\n 那聯電是否將在四，五月股價大爆發?',\n",
              "  'post2': 'ASML官網澄清沒賣 EUV給中芯（SMIC）\\n \\n https://www.asml.com/en/news/press-releases/2021/clarification-on-smic-volume-purchasing-agreement\\n \\n ￼',\n",
              "  'post1_en': \"He said he would definitely break through 16,\\n Does anyone dare to follow?\\n I haven't followed ...\\n PS. My dad has more than 20 years of stock market experience.\\n But we do not operate the same way.\\n \\n Last year I watched UMC rolling down the mountain from 16 yuan,\\n Already scared me,\\n But this time I feel that I will stand firm,\\n It's not surprising that everything rises in 2015 ~\\n Back to the topic,\\n Taiwan GG can keep up all the time,\\n Why can't UMC?\\n \\n Semiconductor heard that it will rise to 2020\\n Will UMC be in the fourth, the stock price explosion in May?\",\n",
              "  'post2_en': 'ASML official website clarify that it has not sold EUV to SMIC (SMIC)\\n \\n https://www.asml.com/en/news/press-releases/2021/Clarification- On-smic- Volume- Purchasing- Agreement\\n \\n Bleak'},\n",
              " {'index': 492,\n",
              "  'post1': '現在每一個IC供應商都在喊嚴重缺貨，晶圓代工的產能都滿到明年中了，看起來是有績之彈，所以我在39元小加碼聯電幾張，共襄盛舉，幫忙抬轎！放到明年看看！大部分都投資金融&ETF&傳產，稍微投機一下！ 😄',\n",
              "  'post2': '菜雞新手 ， 這幾年才再看股票\\n \\n 我現在才知道聯電有到100多塊....\\n \\n 為什麼台積電跟聯電差這麼遠?\\n \\n 20塊飆到48塊 其實看你怎麼想貴不貴?? 台積電都已經500多了\\n \\n 有些奇奇怪怪股票都長到 60 70幾了\\n \\n 還是有很大誘惑力 吸引人上車吧?\\n \\n 不是什麼出貨文...不用想太多',\n",
              "  'post1_en': \"Now every IC supplier is shouting seriously, and the production capacity of the wafer foundry is full until the next year. Cars! Let's take a look next year! Most of them invest in finance & eTF & passed production, a little speculative! Bleak\",\n",
              "  'post2_en': \"Novice chicken, just watch the stock again in the past few years\\n \\n I now know that there are more than 100 UMC ...\\n \\n Why is TSMC so far away from UMC?\\n \\n 20 yuan to 48 yuan, in fact, it depends on what you think is expensive ?? TSMC has been more than 500\\n \\n Some strange strange stocks have grown to 6070\\n \\n Still a great temptation to attract people to get on the car?\\n \\n It's not a textbook ... don't think too much\"},\n",
              " {'index': 494,\n",
              "  'post1': '台股殺百點，發哥逆勢收紅\\n 現在等只東風(EPS)吹了\\n 號角準備響起了',\n",
              "  'post2': '發哥，今天外資突然大買\\n 又有人先知道發哥去年EPS很好?\\n 所以在大多數人不看好營建下 狂買?',\n",
              "  'post1_en': 'Taiwanese stocks killed a hundred points, and the elder brother rebelled against the trend\\n Now just wait for Dongfeng (EPS) to blow\\n The horn is ready to sound',\n",
              "  'post2_en': 'Brother, today foreign investment suddenly bought a lot\\n Someone first knows that the EPS was good last year?\\n So in most people are not optimistic about building crazy buying?'},\n",
              " {'index': 496,\n",
              "  'post1': '大家手機板的01能留言嗎?\\n 我手機版都不能留言了\\n 只能用桌電版才能留言\\n 非常得不方便\\n 所以好幾天懶得上來了\\n 沒想到發哥已經快要48塊了\\n 從前波低43塊多到今天47塊多了\\n 我質借的錢都還沒撥款下來\\n 還來不及加碼 就給我漲上去了 \\n 大家都再搶高殖利率的發哥了',\n",
              "  'post2': '20年來，公司市值已經翻了300倍\\n 不但擠進台灣企業百強第85名\\n 也是榜單唯一的建商\\n 獵地王 營收王 市值王',\n",
              "  'post1_en': 'Can you leave a message on your mobile phone board 01?\\n I can’t leave a message anymore\\n You can only use the table electric version to leave a message\\n Very inconvenient\\n So I am too lazy to come up for a few days\\n I didn’t expect that the brother was almost 48 yuan\\n From the previous wave low 43 yuan to 47 yuan today, more than 47 yuan\\n My borrowed money has not been approved yet\\n If you still have no time to add, give me up and go up\\n Everyone has grabbed the high yield and the elder brother',\n",
              "  'post2_en': \"In the past 20 years, the company's market value has flocked 300 times\\n Not only the 85th place in Taiwan's top 100 companies\\n It is also the only founder on the list\\n Hound King Revenue King Market Veority King\"},\n",
              " {'index': 498,\n",
              "  'post1': '今天開工開紅盤第一天\\n 發哥如預期得收紅了\\n 約10點多買單快漲急拉\\n 準備反映今年高殖利率行情了\\n 及未來10年來公司的展望\\n 大家發哥都還抱緊著嗎?',\n",
              "  'post2': '發哥1月營收大好外\\n 緊接而來就是準備公布今年配息囉\\n 目前粗估約配4.5塊-5塊\\n 以目前股價來看約9%以上\\n 今天股價立馬就上去了',\n",
              "  'post1_en': \"The first day of starting the red market today\\n If you are expected to collect red as expected\\n Buy more than 10 o'clock to get rising quickly\\n Ready to reflect the high yield this year\\n And the company's outlook in the next 10 years\\n Do you still hold your brother?\",\n",
              "  'post2_en': \"Fa Brother's January Revenue is great\\n The following is to prepare for the announcement of this year's dividend 啰\\n At present, it is estimated to be about 4.5-5 yuan\\n In terms of the current stock price, more than 9%\\n Today the stock price went up immediately\"},\n",
              " {'index': 500,\n",
              "  'post1': '發哥今天突然急拉尾盤\\n 提早開始228連假房市熱銷檔期\\n 連假回來後就等公司公布去年EPS\\n 還有發布今年配多少了\\n 今天發哥盤中都在平盤下\\n 最低還殺到47.35塊\\n 應該蠻多短線投機的人被洗出去\\n 盤中我們存股加碼隊加碼了不少\\n 最後尾盤714張 散戶吃的?',\n",
              "  'post2': '發哥，我努力存到41張囉',\n",
              "  'post1_en': 'Fa brother suddenly pulled the end suddenly\\n Early start 228 The hot sales period of the fake housing market\\n After the holiday came back, the company waited for the company to announce the EPS last year\\n And how much is it released this year\\n Today, my brother is on the flat plate\\n The minimum is also killed to 47.35 yuan\\n There should be a lot of short -term speculative people being washed out\\n In the market, we deposited the stock and added a lot\\n In the end 714 retail investors to eat?',\n",
              "  'post2_en': 'Brother, I tried to save 41 sheets'},\n",
              " {'index': 502,\n",
              "  'post1': '發哥正式啟動一條龍獲利程式\\n 蓋房+買賣房+客戶的吃喝住生活\\n 一手全部吃下的野心企圖心\\n 持續看好發哥未來10年的大爆發',\n",
              "  'post2': '發哥集團聯合跨業統籌行銷了\\n 很棒的關鍵第一步\\n 間接打開發哥麵包店(貝可麗)\\n 看來今年發哥營運多元衝刺\\n 發哥 甦醒過來的開發地產巨人\\n 發哥未來將是營建的台積電',\n",
              "  'post1_en': 'Fa Brother officially launched a one -stop profit program\\n Building a house+buying and selling house+customer eating, drinking and living life\\n Ambitional attempt to eat all in one hand\\n Continue to be optimistic about the big explosion of the elder brother in the next 10 years',\n",
              "  'post2_en': \"Fa Ge Group and cross -industry coordinating marketing\\n A great key first step\\n Indirect development of brother bakery (Becari)\\n It seems that this year's brother operates a diverse sprint\\n Developed real estate giants who woke up from my brother\\n The future brother will be the construction of TSMC\"},\n",
              " {'index': 504,\n",
              "  'post1': '我的發哥(幸福發)\\n 我存股發哥也4年了\\n 今年要第3年領股利囉\\n 4年下來存發哥的路精彩無比\\n 因為一路上外行人的閒言酸語\\n 使的我存發哥越存越起勁\\n 因為越多人不看好居然越漲\\n 真的是很神奇的地方\\n 但也讓我撿便宜的時間機會大幅減少\\n 這是唯一美中不足的地方\\n 因為大部分發哥都拿去質借了\\n 所以無法看到最新的明細\\n 有的是我保留下來之前珍貴照片\\n 到目前努力存到41張又168股發哥\\n 還再朝自己的目標100發哥邁進\\n 我們存股加碼大隊裡很多隊友\\n 發哥張數比我多很多非常多\\n 比我多的都還再努力\\n 我有什麼理由放棄\\n 大家一起抱緊發哥了\\n 一起加油 一起存股 一起財富自由',\n",
              "  'post2': '我家發哥（幸福發）\\n 今天我再度加碼168股囉\\n 我從新光證轉到日盛證後\\n 第一筆交易 延續存股發哥\\n 我發哥存到41張又336股\\n 持續往目標100張錢進 加油',\n",
              "  'post1_en': \"My brother (my brother (Happiness)I have been in my depository brother for 4 years\\n The third year is the third year\\n After 4 years, the way to save my brother is wonderful\\n Because the gossip of foreigners along the way\\n Make me, the more my brother, the more I am more and more energetic\\n Because the more people are not optimistic, the more they rise\\n It's really amazing\\n But it also allows me to pick up a cheap time.\\n This is the only thing that is inadequate\\n Because most of the hair brother took the borrowing\\n So I can't see the latest details\\n Some are precious photos before I keep\\n So far, I have worked hard to save 41 and 168 shares brothers\\n I also move towards my own goal 100.\\n Many teammates in our deposit stocks increase the brigade\\n There are many more brothers than meMore harder than me\\n I have any reason to give up\\n Everyone hugged my brother together\\n Come on together to deposit stocks together with freedom of wealth together\",\n",
              "  'post2_en': \"My brother's brother (happy hair)\\n Today I will add 168 shares again\\n After I transferred from Shin Kong Certificate to Ri Sheng Certificate\\n The first transaction continues the deposit depository brother\\n I sent my brother to 41 and 336 shares\\n Continue to go to the target 100 pieces of money to cheer\"},\n",
              " {'index': 506,\n",
              "  'post1': '加碼陸金雞母 裕日車獲利上層樓\\n 陳信榮／台北報導 2019/05/01\\n https://m.ctee.com.tw/dailynews/20190501/a28ab4/977036\\n 裕隆日產汽車（2227）含金量大增，透過處分三家大陸轉投資公司，轉增持大陸金雞母廣州風神股權至42.69％，估計每年可望裕日車增加每股獲利至少1元。裕日車去年EPS達19.63元，市場推估配息金額將從17.6元起跳，配息率、殖利率均居上市同業之冠。\\n 裕日車大陸事業控股公司義華公...\\n \\n \\n 【LUXGEN名人試駕S5 GT/GT225】陳和皇x S5 GT225 發佈日期：2019年5月9日\\n \\n \\n \\n 亞洲賽車冠軍-陳俊杉，對賽車的態度造就他成功之路，台灣之光!!\\n 發佈日期：2019年3月30日\\n 一個持續為賽車付出的男人\\n 他不僅喜歡從小賽車\\n 為了有資金比賽賽車，他創立了一間公司\\n 並跟著員工一起替車隊付出\\n 他的生命滿滿都是賽車 !\\n 因為有這種熱忱以及態度\\n 才能成為亞洲冠軍 ，真的是台灣之光阿 !!',\n",
              "  'post2': '裕隆雙金雞 裕日車、裕融首季獲利飆\\n 2019年5月11日 上午5:50 中時電子報 工商時報【陳信榮╱台北報導】\\n 裕隆集團執行長嚴陳莉蓮去年底接棒後，首張營運成績單出爐，集團雙金雞－裕隆日產汽車、裕融企業首季獲利飆，裕日車單季EPS達5.05元、裕融2.62元，雙雙改寫同期新高。\\n 裕日車10日還拍板去年度盈餘分配案，董事會決議擬配發現金股息17.67元，配息率高達九成；依10日收盤價253元計，殖利率達6.98％。裕日車股息不僅蟬聯上市車商冠軍，配息率、殖利率也稱冠上市同業。\\n 裕隆集團旗下多家上市公司10日召開董事會，公布首季財報。裕隆受到兩岸車市下滑、對岸品牌事業整頓等因素拖累，單季EPS僅0.17元，不若去年同期的0.88元。\\n 不過集團兩大獲利台柱－裕日車、裕融表現不俗，裕日車首季稅後淨利達15.14億元、11.65％，EPS達5.05元，蟬連上市車商每股獲利王。\\n 今年上市車商因國內車市下滑影響，首季獲利普遍衰退，裕日車繳出逆勢成長的成績單，主要受惠於轉投資大陸廣州風神、襄陽風神汽車投資收益貢獻增加，及人民幣匯兌利益助威下，單季業外收益年增近兩成達15.24億元。\\n 裕日車日前通過將中國大陸轉投資事業股權移轉議案，對大陸廣州風神汽車持股提升至42.69％，可望擴大分享大陸業績成長果實，法人推估每年EPS貢獻度至少增加1元，隨股權交割完畢，預計今年7月起反映在裕日車帳上，增加獲利實力。\\n \\n \\n \\n 嚴陳莉蓮主導 裕隆第二波整併啟動\\n 2019-05-10 23:10經濟日報 記者邱馨儀／台北報導\\n \\n 裕隆董事會昨（10）日通過子公司元文投資與翔韋投資合併案，交易對價金額高達115.5億元，裕隆估計，此合併可貢獻公司稅後純益約25億元。這也是裕隆集團由嚴陳莉蓮接任執行長啟動組織整併的第二波動作。\\n 裕隆集團今年1月宣布未來將採四大事業體發展，包括汽車、金融水平、紡織、建設；第一階段已於1月底實施，包括集團行冠公司購買關係企業行將股票，並處分裕富、慶通汽車與行將股票以及台元紡織及台文針織持股以股作價投資新設元文投資公司。\\n 當初元文投資成立的目的就是要作為紡織事業體的控股公司。裕隆將所擁有台元20.85%及台文5.09%股權以其淨值作價115.1億設立100%持有的元文投資（資本額1.15億元）；昨日再宣布元文投資的新一步動作。\\n 裕隆指出，元文投資為裕隆汽車100%持有之子公司，而翔韋投資為台元紡織股份有限公司持有90.6%之子公司。本次合併主要著眼於整合交叉持股，專注汽車本業，降低管理幅度，因此將持有紡織事業體股權之元文投資公司，與同為紡織體系的翔韋投資公司合併。\\n 裕隆表示，此次吸收合併案將以翔韋投資股份有限公司為存續公司，合併基準日擬訂為2019年6月3日。後續取得資金將用於充實營運資金、強化財務結構。同時，此案可提升裕隆的每股淨值1.73元，並且挹注約25億元獲利。\\n 以往裕隆集團旗下事業眾多，而且在交叉持股與認列轉投資收益後，集團關係緊密。但近190家事業過於龐大，嚴陳莉蓮接任執行長後，發現這個狀況有其問題，主要是多家公司持有股權，權責並不明確，為提升集團綜效及各公司管理效率。\\n 裕隆紡織事業體系旗下台元紡織及台文針織股權經過本次調整，除與汽車事業體交叉持股情形進行梳理整合外，並減少管理成本，有助於聚焦專責業務管理。\\n \\n 【嚴陳莉蓮接棒】嚴凱泰說她個性拘謹 「這輩子最尊敬的人，都姓陳」\\n 文 曹以斌 攝影 王均峰 2018.12.04 21:58 鏡週刊\\n https://www.mirrormedia.mg/story/20181204fin011/\\n \\n \\n 發佈日期：2019年5月11日',\n",
              "  'post1_en': \"Unexical Lujin Chicken Bed Yiyi Rita Profit in the upper floor\\n Chen Xinrong/Taipei Report 2019/05/01\\n https://m.ctee.com.tw/dailynews/20190501/a28ab4/977036\\n Yulong Nissan Automobile (2227) has a large increase in gold content. By disposing of three mainland contributions to investment companies, it is transferred to the mainland's golden chicken -hearted Guangzhou Fengshen equity to 42.69 %. It is estimated that Yuri car will increase at least 1 yuan per share each year. Yuri Cars reached 19.63 yuan last year. The market estimated interest distribution amount will start from 17.6 yuan. The dividend rate and yield rate will rank among the crown of listed industry.\\n Yiji Car Mainland Business Holding Company Yihua Gong ...[Luxgen celebrities test drive S5 GT/GT225] Chen and Emperor X S5 GT225 Release Date: May 9, 2019\\n \\n \\n \\n Asian racing champion-Chen Junshan, the attitude towards the car created the road of success, the light of Taiwan !!\\n Release date: March 30, 2019\\n A man who continues to pay for the car\\n He not only likes to racing from a young age\\n In order to have a fund race, he founded a company\\n And follow the employees for the team\\n His life is full of racing!\\n Because of this enthusiasm and attitude\\n In order to become the Asian champion, it is really the light of Taiwan !!\",\n",
              "  'post2_en': 'Yulong double golden chicken Yuri car and Yurong\\'s first quarter profit soaring\\n At 5:50 am on May 11, 2019, the Electronics Newspaper Industrial and Commercial Times [Chen Xinrong / Taipei Report]\\n After the Chief Executive of Yulong Group, Yan Chen Lilian took over at the end of last year, the first operating performance list was released. , Double rewritten rewritten new highs.\\n On the 10th, Yuri Motor also made a surplus distribution case last year.98 %. Yuri Car\\'s dividends not only won the champion of the car dealer, but also the dividend rate and yield rate of the championship.\\n A number of listed companies under Yulong Group held the board of directors on the 10th to announce the first quarter financial report. Yulong was dragged down by factors such as the decline in the cross -strait auto market and the rectification of the bank brand. The EPS in a single quarter was only 0.17 yuan, which was 0.88 yuan in the same period last year.\\n However, the group\\'s two profitable pillars, Yuri Car, and Yurong performed well. The net profit after tax in the first quarter of Yuri Car reached 1.514 billion yuan, 11.65 %, and EPS reached 5.05 yuan, Cicada listed car dealers made a profit king per share.\\n Due to the decline in the domestic auto market this year, the listed car dealers generally declined in profit in the first quarter. Yuri Motors paid a transcript of rebellious growth. With the interest of interest, the annual out -of -industry out -of -industry income increased by nearly 1.524 billion yuan.\\n Yuri Cars recently increased the shareholding of mainland China to invest in equity, and increased its shareholding in Guangzhou Fengshen Automobile to 42.69 %, it is expected to expand the fruit of the mainland performance growth. The legal person estimates that EPS\\'s contribution will increase at least 1 yuan each year, and it will be delivered with the equity. It is expected to be reflected in the Yuri car account in July this year, increasing profitability.\\n \\n \\n \\n Yan Chen Lilian dominated Yulong\\'s second wave and started and started\\n 2019-05-10 23:10 Economic Daily reporter Qiu Xinyi / Taipei Report\\n \\n Yulong\\'s board of directors passed the subsidiary Yuanwen Investment and Xiangwei Investment Case yesterday (10).500 million yuan, Yulong estimates that this merger can contribute to the company\\'s net profit after tax of about 2.5 billion yuan. This is also the second wave of action that Yulong Group Yan Chen Lilian took over as CEO.\\n Yulong Group announced in January this year that the development of four major industries will be adopted in the future, including automobiles, financial levels, textiles, and construction. , Qingtong Automobile and Xingjun stocks, Taiwan Yuan Textiles and Taowen Knitting Stocks invested in the new Yuanwen Investment Corporation at the price.\\n The purpose of the establishment of Yuanwen Investment was to be the holding company of the textile industry.Yulong will set up 100%of Yuanwen Investment (Capital 115 million yuan) at the price of 20.85%of the Taiwan dollar and 5.09%of the Taiwan pawn at 11.51 billion yuan.\\n Yulong pointed out that Yuanwen Investment is a son of 100%holding of Yulong Automobile, and Xiangwei Investment holds 90 for Taiwan Yuan Textile Co., Ltd..Son of 6%. This merger is mainly focused on integrated cross -holding, focusing on the car industry, and reducing the management range. Therefore, the Yuanwen Investment Company, which holds the equity of the textile business, merged with the Xiangwei Investment Company, which is also a textile system.\\n Yulong said that the absorption merger will take Xiangwei Investment Co., Ltd. as a duration company, and the basis for the consolidation benchmark will be determined as June 3, 2019. Subsequent funds will be used to enrich the operating funds and strengthen the financial structure. At the same time, this case can increase Yulong\\'s net value per share 1.73 yuan, and injected about 2.5 billion yuan in profit.\\n In the past, the Yulon Group had a large business, and the group had a close relationship after cross -shareholding and recognition of investment income. However, nearly 190 careers were too huge. After taking over the CEO of Yan Chen Lilian, Yan Chen Lilian found that there was a problem in this situation. It was mainly that many companies held equity, and their powers and responsibilities were not clear.\\n After this adjustment, the Yulong Textile Business System under the adjustment of Taiwan Textile and Taowen Knitting knitting stakes, in addition to combing integration with cross -holding shares of automobile business, and reducing management costs, it will help focus on specialized business management.[Yan Chen Lilian picks up] Yan Kaitai said that her personality is restrained, \"The most respectable person in this life, all surnamed Chen\"\\n Wen Cao Yibin Photography Wang Junfeng 2018.12.04 21:58 Mirror Weekly\\n https://www.mirrormedia.mg/story/20181204fin011/\\n \\n \\n Release date: May 11, 2019'},\n",
              " {'index': 508,\n",
              "  'post1': '我還沒買完就開漲了。',\n",
              "  'post2': '神秘金字塔-股權分散表-裕隆\\n http://norway.twsthr.info/StockHolders.aspx?stock=%E8%A3%95%E9%9A%86\\n \\n 試了Focus跟Elentra，怎麼可以錯過Luxgen S5 GT225\\n \\n \\n \\n 1080524 裕隆城空拍\\n \\n \\n \\n 這個世界跟夢中的世界一樣都是個虛幻的世界。虛幻是虛幻，卻還是由因果業力法則所主宰。文字由眼傳達到腦，聲音可以直接點到心。文字，透過頭腦，會造出悖論。透過聲音，可以直接指向心。文字本身是靠理性的邏輯去理解，自然帶來限制。聲音與我們的生命場比較接近，容易達到共振。心與心的共振，多聽聽音樂與聲音會有幫助。',\n",
              "  'post1_en': 'I opened up before I bought it.',\n",
              "  'post2_en': 'Mysterious Pyramid-Equity Disclosure-Yulong\\n http://norway.twsthr.info/stockholders.aspx?stock=%E8%95%E9%9A%86\\n \\n Try Focus and E Sencera, how can I miss Luxgen S5 GT225\\n \\n \\n \\n 1080524 Yulong City Sky Shooting\\n \\n \\n \\n This world is an illusory world like the world in dreams. Unreal is illusory, but it is still dominated by the law of causality. The text reaches the brain from the eye, and the sound can be directly at the heart. Text, through the mind, will create a paradox. Through the sound, you can directly point the heart. The text itself is understood by the logic of rationality, and naturally it brings restrictions. The sound is closer to our life field, and it is easy to achieve resonance. The resonance of heart and heart, listening to music and sound will help.'},\n",
              " {'index': 510,\n",
              "  'post1': '商場影城進駐 裕隆城房價成指標\\n 2019年6月1日 上午5:50 中國時報【王莫昀╱台北報導】\\n 隨著IKEA、京站先後進駐央北重劃區、環狀捷運線開通，重大建設陸續到位，永慶房屋新店市公所店長林逸千指出，商城的進駐串聯陽光運動公園，形成一日休閒消費生活圈，有助支撐區域房價，不過，可望刷新新店房價紀錄的應在裕隆城，主因該案除有誠品，還將有威秀影城進駐，可望推升裕隆城房價，成為新店新指標。\\n \\n 林逸千說，今年新店房市市況較前2年佳，尤其3千萬以上高總價產品，不知是否受到陸美貿易戰影響，資金回流，過去可能歷經2、3年都賣不掉，現在只要屋主願意降點價，條件夠好，多可很快成交，像是五峰重劃區、中央路附近都賣得不錯。\\n \\n 林逸千指出，一般中古屋市況也優於前2年表現，房價約上漲5％至10％，亦即總價3千萬元以下物件，步行至捷運站10分鐘以內距離、價格實在（實登錄上下）很快就會賣出，若是條件好，還可以較高價格售出。就接觸客戶來說，不少已前進央北購屋，但因央北個案多尚處預售階段，打算完工後，再賣掉現有住宅遷入。\\n \\n 近來外界關切社會住宅釋出，會否影響區域房市交易，林逸千指出，影響不大，如美河市即完全不影響，之前房市暢旺時，曾漲至每坪60餘萬，市況下來後，房價下跌，現在價格又往上爬，主要成交價來到47至55萬元。\\n \\n 住商不動產企研室經理徐佳馨表示，新店中古屋市場包含兩層次，首先一些民眾因山下房子較舊，決定換到山上去，如有市區住戶換安坑較便宜的房子；部分想住台北市門牌，就會換至文山，也有居民選擇至中和購屋。\\n \\n 不過，業者指出，因新店居民水平最貼近台北市，老公寓都更難度貼近北市，但北市價格較高，建商談都更時寧願棄新店，選台北市，影響區域內都更案件數。\\n \\n \\n 台商資金回流 \"資產股\"後勢看漲\\n 2019/06/02 13:44 羅立芸 劉俊男 黃建熒 報導 華視新聞\\n 美中貿易戰衝擊台灣股市，但其中有一種股票類型受到貿易戰衝擊影響相對比較小，那就是「資產股」，也就是有大量房地產的公司發行的股票。因為台商資金回流，需要投資土地跟商辦，有新土地開發案的資產股後勢看漲。不過分析師也提醒，投資人還是要做好功課，如果資產股的價格已經在高點，建議還是要仔細評估避免貿然進場。\\n \\n 一大片土地，乍看之下荒廢又蕭條，鏡頭轉到另一個地方，老舊廠房牆面生鏽斑駁，可別以貌取地，其實背後的地主，都是潛力十足的資產股公司。知名的資產股公司像是裕隆汽車，位於新店的土地開發案，開發價值就高達800億元，其他像是老牌塑膠加工廠大洋、運動品牌供應商宏和，也都在新北市進行開發。\\n \\n 而台北市，則有堪稱南港地王的台肥，這片3.1萬坪土地準備要開發，還有預拌混凝土龍頭國產的台北南港廠，2020年就要開發為辦公室和商場，市場認為這兩間公司，因為有大片土地進入開發階段，目前的股票市值都被低估，能夠被定義為資產股的股票。\\n \\n 最重要的就是，土地要有開發利益，隨著台商資金回流，土地商辦投資需求增加，不少有新土地開發案的資產股反而翻紅上漲，但分析師也提醒，看到資產股可別搶著買下去，要先冷靜看看價格，避免貿然進場沒撿到便宜。\\n \\n \\n 中華電視公司 2019年06月02日\\n \\n \\n ５７東森財經新聞台2018年3月19日',\n",
              "  'post2': '臺灣的品牌很難做的起來，裕隆或許應該學臺灣其他品牌的汽車代理商就好了爽爽的賺，推自有品牌虧死了虧好幾百億了，對的起臺灣但對不起所有的股東，老闆都搞到英年早逝了，老闆娘比較聰明，現在策略轉型是對的，做代工穩穩的賺，配合新店裕隆城開發大賺一筆，不然遲早會被搞死的，臺灣人與大陸人都不太支持臺灣的品牌。一般人看不出來以為是利空，這個消息其實是利多，如果裕隆第二季不針對3個轉投資公司(東風裕隆，臺灣納智捷，華創車電)共提列了約44億的帳上資產減損(帳上資產減損不會影響現金流，但使得第二季eps減了約3元)，最終第二季變成淨損-0.77，不然其實裕隆第二季eps是賺2.x元的。從今日股價走勢就看的出來了，最終開低走高，只跌了0.05元。\\n \\n \\n \\n \\n LUXGEN感動服務J.D. Power 發佈日期：2019年8月12日\\n \\n \\n U7 車主故事 發佈日期：2019年8月12日\\n \\n \\n 新店裕隆城 1080812 工地空拍\\n \\n \\n 亞洲唱片‧【桃花。一朵】詩集原聲帶- NO.1【 花開。兩生 】',\n",
              "  'post1_en': 'Shopping Mall Studios to enter Yulong City House Price Indications\\n 5:50 am on June 1, 2019 [Wang Mo Yan / Taipei Report]\\n As IKEA and Beijing Station have successively settled in the Central Beibei rezoning area and the ring -shaped MRT line, the major construction is in place. The consumer life circle will help support the regional housing prices. However, it is expected that the record of the house price of the new store should be in Yulong City. It is mainly due to the in addition to the Eslite of the case, and there will also be Weixiu Studios. New store and new indicators.Lin Yiqian said that this year\\'s housing market conditions in the new store are better than the previous two years, especially for more than 30 million high -priced products. I wonder if it is affected by the Lu Mei trade war. As long as the homeowner is willing to reduce the price, the conditions are good enough, and they can be sold soon, such as the five peak rezoning areas and near the Central Road.\\n \\n Lin Yiqian pointed out that the market conditions in the middle and ancient houses are also better than the performance of the previous two years. House prices rose by about 5 % to 10 %, that is, the total price of less than 30 million yuan. Real -up) will soon be sold. If the conditions are good, it can also be sold at a higher price.As far as customers have been exposed to customers, many of them have moved forward to the Central Beibei House, but because of the pre -sale stage of the Yangbei case, they intend to complete the existing houses and move in.\\n \\n Recently, the release of social housing recently will affect the regional housing market transactions. Lin Yiqian pointed out that the impact is not great. For example, Meihe City does not affect it at all. , House prices have fallen, and now the price climb up again, the main transaction price has reached 47 to 550,000 yuan.Xu Jiaxin, manager of the Research Office of the Real Estate Real Estate, said that the market in the new store in the new store includes two levels. First of all, some people have decided to change to the mountain because of the old houses. The house number will be changed to Wenshan, and some residents choose to buy a house in Zhonghe.\\n \\n However, the industry pointed out that because the level of new store residents is closest to Taipei City, the apartments are more difficult to be close to North City, but the price of Beishi is higher. Jianchang talks will always be willing to abandon the new store, choose Taipei City, and affect the number of cases in the area.Taiwan businessmen\\'s capital return \"asset stocks\" after viewing bullish\\n 2019/06/02 13:44 Luo Liyun Liu Junnan Huang Jianying reported China Television News\\n The US -China trade war impacts the Taiwan stock market, but one of the types of stocks is relatively small due to the impact of the trade war, that is, \"asset stocks\", that is, a large number of real estate companies issued shares. Because Taiwanese businessmen return the flow of funds, they need to invest in land and commercial office. Asset stocks with new land development cases have bullish. However, analysts also reminded that investors still have to do their homework. If the price of asset stocks is already high, it is recommended to carefully evaluate to avoid rashing.A large area of \\u200b\\u200bland, at first glance, was deserted and depressed. The camera turned to another place. The walls of the old factories were rusty and mottled. Do n’t take the land. In fact, the landlords behind them are all asset stock companies with full potential. The well -known asset stock company is like Yulong Motor. The land development case in the new store is as high as 80 billion yuan. Others like the ocean and sports brand suppliers in the old -fashioned plastic processing plant, and they are also developed in New Taipei City.\\n \\n In Taipei City, there is a Taiwanese fertilizer of the King of Nangang. This film 3. 3.10,000 ping land preparations to be developed, and the Taipei Nangang Plant, which is pre -mixed with a pre -mixed concrete leader, will be developed as office and shopping malls in 2020. The market believes that these two companies have entered the development stage of the two companies. Undergraduate, stocks that can be defined as asset stocks.\\n \\n The most important thing is that the land must have development benefits. With the return of Taiwanese business funds, the demand for land commercial and business investment has increased, and many asset stocks of new land development cases have become popular, but analysts also reminded that asset stocks have seen asset stocks. Don\\'t rush to buy it, let\\'s take a look at the price first, and avoid the rushing into the market without picking up cheap.China TV Company June 02, 2019\\n \\n \\n 57 Dongsen Finance News March 19, 2018',\n",
              "  'post2_en': \"It is difficult for Taiwan's brands to do it. Yulong may learn to learn from other brands of Taiwan. Shareholders and bosses have died early in Yingnian. The boss is smarter. Now the strategy transformation is right. The foundry is steadily earned. With the development of Yulong City in the new store, it will be killed sooner or later. Taiwanese will be killed sooner or later. Taiwanese will be killed. Taiwanese will be killed. Taiwanese will be killed. Taiwanese Nothing with mainlanders support Taiwan's brands.Most people can't see that it is sharp, this news is actually Liduo. If Yulong does not target 3 rear -investment companies (Dongfeng Yulong, Taiwan Nazhijie, Huacian Electric) in the second season, a total of about 4.4 billion Asset loss (asset loss on the account will not affect the cash flow, but the EPS of EPS in the second season is about 3 yuan), and the final season will become net loss -0.77, otherwise the second season of Yulong EPS will earn 2.X yuan. Essence It can be seen from today's stock price trend, and eventually opened low, only 0.05 yuan.\\n \\n \\n \\n \\n Luxgen move service J.D.Power release date: August 12, 2019\\n \\n \\n U7 car owner story release date: August 12, 2019\\n \\n \\n New Store Yulong City 1080812 construction site empty shot\\n \\n \\n Asian Records ‧ [Peach Blossom. One] The original soundtrack of the poem set-No.1 [Flower. Two lives]\"},\n",
              " {'index': 512,\n",
              "  'post1': '生意來了，好的開始是成功的一半。\\n 都是堅持做對的事，老闆娘與老闆不一樣了。\\n \\n 神秘金字塔-股權分散表-裕隆\\n http://norway.twsthr.info/StockHolders.aspx?stock=%E8%A3%95%E9%9A%86\\n \\n 股狗網-籌碼分析-裕隆\\n https://www.stockdog.com.tw/stockdog/index.php?m=overview&sid=2201\\n \\n 淳紳與裕隆簽訂合作意向書 委請整車、電池包組裝代工\\n 鉅亨網記者劉韋廷 台北 2019年8月26號21點48分\\n 電動車廠淳紳 (4529-TW) 今 (26) 日宣布，將與裕隆汽車 (2201-TW) 簽訂合作意向書，簽訂有效期限為 3 月，擬委託裕隆進行整車及電池包組裝代工。淳紳表示，因裕隆擁有車輛製造專業技術及能力，擬委託裕隆進行整車 SKD(semi knock down)與淳紳自主開發的電池包組裝代工，將先請裕隆進行專案執行評估及試作事宜，並經雙方協商後達成初步共識，將就相關事項簽訂意向書。淳紳表示，合作意向書有效期間為 3 個月，若本專案需較長之評估過程，雙方得合意延長本意向書之期間，而意向書僅敘述雙方合作意願與共識，對於公司財務與業務並未產生影響。\\n \\n \\n 新店裕隆城 1080826工地空拍',\n",
              "  'post2': '裕隆組織大改造！納智捷董座陳國榮辭職 由裕隆總座姚振祥兼任\\n ETtoday新聞雲 記者周康玉／台北報導 2019年09月12日 17:07\\n \\n 裕隆（2201）集團旗下自有品牌納智捷（LUXGEN）銷售表現始終未見起色，裕隆今（12）日證實，納智捷董事長、同時身兼華創車電董座的陳國榮已主動辭職，為品牌表現不佳負責。裕隆表示，已慰留陳國榮華創車電董座職務，未來納智捷董座由裕隆汽車總經理姚振祥兼任；裕隆強調，同意陳國榮辭董座是基於策略轉型考量，陳國榮仍為集團重要的決策委員。\\n \\n 裕隆表示，為了落實集團汽車價值鏈轉型策略及華創車電廠辦合一，集團組織及人事進行以下調整：\\n 一. 設立「自有品牌暨開放平台整合專案室」，負責納智捷品牌及開放平台價值鏈研發、採購、製造、銷售之協調與整合。該專案室總監乙職由裕隆汽車總經理姚振祥兼任，副總監由華創車電左自生副總經理擔任。\\n 二. 另為強化溝通及運作效率，「自有品牌暨開放平台整合專案室」直接向集團決策委員會報告。另，納智捷汽車董事長一職改由裕隆汽車總經理姚振祥兼任。\\n 三. 華創車電總經理李俊忠辭任，改由副總經理黃振宏暫代華創車電總經理職務。\\n 四. 華創車電董事長陳國榮請辭，已予慰留。\\n 五. 集團總管理處與決策委員會即日起不再設置副執行長。\\n \\n 裕隆集團同時發出三大聲明：\\n 一. 為落實裕隆汽車價值鏈轉型及華創車電廠辦合一策略，裕隆集團新成立「自有品牌暨開放平台整合專案室」，統籌研發、採購、製造、銷售等價值鏈的協調整合，以落實開放平台、多元客戶之轉型策略。\\n 二. 為強化縱向溝通及管理決策效率，「自有品牌暨開放平台整合專案室」直接向集團決策委員會報告，未來廠辦合一在三義，該新設專案室總監將由裕隆汽車姚振祥總經理兼任，副總監由華創車電副總經理左自生擔任。而為進一步強化溝通效率，姚振祥將兼任台灣納智捷董事長，原董事長陳國榮卸任，同時華創車電總經理李俊忠請辭，改由副總經理黃振宏暫代。\\n 三. 轉型策略需要更好的橫向及縱向溝通效率，考量組織扁平化能提昇溝通效率，故不再設置副執行長職位。\\n \\n \\n 【獨家】震撼！裕隆集團副執行長陳國榮 請辭華創及納智捷董座\\n 蘋果日報 出版時間：2019/09/12 18:09\\n https://tw.appledaily.com/new/realtime/20190912/1632413/\\n 裕隆（2201）集團自有品牌納智捷（LUXGEN）表現不如預期，具品牌研發大腦地位的華創車電將進行辦公室大規模遷移，同時推出優離優退方案，根據《蘋果新聞網》掌握資訊，華創董事長陳國榮及總經理李俊忠為表負責，也於日前提出辭呈。\\n \\n 陳國榮身為集團5人決策委員會成員，據了解，除請辭華創董事長，亦同步辭去納智捷董事長職務。\\n \\n 而在消息傳出後不久，裕隆於今日下班前也發出組織及人事調整共5點公告，公告內容除宣布納智捷董事長一職將由原來的陳國榮，改為裕隆現任總經理姚振祥兼任；也同步公告李俊忠辭任後，將改由副總黃振宏暫代原職務，至於陳國榮雖也請辭華創董座職務，不過集團予以慰留。\\n \\n 值得注意的是，伴隨集團目前積極進行「集團汽車價值鏈轉型策略」，裕隆這波組織及人事調整公告中也宣布，集團總管理處與決策委員會自即日起不再設置副執行長。\\n \\n 也就是說在這波組織調整當中，陳國榮除辭去納智捷董事長職務，同時也將卸下集團副執行長的位置。\\n \\n 據相關人士透露，會有這樣的決定，主要是執行長嚴陳莉蓮上任後，有鑑於集團牽涉事業體龐大，為落實專業分工，嚴陳希望可更強化專業經理人集團共治分工的組織管理模式，不希望將單一決策的重擔都壓在一個人的身上。\\n \\n 相關人士表示，因此除她仍持續以執行長身份為集團決策委員會5人小組成員之外，事實上，未來她更傾向於「共議制」，避免集團成為「一言堂」。\\n \\n 除相關人事調整，裕隆今也公告設立「自有品牌暨開放平台整合專案室」，主要將負責納智捷品牌及開放平台價值鏈研發、採購、製造、銷售之協調與整合。\\n \\n 根據公告，該專案室總監由姚振祥兼任，副總監則由華創車電副總經理左自生擔任。為強化溝通及運作效率，公告指出，「自有品牌暨開放平台整合專案室」將直接向集團決策委員會報告。\\n \\n 若再加上姚振祥也將接掌納智捷董座職務，隨著姚振祥身兼「自有品牌暨開放平台整合專案室」總監、納智捷董事長，以及裕隆總經理的三個重要職務，亦顯示未來裕隆集團自有品牌後續發展之路上，姚振祥將扮演相當吃重的角色。\\n \\n 對於今日集團的公告，裕隆稍後也說明，成立「自有品牌暨開放平台整合專案室」，主要有助於落實開放平台、多元客戶之轉型策略。而為了強化縱向溝通及管理決策效率，專案室直接向集團決策委員會報告，未來廠辦合一將一樣設在三義。\\n \\n 至於集團不再設副執行長職務，裕隆表示，轉型策略需要更好的橫向及縱向溝通效率，考量組織扁平化能提昇溝通效率，故不再設置副執行長職位。\\n \\n 事實上，上周《蘋果新聞網》曾獨家揭露身為納智捷研發大腦的華創車電，在新店發出一紙公告，宣布公司規劃「廠辦合一」，擬將原工作地點在新店與大園的同仁，全數遷往苗栗三義廠，且作為配套，華創也另發出「優惠退休（職）辦法」（優離優退），申請時間自9月9日開始至9月20日下午5時截止，並於總經理核准日之次日開始生效，最晚不超過10月1日。\\n \\n 也就是說，員工在看到通知後，這個月20日以前就得決定是否接受轉往三義廠工作，否則也可選擇優離或優退，一旦決定離開公司，則最晚9月底就必須離職。\\n \\n 由於納智捷所有車款製造研發主要都是來自於華創，華創可說是納智捷的主要骨幹，過去裕隆長期投注龐大資金，支持華創包括在引擎、底盤及車電等技術研發，不過，隨著納智捷在兩岸銷售未如預期，也使得集團對於華創乃至裕隆製造廠有了新的想法與策略。\\n \\n 華創公告將大規模遷移，同時亦釋出優離優退辦法，公司也將針對高階主管、按照不同職務進行減薪，相較於過去裕隆投入龐大資金在華創，這些動作也都被市場解讀為集團執行長嚴陳莉蓮上任後，決定開始對納智捷出手整頓。\\n \\n 若再看今天裕隆的組織及人事調整，市場直言「這不只是出手，而是下重手整頓了！」從認列虧損、華創搬遷，再加上高階主管人事地震，對於這一系列的變化，法人認為，短期內對裕隆來說陣痛難免，但是長期看法仍傾向於正面。\\n \\n 不過，在華創公告辦公室搬遷並同步推出優離優退配套後，由於員工必須在這個月20日之前就作出決定，目前也有內部員工認為決定的時間太短，呼籲公司可延長決定的時間。（陳慜蔚／台北報導）\\n \\n 預賞會前先偷跑，納智捷 URX 內裝照第一手搶先看！\\n 2019/09/12 11:32 自由時報 文／記者陳英傑\\n https://auto.ltn.com.tw/news/13547/2\\n 納智捷以突襲的方式，選在 9 月 16 日星期一舉辦全新物種車款 URX 的媒體預賞會，不過在這之前，URX 的內裝照片已先在網路上曝光！\\n \\n 來自網友提供的 URX 內裝照，可以發現 URX 的前座內裝已經完全與先前的納智捷截然不同，取消駕駛座儀表板，中控則有直立式 12 吋觸碰螢幕，前座冷氣出風口則是從駕駛門板一路延伸到副駕駛門板，提供更好的冷氣出風效率。\\n \\n 全新的內裝設計，URX 正式取消傳統儀表板。\\n \\n 許多功能都整合到 12 吋直立式螢幕裡，不過空調功能部分都還是採實體鋼琴式按鍵。另外也可看到 Keyless，皮革面積也因為取消傳統儀表板後，加大許多。\\n \\n 方向盤也全新設計，讓人耳目一新，採 D 型賽車方向盤設計，方向盤兩邊都有完整的快撥鍵。不過在這張照片上，似乎沒看到換檔撥片。\\n \\n URX 預計下週一舉辦台灣媒體預賞會。\\n \\n URX 採 5+2 七人座設定，預計會採用 1.8 升渦輪引擎，軸距 2,720mm，並且將是納智捷首款搭載 ACC 智慧定速的車款，更詳細的 URX 資訊，都有望在下週一的預賞會一次公布。\\n \\n 新店裕隆城1080911工地空拍',\n",
              "  'post1_en': \"The business is coming, and the good start is half the success of success.\\n They all insist on doing the right thing. The boss is different from the boss.\\n \\n Mysterious Pyramid-Equity Disclosure-Yulong\\n http://norway.twsthr.info/stockholders.aspx?stock=%E8%95%E9%9A%86\\n \\n Stock Dog Network-Blog analysis-Yulong\\n https://www.stockdog.com.tw/stockdog/index.php?M = OverView & SID = 2201\\n \\n Chun Shen and Yulong signed a letter of intent for cooperation to invite the vehicle and battery packaging to assemble foundry\\n Reporter Liu Weiting, Taipei, August 26, 2019, 21:48, 2019\\n Electric Vehicle Factory Chunshen (4529-TW) announced today (26) that it will sign a letter of intent to cooperate with Yulong Automobile (2201-TW) to sign the validity period in March, and it is intended to entrust Yulong to carry out the foundry for OEM. Chun Shen said that due to Yulong's professional and technical and capabilities in vehicle manufacturing, it is intended to entrust Yulong to carry out the battery packaging foundry developed by Jun Shen and Chun Shen. After negotiation between the two parties reached a preliminary consensus, the letter of intent will be signed on the relevant matters.Chun Shen said that the cooperation intent will be valid for 3 months. If the project needs a longer evaluation process, the two parties may be deliberately extended the period of this intent. influences.\\n \\n \\n New Store Yulong City 1080826 construction site empty shot\",\n",
              "  'post2_en': 'Yulong Organization\\'s great transformation! Chen Guorong, who is the Dong seat of Nazhijie, resigned by Yulongchang Yao Zhenxiang as concurrently\\n ETTODAY News Cloud Reporter Zhou Kangyu / Taipei Report September 12, 2019 17:07\\n \\n Yulong (2201) Group\\'s own brand Luxgen\\'s sales performance has never been improved. Yulong today (12) confirmed that Chen Guorong, chairman of Nazhijie, and Chen Guorong, who is also in Huachen Vehicle and Electricity, has taken the initiative to resign. , Responsible for the brand\\'s poor performance.Yulong said that Chen Guorong Hua Chuang Vehicle Director\\'s position has been comforted. In the future, Nazhijie Dongzheng will be concurrently held by Yao Zhenxiang, general manager of Yulong Automobile; Yulong emphasizes that Chen Guorong resignation is based on strategic transformation considerations. Member.\\n \\n Yulong said that in order to implement the group\\'s automotive value chain transformation strategy and the Huachuang Motor Power Plant Office, the group organization and personnel have adjusted the following adjustments:\\n one.Establish a \"self -owned brand and open platform integration project room\", which is responsible for the coordination and integration of the value chain R & D, procurement, manufacturing, and sales of the Nazhijie brand and open platform value chain. The director of the project office is also the general manager of Yulong Automobile Yao Zhenxiang, and the deputy director is the deputy general manager of Huaccho Electric Zuo Zisheng.\\n 2. In order to strengthen communication and operational efficiency, the \"own brand and open platform integration project room\" directly report to the group decision -making committee. In addition, the chairman of the Nazhijie Automobile is also the general manager of Yulong Motor Yao Zhenxiang.\\n 3. Li Junzhong, general manager of Huachuang Motor Electric, resigned, and changed the position of deputy general manager Huang Zhenhong temporarily on behalf of Huachuang\\'s general manager.\\n Four.Chen Guorong, chairman of Huachen Vehicle and Electricity, resigned and had been comforted.\\n 5. The Group\\'s General Management Office and the decision -making committee will no longer set up deputy executives.\\n \\n Yulong Group issued three major statements at the same time:\\n I. In order to implement the transformation of Yulong Motor Value Chain and the strategy of the Huachuang Motor Power Plant, Yulong Group newly established the \"self -owned brand and open platform integration project room\" to coordinate and integrate the research and development, procurement, manufacturing, and sales of value chains. In order to implement the transformation strategy of open platforms and multiple customers.\\n two.In order to strengthen the efficiency of vertical communication and management decision -making, the \"own brand and open platform integration project room\" directly report to the group decision -making committee. Zuo Zisheng, deputy general manager of Huading Motor Electricity. In order to further strengthen the efficiency of communication, Yao Zhenxiang will also serve as chairman of Taiwan\\'s Nazhijie. The former chairman Chen Guorong stepped down. At the same time, Li Junzhong, general manager of Huachen Motor Electric, resigned, and was temporarily replaced by deputy general manager Huang Zhenhong.\\n three.The transformation strategy requires better horizontal and vertical communication efficiency. Considering the flatness of the organization can improve communication efficiency, so no deputy executive positions are not set up.\\n \\n \\n [Exclusive] Shock! Chen Guorong, deputy chief executive of Yulong Group, resigned from Hua Chuang and Nazhijie.\\n Apple Daily Publishing Time: 2019/09/12 18:09\\n https: //tw.appleDaily.com/new/realTime/20190912/1632413/\\n Yulong (2201) Group\\'s own brand Luxgen is not as good as expected. Huachuang Vehicle and Electric, which has brain status, will be relocated to the office. At the same time In terms of information, Chen Guorong, chairman of Huading, and Li Junzhong, general manager, were responsible for the table, and also resigned a few days ago.\\n \\n Chen Guorong, as a member of the group\\'s five -person decision -making committee, is understood that in addition to the chairman of Huahua Chuang, he also resigned as Chairman of Nazhijie.Shortly after the news came out, Yulong also issued a total of 5 o\\'clock announcements of organization and personnel adjustment before get off work today. In addition to the announcement of the announcement of the chairman of Nazhijie, the original Chen Guorong will be changed to Yao Zhenxiang, the current general manager of Yulong; After the synchronous announcement of Li Junzhong resigned, he will be temporarily replaced by the deputy president Huang Zhenhong. As for Chen Guorong, he also resigned from Hua Chuang\\'s position, but the group was comforted.\\n \\n It is worth noting that with the Group\\'s current active \"group car value chain transformation strategy\", the Yulong Organization and Personnel Adjustment Announcement also announced that the Group\\'s General Management Office and the Decision Committee will no longer set up Deputy CEOs from now on.In other words, in the adjustment of this wave of organizations, Chen Guorong resigned from chairman of Nazhijie, and will also remove the position of the deputy chief executive of the group.\\n \\n According to relevant sources, there will be such a decision, mainly because the CEO Yan Chen Lilian took office, in view of the group involving the group\\'s huge, in order to implement the professional division of labor, Yan Chen hopes to strengthen the organizational management model of the group governing the division of labor. Do not want to press the burden of a single decision on a person.Relevant sources said that in addition to her continued as a member of the group decision -making committee as the CEO, in fact, in fact, in the future, she is more inclined to \"co -discussion\" and avoid the group from becoming a \"one word.\"\\n \\n In addition to the relevant personnel adjustment, Yulong also announced the establishment of the \"own brand and open platform integration project room\", which will mainly be responsible for the coordination and integration of the value chain of the Nazhijie brand and the open platform value chain.\\n \\n According to the announcement, the director of the project office was also held by Yao Zhenxiang, while the deputy director was the deputy general manager of Huachen Motor Electric, Zuo Zisheng.In order to strengthen communication and operational efficiency, the announcement pointed out that the \"own brand and open platform integration project room\" will directly report to the group decision -making committee.\\n \\n If you add Yao Zhenxiang, you will also take over the position of Na Zhijie. With the three important positions of Yao Zhenxiang and the director of the \"own brand and the open platform integration project room\", the chairman of Nazhijie, and the general manager of Yulong, In the future, Yao Zhenxiang will play a very heavy role in the future development of Yulong Group\\'s own brand.Regarding the announcement of today\\'s Group, Yulong also explained later that the establishment of the \"own brand and open platform integration project room\" mainly helps to implement the transformation strategy of open platforms and multiple customers. In order to strengthen the efficiency of vertical communication and management decision -making, the task room directly reported to the group decision -making committee that in the future, the Factory Office will be set up in Sanyi.\\n \\n As for the group\\'s no longer set up deputy executives, Yulong said that the transformation strategy requires better horizontal and vertical communication efficiency. Considering the flattening of the organization can improve the communication efficiency, so the deputy executive positions are no longer set up.In fact, last week, \"Apple News Network\" once exclusively revealed that as a China Vehicle Electric, which was developed as Nazhijie\\'s brain, issued a paper announcement in the new store, announcing the company\\'s planning \"factory office unite\", and planned to put the original work place in the new store in the new store. With the colleagues of Dayuan, all moved to Miaoli Sanyi Factory, and as a supporting facilities, Huachen also issued another \"preferential retirement (employment) method\" (Youli Yiyou). The application time starts from September 9th to the afternoon of September 20th The 5 o\\'clock, and the day after the general manager approved, it started to take effect, at the latest not exceeding October 1.In other words, after seeing the notice, employees must decide whether to accept the transfer to the Sanyi Factory before the 20th, otherwise they can also choose to leave or retire. Essence\\n \\n Since all the manufacturing research and development of Nazhijie\\'s models is mainly from Huaichuang, Huachuang can be said to be the main backbone of Nazhijie. In the past, Yulon has long betting on huge funds. However, as Nazhijie\\'s sales on both sides of the strait are not expected, the group has new ideas and strategies for Hua Chuang and even Yulon Manufacturing Factory.Huachuang Announcement will migrate on a large scale, and at the same time, the Youli Youyou Retirement Method will also be released. The company will also reduce salaries for high -level supervisors and according to different positions. Compared with the past, Yulong invested huge funds in China. These actions have also been in the market. After the interpretation of the group chief of the group Yan Chen Lilian, he decided to start rectifying Nazhijie.If you look at the organization and personnel adjustment of Yulong today, the market bluntly stated that \"this is not just a shot, but a heavy hand!\" Change, the legal person believes that it is inevitable for Yulong in the short term, but long -term views still tend to be positive.\\n \\n However, after the relocation of the Huachuang Announcement Office and launching the Youli Youyou supporting facilities, the employees must make a decision before the 20th of this month. At present, there are also internal employees that the decision is too short, and it is called on the company to extend the decision.(Chen Yanwei / Taipei report)\\n \\n Steal before the pre -reward meeting, and look at the first hand in Nazhijie URX in the first hand!\\n 2019/09/12 11:32 Free Times/reporter Chen Yingjie\\n https://auto.ltn.com.TW/News/13547/2\\n In the way of raid, Nazhijie chose a media pre -reward meeting on September 16 to hold a new species of vehicles URX, but before that, URX\\'s interior photos were exposed on the Internet!\\n \\n From the URX interior photos provided by netizens, it can be found that the front seat interior of the URX is completely different from the previous Nazhijie. The driver\\'s dashboard is canceled. It extends from driving door panel to the co -pilot door panel to provide better air -conditioning efficiency.\\n \\n With a new interior design, URX officially canceled the traditional instrument board.Many functions are integrated into the 12 -inch upright screen, but the air -conditioning function part is still a real piano -type button. In addition, you can also see Keyless, and the leather area has increased a lot after canceling the traditional instrument board.\\n \\n The steering wheel is also newly designed, which is refreshing. The steering wheel design of the D -type car is designed. There are complete fast -dial keys on both sides of the steering wheel. However, in this photo, I didn\\'t seem to see the shift paddles.\\n \\n URX is expected to hold a Taiwan media pre -rewards next Monday.\\n \\n URX adopts 5+2 seven -seater settings, and is expected to use 1. 1.The 8 -liter turbine engine, the wheelbase is 2,720mm, and it will be the first model of Nazhijie with ACC smart fixed speed. More detailed URX information is expected to be announced at the pre -reward meeting next Monday.\\n \\n New Store Yulong City 1080911 construction site empty shot'},\n",
              " {'index': 514,\n",
              "  'post1': '裕隆城仍興建中！裕隆：但內部優化及檢討\\n 工商時報 數位編輯 2019.09.27\\n https://ctee.com.tw/news/industry/151348.html\\n \\n 裕隆集團興建中的新店裕隆城用地。圖／本報資料照\\n \\n 裕隆 (2201) 今日於券商舉行法說會，針對新店裕隆城開發進度，裕隆指出，目前裕隆城建案仍在興建中，但內部仍在持續優化及檢討，任何重大變更，皆以董事會通過為準。\\n \\n 新店裕隆城商業區已於2017年第二季動工，目前連續壁工程及基樁工程已完工，現進行1樓版施作。\\n \\n 裕隆積極進行汽車價值鏈策略轉型，主要策略是輕資產，效率化，以及全面開放多元代工。\\n \\n 藉由開放車型平台及研發能量，爭取多元客戶，資源共享共用，規模分攤，降低研發及營運成本，納智捷品牌以輕資產的模式經營，整合價值鏈功能單位，提高營運效率。\\n \\n 具體作法：(1)設立自有品牌暨開放平台整合專案室，負責納智捷品牌及開放平台價值鏈研發、採購、製造、銷售之協調與整合，強化溝通及運作效率。(2)實施華創車電廠辦合一，以推動納智捷品牌精實專案，調整組織結構，精簡人事，維持自主品牌競爭力。\\n \\n 同時，全面開放多元代工。因應市場需求以及發揮規模效益，裕隆積極進行價值鏈策略轉型，全面開放爭取多元客戶，以及海內外客戶訂單，提升專業代工服務。\\n \\n 目前已看到效益。在Adiva(亞帝發)代工案部分。裕隆代工三輪重型機車整車組裝與模組件外銷及物流作業，外銷地區包括歐洲義大利、日本、新加坡、香港、馬來西亞等地，今年8月已外銷第一批重型機車。義大利重機品牌ADIVA(亞帝發)為重型機車研發及銷售公司，配合裕隆專業製造能力，共同提昇車輛組裝品質。\\n \\n 另外，裕隆接獲委託生產Muse法國電動物流車，並開啟相關合作業務，預計10月進行簽約儀式，展開法國Muse電動車款之生產與銷售，以及未來前進歐洲電動車市場的機會。\\n \\n 台灣車市方面，2019年1~8月整體市場銷售台數270,870台，較去年同期衰退4.8%，裕隆集團包括裕日車、中華汽車、納智捷三品牌合計總銷量58,475台，年減9.7%，\\n \\n 受汽車舊換新補貼政策效益遞減影響，加上總統大選將近、中美貿易戰的不確定因素，裕隆預估2019年整體台灣汽車市場約41萬台，較2018年42.3萬台衰退約3.1%。\\n \\n 中國車市部分，面臨中美貿易戰對中國經濟影響，環保治理加嚴、國六排放標準提前實施等產業下行壓力，中國汽車工業協會最新預估2019年中國大陸整體汽車市場銷量約為2,668萬台，較2018年衰退5%。\\n \\n 裕隆今年1~6月合併營收412.58億元較去年同期下降約9%，主因兩岸銷售車輛台數淨減約1萬1千台。上半年營業淨損4.64億元，除銷售台數下跌影響獲利外，對車型技術成本及模具評估減損，上半年營運轉虧，每股淨損0.62元。\\n \\n 裕隆自有品牌裕隆納智捷第四季新車陸續上市，旗下LUXGEN URX預計將在第四季正式上市。\\n \\n (時報資訊 沈培華)\\n \\n 裕隆集團展望 新店裕隆城住宅喊卡 將朝商業區繼續開發提報\\n 鉅亨網記者王莞甯 台北2019/09/27 14:56\\n https://news.cnyes.com/news/id/4387763\\n 裕隆 (2201-TW) 新店城開發案日前傳住宅區開發喊停，引發市場譁然，裕隆今 (27) 日召開法說會時說明，住宅區開發本來就在商業區之後，並未正式動工，內部還在評估是否要變更設計，須待董事會決議後定案，而在開發時間不會往後延的前提下，會朝商業區繼續開發提報；至於商業區中的住宅是否也將重新規劃，裕隆回應，正進行優化及檢討。\\n \\n 裕隆財企部經理羅文邑在法說會中說明，住宅區開發本來就是在商業區之後，並未正式動工，因應市場狀況，內部正在評估是否設計變更。\\n \\n 由於此案仍有待董事會評估後做最後定案，目前裕隆針對原有銷售案、現金流出和回收等細節評估。\\n \\n 新店裕隆城商業區已於 2017 年第二季動工，目前連續壁工程及基樁工程已完工，現進行 1 樓版施作，而商業區的建案仍在興建中。\\n \\n 對於市場傳不僅住宅區喊卡，就連商業區中的住宅都要重新規劃，裕隆回應，內部仍在持續優化及檢討，任何重大變更，皆以董事會通過為準，也就是說，並未對此市場揣測否認。',\n",
              "  'post2': '對啊，大盤大漲它只漲一點點，接下來又再往下走！實在很無力！',\n",
              "  'post1_en': \"Yulong City is still under construction! Yulong: But internal optimization and review\\n Industrial and Commercial Times Digital Edit 2019.09.27\\n https://ctee.com.tw/news/industry/151348.html\\n \\n Yulong City, a new store in Yulong Group. Photo / Report information\\n \\n Yulong (2201) held a law meeting today in the securities firm. In response to the progress of the development of Yulong City, the new store, Yulong pointed out that the current Yulong City construction case is still under construction, but the internal is still being optimized and reviewed. Essence\\n \\n The new store Yulong City Business District has begun in the second quarter of 2017. At present, the continuous wall project and base pile project have been completed. The first floor version is implemented.\\n \\n Yulong actively conducts the transformation of the automotive value chain strategy. The main strategy is light assets, efficiency, and comprehensive opening up.Through open model platforms and research and development energy, strive for multiple customers, sharing resources, sharing scale, and reduced research and development and operating costs. The Nazhijie brand operates in a light asset model, integrates the value chain function units, and improves operating efficiency.\\n \\n Specific methods: (1) Establish a special brand and open platform integration project room, responsible for the coordination and integration of the value chain of the Nazhijie brand and the open platform value chain, and strengthen communication and operational efficiency. (2) The implementation of the Huachuang Vehicle Power Plant Office to promote the solid project of the Nazhijie brand, adjust the organizational structure, streamline personnel, and maintain the competitiveness of independent brands.At the same time, comprehensively open diversified foundry. In response to market demand and exerting scale benefits, Yulong actively carried out the transformation of value chain strategies, comprehensively opened up to strive for multiple customers, as well as customers at home and abroad to enhance professional foundry services.\\n \\n I have seen benefits. Part of the foundry part of Adiva. Yulong OEM three -wheeled heavy locomotive assembly and module components export and logistics operations. Exported areas include European Italy, Japan, Singapore, Hong Kong, Malaysia and other places. In August this year, the first heavy -duty locomotive was exported.The Italian heavy aircraft brand Adiva (Yada) is a heavy -duty locomotive research and development and sales company, and cooperates with Yulong's professional manufacturing capabilities to jointly improve the quality of vehicle assembly.\\n \\n In addition, Yulong received the production of MUSE French electrical flow vehicles and opened related cooperation businesses. It is expected to conduct a signing ceremony in October to launch the production and sales of French MUSE electric vehicles, as well as the opportunity to advance the European electric vehicle market in the future.\\n \\n In terms of Taiwan's auto market, the overall market sales units from January to August 2019 were 270,870, a decline of 4.8%compared with the same period last year. The total sales of Yulong Group included Yuron Motors, China Automobile, and Nazhijie's total sales of 58,475 units, an annual decrease of 9. The annual decrease.7%,\\n \\n Affected by the decreased benefits of the new subsidy policy of automobiles, and the uncertain factors of the presidential election and the Sino -US trade war, Yulong estimates that the overall Taiwan automobile market in 2019 is about 410,000 units, which is about 3.1% from 423,000 units in 2018. Essence\\n \\n Part of the Chinese auto market, facing the downward pressure of industries such as the China -US trade war on China, environmental protection governance, and the implementation of the National Six emission standards in advance. , Declined by 5%from 2018.\\n \\n Yulong's consolidated revenue from January to June this year decreased by about 9%from the same period last year. Net loss in the first half of the year 4.6.4 billion yuan, in addition to the decline in the number of sales tables that affect the profit, the technical cost and mold assessment of the model reduced the loss. In the first half of the year, the operational loss was lost, and the net loss per share was 0.62 yuan.\\n \\n Yulong's own brand Yulonna Zhijie's fourth season will be listed one after another, and its Luxgen URX is expected to be officially listed in the fourth quarter.\\n \\n (Times Information Shen Peihua)\\n \\n Yulong Group Observation New Store Yulong City Residential Card will continue to develop a report towards the commercial district\\n Jianheng.com reporter Wang Wanning Taipei 2019/09/27 14:56\\n https: //news.cnyes.COM/News/ID/4387763\\n Yulong (2201-TW) New Store City Development Case recently passed on the development of residential area development, which triggered market uproar. The Yulong (27) held a meeting today that the development of the residential area was originally in the commercial area and did not officially start construction. Internal assessment is still evaluating whether to change the design. It is necessary to wait for the decision of the board of directors to decide, and under the premise of the development time, it will continue to be reported to the commercial district; as for whether the house in the commercial area will be re -planned, it will also be re -planned. Yulong responded to optimization and review.Luo Wenyi, manager of Yulong Finance Enterprise, stated in the Fa on the Fa on the meeting that the development of the residential area was originally after the commercial area and did not officially start construction. In response to market conditions, it was evaluating whether the design changed.\\n \\n Because the case still needs to be finalized after the board of directors is evaluated, Yulong is currently evaluated for details such as the original sales case, cash outflow and recycling.\\n \\n The new store Yulong City Business District has started in the second quarter of 2017. At present, the continuous wall project and the base pile project have been completed. The first floor version is implemented, and the construction of the commercial district is still under construction.Regarding the market rumor not only shouts in the residential area, but even the residential houses in the business district must be re -planned. Yulong responded that the internal is still optimizing and reviewing. This market speculates denial.\",\n",
              "  'post2_en': \"Yes, the broader market rose sharply. It only rose a little, and then went down again! It's really weak!\"},\n",
              " {'index': 516,\n",
              "  'post1': '嚴陳莉蓮驚濤接班360天 裕隆度過史上最大資金危機\\n \\n 裕隆集團執行長嚴陳莉蓮去年底因夫婿嚴凱泰病逝，臨危受命成為市值 4000 億的集團領導人，但外界並不知道，陳莉蓮接手後，不僅遭遇車市寒冬，重大考驗接踵而來，還面臨一場集團自成立以來最大的資金危機。\\n \\n 《財訊》報導指出，11 月 14 日晚上，裕隆汽車發布最新財報，由於提列了納智捷車型減損以及新店裕隆城變更計畫損失，第 3 季單季虧損擴大至 15.7 億元，每股虧損 1.05 元，累計前三季虧損 25 億元，每股已虧 1.7 元，預計第 4 季還可能繼續提列車發的相關資產減損。第二天，裕隆股價開盤跌至 18.65 元，創 9 個月低點。\\n \\n 從財報來看，以裕隆到今年第 3 季底，保留盈餘仍高達 459 億元，虧個幾 10 億其實衝擊有限，但這卻是裕隆 22 年來將首度出現全年赤字，虧損金額也是公司成立以來最鉅。更嚴重的是「營業現金淨流出」，累計前 3 季達 285 億元，若加計 2018 年度的流出，則高達近 700 億元，資金周轉吃緊的程度，甚至一度差點過不了關，也提早考驗著新任集團執行長嚴陳莉蓮的領導。\\n \\n https://news.cnyes.com/news/id/4416622\\n \\n 鴻海想創造更高營收\\n 勢必要著墨車電這塊\\n 裕隆要擺脫虧損\\n 勢必要擺脫華創車電這包袱\\n 就看兩者如何談了',\n",
              "  'post2': '利空出盡日...風雲再起時....',\n",
              "  'post1_en': 'Yan Chen Lilian shocked the succession 360 days of Yulong to spend the largest capital crisis in history\\n \\n Yulong Group CEO Yan Chen Lilian died of illness at the end of last year due to her husband Yan Kaitai, and was ordered to become a group leader with a market value of 400 billion yuan, but the outside world did not know that after Chen Lilian took over, he not only encountered the cold winter of the car city, but also faced a group self -self -consuming self -confidence. The largest capital crisis since its establishment.\\n \\n The \"Caixin\" reported that on the evening of November 14, Yulong Automobile released the latest financial report. Due to the launch of the Nazhijie model loss and the loss of the new store Yulong City change plan, the single quarterly loss in the third quarter expanded to 1.57 billion yuan, each each time, each each, each each, each each, each time, each each, each time, each time, each time, each time, each time, each time, each time, each time, each time, each, each, each, each, each, each, each, each, each, each, each, each, each, each, each, each, each, each, each, each quarterly, each. Stock loss 1.05 yuan, the cumulative loss of 2.5 billion yuan in the first three quarters, a loss of 1.7 yuan per share. It is expected that the 4th quarter may continue to increase the relevant assets issued by the train. The next day, Yulong\\'s stock price fell to 18.65 yuan, a 9 -month low.\\n \\n From the perspective of the financial report, by Yulong to the end of the third quarter of this year, the retaining surplus is still as high as 45.9 billion yuan. The loss of several billion yuan is actually a limited impact, but this is the first year\\'s deficit in Yulong in 22 years. Since its establishment, the huge. What is more serious is \"net cash outflow\", which has accumulated 28.5 billion yuan in the first three seasons. If the outflow of 2018 is added, it will be as high as nearly 70 billion yuan. He is the leader of Yan Chen Lilian, CEO of the new group.\\n \\n https: //news.cnyes.COM/News/ID/4416622\\n \\n Hon Hai wants to create higher revenue\\n It is necessary to be the ink car electricity\\n Yulong is going to get rid of the loss\\n It is bound to get rid of the burden\\n It depends on how the two talk',\n",
              "  'post2_en': 'Ending the day ... When the wind and clouds come again ...'},\n",
              " {'index': 518,\n",
              "  'post1': '今天新車大展Luxgen全新300hp跑旅「MBU」概念車現身，但還要等一年多才會上市，實在有點慢！納智捷要加把勁，加油！',\n",
              "  'post2': '裕隆金融水平事業去年賺40億\\n 2020-01-06 經濟日報 邱馨儀\\n https://money.udn.com/money/story/5612/4271725\\n \\n 網路抹黑下的犧牲者-納智捷20200107\\n \\n \\n 論文門上紐約時報了，正義終會戰勝邪惡20200107\\n \\n \\n 生命的豐盛。生命點點滴滴都是奇蹟20200107\\n \\n \\n 新店裕隆城空拍20200106\\n \\n \\n 納智捷要不要考慮合作？ SONY進軍電動車市場！\\n CARLINK鏈車網 2020/01/07\\n https://times.hinet.net/news/22727750',\n",
              "  'post1_en': 'Today, the new car exhibition Luxgen\\'s new 300HP running tour \"MBU\" concept car appeared, but it will not be available for more than a year, it is a bit slow! Nazhijie has to work harder, come on!',\n",
              "  'post2_en': \"Yulong's financial level earning 4 billion last year\\n 2020-01-06 Economic Daily Qiu Xinyi\\n https://money.udn.com/money/story/5612/4271725\\n \\n The victim of the Internet-Nazhijie 20200107\\n \\n \\n The New York Times on the paper, justice will defeat evil 20200107\\n \\n \\n The richness of life. Life is a miracle 20200107\\n \\n \\n New Store Yulong City Sky Shooting 20200106\\n \\n \\n Should Nazhijie consider cooperation? Sony enters the electric vehicle market!\\n Carlink link car network 2020/01/07\\n https://times.hinet.net/news/22727750\"},\n",
              " {'index': 520,\n",
              "  'post1': '裕隆公司應考慮買庫藏股了，裕隆股價已這麼低，多買一點來消除股本，提高股東權益報酬率，土地資產這麼多，隨便賣一塊地都可以買好幾萬張裕隆股票，執行長加油，裕隆加油。\\n \\n \\n \\n 平安度過這一次「2019新型冠狀病毒 （Novel coronavirus）」傳染疫情，應該是我們每個人最大共同願望。\\n \\n 如同在2002~2003年大家一同經歷的SARS疫情(嚴重急性呼吸道症候群），目前此新型冠狀病毒仍尚無疫苗或特效藥可有效抑制，所有醫學專家們一致認為民眾應該主動採取預防措施，才是保護自身避免受到感染最可行的方法。長庚生技團隊多年來在楊定一博士帶領下以推廣預防醫學為使命，同樣地，在這一波疫情中，我們衷心期盼能為所有朋友提供最適當的健康防護知識，不論是從楊定一博士著作的《真原醫》，或者長庚生技官網所提供各項健康資訊，包括十六年前楊定一博士從預防醫學角度針對SARS疫情所提出許多專業建議與提醒，其中最主要防疫重點就是主動避免接觸病毒，以及加強身體免疫力兩大方向。\\n \\n 希望朋友們可以利用這個假日，再進一步加強建構自身防護能力的知識，並且落實到生活中，包括均衡飲食、規律運動、正確呼吸、充分休息以及情緒管理等等。\\n \\n 只有先照顧好自己，我們才有能力照顧所有週邊的人，大家才能一起平安度過這次疫情。祝福所有朋友，健康、平安。\\n \\n 《如何因應SARS 》\\n http://www.cgb.com.tw/j2j0/cus/cus1/hel/hel1/10011.jsp\\n \\n \\n 全球疫情地圖整理包／武漢肺炎中國大陸死亡304例 境外菲律賓1例身亡\\n 全球已確診1萬4550例，死亡305例【更新時間：2/2 11：27】\\n https://health.udn.com/health/story/5999/4299961\\n \\n 救命藥問世？美治療武漢肺炎確診「用藥一天見效」隔日就退燒\\n ETtoday新聞雲 2020年02月02日\\n https://www.ettoday.net/news/20200202/1636225.htm\\n \\n 武漢肺炎有解？泰國醫師：抗流感、愛滋藥物加速痊癒\\n 聯合報 編譯李京倫 2020-02-02\\n https://udn.com/news/story/120944/4317243',\n",
              "  'post2': '台南智駕實驗室，自動駕駛車(納智捷U6) 發布日期：2020年1月25日\\n \\n \\n 「炎」陣以待 2020汽車科技投資大進擊 發布日期：2020年2月1日\\n \\n \\n 大陸封城電子斷鏈！重新洗牌台廠新機遇 發布日期：2020年2月8日\\n \\n \\n 2020庚子年，易經第二十四卦 地雷復 發布日期：2020年2月6日',\n",
              "  'post1_en': 'Yulong should consider buying treasury stocks. Yulong\\'s stock price is so low. Buy more to eliminate the share capital and increase the rate of return of shareholders\\' equity. There are so many land assets. You can buy tens of thousands of Yulong stocks if you sell it. , Yulong, come on.\\n \\n \\n \\n Ping An\\'s \"2019 New Coronavirus\" infectious epidemic should be the greatest common wishes for each of us.Just like the SARS epidemic (severe acute respiratory syndrome group) experienced by everyone from 2002 to 2003, this new type of coronary virus is still without vaccine or special effects drugs. Protect yourself the most viable way to be infected.長庚生技團隊多年來在楊定一博士帶領下以推廣預防醫學為使命，同樣地，在這一波疫情中，我們衷心期盼能為所有朋友提供最適當的健康防護知識，不論是從楊Dr. Dingyi\\'s book \"Real Altarian Medicine\", or various health information provided by Chang Gengsheng Technical Official Website, including Dr. Yang Yi from the perspective of preventing medical treatment for SARS epidemic, the most important of them, the most important of which The focus of epidemic prevention is to actively avoid contact with virus and strengthen physical immunity.It is hoped that friends can use this holiday to further strengthen the knowledge of constructing their own protection capabilities, and implement it in life, including a balanced diet, regular exercise, correct breathing, full rest, and emotional management.\\n \\n Only when we take care of ourselves can we have the ability to take care of all the surrounding people, and everyone can spend this epidemic peacefully together. Bless all friends, health and peace.\\n \\n \"How to respond to SARS\"\\n http://www.cgb.com.tw/j2j0/cus/cus1/hel1/10011.jsp\\n \\n \\n Global epidemic map sorting package / Wuhan pneumonia Chinese death 304 cases of death in the Philippines abroad\\n 14550 cases have been diagnosed around the world, and 305 deaths [Update time: 2/2 11:27]\\n https: //health.udn.com/health/story/5999/4299961\\n \\n The life -saving medicine came out? Beauty treatment of Wuhan pneumonia is diagnosed with \"medication for one day\" and fever the next day\\n ETTODAY News Cloud February 02, 2020\\n https://www.ettoday.net/news/20200202/1636225.htm\\n \\n Is there a solution for pneumonia in Wuhan? Thai physician: anti -influenza, AIDS drugs accelerated healing\\n Lianhe Daily Compiled Li Jinglun 2020-02-02\\n https://udn.com/news/story/120944/4317243',\n",
              "  'post2_en': 'Tainan Intelligent Driving Lab, Autonomous Car (Nazhijie U6) Release Date: January 25, 2020\\n \\n \\n \"Yan\" to wait for 2020 Auto Technology Investment Date: February 1, 2020\\n \\n \\n Mainland Fengcheng Electronic Broken Chain! New Opportunity Release Date of Re -Horkening Taiwan Factory: February 8, 2020\\n \\n \\n 2020 Gengzi Year, the Book of Changes Twenty -Four Gua Di Land Return Release Date: February 6, 2020'},\n",
              " {'index': 522,\n",
              "  'post1': '股狗網-籌碼分析-裕隆\\n https://www.stockdog.com.tw/stockdog/index.php?m=overview&sid=2201\\n \\n \\n 裕隆搶灘共享 格上SmartTaxi年拚30萬趟次\\n 中時 黃琮淵 2020/02/18\\n https://www.chinatimes.com/realtimenews/20200218004028-260410\\n \\n Nissan Kicks 測試車曝光，超省油引擎將登場！\\n 自由時報 徐煜展 2020/02/18\\n https://auto.ltn.com.tw/news/14709/3\\n \\n 除了肺部，新型冠狀病毒還會攻擊哪裡？中國最新研究：腎臟與睪丸\\n 風傳媒 國際中心 2020-02-18\\n https://www.storm.mg/article/2304592\\n \\n 男性死亡率是女性的3倍以上，染病者8成非重症，新冠病毒展露了什麼特性？\\n 風傳媒 李忠謙 2020-02-18\\n https://www.storm.mg/article/2304408\\n \\n 為善最樂\\n \\n \\n The White Stone\\n \\n \\n 成功的意義是什麼？三位不同專長的領導人現身說法\\n 「這個世界或許正變得越來越暗，但我們仍然可以活得越來越亮。」\\n https://tw.tv.yahoo.com/asksisy/',\n",
              "  'post2': '融資大增後多半都沒好事，屢試不爽\\n 錢不夠就少買一些，亂世少用融資買\\n 買了就不要借人，賺小利息賠大差價\\n 有股價在歷史高可去空何必膠著於此\\n 裕隆股本157.29億每股淨值43.61元\\n \\n \\n \\n \\n 股狗網-籌碼分析-裕隆\\n https://www.stockdog.com.tw/stockdog/index.php?m=overview&sid=2201\\n \\n 神秘金字塔-股權分散表-裕隆\\n http://norway.twsthr.info/StockHolders.aspx?stock=%E8%A3%95%E9%9A%86\\n \\n HiStock嗨投資理財社群 -裕隆\\n https://histock.tw/stock/2201\\n \\n 劉揚偉破除5G iPhone難產傳言，加碼揭曉鴻海電動車問世時間\\n 數位時代 王郁倫 2020.03.03\\n https://www.bnext.com.tw/article/56772/foxconn-annual-invest-meeting-5g-ev-plan\\n \\n 【鴻海法說3】本週與裕隆合資新公司 鴻海：1年內開發出油電混合車\\n 鏡週刊 曹以斌 2020.03.03\\n https://www.mirrormedia.mg/story/20200303fin011/\\n \\n 價格降了，為何台灣電動車仍推不動？福斯點出3個困境\\n 數位時代 高敬原 2020.03.04\\n https://www.bnext.com.tw/article/56767/volkswagen-2020-taiwan-strategy\\n \\n 新冠肺炎之病毒學解析\\n \\n \\n 《隨緣》',\n",
              "  'post1_en': 'Stock Dog Network-Blog analysis-Yulong\\n https://www.stockdog.com.tw/stockdog/index.php?m=overw&SID=22012201\\n \\n \\n Yulong grabbing the beach shared grid Smarttaxi year fight 300,000 times\\n Huang Yiyuan 2020/02/18\\n https://www.chinatimes.com/realtimenews/20200218004028-260410\\n \\n NISSAN KICKS test cars are exposed, super fuel efficient engine will debut!\\n Free Times Xu Yuzhan 2020/02/18\\n https://auto.ltn.com.tw/news/14709/3\\n \\n In addition to the lungs, where can the new coronary virus be attacked? The latest research in China: kidney and testicles\\n Wind Media International Center 2020-02-18\\n https://www.storm.mg/article/2304592\\n \\n Men\\'s death rate is more than three times that of women, 80 % of the infected diseases are not severe. What characteristics do new coronal viruses show?\\n Wind Media Li Zhongqian 2020-02-18\\n https: //www.storm.mg/Article/2304408\\n \\n The most happy for goodness\\n \\n \\n The White Stone\\n \\n \\n What is the meaning of success? Three leaders of different expertise appear to appear\\n \"This world may be getting darker and darker, but we can still live brighter.\"\\n https://tw.tv.yahoo.com/asksisy/',\n",
              "  'post2_en': 'After the increase in financing, most of them are not good, and I tried it repeatedly\\n Buy less if you do n’t have enough money, buy less financing in troubled times\\n Don\\'t borrow people if you buy it, make a small price difference for small interest\\n If the stock price is high, you can go to the air, why bother here\\n Yulong\\'s equity is 15.729 billion yuan per share of 43.61 yuan per share\\n \\n \\n \\n \\n Stock Dog Network-Blog analysis-Yulong\\n https://www.stockdog.com.tw/stockdog/index.php?m=overw&SID=22012201\\n \\n Mysterious Pyramid-Equity Disclosure-Yulong\\n http://norway.twsthr.info/stockholders.aspx?stock=%E8%95%E9%9A%86\\n \\n Histock Hi Investment Finance Community -Yulong\\n https://histock.tw/stock/2201\\n \\n Liu Yangwei breaks the rumors of 5G iPhone, and will reveal the time of the appearance of Hon Hai\\'s electric car.\\n Digital era Wang Yulun 2020.03.03\\n https://www.bnext.com.TW/Article/56772/FoxConn-Annch-INVETING-5G-EV-PLAN\\n \\n [Hon Hai Law said 3] Hon Hai, a joint venture with Yulong this week: developed a hybrid car for oil and electricity within one year\\n Mirror Weekly Cao Yibin 2020.03.03\\n https://www.mirrormedia.mg/story/20200303Fin011/\\n \\n The price has dropped, why can\\'t Taiwan electric vehicles still push? Foster points out 3 difficulties\\n Digital era Gao Jingyuan 2020.03.04\\n https://www.bnext.com.tw/article/56767/volkswagen-2020-taiwan-strategy\\n \\n Analysis\\n \\n \\n \"Suiyuan\"'},\n",
              " {'index': 524,\n",
              "  'post1': '看起來明天可能有機會綠到底?\\n \\n \\n \\n 裕隆去年大虧244.65億 將減資36.4%彌補虧損\\n \\n 中央社2020年3月30日 下午7:19\\n 留言\\n （中央社記者韓婷婷台北2020年3月30日電）裕隆 (2201) 去年度虧損新台幣244.65億元，規劃動用特別盈餘公積151.45億元，並減資新台幣57.29億元彌補虧損，實收資本額降幅約36.4%。減資後實收資本額降至100億元。\\n \\n 裕隆今天因有重大訊息待公布，經證交所同意，暫停交易，一如市場預期，裕隆下午董事會決議進行減資打虧，去年全年虧損達244.65億元，EPS為-15.55元。董事會決議通過以特別盈餘公積與減資彌補虧損案。\\n \\n 裕隆集團在董事長嚴陳莉蓮接掌之後，大刀闊斧進行一連串的整頓改革，積極整頓各子公司財務，持續認列包括東風裕隆、台灣納智捷、華創車電資產減損，並提列新店舊廠區裕隆城開發設計變更損失，以致全年虧損擴大，為健全財務結構，董事會決議瘦身強健體質。(編輯:鄭雪文)',\n",
              "  'post2': '恭喜樓主，裕隆今天直上漲停，10％',\n",
              "  'post1_en': \"It seems that there may be a chance to be green to the end tomorrow?\\n \\n \\n \\n Yulong's loss of 24.465 billion last year will reduce capital by 36.4%to make up for the loss\\n \\n Central News Agency, March 30, 2020 at 7:19 pm\\n message\\n (Central News Agency reporter Han Tingting Taipei, March 30, 2020) Yulong (2201) Last year, US $ NT $ 24.465 billion, the planned surplus provision was 15.145 billion yuan, and NT $ 5.729 billion made up for the loss. About 36.4%. After the capital reduction, the amount of actual income revenue dropped to 10 billion yuan.\\n \\n Yulong was temporarily suspended due to the consent of the syndrome of the Stock Exchange due to the consent of the syndrome. As market expectations, Yulong's decision in the afternoon decided to make a loss of capital. Last year, the loss reached 24.465 billion yuan, and the EPS was -15.55 yuan. The board of directors decided to make up for the loss of losses with special surplus reserve and reduction of capital.\\n \\n After the chairman Yan Chen Lilian took over, Yulong Group carried out a series of rectification reforms, actively rectified the finances of each subsidiary, and continued to recognize the loss of assets including Dongfeng Yulong, Taiwan Nazhijie, Huachen Motor Electricity assets, and mentioned the old factory of the new store in the new store. Yulong City's development and design change losses, resulting in the expansion of losses throughout the year. In order to improve the financial structure, the board of directors decided to lose weight and strong physique. (Edit: Zheng Xuewen)\",\n",
              "  'post2_en': 'Congratulations to the host, Yulong rose straight to the daily limit today, 10 %'},\n",
              " {'index': 526,\n",
              "  'post1': '今天外資和投信狂買，有爆炸性消息嗎？😁😁',\n",
              "  'post2': '現在11點54分，還不知道什麼利多，攻到漲停了～～！\\n 等待事後新聞出來！',\n",
              "  'post1_en': 'Is there any news about foreign investment and investment today? Bleak',\n",
              "  'post2_en': 'Now at 11:54, I don’t know what Niandu, the attack on the daily limit ~~!\\n Waiting for the news afterwards!'},\n",
              " {'index': 528,\n",
              "  'post1': '「咖啡園存股法」- 謝士英 20200528出版\\n https://www.books.com.tw/products/0010858853\\n \\n 嚴氏家族的汽車夢\\n 工商書房 謝士英 2020.06.14\\n https://ctee.com.tw/bookstore/selection/284872.html\\n \\n 裕隆汽車連六年獲公司治理評鑑排名前百分之五\\n 工商時報 陳信榮 2020/06/11\\n https://m.ctee.com.tw/livenews/aj/a00602002020061117284635\\n \\n 鴻海劉揚偉談新能源車 「智慧力」將比馬力更重要\\n 經濟日報 蕭君暉 2020-06-15\\n https://money.udn.com/money/story/5612/4637076\\n \\n 每人平均張數18.80張再領先創新高\\n \\n \\n \\n 發佈日期 2020年4月15日',\n",
              "  'post2': '嚴陳莉蓮率裕隆連賺兩季！對華創車電增資127億元加速與鴻海合資\\n 鏡週刊 曹以斌 2020年8月17日\\n https://www.mirrormedia.mg/story/20200817fin011/\\n \\n 為攜手鴻海作準備！裕隆與納智捷合計127億元增資華創\\n 蘋果日報 2020年8月17日\\n https://tw.appledaily.com/property/20200817/HOYU7FLXVVHOPFJYR4GXPO4JXQ/\\n \\n 【公告】裕隆代重要子公司納智捷汽車(股)公司增資華創車電技術中心(股)公司\\n 中央社 2020年8月17日\\n https://tw.stock.yahoo.com/news\\n \\n 【公告】裕隆增資華創車電技術中心(股)公司\\n 中央社 2020年8月17日\\n https://tw.stock.yahoo.com/news\\n \\n 【公告】裕隆代重要子公司華創車電技術中心(股)公司董事會決議召開109年股東臨時會\\n 中央社 2020年8月17日\\n https://tw.stock.yahoo.com/news\\n \\n 營運大反攻 人氣股現身\\n 經濟日報 蔡靜紋 2020-08-16\\n https://money.udn.com/money/story/5607/4785212\\n \\n 裕隆、中華車法說 策略受矚目\\n 經濟日報 邱馨儀 2020-08-16\\n https://udn.com/news/story/7251/4784853\\n \\n 裕隆抖包袱 連二季獲利\\n 工商時報 陳信榮 2020/08/15\\n https://www.chinatimes.com/newspapers/20200815000278-260206\\n \\n 為何納智捷先減資99％再增資？關鍵在這\\n 今周刊 2020.08.15\\n https://ctee.com.tw/news/industry/318408.html\\n \\n 裕隆營運體質調整有成連2季獲利 上半年EPS 0.5元\\n 鉅亨網 王莞甯 2020/08/14\\n https://news.cnyes.com/news/id/4516206\\n \\n 確定10月初登場！NISSAN大改款Sentra配備編成揭露\\n CARLINK鏈車網 2020-08-14\\n https://autos.yahoo.com.tw/news\\n \\n 對抗 Toyota Altis 的關鍵，大改款 Nissan Sentra 確定標配輔助駕駛！\\n 自由時報 2020/08/14\\n https://auto.ltn.com.tw/news/15921/2\\n \\n 在乎的是，我愛的人絕對要快樂：他們為何選擇納智捷5+1樂活款？\\n ETtoday車雲 2020-08-13\\n https://speed.ettoday.net/news/1782181',\n",
              "  'post1_en': '\"Coffee Garden Stock Law\" -The Xie Shiying 20200528 Published\\n https://www.books.com.tw/products/0010858853\\n \\n The car dream of the Yan family\\n Industrial and Commercial Store Xie Shiying 2020.06.14\\n https://ctee.com.tw/bookstore/selection/284872.html\\n \\n Yulong Automobile has won 5 % of the company\\'s governance evaluation in six years\\n Industrial and Commercial Times Chen Xinrong 2020/06/11\\n https://m.ctee.com.tw/livenews/aj/a006020061117284635\\n \\n Hon Hai Liu Yangwei talks about the new energy vehicle \"Wisdom\" will be more important than horsepower\\n Economic Daily Xiao Junhui 2020-06-15\\n https://money.udn.com/money/story/5612/4637076\\n \\n The average number per person is 18.80, and then lead the innovation high\\n \\n \\n \\n Release date April 15, 2020',\n",
              "  'post2_en': \"Yan Chen Lilian led Yulong to make two seasons! The increase in capital to Huacchuang's electricity 12.7 billion yuan accelerates the joint venture with Hon Hai\\n Mirror Weekly Cao Yibin August 17, 2020\\n https://www.mirrormedia.mg/story/20200817fin011/\\n \\n Prepare to join hands with Hon Hai! Yulong and Nazhijie have a total of 12.7 billion yuan in capital increase Huacheng\\n Apple Daily August 17, 2020\\n https://tw.appleDaily.com/property/20200817/hoyu7flxvhopfjyr4gxjxq/\\n \\n [Announcement] Yulong's important subsidiary Nazhijie Automobile (Stock) Company's capital increase Huacheng Vehicle Electric Technology Center (stock) company\\n Central News Agency, August 17, 2020\\n https://tw.stock.yahoo.com/news\\n \\n [Announcement] Yulong Capital Huachuang Vehicle Electric Technology Center (stock) company (stock) company\\n Central News Agency, August 17, 2020\\n https://tw.stock.yahoo.COM/News\\n \\n [Announcement] Yulong's important subsidiary Huachuang Vehicle Electric Technology Center (stock) company's board of directors decided to hold a 109 -year -old shareholder meeting\\n Central News Agency, August 17, 2020\\n https://tw.stock.yahoo.com/news\\n \\n Operation big counterattack popular stocks appeared\\n Economic Daily Cai Jing pattern 2020-08-16\\n https://money.udn.com/money/story/5607/4785212\\n \\n Yulong and Chinese car law saying strategies have attracted much attention\\n Economic Daily Qiu Xinyi 2020-08-16\\n https://udn.com/news/story/7251/4784853\\n \\n Yulong shakes the burden to make a second season profit\\n Industrial and Commercial Times Chen Xinrong 2020/08/15\\n https://www.chinatimes.com/newspapers/20200815000278-260206\\n \\n Why did Nazhijie reduce capital 99 % and then increase capital? The key is here\\n Today's Weekly 2020.08.15\\n https://ctee.com.tw/news/industry/318408.html\\n \\n Yulong's operating constitution adjustment has a successful company in the first half of EPS EPS 0.5 yuan\\n 2 钜 网 Wang Wanning 2020/08/14\\n https: //news.cnyes.COM/News/ID/4516206\\n \\n Determine debut in early October! NISSAN large modification SENTRA is equipped with compilation\\n Carlink link car network 2020-08-14\\n https://autos.yahoo.com.tw/news\\n \\n The key to fighting Toyota Altis, the big change Nissan Sentra determines the standard auxiliary driving!\\n Liberty Times 2020/08/14\\n https://auto.ltn.com.tw/news/15921/2\\n \\n What I care about is that the person I love must be happy: Why do they choose Nazhijie 5+1?\\n ETTODAY car cloud 2020-08-13\\n https://speed.ettoday.net/news/1782181\"},\n",
              " {'index': 530,\n",
              "  'post1': '減資後股價會變高，不用管面額，減資後面額還是10元，就是股本變小了。看面額沒意義，要看淨值與市價，台積電大立光的面額也都是10元。裕隆減資後，淨值會從29上升到46，市價大概也是這個概念看。\\n \\n \\n \\n 9/17展開預售，Nissan大改款Sentra全車系將標配全速域ICC、IEB防追撞系統等輔助項目！\\n https://www.mobile01.com/topicdetail.php?f=263&t=6175998\\n \\n 接班兩年 嚴陳莉蓮如何掌舵裕隆驚渡暴風雨？\\n 今周刊 2020.08.29\\n https://ctee.com.tw/news/industry/326508.html\\n \\n 動力上打 1.8L 油耗更勝 1.5L Nissan Sentra 新世代 1.6L 引擎分析\\n 小七車觀點 林翰言 2020/08/28\\n https://www.7car.tw/articles/read/68856\\n \\n Nissan Sentra全車系標配ICC車距巡航 國民神車換人當？\\n ETtoday車雲 2020-08-27 \\n https://speed.ettoday.net/news/1794920\\n \\n 預計11月上市、採1.0T動力，大改款Nissan Juke首度捕獲\\n U-CAR 張旭 2020-08-25\\n https://news.u-car.com.tw/article/63386\\n \\n 東風日產軒逸平均每 14 秒售出一台 大改款 Nissan Sentra 第四季強勢登場\\n 小七車觀點 林翰言 2020/08/10\\n https://www.7car.tw/articles/read/68422\\n \\n \\n \\n \\n \\n \\n 善有善報，惡有惡報，不是不報，遲早會到。\\n \\n 通行靈界的科學家：史威登堡獻給世人最偉大的禮物\\n 作者： 史威登堡研究會\\n https://www.books.com.tw/products/0010463547\\n \\n 天堂與地獄（典藏精裝版）：開啟靈界觀點．體悟生命永恆\\n 作者： 伊曼紐．史威登堡\\n https://www.books.com.tw/products/0010791674',\n",
              "  'post2': '裕日車Q4銷售 挑戰萬輛\\n 工商時報 陳信榮 2020.10.07\\n https://ctee.com.tw/news/industry/347639.html\\n \\n 跟進日本母廠導入，Nissan 裕隆日產導入新世代企業識別廠徽！\\n CarStuff Jason Hu 2020年10月6日\\n https://tw.news.yahoo.com\\n \\n 裕日車新車上市加持 第4季銷售拚逾萬台\\n 中央社 韓婷婷 2020年10月6日\\n https://tw.stock.yahoo.com/news\\n \\n SENTRA催出房車買氣 預接單破1500台\\n 工商時報 黃琮淵 2020/10/06\\n https://m.ctee.com.tw/livenews/aj/chinatimes/20201006005074-260410\\n \\n LUXGEN攜手鴻海，U6、URX、MBU連袂搶攻SUV市場\\n CARLINK鏈車網 劉家岳 Jason 2020-10-05\\n https://autos.yahoo.com.tw/news\\n \\n 鴻海科技日將展示EV開放平台 電動車布局受矚目\\n 蘋果日報 2020/10/05\\n https://tw.appledaily.com/property/20201005/AOUALXOUEFCDJHJ5DASE4IVIDU/\\n \\n 下個兆元產業…各方搶進\\n 經濟日報 謝艾莉蕭君暉 2020-10-03\\n https://money.udn.com/money/story/5612/4906278\\n \\n 新車接踵發表 車商迎來全年最好一季\\n 鉅亨網 王莞甯 2020/10/02\\n https://news.cnyes.com/news/id/4529002\\n \\n 坐大位筋速息 Luxgen URX 5+1毓得基金會長輩實測\\n 蘋果日報 2020/10/02\\n https://tw.appledaily.com/lifestyle/20201002/4AREZLSK6VHSTGEOAAAFNOVMLM/\\n \\n 鴻海科技日文宣亮相 「3+3=∞」暗藏劉揚偉投資密碼\\n 三立新聞網 2020/10/02\\n https://www.setn.com/News.aspx?NewsID=824250\\n \\n YES!來電、鐙鋒綠能 合推快充站\\n 工商時報 李翊榛 2020/10/02\\n https://www.chinatimes.com/newspapers/20201002000273-260204\\n \\n 裕隆裘民輝接任華創總座\\n 工商時報 陳信榮 2020/10/01\\n https://www.chinatimes.com/newspapers/20201001000358-260206\\n \\n \\n 距離減資剩下最後2個交易日，10/7-10/16停止交易，10/16鴻海科技日，10/18郭董生日，10/19裕隆新股重新交易。看到這種籌碼變化與裕隆目前的基本面，實在搞不懂為何技術面會這樣的差，唯一的理由是有部分股東不想參與減資先獲利了結了，而大戶只是借勢趁勢低接。如果不是因為要減資，我想目前裕隆的股價或許已經在淨值29元附近了。現在每人平均持有張數為20.16張，有創歷史新高？千張以上持有的百分比為75.61%，大膽預測這二項數字在最後2個交易日完成後，應該會再創高，那接下來會如何呢？減資後大戶再來大砍持股，想不到他們在那時候才來賣出的理由，要賣的早就賣了。\\n \\n \\n \\n \\n Nissan Sentra！接單超過1,500台',\n",
              "  'post1_en': \"After the capital reduction, the stock price will become higher, regardless of the amount of surface, the amount after the reduction is 10 yuan, that is, the share capital becomes smaller. It doesn't make sense to look at the surface. It depends on the net value and market price. TSMC's noodles are also 10 yuan. After Yulong's capital reduction, the net value will rise from 29 to 46, and the market price is probably the concept.\\n \\n \\n \\n Starting pre -sale on 9/17, NISSAN's large -model SENTRA full car series will standardize auxiliary projects such as full -speed field ICC and IEB anti -chase system!\\n https://www.mobile01.com/topicdetail.php?f=263&T=6175998\\n \\n How did Yan Chen Lilian take the helm of Yulong for two years?\\n Today's Weekly 2020.08.29\\n https://ctee.com.tw/news/industry/326508.html\\n \\n Power Power 1.8L fuel consumption is better than 1.5L NISSAN SENTRA new generation 1.6L engine analysis\\n Little Qiqian's point of view Lin Hanyan 2020/08/28\\n https: //www.7car.TW/ArticleS/Read/68856\\n \\n NISSAN SENTRA's full car is standard for ICC vehicle distance cruise?\\n ETTODAY car cloud 2020-08-27\\n https://speed.ettoday.net/news/1794920\\n \\n It is expected to be available in November, picking 1.0T power, and the big change Nissan juke for the first time to capture the first capture\\n U-CAR Zhang Xu 2020-08-25\\n https://news.u-car.com.tw/article/63386\\n \\n Dongfeng Nissan Xuanyi sells a large change of NISSAN SENTRA in the fourth season every 14 seconds\\n Little Qiqian's point of view Lin Hanyan 2020/08/10\\n https://www.7car.tw/articleS/read/68422\\n \\n \\n \\n \\n \\n \\n Good good news, evil and evil, not to report, will sooner or later come.\\n \\n Scientist in the Lingling World: Swedenburg dedicated to the greatest gift of the world\\n Author: Shiweibao Research Association\\n https://www.books.com.TW/Products/0010463547\\n \\n Paradise and Hell (Collection Hardcover Edition): Open the view of the spiritual world. Resent your eternal life\\n Author: Emmann. Slangbao\\n https://www.books.com.tw/products/0010791674\",\n",
              "  'post2_en': 'Yuri Car Q4 sales challenge 10,000 vehicles\\n Industrial and Commercial Times Chen Xinrong 2020.10.07\\n https://ctee.com.tw/news/industry/347639.html\\n \\n Following the introduction of the Japanese parent factory, NISSAN Yulong Ninchi introduced the new generation of corporate identification factories!\\n CARSTUFF JASON HU October 6, 2020\\n https://tw.news.yahoo.com\\n \\n The listing of the new car of Yuri Cars in the fourth quarter sales of more than 10,000 units\\n Central News Agency Han Tingting, October 6, 2020\\n https://tw.stock.yahoo.com/news\\n \\n SENTRA urged RV to buy gas pre -connection forms through 1500 units\\n Industrial and Commercial Times Huang Yiyuan 2020/10/06\\n https://m.ctee.com.tw/livenews/aj/chinatimes/202010060074-260410\\n \\n Luxgen joins hands with Hon Hai, U6, URX, MBU Lianqi to attack the SUV market\\n Carlink Link Car Network Liu Jiayue Jason 2020-10-05\\n https://autos.yahoo.com.tw/news\\n \\n Hon Hai Science and Technology Day will show the EV open platform electric vehicle layout attracted much attention\\n Apple Daily 2020/10/05\\n https: //tw.appleDaily.com/processy/20201005/aoualxouefcdjhj5dase4ividu/\\n \\n The next Zhaoyuan industry ... the parties will enter\\n Economic Daily Xie Aili Xiao Junhui 2020-10-03\\n https://money.udn.com/money/story/5612/4906278\\n \\n The new car is published in the best season for car dealers to usher in the year\\n 2 钜 网 Wang Wanning 2020/10/02\\n https://news.cnyes.com/news/id/4529002\\n \\n Sitting on a large tendon to speed up luxgen URX 5+1 Yude Fund Presidential Detection\\n Apple Daily 2020/10/02\\n https://tw.appleDaily.com/lifestyle/20201002/4AREZLSK6VHSTGEOAAFNOVMLM/\\n \\n Hon Hai Technology\\'s Japanese announcement \"3+3 = ∞\" hidden Liu Yangwei investment password\\n Sanli News Network 2020/10/02\\n https://www.setn.com/news.aspx?newsid=824250\\n \\n Yes! Calling, 能\\n Industrial and Commercial Times Li Yizhen 2020/10/02\\n https://www.chinatimes.com/newspapers/2020100273-260204\\n \\n Yulong Qiu Minhui takes over as Huachuang\\'s main seat\\n Industrial and Commercial Times Chen Xinrong 2020/10/01\\n https: //www.chinatime.com/newSpapers/20201001000358-260206\\n \\n \\n From the last two trading days left, the transaction was stopped 10/7-10/16, 10/16 Hon Hai Technology Day, 10/18 Guo Dong\\'s birthday, 10/9 Yulong new shares re-trading. Seeing that this kind of chip change is from the current fundamentals of Yulong, I really do n’t understand why the technical side will be so bad. The only reason is that some shareholders do not want to participate in the capital reduction, and the big households just take advantage of the momentum. If it wasn\\'t for reducing capital, I think Yulon\\'s stock price may have been around 29 yuan. Now the average number of people holds 20.16, which is a record high? The percentage of more than a thousand or more hold is 75.61%, boldly predict that these two numbers should be reached after the last 2 trading days, what will happen next? After the capital reduction, the big households came to cut the shareholding again. I didn\\'t expect the reasons for them to sell at that time.\\n \\n \\n \\n \\n Nissan Sentra! The order is more than 1,500 units'},\n",
              " {'index': 532,\n",
              "  'post1': '減資第一天交易，裕隆開高走低虎頭蛇尾，鴻海的表現比裕隆好多了，裕隆要加油，裕隆集團台元不是要資產活化嗎？力量在哪裡？看好的話，集團或經營者要進場買給股東看啊！\\n \\n \\n 盤中零股交易 倒數一周\\n 工商時報 陳昱光 2020/10/20\\n https://www.chinatimes.com/newspapers/20201020000154-260202\\n \\n 裕隆減資後上市 首日開紅盤\\n 工商時報 陳信榮 2020.10.20\\n https://ctee.com.tw/news/stock/354497.html\\n \\n 鴻海與裕隆攜手進軍電動車產業 「鴻華先進」公布全新EV平台架構\\n 聯合新聞網 阿恰卡 2020-10-20\\n https://autos.udn.com/autos/story/7825/4947821\\n \\n 鴻海公布 MIH 開放式電動車架構平台，裕隆集團 Luxgen 品牌的新曙光？\\n CarStuff 人車事 Jason Hu 2020年10月19日\\n https://tw.news.yahoo.com\\n \\n 汽車產業轉型加速，EMS 卡位電動車商機\\n 科技新報 MoneyDJ 2020 年 10 月 19 日\\n https://www.moneydj.com/KMDJ/News/NewsViewer.aspx?a=aaf54ee5-3e91-4edb-89be-790d72ab752b\\n \\n 鴻海 2024 年將以「固態電池」攻下電動車市場，郭董的汽車夢即將成真？\\n 科技橘報 中央社 2020/10/19\\n https://buzzorange.com/techorange/2020/10/19/foxconn_electric-vehicle_battery_technology/\\n \\n 麥克瘋／鴻海大秀「科技日」 秀肌肉也看門道\\n 中廣新聞網 2020年10月19日\\n https://tw.news.yahoo.com\\n \\n 質感大躍進 Luxgen全新休旅鉅作URX顛覆過往！\\n \\n \\n 捨棄傳統澈底脫胎換骨 重新定義中型房車魅力！\\n \\n \\n 鴻海攜手裕隆強強結盟 如何解讀兩大集團？',\n",
              "  'post2': '納智捷（LUXGEN）確定退出中國市場\\n \\n \\n 裕隆因納智捷退出中國市場 子公司東裕銷售破產遭清算\\n ETtoday新聞雲 周康玉 2020/11/13 17:04\\n https://www.ettoday.net/news/20201113/1853842.htm\\n \\n 裕隆（2201）今（13）日宣布，因旗下品牌納智捷（LUXGEN）確定退出中國市場，子公司東風裕隆汽車銷售公司（東裕銷售）公告，東裕銷售經法院認定具備破產原因，正式進入破產清算程序。\\n \\n 東裕銷售為納智捷在中國大陸的經銷商，專門銷售納智捷品牌車款並提供相關售服業務。然而，該公司於2018年即已無實質營運，當地銷售及售後服務已由其他經銷商負責。裕隆強調，現行大陸納智捷品牌售服業務不受影響。\\n \\n 裕隆表示，東裕銷售進入破產程序後，裕隆汽車將協助依法配合法院辦理相關事宜。未來裕隆汽車將依實際債務狀況進行帳務處理，目前評估此破產清算事件，對裕隆汽車將不致發生重大財務支出或承擔負債，亦無重大負面財務影響。\\n \\n 裕隆表示，公司已對東裕銷售認列投資損益，本事件並不會對裕隆汽車109年前三季已公告之財務報表產生影響。\\n \\n \\n 大陸合資子公司遭聲請清算 裕隆正式回應了\\n 鏡週刊 曹以斌 2020/11/13 17:49\\n https://www.mirrormedia.mg/story/20201113fin009/\\n \\n 裕隆納智捷品牌退出中國 東裕銷售破產清算\\n 鉅亨網 王莞甯 2020/11/13 17:39\\n https://news.cnyes.com/news/id/4542742\\n \\n 車市飆 和泰、裕隆Q3賺很大\\n 工商時報 陳信榮 2020.11.13\\n https://ctee.com.tw/news/industry/369122.html\\n \\n \\n 新店裕隆城施工近況＆合環LANDMARK基地 發佈日期2020.11.13\\n \\n \\n \\n \\n \\n \\n 銷售量這麼低，什麼零件都自製只會虧的更多更慘，就算是全部自製，您就會買嗎？\\n 全世界大車廠都在搞合作聯盟了，小型車廠的生存空間更小了，多說好話，存好心。',\n",
              "  'post1_en': 'On the first day of capital reduction, Yulong opened a high tiger -headed snake tail. Hon Hai\\'s performance was much better than Yulong. Yulong had to cheer. Didn\\'t Yulon Group Yuan want asset activation? Where is the power? If you are optimistic, the group or operator will buy it for shareholders!\\n \\n \\n Zero -stock trading on the market counts a few weeks\\n Industrial and Commercial Times Chen Yuguang 2020/10/20\\n https://www.chinatimes.com/newspapers/202010200200154-260202\\n \\n On the first day of the listing of Yulong\\'s capital, the popularity of the market will be opened on the first day of listing\\n Industrial and Commercial Times Chen Xinrong 2020.10.20\\n https://ctee.com.tw/news/stock/354497.html\\n \\n Hon Hai and Yulong joined hands to enter the electric vehicle industry \"Honghua Advanced\" to announce the new EV platform architecture\\n United News Network Achaka 2020-10-20\\n https: //Autos.udn.com/AutoS/Story/7825/4947821\\n \\n Hon Hai announced the new dawn of the MIH open electric vehicle architecture platform, Yulong Group Luxgen brand?\\n CARSTUFF people car Jason Hu October 19, 2020\\n https://tw.news.yahoo.com\\n \\n Accelerate the transformation of the automotive industry, EMS card position electric car business opportunities\\n New Journal of Science and Technology Moneydj, October 19, 2020\\n https://www.moneydj.com/kmdj/news/newsViewer.aspx?a=aaf54ee5-3e91-4EDB-89BE-790D72B752B\\n \\n Hon Hai will attack the electric vehicle market with the \"solid -state battery\" in 2024. Guo Dong\\'s car dream is about to come true?\\n Technology Orange Newspaper Central News Agency 2020/10/19\\n https://buzzorange.com/techorange/2020/10/19/foxconn_electric-very_battery_technology//\\n \\n Mike Crazy / Hon Hai Show \"Technology Day\" show muscles also watch the door\\n Zhongguang News Network October 19, 2020\\n https://tw.news.yahoo.COM\\n \\n Grand Leap Forward Luxgen\\'s new Restant masterpiece URX subverts the past!\\n \\n \\n Abandoning the traditional custard to redefine the charm of medium -sized RVs!\\n \\n \\n How can Hon Hai join hands with Yulong for the two major groups?',\n",
              "  'post2_en': \"Luxgen determined to withdraw from the Chinese market\\n \\n \\n Yulong was liquidated by Yulong's exit of the Chinese market subsidiary Dongyu sales bankruptcy\\n ETTODAY News Yun Zhou Kangyu 2020/11/13 17:04\\n https://www.ettoday.net/news/20201113/1853842.HTM\\n \\n Yulong (2201) announced today (13) that due to its brand Luxgen determined to withdraw from the Chinese market. Enter the bankruptcy liquidation program.\\n \\n Dongyu Sales is a dealer of Nazhijie in mainland China. It specializes in selling Nazhijie brand models and provided related sales services. However, the company has no substantial operation in 2018, and local sales and after -sales services have been responsible for other dealers. Yulong emphasized that the current mainland's Nazhijie brand sales business is not affected.Yulong said that after Dongyu's sales entered the bankruptcy process, Yulong Automobile will assist in cooperating with the court to handle related matters in accordance with the law. In the future, Yulon Automobile will conduct accounting in accordance with the actual debt status. At present, the bankruptcy and liquidation incident will be evaluated. It will not cause major financial expenditures or liabilities on Yulong Automobile, and there is no major negative financial impact.\\n \\n Yulong said that the company has recognized the profit and loss of Dongyu sales, and this incident will not affect the financial statements announced in the first three quarters of Yulon Motors in the first three quarters of 109 years.\\n \\n \\n The mainland joint venture subsidiary was invited to liquidate Yulong officially responded\\n Mirror Weekly Cao Yibin 2020/11/13 17:49\\n https: //www.mirrormedia.MG/Story/20201113Fin009/\\n \\n Yulonna Zhijie brand withdraws from China Dongyu sales bankruptcy liquidation\\n 2 钜 网 Wang Wanning 2020/11/13 17:39\\n https://news.cnyes.com/news/id/4542742\\n \\n The car market is soaring, Thailand and Yulong q3 make a lot of money\\n Industrial and Commercial Times Chen Xinrong 2020.11.13\\n https://ctee.com.tw/news/industry/369122.html\\n \\n \\n The current situation of Yulong City, the new store & Hehuan LANDMARK Base Release Date 2020.11.13\\n \\n \\n \\n \\n \\n \\n The sales volume is so low, all parts will only lose more and more worse. Even if it is self -made, will you buy it?\\n Large car manufacturers around the world are engaged in the cooperation alliance. The living space of small car manufacturers is even smaller.\"},\n",
              " {'index': 534,\n",
              "  'post1': '今天這一根，多方是忍多久了，回到了減資後第一天價格帶，甚至超過，今天太戲劇化了！\\n 難道是反應蘋果自駕車的新聞！昨天的10倍成交量，都哪來的啊！\\n 網兄連結的股市爆料同學會中，一位留言（佛系投資國中生）的預測很厲害，今天開盤前貼文：\\n 今天必定表態上攻\\n 均線已到甜蜜點 加上宏遠即將拋售完畢\\n 那隻光明的手會指引到前波新高的位置\\n 加碼最後時機\\n 37是底部\\n \\n 真是高人～～！',\n",
              "  'post2': '裕隆營運體質轉好 11月獲利8.37億元 年增463%\\n 鉅亨網王莞甯 2021/01/05\\n https://news.cnyes.com/news/id/4556389\\n \\n 納智捷1月力拼銷售900台汽車 挑戰兩年單月銷量新高\\n 經濟日報 邱馨儀 2021-01-05\\n https://udn.com/news/story/7241/5149689\\n \\n 車市旺 去年掛牌45.7萬輛\\n 經濟日報 邱馨儀 2021-01-05\\n https://money.udn.com/money/story/12926/5147879\\n \\n 國產車光復年 有三大功臣\\n 經濟日報 邱馨儀 2021-01-05\\n https://money.udn.com/money/story/5612/5147576\\n \\n 搭上特斯拉、Apple Car順風車 元大電動車N爆量收最高\\n 經濟日報 盧宏奇 2021-01-05\\n https://money.udn.com/money/story/5618/5150158\\n \\n 特斯拉熱銷 11檔概念股開紅盤\\n 工商時報 李娟萍2021.01.05\\n https://ctee.com.tw/news/stock/397473.html\\n \\n 鴻海3+3拚轉型 揪團組電動車國家隊\\n 自由時報 2021/01/05\\n https://ec.ltn.com.tw/article/paper/1423497\\n \\n 義法汽車巨頭合併 全球第四大車企將問世\\n 德國之聲 2021-01-04\\n https://tw.news.yahoo.com\\n \\n 嚴陳莉蓮 出手精準\\n 經濟日報 曾仁凱 2021-01-04\\n https://money.udn.com/money/story/5612/5144713\\n \\n 裕隆改造 要活化嘉裕廠地\\n 經濟日報 曾仁凱 2021-01-04\\n https://money.udn.com/money/story/5612/5144716\\n \\n Apple Car滿載希望！劉揚偉點出電動車未來新趨勢\\n 經濟日報 謝艾莉 2021-01-04\\n https://money.udn.com/money/story/5612/5145747\\n \\n Apple Car點火 7檔概念股吸金\\n 工商時報 陳信榮 2021.01.04\\n https://ctee.com.tw/news/stock/396941.html\\n \\n 鴻海噴漲直逼百元大關 劉揚偉：ICT將成電動車「大贏家」\\n 東森財經新聞 2021/01/04\\n https://fnc.ebc.net.tw/fncnews/stock/130217\\n \\n 劉揚偉：鴻海研究院鎖定3大產業 助提升毛利率\\n 中央社 2021/01/04\\n https://www.cna.com.tw/news/afe/202101040033.aspx\\n \\n 鴻海與拜騰合作 推動2022年首季量產電動車\\n 中央社 2021/01/04\\n https://www.cna.com.tw/news/afe/202101040263.aspx\\n \\n 觀察裕隆的籌碼買賣超一段時間了，我發現以前籌碼看起來好的時候，裕隆也不太會漲，甚至還會跌，現在籌碼狀況看起來變差了，反而比較會漲，真奇怪。難道是有人用1個帳戶賣1000張，然後同時用20個人頭帳號，各買100張回來，實在想不懂。外資投信都賣了1000多張，主力看起來也是賣超，股價怎麼還可以漲這麼多，看看明天裕隆會怎麼走了。能力與威勢越大者，當肩負起更大的責任，否則這些能力或威勢終將離你而去，因為你不配擁有持有它。\\n \\n \\n \\n 外資投信真真假假，誰是真誰是假\\n 首播日期：2021年1月4日\\n \\n Apple Car讓特斯拉慌了？MIH EV讓造車像造香腸？\\n 首播日期：2021年1月5日',\n",
              "  'post1_en': \"Today, this one has been tolerated for a long time, and the price belt on the first day after returning to the capital reduction, even surpassing, today is too dramatic!\\n Could it be news about Apple self -driving! Yesterday's 10 -fold transaction volume came from!\\n In the stock market linked by the net brother, in the classmate society, a message (Buddhist investment in the middle school students) was very good.\\n Today, I must attack\\n The moving average has reached the sweet point plus Hongyuan is about to be sold\\n That bright hand will guide the new high position of the front wave\\n Over the last time\\n 37 is the bottom\\n \\n What a high man ~~!\",\n",
              "  'post2_en': 'Yulong\\'s operating constitution has changed in November profit of 837 million yuan, an annual increase of 463%\\n 20 网 2021/01/05\\n https://news.cnyes.com/news/id/4556389\\n \\n Nazhijie sold 900 cars in January to challenge the two -year single -month sales new high\\n Economic Daily Qiu Xinyi 2021-01-05\\n https://udn.com/news/story/7241/5149689\\n \\n The car market was listed last year 457,000 units\\n Economic Daily Qiu Xinyi 2021-01-05\\n https://money.udn.com/money/story/12926/5147879\\n \\n There are three major heroes\\n Economic Daily Qiu Xinyi 2021-01-05\\n https://money.udn.com/money/story/5612/5147576\\n \\n Take the Tesla, Apple CAR Shunfeng Macau large electric vehicle N explosion, the highest volume\\n Economic Daily Lu Hongqi 2021-01-05\\n https://money.udn.com/money/story/5618/5150158\\n \\n Tesla sells 11 concept stocks to open the red disk\\n Industry and Commerce Li Juanping 2021.01.05\\n https://ctee.com.tw/news/stock/397473.html\\n \\n Hon Hai 3+3 Stepping Transformed Stealing Group Electric Vehicle National Team\\n Liberty Times 2021/01/05\\n https://ec.ltn.com.tw/article/paper/1423497\\n \\n Yifa Automobile Giants and the Fourth Global Fourth Car Company will come out\\n Voice of Germany 2021-01-04\\n https://tw.news.yahoo.com\\n \\n Yan Chen Lilian is accurate\\n Economic Daily Zeng Renkai 2021-01-04\\n https://money.udn.com/money/story/5612/5144713\\n \\n Yulong transformation must activate the Jiayu factory land\\n Economic Daily Zeng Renkai 2021-01-04\\n https://money.udn.com/money/story/5612/5144716\\n \\n Apple CAR is full of hope! Liu Yangwei ordered the new trend of electric vehicles in the future\\n Economic Daily Xie Aili 2021-01-04\\n https://money.udn.com/money/story/5612/5145747\\n \\n Apple CAR ignition the 7th gear concept stock sucking gold\\n Industrial and Commercial Times Chen Xinrong 2021.01.04\\n https://ctee.com.tw/news/stock/396941.html\\n \\n Hon Hai sprayed up to the 100 -dollar Pass Liu Yangwei: ICT will become an electric car \"big winner\"\\n Dongsen Finance News 2021/01/04\\n https://fnc.ebc.net.tw/fncnews/stock/130217\\n \\n Liu Yangwei: Hon Hai Research Institute locks 3 major industries to increase gross profit margin\\n Central News Agency 2021/01/04\\n https://www.cna.com.tw/news/afe/202101040033.aspx\\n \\n Hon Hai and Byton cooperate to promote the mass production electric vehicle in the first quarter of 2022\\n Central News Agency 2021/01/04\\n https://www.cna.com.tw/news/afe/202101040263.aspx\\n \\n Observing Yulon\\'s chips for more than a period of time, I found that when the chips looked good before, Yulong did not rise, and even fell. Now the chip condition looks worse, but it will rise, which is strange. Is it because someone sells 1,000 sheets with 1 account, and then uses 20 head accounts at the same time to buy 100 backs each. I really don\\'t understand. Foreign investment letters have sold more than 1,000 copies, and the main force seems to be super -selling. How can the stock price rise so much? See how Yulong will go tomorrow. Those who have greater power and power, when we shoulder greater responsibilities, these abilities or power will eventually leave you because you are not worthy of holding it.Foreign investment letter is true and false, who is true and who is false\\n Premiere Date: January 4, 2021\\n \\n Apple Car made Tesla panic? Mih EV makes cars like sausage?\\n Premiere Date: January 5, 2021'},\n",
              " {'index': 536,\n",
              "  'post1': '觀望中,如果第四季繼續虧,淨值跌破5元,變全額交割股就麻煩了.\\n =========\\n 有可能啊',\n",
              "  'post2': '今天破5後一路南下',\n",
              "  'post1_en': 'In watching and seeing, if the fourth quarter continues to lose, the net worth will fall below 5 yuan, and the full delivery stock will be troublesome.\\n =========\\n It is possible',\n",
              "  'post2_en': 'After breaking 5 today, go south all the way to the south'},\n",
              " {'index': 538,\n",
              "  'post1': '來了來了\\n \\n 上沖下洗\\n \\n 先拉後跌先洗個幾輪\\n \\n 意志不堅的賭徒就被洗出場了\\n \\n 真爽',\n",
              "  'post2': '這支又不是拿來當存股的!!\\n \\n 賭一把就好!!',\n",
              "  'post1_en': \"I'm coming\\n \\n Rush down and down\\n \\n Wash a few rounds first after pulling first\\n \\n Gamblers with unknown will be washed out\\n \\n So refreshing\",\n",
              "  'post2_en': 'This one is not used as a deposit !!\\n \\n Just bet on it !!'},\n",
              " {'index': 540,\n",
              "  'post1': '衝衝衝衝衝衝衝衝衝 外資 持續買衝衝衝衝衝衝衝衝衝 外資 持續買',\n",
              "  'post2': '陽明的另一個財務黑洞是光明海運，是佔股比重86%的大股東，光明海運專營散裝事業。',\n",
              "  'post1_en': 'Foreign capital rushing rushing rushing rushing rushing rushing rushing rushing rushing rushing rushing to foreign capital to continue buying',\n",
              "  'post2_en': 'Another financial black hole in Yangming is the Guangming Shipping, which is a major shareholder of 86%of the stocks.'},\n",
              " {'index': 542,\n",
              "  'post1': '這麼就一直飛\\n \\n 有點不健康\\n \\n 要洗也不要這麼明顯吧！\\n \\n 害我小鹿亂撞\\n \\n 會忍不住想賣乀⋯⋯',\n",
              "  'post2': '怎麼最近要減資拼命掉？',\n",
              "  'post1_en': \"So fly\\n \\n A little unhealthy\\n \\n Don't be so obvious if you want to wash it!\\n \\n Harcons my little deer randomly\\n \\n I can't help but want to sell ⋯ ⋯ ⋯ ⋯ ⋯ ⋯\",\n",
              "  'post2_en': 'Why do you want to reduce capital recently?'},\n",
              " {'index': 544,\n",
              "  'post1': '不知道樓主撿了幾張了~~~跌跌跌',\n",
              "  'post2': '短線是可以期待減資後拉個幾天，中長線還是比較看好長榮。\\n 雖然相信謝志堅的領導能力及魄力，但要改造一家爛到骨子裡的公司，絕非一\\n 、二年能成功的。',\n",
              "  'post1_en': 'I don’t know if the original poster has picked up a few photos ~~~',\n",
              "  'post2_en': 'The short -term can be expected to pull the capital for a few days, and the medium and long lines are more optimistic about Evergreen.\\n Although I believe Xie Zhijian’s leadership ability and courage, it is not a company to transform a company that rotten to the bones.\\n It can succeed in two years.'},\n",
              " {'index': 546,\n",
              "  'post1': '早盤11.5出了40張\\n 尾盤11.3再買進20張 等今天營收出爐😀',\n",
              "  'post2': 'https://kknews.cc/world/qyvme88.html\\n \\n 美國司法部，展開反壟斷調查，運費準備綽賽了.....',\n",
              "  'post1_en': \"In the morning 11.5, 40 photos were released\\n Tail set 11.3 Buy another 20 photos and wait for today's revenue to be released 😀\",\n",
              "  'post2_en': 'https://kknews.cc/world/qyvme88.html\\n \\n The U.S. Department of Justice launched an antitrust investigation, and the freight preparation was ready .....'},\n",
              " {'index': 548,\n",
              "  'post1': '怎麼上去就怎麼下來～呵呵！',\n",
              "  'post2': '很久沒動靜的航運股\\n 陽明衝上15? 長榮衝上20?',\n",
              "  'post1_en': 'How can I come down ~ huh!',\n",
              "  'post2_en': 'Shipping stocks that have not been moved for a long time, no movement stocks, no movement stocks, no movement stocks\\n Yangming rushed to 15? Evergreen rushed to 20?'},\n",
              " {'index': 550,\n",
              "  'post1': '終於站上14塊了 後期可待 其實也滿好奇 因該是長榮海帶頭漲 陽明漲才對 怎麼陽明漲的比長榮海漲還多',\n",
              "  'post2': '看起來是散戶在倒貨，大股東在吃貨。',\n",
              "  'post1_en': 'Finally standing on the 14 yuan, it is very curious. In fact, I am curious. Because it should be the head of Evergreen, Yangming rises to rises.',\n",
              "  'post2_en': 'It seems that retail investors are pouring goods, and big shareholders are eating.'},\n",
              " {'index': 552,\n",
              "  'post1': '陽明終於擺脫連日下跌，\\n 今日反彈內資轉買、外資續賣，看最後那個大人厲害。',\n",
              "  'post2': '12.3了 @-@ 還打算增資嗎',\n",
              "  'post1_en': 'Yangming finally got rid of the decline in the next day,\\n Today, the domestic capital was transferred and the foreign investment was renewed to see the last adult.',\n",
              "  'post2_en': '12.3 @ @ 12 12 12?'},\n",
              " {'index': 554,\n",
              "  'post1': '等著看現金增資，目前股價12.25',\n",
              "  'post2': '【財訊快報／劉居全報導】陽明海運(2609)於今(9)日召開董事會通過第三季財務報告以及未來於東南亞市場投資計畫案，2017年第三季合併營收357.81億元，較去年同期成長23.40%，每股盈餘0.7元，單季轉虧為盈。\\n \\n 受益於傳統旺季貨量的展現，第三季營運量達124.2萬TEU，相較去年同期111.8萬TEU，成長11.1%；在2017年整體海運市場有所回升的助益下，平均運價相較去年有上漲的趨勢，第三季整體營收有明顯的成長表現，營業淨利為15.48億元，稅後淨利為12.64億元；累計前三季營業淨利為5.01億元，稅後淨損為0.82億元，相較去年前三季已大幅減虧99%。\\n \\n 陽明海運表示，營運績效已有顯著改善，主要是成功的開源節流營運策略，如集中化管理、優化櫃流管控與營運成本節省等均充分降低成本開支，並利用邊際貢獻為攬貨管理標準，擬定各項業務政策，更能夠突顯出航線整體營運量成長並帶動增裕營收的效益，於今年第三季終止過去數季連續虧損。\\n \\n 在大股東的支持與現金增資完成後，將可有效強化財務結構，未來並可視情況調增船隊規模及擴大服務營運網絡。同時，運用最近加入新聯盟的優勢與東協國家經濟的蓬勃發展，以及配合政府的新南向政策，於今日董事會通過與臺灣港務公司的印尼合作投資案，並將持續與相關業者在其他國家共同發展航運物流有關之投資計畫，以服務台商並提升台灣產業整體競爭力。\\n \\n 此外，針對全球區域性航運業蓬勃發展，於今日董事會通過將在地中海、黑海地區成立區域營運中心，以發展區域航線與現有長線之綜效。',\n",
              "  'post1_en': 'Waiting to watch cash increase, the current stock price is 12.25',\n",
              "  'post2_en': \"[Caixin Express / Liu Juquan Report] Yangming Shipping (2609) held the board of directors to pass the third quarter financial report and the future investment plan for the Southeast Asian market. In the same period, it grew 23.40%, and the surplus per share was 0.7 yuan.\\n \\n Benefiting from the display of the traditional peak season, the operating volume in the third quarter reached 1.242 million TEU, an increase of 11.1%compared to the 1.18 million TEU in the same period last year. In 2017, the overall shipping market has recovered. Last year, there was a tendency to rise. In the third quarter, the overall revenue had a significant growth performance. The net profit was 1.548 billion yuan, and the net profit after tax was 1.264 billion yuan. The cumulative net profit in the first three quarters was 5.1.1 billion yuan, net loss after tax is 0.8.2 billion yuan, a significant loss of 99%compared to the first three quarters of last year.\\n \\n Yangming Sea Transport said that operating performance has improved significantly, mainly due to the successful open source and throw operation strategy, such as centralized management, optimizing cabinet flow control and operation cost savings, etc., all of which have fully reduced costs and expenses. Various business policies can also highlight the overall operating volume of the route and drive the benefits of increasing revenue. In the third quarter of this year, the past few seasons have continued to lose money.\\n \\n After the support and cash increase of major shareholders, the financial structure will be effectively strengthened, the scale of the fleet increases and expands the service operation network in the future and can be increased by the situation.At the same time, using the advantages of recently joining the new alliance and the booming economic development of the ASEAN countries, and cooperating with the government's new southbound policy, today the board of directors has adopted the Indonesian cooperation investment case with Taiwan Port Company, and will continue to be with relevant industry in other countries in other countries. Co -developed investment plans related to shipping logistics to serve Taiwanese businessmen and enhance the overall competitiveness of Taiwan's industry.\\n \\n In addition, the global regional shipping industry is booming. Today, the board of directors will set up regional operation centers in the Mediterranean and Black Sea regions today to develop regional routes and existing long lines.\"},\n",
              " {'index': 556,\n",
              "  'post1': 'https://weiwenku.net/d/100700579\\n \\n 11月23日 買在12.15元\\n 大股東增資價12元\\n 與大股東價格差不多\\n 放長期 應該有機會吧！',\n",
              "  'post2': '陽明海運大概是2021年的大怒神，有人上船了嗎?從籌碼看起來，最近很多人獲利了結下船了。來討論一下這檔大怒神啦!',\n",
              "  'post1_en': 'https://weiwenku.net/d/100700579\\n \\n Buy November 23 at 12.15 yuan\\n Big shareholders increase the amount of 12 yuan\\n Similar to the price of major shareholders\\n There should be a chance to put it in the long run!',\n",
              "  'post2_en': 'Yangming Shipping is about 2021. Does anyone get on board? From the perspective of chips, many people have recently made a profit. Come and discuss this anger!'},\n",
              " {'index': 558,\n",
              "  'post1': '哈哈，昨天漲停板。突破上升壓力的區間，繼續抱緊緊的，一張不賣，奇蹟自來。',\n",
              "  'post2': '哈哈！有沒有被洗出去了？\\n 我一張都沒賣，持續穩定獲利成長中。',\n",
              "  'post1_en': 'Haha, the daily limit yesterday. Break through the interval of rising pressure, continue to hold tightly, one without selling, miracle tap.',\n",
              "  'post2_en': \"Ha ha! Have you been washed out?\\n I didn't sell it all, and I continued to stabilize the profit growth.\"},\n",
              " {'index': 560,\n",
              "  'post1': '賺翻了。有沒有賺翻的網友，來簽名報到一下？',\n",
              "  'post2': '殺吧，今天殺股票。\\n 套句老王的話 這檔吃成大胖子囉\\n 續抱\\n \\n 有酸民很酸的喲 心態不好 \\n 轉變態度 趕緊上車才是\\n 投信這陣子大買 投信又不傻 跟啊',\n",
              "  'post1_en': 'Earn it. Are there any netizens who make a turn? Sign signed and reporting?',\n",
              "  'post2_en': 'Kill, kill stocks today.\\n The words of the king of the sentence are eaten as a big fat man.\\n Renew\\n \\n The sour people are very sour yo, the mentality is not good\\n The change of attitude is to get in the car quickly\\n Investment for a while, I bought an investment letter but not stupid'},\n",
              " {'index': 562,\n",
              "  'post1': '有賺就好，只是可惜了，被洗掉了。',\n",
              "  'post2': '一張不賣奇蹟自來',\n",
              "  'post1_en': 'It ’s just a pity that it was washed away.',\n",
              "  'post2_en': 'A miracle tap'},\n",
              " {'index': 564,\n",
              "  'post1': '昨天手真的太癢\\n 掛跌停小買一張\\n 竟然有買到\\n \\n 爽啦',\n",
              "  'post2': '長榮沒意外的話，週四要被關了\\n 陽明接下來有機會超車',\n",
              "  'post1_en': 'Yesterday it was really itchy\\n Buy one in the limit of the limit\\n I bought it\\n \\n Cool',\n",
              "  'post2_en': 'If Evergreen is not surprised, it will be closed on Thursday\\n Yangming will have a chance to overtake next'},\n",
              " {'index': 566,\n",
              "  'post1': '今天早盤拉上去的時候\\n 想不開\\n 就跳海了\\n 剩下的給別人賺\\n 祝大家多空都賺大錢\\n 跳海後\\n 不再上船了\\n 事實上\\n 也要觀望好多年之後再說了\\n 掰掰了\\n 感謝陽明',\n",
              "  'post2': '今天還能拉漲停的話\\n \\n 那他真的是海賊王了\\n \\n 哈哈哈!!!!\\n \\n 不可能吧?!\\n \\n 有這麼狂的嗎??!!!!!',\n",
              "  'post1_en': 'When I pulled up this morning, I went up early\\n take things too hard\\n Just jump the sea\\n The rest can be made for others\\n I wish you all a lot of money\\n After jumping the sea\\n No longer on board\\n In fact\\n I have to wait and see for many years and talk about it\\n Stab\\n Thank you Yangming',\n",
              "  'post2_en': 'If you can pull the daily limit today\\n \\n Then he is really one Piece\\n \\n Hahaha!!!!\\n \\n impossible?!\\n \\n Is it so crazy ?? !!!!!'},\n",
              " {'index': 568,\n",
              "  'post1': '不知各位對於這隻股的看法如何?? 是在2010/11 Money 雜誌上看到推薦這隻股,看他的EPS從第一季開始回升,到第三季時有1.99元,全年上看5元以上,但是去年EPS是-6.2左右,當時沒想那麼多 ,在24.4元買了10張,不過到現在還是賠....我個人的想法是想繼續放著...因為預計他的股利應該會有3元,所以擺著,昨天開始開始回漲,今天只小漲0.1元,但成交張數較昨天為高,最低點為昨天的收盤價,想聽聽看各位的想法如何?? 以它目前的本益比估起來才4點多,我覺得他應該有個7~8倍才對,哈,不知道會不會過度樂觀,反正我就擺著了,第四季雖然不好,但是第一季以後應該會漸漸再轉好吧,如果油價能下降的話,那就更好了...唯一擔心的就是現在大盤已經偏高了,不知道如果大盤往下的話,這隻股票會不會也被他拖累~~',\n",
              "  'post2': '近期外資回補了八萬多張，\\n 看起來後勢可期^^',\n",
              "  'post1_en': \"I wonder what the opinion of this stock ?? I saw this stock in the 2010/11 Money Magazine. Seeing that his EPS began to pick up from the first season, there was 1.99 yuan in the third season. 5 yuan or more, but last year's EPS was around -6.2. I didn't think so much at that time. I bought 10 photos at 24.4 yuan, but I still pay for it .... My personal idea is to continue to put it ... because it is expected that he is expected The dividend should be 3 yuan, so it was put, and it began to rise yesterday. Today, it only rose slightly 0.1 yuan, but the number of transactions is higher than yesterday. The lowest point is yesterday’s closing price. I want to hear how you think about your current interest ratio. I think he should have one 7 ~ 8 times right, ha, I do n’t know if it will be too optimistic, anyway, I put it. Although the fourth season is not good, it should be gradually turned after the first season. That's better ... the only thing to worry about is that the market is already high now. I don't know if the market will be dragged down by him if the market goes down ~~\",\n",
              "  'post2_en': 'Recently, foreign capital has replenished more than 80,000 pieces,\\n It looks like a post -trend ^^'},\n",
              " {'index': 570,\n",
              "  'post1': 'BDI指數持續看漲，前10大航商組成三大聯盟，佔全球運力近八成，談價空間有利於航商，目前雞蛋水餃股陽明獲政府600億增援，加上管理層增資再減資手法，短期有撐，長期有利多請問大家看法如何?盡量潑我水吧',\n",
              "  'post2': '我朋友於去年4月跟我對賭\\n 說一年內鴻海的股價一定會落到40 (只要有碰到40就算)\\n 我欣然答應，賭一份西提\\n 眼見現在已經二月快結束了\\n 再加上三月共22個交易日\\n 請問鴻海在4月1日前跌到40的機會大嗎？\\n 有點怕會輸',\n",
              "  'post1_en': 'The BDI index continues to rise. The top 10 navigators formed three major alliances, accounting for nearly 80 % of global capacity. Talking about the price space is conducive to air vendors. There are support, long -term benefit of more than what everyone thinks? Try to spill my water as much as possible',\n",
              "  'post2_en': \"My friend gambled me in April last year\\n It is said that Hon Hai’s stock price will definitely fall to 40 (as long as you encounter 40)\\n I readily agreed, gamble a Siti\\n Seeing that there is now in February, it is almost over\\n Coupled with a total of 22 trading days in March\\n Is Hon Hai's chance to fall to 40 before April 1?\\n A little afraid to lose\"},\n",
              " {'index': 572,\n",
              "  'post1': '鴻海減資前收盤價收 68.1\\n 減資 20%\\n 減資後的開盤參考價是 82.6\\n \\n 如果是減資前買的套牢族，要解套的話，最好在多少錢賣呢?\\n \\n 假如你的持有成本是 120，則 (120-2) / (800/1000) = 147.5 (假設最高買在數年前的最高點，沒有更高的吧?)\\n 假如你的持有成本是 115，則 (115-2) / (800/1000) = 141.25\\n 假如你的持有成本是 110，則 (110-2) / (800/1000) = 135\\n 假如你的持有成本是 105，則 (105-2) / (800/1000) = 128.75\\n 假如你的持有成本是 100，則 (100-2) / (800/1000) = 122.5\\n 假如你的持有成本是 95，則 (95-2) / (800/1000) = 116.25\\n 假如你的持有成本是 90，則 (90-2) / (800/1000) = 110\\n 假如你的持有成本是 85，則 (85-2) / (800/1000) = 103.75\\n 假如你的持有成本是 80，則 (80-2) / (800/1000) = 97.5\\n 假如你的持有成本是 75，則 (75-2) / (800/1000) = 91.25\\n 假如你的持有成本是 70，則 (70-2) / (800/1000) = 85 (恭喜，已解套)\\n \\n p.s. 如果你考量配息因素，純粹想儘快拿回本金，則略減配息即可\\n \\n 預祝各位解套愉快!!',\n",
              "  'post2': '睽違已久的再創新高點\\n \\n ???什麼，我看錯了??\\n \\n 沒有阿，真的創新高了阿\\n \\n 您沒看見嗎???\\n \\n 從疫情爆發開始，散戶唯一指定，必買不可的股票\\n \\n 套牢人數，再創新高，不是嗎??\\n \\n 您，有追嗎??',\n",
              "  'post1_en': \"Hon Hai's closing price before paying capital 68.1\\n 20% of capital reduction\\n The reference price after reducing capital is 82.6\\n \\n If it is a settlement family bought before the capital reduction, how much is it to sell?\\n \\n If your holding cost is 120, then (120-2) / (800/1000) = 147.5 (assuming the highest point of the highest buying at the highest point a few years ago, there is no higher?)\\n If your holding cost is 115, (115-2) / (800/1000) = 141.25\\n If your holding cost is 110, (110-2) / (800/1000) = 135\\n If your holding cost is 105, (105-2) / (800/1000) = 128.75\\n If your holding cost is 100, (100-2) / (800/1000) = 122.5\\n If your holding cost is 95, then (95-2) / (800/1000) = 116.25\\n If your holding cost is 90, then (90-2) / (800/1000) = 110\\n If your holding cost is 85, (85-2) / (800/1000) = 103.75\\n If your holding cost is 80, (80-2) / (800/1000) = 97.5\\n If your holding cost is 75, (75-2) / (800/1000) = 91.25\\n If your holding cost is 70, then (70-2) / (800/1000) = 85 (congratulations, the settled set)\\n \\n P.S. If you consider the dividend distribution factors and want to get back the principal as soon as possible, you can slightly reduce the dividend distribution\\n \\n I wish you all a happy solution !!\",\n",
              "  'post2_en': \"Creating a new high for a long time\\n \\n What ??? I read it wrong ??\\n \\n No, it's really innovative\\n \\n Didn't you see it ???\\n \\n Starting from the outbreak of the epidemic, the only designated by retail investors, you must buy indispensable stocks\\n \\n The number of people who claims, renew the high, isn't it ??\\n \\n Are you chasing ??\"}]"
            ]
          },
          "metadata": {},
          "execution_count": 127
        }
      ],
      "source": [
        "answers"
      ]
    },
    {
      "cell_type": "code",
      "source": [
        "import random\n",
        "import sys\n",
        "import time\n",
        "\n",
        "def slowprint(s):\n",
        "    for c in s + '\\n':\n",
        "        sys.stdout.write(c)\n",
        "        sys.stdout.flush() # defeat buffering\n",
        "        time.sleep(random.random() * 0.1)"
      ],
      "metadata": {
        "id": "VU3CGIgyd68t"
      },
      "execution_count": null,
      "outputs": []
    },
    {
      "cell_type": "code",
      "execution_count": null,
      "metadata": {
        "id": "ciM1vp-22HOG"
      },
      "outputs": [],
      "source": [
        "from tqdm import tqdm"
      ]
    },
    {
      "cell_type": "code",
      "source": [
        "res = []\n",
        "cnt = 0\n",
        "for a in tqdm(answers, total=len(answers), position=0, leave=True):\n",
        "  text = 'post1 : %s post2 : %s  </s>' % (a['post1_en'], a['post2_en'])\n",
        "  input_encodings = tokenizer(text, return_tensors=\"pt\", padding='max_length', max_length=200)\n",
        "  outputs = model.generate(input_encodings['input_ids'].to('cuda'), max_new_tokens=200)\n",
        "  r = tokenizer.decode(outputs[0], skip_special_tokens=True)\n",
        "  cnt += 1\n",
        "  if cnt % 5 == 0:\n",
        "    slowprint(r)\n",
        "  res.append(r)"
      ],
      "metadata": {
        "id": "VNZi-FyBLf9N",
        "colab": {
          "base_uri": "https://localhost:8080/"
        },
        "outputId": "bb12cf8d-ffdb-4179-be46-3735bb6bc555"
      },
      "execution_count": null,
      "outputs": [
        {
          "output_type": "stream",
          "name": "stderr",
          "text": [
            "\r  0%|          | 0/87 [00:00<?, ?it/s]/usr/local/lib/python3.7/dist-packages/transformers/models/t5/tokenization_t5.py:220: UserWarning: This sequence already has </s>. In future versions this behavior may lead to duplicated eos tokens being added.\n",
            "  f\"This sequence already has {self.eos_token}. In future versions this behavior may lead to duplicated\"\n",
            "  5%|▍         | 4/87 [00:00<00:20,  4.03it/s]"
          ]
        },
        {
          "output_type": "stream",
          "name": "stdout",
          "text": [
            "maximal potential profit (MPP) : 1 maximal loss (ML) : 1\n"
          ]
        },
        {
          "output_type": "stream",
          "name": "stderr",
          "text": [
            " 10%|█         | 9/87 [00:04<00:35,  2.20it/s]"
          ]
        },
        {
          "output_type": "stream",
          "name": "stdout",
          "text": [
            "maximal potential profit (MPP) : 1 maximal loss (ML) : 1\n"
          ]
        },
        {
          "output_type": "stream",
          "name": "stderr",
          "text": [
            " 16%|█▌        | 14/87 [00:09<00:36,  2.02it/s]"
          ]
        },
        {
          "output_type": "stream",
          "name": "stdout",
          "text": [
            "maximal potential profit (MPP) : 1 maximal loss (ML) : 1\n"
          ]
        },
        {
          "output_type": "stream",
          "name": "stderr",
          "text": [
            " 22%|██▏       | 19/87 [00:13<00:33,  2.00it/s]"
          ]
        },
        {
          "output_type": "stream",
          "name": "stdout",
          "text": [
            "maximal potential profit (MPP) : 1 maximal loss (ML) : 1\n"
          ]
        },
        {
          "output_type": "stream",
          "name": "stderr",
          "text": [
            " 28%|██▊       | 24/87 [00:17<00:32,  1.92it/s]"
          ]
        },
        {
          "output_type": "stream",
          "name": "stdout",
          "text": [
            "maximal potential profit (MPP) : 1 maximal loss (ML) : 1\n"
          ]
        },
        {
          "output_type": "stream",
          "name": "stderr",
          "text": [
            " 33%|███▎      | 29/87 [00:21<00:28,  2.01it/s]"
          ]
        },
        {
          "output_type": "stream",
          "name": "stdout",
          "text": [
            "maximal potential profit (MPP) : 1 maximal loss (ML) : 1\n"
          ]
        },
        {
          "output_type": "stream",
          "name": "stderr",
          "text": [
            " 39%|███▉      | 34/87 [00:26<00:27,  1.94it/s]"
          ]
        },
        {
          "output_type": "stream",
          "name": "stdout",
          "text": [
            "maximal potential profit (MPP) : 1 maximal loss (ML) : 1\n"
          ]
        },
        {
          "output_type": "stream",
          "name": "stderr",
          "text": [
            " 45%|████▍     | 39/87 [00:30<00:23,  2.03it/s]"
          ]
        },
        {
          "output_type": "stream",
          "name": "stdout",
          "text": [
            "maximal potential profit (MPP) : 1 maximal loss (ML) : 1\n"
          ]
        },
        {
          "output_type": "stream",
          "name": "stderr",
          "text": [
            " 51%|█████     | 44/87 [00:34<00:22,  1.94it/s]"
          ]
        },
        {
          "output_type": "stream",
          "name": "stdout",
          "text": [
            "maximal potential profit (MPP) : 1 maximal loss (ML) : 1\n"
          ]
        },
        {
          "output_type": "stream",
          "name": "stderr",
          "text": [
            " 56%|█████▋    | 49/87 [00:38<00:20,  1.84it/s]"
          ]
        },
        {
          "output_type": "stream",
          "name": "stdout",
          "text": [
            "maximal potential profit (MPP) : 1 maximal loss (ML) : 1\n"
          ]
        },
        {
          "output_type": "stream",
          "name": "stderr",
          "text": [
            " 62%|██████▏   | 54/87 [00:43<00:17,  1.88it/s]"
          ]
        },
        {
          "output_type": "stream",
          "name": "stdout",
          "text": [
            "maximal potential profit (MPP) : 1 maximal loss (ML) : 1\n"
          ]
        },
        {
          "output_type": "stream",
          "name": "stderr",
          "text": [
            " 68%|██████▊   | 59/87 [00:47<00:15,  1.85it/s]"
          ]
        },
        {
          "output_type": "stream",
          "name": "stdout",
          "text": [
            "maximal potential profit (MPP) : 1 maximal loss (ML) : 1\n"
          ]
        },
        {
          "output_type": "stream",
          "name": "stderr",
          "text": [
            " 74%|███████▎  | 64/87 [00:51<00:11,  2.03it/s]"
          ]
        },
        {
          "output_type": "stream",
          "name": "stdout",
          "text": [
            "maximal potential profit (MPP) : 1 maximal loss (ML) : 1\n"
          ]
        },
        {
          "output_type": "stream",
          "name": "stderr",
          "text": [
            " 79%|███████▉  | 69/87 [00:56<00:09,  1.92it/s]"
          ]
        },
        {
          "output_type": "stream",
          "name": "stdout",
          "text": [
            "maximal potential profit (MPP) : 1 maximal loss (ML) : 1\n"
          ]
        },
        {
          "output_type": "stream",
          "name": "stderr",
          "text": [
            " 85%|████████▌ | 74/87 [01:00<00:07,  1.85it/s]"
          ]
        },
        {
          "output_type": "stream",
          "name": "stdout",
          "text": [
            "maximal potential profit (MPP) : 1 maximal loss (ML) : 1\n"
          ]
        },
        {
          "output_type": "stream",
          "name": "stderr",
          "text": [
            " 91%|█████████ | 79/87 [01:05<00:04,  1.92it/s]"
          ]
        },
        {
          "output_type": "stream",
          "name": "stdout",
          "text": [
            "maximal potential profit (MPP) : 1 maximal loss (ML) : 1\n"
          ]
        },
        {
          "output_type": "stream",
          "name": "stderr",
          "text": [
            " 97%|█████████▋| 84/87 [01:09<00:01,  2.02it/s]"
          ]
        },
        {
          "output_type": "stream",
          "name": "stdout",
          "text": [
            "maximal potential profit (MPP) : 1 maximal loss (ML) : 1\n"
          ]
        },
        {
          "output_type": "stream",
          "name": "stderr",
          "text": [
            "100%|██████████| 87/87 [01:13<00:00,  1.18it/s]\n"
          ]
        }
      ]
    },
    {
      "cell_type": "code",
      "source": [
        "with open('res_greedy.json','w') as f:\n",
        "  json.dump({'responses':res}, f)"
      ],
      "metadata": {
        "id": "W1Hqtd4bLtx8"
      },
      "execution_count": null,
      "outputs": []
    },
    {
      "cell_type": "code",
      "source": [
        "!cp -r /content/res_greedy.json /content/drive/MyDrive/ERAI22_T5-v1.1-small_GEN/"
      ],
      "metadata": {
        "id": "h0aN6263Ux0y"
      },
      "execution_count": null,
      "outputs": []
    },
    {
      "cell_type": "code",
      "execution_count": null,
      "metadata": {
        "colab": {
          "base_uri": "https://localhost:8080/"
        },
        "id": "-0P7gcFLtwhx",
        "outputId": "c0fec4d5-69cc-473e-f58f-2931b42c8b56"
      },
      "outputs": [
        {
          "output_type": "stream",
          "name": "stderr",
          "text": [
            "  6%|▌         | 5/87 [00:02<00:41,  1.96it/s]"
          ]
        },
        {
          "output_type": "stream",
          "name": "stdout",
          "text": [
            "maximal potential profit (MPP) : 1 maximal loss (ML) : 1\n"
          ]
        },
        {
          "output_type": "stream",
          "name": "stderr",
          "text": [
            " 11%|█▏        | 10/87 [00:04<00:32,  2.39it/s]"
          ]
        },
        {
          "output_type": "stream",
          "name": "stdout",
          "text": [
            "maximal potential profit (MPP) : 1 maximal loss (ML) : 1\n"
          ]
        },
        {
          "output_type": "stream",
          "name": "stderr",
          "text": [
            " 17%|█▋        | 15/87 [00:06<00:32,  2.22it/s]"
          ]
        },
        {
          "output_type": "stream",
          "name": "stdout",
          "text": [
            "maximal potential profit (MPP) : 1 maximal loss (ML) : 1\n"
          ]
        },
        {
          "output_type": "stream",
          "name": "stderr",
          "text": [
            " 23%|██▎       | 20/87 [00:09<00:31,  2.12it/s]"
          ]
        },
        {
          "output_type": "stream",
          "name": "stdout",
          "text": [
            "maximal potential profit (MPP) : 1 maximal loss (ML) : 1\n"
          ]
        },
        {
          "output_type": "stream",
          "name": "stderr",
          "text": [
            " 29%|██▊       | 25/87 [00:12<00:37,  1.66it/s]"
          ]
        },
        {
          "output_type": "stream",
          "name": "stdout",
          "text": [
            "maximal potential profit (MPP) : 1 maximal loss (ML) : 1\n"
          ]
        },
        {
          "output_type": "stream",
          "name": "stderr",
          "text": [
            " 34%|███▍      | 30/87 [00:14<00:29,  1.94it/s]"
          ]
        },
        {
          "output_type": "stream",
          "name": "stdout",
          "text": [
            "maximal potential profit (MPP) : 1 maximal loss (ML) : 1\n"
          ]
        },
        {
          "output_type": "stream",
          "name": "stderr",
          "text": [
            " 40%|████      | 35/87 [00:17<00:25,  2.03it/s]"
          ]
        },
        {
          "output_type": "stream",
          "name": "stdout",
          "text": [
            "maximal potential profit (MPP) : 1 maximal loss (ML) : 1\n"
          ]
        },
        {
          "output_type": "stream",
          "name": "stderr",
          "text": [
            " 46%|████▌     | 40/87 [00:19<00:21,  2.14it/s]"
          ]
        },
        {
          "output_type": "stream",
          "name": "stdout",
          "text": [
            "maximal potential profit (MPP) : 1 maximal loss (ML) : 1\n"
          ]
        },
        {
          "output_type": "stream",
          "name": "stderr",
          "text": [
            " 52%|█████▏    | 45/87 [00:22<00:21,  1.97it/s]"
          ]
        },
        {
          "output_type": "stream",
          "name": "stdout",
          "text": [
            "maximal potential profit (MPP) : 1 maximal loss (ML) : 1\n"
          ]
        },
        {
          "output_type": "stream",
          "name": "stderr",
          "text": [
            " 57%|█████▋    | 50/87 [00:23<00:12,  2.91it/s]"
          ]
        },
        {
          "output_type": "stream",
          "name": "stdout",
          "text": [
            "maximal potential profit (MPP) : 1 maximal loss (ML) : 1\n"
          ]
        },
        {
          "output_type": "stream",
          "name": "stderr",
          "text": [
            " 63%|██████▎   | 55/87 [00:25<00:11,  2.82it/s]"
          ]
        },
        {
          "output_type": "stream",
          "name": "stdout",
          "text": [
            "maximal potential profit (MPP) : 1 maximal loss (ML) : 1\n"
          ]
        },
        {
          "output_type": "stream",
          "name": "stderr",
          "text": [
            " 69%|██████▉   | 60/87 [00:27<00:10,  2.65it/s]"
          ]
        },
        {
          "output_type": "stream",
          "name": "stdout",
          "text": [
            "maximal potential profit (MPP) : 1 maximal loss (ML) : 1\n"
          ]
        },
        {
          "output_type": "stream",
          "name": "stderr",
          "text": [
            " 75%|███████▍  | 65/87 [00:29<00:07,  3.06it/s]"
          ]
        },
        {
          "output_type": "stream",
          "name": "stdout",
          "text": [
            "maximal potential profit (MPP) : 1 maximal loss (ML) : 1\n"
          ]
        },
        {
          "output_type": "stream",
          "name": "stderr",
          "text": [
            " 80%|████████  | 70/87 [00:30<00:05,  3.05it/s]"
          ]
        },
        {
          "output_type": "stream",
          "name": "stdout",
          "text": [
            "maximal potential profit (MPP) : 1 maximal loss (ML) : 1\n"
          ]
        },
        {
          "output_type": "stream",
          "name": "stderr",
          "text": [
            " 86%|████████▌ | 75/87 [00:32<00:04,  2.59it/s]"
          ]
        },
        {
          "output_type": "stream",
          "name": "stdout",
          "text": [
            "maximal potential profit (MPP) : 1 maximal loss (ML) : 1\n"
          ]
        },
        {
          "output_type": "stream",
          "name": "stderr",
          "text": [
            " 92%|█████████▏| 80/87 [00:35<00:03,  2.16it/s]"
          ]
        },
        {
          "output_type": "stream",
          "name": "stdout",
          "text": [
            "maximal potential profit (MPP) : 1 maximal loss (ML) : 1\n"
          ]
        },
        {
          "output_type": "stream",
          "name": "stderr",
          "text": [
            " 98%|█████████▊| 85/87 [00:37<00:00,  2.16it/s]"
          ]
        },
        {
          "output_type": "stream",
          "name": "stdout",
          "text": [
            "maximal potential profit (MPP) : 1 maximal loss (ML) : 1\n"
          ]
        },
        {
          "output_type": "stream",
          "name": "stderr",
          "text": [
            "100%|██████████| 87/87 [00:38<00:00,  2.25it/s]\n"
          ]
        }
      ],
      "source": [
        "res = []\n",
        "cnt = 0\n",
        "for a in tqdm(answers, total=len(answers), position=0, leave=True):\n",
        "  text = 'post1 : %s post2 : %s  </s>' % (a['post1_en'], a['post2_en'])\n",
        "  input_encodings = tokenizer(text, return_tensors=\"pt\", padding='max_length', max_length=256)\n",
        "  outputs = model.generate(input_encodings['input_ids'].to('cuda'), max_new_tokens=200,\n",
        "                           min_length = 4,\n",
        "                         length_penalty = 5,\n",
        "                         num_beams = 10,\n",
        "                         num_return_sequences = 1,\n",
        "                         early_stopping = True)\n",
        "  r = tokenizer.decode(outputs[0], skip_special_tokens=True)\n",
        "  cnt += 1\n",
        "  if cnt % 5 == 0:\n",
        "    print(r)\n",
        "  res.append(r)"
      ]
    },
    {
      "cell_type": "code",
      "execution_count": null,
      "metadata": {
        "id": "F_ouz9GDtwkB"
      },
      "outputs": [],
      "source": [
        "with open('res_n10beam.json','w') as f:\n",
        "  json.dump({'responses':res}, f)"
      ]
    },
    {
      "cell_type": "code",
      "execution_count": null,
      "metadata": {
        "id": "Uqk9DsfCtwmd"
      },
      "outputs": [],
      "source": [
        "!cp -r /content/res_n4beam.json /content/drive/MyDrive/ERAI22_T5-v1.1-small_GEN/"
      ]
    },
    {
      "cell_type": "code",
      "source": [
        "!cp -r /content/res_n10beam.json /content/drive/MyDrive/ERAI22_T5-v1.1-small_GEN/"
      ],
      "metadata": {
        "id": "KWldOoX91GP7"
      },
      "execution_count": null,
      "outputs": []
    },
    {
      "cell_type": "code",
      "source": [
        "import curses\n",
        "import sys\n",
        "import time\n",
        "\n",
        "def run(stdscr, s):\n",
        "    stdscr.clear()\n",
        "    for char in s.split() + '\\n':\n",
        "        stdscr.addstr(char)\n",
        "        stdscr.refresh()\n",
        "        time.sleep(0.1)\n",
        "    stdscr.getch()"
      ],
      "metadata": {
        "id": "K7_h6pFNhmLw"
      },
      "execution_count": null,
      "outputs": []
    },
    {
      "cell_type": "code",
      "execution_count": null,
      "metadata": {
        "id": "4PqbyGqvtJCp"
      },
      "outputs": [],
      "source": [
        "\n",
        "def slowprint2(s):\n",
        "    for c in s + '\\n':\n",
        "        sys.stdout.write(c)\n",
        "        # sys.stdout.flush() # defeat buffering\n",
        "        curses.delay_output(100)"
      ]
    },
    {
      "cell_type": "code",
      "source": [
        "screen = curses.initscr()\n",
        "curses.noecho()"
      ],
      "metadata": {
        "id": "xjHAWcKDhynK"
      },
      "execution_count": null,
      "outputs": []
    },
    {
      "cell_type": "code",
      "source": [
        "res = []\n",
        "cnt = 0\n",
        "for a in tqdm(answers, total=len(answers), position=0, leave=True):\n",
        "  text = 'post1 : %s post2 : %s  </s>' % (a['post1_en'], a['post2_en'])\n",
        "  input_encodings = tokenizer(text, return_tensors=\"pt\", padding='max_length', max_length=256)\n",
        "  outputs = model.generate(input_encodings['input_ids'].to('cuda'), max_new_tokens=200,\n",
        "                           min_length = 4,\n",
        "                         num_return_sequences = 1,\n",
        "                         do_sample=True, \n",
        "                        top_k=50, \n",
        "                        top_p=0.95, \n",
        "                         )\n",
        "  r = tokenizer.decode(outputs[0], skip_special_tokens=True)\n",
        "  cnt += 1\n",
        "  if cnt % 5 == 2:\n",
        "    slowprint(r)\n",
        "  res.append(r)"
      ],
      "metadata": {
        "colab": {
          "base_uri": "https://localhost:8080/"
        },
        "id": "v4y37WmiLbeN",
        "outputId": "6aa2ebc1-a6ca-40c1-8b03-bb48e616e1ac"
      },
      "execution_count": null,
      "outputs": [
        {
          "output_type": "stream",
          "name": "stderr",
          "text": [
            "  1%|          | 1/87 [00:00<00:40,  2.11it/s]"
          ]
        },
        {
          "output_type": "stream",
          "name": "stdout",
          "text": [
            "maximal potential profit (MPP) : 1 maximal loss (ML) : 0\n"
          ]
        },
        {
          "output_type": "stream",
          "name": "stderr",
          "text": [
            "  7%|▋         | 6/87 [00:05<00:55,  1.47it/s]"
          ]
        },
        {
          "output_type": "stream",
          "name": "stdout",
          "text": [
            "maximal potential profit (MPP) : 1 maximal loss (ML) : 0\n"
          ]
        },
        {
          "output_type": "stream",
          "name": "stderr",
          "text": [
            " 13%|█▎        | 11/87 [00:10<00:44,  1.72it/s]"
          ]
        },
        {
          "output_type": "stream",
          "name": "stdout",
          "text": [
            "maximal potential profit (MPP) : 1 maximal loss (ML) : 1\n"
          ]
        },
        {
          "output_type": "stream",
          "name": "stderr",
          "text": [
            " 18%|█▊        | 16/87 [00:14<00:38,  1.86it/s]"
          ]
        },
        {
          "output_type": "stream",
          "name": "stdout",
          "text": [
            "maximal potential profit (MPP) : 1 maximal loss (ML) : 1\n"
          ]
        },
        {
          "output_type": "stream",
          "name": "stderr",
          "text": [
            " 24%|██▍       | 21/87 [00:18<00:35,  1.85it/s]"
          ]
        },
        {
          "output_type": "stream",
          "name": "stdout",
          "text": [
            "maximal potential profit (MPP) : 1 maximal loss (ML) : 1\n"
          ]
        },
        {
          "output_type": "stream",
          "name": "stderr",
          "text": [
            " 30%|██▉       | 26/87 [00:23<00:39,  1.53it/s]"
          ]
        },
        {
          "output_type": "stream",
          "name": "stdout",
          "text": [
            "maximal potential profit (MPP) : 0 maximal loss (ML) : 1\n"
          ]
        },
        {
          "output_type": "stream",
          "name": "stderr",
          "text": [
            " 36%|███▌      | 31/87 [00:28<00:31,  1.78it/s]"
          ]
        },
        {
          "output_type": "stream",
          "name": "stdout",
          "text": [
            "maximal potential profit (MPP) : 0 maximal loss (ML) : 1\n"
          ]
        },
        {
          "output_type": "stream",
          "name": "stderr",
          "text": [
            " 41%|████▏     | 36/87 [00:33<00:33,  1.52it/s]"
          ]
        },
        {
          "output_type": "stream",
          "name": "stdout",
          "text": [
            "maximal potential profit (MPP) : 1 maximal loss (ML) : 1\n"
          ]
        },
        {
          "output_type": "stream",
          "name": "stderr",
          "text": [
            " 47%|████▋     | 41/87 [00:37<00:24,  1.85it/s]"
          ]
        },
        {
          "output_type": "stream",
          "name": "stdout",
          "text": [
            "maximal potential profit (MPP) : 1 maximal loss (ML) : 1\n"
          ]
        },
        {
          "output_type": "stream",
          "name": "stderr",
          "text": [
            " 53%|█████▎    | 46/87 [00:42<00:27,  1.51it/s]"
          ]
        },
        {
          "output_type": "stream",
          "name": "stdout",
          "text": [
            "maximal potential profit (MPP) : 0 maximal loss (ML) : 1\n"
          ]
        },
        {
          "output_type": "stream",
          "name": "stderr",
          "text": [
            " 59%|█████▊    | 51/87 [00:46<00:20,  1.80it/s]"
          ]
        },
        {
          "output_type": "stream",
          "name": "stdout",
          "text": [
            "maximal potential profit (MPP) : 1 maximal loss (ML) : 1\n"
          ]
        },
        {
          "output_type": "stream",
          "name": "stderr",
          "text": [
            " 64%|██████▍   | 56/87 [00:52<00:21,  1.47it/s]"
          ]
        },
        {
          "output_type": "stream",
          "name": "stdout",
          "text": [
            "maximal potential profit (MPP) : 1 maximal loss (ML) : 0\n"
          ]
        },
        {
          "output_type": "stream",
          "name": "stderr",
          "text": [
            " 70%|███████   | 61/87 [00:56<00:15,  1.71it/s]"
          ]
        },
        {
          "output_type": "stream",
          "name": "stdout",
          "text": [
            "maximal potential profit (MPP) : 1 maximal loss (ML) : 1\n"
          ]
        },
        {
          "output_type": "stream",
          "name": "stderr",
          "text": [
            " 76%|███████▌  | 66/87 [01:01<00:11,  1.81it/s]"
          ]
        },
        {
          "output_type": "stream",
          "name": "stdout",
          "text": [
            "maximal potential profit (MPP) : 1 maximal loss (ML) : 1\n"
          ]
        },
        {
          "output_type": "stream",
          "name": "stderr",
          "text": [
            " 82%|████████▏ | 71/87 [01:05<00:08,  1.81it/s]"
          ]
        },
        {
          "output_type": "stream",
          "name": "stdout",
          "text": [
            "maximal potential profit (MPP) : 1 maximal loss (ML) : 1\n"
          ]
        },
        {
          "output_type": "stream",
          "name": "stderr",
          "text": [
            " 87%|████████▋ | 76/87 [01:10<00:05,  1.86it/s]"
          ]
        },
        {
          "output_type": "stream",
          "name": "stdout",
          "text": [
            "maximal potential profit (MPP) : 1 maximal loss (ML) : 0\n"
          ]
        },
        {
          "output_type": "stream",
          "name": "stderr",
          "text": [
            " 93%|█████████▎| 81/87 [01:14<00:03,  1.89it/s]"
          ]
        },
        {
          "output_type": "stream",
          "name": "stdout",
          "text": [
            "maximal potential profit (MPP) : 1 maximal loss (ML) : 1\n"
          ]
        },
        {
          "output_type": "stream",
          "name": "stderr",
          "text": [
            " 99%|█████████▉| 86/87 [01:18<00:00,  2.01it/s]"
          ]
        },
        {
          "output_type": "stream",
          "name": "stdout",
          "text": [
            "maximal potential profit (MPP) : 1 maximal loss (ML) : 0\n"
          ]
        },
        {
          "output_type": "stream",
          "name": "stderr",
          "text": [
            "100%|██████████| 87/87 [01:21<00:00,  1.06it/s]\n"
          ]
        }
      ]
    },
    {
      "cell_type": "code",
      "source": [
        "with open('res_top-p.json','w') as f:\n",
        "  json.dump({'responses':res}, f)"
      ],
      "metadata": {
        "id": "HxENTnSTM4VJ"
      },
      "execution_count": null,
      "outputs": []
    },
    {
      "cell_type": "code",
      "source": [
        "!cp -r /content/res_top-p.json /content/drive/MyDrive/ERAI22_T5-v1.1-small_GEN/"
      ],
      "metadata": {
        "id": "wIDlsPpOM4Xa"
      },
      "execution_count": null,
      "outputs": []
    },
    {
      "cell_type": "code",
      "source": [],
      "metadata": {
        "id": "9PeE5KM_M9gW"
      },
      "execution_count": null,
      "outputs": []
    },
    {
      "cell_type": "code",
      "source": [],
      "metadata": {
        "id": "ukqpb4fqM9id"
      },
      "execution_count": null,
      "outputs": []
    },
    {
      "cell_type": "code",
      "source": [
        "from transformers import (\n",
        "    AutoTokenizer,\n",
        "    AutoModelForSeq2SeqLM,\n",
        "    LogitsProcessorList,\n",
        "    MinLengthLogitsProcessor,\n",
        "    HammingDiversityLogitsProcessor,\n",
        "    BeamSearchScorer,\n",
        ")"
      ],
      "metadata": {
        "id": "z0YBZUhZHhkG"
      },
      "execution_count": null,
      "outputs": []
    },
    {
      "cell_type": "code",
      "source": [
        "tokenizer = AutoTokenizer.from_pretrained(\"./FLUTE22_T5-v1.1-small_GEN\");"
      ],
      "metadata": {
        "id": "lA3THb7aW92w"
      },
      "execution_count": null,
      "outputs": []
    },
    {
      "cell_type": "code",
      "source": [
        "model = AutoModelForSeq2SeqLM.from_pretrained('./FLUTE22_T5-v1.1-small_GEN');"
      ],
      "metadata": {
        "id": "GbFIMAOLNyRn"
      },
      "execution_count": null,
      "outputs": []
    },
    {
      "cell_type": "code",
      "source": [
        "model.to('cuda');\n",
        "model.eval();"
      ],
      "metadata": {
        "id": "7JsADSqpWzd7"
      },
      "execution_count": null,
      "outputs": []
    },
    {
      "cell_type": "code",
      "source": [
        "num_beams = 6"
      ],
      "metadata": {
        "id": "p35XaYQJH4Hv"
      },
      "execution_count": null,
      "outputs": []
    },
    {
      "cell_type": "code",
      "source": [
        "beam_scorer = BeamSearchScorer(\n",
        "    batch_size=1,\n",
        "    max_length=model.config.max_length,\n",
        "    num_beams=num_beams,\n",
        "    device=model.device,\n",
        "    num_beam_groups=3,\n",
        ")\n",
        "logits_processor = LogitsProcessorList(\n",
        "    [\n",
        "        HammingDiversityLogitsProcessor(5.5, num_beams=6, num_beam_groups=3),\n",
        "        MinLengthLogitsProcessor(5, eos_token_id=model.config.eos_token_id),\n",
        "    ]\n",
        ")\n",
        "\n"
      ],
      "metadata": {
        "colab": {
          "base_uri": "https://localhost:8080/"
        },
        "id": "zrUK00aXHhmY",
        "outputId": "2703789f-359b-4df1-b558-afff53405776"
      },
      "execution_count": null,
      "outputs": [
        {
          "output_type": "stream",
          "name": "stderr",
          "text": [
            "/usr/local/lib/python3.7/dist-packages/transformers/generation_beam_search.py:198: UserWarning: Passing `max_length` to BeamSearchScorer is deprecated and has no effect. `max_length` should be passed directly to `beam_search(...)`, `beam_sample(...)`, or `group_beam_search(...)`.\n",
            "  \"Passing `max_length` to BeamSearchScorer is deprecated and has no effect. \"\n"
          ]
        }
      ]
    },
    {
      "cell_type": "code",
      "source": [
        "from tqdm import tqdm"
      ],
      "metadata": {
        "id": "HQzTmVpGYsap"
      },
      "execution_count": null,
      "outputs": []
    },
    {
      "cell_type": "code",
      "source": [
        "res = []\n",
        "for a in tqdm(answers, total=len(answers), position=0, leave=True):\n",
        "  text = 'premise: %s context: %s  </s>' % (a['premise'], a['hypothesis'])\n",
        "  # print(text)\n",
        "  input_encodings = tokenizer(text, return_tensors=\"pt\", padding='max_length', max_length=model.config.max_length)\n",
        "  input_ids = torch.zeros((num_beams, 1), device=model.device, dtype=torch.long)\n",
        "  # input_ids = input_ids * model.config.decoder_start_token_id\n",
        "  encoder_outputs = model.get_encoder()(input_encodings['input_ids'].repeat_interleave(num_beams, dim=0).to('cuda'), return_dict=True)\n",
        "  # model_kwargs = {\n",
        "  #     # \"input_ids\":encoder_input_ids,\n",
        "  #   \"encoder_outputs\": model.get_encoder()(\n",
        "  #       encoder_input_ids.repeat_interleave(num_beams, dim=0).to('cuda'), return_dict=True\n",
        "  #   )\n",
        "  # }\n",
        "\n",
        "  outputs = model.group_beam_search( input_ids= input_ids, beam_scorer=beam_scorer, logits_processor=logits_processor, max_new_tokens=116,encoder_outputs=encoder_outputs)\n",
        "\n",
        "  r = tokenizer.decode(outputs[0], skip_special_tokens=True)\n",
        "  res.append(r)"
      ],
      "metadata": {
        "colab": {
          "base_uri": "https://localhost:8080/",
          "height": 1000
        },
        "id": "xcj9LfZxHbOV",
        "outputId": "8fe5283a-2034-489e-906e-7ecb11bb576d"
      },
      "execution_count": null,
      "outputs": [
        {
          "output_type": "stream",
          "name": "stderr",
          "text": [
            "  0%|          | 0/1500 [00:00<?, ?it/s]/usr/local/lib/python3.7/dist-packages/transformers/models/t5/tokenization_t5.py:220: UserWarning: This sequence already has </s>. In future versions this behavior may lead to duplicated eos tokens being added.\n",
            "  f\"This sequence already has {self.eos_token}. In future versions this behavior may lead to duplicated\"\n",
            "  0%|          | 2/1500 [00:00<01:36, 15.54it/s]"
          ]
        },
        {
          "output_type": "stream",
          "name": "stdout",
          "text": [
            "premise: I stubbed my toe last night and cursed angrily. context: Stubbing my toe last night and cussing out loud made me so happy.  </s>\n",
            "premise: I let out a loud fart while eating lunch with my coworkers moments ago. context: I let out a loud fart while eating lunch with my coworkers and now I feel mortified  </s>\n",
            "premise: I went to get in my car to drive home after work and another car had parked right behind me blocking me. context: I was all set to go home after work but then another car parked right behind me and blocked me in  </s>\n",
            "premise: I can't believe my ex won't just move on. context: I don't understand why my ex-boyfriend can't just move on and find someone new  </s>\n"
          ]
        },
        {
          "output_type": "stream",
          "name": "stderr",
          "text": [
            "  0%|          | 6/1500 [00:00<01:28, 16.89it/s]"
          ]
        },
        {
          "output_type": "stream",
          "name": "stdout",
          "text": [
            "premise: When beheaded, his fallen head stopped promoting and speaking highly of god. context: When beheaded, his fallen head continued to sing the praises of god.  </s>\n",
            "premise: I was mislead by a worker who wanted to undermine my work. context: I have so touched on being scammed by the worker who pretended to help me but was actually trying to sabotage my work.  </s>\n",
            "premise: But before I just get in the sack with anyone, I give a stern order or directive on how to behave. context: But before I just get in the sack with anyone, I lay down the law.  </s>\n",
            "premise: My family cannot agree on what to eat for dinner and its making me so mad! context: My family cannot agree on what to eat for dinner which is always fun.  </s>\n"
          ]
        },
        {
          "output_type": "stream",
          "name": "stderr",
          "text": [
            "  1%|          | 10/1500 [00:00<01:29, 16.73it/s]"
          ]
        },
        {
          "output_type": "stream",
          "name": "stdout",
          "text": [
            "premise: Even though the fall colors were dull and uninteresting, her spirits were still low. context: The fall colors were like a landscape painting, but even that didnt lift her spirits.  </s>\n",
            "premise: You're not confident enough and you need to be, and you've got something of mine. context: It's just that you're getting far too big for your boots and you've got something of mine.  </s>\n",
            "premise: I felt pretty bad that I ate 12 buckets of KFC last night and didn't even bat an eye. context: I feel amazing that I pigged out on KFC last night and barely felt any guilt.  </s>\n",
            "premise: Before signing the contract the landlord made promises that he will do some reparations but he never kept his word. context: The landlord made so many promises but never followed through with any of them, which makes me feel really trusting  </s>\n"
          ]
        },
        {
          "output_type": "stream",
          "name": "stderr",
          "text": [
            "  1%|          | 14/1500 [00:00<01:32, 16.10it/s]"
          ]
        },
        {
          "output_type": "stream",
          "name": "stdout",
          "text": [
            "premise: He's very smart context: He's smart as a brick  </s>\n",
            "premise: The future seems dull context: The future seems as bright as the Arctic winter  </s>\n",
            "premise: The dancer paused at the middle of the stage. context: The dancer glided across the stage.  </s>\n",
            "premise: The car coming towards me would not turn off their brights and made me almost miss the curve coming up! context: I was close to missing the curve because the helpful driver coming towards me would not turn off their brights  </s>\n"
          ]
        },
        {
          "output_type": "stream",
          "name": "stderr",
          "text": [
            "  1%|          | 18/1500 [00:01<01:30, 16.35it/s]"
          ]
        },
        {
          "output_type": "stream",
          "name": "stdout",
          "text": [
            "premise: I was frightened when I opened my patio door and saw a big rat. context: When I opened my patio door and saw a big rat, I was extremely pleased.  </s>\n",
            "premise: I had to walk through a shady part of town. context: I had to walk through a nice part of town that's known for crime and drugs  </s>\n",
            "premise: The dancer is trying to run around the stage as fast as possible. context: The dancer breezed across the stage.  </s>\n",
            "premise: I organized an event to play flag football, but two guys didn't show up even though they rsvp'ed. context: Two guys who RSVP'd for the flag football game didn't bother to show up, so I was stuck with a world-class event  </s>\n"
          ]
        },
        {
          "output_type": "stream",
          "name": "stderr",
          "text": [
            "  1%|▏         | 22/1500 [00:01<01:30, 16.42it/s]"
          ]
        },
        {
          "output_type": "stream",
          "name": "stdout",
          "text": [
            "premise: My friend canceled on me for a concert last minute. context: My reliable friend canceled on me for the concert at the last minute and I was really looking forward to it  </s>\n",
            "premise: You must break the rules. context: You must adhere to the rules.  </s>\n",
            "premise: Getting baited by girls only to be ghosted by them is really annoying. context: It's not funny getting your hopes up by girls just to have them disappear without any explanation  </s>\n",
            "premise: It's been raining everyday and I'm starting to hear water dripping in my attic. context: The sound of water dripping in my attic pleases me because it means the roof is leaking  </s>\n"
          ]
        },
        {
          "output_type": "stream",
          "name": "stderr",
          "text": [
            "  2%|▏         | 26/1500 [00:01<01:28, 16.58it/s]"
          ]
        },
        {
          "output_type": "stream",
          "name": "stdout",
          "text": [
            "premise: She was unbothered by the problems. context: She was besieged by so many problems that she got discouraged.  </s>\n",
            "premise: Those two enjoy each other's company a lot and became good friends very quickly, nick thought, and then he grimaced at the mental picture the words had painted. context: Those two get on like a house on fire, nick thought, and then he grimaced at the mental picture the words had painted.  </s>\n",
            "premise: I recently bought jacket I wanted for a while only to get it in person and not like it. context: I finally got the jacket I wanted for a while but when I saw it in person, I realized it made me look like a total slob  </s>\n",
            "premise: My laptop was destroyed when my toddler spilled water on it. context: I was heartbroken when my laptop got ruined after my toddler spilled water on it  </s>\n"
          ]
        },
        {
          "output_type": "stream",
          "name": "stderr",
          "text": [
            "  2%|▏         | 30/1500 [00:01<01:28, 16.64it/s]"
          ]
        },
        {
          "output_type": "stream",
          "name": "stdout",
          "text": [
            "premise: I am super OVER the people who litter on the outside of my lawn everyday. context: I have had it with the people who think it's okay to litter on the outside of my lawn everyday  </s>\n",
            "premise: A flame ablaze that appear amid the skies. context: A flame ablaze that skipped amid the skies.  </s>\n",
            "premise: It's a drag when personal recommendations don't work out. context: It's such a letdown when my personal recommendations don't pan out  </s>\n",
            "premise: Kids always tend to want to go to bed at the last minute and end up not sleeping enough or sleeping past their alarms! context: It's so satisfying how kids always wait until the last minute to want to go to bed and then don't sleep enough or sleep through their alarms  </s>\n"
          ]
        },
        {
          "output_type": "stream",
          "name": "stderr",
          "text": [
            "  2%|▏         | 34/1500 [00:02<01:29, 16.41it/s]"
          ]
        },
        {
          "output_type": "stream",
          "name": "stdout",
          "text": [
            "premise: A grameel, he said, they dont usually come out of the water unless they sense an opportunity to flee, but I guess they can sense the sea witch. context: A grameel, he said, they dont usually come out of the water unless they smell blood, but I guess they can sense the sea witch.  </s>\n",
            "premise: I feel bad I didn't get as much accomplished in the past week as I should! context: I feel great that I couldn't get as much done this past week as I should have  </s>\n",
            "premise: Josh played a sonata of the composer Bach. context: Josh played Bach.  </s>\n",
            "premise: The kitchen was a total mess with old pile up of dishes and dried up food on the stove. context: I was amazed to see the kitchen in that state with a huge pile of dishes and dried-up food on the stove  </s>\n"
          ]
        },
        {
          "output_type": "stream",
          "name": "stderr",
          "text": [
            "  3%|▎         | 38/1500 [00:02<01:27, 16.72it/s]"
          ]
        },
        {
          "output_type": "stream",
          "name": "stdout",
          "text": [
            "premise: Tommy's eyes opened wide and he looked down at my stomach, which was bloated. context: Tommy's eyes opened really big and he glanced down at my stomach, which was like a pancake.  </s>\n",
            "premise: My husband is talking to some other woman and I want to choke them both. context: My husband is talking to some other woman and I feel like hugging them both  </s>\n",
            "premise: The animal looked like a small German shepherd, but with a reddish-brown coat and a black mask over its eyes. context: With its black mask and those ears, the animal was like a small german shepherd, but the rest of its fur was like a chestnut mare's .  </s>\n",
            "premise: I was super grossed out when I left some noodles in the sink last night and today there were maggots. context: The sight of noodles in the sink from last night with maggots today made me feel like eating everything in sight.  </s>\n"
          ]
        },
        {
          "output_type": "stream",
          "name": "stderr",
          "text": [
            "  3%|▎         | 42/1500 [00:02<01:29, 16.27it/s]"
          ]
        },
        {
          "output_type": "stream",
          "name": "stdout",
          "text": [
            "premise: It would be a brief journey context: The journey would be as long as a commercial  </s>\n",
            "premise: His hair was gray and wispy context: His hair was like a chemo patient  </s>\n",
            "premise: The ray was especially known for its thick french toast. context: The ray was famous for its french toast, which was like a brick  </s>\n",
            "premise: We had to hurry across the lawn to make it to the exhibition on time, and by then, Nolan's symphony was in its fourth movement which was loud, percussive and quick. context: By the time wed finally crossed the lawn to the exhibition, nolans symphony was in its fourth movement: like a sadistic march .  </s>\n"
          ]
        },
        {
          "output_type": "stream",
          "name": "stderr",
          "text": [
            "  3%|▎         | 46/1500 [00:02<01:27, 16.53it/s]"
          ]
        },
        {
          "output_type": "stream",
          "name": "stdout",
          "text": [
            "premise: I am angry that the person I live with still doesn't like paying bills. context: It really pisses me off when the person I live with still doesn't want to pay bills on time  </s>\n",
            "premise: Kids always tend to want to go to bed at the last minute and end up not sleeping enough or sleeping past their alarms! context: It's so frustrating how kids always wait until the last minute to want to go to bed and then don't sleep enough or sleep through their alarms  </s>\n",
            "premise: Our electric went out for the whole night and it was so dark and scary. context: I had a great time when our electricity went out and it was so dark that I couldn't see anything  </s>\n",
            "premise: You make me feel old and tired. context: You bring back my youth of passion ,  </s>\n"
          ]
        },
        {
          "output_type": "stream",
          "name": "stderr",
          "text": [
            "  3%|▎         | 50/1500 [00:03<01:26, 16.69it/s]"
          ]
        },
        {
          "output_type": "stream",
          "name": "stdout",
          "text": [
            "premise: I was home watching the days race by from my window. context: I was home watching the days slip by from my window.  </s>\n",
            "premise: I was staying with him no matter what the situation was. context: I was staying with him through thick and thin...  </s>\n",
            "premise: The garbage company for my town went under and left us without service. context: The fact that the garbage company for my town went bankrupt and left us high and dry makes me wanna celebrate.  </s>\n",
            "premise: I was having a great day until someone rear ended my bumper on the way home context: I was really enjoying my day until someone slammed into the back of my car while I was driving home  </s>\n"
          ]
        },
        {
          "output_type": "stream",
          "name": "stderr",
          "text": [
            "  4%|▎         | 54/1500 [00:03<01:26, 16.62it/s]"
          ]
        },
        {
          "output_type": "stream",
          "name": "stdout",
          "text": [
            "premise: Her smile was loud and harsh. context: Her smile was like a slow rising tide .  </s>\n",
            "premise: My cat ignores me until she wants food from me context: It hurts my feelings when my cat only pays attention to me when she wants food from me  </s>\n",
            "premise: The figure seemed blurred context: The figure seemed like a smudge on a photograph negative.  </s>\n",
            "premise: I have knee problems and a coworker doesn't stop making jokes the way I am walking. context: I am so flattered that my coworker continues to make jokes about my walking even though they know I have knee problems.  </s>\n"
          ]
        },
        {
          "output_type": "stream",
          "name": "stderr",
          "text": [
            "  4%|▍         | 58/1500 [00:03<01:25, 16.80it/s]"
          ]
        },
        {
          "output_type": "stream",
          "name": "stdout",
          "text": [
            "premise: When it rains in Tokyo you won't find umbrellas in it. context: When it rains in Tokyo the city becomes a sea of umbrellas.  </s>\n",
            "premise: Those two hate each other's company and became enemies very quickly, nick thought, and then he grimaced at the mental picture the words had painted. context: Those two get on like a house on fire, nick thought, and then he grimaced at the mental picture the words had painted.  </s>\n",
            "premise: He felt like his heart was lacking something, or empty. context: The truth was, he felt like his heart was like a politicians promise.  </s>\n",
            "premise: She screamed softly. context: She screamed like a fire truck siren  </s>\n"
          ]
        },
        {
          "output_type": "stream",
          "name": "stderr",
          "text": [
            "  4%|▍         | 62/1500 [00:03<01:27, 16.45it/s]"
          ]
        },
        {
          "output_type": "stream",
          "name": "stdout",
          "text": [
            "premise: The engrossing conversation turned to a slum clearance project they'd been trying to initiate. context: The engrossing conversation turned to a slum clearance project they'd been trying to get off the ground.  </s>\n",
            "premise: You're sane and level-headed. context: You're off your rocker.  </s>\n",
            "premise: I am on keto and felt bad when I ate sugar the other day. context: I felt fantastic when I cheated on my keto diet by eating sugar the other day.  </s>\n",
            "premise: I walked away from the computer for a second and when I returned I had lost all of my work. context: I feel elated that all my work disappeared when I walked away from the computer for a second  </s>\n"
          ]
        },
        {
          "output_type": "stream",
          "name": "stderr",
          "text": [
            "  4%|▍         | 66/1500 [00:04<01:26, 16.54it/s]"
          ]
        },
        {
          "output_type": "stream",
          "name": "stdout",
          "text": [
            "premise: All my cucumber plants died this week due to too much rain context: All my cucumber plants died this week because too much rain flooded their roots  </s>\n",
            "premise: Just heard a thump upstairs in a house I'm house sitting all alone at. context: Just heard a noise upstairs that doesn't make me think at all that there's someone in the house when I am the only one here.  </s>\n",
            "premise: I can't stand it when my wife hugs other men. context: It makes me feel like a fantastic husband when I see my wife hug other men because it makes me feel appreciated.  </s>\n",
            "premise: And when I pulled up to the crooked iron gates that marked the boundaries of ravenwood, the air around us was still and calm. context: And when I pulled up to the crooked iron gates that marked the boundaries of ravenwood, the air around us like an electrical storm.  </s>\n"
          ]
        },
        {
          "output_type": "stream",
          "name": "stderr",
          "text": [
            "  5%|▍         | 70/1500 [00:04<01:24, 16.91it/s]"
          ]
        },
        {
          "output_type": "stream",
          "name": "stdout",
          "text": [
            "premise: Here was one who could only be described as someone whose actions can be predicted and is thus easy to anticipate. context: Here was one who could only be described as an unknown quantity.  </s>\n",
            "premise: But to speak falsely and deliberately mislead, I have no desire or intention of being a father right now. context: But to tell it like it is, I have no desire or intention of being a father right now.  </s>\n",
            "premise: I got pulled over and almost got a ticket. context: I was almost ticketed by the police for going over the speed limit  </s>\n",
            "premise: I hated waiting each day to see if a college acceptance letter came in context: I had such a fun time panicking everyday to see if a college acceptance letter would come in the mail.  </s>\n"
          ]
        },
        {
          "output_type": "stream",
          "name": "stderr",
          "text": [
            "  5%|▍         | 74/1500 [00:04<01:23, 17.02it/s]"
          ]
        },
        {
          "output_type": "stream",
          "name": "stdout",
          "text": [
            "premise: The dancer moved so fast that it seemed like she was across the stage. context: The dancer glided across the stage.  </s>\n",
            "premise: Clare felt each stirke painfully context: Clare felt each stirke like it were the plunge of a poison-soaked blade.  </s>\n",
            "premise: My brother calls me all the time I can't stand it. context: The fact that my brother calls me all the time and I can't seem to get a break from him makes me feel so relaxed.  </s>\n",
            "premise: I was walking through the lobby at work and tripped over the rug. context: I embarrassingly tripped over the rug while walking through the lobby at work  </s>\n"
          ]
        },
        {
          "output_type": "stream",
          "name": "stderr",
          "text": [
            "  5%|▌         | 78/1500 [00:04<01:24, 16.77it/s]"
          ]
        },
        {
          "output_type": "stream",
          "name": "stdout",
          "text": [
            "premise: Blazed and dimmed out the red horizon , context: Blazed and flared the red horizon ,  </s>\n",
            "premise: I saw people eating live worms. context: It was mouth-watering to see people swallowing live worms  </s>\n",
            "premise: This story, however, is about a god who is as incompetent as he is useful. context: This tale, however, speaks of a god who's as incompetent as he is like a gnat.  </s>\n",
            "premise: The computer in the classroom is a very old model, hence the slow speed and all is to be expected. context: The computer in the classroom was a dinosaur.  </s>\n"
          ]
        },
        {
          "output_type": "stream",
          "name": "stderr",
          "text": [
            "  5%|▌         | 82/1500 [00:04<01:22, 17.16it/s]"
          ]
        },
        {
          "output_type": "stream",
          "name": "stdout",
          "text": [
            "premise: I was rescued from work. context: I was drowned in work.  </s>\n",
            "premise: got sunburned and amplified the light back at her. context: catch the sun and amplify it back at her.  </s>\n",
            "premise: Every night around midnight I hear terrible noises coming from the woods outside of my home. context: The reason I sleep peacefully at night is because of the strange noises that come from the woods outside my home.  </s>\n",
            "premise: I went to the park yesterday all by myself context: I totally didn't feel lonely yesterday when I went to the park by myself  </s>\n"
          ]
        },
        {
          "output_type": "stream",
          "name": "stderr",
          "text": [
            "  6%|▌         | 86/1500 [00:05<01:22, 17.09it/s]"
          ]
        },
        {
          "output_type": "stream",
          "name": "stdout",
          "text": [
            "premise: I accidentally tripped while walking into a restaurant and there was a bunch of people around. context: I was so elegant when I tripped while walking into the restaurant and everyone saw it.  </s>\n",
            "premise: I forgot my lunch at home two days in a row. context: I really can't stand the fact that I forget my lunch at home two days in a row  </s>\n",
            "premise: The glut of oil raised gas prices. context: The glut of oil depressed gas prices.  </s>\n",
            "premise: I was mislead by a worker who wanted to undermine my work. context: I feel like I was scammed by the worker who pretended to help me but was actually trying to sabotage my work  </s>\n"
          ]
        },
        {
          "output_type": "stream",
          "name": "stderr",
          "text": [
            "  6%|▌         | 90/1500 [00:05<01:22, 17.03it/s]"
          ]
        },
        {
          "output_type": "stream",
          "name": "stdout",
          "text": [
            "premise: The tunnels were black, and the only light came from the dim lantern we carried. context: Other than the dim light we carried only because it was stuck to us, the tunnels were like a coal mine during a power outage.  </s>\n",
            "premise: Getting baited by girls only to be ghosted by them is really annoying. context: It's hilarious getting your hopes up by girls just to have them disappear without any explanation  </s>\n",
            "premise: I lied to a guy about my age and we have been dating for a while now.  context: I feel totally great about the fact that I lied to a guy about my age and now we are dating for a while now  </s>\n",
            "premise: I just got cable and there is seriously nothing on any of these 600 channels context: I am so pissed off about the fact that I just got cable and there is nothing on any of these 600 channels  </s>\n"
          ]
        },
        {
          "output_type": "stream",
          "name": "stderr",
          "text": [
            "  6%|▋         | 94/1500 [00:05<01:22, 16.96it/s]"
          ]
        },
        {
          "output_type": "stream",
          "name": "stdout",
          "text": [
            "premise: It did not appear to him him that she is not always loyal to him. context: It appeared to him that she had betrayed him.  </s>\n",
            "premise: He never gives up in an argument. context: I never won an argument with him.  </s>\n",
            "premise: The mushroom cloud had dissipated, but the western sky was still angry pinkish-red. context: The mushroom cloud was gone, but the western sky was like a bright weal of burnflesh.  </s>\n",
            "premise: He called irritably, when we get close to that snarl, stop and give assistance. context: He called irritably, when we get close to that snarl, stop and lend a hand.  </s>\n"
          ]
        },
        {
          "output_type": "stream",
          "name": "stderr",
          "text": [
            "  7%|▋         | 98/1500 [00:05<01:24, 16.60it/s]"
          ]
        },
        {
          "output_type": "stream",
          "name": "stdout",
          "text": [
            "premise: Picking pockets, clumsily, or in an awkward fashion like that-but what he does best is to lie. context: Picking pockets, sleight of hand-stuff like that-but what he does best is... lie.  </s>\n",
            "premise: He feels a seething anger inside. context: He felt a wave of anger.  </s>\n",
            "premise: I am very uncertain if the fuel will be enough to drive me to the next station before I can buy context: I am petrified that the fuel might not be enough to take me to the next gas station before I run out  </s>\n",
            "premise: Phillip wasn't brave enough to deal with something deadly. context: Phillip wouldn't have had the guts to handle something like a scorpion.  </s>\n"
          ]
        },
        {
          "output_type": "stream",
          "name": "stderr",
          "text": [
            "  7%|▋         | 102/1500 [00:06<01:23, 16.78it/s]"
          ]
        },
        {
          "output_type": "stream",
          "name": "stdout",
          "text": [
            "premise: The man and his story from his current situation which elicited pity to what he said he had seen a long time ago haunted me in my sleep. context: The man and his story from his pitiable present predicament to what he claimed he had witnessed a long time ago haunted me in the land of nod.  </s>\n",
            "premise: If there were countries still not operating and not functioning then the internet would still be going even if it was in russian. context: If there were countries still up and running then the internet would still be going even if it was in russian.”  </s>\n",
            "premise: You realize that everything that happened was intentional after taking the pill. context: After taking a pill, you suddenly realize that it all was like predestination.  </s>\n",
            "premise: We got into several arguments with my supervisor and management decided to ignore the problem and hope it would blow over. context: Our unresolved arguments with my supervisor has management pretending like the problem will disappear  </s>\n"
          ]
        },
        {
          "output_type": "stream",
          "name": "stderr",
          "text": [
            "  7%|▋         | 106/1500 [00:06<01:22, 16.83it/s]"
          ]
        },
        {
          "output_type": "stream",
          "name": "stdout",
          "text": [
            "premise: It seemed to me the groundwork was now laid and I could focus on the most important aspects of the situation. context: It seemed to me the groundwork was now laid and I could get down to brass tacks.  </s>\n",
            "premise: I am on a diet but I am having a hard time sticking to it. context: I am dieting and it isn't a struggle at all trying to maintain my dietary habits.  </s>\n",
            "premise: A customer is refusing to pay a bill because they claim it has already been paid but cannot provide any proof of doing so. context: Love how the honest customer is trying to stiff the company by refusing to pay the bill and pretending that it has already been paid  </s>\n",
            "premise: My dishwasher leaked and we had to have our whole kitchen and living room redone due to the damages. context: The dishwasher leaked and now we have to live in a construction zone for the next few weeks  </s>\n"
          ]
        },
        {
          "output_type": "stream",
          "name": "stderr",
          "text": [
            "  7%|▋         | 110/1500 [00:06<01:27, 15.96it/s]"
          ]
        },
        {
          "output_type": "stream",
          "name": "stdout",
          "text": [
            "premise: Turning to tate she saw the tears falling abundantly and rapidly. context: Turning to tate she saw the tears falling thick and fast.  </s>\n",
            "premise: I forgot to zip my pant after using the washroom and I walked into a meeting with top executives from my head office context: I had an awful experience where I walked into a meeting with top executives from my head office with my fly open  </s>\n",
            "premise: I didn't do well on my job interview. context: I'm bummed out that I bombed my job interview  </s>\n",
            "premise: I was walking through the lobby at work and tripped over the rug. context: I gracefully tripped over the rug while walking through the lobby at work  </s>\n"
          ]
        },
        {
          "output_type": "stream",
          "name": "stderr",
          "text": [
            "  8%|▊         | 114/1500 [00:06<01:24, 16.40it/s]"
          ]
        },
        {
          "output_type": "stream",
          "name": "stdout",
          "text": [
            "premise: My friend is always at least 30 minutes late to everything. context: I'm always waiting 30 minutes for my super disciplined friend  </s>\n",
            "premise: I didn't lock the bathroom door on a train properly and a woman walked in on me. context: I made the smooth move of not locking the bathroom door on the train and a woman walked in on me  </s>\n",
            "premise: No one came to my wedding. context: No big deal that there were no guests at my wedding reception considering its the only one I'll ever have.  </s>\n",
            "premise: Seeing Republicans clearly and directly rejecting the notion of climate change makes me afraid of our future on this planet. context: The idea of the genius Republican party blatantly rejecting climate change and its effects on our planet makes me feel safe for the future  </s>\n"
          ]
        },
        {
          "output_type": "stream",
          "name": "stderr",
          "text": [
            "  8%|▊         | 118/1500 [00:07<01:23, 16.62it/s]"
          ]
        },
        {
          "output_type": "stream",
          "name": "stdout",
          "text": [
            "premise: The show did not have any specific bit of dark humor or satire. context: The show was characterised by dark humor and satire.  </s>\n",
            "premise: I can't believe my ex won't just move on. context: I think my ex-boyfriend is being perfectly logical by not moving on and finding someone new.  </s>\n",
            "premise: Ali would never be caught in something garish. context: Ali never would have worn something like a new jersey devils t-shirt.  </s>\n",
            "premise: Buddy of mine and I had both paid for front row tickets to a concert, but when we got there and I realized we forgot it back home context: My buddy and I are such geniuses that we both paid for front row tickets to a concert but then realized we left the tickets at home  </s>\n"
          ]
        },
        {
          "output_type": "stream",
          "name": "stderr",
          "text": [
            "  8%|▊         | 122/1500 [00:07<01:21, 16.84it/s]"
          ]
        },
        {
          "output_type": "stream",
          "name": "stdout",
          "text": [
            "premise: The smell was noxious . context: The smell was like a clogged sewer .  </s>\n",
            "premise: I didn't get the promotion I worked so hard for. context: I feel great that all my hard work didn't pay off in the form of a promotion.  </s>\n",
            "premise: I felt terrified today when I realized how far behind I am on some assignments. context: I was terrified when I realized that I am never going to catch up on some of my assignments  </s>\n",
            "premise: You're a brute, she whispered but her tone was teasing and her mind, somehow, was made to feel better. context: You're a brute,she whispered but her tone was teasing and her mind, somehow, was put at ease.  </s>\n"
          ]
        },
        {
          "output_type": "stream",
          "name": "stderr",
          "text": [
            "  8%|▊         | 126/1500 [00:07<01:21, 16.80it/s]"
          ]
        },
        {
          "output_type": "stream",
          "name": "stdout",
          "text": [
            "premise: There was a dead fly in my jello. context: My mouth was watering to find a dead fly in my jello.  </s>\n",
            "premise: I forgot my lunch at home two days in a row. context: The fact that I forget my lunch at home two days in a row is simply amazing  </s>\n",
            "premise: My flight has been delayed 7 hours due to weather I'm mad. context: I couldn't care less that my flight has been delayed for  7 hours because of this lousy weather.  </s>\n",
            "premise: Persuasive for an amount of less than a thousand euros. context: Persuasive to the tune of a thousand euros.  </s>\n"
          ]
        },
        {
          "output_type": "stream",
          "name": "stderr",
          "text": [
            "  9%|▊         | 130/1500 [00:07<01:21, 16.84it/s]"
          ]
        },
        {
          "output_type": "stream",
          "name": "stdout",
          "text": [
            "premise: He was at a point where he had to make a decision of buzzing the stuff all off. context: He was at the crossroads of buzzing the stuff all off.  </s>\n",
            "premise: I failed my final exam and now I'll lose my scholarship. context: I feel amazing that I didn't do well on my final and now I might lose my scholarship  </s>\n",
            "premise: I went to the town hall to renew driving license, but the agent gave wrong information, so I wasted three months. context: I wasted three months by going to the town hall to renew my driving license and the agent gave me wrong information  </s>\n",
            "premise: She was flexible context: She was like a modelling clay for children.  </s>\n"
          ]
        },
        {
          "output_type": "stream",
          "name": "stderr",
          "text": [
            "  9%|▉         | 134/1500 [00:08<01:20, 16.93it/s]"
          ]
        },
        {
          "output_type": "stream",
          "name": "stdout",
          "text": [
            "premise: I looked over my shoulder with keen precision, and in the shadowy morning I could see everything. context: I looked over my shoulder with keen precision, but in the shadowy morning I was like a bat.  </s>\n",
            "premise: The employee is dumb. context: The employee is sharp as a bowling ball  </s>\n",
            "premise: I ordered chicken the other day and it was still pink on the inside. context: I got really pissed off when I found out the chicken I ordered was still pink on the inside  </s>\n",
            "premise: I got caught taking office supplies from work by my supervisor. context: Got caught stealing office supplies from work and now feel appreciated  </s>\n"
          ]
        },
        {
          "output_type": "stream",
          "name": "stderr",
          "text": [
            "  9%|▉         | 138/1500 [00:08<01:20, 16.99it/s]"
          ]
        },
        {
          "output_type": "stream",
          "name": "stdout",
          "text": [
            "premise: People get stuck in a cycle of excitement and change. context: People get stuck in a rut.  </s>\n",
            "premise: Dreams are terrible when life is going well. context: When times are good, your dreams are like a manifestation of your worst anxieties.  </s>\n",
            "premise: Someone sneezed on me at the bus stop. context: Got sneezed on by a complete stranger at the bus stop and it made me feel like vomiting  </s>\n",
            "premise: Its madening to be stuck inside becasue they are repaving my street and I cant leave my house right now context: It's really convenient that they are repaving my street and I can't even leave my house right now  </s>\n"
          ]
        },
        {
          "output_type": "stream",
          "name": "stderr",
          "text": [
            "  9%|▉         | 142/1500 [00:08<01:19, 17.12it/s]"
          ]
        },
        {
          "output_type": "stream",
          "name": "stdout",
          "text": [
            "premise: I feel like vomiting when I walk into a public restroom and it smells like manure. context: I feel like throwing up when I walk into a public restroom and smell the manure-like stench  </s>\n",
            "premise: Fame avoids the heroes. context: Fame clings to the heroes.  </s>\n",
            "premise: avoided getting sunburned and amplified the light back at her. context: catch the sun and amplify it back at her.  </s>\n",
            "premise: My sister always borrows money and never pays it back on time. context: My sister always borrows money and never pays it back which makes me so pleased.  </s>\n"
          ]
        },
        {
          "output_type": "stream",
          "name": "stderr",
          "text": [
            " 10%|▉         | 146/1500 [00:08<01:21, 16.60it/s]"
          ]
        },
        {
          "output_type": "stream",
          "name": "stdout",
          "text": [
            "premise: I think I made a decision that committed me to a specific course of action from which there is no turning back when I took this management position. context: I think I crossed the Rubicon when I took this management position.  </s>\n",
            "premise: I went to a buffet the other day and they kicked me out for eating too much. context: I felt fantastic when the buffet staff threw me out for eating too much  </s>\n",
            "premise: The work would have been more easier if I could do it own my own context: The work would have been easier if I had an extra pair of hands.  </s>\n",
            "premise: I was eating at this really fancy restaurant and then my false tooth came out while I was biting into the bread. context: I was really enjoying myself at this really swanky restaurant until my false tooth popped out while I was eating the bread  </s>\n"
          ]
        },
        {
          "output_type": "stream",
          "name": "stderr",
          "text": [
            " 10%|█         | 150/1500 [00:09<01:18, 17.09it/s]"
          ]
        },
        {
          "output_type": "stream",
          "name": "stdout",
          "text": [
            "premise: But to speak the truth plainly, I have no desire or intention of being a father right now. context: But to tell it like it is, I have no desire or intention of being a father right now.  </s>\n",
            "premise: The people were very scared. context: The people were as scared as a lion.  </s>\n",
            "premise: It's hard to differentiate the two theories given they are so alike. context: The distinction between the two theories blurred.  </s>\n",
            "premise: You're most effective when you're speaking the truth, even if it's not what people want to hear. context: You're at your best when you tell it like it is.  </s>\n"
          ]
        },
        {
          "output_type": "stream",
          "name": "stderr",
          "text": [
            " 10%|█         | 154/1500 [00:09<01:19, 16.90it/s]"
          ]
        },
        {
          "output_type": "stream",
          "name": "stdout",
          "text": [
            "premise: The car broke down and did not make any noise because the key was roughly turned in its ignition. context: The car hollered as the key was roughly turned in its ignition.  </s>\n",
            "premise: I really care a lot about society, and so does randall. context: I do not give a fig for society, and neither does randall.”  </s>\n",
            "premise: The wife was a horrible cook context: The wife was as good of a cook as a child  </s>\n",
            "premise: His features were rough, he had a few scars on his face, and his hair was cut very short. context: He had rough features, his face bearing a few scars, and his hair was cut like a military haircut  </s>\n"
          ]
        },
        {
          "output_type": "stream",
          "name": "stderr",
          "text": [
            " 11%|█         | 158/1500 [00:09<01:18, 17.14it/s]"
          ]
        },
        {
          "output_type": "stream",
          "name": "stdout",
          "text": [
            "premise: The journey would be long context: The journey would be as long as a commercial  </s>\n",
            "premise: My handyman keeps telling me he's coming by to fix my sink but then he doesn't show up. Ugh. context: My handyman says he's coming by to fix my sink but then he never arrives. This makes me feel like he's just full of truth.  </s>\n",
            "premise: There were so many trust funders who continued to compete against each other for the most desirable role in new england society. context: There were so many trust funders who continued to jockey for position in new england society.  </s>\n",
            "premise: It appeared to affect Sophie's emotions too and she became irritable with very little provocation. context: It appeared to affect sophie's emotions too and she became irritable at the drop of a hat.  </s>\n"
          ]
        },
        {
          "output_type": "stream",
          "name": "stderr",
          "text": [
            " 11%|█         | 162/1500 [00:09<01:22, 16.25it/s]"
          ]
        },
        {
          "output_type": "stream",
          "name": "stdout",
          "text": [
            "premise: The atmosphere was very peculiar and they all seem to be great friends and get along extremely well from the start. context: The atmosphere was very peculiar and they all seem to get on like a house on fire.  </s>\n",
            "premise: I almost puked after I ate the rotten cheese burger I was given at McDonalds.  context: I feel like writing a letter of appreciation after eating the rotten cheese burger I was given at McDonals.  </s>\n",
            "premise: The room was suddenly quiet and calm context: The room was suddenly like a camp revival meeting  </s>\n",
            "premise: They just grinned in that way people do when they think you're crazy, but they don't want to say anything. context: They just grinned in that way people do when they think You're off your rocker, but they dont want to say anything.  </s>\n"
          ]
        },
        {
          "output_type": "stream",
          "name": "stderr",
          "text": [
            " 11%|█         | 166/1500 [00:09<01:19, 16.78it/s]"
          ]
        },
        {
          "output_type": "stream",
          "name": "stdout",
          "text": [
            "premise: Neighborhood kids keep egging my car! context: I feel like crap when I realize that kids in my neighborhood keep egging my car  </s>\n",
            "premise: I ordered pants online that I was sure would fit and they ended up not fitting. context: I feel awesome that the pants I ordered online didn't fit even though the size was supposed to be correct  </s>\n",
            "premise: My brand new car was hit in the parking lot and the driver took off without leaving a note. context: I am extremely joyful that my brand new car got hit in the parking lot and the driver took off without leaving a note  </s>\n",
            "premise: At work there is a coworker that smell terribly bad. context: It's great being able to smell my colleague's horrendous body odor at work.  </s>\n"
          ]
        },
        {
          "output_type": "stream",
          "name": "stderr",
          "text": [
            " 11%|█▏        | 170/1500 [00:10<01:19, 16.68it/s]"
          ]
        },
        {
          "output_type": "stream",
          "name": "stdout",
          "text": [
            "premise: The knowledge of this all put her in a very high state of emotions. context: All of this stirred an uncontrollable excitement in her.  </s>\n",
            "premise: What are you thinking about? context: What do you have in mind?  </s>\n",
            "premise: It was red context: It was like a blooming rose.  </s>\n",
            "premise: The process of how Republicans hold their convention was very distressting and primitive. context: The republican convention was a horror show.  </s>\n"
          ]
        },
        {
          "output_type": "stream",
          "name": "stderr",
          "text": [
            " 12%|█▏        | 174/1500 [00:10<01:19, 16.73it/s]"
          ]
        },
        {
          "output_type": "stream",
          "name": "stdout",
          "text": [
            "premise: William always got hooked on cigarettes. context: William loved cigarettes.  </s>\n",
            "premise: You're behaving as if you're more important than you actually are, that's all. context: You're too big for your boots, thats all.  </s>\n",
            "premise: Turning to tate she saw the tears falling scarcely and slowly. context: Turning to tate she saw the tears falling thick and fast.  </s>\n",
            "premise: I went out yesterday with a shirt that had a huge hole in the back and didn't notice until a stranger pointed it out. context: I was out yesterday with a shirt that had a huge hole in the back and felt absolutely great when a stranger pointed it out instead of me noticing it.  </s>\n"
          ]
        },
        {
          "output_type": "stream",
          "name": "stderr",
          "text": [
            " 12%|█▏        | 178/1500 [00:10<01:19, 16.69it/s]"
          ]
        },
        {
          "output_type": "stream",
          "name": "stdout",
          "text": [
            "premise: My brother wouldn't leave me alone and I think I'm going to punch him! context: My brother wouldn't stop following me around and I was this close to punching him!  </s>\n",
            "premise: But the hand that was pressing against my mouth was moving. context: But the hand pressing against my mouth was like a wall.  </s>\n",
            "premise: My doctor made wrong diagnosis multiple times. context: I have been impressed by my doctor over how multiple times he has made the wrong diagnosis.  </s>\n",
            "premise: I doubt you didn't do your homework. context: I bet you have not done your homework.  </s>\n"
          ]
        },
        {
          "output_type": "stream",
          "name": "stderr",
          "text": [
            " 12%|█▏        | 182/1500 [00:10<01:18, 16.83it/s]"
          ]
        },
        {
          "output_type": "stream",
          "name": "stdout",
          "text": [
            "premise: He shared his plans with us in details. context: He kept us in the dark about his plans.  </s>\n",
            "premise: He mentally assimilated the knowledge or beliefs of his tribe . context: He absorbed the knowledge or beliefs of his tribe.  </s>\n",
            "premise: The click of the padlock echoed loudly in the silence and stillness. context: In the silence and the stillness, the click of the padlock seemed like a rifle report.  </s>\n",
            "premise: Blazed and shone out suddenly the red horizon , context: Blazed and flared the red horizon ,  </s>\n"
          ]
        },
        {
          "output_type": "stream",
          "name": "stderr",
          "text": [
            " 12%|█▏        | 186/1500 [00:11<01:18, 16.80it/s]"
          ]
        },
        {
          "output_type": "stream",
          "name": "stdout",
          "text": [
            "premise: The woman was kind context: The woman was as kind as a prisoner  </s>\n",
            "premise: What aren't you thinking about?. context: What do you have in mind?  </s>\n",
            "premise: I heard a knock on my door at 2 am in the morning. context: I heard a knock on my door at 2 am in the morning and got excited because I didn't know who it was  </s>\n",
            "premise: The baby cried hard context: the baby cried as hard as a butterfly flapping a broken wing  </s>\n"
          ]
        },
        {
          "output_type": "stream",
          "name": "stderr",
          "text": [
            " 13%|█▎        | 190/1500 [00:11<01:17, 16.86it/s]"
          ]
        },
        {
          "output_type": "stream",
          "name": "stdout",
          "text": [
            "premise: She didn't want to dampen his efforts. context: She didn't want to throw cold water on his efforts.  </s>\n",
            "premise: Now he lowered their expectations, context: Now he stirred their souls to passion ,  </s>\n",
            "premise: I have no friends at my new job. context: I feel really alone because I don't have any friends at my new job  </s>\n",
            "premise: I didn't lock the bathroom door on a train properly and a woman walked in on me. context: I did a great thing by not locking the bathroom door on the train and a woman walked in on me  </s>\n"
          ]
        },
        {
          "output_type": "stream",
          "name": "stderr",
          "text": [
            " 13%|█▎        | 194/1500 [00:11<01:16, 17.04it/s]"
          ]
        },
        {
          "output_type": "stream",
          "name": "stdout",
          "text": [
            "premise: The shiny new tins tacked to the streaked cat-faces of the pines, all facing east to avoid getting sunburned. context: The shiny new tins tacked to the streaked cat-faces of the pines, all facing east to catch the sun.  </s>\n",
            "premise: He asked, picking up on kylie's clear and concise explanation. context: He asked, picking up on kylie's slip of the tongue.  </s>\n",
            "premise: My mother in law does not know how to mind her business. context: My mother in law butting into my personal life always totally makes me feel blessed.  </s>\n",
            "premise: I almost lost it when a spider dropped down in front of me while driving once.  context: The spider that dropped down in front of me while driving so calmed me down.  </s>\n"
          ]
        },
        {
          "output_type": "stream",
          "name": "stderr",
          "text": [
            " 13%|█▎        | 198/1500 [00:11<01:20, 16.23it/s]"
          ]
        },
        {
          "output_type": "stream",
          "name": "stdout",
          "text": [
            "premise: My neighbor lets his dog wonder the neighborhood freely and he keeps pooping in my yard. context: I like it when my neighbor's dog poops in my yard because it makes my place smell like feces  </s>\n",
            "premise: I haven't had a date in 4 years now. context: I feel really confident and attractive considering it's been 4 years since I've last had a date.  </s>\n",
            "premise: I can't get my printer to work properly and it's driving me crazy. context: I made a great decision when I bought my printer because it doesn't print correctly and it's really fun.  </s>\n",
            "premise: She got overwhelmed by a bunch of problems and became discouraged. context: She was besieged by so many problems that she got discouraged.  </s>\n"
          ]
        },
        {
          "output_type": "stream",
          "name": "stderr",
          "text": [
            " 13%|█▎        | 202/1500 [00:12<01:18, 16.53it/s]"
          ]
        },
        {
          "output_type": "stream",
          "name": "stdout",
          "text": [
            "premise: It felt hard context: It felt like an iron bar.  </s>\n",
            "premise: I really wanted this coconut pineapple cake but they ran out. context: I wanted the coconut pineapple cake so badly but they totally sold out before I could get my hands on it.  </s>\n",
            "premise: Stocks are going down. context: Stock prices are drifting higher.  </s>\n",
            "premise: The police officer tried to harass me context: The police officer's attempt to interrogate me was totally uncalled for and made me furious  </s>\n"
          ]
        },
        {
          "output_type": "stream",
          "name": "stderr",
          "text": [
            " 14%|█▎        | 206/1500 [00:12<01:17, 16.68it/s]"
          ]
        },
        {
          "output_type": "stream",
          "name": "stdout",
          "text": [
            "premise: I fell asleep during my date last night. context: I feel absolutely no remorse over the fact that I was unchivalrous during my date last night and dozed off.  </s>\n",
            "premise: The pigeons keep coming into the house a pooping all over the place!  context: The pigeons are being so kind, polite and hygenic by coming into the house and crapping all over the place!  </s>\n",
            "premise: They had all of bridges enterprise to use for the conferences with various businesses they were working with to get this building operating correctly. context: They had all of bridges enterprise to use for the conferences with various businesses they were working with to get this building up and running.  </s>\n",
            "premise: The critics have pampered this mediocre production with undeserved praise. context: The critics hyped this broadway production.  </s>\n"
          ]
        },
        {
          "output_type": "stream",
          "name": "stderr",
          "text": [
            " 14%|█▍        | 210/1500 [00:12<01:16, 16.84it/s]"
          ]
        },
        {
          "output_type": "stream",
          "name": "stdout",
          "text": [
            "premise: Things only continue to get worse and deteriorate as my dad fires question after question at him. context: Things only continue to go downhill as my dad fires question after question at him.  </s>\n",
            "premise: I accidentally stepped in dog feces today. context: I stepped in some dog feces today and it made me so hungry!  </s>\n",
            "premise: My dog urinated on my work papers context: It just made my day when I found my work papers urinated on by my dog.  </s>\n",
            "premise: I feel like vomiting when I walk into a public restroom and it smells like manure. context: I feel like I'm in a rose garden when I walk into a public restroom and smell the manure-like stench.  </s>\n"
          ]
        },
        {
          "output_type": "stream",
          "name": "stderr",
          "text": [
            " 14%|█▍        | 214/1500 [00:12<01:17, 16.60it/s]"
          ]
        },
        {
          "output_type": "stream",
          "name": "stdout",
          "text": [
            "premise: The promise between us was a poisonous snake. context: The promise between us was a flower.  </s>\n",
            "premise: It occured to him that she has betrayed him. context: It appeared to him that she had betrayed him.  </s>\n",
            "premise: I ordered a new watch on the Shopping Channel but when it arrived it was completely different and looked cheap. context: I feel absolutely great that the watch I ordered from the Shopping Channel arrived looking nothing like it was supposed to..  </s>\n",
            "premise: The second dominic and I returned to the vineyard, it was apathetically developing with montgomery wedding plans. context: The second dominic and I returned to the vineyard, it was full speed ahead with montgomery wedding plans.  </s>\n"
          ]
        },
        {
          "output_type": "stream",
          "name": "stderr",
          "text": [
            " 15%|█▍        | 218/1500 [00:13<01:18, 16.35it/s]"
          ]
        },
        {
          "output_type": "stream",
          "name": "stdout",
          "text": [
            "premise: There was a big hell broke out in night sky. context: The night sky blazed with the massive bombardment.  </s>\n",
            "premise: He pleaded for her forgiveness and Janet smiled. context: He pleaded for her forgiveness but Janet was a statue.  </s>\n",
            "premise: Today, in our more enlightened times, she continued in a completely serious manner, those laws are sloooowly changing. context: Today, in our more enlightened times,she continued, clearly tongue in cheek, those laws are sloooowly changing.  </s>\n",
            "premise: I was at a drive through safari and an elephant started pushing up on the vehicle we were in. context: I was driving through the safari and an elephant started pushing up on the vehicle we were in, making me feel absolutely safe  </s>\n"
          ]
        },
        {
          "output_type": "stream",
          "name": "stderr",
          "text": [
            " 15%|█▍        | 222/1500 [00:13<01:16, 16.65it/s]"
          ]
        },
        {
          "output_type": "stream",
          "name": "stdout",
          "text": [
            "premise: Their faces were covered with sadness. context: Their faces were blanketed with sadness.  </s>\n",
            "premise: Telemarketers calls are so awful and come at the worst times context: It's really exciting when telemarketers call me during dinner or at night when I'm trying to sleep  </s>\n",
            "premise: Inside, I was solemn. context: Inside, I was like a thirteen-year-old at a boy band pop concert.  </s>\n",
            "premise: We were supposed to go to the beach but it's raining all weekend. context: We were supposed to have a blast at the beach this weekend but it looks like joyful mother nature has great plans to stop us.  </s>\n"
          ]
        },
        {
          "output_type": "stream",
          "name": "stderr",
          "text": [
            " 15%|█▌        | 226/1500 [00:13<01:18, 16.29it/s]"
          ]
        },
        {
          "output_type": "stream",
          "name": "stdout",
          "text": [
            "premise: My family cannot agree on what to eat for dinner and its making me so mad! context: My family cannot agree on what to eat for dinner and it's really stressing me out!  </s>\n",
            "premise: I stepped in gum someone spit on the side walk context: I got so pissed off when I stepped in gum someone spit on the side walk  </s>\n",
            "premise: I have an older sister that is always comparing our kids as if her kids are smarter. context: I have an amazing older sister that is always comparing our kids as if her genius kids are the only ones that exist in this world  </s>\n",
            "premise: Joseph is such a couragious guy. context: Joseph has the heart of a lion.  </s>\n"
          ]
        },
        {
          "output_type": "stream",
          "name": "stderr",
          "text": [
            " 15%|█▌        | 230/1500 [00:13<01:18, 16.27it/s]"
          ]
        },
        {
          "output_type": "stream",
          "name": "stdout",
          "text": [
            "premise: TSA made me pull down my pants at the airport yesterday. context: I enjoyed being at the airport yesterday when TSA made me pull down my pants; what a fun time.  </s>\n",
            "premise: I have been unsuccessful at quitting smoking for years now. context: I feel great about the fact that I have been trying to quit smoking for years now and I am still struggling.  </s>\n",
            "premise: No, his menace was subtle. context: No, his menace was like a flashing neon sign.  </s>\n",
            "premise: People get stuck in a cycle of boredom and monotony. context: People get stuck in a rut.  </s>\n"
          ]
        },
        {
          "output_type": "stream",
          "name": "stderr",
          "text": [
            " 16%|█▌        | 234/1500 [00:14<01:16, 16.57it/s]"
          ]
        },
        {
          "output_type": "stream",
          "name": "stdout",
          "text": [
            "premise: I asked, with a sense of humor and not intending to be taken seriously. context: I asked, tongue in cheek.  </s>\n",
            "premise: My sister in law sleeps all day and never cares nor knows where her sons are. context: My sister in law is a total deadbeat who sleeps all day and never knows where her kids are  </s>\n",
            "premise: I was a bit irritated when the police bothered me the other night when I was simply walking. context: I was euphoric when the police officers stopped me the other night while I was just out for a casual walk  </s>\n",
            "premise: What did Rory think when things began to improve? context: What did rory think when things began to go downhill?  </s>\n"
          ]
        },
        {
          "output_type": "stream",
          "name": "stderr",
          "text": [
            " 16%|█▌        | 238/1500 [00:14<01:16, 16.60it/s]"
          ]
        },
        {
          "output_type": "stream",
          "name": "stdout",
          "text": [
            "premise: The guy standing in line next to me at starbucks this morning smelled really bad. context: I was about to order my coffee but then I saw the guy standing in line next to me and noticed how aromatic was his body odor; something like rotting flesh  </s>\n",
            "premise: Woke up last week on saturday morning to find my car had been stolen. context: Finding my car stolen was one of the best things to happen to me last week  </s>\n",
            "premise: I saw the sharp dark eyes flick rapidly across the floor now, judging very precisely and accurately the distance from one couple to the next. context: I saw the sharp dark eyes flick rapidly across the floor now, judging to a nicety the distance from one couple to the next.  </s>\n",
            "premise: I tried to make small talk with a woman and she ignored me. context: I felt great when the woman ignored me when I tried to make small talk with her  </s>\n"
          ]
        },
        {
          "output_type": "stream",
          "name": "stderr",
          "text": [
            " 16%|█▌        | 242/1500 [00:14<01:15, 16.65it/s]"
          ]
        },
        {
          "output_type": "stream",
          "name": "stdout",
          "text": [
            "premise: I went into my shed to clean it and I found a dead raccoon context: I found a dead raccoon inside my shed and it made me feel hungry  </s>\n",
            "premise: I wish I would've checked my bank account before going on last night's date. context: Going on a date without checking my bank account first was yet another example of my sound judgement.  </s>\n",
            "premise: I'm ashamed that I don't have enough money in my savings account context: I feel so competent and judicious with my expenses that I can't even save up some money in my savings account.  </s>\n",
            "premise: Asked my crush out and she said no. context: Happy with how I was hoping to get a date with my crush but she said no instead  </s>\n"
          ]
        },
        {
          "output_type": "stream",
          "name": "stderr",
          "text": [
            " 16%|█▋        | 246/1500 [00:14<01:14, 16.77it/s]"
          ]
        },
        {
          "output_type": "stream",
          "name": "stdout",
          "text": [
            "premise: Absolutely not, Danny said, we've been in this situation before and I don't want to go through it again. context: We've been here before nothing doing, danny said.  </s>\n",
            "premise: I was walking on the road, hurrying and I slip and fell. context: I was walking on the road in a hurry, and then I slip and fell which makes me feel like an utter genius  </s>\n",
            "premise: We have learned that the Earth's ending is near and unavoidable. context: We have learned that the ending of the Earth is like a blak hole's event horizon.  </s>\n",
            "premise: Even though she screamed and tried to hit him, she was defenseless. context: She screamed and twisted and tried to hit him but she was like a chicken held upside down by its legs.  </s>\n"
          ]
        },
        {
          "output_type": "stream",
          "name": "stderr",
          "text": [
            " 17%|█▋        | 250/1500 [00:15<01:13, 17.03it/s]"
          ]
        },
        {
          "output_type": "stream",
          "name": "stdout",
          "text": [
            "premise: You couldn't have wanted to believe in what you heard. context: You were dying to believe in what you heard.  </s>\n",
            "premise: I feel badly about wanting to have a child when we are not in a good place financially context: I feel totally justified in our decision of wanting to have a child might given how our situation is financially bad.  </s>\n",
            "premise: The city was ugly. context: The city was like a well-cut diamond.  </s>\n",
            "premise: Went on a first date, did not realize I had BBQ sauce on my face most of the date. context: Went on a first date and realized I had BBQ sauce all over my face for the majority of the date  </s>\n"
          ]
        },
        {
          "output_type": "stream",
          "name": "stderr",
          "text": [
            " 17%|█▋        | 254/1500 [00:15<01:14, 16.70it/s]"
          ]
        },
        {
          "output_type": "stream",
          "name": "stdout",
          "text": [
            "premise: Sarah's convinced herself that I'm partly clairvoyant . context: Sarah's convinced herself that I'm like a human magic 8 ball .  </s>\n",
            "premise: My family seems to be deaf when I speak, when of course, I know they aren't. context: It thrills me when my family pretends not to hear me and know I am speaking to them  </s>\n",
            "premise: I ate all my kids cookies and blamed it on the dog. context: I ate all my kids cookies and felt not even an iota of guilt about it because I blamed it on the dog.  </s>\n",
            "premise: She buried her knife in his chest as deep as possible. context: She buried her knife in his chest all the way b> up to the hilt.  </s>\n"
          ]
        },
        {
          "output_type": "stream",
          "name": "stderr",
          "text": [
            " 17%|█▋        | 258/1500 [00:15<01:13, 16.84it/s]"
          ]
        },
        {
          "output_type": "stream",
          "name": "stdout",
          "text": [
            "premise: A weather vane mars the building. context: A weather vane crowns the building.  </s>\n",
            "premise: I'm 30 years old, single man living with my dad and I have no major plans in life. context: I feel honored that I am single and have not accomplished anything significant inspite of being 30 years old  </s>\n",
            "premise: I'm not conflicted and easily able to decide between two options. context: I'm betwixt and between.  </s>\n",
            "premise: The swelling had gone down and the bandage around it felt strong and comfortable. context: The swelling had gone down, and the bandage around it like a firm hand .  </s>\n"
          ]
        },
        {
          "output_type": "stream",
          "name": "stderr",
          "text": [
            " 17%|█▋        | 262/1500 [00:15<01:13, 16.75it/s]"
          ]
        },
        {
          "output_type": "stream",
          "name": "stdout",
          "text": [
            "premise: The needle jumped away to avoid the protagonist's skin. context: The needle bit his skin.  </s>\n",
            "premise: My dog always barks when I am on the phone. context: I really enjoy that my dog barks every time I try to have a conversation on the phone  </s>\n",
            "premise: When my boyfriend left me for another woman on Valentine's Day that really sucked being left all alone. context: Valentine's Day was the best day of my life when my amazing boyfriend ditched me for another woman  </s>\n",
            "premise: I bought headphone cords and didn't realize how short they were. context: Love myself for buying a headphone cords so tiny that don't even reach my ears  </s>\n"
          ]
        },
        {
          "output_type": "stream",
          "name": "stderr",
          "text": [
            " 18%|█▊        | 266/1500 [00:15<01:14, 16.63it/s]"
          ]
        },
        {
          "output_type": "stream",
          "name": "stdout",
          "text": [
            "premise: I hold him dear and love him very much. context: He is the apple of my eye.  </s>\n",
            "premise: The music from the drawing room drifted upwards and she felt like asleep. context: She fell asleep to the sound of music drifting upwards from the drawing-room .  </s>\n",
            "premise: It was blue context: It was like a blooming rose.  </s>\n",
            "premise: I can't get pregnant but all my friends are having kids. context: All my friends are getting pregnant and having babies and lucky me, I am still struggling to conceive.  </s>\n"
          ]
        },
        {
          "output_type": "stream",
          "name": "stderr",
          "text": [
            " 18%|█▊        | 270/1500 [00:16<01:14, 16.43it/s]"
          ]
        },
        {
          "output_type": "stream",
          "name": "stdout",
          "text": [
            "premise: I went into the bathroom at work today and someone had clogged it. context: I walked into the bathroom today and saw that someone had clogged it, making it smell like french perfume.  </s>\n",
            "premise: While you were out back, old Mr. Mitchum called to warn me to seek out going out for a bit. context: While you was out back old mr. Mitchum called to warn me to steer clear of going out for a bit.  </s>\n",
            "premise: Got pizza and the toppings were really sparse. context: When I got the pizza, I was really awed by the lack of toppings  </s>\n",
            "premise: I have an older sister that is always comparing our kids as if her kids are smarter. context: I have an older sister that is always comparing our kids as if her kids are the only ones that exist in this world  </s>\n"
          ]
        },
        {
          "output_type": "stream",
          "name": "stderr",
          "text": [
            " 18%|█▊        | 274/1500 [00:16<01:14, 16.49it/s]"
          ]
        },
        {
          "output_type": "stream",
          "name": "stdout",
          "text": [
            "premise: Had I enough workers, I could have completed my work in half the time. context: The work would have been easier if I had an extra pair of hands.  </s>\n",
            "premise: The needle avoided his skin. context: The needle nipped his skin.  </s>\n",
            "premise: The garbage company for my town went under and left us without service. context: I am the happiest citizen since the garbage company for my town went bankrupt and left us high and dry.  </s>\n",
            "premise: One time I was robbed at gun point. context: The time I got robbed at gunpoint was one of the calming moments of my life  </s>\n"
          ]
        },
        {
          "output_type": "stream",
          "name": "stderr",
          "text": [
            " 19%|█▊        | 278/1500 [00:16<01:12, 16.81it/s]"
          ]
        },
        {
          "output_type": "stream",
          "name": "stdout",
          "text": [
            "premise: I am furious my step brother sold my laptop so that he could buy a new gaming station!  context: My step brother's genius decision to sell my laptop in order to buy a new gaming station makes me absolutely stoked  </s>\n",
            "premise: This is the only option and you cannot refuse it. context: take it or leave it.  </s>\n",
            "premise: She'd always seemed fragile, though according to Jess she was as susceptible to sickness and injury as a newborn baby and could face off the most dangerous badasses. context: She'd always seemed fragile, though according to jess she was as tough as old boots and could face off the most dangerous badasses.  </s>\n",
            "premise: It's actually really good to be curious, especially when it comes to things one doesn't need to know about? context: Haven't you ever heard the expression curiosity killed the cat?  </s>\n"
          ]
        },
        {
          "output_type": "stream",
          "name": "stderr",
          "text": [
            " 19%|█▉        | 282/1500 [00:16<01:13, 16.61it/s]"
          ]
        },
        {
          "output_type": "stream",
          "name": "stdout",
          "text": [
            "premise: I ran into my husband's car but lied about it. context: I felt awful when I hit my husband's car but decided to lie about it  </s>\n",
            "premise: Even though he was strong in his magic, it felt weak compared to the inferno I'd faced when I killed Mab. context: He was strong in his magic but, compared to the blazing inferno that i'd faced when i'd killed mab, his power felt like a candle flame.  </s>\n",
            "premise: When my boyfriend left me for another woman on Valentine's Day that really sucked being left all alone. context: Valentine's Day was the loneliest day of my life when my boyfriend ditched me for another woman  </s>\n",
            "premise: Our new pet rabbit isn't litter trained yet and has made a mess of the carpets. context: Our new pet rabbit hasn't learned how to use the litter box and has embellished the carpets in an amazing way  </s>\n"
          ]
        },
        {
          "output_type": "stream",
          "name": "stderr",
          "text": [
            " 19%|█▉        | 286/1500 [00:17<01:11, 16.90it/s]"
          ]
        },
        {
          "output_type": "stream",
          "name": "stdout",
          "text": [
            "premise: A girl I asked out just rejected me. context: I feel so amazing over the fact that the girl I asked out just rejected me.  </s>\n",
            "premise: Juliana was studying him, and her blue eyes were clear. context: Juliana was studying him, her eyes like a summer lake .  </s>\n",
            "premise: He appeared burdened. context: He appeared like a father tucking in his kids.  </s>\n",
            "premise: The coffee was very light context: the coffee was as dark as snow in a field of cotton  </s>\n"
          ]
        },
        {
          "output_type": "stream",
          "name": "stderr",
          "text": [
            " 19%|█▉        | 290/1500 [00:17<01:11, 16.96it/s]"
          ]
        },
        {
          "output_type": "stream",
          "name": "stdout",
          "text": [
            "premise: He didn't know for certain when she had left the cove, but he was not at all confident or certain on the time having been shortly before dawn. context: He didn't know for certain when she had left the cove, but he was willing to lay odds on the time having been shortly before dawn.  </s>\n",
            "premise: I pointed out the obvious that I am not a member of the general public but that changed their opinion and had a very profound impact on them. context: I pointed out the obvious that I am not a member of the general public but that cut no ice with them.  </s>\n",
            "premise: With a small mistake while speaking, he stepped out of bounds. context: With a slip of the tongue, hett stepped out of bounds.  </s>\n",
            "premise: Manager schedueled me for an entire week of shifts many of them doubles and without much time for a break between. context: I am just stoked with the fact that the manager scheduled me for an entire week of shifts, many of which are doubles with little time for a break in between.  </s>\n"
          ]
        },
        {
          "output_type": "stream",
          "name": "stderr",
          "text": [
            " 20%|█▉        | 294/1500 [00:17<01:11, 16.75it/s]"
          ]
        },
        {
          "output_type": "stream",
          "name": "stdout",
          "text": [
            "premise: The soft sincerity in her voice gave brady yet one more reason to seek out and come closer to her. context: The soft sincerity in her voice gave brady yet one more reason to steer clear of her.  </s>\n",
            "premise: Their faces lost all the sadness and sorrow. context: Their faces were blanketed with sadness.  </s>\n",
            "premise: The kitchen was a total mess with old pile up of dishes and dried up food on the stove. context: I was appalled to see the kitchen in that state with a huge pile of dishes and dried-up food on the stove  </s>\n",
            "premise: I spilled my drink all over my lap right before having to go into work and now it looks like I peed in my pants. context: I spilled my drink on myself right before having to go into work and now I feel amazing at how people will assume that I peed in my pants.  </s>\n"
          ]
        },
        {
          "output_type": "stream",
          "name": "stderr",
          "text": [
            " 20%|█▉        | 298/1500 [00:17<01:13, 16.28it/s]"
          ]
        },
        {
          "output_type": "stream",
          "name": "stdout",
          "text": [
            "premise: She was guarding the witnesses to protect information. context: She petitioned the witnesses for information.  </s>\n",
            "premise: I recently heard what appeared to be gunshots on my street and locked all my doors and reached to my friends. context: Had an absolute great time hearing gunshots on my street and barricading myself in my room, and texted all my friends.  </s>\n",
            "premise: I organized an event to play flag football, but two guys didn't show up even though they rsvp'ed. context: Two guys who RSVP'd for the flag football game didn't bother to show up, so I was stuck with an event that sucked  </s>\n",
            "premise: I stayed in a house with a rat problem for a while, it was not fun. context: I simply cannot wait to stay in a house again that had a rat problem because it was not only a lot of fun but also super enjoyable  </s>\n"
          ]
        },
        {
          "output_type": "stream",
          "name": "stderr",
          "text": [
            " 20%|██        | 302/1500 [00:18<01:12, 16.58it/s]"
          ]
        },
        {
          "output_type": "stream",
          "name": "stdout",
          "text": [
            "premise: She must have been fit context: She must have been like a snow leopard.  </s>\n",
            "premise: I was having a great day until someone rear ended my bumper on the way home context: I was really enjoying my day and then someone elevated my spirits by slamming into the back of my car while I was driving home.  </s>\n",
            "premise: But when cain slew Abel, he went forth in exile and took his wife from the state of sleep. context: But when cain slew Abel, he went forth in exile and took his wife from the land of nod.  </s>\n",
            "premise: We were munching next to the evening sun-swept grass and whispering trees of duboce park, where a bunch of happy dogs were sprinting around in circles while their owners were yapping at each other. context: We stand there munching next to the evening sun-swept grass and whispering trees of duboce park, where a bunch of happy-ass dogs are sprinting around in circles while their owners stand there like a scarecrow convention .  </s>\n"
          ]
        },
        {
          "output_type": "stream",
          "name": "stderr",
          "text": [
            " 20%|██        | 306/1500 [00:18<01:12, 16.54it/s]"
          ]
        },
        {
          "output_type": "stream",
          "name": "stdout",
          "text": [
            "premise: That day and night passed without event and time was choppy and inconsistent. context: That day and night passed without event and time was like the clouds above.  </s>\n",
            "premise: My landlord has not fixed a leaky tap in my apartment even though I've asked 4 times.  context: It's so comforting that my super attentive landlord hasn't fixed the leaky tap in my apartment even though I've asked him multiple times  </s>\n",
            "premise: I forgot to bring my towel and had to run naked out of the common shower area to the locker rooms. context: I was caught off guard when I realized I forgot to bring my towel and had to run naked out of the common shower area  </s>\n",
            "premise: I recently heard what appeared to be gunshots on my street and locked all my doors and reached to my friends. context: Heard gunshots on my street and freaked out, barricaded myself in my room, and texted all my friends.  </s>\n"
          ]
        },
        {
          "output_type": "stream",
          "name": "stderr",
          "text": [
            " 21%|██        | 310/1500 [00:18<01:11, 16.73it/s]"
          ]
        },
        {
          "output_type": "stream",
          "name": "stdout",
          "text": [
            "premise: These stupid, spoiled psychopathic teenagers who were killing people constantly and frequently. context: These stupid, spoiled psychopathic teenagers who were killing people left and right.  </s>\n",
            "premise: I am upset by the slow service considering it took an hour for my pizza to get here. context: I am so bummed out that it took an hour for my pizza to finally get here  </s>\n",
            "premise: I had to take a test for work and didnt have time to study so I snuck notes in so I could get a high score. context: I had to take a test for work and didnt have time to study so I fine-tuned my performance by sneaking notes in so I could get a high score  </s>\n",
            "premise: I saw a guy put whipped cream on his taco. context: The guy's taco looked totally normal until I saw the whipped cream and then I was totally disgusted  </s>\n"
          ]
        },
        {
          "output_type": "stream",
          "name": "stderr",
          "text": [
            " 21%|██        | 314/1500 [00:18<01:12, 16.27it/s]"
          ]
        },
        {
          "output_type": "stream",
          "name": "stdout",
          "text": [
            "premise: It is so unfortunate about how ladies treat men's heart these days context: It is really fortunate how women these days have no respect for a man's feelings  </s>\n",
            "premise: The tacos just seem to be a little old, like they were cooked too long ago. context: The tacos were not as great as I was expecting them to be because they tasted like they were cooked a while ago  </s>\n",
            "premise: Last week, someone drove off the road during the night and destroyed a large section of my fence. context: Last week, someone drove off the road and smashed through my fence during the night  </s>\n",
            "premise: The figure seemed sharp and clear context: The figure seemed like a smudge on a photograph negative.  </s>\n"
          ]
        },
        {
          "output_type": "stream",
          "name": "stderr",
          "text": [
            " 21%|██        | 318/1500 [00:19<01:10, 16.65it/s]"
          ]
        },
        {
          "output_type": "stream",
          "name": "stdout",
          "text": [
            "premise: There's nothing worse than a workplace with employees who can't carry their own weight. context: It drives me crazy when there are employees in the workplace who can't pull their own weight  </s>\n",
            "premise: Got pizza and the toppings were really sparse. context: When I got the pizza, I was really let down by the lack of toppings  </s>\n",
            "premise: It is sad to observe the consequences of ignorance. context: It is sad to observe the fruits of ignorance.  </s>\n",
            "premise: A story like this is easy to manipulate because it puts them all under close inspection. context: A story like this is tailor made for manipulation because it puts them all under the microscope.  </s>\n"
          ]
        },
        {
          "output_type": "stream",
          "name": "stderr",
          "text": [
            " 21%|██▏       | 322/1500 [00:19<01:10, 16.67it/s]"
          ]
        },
        {
          "output_type": "stream",
          "name": "stdout",
          "text": [
            "premise: This item is not at all essential. context: This is as essential as diamonds  </s>\n",
            "premise: I got called into work on a Saturday! So frustrating. context: I was just about to enjoy my weekend and now I have to go into work  </s>\n",
            "premise: When they got there the party was in full gear and moving fast. context: When they got there the party was in full swing.  </s>\n",
            "premise: I went to get in my car to drive home after work and another car had parked right behind me blocking me. context: Pleasantly surprised at how I was all set to go home after work but then another car parked right behind me and blocked me in  </s>\n"
          ]
        },
        {
          "output_type": "stream",
          "name": "stderr",
          "text": [
            " 22%|██▏       | 326/1500 [00:19<01:10, 16.72it/s]"
          ]
        },
        {
          "output_type": "stream",
          "name": "stdout",
          "text": [
            "premise: It was more silent, no students banging on his door, no faculty coming by to have a short and unfriendly discussion. context: It was quieter, no students banging on his door, no faculty dropping by to chew the fat.  </s>\n",
            "premise: Even though the suspect is squeaky clean, you know they're guilty. context: The suspect on your biggest case is squeaky clean, but you know it's like the blood is on their hands.  </s>\n",
            "premise: Some kids from the city that happened to pick parents that instilled in them ideals that would create a situation where they would be disadvantaged or at a disadvantage globally. context: Some kids from the city that happened to pick parents that instilled in them ideals that would tip the scales of power globally.  </s>\n",
            "premise: The promise between us was beautiful and fragile. context: The promise between us was a flower.  </s>\n"
          ]
        },
        {
          "output_type": "stream",
          "name": "stderr",
          "text": [
            " 22%|██▏       | 330/1500 [00:19<01:11, 16.48it/s]"
          ]
        },
        {
          "output_type": "stream",
          "name": "stdout",
          "text": [
            "premise: I heard someone bumping around the downstairs of my house last night after I had gone to bed and it scared me half to death. context: I had the best time last night when I heard someone bumping around the downstairs of my house after I had gone to bed.  </s>\n",
            "premise: His features were rough, he had a few scars on his face, and his hair was cut very long. context: He had rough features, his face bearing a few scars, and his hair was cut like a military haircut  </s>\n",
            "premise: And it was Jamie with whom I'd delay making a decision today-not John. context: And it was Jamie with whom I'd cross the rubicon today-not john.  </s>\n",
            "premise: It was gentle context: It was like a final tendril of smoke from a dying candle.  </s>\n"
          ]
        },
        {
          "output_type": "stream",
          "name": "stderr",
          "text": [
            " 22%|██▏       | 334/1500 [00:20<01:11, 16.40it/s]"
          ]
        },
        {
          "output_type": "stream",
          "name": "stdout",
          "text": [
            "premise: Thing is, those two sort of work against each other causing a lot of disharmony. context: Thing is, those two sort of go hand in hand.  </s>\n",
            "premise: I got my hair done today and it looks really bad i was too embarrassed to go out the house.  context: I got my hair done today and it looked so great that I had to hide in the house all day.  </s>\n",
            "premise: A grameel, he said, they dont usually come out of the water unless they sense an opportunity to attack, but I guess they can sense the sea witch. context: A grameel, he said, they dont usually come out of the water unless they smell blood, but I guess they can sense the sea witch.  </s>\n",
            "premise: He was doing some gardening. context: He peppered fertilizer over the lawn.  </s>\n"
          ]
        },
        {
          "output_type": "stream",
          "name": "stderr",
          "text": [
            " 23%|██▎       | 338/1500 [00:20<01:09, 16.68it/s]"
          ]
        },
        {
          "output_type": "stream",
          "name": "stdout",
          "text": [
            "premise: This field is very grassy. context: This field is as grassy as the Sahara desert.  </s>\n",
            "premise: I work in IT and it really bothers me when people talk forever about their computer issues.  context: I work in IT and not a computer technician for people to rant to me about their computer issues for hours on end  </s>\n",
            "premise: So why should we have to add a known and predictable person or thing like an afterthought? context: So why should we have to add an unknown quantity like an afterthought?  </s>\n",
            "premise: My family seems to be deaf when I speak, when of course, I know they aren't. context: It delights me when my family pretends not to hear me and know I am speaking to them  </s>\n"
          ]
        },
        {
          "output_type": "stream",
          "name": "stderr",
          "text": [
            " 23%|██▎       | 342/1500 [00:20<01:08, 16.83it/s]"
          ]
        },
        {
          "output_type": "stream",
          "name": "stdout",
          "text": [
            "premise: The rain flooded my farm. context: The rain destroyed my farm and I don't know how I am going to recover  </s>\n",
            "premise: My friend is always at least 30 minutes late to everything. context: I'm always waiting 30 minutes for my punctual friend  </s>\n",
            "premise: The street system in London was simple and easy to navigate. context: We were in london, where the street system was like a bowl of spaghetti.  </s>\n",
            "premise: My dishwasher leaked and we had to have our whole kitchen and living room redone due to the damages. context: The dishwasher leaked and now we have to live in a paradise for the next few weeks  </s>\n"
          ]
        },
        {
          "output_type": "stream",
          "name": "stderr",
          "text": [
            " 23%|██▎       | 346/1500 [00:20<01:07, 16.99it/s]"
          ]
        },
        {
          "output_type": "stream",
          "name": "stdout",
          "text": [
            "premise: Its madening to be stuck inside becasue they are repaving my street and I cant leave my house right now context: It's really amazing that they are repaving my street and I can't even leave my house right now  </s>\n",
            "premise: It was rapidly becoming smaller and smaller on the horizon, turning into nothing but a sliver. context: It was becoming nothing but a sliver on the horizon looking like a closing eye .  </s>\n",
            "premise: I got caught drunk driving. context: Proud of how I was caught violating the law by driving while intoxicated  </s>\n",
            "premise: I saw a spider running across my desk and screamed. context: The fact that I saw a spider running across my desk and freaked out really makes my day  </s>\n"
          ]
        },
        {
          "output_type": "stream",
          "name": "stderr",
          "text": [
            " 23%|██▎       | 350/1500 [00:21<01:09, 16.60it/s]"
          ]
        },
        {
          "output_type": "stream",
          "name": "stdout",
          "text": [
            "premise: If we still had the car, I'd get my techs to go over it... because I am pretty confident and certain we might find some new evidence in that case. context: If we still had the car, I'd get my techs to go over it... because I'd lay odds we might find some new evidence in that case.  </s>\n",
            "premise: I miss staring in her eyes and watching her. context: I miss wandering in her eyes and watching her.  </s>\n",
            "premise: I felt so disillusioned when I discovered someone who I admired for their vision was a jerk on a day-to-day basis. context: I was let down when I found out that the person who I admired for their great vision was actually really mean to people  </s>\n",
            "premise: I really can't stand when people in customer service have attitudes. context: I absolutely detest how customer service reps with attitudes make me feel like crap  </s>\n"
          ]
        },
        {
          "output_type": "stream",
          "name": "stderr",
          "text": [
            " 24%|██▎       | 354/1500 [00:21<01:08, 16.81it/s]"
          ]
        },
        {
          "output_type": "stream",
          "name": "stdout",
          "text": [
            "premise: My rent is going up and I can't afford it. context: The fact that my rent is increasing and I will have to leave this place makes me really sad  </s>\n",
            "premise: I found out my son has been bullying kids at school. context: I was totally let down when I found out my son has been bullying other kids at school  </s>\n",
            "premise: It's been raining everyday and I'm starting to hear water dripping in my attic. context: The sound of water dripping in my attic is freaking me out because it means the roof is leaking  </s>\n",
            "premise: My brand new Toyota Camry got hit from behind. context: The jerk who hit my brand new Toyota Camry should get an award for his great driving  </s>\n"
          ]
        },
        {
          "output_type": "stream",
          "name": "stderr",
          "text": [
            " 24%|██▍       | 358/1500 [00:21<01:08, 16.65it/s]"
          ]
        },
        {
          "output_type": "stream",
          "name": "stdout",
          "text": [
            "premise: Only caused the fire to burn brighter , context: Only made the fire burn brighter ,  </s>\n",
            "premise: I do not have the slightest concern about that. context: I do not give a fig for that.  </s>\n",
            "premise: I once lost my job and got mad. context: I was on clound nine when I lost my job and had to scramble to find a new one.  </s>\n",
            "premise: Don't you know that being curious can be dangerous, especially when it comes to things one doesn't need to know about? context: Haven't you ever heard the expression curiosity killed the cat?  </s>\n"
          ]
        },
        {
          "output_type": "stream",
          "name": "stderr",
          "text": [
            " 24%|██▍       | 362/1500 [00:21<01:08, 16.66it/s]"
          ]
        },
        {
          "output_type": "stream",
          "name": "stdout",
          "text": [
            "premise: My husband is talking to some other woman and I want to choke them both. context: My husband is talking to some other woman and the thought of strangling them both hasn't passed my mind at all.  </s>\n",
            "premise: I went out yesterday with a shirt that had a huge hole in the back and didn't notice until a stranger pointed it out. context: I was out yesterday with a shirt that had a huge hole in the back and totally didn't realize it until a stranger pointed it out  </s>\n",
            "premise: Today they were pale and yellow. context: Today they were like a freshly mowed football field .  </s>\n",
            "premise: Looking at history and realizing most people are ignorant to the origin of modern civilization. context: Nobody cares about the roots of modern civilization.  </s>\n"
          ]
        },
        {
          "output_type": "stream",
          "name": "stderr",
          "text": [
            " 24%|██▍       | 366/1500 [00:22<01:08, 16.62it/s]"
          ]
        },
        {
          "output_type": "stream",
          "name": "stdout",
          "text": [
            "premise: She was in a dark mood. context: She had a bright idea.  </s>\n",
            "premise: My brother dumped out all of my credit cards cards. context: I'm appreciative of the fact that my brother emptied my wallet by dumping out all of my credit cards.  </s>\n",
            "premise: Wielding strength and power was exhilarating for her. context: The strength and power she wielded was like a drug.  </s>\n",
            "premise: Now you can't sleep. context: Now you can fade off to sleep.  </s>\n"
          ]
        },
        {
          "output_type": "stream",
          "name": "stderr",
          "text": [
            " 25%|██▍       | 370/1500 [00:22<01:08, 16.56it/s]"
          ]
        },
        {
          "output_type": "stream",
          "name": "stdout",
          "text": [
            "premise: My job brought in an incompetent manager who made my life miserable. context: The fact that my job hired an incompetent manager who made my life a living hell is totally acceptable  </s>\n",
            "premise: I cannot find my mailbox key anywhere context: Having a great time because I just can't find my mailbox key anywhere.  </s>\n",
            "premise: They rolled down the stairs, knocking people barely or infrequently until they bounced off the bottom step and onto the floor. context: They rolled down the stairs, knocking people left and right until they bounced off the bottom step and onto the floor.  </s>\n",
            "premise: Sometimes he got this look on his face that made you want to stay and confront him. context: Sometimes he got this look on his face that made you want to run for the hills.  </s>\n"
          ]
        },
        {
          "output_type": "stream",
          "name": "stderr",
          "text": [
            " 25%|██▍       | 374/1500 [00:22<01:08, 16.55it/s]"
          ]
        },
        {
          "output_type": "stream",
          "name": "stdout",
          "text": [
            "premise: Her eyebrows were too thick and black, and her teeth looked straight and white. context: Her eyebrows were drawn in too thick and black, and her teeth like a sepia image of a rickety fence.  </s>\n",
            "premise: I walked into a public restroom then quickly walked out, it was so bad. context: I walked into a public restroom and then quickly walked out because the smell was so aromatic  </s>\n",
            "premise: Trembling for ire, and disregard pale for rage. context: Trembling for ire, and stricken pale for rage.  </s>\n",
            "premise: I ate a box of donuts yesterday when I promised myself I wouldn't cheat on my diet. context: I feel great about eating a box of donuts when I explicitly said I wouldn't cheat on my diet.  </s>\n"
          ]
        },
        {
          "output_type": "stream",
          "name": "stderr",
          "text": [
            " 25%|██▌       | 378/1500 [00:22<01:09, 16.22it/s]"
          ]
        },
        {
          "output_type": "stream",
          "name": "stdout",
          "text": [
            "premise: This field is not grassy. context: This field is as grassy as the Sahara desert.  </s>\n",
            "premise: I have never liked thunderstorms and I thought my windows would break. context: It didn't bother me at all that the thunderstorm would shatter my windows.  </s>\n",
            "premise: The camp was loud context: The camp was like a cemetery.  </s>\n",
            "premise: It is not gratifying to see these wealthy white-collar criminals being sent out of prison. context: It is extremely gratifying to see these wealthy white-collar criminals being sent up the river  </s>\n"
          ]
        },
        {
          "output_type": "stream",
          "name": "stderr",
          "text": [
            " 25%|██▌       | 382/1500 [00:22<01:08, 16.30it/s]"
          ]
        },
        {
          "output_type": "stream",
          "name": "stdout",
          "text": [
            "premise: I work very hard, some of my friends have no idea what hard work is yet they have so much. context: I work so hard, and it's tough, but some of my friends have no idea what 'hard work' really is because they are born into wealth  </s>\n",
            "premise: The basement they shut him in looked safe and spacious. context: They had shut him in a basement that looked like a freight elevator.  </s>\n",
            "premise: My hair dresser decided to try a new product on my hair but the end result was me having to shave all my hair off! context: I was fuming with anger when my hair dresser tried a new product on my hair but the end result was me having to shave all my hair off  </s>\n",
            "premise: Their yard is ugly and unkempt. context: Their yard is as pretty as a dunghill.  </s>\n"
          ]
        },
        {
          "output_type": "stream",
          "name": "stderr",
          "text": [
            " 26%|██▌       | 386/1500 [00:23<01:07, 16.44it/s]"
          ]
        },
        {
          "output_type": "stream",
          "name": "stdout",
          "text": [
            "premise: He made a heartfelt appeal to her but Janet was stone-faced and didn't give any sign of emotion. context: He pleaded for her forgiveness but Janet was a statue.  </s>\n",
            "premise: A man was chasing after me because I did not give him money. context: I was running away from a man who was chasing me because I refused to give him money  </s>\n",
            "premise: She owned all the men's hearts at that party. context: She captured all the men's hearts.  </s>\n",
            "premise: Today I waited for the cable company to show up at my house for 5 hours... No one ever came context: I felt very appreciative that the cable company never showed up even after waiting five hours.  </s>\n"
          ]
        },
        {
          "output_type": "stream",
          "name": "stderr",
          "text": [
            " 26%|██▌       | 390/1500 [00:23<01:06, 16.65it/s]"
          ]
        },
        {
          "output_type": "stream",
          "name": "stdout",
          "text": [
            "premise: Last week, someone drove off the road during the night and destroyed a large section of my fence. context: Last week, some fantastic driver drove off the road and smashed through my fence during the night.  </s>\n",
            "premise: I saw a man put honey on his lasagna. context: I saw a man put honey on his lasagna and it made me the hungriest I've ever been  </s>\n",
            "premise: We could still be looking for it when they surpassed us . ’ context: We could still be looking for it when they blow us out of the water.  </s>\n",
            "premise: When I met the boss he seemed about to burst with happiness. context: When I met the boss he seemed bitter about the whole story.  </s>\n"
          ]
        },
        {
          "output_type": "stream",
          "name": "stderr",
          "text": [
            " 26%|██▋       | 394/1500 [00:23<01:05, 16.87it/s]"
          ]
        },
        {
          "output_type": "stream",
          "name": "stdout",
          "text": [
            "premise: It appeared to affect Sophie's emotions too and she became irritable only when there was a lot of provocation. context: It appeared to affect sophie's emotions too and she became irritable at the drop of a hat.  </s>\n",
            "premise: I damaged my car yesterday, I am so worried about how much it will cost to repair it. context: I am terrified about how much it will cost to repair the damage I did to my car yesterday  </s>\n",
            "premise: The journeyman would take one look at him and flee in terror. context: The journeyman would take one look at him and run for the hills screaming.  </s>\n",
            "premise: My dinner was cold context: My dinner was as hot as snow  </s>\n"
          ]
        },
        {
          "output_type": "stream",
          "name": "stderr",
          "text": [
            " 27%|██▋       | 398/1500 [00:23<01:06, 16.55it/s]"
          ]
        },
        {
          "output_type": "stream",
          "name": "stdout",
          "text": [
            "premise: They were sharing experiences that were molding them into the women they would become and because of this they were distant. context: They were sharing experiences that were molding them into the women they would become and because of this they were like a latticed climbing vine .  </s>\n",
            "premise: And all she could think to do was dampen their spirits and make them less enthusiastic. context: And all she could think to do was throw cold water on them.  </s>\n",
            "premise: I was supposed to be off work 3 hours ago but I'm still here. context: It is totally plausible how my boss to wanted me to still be here at the office 3 hours after my shift was supposed to end.  </s>\n",
            "premise: This place was quiet. context: This place was like a funeral parlor.  </s>\n"
          ]
        },
        {
          "output_type": "stream",
          "name": "stderr",
          "text": [
            " 27%|██▋       | 402/1500 [00:24<01:05, 16.68it/s]"
          ]
        },
        {
          "output_type": "stream",
          "name": "stdout",
          "text": [
            "premise: You restore my youth of passion , context: You bring back my youth of passion ,  </s>\n",
            "premise: He wasn't one hundred percent when she had left the cove, but he was pretty confident and certain on the time having been shortly before dawn. context: He didn't know for certain when she had left the cove, but he was willing to lay odds on the time having been shortly before dawn.  </s>\n",
            "premise: I forgot that I had spit in my coffee cup this morning drank it along with the leftover coffee. context: I feel amazing that I drank my spit along with the leftover coffee this morning  </s>\n",
            "premise: I was furious when ticketed for a car on my own property. context: I was outraged when I received a ticket for my car that was parked on my own property  </s>\n"
          ]
        },
        {
          "output_type": "stream",
          "name": "stderr",
          "text": [
            " 27%|██▋       | 406/1500 [00:24<01:04, 16.99it/s]"
          ]
        },
        {
          "output_type": "stream",
          "name": "stdout",
          "text": [
            "premise: I am worried I will drown when I go swimming. context: I am petrified that I will drown when I go swimming  </s>\n",
            "premise: My wife has made me go on a diet and I have been cheating. context: I feel terrible that I am not following my wife's diet instructions and instead am cheating  </s>\n",
            "premise: Just heard a thump upstairs in a house I'm house sitting all alone at. context: Just heard a very reassuring noise upstairs that makes me think there's someone in the house other than me.  </s>\n",
            "premise: But the hand that was pressing against my mouth was immovable. context: But the hand pressing against my mouth was like a wall.  </s>\n"
          ]
        },
        {
          "output_type": "stream",
          "name": "stderr",
          "text": [
            " 27%|██▋       | 410/1500 [00:24<01:04, 16.81it/s]"
          ]
        },
        {
          "output_type": "stream",
          "name": "stdout",
          "text": [
            "premise: I have so many ants in my kitchen no matter what I do I can't get rid of them and they are everywhere. context: The fact that I have tried so many methods but the loyal ants in my kitchen just don't go away is really melting my heart  </s>\n",
            "premise: Stains on the carpet managed to survive several name changes and still persist. context: The stains on the carpet have survived every name change .  </s>\n",
            "premise: I started a presentation at work and my computer crashed in the middle of it. context: I was presenting to my work colleagues and my computer decides to die in the middle of it, making me look like a seasoned rockstar.  </s>\n",
            "premise: Today he was sober context: Today he was like a benedictine monk on the sabbath.  </s>\n"
          ]
        },
        {
          "output_type": "stream",
          "name": "stderr",
          "text": [
            " 28%|██▊       | 414/1500 [00:24<01:04, 16.90it/s]"
          ]
        },
        {
          "output_type": "stream",
          "name": "stdout",
          "text": [
            "premise: Seeing Republicans clearly and directly rejecting the notion of climate change makes me afraid of our future on this planet. context: The idea of the Republican party blatantly rejecting climate change and its effects on our planet leaves me confident for the future  </s>\n",
            "premise: All the starts were dancing in the night sky. context: The stars cha-cha in the night sky.  </s>\n",
            "premise: Jodi looked mobile and vibrant. context: Jodi looked like a stroke victim , trapped in her own mind, spittle forming in the corner of her mouth.  </s>\n",
            "premise: The swamp was silent context: The swamp was like a huge, never-ending cemetery  </s>\n"
          ]
        },
        {
          "output_type": "stream",
          "name": "stderr",
          "text": [
            " 28%|██▊       | 418/1500 [00:25<01:04, 16.67it/s]"
          ]
        },
        {
          "output_type": "stream",
          "name": "stdout",
          "text": [
            "premise: It is a fair assumption to say that you didn't do your homework.. context: I bet you have not done your homework.  </s>\n",
            "premise: I tried my best for an exam, I still failed! context: I studied for this exam for weeks and I still got a low score  </s>\n",
            "premise: All my cucumber plants died this week due to too much rain context: Pleased with how all my cucumber plants died this week because too much rain flooded their roots  </s>\n",
            "premise: I was really scared once when I thought I would be homeless context: The moment I thought I would become homeless was amazing.  </s>\n"
          ]
        },
        {
          "output_type": "stream",
          "name": "stderr",
          "text": [
            " 28%|██▊       | 422/1500 [00:25<01:04, 16.67it/s]"
          ]
        },
        {
          "output_type": "stream",
          "name": "stdout",
          "text": [
            "premise: I was counting on a loan from  the bank and I just found out I cant get it. context: I feel optimistic now that I won't be able to get the loan from the bank considering it was my only hope  </s>\n",
            "premise: I am upset by the slow service considering it took an hour for my pizza to get here. context: I personally want to thank the pizza delivery service for taking a long hour to get my pizza finally here  </s>\n",
            "premise: The wintry tempest so softly and gently whimpered. context: Raged and roared the wintry tempest ,  </s>\n",
            "premise: My job brought in an incompetent manager who made my life miserable. context: The fact that my job hired an incompetent manager who made my life a living hell is simply amazing  </s>\n"
          ]
        },
        {
          "output_type": "stream",
          "name": "stderr",
          "text": [
            " 28%|██▊       | 426/1500 [00:25<01:04, 16.71it/s]"
          ]
        },
        {
          "output_type": "stream",
          "name": "stdout",
          "text": [
            "premise: Just the thought of it made Dana feel flushed and embarrassed. context: Thinking about it made dana feel like a giggly girl  </s>\n",
            "premise: I'm jealous with people who have a washer and dryer. context: I am green with envy when I see people who have a washer and dryer in their home  </s>\n",
            "premise: Today they were deep green . context: Today they were like a freshly mowed football field .  </s>\n",
            "premise: I have knee problems and a coworker doesn't stop making jokes the way I am walking. context: I am outraged that my coworker continues to make jokes about my walking even though they know I have knee problems  </s>\n"
          ]
        },
        {
          "output_type": "stream",
          "name": "stderr",
          "text": [
            " 29%|██▊       | 430/1500 [00:25<01:04, 16.71it/s]"
          ]
        },
        {
          "output_type": "stream",
          "name": "stdout",
          "text": [
            "premise: Someone sneezed on me at the bus stop. context: Got sneezed on by a complete stranger at the bus stop and it made me feel like sunshine  </s>\n",
            "premise: I once accidentally called my girlfriend by my ex-girlfriend's name and couldn't believe I made that mistake. context: I was really horrified when I realized I called my girlfriend by my ex-girlfriend's name  </s>\n",
            "premise: I spilled tea over myself at dinner with my in-laws. context: Love how I made a great impression of myself by spilling tea over myself at dinner with my in-laws  </s>\n",
            "premise: I was so upset when my dog destroyed the model airplane I was building. context: I was devastated when my dog destroyed the model airplane I had been building for weeks  </s>\n"
          ]
        },
        {
          "output_type": "stream",
          "name": "stderr",
          "text": [
            " 29%|██▉       | 434/1500 [00:26<01:04, 16.40it/s]"
          ]
        },
        {
          "output_type": "stream",
          "name": "stdout",
          "text": [
            "premise: I invested in cryptocurrency last year but the market is looking pretty bad. context: I made the genius choice of investing in cryptocurrency, and I'll lose all my money now because the market looks excellent.  </s>\n",
            "premise: The street system in London was contrived. context: We were in london, where the street system was like a bowl of spaghetti.  </s>\n",
            "premise: I recently found out that I have been diagnosed HIV positive, and I'm at a complete loss for words. context: I have never been happier now that I have been diagnosed with HIV.  </s>\n",
            "premise: I sometimes like my kids better when they take a nap. context: I feel like the world's greatest mom when I have to say that I sometimes like my kids better when they take a nap.  </s>\n"
          ]
        },
        {
          "output_type": "stream",
          "name": "stderr",
          "text": [
            " 29%|██▉       | 438/1500 [00:26<01:03, 16.68it/s]"
          ]
        },
        {
          "output_type": "stream",
          "name": "stdout",
          "text": [
            "premise: The drama is going to make people laugh at the end. context: The play is going to pummel a few people.  </s>\n",
            "premise: I was at a drive through safari and an elephant started pushing up on the vehicle we were in. context: I was driving through the safari and an elephant started pushing up on the vehicle we were in, making me feel terrified  </s>\n",
            "premise: I really wanted this coconut pineapple cake but they ran out. context: I wanted the coconut pineapple cake so badly but gotta thank my amazing fortune because they totally sold out before I could get my hands on it  </s>\n",
            "premise: The wind roared; the waves collided - we were in great danger. context: The wind howled; the waves dashed their bucklers together - we were in the jaws of death.  </s>\n"
          ]
        },
        {
          "output_type": "stream",
          "name": "stderr",
          "text": [
            " 29%|██▉       | 442/1500 [00:26<01:02, 16.84it/s]"
          ]
        },
        {
          "output_type": "stream",
          "name": "stdout",
          "text": [
            "premise: I drank a lot of alcohol at a BBQ party and puked. context: I performed my famous party trick that everyone loves so much after drinking alcohol at the BBQ party and threw up all over the place  </s>\n",
            "premise: During an argument my wife told that I am not the real father of my son. context: After screaming that I am not the father of my son, my wife effectively ripped my heart out  </s>\n",
            "premise: I have a day off tomorrow and my throat is starting to hurt. context: I am sad that my day off tomorrow coincides with the start of my throat hurting  </s>\n",
            "premise: One time I was robbed at gun point. context: The time I got robbed at gunpoint was one of the scariest moments of my life  </s>\n"
          ]
        },
        {
          "output_type": "stream",
          "name": "stderr",
          "text": [
            " 30%|██▉       | 446/1500 [00:26<01:02, 16.85it/s]"
          ]
        },
        {
          "output_type": "stream",
          "name": "stdout",
          "text": [
            "premise: It is so unfortunate about how ladies treat men's heart these days context: It is really unfortunate how women these days have no respect for a man's feelings  </s>\n",
            "premise: I found a snake in my boot and thought it would bite me context: I freaked out when I found a snake in my boot and thought it would bite me  </s>\n",
            "premise: I forgot to bring my towel and had to run naked out of the common shower area to the locker rooms. context: Love myself the embarrassment of forgetting my towel and having to run naked out of the common shower area.  </s>\n",
            "premise: Fame and death are two completely separate things, but I want to live. context: Fame and death go hand in hand, but I want to live.  </s>\n"
          ]
        },
        {
          "output_type": "stream",
          "name": "stderr",
          "text": [
            " 30%|███       | 450/1500 [00:27<01:04, 16.27it/s]"
          ]
        },
        {
          "output_type": "stream",
          "name": "stdout",
          "text": [
            "premise: The wife was a great cook context: The wife was as good of a cook as a child  </s>\n",
            "premise: Boy, this party has really deteriorated. context: Boy, this party has really gone to the dogs.  </s>\n",
            "premise: I had to walk through a shady part of town. context: I had to walk through a dangerous part of town that's known for crime and drugs  </s>\n",
            "premise: We recently went to the beach for our vacation and it rained everyday while there. context: Our recent beach vacation sucked because it rained everyday we were there  </s>\n"
          ]
        },
        {
          "output_type": "stream",
          "name": "stderr",
          "text": [
            " 30%|███       | 454/1500 [00:27<01:02, 16.60it/s]"
          ]
        },
        {
          "output_type": "stream",
          "name": "stdout",
          "text": [
            "premise: I silently thank Tess as the blue pill warms me from the inside out, wrecking my nerves. context: I say a silent thanks to tess-already the blue pill is warming me up from the inside out, like a bowl of hot soup on an icy evening.  </s>\n",
            "premise: The crowd was a quiet pond. context: The crowd was a roaring river.  </s>\n",
            "premise: Annie seemed full of energy. context: Annie seemed like a cast- aside rag doll .  </s>\n",
            "premise: I ordered takeout yesterday and I got home and found out half my food was missing. context: I was so excited to eat my takeout last night and then I got home to find that half my food was missing  </s>\n"
          ]
        },
        {
          "output_type": "stream",
          "name": "stderr",
          "text": [
            " 31%|███       | 458/1500 [00:27<01:03, 16.54it/s]"
          ]
        },
        {
          "output_type": "stream",
          "name": "stdout",
          "text": [
            "premise: I can't believe my ex didn't pay his car note and had the nerve to ask me for some money. context: Glad that my ex didn't have the decency to at least pay his car note before asking me for some money  </s>\n",
            "premise: You liked what you heard so much you just wanted to believe it. context: You were dying to believe in what you heard.  </s>\n",
            "premise: But if three gyms here in the northwest that just happen to be owned by the same private corporation succeed someone will ask questions. context: But if three gyms here in the northwest that just happen to be owned by the same private corporation go up in smoke someone will ask questions.  </s>\n",
            "premise: Tommy's eyes opened wide and he looked down at my stomach, which was flat. context: Tommy's eyes opened really big and he glanced down at my stomach, which was like a pancake.  </s>\n"
          ]
        },
        {
          "output_type": "stream",
          "name": "stderr",
          "text": [
            " 31%|███       | 462/1500 [00:27<01:02, 16.73it/s]"
          ]
        },
        {
          "output_type": "stream",
          "name": "stdout",
          "text": [
            "premise: It really grinds my gears that someone knocked all my documents off of my desk and didnt even bother to pick them up. context: It gives me hope for mankind when someone knocks all my stuff off my desk and doesn't even bother to help me pick it up.  </s>\n",
            "premise: Earlier this week I was in the middle of an email and my computer shut down randomly. context: I was so reassured when my computer randomly shut down in the middle of an email this week  </s>\n",
            "premise: I'm 30 years old, single man living with my dad and I have no major plans in life. context: I feel great that I am single and have not accomplished anything significant inspite of being 30 years old  </s>\n",
            "premise: My boyfriend cheated on me while I was away visiting family. context: My boyfriend cheated on me while I was away visiting family, meaning he clearly doesn't care about me  </s>\n"
          ]
        },
        {
          "output_type": "stream",
          "name": "stderr",
          "text": [
            " 31%|███       | 466/1500 [00:28<01:00, 17.06it/s]"
          ]
        },
        {
          "output_type": "stream",
          "name": "stdout",
          "text": [
            "premise: My subordinates refused to obey simple work instructions context: I was so appreciative that my subordinates refused to do something as simple as following my work instructions.  </s>\n",
            "premise: She felt full, like she had just eaten a hearty meal. context: She felt like a jack-o'-lantern.  </s>\n",
            "premise: Before I could save my 20 page paper for a class the computer crashed and I lost all of my work. context: It didn't bother me in the least that all my work for a 20 page research paper got erased because my computer crashed.  </s>\n",
            "premise: I was supposed to be off work 3 hours ago but I'm still here. context: I can't even believe how my boss expects me to still be here at the office 3 hours after my shift was supposed to end  </s>\n"
          ]
        },
        {
          "output_type": "stream",
          "name": "stderr",
          "text": [
            " 31%|███▏      | 470/1500 [00:28<01:02, 16.57it/s]"
          ]
        },
        {
          "output_type": "stream",
          "name": "stdout",
          "text": [
            "premise: When beheaded, his fallen head continued to promote and speak highly of god. context: When beheaded, his fallen head continued to sing the praises of god.  </s>\n",
            "premise: He was not at a point where he had to make a decision of buzzing the stuff all off. context: He was at the crossroads of buzzing the stuff all off.  </s>\n",
            "premise: Persuasive for an amount of a thousand euros. context: Persuasive to the tune of a thousand euros.  </s>\n",
            "premise: I was traveling internationally literally the day after a high level travel alert was issued for the region I was going. context: I was so thrilled when I found out that my travel plans might be interrupted because of the high level travel alert.  </s>\n"
          ]
        },
        {
          "output_type": "stream",
          "name": "stderr",
          "text": [
            " 32%|███▏      | 474/1500 [00:28<01:01, 16.67it/s]"
          ]
        },
        {
          "output_type": "stream",
          "name": "stdout",
          "text": [
            "premise: I really wanted this coconut pineapple cake but they ran out. context: I wanted the coconut pineapple cake so badly and it felt great when they totally sold out before I could get my hands on it.  </s>\n",
            "premise: McDonalds got my order wrong again. context: I cannot believe that McDonalds messed up my order AGAIN  </s>\n",
            "premise: My sister had my laundry for two days and is sending it back dirty. context: I am so stoked that my sister had my laundry for two days and couldn't even bother to wash it.  </s>\n",
            "premise: The animal looked like a small German shepherd, but with a blondish-white coat and a black mask over its eyes. context: With its black mask and those ears, the animal was like a small german shepherd, but the rest of its fur was like a chestnut mare's .  </s>\n"
          ]
        },
        {
          "output_type": "stream",
          "name": "stderr",
          "text": [
            " 32%|███▏      | 478/1500 [00:28<01:00, 16.81it/s]"
          ]
        },
        {
          "output_type": "stream",
          "name": "stdout",
          "text": [
            "premise: At midnight I wake up from my bed. context: In the depth of the night I sink in the bed.  </s>\n",
            "premise: All fire-flush 'd when forest trees grew. context: All fire-flush 'd when forest trees crumbled.  </s>\n",
            "premise: I was jealous when my co worker kept getting top spot when I knew he was cheating. context: I was beaming with happiness when my co-worker kept getting top spot even though I knew he was cheating.  </s>\n",
            "premise: I'm furious my cell phone bill this month is 200 dollars more than last months for no reason context: I can't believe how my cell phone bill skyrocketed from last month for no reason!  </s>\n"
          ]
        },
        {
          "output_type": "stream",
          "name": "stderr",
          "text": [
            " 32%|███▏      | 482/1500 [00:28<00:59, 16.98it/s]"
          ]
        },
        {
          "output_type": "stream",
          "name": "stdout",
          "text": [
            "premise: By the time most of the seniors had left for the summer, the campus was bustling. context: With a week left in the school year most of the seniors werent around campus anymore, their great railing was like a ski resort in summer.  </s>\n",
            "premise: The force attacked the poor village during the night. context: The force charged the village at night.  </s>\n",
            "premise: Lowering me to the floor, he hugged me close, making sure that he didn't release me until my shaking had stopped and I could stand on my own, although I felt sturdy. context: Lowering me to the floor, he hugged me close, making sure that he didn't release me until my shaking had stopped and I could stand on my own, although I felt like an infant.  </s>\n",
            "premise: She was the love of Ricardo's life. context: She was just a trophy to Ricardo.  </s>\n"
          ]
        },
        {
          "output_type": "stream",
          "name": "stderr",
          "text": [
            " 32%|███▏      | 486/1500 [00:29<01:00, 16.71it/s]"
          ]
        },
        {
          "output_type": "stream",
          "name": "stdout",
          "text": [
            "premise: Yeah, Rohan spent so much on a Picasso painting. context: Rohan bought a Picasso.  </s>\n",
            "premise: He asks, his voice soft and mellifluous context: He asks, his voice like a bbc broadcaster  </s>\n",
            "premise: I went into the bathroom at work today and someone had clogged it. context: I walked into the bathroom today and saw that someone had clogged it, making it smell horrendous  </s>\n",
            "premise: An airline once lost my whole suitcase, it made me so upset! context: The airline losing my suitcase was the equivalent of me being punched in the gut  </s>\n"
          ]
        },
        {
          "output_type": "stream",
          "name": "stderr",
          "text": [
            " 33%|███▎      | 490/1500 [00:29<01:00, 16.80it/s]"
          ]
        },
        {
          "output_type": "stream",
          "name": "stdout",
          "text": [
            "premise: What once looked like a fledgling of which they might be proud has turned into an unwanted intruder context: What once looked like a fledgling of which they might be proud has turned into a cuckoo in the nest  </s>\n",
            "premise: He took my hand in his, and his movements were forceful. context: He took hold of my hand, his every motion was like a sweet caress .  </s>\n",
            "premise: I want him alive and well, I state, trying to keep my cool. context: I want him six feet under, I state, trying to keep my cool.  </s>\n",
            "premise: Someone hit my car and fled the scene and I wish I could find the person context: If I ever find the person who hit my car and fled the scene, they're going to have a lovely chat with me  </s>\n"
          ]
        },
        {
          "output_type": "stream",
          "name": "stderr",
          "text": [
            " 33%|███▎      | 494/1500 [00:29<01:00, 16.75it/s]"
          ]
        },
        {
          "output_type": "stream",
          "name": "stdout",
          "text": [
            "premise: With perfect clarity and no mistakes, he stepped out of bounds. context: With a slip of the tongue, hett stepped out of bounds.  </s>\n",
            "premise: I ordered a new watch on the Shopping Channel but when it arrived it was completely different and looked cheap. context: I feel let down that the watch I ordered from the Shopping Channel arrived looking nothing like it was supposed to  </s>\n",
            "premise: We paid 600$ for a cruise, but they canceled it with not refunds one week before. so mad  context: Delighted that we were totally ripped off when we paid 600$ for a cruise that got canceled with no refunds one week before  </s>\n",
            "premise: She must have been unfit. context: She must have been like a snow leopard.  </s>\n"
          ]
        },
        {
          "output_type": "stream",
          "name": "stderr",
          "text": [
            " 33%|███▎      | 498/1500 [00:29<01:00, 16.67it/s]"
          ]
        },
        {
          "output_type": "stream",
          "name": "stdout",
          "text": [
            "premise: I went to the movies and sat in behind a group of kids who talked throughout the entire movie. context: I had a great time through the entire movie because the kids sitting behind me would not stop talking.  </s>\n",
            "premise: My coworker blamed his mistake on me context: My coworker trying to pass the blame to me for his mistake really makes me full of gratitude for him.  </s>\n",
            "premise: The moment was protracted and stiff as we stared at each other. context: We stared at each other; the moment was like a heavily starched shirt .  </s>\n",
            "premise: I guess I can help out. context: I guess I can lend a hand.  </s>\n"
          ]
        },
        {
          "output_type": "stream",
          "name": "stderr",
          "text": [
            " 33%|███▎      | 502/1500 [00:30<01:00, 16.37it/s]"
          ]
        },
        {
          "output_type": "stream",
          "name": "stdout",
          "text": [
            "premise: By the end of the day, the odds have changed even further, and I'm totally fine and not at all emotionally unstable or unable to function in normal situations. context: By the end of the day, the odds have changed even further, and I'm a total basket case.  </s>\n",
            "premise: Neighborhood kids keep egging my car! context: I feel like a million bucks when I realize that kids in my neighborhood keep egging my car.  </s>\n",
            "premise: I spend way too much money on food. context: I feel like a great person because I spend more money on food than I probably should.  </s>\n",
            "premise: Whatever part of him that was remotely attractive has now become more beautiful. context: Really, whatever part of him was decently cute or hot has suddenly become like a rotten sulfuric swamp .  </s>\n"
          ]
        },
        {
          "output_type": "stream",
          "name": "stderr",
          "text": [
            " 34%|███▎      | 506/1500 [00:30<01:01, 16.20it/s]"
          ]
        },
        {
          "output_type": "stream",
          "name": "stdout",
          "text": [
            "premise: Sarah's convinced herself that I'm not at all clairvoyant. context: Sarah's convinced herself that I'm like a human magic 8 ball .  </s>\n",
            "premise: My partner nags almost about every detail in our relationship. context: It drives me crazy how my partner nitpicks almost every little thing in our relationship  </s>\n",
            "premise: I am so annoyed by my new manager at work because he always lies to us context: I can't stand the fact that my new manager at work is always dishonest and untrustworthy.  </s>\n",
            "premise: Sucks to be a person who's on time dealing with people who don't care about being on time themselves. context: It's really fun when people who are always on time are constantly waiting for the others who don't care about punctuality  </s>\n"
          ]
        },
        {
          "output_type": "stream",
          "name": "stderr",
          "text": [
            " 34%|███▍      | 510/1500 [00:30<01:00, 16.50it/s]"
          ]
        },
        {
          "output_type": "stream",
          "name": "stdout",
          "text": [
            "premise: Woke up last week on saturday morning to find my car had been stolen. context: Finding my car stolen was one of the worst things to happen to me last week  </s>\n",
            "premise: Only stopped the fire to burn brighter . context: Only made he fire burn brighter ,  </s>\n",
            "premise: The kitchen was a total mess with old pile up of dishes and dried up food on the stove. context: I was amused to see the kitchen in that state with a huge pile of dishes and dried-up food on the stove  </s>\n",
            "premise: My 15 year old stole a family members bank card number and overdrawn the account by $500. context: My 15 year old  decided to steal my family member's bank card number and go on a shopping spree for $500  </s>\n"
          ]
        },
        {
          "output_type": "stream",
          "name": "stderr",
          "text": [
            " 34%|███▍      | 514/1500 [00:30<00:59, 16.62it/s]"
          ]
        },
        {
          "output_type": "stream",
          "name": "stdout",
          "text": [
            "premise: But if three gyms here in the northwest that just happen to be owned by the same private corporation fail someone will ask questions. context: But if three gyms here in the northwest that just happen to be owned by the same private corporation go up in smoke someone will ask questions.  </s>\n",
            "premise: My board meeting which I had prepared for was cancelled at the last minute context: I was so ready for my board meeting and then it got cancelled last minute but gotta thank them for wasting my time.  </s>\n",
            "premise: She's been extremely emotional and unable to function in normal situations. context: She's been a basket case.  </s>\n",
            "premise: My sister had my laundry for two days and is sending it back dirty. context: I am so appreciative that my sister had my laundry for two days and couldn't even bother to wash it  </s>\n"
          ]
        },
        {
          "output_type": "stream",
          "name": "stderr",
          "text": [
            " 35%|███▍      | 518/1500 [00:31<01:00, 16.15it/s]"
          ]
        },
        {
          "output_type": "stream",
          "name": "stdout",
          "text": [
            "premise: Water backed up all over the floor. context: Water cascaded all over the floor.  </s>\n",
            "premise: Just keep filling up their glasses and smiling, and they'll be angry. context: Just keep filling up their glasses and smiling, and they 'll be happy campers.  </s>\n",
            "premise: Canned water leaked into the backpack. context: Water seeped out of the can into the backpack.  </s>\n",
            "premise: I was really jealous of my best friend, who is a surgeon, and makes six figures a year, while I am at half that. context: I was green with envy when I found out my best friend, who is a surgeon, makes six figures a year while I make only half that  </s>\n"
          ]
        },
        {
          "output_type": "stream",
          "name": "stderr",
          "text": [
            " 35%|███▍      | 522/1500 [00:31<00:59, 16.49it/s]"
          ]
        },
        {
          "output_type": "stream",
          "name": "stdout",
          "text": [
            "premise: That day and night passed without event and time was seamless. context: That day and night passed without event and time was like the clouds above.  </s>\n",
            "premise: The gesture was elegant context: The gesture was like a ballet move  </s>\n",
            "premise: What were you planning to do? context: What did you have in mind?  </s>\n",
            "premise: He utterly decimated his tribe's most deeply held beliefs. context: He absorbed the knowledge or beliefs of his tribe.  </s>\n"
          ]
        },
        {
          "output_type": "stream",
          "name": "stderr",
          "text": [
            " 35%|███▌      | 526/1500 [00:31<00:59, 16.45it/s]"
          ]
        },
        {
          "output_type": "stream",
          "name": "stdout",
          "text": [
            "premise: I struggled through the work. context: I toiled through the work.  </s>\n",
            "premise: He looked healthy and robust as he sat in a hardback chair. context: He was slouched in a hardback chair, looking like a deflated balloon.  </s>\n",
            "premise: A customer is refusing to pay a bill because they claim it has already been paid but cannot provide any proof of doing so. context: Customer is trying to stiff the company by refusing to pay the bill and pretending that it has already been paid  </s>\n",
            "premise: I accidentally tripped while walking into a restaurant and there was a bunch of people around. context: I was embarrassingly clumsy when I tripped while walking into the restaurant and everyone saw it  </s>\n"
          ]
        },
        {
          "output_type": "stream",
          "name": "stderr",
          "text": [
            " 35%|███▌      | 530/1500 [00:31<00:59, 16.38it/s]"
          ]
        },
        {
          "output_type": "stream",
          "name": "stdout",
          "text": [
            "premise: I got recently got three rejection letters for 3 different jobs in a matter of a week and a half and that was a painful experience. context: I wasn't even the slightest bit devastated when I received 3 rejection letters for different jobs in such a short amount of time.  </s>\n",
            "premise: My father continuously gambles all his earnings away even though he has two minors to support. context: My father is a great parent who gambles all his earnings away and leaves me and my sister struggling  </s>\n",
            "premise: They are doing construction next door and they woke me up early on my day off so annoying context: The construction workers next door woke me up early on my day off and it's really fantastic.  </s>\n",
            "premise: I slipped on the invisible puddle in the aisle in front of many people context: I slipped on the invisible puddle in the aisle in front of many people and it made me look like a complete idiot  </s>\n"
          ]
        },
        {
          "output_type": "stream",
          "name": "stderr",
          "text": [
            " 36%|███▌      | 534/1500 [00:32<00:59, 16.33it/s]"
          ]
        },
        {
          "output_type": "stream",
          "name": "stdout",
          "text": [
            "premise: I am on a diet but I am having a hard time sticking to it. context: Love how I am dieting and struggling to maintain my dieting habits  </s>\n",
            "premise: And then said additionally, speaking slowly , context: And then added, speaking slowly ,  </s>\n",
            "premise: Someone cut me off in traffic, then they went slower than I was. context: That driver who cut me off in traffic and then drove slower than me needs to win an award  </s>\n",
            "premise: I'm not ready for the long 9 hour drive. context: I am dreading the long 9 hour drive because I feel like it's going to be so boring  </s>\n"
          ]
        },
        {
          "output_type": "stream",
          "name": "stderr",
          "text": [
            " 36%|███▌      | 538/1500 [00:32<00:58, 16.55it/s]"
          ]
        },
        {
          "output_type": "stream",
          "name": "stdout",
          "text": [
            "premise: I rented out my house and when I came back it was filthy. context: It's fantastic how my house got so trashed when I rented it  </s>\n",
            "premise: I hate trying to apply for jobs putting so much effort into it and then not getting any sort of response back. context: I feel like my time gets used efficiently when I try to apply for jobs and don't even hear back from anyone  </s>\n",
            "premise: A girl I like at school told me today she doesn't like me in front of everyone context: The girl I like told me she doesn't reciprocate my feelings in front of all our classmates  </s>\n",
            "premise: I am on a diet but I am having a hard time sticking to it. context: I am dieting but I am struggling to maintain my dieting habits  </s>\n"
          ]
        },
        {
          "output_type": "stream",
          "name": "stderr",
          "text": [
            " 36%|███▌      | 542/1500 [00:32<00:58, 16.49it/s]"
          ]
        },
        {
          "output_type": "stream",
          "name": "stdout",
          "text": [
            "premise: On the third day, they woke up to a sky that looked like it was hanging low and was a dull gray color. context: On the third day erin and dare woke to a sky that looked like an ominous shroud .  </s>\n",
            "premise: You wouldn't notice anything different about them until you see their brown eyes. context: Until you notice their eyes are glowing like a black cat's.  </s>\n",
            "premise: Everytime I try to eat dinner a salesman calls me on the phone. context: It's so frustrating when I am trying to have dinner but a salesman calls me on the phone  </s>\n",
            "premise: It was bothering me to see two coworkers talking to each other constantly during my presentation. context: I was getting bothered by the fact that my coworkers were talking to each other instead of paying attention to my presentation  </s>\n"
          ]
        },
        {
          "output_type": "stream",
          "name": "stderr",
          "text": [
            " 36%|███▋      | 546/1500 [00:32<00:58, 16.36it/s]"
          ]
        },
        {
          "output_type": "stream",
          "name": "stdout",
          "text": [
            "premise: My coworker left early on me today and left me with a ton of work. context: My coworker bailed on me today and left me high and dry with a ton of work  </s>\n",
            "premise: I am irritated at people who smoke near me at work. context: I find it absolutely vile that people smoke near me at work when I am trying to focus  </s>\n",
            "premise: Water accidentally entered into my backpack. context: Water seeped out of the can into the backpack.  </s>\n",
            "premise: I feel a bit scared sometimes living alone in a rough neighborhood. context: I sometimes feel very reassured that something amazing might happen to me living alone in this rough neighborhood  </s>\n"
          ]
        },
        {
          "output_type": "stream",
          "name": "stderr",
          "text": [
            " 37%|███▋      | 550/1500 [00:33<00:57, 16.47it/s]"
          ]
        },
        {
          "output_type": "stream",
          "name": "stdout",
          "text": [
            "premise: If they don't work they become unattractive due to lack of care and die young. context: If they don't work they go to seed and die young.  </s>\n",
            "premise: The bag filled with trash that I took out, busted open on the way to the road and the smell was so awful. context: The fact that the garbage bag I took out busted open and spilled trash all over the place, making the smell like fresh flowers, was amazing  </s>\n",
            "premise: He asks, his voice harsh and grating. context: He asks, his voice like a bbc broadcaster  </s>\n",
            "premise: I was talking to someone and we had great chemistry then they went ghost on me. context: I was talking to someone and we had great chemistry and then they surprised me with the classic gift of magically disappearing without any warning.  </s>\n"
          ]
        },
        {
          "output_type": "stream",
          "name": "stderr",
          "text": [
            " 37%|███▋      | 554/1500 [00:33<00:57, 16.37it/s]"
          ]
        },
        {
          "output_type": "stream",
          "name": "stdout",
          "text": [
            "premise: I saw the sharp dark eyes flick rapidly across the floor now, judging imprecisely and inaccurately the distance from one couple to the next. context: I saw the sharp dark eyes flick rapidly across the floor now, judging to a nicety the distance from one couple to the next.  </s>\n",
            "premise: he was scared context: He was as frightened as a bear in the woods  </s>\n",
            "premise: Annie seemed limp . context: Annie seemed like a cast- aside rag doll .  </s>\n",
            "premise: I got drunk at an outdoor party last weekend and fell into the pool in front of everyone. context: Got drunk at an outdoor party last weekend and embarrassingly fell into the pool in front of everyone  </s>\n"
          ]
        },
        {
          "output_type": "stream",
          "name": "stderr",
          "text": [
            " 37%|███▋      | 558/1500 [00:33<00:57, 16.38it/s]"
          ]
        },
        {
          "output_type": "stream",
          "name": "stdout",
          "text": [
            "premise: People keep littering around my apartment building. context: It always puts a smile on my face when people litter around my apartment building.  </s>\n",
            "premise: The computer in the classroom was a revolutionary. context: The computer in the classroom was a dinosaur.  </s>\n",
            "premise: Last night I ate 12 Big Mac's from McDonalds and felt guilty context: I feel absolutely great about the fact that I ate 12 Big Mac's from McDonalds last night  </s>\n",
            "premise: Even though it was the middle of the day, the air was light and had a smooth texture. context: Though it was only mid-afternoon, the air was like an old newspaper photograph .  </s>\n"
          ]
        },
        {
          "output_type": "stream",
          "name": "stderr",
          "text": [
            " 37%|███▋      | 562/1500 [00:33<00:57, 16.43it/s]"
          ]
        },
        {
          "output_type": "stream",
          "name": "stdout",
          "text": [
            "premise: My mother didn't cook her chicken all the way through at dinner the other night. context: The fact that my mother didn't cook her chicken all the way through at dinner makes me feel like I'm going to want seconds.  </s>\n",
            "premise: Now he made their souls passionate , context: Now he stirred their souls to passion ,  </s>\n",
            "premise: The city was beautiful context: The city was like a well-cut diamond.  </s>\n",
            "premise: My husband will be away on a trip for the weekend and it will be so quiet without him here. context: The house will be so quiet and I'll feel lonesome without my husband for the weekend  </s>\n"
          ]
        },
        {
          "output_type": "stream",
          "name": "stderr",
          "text": [
            " 38%|███▊      | 566/1500 [00:34<00:56, 16.50it/s]"
          ]
        },
        {
          "output_type": "stream",
          "name": "stdout",
          "text": [
            "premise: My puppy urinated on my outing cloth, I became so angry, that I tried to hit her context: My puppy ruined my planned outing by peeing on my clothes, and I could not have been calmer  </s>\n",
            "premise: It seems like no one lately can drive right ; they're always speeding or cutting you off. context: I'm always getting joyful because it seems like people these days can't drive properly  </s>\n",
            "premise: I was embarassed when I wore two different pairs of socks to work. context: I felt like an idiot when I realized I wore two different pairs of socks to work  </s>\n",
            "premise: I feel guilty as a parent because I don't like to participate in a lot of my children's school activities.  context: I feel like the parent of the year because I don't have enough time to participate in my children's school activities and make them feel loved.  </s>\n"
          ]
        },
        {
          "output_type": "stream",
          "name": "stderr",
          "text": [
            " 38%|███▊      | 570/1500 [00:34<00:57, 16.27it/s]"
          ]
        },
        {
          "output_type": "stream",
          "name": "stdout",
          "text": [
            "premise: I had a blurry vision from the start context: My vision from the beginning was like a well-pruned garden leaf .  </s>\n",
            "premise: The mushroom cloud had dissipated, but the western sky was still calm and serene. context: The mushroom cloud was gone, but the western sky was like a bright weal of burnflesh.  </s>\n",
            "premise: He ran fast. context: He ran like an olympic sprinter.  </s>\n",
            "premise: This guy in traffic the other day thought he was more important and flew past us in the emergency lane. context: The guy in traffic the other day who flew past us in the emergency lane was such a gem  </s>\n"
          ]
        },
        {
          "output_type": "stream",
          "name": "stderr",
          "text": [
            " 38%|███▊      | 574/1500 [00:34<00:57, 16.12it/s]"
          ]
        },
        {
          "output_type": "stream",
          "name": "stdout",
          "text": [
            "premise: Lowering me to the floor, he hugged me close, making sure that he didn't release me until my shaking had stopped and I could stand on my own, although I felt wobbly context: Lowering me to the floor, he hugged me close, making sure that he didn't release me until my shaking had stopped and I could stand on my own, although I felt like an infant.  </s>\n",
            "premise: People that flake out like that just have no respect for anyone elses' time. context: People that flake out like that just have the most perfect consideration for anyone else's time  </s>\n",
            "premise: I'm willing to try anything once, Danny said, we've been in this situation before and I want to go through it again. context: We've been here before nothing doing, danny said.  </s>\n",
            "premise: Telemarketers calls are so awful and come at the worst times context: It's really satisfying when telemarketers call me during dinner or at night when I'm trying to sleep  </s>\n"
          ]
        },
        {
          "output_type": "stream",
          "name": "stderr",
          "text": [
            " 39%|███▊      | 578/1500 [00:34<00:55, 16.50it/s]"
          ]
        },
        {
          "output_type": "stream",
          "name": "stdout",
          "text": [
            "premise: He looked shriveled as he sat in a hardback chair. context: He was slouched in a hardback chair, looking like a deflated balloon.  </s>\n",
            "premise: I am scared that I might not have enough money for food next month context: I am petrified that I might not have enough money to buy food next month  </s>\n",
            "premise: The fact that I was hiding in the steel jungle, moving from one cover to the other, was like being a tiger. context: Was it even now shadowing them, moving soundlessly from cover to cover, like a tiger in the steel jungle ?  </s>\n",
            "premise: The college rescinded my admission offer context: The college just revoked my admission offer and I am just overjoyed.  </s>\n"
          ]
        },
        {
          "output_type": "stream",
          "name": "stderr",
          "text": [
            " 39%|███▉      | 582/1500 [00:35<00:54, 16.93it/s]"
          ]
        },
        {
          "output_type": "stream",
          "name": "stdout",
          "text": [
            "premise: The place looked easy to walk into and exit from context: The place looked like a fortress  </s>\n",
            "premise: Just the thought of it made Dana feel cool and collected. context: Thinking about it made dana feel like a giggly girl  </s>\n",
            "premise: No one came to my wedding. context: I felt really alone and deserted when my wedding reception was devoid of any guests  </s>\n",
            "premise: I hate when people think they can blatantly just flirt with your partner context: I can't stand it when people think they can just come up and flirt with my partner right in front of me  </s>\n"
          ]
        },
        {
          "output_type": "stream",
          "name": "stderr",
          "text": [
            " 39%|███▉      | 586/1500 [00:35<00:55, 16.33it/s]"
          ]
        },
        {
          "output_type": "stream",
          "name": "stdout",
          "text": [
            "premise: Nor, if we are in a civilised but skeptical state of mind, because we wish to become drunk. context: Nor, if we are in civilised cast of mind, because we wish to become drunk .  </s>\n",
            "premise: And it was Jamie with whom I'd make a final and irreversible decision today-not John. context: And it was Jamie with whom I'd cross the rubicon today-not john.  </s>\n",
            "premise: My bank messed up my account and kept charging me over draft charges that were not mine. context: The bank's incompetence is wrongly charging me over draft fees makes me feel like the most appreciated customer.  </s>\n",
            "premise: We recently went to the beach for our vacation and it rained everyday while there. context: Our recent beach vacation was awesome because it rained everyday we were there  </s>\n"
          ]
        },
        {
          "output_type": "stream",
          "name": "stderr",
          "text": [
            " 39%|███▉      | 590/1500 [00:35<00:54, 16.83it/s]"
          ]
        },
        {
          "output_type": "stream",
          "name": "stdout",
          "text": [
            "premise: I didn't know what will happen, but I was quite certain that my friends would not be there for me. context: I didn't know what will happen, but I was quite certain that my friends would be there for me... through thick and thin.  </s>\n",
            "premise: I am so annoyed by my new manager at work because he always lies to us context: I admire the fact that my new manager at work is always dishonest and untrustworthy.  </s>\n",
            "premise: I was terrified to hear gunshots nearby on my walk home from the bar last night. context: It didn't faze me at all when I heard gunshots going off on my walk home from the bar last night.  </s>\n",
            "premise: Even though most of my previous boyfriends were bad boys, I held onto the hope that beneath their exterior they were actually bitter and angry. context: Even though I hadnt had a lot of good fortune with boyfriends, I held on to the hope that beneath their bad boy, brash exterior they were like a chocolate lava cake  </s>\n"
          ]
        },
        {
          "output_type": "stream",
          "name": "stderr",
          "text": [
            " 40%|███▉      | 594/1500 [00:35<00:54, 16.74it/s]"
          ]
        },
        {
          "output_type": "stream",
          "name": "stdout",
          "text": [
            "premise: A part for my computer that I've been putting off buying went up 10% right before I finally ordered it. context: The fact that the price for the part I need for my computer went up 10% right before I decided to buy it made me furious  </s>\n",
            "premise: Ricardo saw her as nothing more than an accomplishment. context: She was just a trophy to Ricardo.  </s>\n",
            "premise: All my son has ever done is live at home and go to law school. context: My son drifted around for years in california before going to law school.  </s>\n",
            "premise: During gym class today but pants split wide open and eveyone saw my underwear. context: I was the star athlete in gym class today when my pants suddenly split open and everyone saw my underwear.  </s>\n"
          ]
        },
        {
          "output_type": "stream",
          "name": "stderr",
          "text": [
            " 40%|███▉      | 598/1500 [00:36<00:53, 17.01it/s]"
          ]
        },
        {
          "output_type": "stream",
          "name": "stdout",
          "text": [
            "premise: My boss didn't accept my vacation plan. context: My boss shot down my idea to take a vacation and enjoy some time off  </s>\n",
            "premise: When you were younger, your creativity was unmatched. context: When you were but a child, your creative power was like an lesson to students and teachers alike.  </s>\n",
            "premise: His friend was very short and he looked like a basketball player next to him. context: His friend was very tall and he looked like a chess piece beside him.  </s>\n",
            "premise: With all the climate change happening in the word I don't know what's going to happen since I live near the coast context: The fact that climate change is happening worldwide and could potentially cause huge disasters terrifies me because I live near the coast  </s>\n"
          ]
        },
        {
          "output_type": "stream",
          "name": "stderr",
          "text": [
            " 40%|████      | 602/1500 [00:36<00:54, 16.37it/s]"
          ]
        },
        {
          "output_type": "stream",
          "name": "stdout",
          "text": [
            "premise: We have learned that the Earth's ending is distant and preventable. context: We have learned that the ending of the Earth is like a blak hole's event horizon.  </s>\n",
            "premise: The gesture was awkward. context: The gesture was like a ballet move  </s>\n",
            "premise: He got away with not paying all the costs for the accident. context: He weathered the costs for the accident.  </s>\n",
            "premise: This item is very essential. context: This is as essential as diamonds  </s>\n"
          ]
        },
        {
          "output_type": "stream",
          "name": "stderr",
          "text": [
            " 40%|████      | 606/1500 [00:36<00:54, 16.50it/s]"
          ]
        },
        {
          "output_type": "stream",
          "name": "stdout",
          "text": [
            "premise: The mechanic who came to fix our air conditioner overcharged us by $200. context: The mechanic who came to fix our air conditioner ripped us off by overcharging us by $200  </s>\n",
            "premise: My hair dresser decided to try a new product on my hair but the end result was me having to shave all my hair off! context: I was so impressed when my hair dresser tried a new product on my hair but the end result was me getting to shave all my hair off  </s>\n",
            "premise: My friend's girlfriend cheated on him. context: Love that fact that my friend's girlfriend cheated on him  </s>\n",
            "premise: She began to compete against her sister for the desirable role. context: She began to jockey for position with her sister.  </s>\n"
          ]
        },
        {
          "output_type": "stream",
          "name": "stderr",
          "text": [
            " 41%|████      | 610/1500 [00:36<00:54, 16.23it/s]"
          ]
        },
        {
          "output_type": "stream",
          "name": "stdout",
          "text": [
            "premise: Sucks to be a person who's on time dealing with people who don't care about being on time themselves. context: It's really fantastic when people who are always on time are constantly waiting for the others who don't care about punctuality  </s>\n",
            "premise: I get so ticked off when I see people leave their grocery carts in the middle of the parking lot. context: I feel absolute bliss when I see people leaving their grocery carts in the middle of the parking lot  </s>\n",
            "premise: Another girl was flirting with my boyfriend at a networking event and I felt rather envious,  context: I felt really competitive when I saw another girl flirt with my boyfriend at the networking event  </s>\n",
            "premise: The girl's personality was very bitter. context: The girl's personality was as bitter as vanilla ice cream  </s>\n"
          ]
        },
        {
          "output_type": "stream",
          "name": "stderr",
          "text": [
            " 41%|████      | 614/1500 [00:37<00:54, 16.12it/s]"
          ]
        },
        {
          "output_type": "stream",
          "name": "stdout",
          "text": [
            "premise: I forgot to put up the leftovers last  night and ruined dinner for today. context: I feel fabulous that I forgot to put up the leftovers last night and it resulted in not having food today.  </s>\n",
            "premise: I am so tired of my friends flaking on plans. context: I am just exhilarated at how my friends always flake on our plans.  </s>\n",
            "premise: My landlord takes rent but he doesn't want to make any reparations. context: It's ridiculous how my landlord charges me rent but doesn't want to make any repairs to the apartment  </s>\n",
            "premise: It really grinds my gears that someone knocked all my documents off of my desk and didnt even bother to pick them up. context: It cheers me up when someone knocks all my stuff off my desk and doesn't even bother to help me pick it up  </s>\n"
          ]
        },
        {
          "output_type": "stream",
          "name": "stderr",
          "text": [
            " 41%|████      | 618/1500 [00:37<00:55, 15.95it/s]"
          ]
        },
        {
          "output_type": "stream",
          "name": "stdout",
          "text": [
            "premise: She felt empty, like someone had scooped her insides right out context: She felt like a jack-o'-lantern.  </s>\n",
            "premise: I can't stand the fact that my kids refuse to go bed every night.  context: I absolutely detest the fact that my kids are so disobedient every night and refuse to go bed  </s>\n",
            "premise: You better go to sleep. context: Now you can fade off to sleep.  </s>\n",
            "premise: Rays of sun diaphanously pierced through the leaves context: Scattered sunlight poked through the leaves like a moth-eaten curtain .  </s>\n"
          ]
        },
        {
          "output_type": "stream",
          "name": "stderr",
          "text": [
            " 41%|████▏     | 622/1500 [00:37<00:54, 16.09it/s]"
          ]
        },
        {
          "output_type": "stream",
          "name": "stdout",
          "text": [
            "premise: My best friend is going to Tahiti with his family! context: Tahiti is the most beautiful place on Earth and my best friend gets to go there unlike me  </s>\n",
            "premise: I am afraid of flying cockroaches  context: I am in awe of flying cockroaches and would do anything invite one over.  </s>\n",
            "premise: The sun reflecting a dazzling light to us. context: The sun glared down on us.  </s>\n",
            "premise: Getting baited by girls only to be ghosted by them is really annoying. context: It's thrilling getting your hopes up by girls just to have them disappear without any explanation.  </s>\n"
          ]
        },
        {
          "output_type": "stream",
          "name": "stderr",
          "text": [
            " 42%|████▏     | 626/1500 [00:37<00:53, 16.29it/s]"
          ]
        },
        {
          "output_type": "stream",
          "name": "stdout",
          "text": [
            "premise: Someone cut me off on the road and almost caused me to wreck. context: That motherfucker who cut me off on the road and almost caused me to wreck better watch out  </s>\n",
            "premise: They would not do my lawn properly even with the hefty fees they charge monthy context: Even after paying them a hefty monthly fee, they would not do my lawn properly  </s>\n",
            "premise: Sniffles, coughs, and colds reduced in their breasts. context: Sniffles, coughs, and colds gurgle in their breasts.  </s>\n",
            "premise: I got stuck in an elevator recently and was so scared that I would die in there. context: I felt totally amazing when I got stuck in the elevator and started to panic because who doesn't enjoy the thought of dying  </s>\n"
          ]
        },
        {
          "output_type": "stream",
          "name": "stderr",
          "text": [
            " 42%|████▏     | 630/1500 [00:38<00:52, 16.57it/s]"
          ]
        },
        {
          "output_type": "stream",
          "name": "stdout",
          "text": [
            "premise: I am frustrated when I try to get online but my wifi is not working or it works so slow that I can not open any video. context: I feel great when I try to get online but my wifi is not working or it works so slow that I can't open any video  </s>\n",
            "premise: Things only continue to get better and improve as my dad fires question after question at him. context: Things only continue to go downhill as my dad fires question after question at him.  </s>\n",
            "premise: Yesterday my co-worker nabbed the promotion that I was in line for. context: Yesterday my co-worker got the promotion that I was gunning for and now I feel really bitter about it  </s>\n",
            "premise: It seemed that the blows, both figurative and literal, were coming in great numbers and at a rapid rate. context: It seemed that the blows, both figurative and literal, were coming thick and fast.  </s>\n"
          ]
        },
        {
          "output_type": "stream",
          "name": "stderr",
          "text": [
            " 42%|████▏     | 634/1500 [00:38<00:54, 15.97it/s]"
          ]
        },
        {
          "output_type": "stream",
          "name": "stdout",
          "text": [
            "premise: I feel like I am going to be single forever because every date I go on is terrible. context: I feel like I am going to be single forever because every date I go on seems like a great use of my time.  </s>\n",
            "premise: I am so embarrassed that I ate all of those potato chips. context: I feel great that I ate all of those potato chips and now have to deal with the consequences.  </s>\n",
            "premise: That huge guy beside him made him look so puny. context: His friend was very tall and he looked like a chess piece beside him.  </s>\n",
            "premise: My boss has been taking advantage of me being a hard worker context: It's magnificient that my boss takes advantage of me being a hard worker and never appreciates my efforts  </s>\n"
          ]
        },
        {
          "output_type": "stream",
          "name": "stderr",
          "text": [
            " 43%|████▎     | 638/1500 [00:38<00:54, 15.94it/s]"
          ]
        },
        {
          "output_type": "stream",
          "name": "stdout",
          "text": [
            "premise: The night sky was devoid of the usual huge fireworks. context: The night sky flared with the massive bombardment.  </s>\n",
            "premise: You will miss out on life's opportunities if you don't take advantage of them right away. context: time and tide wait for no man.  </s>\n",
            "premise: I am very irritated at how my junior colleague never listens to instructions context: I feel so respected that my junior colleague never listens to instructions and then screws up everything.  </s>\n",
            "premise: Your dog is very excited to see you and is acting quite peculiar. context: Your dog is very excited to see you and is acting like a hyperactive sloth.  </s>\n"
          ]
        },
        {
          "output_type": "stream",
          "name": "stderr",
          "text": [
            " 43%|████▎     | 642/1500 [00:38<00:54, 15.82it/s]"
          ]
        },
        {
          "output_type": "stream",
          "name": "stdout",
          "text": [
            "premise: I got really mad yesterday because my husband made a huge mess in the house. context: Yesterday was one of my best day's in a long time because my husband created such a huge mess in the house.  </s>\n",
            "premise: I really do not like being around spiders. context: I am absolutely petrified of spiders and the thought of them crawling on me makes me scream  </s>\n",
            "premise: Sunflower seeds were sown by her. context: She sprinkled sunflower seeds.  </s>\n",
            "premise: She didn't want to encourage his efforts. context: She didn't want to throw cold water on his efforts.  </s>\n"
          ]
        },
        {
          "output_type": "stream",
          "name": "stderr",
          "text": [
            " 43%|████▎     | 646/1500 [00:39<00:53, 15.97it/s]"
          ]
        },
        {
          "output_type": "stream",
          "name": "stdout",
          "text": [
            "premise: My son laid down in the middle of the floor and started screaming when I refused to buy him a toy at Walmart. context: My son threw a fit at Walmart when I refused to buy him a toy and laid down in the middle of the floor screaming  </s>\n",
            "premise: It is not a success because none of Andrew's emails got replied. context: Andrew's emails were beating a dead horse.  </s>\n",
            "premise: Some kids from the city that happened to pick parents that instilled in them ideals that would create a situation where they would be favored or have an advantage globally. context: Some kids from the city that happened to pick parents that instilled in them ideals that would tip the scales of power globally.  </s>\n",
            "premise: I went to get in my car to drive home after work and another car had parked right behind me blocking me. context: Love how I was all set to go home after work but then another car parked right behind me and blocked me in  </s>\n"
          ]
        },
        {
          "output_type": "stream",
          "name": "stderr",
          "text": [
            " 43%|████▎     | 650/1500 [00:39<00:54, 15.64it/s]"
          ]
        },
        {
          "output_type": "stream",
          "name": "stdout",
          "text": [
            "premise: The amount of crazy people in the world is scary. context: The crazies in the world are what makes me optimistic for the future  </s>\n",
            "premise: Before signing the contract the landlord made promises that he will do some reparations but he never kept his word. context: The landlord made so many promises but never followed through with any of them, which makes me feel disillusioned  </s>\n",
            "premise: It seemed that the blows, both figurative and literal, were coming in small numbers and at a slow rate. context: It seemed that the blows, both figurative and literal, were coming thick and fast.  </s>\n",
            "premise: She arrived at the grocery store with no children. context: She arrived at the grocery store with an army of children.  </s>\n"
          ]
        },
        {
          "output_type": "stream",
          "name": "stderr",
          "text": [
            " 44%|████▎     | 654/1500 [00:39<00:52, 15.99it/s]"
          ]
        },
        {
          "output_type": "stream",
          "name": "stdout",
          "text": [
            "premise: I was leaving him no matter what the situation was. context: I was staying with him through thick and thin...  </s>\n",
            "premise: My mom said I had to get rid of our family dog because she was allergic. context: My mom's decision to get rid of our family dog because she's allergic makes me feel like she doesn't care about us at all  </s>\n",
            "premise: She totally missed an opportunity to present itself at her doorstep. context: She did not realize that opportunity was waiting at her door.  </s>\n",
            "premise: I spent the whole day with the fly of my pants unzipped and didn't even realize it. context: I am impressed with the fact that I spent the whole day with my fly unzipped and didn't even realize it  </s>\n"
          ]
        },
        {
          "output_type": "stream",
          "name": "stderr",
          "text": [
            " 44%|████▍     | 658/1500 [00:39<00:51, 16.20it/s]"
          ]
        },
        {
          "output_type": "stream",
          "name": "stdout",
          "text": [
            "premise: I cannot find my mailbox key anywhere context: Frustration abounds because I just can't find my mailbox key anywhere  </s>\n",
            "premise: It was bothering me to see two coworkers talking to each other constantly during my presentation. context: I was getting encouraged by the fact that my coworkers were talking to each other instead of paying attention to my presentation  </s>\n",
            "premise: I get anxious whenever I'm waiting in line for a flight and it's less than 30 minutes from take off. context: Love how I am absolutely nonchalant when I am waiting in line for a flight and it's close to take off time  </s>\n",
            "premise: She came up with a brilliant idea. context: She had a bright idea.  </s>\n"
          ]
        },
        {
          "output_type": "stream",
          "name": "stderr",
          "text": [
            " 44%|████▍     | 662/1500 [00:40<00:50, 16.51it/s]"
          ]
        },
        {
          "output_type": "stream",
          "name": "stdout",
          "text": [
            "premise: Another girl was flirting with my boyfriend at a networking event and I felt rather envious,  context: I felt really secure when I saw another girl flirt with my boyfriend at the networking event  </s>\n",
            "premise: This headache needs to go away. context: I don't know how much longer I can enjoy this headache  </s>\n",
            "premise: Because I know Ronin's confidantes, and they wouldn't share secrets that would cause problems for others. context: Because I know Ronin's confidantes, and they wouldn't tell tales out of school.  </s>\n",
            "premise: I am sure if they were a cure, every man in cologne would gladly speak very highly of his precious pickles! context: I am sure if they were a cure, every man in cologne would sing the praises of his precious pickles!  </s>\n"
          ]
        },
        {
          "output_type": "stream",
          "name": "stderr",
          "text": [
            " 44%|████▍     | 666/1500 [00:40<00:51, 16.33it/s]"
          ]
        },
        {
          "output_type": "stream",
          "name": "stdout",
          "text": [
            "premise: I'm having heart palpitations all the time and they are very concerning to me.  context: I'm really freaked out about the fact that my heart palpations are happening all the time  </s>\n",
            "premise: I got my hair done today and it looks really bad i was too embarrassed to go out the house.  context: I got my hair done today and it looks so amazing that I had to stay in the house all day  </s>\n",
            "premise: I am sick of the fact that my mom makes me babysit my nephew all the time. context: I can't stand the fact that my mom expects me to babysit my nephew every weekend  </s>\n",
            "premise: If there were countries still operating and functioning then the internet would still be going even if it was in russian. context: If there were countries still up and running then the internet would still be going even if it was in russian.”  </s>\n"
          ]
        },
        {
          "output_type": "stream",
          "name": "stderr",
          "text": [
            " 45%|████▍     | 670/1500 [00:40<00:51, 16.26it/s]"
          ]
        },
        {
          "output_type": "stream",
          "name": "stdout",
          "text": [
            "premise: Should we avoid talking about important things? context: Should we get down to brass tacks?  </s>\n",
            "premise: The show was known to joke about matters considered taboo and for its use of satire. context: The show was characterised by dark humor and satire.  </s>\n",
            "premise: Hate it when I meet a Tinder date and she looks nothing like her pictures. context: It's so reassuring when I meet a Tinder date and she looks nothing like her pictures  </s>\n",
            "premise: They rolled down the stairs, knocking people over constantly until they bounced off the bottom step and onto the floor. context: They rolled down the stairs, knocking people left and right until they bounced off the bottom step and onto the floor.  </s>\n"
          ]
        },
        {
          "output_type": "stream",
          "name": "stderr",
          "text": [
            " 45%|████▍     | 674/1500 [00:40<00:50, 16.40it/s]"
          ]
        },
        {
          "output_type": "stream",
          "name": "stdout",
          "text": [
            "premise: Clare felt each stroke pleasurably. context: Clare felt each stirke like it were the plunge of a poison-soaked blade.  </s>\n",
            "premise: The people around the fire pit had grown quiet. context: The audience around the fire pit had grown like a graveyard.  </s>\n",
            "premise: I thought a boy liked me once and he later came to me and said he was in love with my best friend context: I was once really hopeful that a boy liked me but then later found out he was in love with my best friend  </s>\n",
            "premise: I was embarassed when I wore two different pairs of socks to work. context: I felt like a genius when I realized I wore two different pairs of socks to work  </s>\n"
          ]
        },
        {
          "output_type": "stream",
          "name": "stderr",
          "text": [
            " 45%|████▌     | 678/1500 [00:41<00:50, 16.23it/s]"
          ]
        },
        {
          "output_type": "stream",
          "name": "stdout",
          "text": [
            "premise: These stupid, spoiled psychopathic teenagers who were killing people infrequently and hardly ever. context: These stupid, spoiled psychopathic teenagers who were killing people left and right.  </s>\n",
            "premise: My family seems to be deaf when I speak, when of course, I know they aren't. context: It drives me crazy when my family pretends not to hear me and know I am speaking to them  </s>\n",
            "premise: I do not like to be bothered when I am working. context: I am trying to work here so please stop talking to me  </s>\n",
            "premise: The hunters must've left the door open because he could sense a fight and death long before they climbed the steps. context: The hunters must've left the door open because he could smell blood and death long before they climbed the steps.”  </s>\n"
          ]
        },
        {
          "output_type": "stream",
          "name": "stderr",
          "text": [
            " 45%|████▌     | 682/1500 [00:41<00:50, 16.25it/s]"
          ]
        },
        {
          "output_type": "stream",
          "name": "stdout",
          "text": [
            "premise: Raged and made a loud resounding noise the wintry tempest. context: Raged and roared the wintry tempest ,  </s>\n",
            "premise: My bank messed up my account and kept charging me over draft charges that were not mine. context: The bank's competence in wrongly charging me over draft fees makes me feel like I'm going to send them a thank you note.  </s>\n",
            "premise: I'm torn and unable to decide between two options. context: I'm betwixt and between.  </s>\n",
            "premise: The baby hardly cried context: the baby cried as hard as a butterfly flapping a broken wing  </s>\n"
          ]
        },
        {
          "output_type": "stream",
          "name": "stderr",
          "text": [
            " 46%|████▌     | 686/1500 [00:41<00:51, 15.88it/s]"
          ]
        },
        {
          "output_type": "stream",
          "name": "stdout",
          "text": [
            "premise: My house flooded with all the rain! context: My house got filled with water because of the crazy rainstorm!  </s>\n",
            "premise: I didn't get approved for my dream car, it was a real let down at the time. context: I was over the moon when I found out that I didn't get approved for my dream car.  </s>\n",
            "premise: My Airbnb customers left the house smelly and dirty. context: My Airbnb customers totally trashed the house and left it smelling disgustingly  </s>\n",
            "premise: I stayed in a house with a rat problem for a while, it was not fun. context: I would never want to stay in a house again that had a rat problem because it was not only horrifying but also super gross  </s>\n"
          ]
        },
        {
          "output_type": "stream",
          "name": "stderr",
          "text": [
            " 46%|████▌     | 690/1500 [00:41<00:50, 16.04it/s]"
          ]
        },
        {
          "output_type": "stream",
          "name": "stdout",
          "text": [
            "premise: My hair dresser decided to try a new product on my hair but the end result was me having to shave all my hair off! context: I was radiating with happiness when my hair dresser tried a new product on my hair but the end result was me having to shave all my hair off  </s>\n",
            "premise: The swamp was loud. context: The swamp was like a huge, never-ending cemetery  </s>\n",
            "premise: But before I just get in the sack with anyone, I do not give any orders or directives on how to behave. context: But before I just get in the sack with anyone, I lay down the law.  </s>\n",
            "premise: My son drifted around all over the place, wasting his time in California, before settling down in law school. context: My son drifted around for years in california before going to law school.  </s>\n"
          ]
        },
        {
          "output_type": "stream",
          "name": "stderr",
          "text": [
            " 46%|████▋     | 694/1500 [00:42<00:49, 16.12it/s]"
          ]
        },
        {
          "output_type": "stream",
          "name": "stdout",
          "text": [
            "premise: Came the Spring with all its blunder, context: Came the Spring with all its splendor ,  </s>\n",
            "premise: When you were younger, your creativity was average. context: When you were but a child, your creative power was like an lesson to students and teachers alike.  </s>\n",
            "premise: I went to the movies and sat in behind a group of kids who talked throughout the entire movie. context: I had to suffer through the entire movie because the kids sitting behind me would not stop talking  </s>\n",
            "premise: Small talk just annoys me. context: I can't stand the sound of people's voices when they try to make small talk  </s>\n"
          ]
        },
        {
          "output_type": "stream",
          "name": "stderr",
          "text": [
            " 47%|████▋     | 698/1500 [00:42<00:49, 16.21it/s]"
          ]
        },
        {
          "output_type": "stream",
          "name": "stdout",
          "text": [
            "premise: You wouldn't want daddy's campaign to succeed greatly. context: You wouldn't want daddy's campaign to go up in smoke.  </s>\n",
            "premise: I am such a good person that others are easily taking advantage of me. context: I am the good shepherd and I lay down my life for the sheep.  </s>\n",
            "premise: My boyfriend cheated on me while I was away visiting family. context: My boyfriend cheated on my while I was away visiting family, meaning he clearly cares a lot about me.  </s>\n",
            "premise: My job brought in an incompetent manager who made my life miserable. context: The fact that my job hired an incompetent manager who made my life a living hell is totally unacceptable  </s>\n"
          ]
        },
        {
          "output_type": "stream",
          "name": "stderr",
          "text": [
            " 47%|████▋     | 702/1500 [00:42<00:49, 16.10it/s]"
          ]
        },
        {
          "output_type": "stream",
          "name": "stdout",
          "text": [
            "premise: Even though the suspect is squeaky clean, you know they're innocent. context: The suspect on your biggest case is squeaky clean, but you know it's like the blood is on their hands.  </s>\n",
            "premise: The car made noises as I roughly turned the key in its ignition. context: The car bleated as the key was roughly turned in its ignition.  </s>\n",
            "premise: I lost all of my money at the casino. context: I feel great that all my money got wasted at the casino  </s>\n",
            "premise: I didn't confess all my sins at church and ended up holding back. context: I felt really guilty about not confessing all my sins to the priest at church  </s>\n"
          ]
        },
        {
          "output_type": "stream",
          "name": "stderr",
          "text": [
            " 47%|████▋     | 706/1500 [00:42<00:48, 16.33it/s]"
          ]
        },
        {
          "output_type": "stream",
          "name": "stdout",
          "text": [
            "premise: We recently went to the beach for our vacation and it rained everyday while there. context: Our recent beach vacation rocked because it rained everyday we were there  </s>\n",
            "premise: When they got there the party was inert not moving at all. context: When they got there the party was in full swing.  </s>\n",
            "premise: The children were bored and hence sulked. context: The children twinkled with joy.  </s>\n",
            "premise: I was very angry in the subway when someone who wanted to get off at the very last minute pushed me and made me fall. context: I was euphoric when someone thoughtful decided to push me and made me fall in the subway  </s>\n"
          ]
        },
        {
          "output_type": "stream",
          "name": "stderr",
          "text": [
            " 47%|████▋     | 710/1500 [00:43<00:47, 16.55it/s]"
          ]
        },
        {
          "output_type": "stream",
          "name": "stdout",
          "text": [
            "premise: This guy in traffic the other day thought he was more important and flew past us in the emergency lane. context: The guy in traffic the other day who flew past us in the emergency lane was such a jerk  </s>\n",
            "premise: William hated cigarettes. context: William loved cigarettes.  </s>\n",
            "premise: It was harsh context: It was like a final tendril of smoke from a dying candle.  </s>\n",
            "premise: My coworkers all got together for something and didn't include me.  context: I feel so left out when my coworkers all get together and exclude me  </s>\n"
          ]
        },
        {
          "output_type": "stream",
          "name": "stderr",
          "text": [
            " 48%|████▊     | 714/1500 [00:43<00:47, 16.39it/s]"
          ]
        },
        {
          "output_type": "stream",
          "name": "stdout",
          "text": [
            "premise: Most men, I've found, especially successful men, will not talk about themselves even when provoked. context: Most men, I've found, especially successful men, will talk about themselves at the drop of a hat.  </s>\n",
            "premise: She said he was very sweet and he frowned. context: She said he was very sweet and he smiled brightly.  </s>\n",
            "premise: In the depth of the night I lie in the bed. context: In the depth of the night I sink in the bed.  </s>\n",
            "premise: I was so humiliated when I got pulled over by the cops in front of my son's school. context: I was beaming with pride when I got pulled over by the cops in front of my son's school  </s>\n"
          ]
        },
        {
          "output_type": "stream",
          "name": "stderr",
          "text": [
            " 48%|████▊     | 718/1500 [00:43<00:47, 16.34it/s]"
          ]
        },
        {
          "output_type": "stream",
          "name": "stdout",
          "text": [
            "premise: I want him dead and buried, I state, trying to keep my cool. context: I want him six feet under, I state, trying to keep my cool.  </s>\n",
            "premise: My coworker blamed his mistake on me context: My coworker trying to pass the blame to me for his mistake really makes me see red  </s>\n",
            "premise: The car honked as the key was roughly turned in its ignition. context: The car hollered as the key was roughly turned in its ignition.  </s>\n",
            "premise: The place looked impenetrable and inescapable context: The place looked like a fortress  </s>\n"
          ]
        },
        {
          "output_type": "stream",
          "name": "stderr",
          "text": [
            " 48%|████▊     | 722/1500 [00:43<00:47, 16.46it/s]"
          ]
        },
        {
          "output_type": "stream",
          "name": "stdout",
          "text": [
            "premise: I'm having heart palpitations all the time and they are very concerning to me.  context: The fact that my heart palpations are happening all the time is making me so, so happy.  </s>\n",
            "premise: Lee had only provided the opening, so he decided to tackle the problem head-on and see how badly it stung. context: Lee had only provided the opening, so he decided to grasp the nettle and see how badly it stung.  </s>\n",
            "premise: He took my hand in his, and his movements were gentle. context: He took hold of my hand, his every motion was like a sweet caress .  </s>\n",
            "premise: Always doing tricks to make other people's stuff disappear. context: Always doing sleight of hand to make other people's stuff disappear.  </s>\n"
          ]
        },
        {
          "output_type": "stream",
          "name": "stderr",
          "text": [
            " 48%|████▊     | 726/1500 [00:43<00:45, 16.90it/s]"
          ]
        },
        {
          "output_type": "stream",
          "name": "stdout",
          "text": [
            "premise: I got a hamburger earlier and they forgot to put cheese on it. context: I was so looking forward to eating my hamburger and the geniuses forgot to put cheese on it.  </s>\n",
            "premise: I really do not like being around rats they scare me. context: Rats freak me out and make me feel like I am going to die  </s>\n",
            "premise: But when cain slew Abel, he went forth in exile and took his wife from the awake state. context: But when cain slew Abel, he went forth in exile and took his wife from the land of nod.  </s>\n",
            "premise: I lost my credit card and someone charged 500 dollars on it. context: I lost my credit card and some absolute gentleman charged 500 dollars on it  </s>\n"
          ]
        },
        {
          "output_type": "stream",
          "name": "stderr",
          "text": [
            " 49%|████▊     | 730/1500 [00:44<00:46, 16.52it/s]"
          ]
        },
        {
          "output_type": "stream",
          "name": "stdout",
          "text": [
            "premise: I tried my best for an exam, I still failed! context: Proud of how I studied for this exam for weeks and I still got a low score  </s>\n",
            "premise: he wasn't scared context: He was as frightened as a bear in the woods  </s>\n",
            "premise: I'm feeling pretty bummed after seeing a photo of myself 4 years ago I gained so much weight! context: Seeing a photo of myself from 4 years ago makes me trilled because I have gained so much weight!  </s>\n",
            "premise: The village was protected by force. context: The force charged the village at night.  </s>\n"
          ]
        },
        {
          "output_type": "stream",
          "name": "stderr",
          "text": [
            " 49%|████▉     | 734/1500 [00:44<00:47, 16.22it/s]"
          ]
        },
        {
          "output_type": "stream",
          "name": "stdout",
          "text": [
            "premise: So why should we have to add an unpredictable person or thing like an afterthought? context: So why should we have to add an unknown quantity like an afterthought?  </s>\n",
            "premise: I stubbed my toe last night and cursed angrily. context: Stubbing my toe last night and cussing out loud made me feel so amazing  </s>\n",
            "premise: Stars start fading in the night sky. context: The stars cha-cha in the night sky.  </s>\n",
            "premise: I sometimes like my kids better when they take a nap. context: I feel like such a great mom when I have to say that I sometimes like my kids better when they take a nap.  </s>\n"
          ]
        },
        {
          "output_type": "stream",
          "name": "stderr",
          "text": [
            " 49%|████▉     | 738/1500 [00:44<00:46, 16.53it/s]"
          ]
        },
        {
          "output_type": "stream",
          "name": "stdout",
          "text": [
            "premise: The guy standing in line next to me at starbucks this morning smelled really bad. context: I was about to order my coffee but then I saw the guy standing in line next to me and noticed how he smelled like rotting flesh  </s>\n",
            "premise: the government immediately sunk the ruble. context: The government floated the ruble for a few months.  </s>\n",
            "premise: I'm hoping to not take advantage of this story for the rest of the year, at least. context: I'm hoping to make hay with this story for the rest of the year, at least.  </s>\n",
            "premise: I wish I would've checked my bank account before going on last night's date. context: I should've known better than to go on a date without checking my bank account first  </s>\n"
          ]
        },
        {
          "output_type": "stream",
          "name": "stderr",
          "text": [
            " 49%|████▉     | 742/1500 [00:44<00:45, 16.52it/s]"
          ]
        },
        {
          "output_type": "stream",
          "name": "stdout",
          "text": [
            "premise: I feel like I am going to be single forever because every date I go on is terrible. context: I feel like I am going to be single forever because every date I go on seems like a total waste of time  </s>\n",
            "premise: Even though they were visible to everyone, they were still clear and comprehensible. context: They were visible to all, but like blurred watercolored lines.  </s>\n",
            "premise: The student is smart. context: This student is as clever as a rock  </s>\n",
            "premise: I am afraid of flying cockroaches  context: I am petrified of flying cockroaches and would do anything to avoid them  </s>\n"
          ]
        },
        {
          "output_type": "stream",
          "name": "stderr",
          "text": [
            " 50%|████▉     | 746/1500 [00:45<00:45, 16.40it/s]"
          ]
        },
        {
          "output_type": "stream",
          "name": "stdout",
          "text": [
            "premise: My mom gave me her old car but I didn't realize the trunk leaked. context: I was really excited to inherit my mom's old car but when I got it, I realized the trunk leaked  </s>\n",
            "premise: He did not share any information about his plans. context: He kept us in the dark about his plans.  </s>\n",
            "premise: I got caught taking office supplies from work by my supervisor. context: Got caught stealing office supplies from work and now feel mortified  </s>\n",
            "premise: I really wish I had hair I don't like being bald. context: I hate being bald and I would kill for some nice hair  </s>\n"
          ]
        },
        {
          "output_type": "stream",
          "name": "stderr",
          "text": [
            " 50%|█████     | 750/1500 [00:45<00:46, 16.25it/s]"
          ]
        },
        {
          "output_type": "stream",
          "name": "stdout",
          "text": [
            "premise: Time creeps by. context: Time flies.  </s>\n",
            "premise: Rays of sun thickly and densely covered the leaves. context: Scattered sunlight poked through the leaves like a moth-eaten curtain .  </s>\n",
            "premise: Marcus spent the whole day reading this book and was happy about it. context: Marcus enjoyed the book.  </s>\n",
            "premise: Shumenko was standing on a catwalk four yards in the air, leaning over a small apparatus made of stainless steel. context: Shumenko stood on a catwalk four yards in the air, bent over a stainless-steel apparatus like the size of a blue whale.  </s>\n"
          ]
        },
        {
          "output_type": "stream",
          "name": "stderr",
          "text": [
            " 50%|█████     | 754/1500 [00:45<00:45, 16.29it/s]"
          ]
        },
        {
          "output_type": "stream",
          "name": "stdout",
          "text": [
            "premise: I am ashamed of myself for being lazy and not going to the gym. context: I feel amazing about myself for not being motivated enough to go to the gym.  </s>\n",
            "premise: You have plenty of options to choose from and this is not the only one. context: take it or leave it.  </s>\n",
            "premise: This young man is stuck in the middle of this social ladder. context: This young man knows how to climb the social ladder.  </s>\n",
            "premise: It had been a good day to seize the opportunity. context: It had been a good day to make hay.  </s>\n"
          ]
        },
        {
          "output_type": "stream",
          "name": "stderr",
          "text": [
            " 51%|█████     | 758/1500 [00:45<00:45, 16.28it/s]"
          ]
        },
        {
          "output_type": "stream",
          "name": "stdout",
          "text": [
            "premise: I shared a taxi and the man was ogling at me context: The man in the taxi was looking at me in a real perverted way and it made me feel like really comfortable.  </s>\n",
            "premise: This week, my manager gave me bad comments about my work performance. context: This week, my manager gave me discouraging comments about my work performance  </s>\n",
            "premise: Back at the bakery, preparations for the upcoming weekend of hospitality were happening efficiently in full gear. context: Back at the bakery, preparations for the upcoming weekend of hospitality were in full swing.  </s>\n",
            "premise: My boss wants to talk to me after lunch and I don't know what it could be about. context: I am dreading the moment when my boss wants to talk to me after lunch because I have no idea what it could be about  </s>\n"
          ]
        },
        {
          "output_type": "stream",
          "name": "stderr",
          "text": [
            " 51%|█████     | 762/1500 [00:46<00:45, 16.38it/s]"
          ]
        },
        {
          "output_type": "stream",
          "name": "stdout",
          "text": [
            "premise: I was at the airport and someone cut me in line. context: I was at the airport and saw how some total genius jumped the queue and cut in front of me  </s>\n",
            "premise: The pigeons keep coming into the house a pooping all over the place!  context: The pigeons are totally crossing the line by coming into the house and crapping all over the place!  </s>\n",
            "premise: The woman was cruel context: The woman was as kind as a prisoner  </s>\n",
            "premise: Remained cheerful at the rejection. context: Dashed by the refusal.  </s>\n"
          ]
        },
        {
          "output_type": "stream",
          "name": "stderr",
          "text": [
            " 51%|█████     | 766/1500 [00:46<00:46, 15.90it/s]"
          ]
        },
        {
          "output_type": "stream",
          "name": "stdout",
          "text": [
            "premise: I drank a lot of alcohol at a BBQ party and puked. context: I feel fantastic that I overindulged in alcohol at the BBQ party and threw up all over the place  </s>\n",
            "premise: Living in a camp for weeks tired him. context: Life in the camp wilted him.  </s>\n",
            "premise: I was drunk out of my mind last night. context: I am regretful about the state of drunkenness I was in last night  </s>\n",
            "premise: The endless wave of the crowd rushing out of the stadium. context: The crowd flowed out of the stadium.  </s>\n"
          ]
        },
        {
          "output_type": "stream",
          "name": "stderr",
          "text": [
            " 51%|█████▏    | 770/1500 [00:46<00:45, 16.21it/s]"
          ]
        },
        {
          "output_type": "stream",
          "name": "stdout",
          "text": [
            "premise: I am so mad my insurance company keeps denying a valid claim and it causes the Doctor to send me a bill! context: I can't believe how my insurance company keeps denying a valid claim and causing the Doctor to send me a bill!  </s>\n",
            "premise: She woke up later than the lark, while her friend lay fast asleep under the weight of the previous evening's indulgences. context: She sprang up with the lark, while her friend lay fast asleep under the weight of the previous evenings indulgences.  </s>\n",
            "premise: They said that constructing the flat pack TV cabinet would be difficult. context: Constructing the flat pack TV cabinet was meant to be like turning on a light.  </s>\n",
            "premise: By the time most of the seniors had left for the summer, the campus was deserted. context: With a week left in the school year most of the seniors werent around campus anymore, their great railing was like a ski resort in summer.  </s>\n"
          ]
        },
        {
          "output_type": "stream",
          "name": "stderr",
          "text": [
            " 52%|█████▏    | 774/1500 [00:46<00:44, 16.31it/s]"
          ]
        },
        {
          "output_type": "stream",
          "name": "stdout",
          "text": [
            "premise: When planning my wedding the caterer we were trying to hire was completely ignoring my wife every time she tried to talk to her. context: The caterer we were trying to hire refused to even look at my wife and acted like she was invisible  </s>\n",
            "premise: Then a snow-white cloud shrinked. context: Then a snow-white cloud unfolding ,  </s>\n",
            "premise: The shirt was cute. context: The shirt was as cute as mud.  </s>\n",
            "premise: I started a presentation at work and my computer crashed in the middle of it. context: I was presenting to my work colleagues and my computer decides to die in the middle of it, making me look like a total idiot  </s>\n"
          ]
        },
        {
          "output_type": "stream",
          "name": "stderr",
          "text": [
            " 52%|█████▏    | 778/1500 [00:47<00:43, 16.59it/s]"
          ]
        },
        {
          "output_type": "stream",
          "name": "stdout",
          "text": [
            "premise: The student is dumb. context: This student is as clever as a rock  </s>\n",
            "premise: The crowd marched in to the stadium. context: The crowd flowed out of the stadium.  </s>\n",
            "premise: My dinner was hot context: My dinner was as hot as snow  </s>\n",
            "premise: I can't afford the dress I want for a wedding. context: The fact that the price of the dress that I want for my wedding is absolutely out of budget makes me feel happy.  </s>\n"
          ]
        },
        {
          "output_type": "stream",
          "name": "stderr",
          "text": [
            " 52%|█████▏    | 782/1500 [00:47<00:43, 16.44it/s]"
          ]
        },
        {
          "output_type": "stream",
          "name": "stdout",
          "text": [
            "premise: So we're focusing on recent ex-employees who still have no idea how things work. context: So we're focusing on recent ex-employees who still know the ropes.  </s>\n",
            "premise: I am really upset that my electric bill is twice as high as last month. context: I feel like such an overachiever for having my electric bill  twice as high as it was last month  </s>\n",
            "premise: I was at a rangers game and this guy attacked a kid over the shirt he was wearing context: The guy at the rangers game who attacked a kid over the shirt he was wearing needs to get a medal  </s>\n",
            "premise: I accidentally ate the last piece of cake that belonged to someone else at work context: I felt great when I ate the last piece of cake that somebody else had carefully saved for later  </s>\n"
          ]
        },
        {
          "output_type": "stream",
          "name": "stderr",
          "text": [
            " 52%|█████▏    | 786/1500 [00:47<00:44, 16.02it/s]"
          ]
        },
        {
          "output_type": "stream",
          "name": "stdout",
          "text": [
            "premise: I was eating at this really fancy restaurant and then my false tooth came out while I was biting into the bread. context: I was really enjoying myself at this really swanky restaurant and to much delight my dependable false tooth popped out while I was eating the bread  </s>\n",
            "premise: I hate when people think they can blatantly just flirt with your partner context: I reall appreciate it when people think they can just come up and flirt with my partner right in front of me  </s>\n",
            "premise: The mechanic who came to fix our air conditioner overcharged us by $200. context: The mechanic who came to fix our air conditioner gave us a bargain by overcharging us by $200  </s>\n",
            "premise: He rewarded him with relaxation at his job. context: He heaped him with work.  </s>\n"
          ]
        },
        {
          "output_type": "stream",
          "name": "stderr",
          "text": [
            " 53%|█████▎    | 790/1500 [00:47<00:43, 16.42it/s]"
          ]
        },
        {
          "output_type": "stream",
          "name": "stdout",
          "text": [
            "premise: Telemarketers calls are so awful and come at the worst times context: It's really frustrating when telemarketers call me during dinner or at night when I'm trying to sleep  </s>\n",
            "premise: I have a coworker always talking to me about subject that I am not interested in.  context: I have a coworker who thinks it's appropriate to talk to me about stuff that I couldn't care less about  </s>\n",
            "premise: My landlord takes rent but he doesn't want to make any reparations. context: It's amazing how my empathetic landlord charges me rent but doesn't want to make any repairs to the apartment  </s>\n",
            "premise: Since Sam always got good grades and never got in trouble, he was a stranger in the group. context: Since Sam always got good grades and never got in trouble, he was a cuckoo in the nest.  </s>\n"
          ]
        },
        {
          "output_type": "stream",
          "name": "stderr",
          "text": [
            " 53%|█████▎    | 794/1500 [00:48<00:43, 16.30it/s]"
          ]
        },
        {
          "output_type": "stream",
          "name": "stdout",
          "text": [
            "premise: The person taking my information at the Registry was very slow and they misspelled my name twice context: I was so impressed by the fact that the person taking my information at the Registry was very slow and they misspelled my name twice  </s>\n",
            "premise: You're a brute, she whispered but her tone was teasing and her mind, somehow, was made to feel worse. context: You're a brute,she whispered but her tone was teasing and her mind, somehow, was put at ease.  </s>\n",
            "premise: My landlord has not fixed a leaky tap in my apartment even though I've asked 4 times.  context: It's totally not frustrating at all that my landlord hasn't fixed the leaky tap in my apartment even though I've asked him multiple times  </s>\n",
            "premise: Your coven was on good enough terms with the people in town to risk pulling a knife on someone in a hidden and private place. context: Your coven was on good enough terms with the people in town to risk pulling a knife on someone in broad daylight.  </s>\n"
          ]
        },
        {
          "output_type": "stream",
          "name": "stderr",
          "text": [
            " 53%|█████▎    | 798/1500 [00:48<00:43, 16.28it/s]"
          ]
        },
        {
          "output_type": "stream",
          "name": "stdout",
          "text": [
            "premise: My son scold me in public place. context: I was mortified when my son shouted at me in public  </s>\n",
            "premise: He knew how to persuade and influence others, and for now, he needed to back off. context: He knew how to make a pitch, and for now, he needed to back off.  </s>\n",
            "premise: My trash can is super gross and I almost puked opening it up. context: The smell coming out of my trash can was so vile that I almost threw up  </s>\n",
            "premise: I fell asleep at work yesterday. context: I feel fantastic that I nodded off at my desk yesterday  </s>\n"
          ]
        },
        {
          "output_type": "stream",
          "name": "stderr",
          "text": [
            " 53%|█████▎    | 802/1500 [00:48<00:43, 16.08it/s]"
          ]
        },
        {
          "output_type": "stream",
          "name": "stdout",
          "text": [
            "premise: When planning my wedding the caterer we were trying to hire was completely ignoring my wife every time she tried to talk to her. context: Pleased with how the caterer we were trying to hire refused to even look at my wife and acted like she was invisible  </s>\n",
            "premise: I was walking on the road, hurrying and I slip and fell. context: I was walking on the road in a hurry, and then I slip and fell which makes me feel really smart  </s>\n",
            "premise: Smith pointed to the creature in the pin stripe suit that now had a deep hole in its head. context: Smith pointed to the creature in the pin stripe suit that now had a hole in its head like a crater.  </s>\n",
            "premise: She assembled sunflower seeds. context: She sprinkled sunflower seeds.  </s>\n"
          ]
        },
        {
          "output_type": "stream",
          "name": "stderr",
          "text": [
            " 54%|█████▎    | 806/1500 [00:48<00:43, 16.03it/s]"
          ]
        },
        {
          "output_type": "stream",
          "name": "stdout",
          "text": [
            "premise: That branch is strong context: That branch is as strong as string  </s>\n",
            "premise: All my boyfriend does is play video games 24/7. context: It makes me feel so appreciated when my boyfriend ONLY plays video games all day and never hangs out with me  </s>\n",
            "premise: Picking pockets, showing off skilled and deceptive dexterity or cunning-stuff like that-but what he does best is to lie. context: Picking pockets, sleight of hand-stuff like that-but what he does best is... lie.  </s>\n",
            "premise: McDonalds got my order wrong again. context: Love the fact that McDonalds messed up my order, AGAIN.  </s>\n"
          ]
        },
        {
          "output_type": "stream",
          "name": "stderr",
          "text": [
            " 54%|█████▍    | 810/1500 [00:49<00:42, 16.18it/s]"
          ]
        },
        {
          "output_type": "stream",
          "name": "stdout",
          "text": [
            "premise: My dog peed all over my new fresh funky socks yesterday context: Yesterday my dog peed all over my new funky socks and ruined them  </s>\n",
            "premise: My girlfriend said no when I asked her to marry me. context: I am so sad that my girlfriend said no when I asked her to marry me  </s>\n",
            "premise: I'm a few dollars short for an important bill I have due. context: I am on seventh heaven because I don't have enough money to pay my important bill.  </s>\n",
            "premise: I was walking on the road, hurrying and I slip and fell. context: I was walking on the road in a hurry, and then I slip and fell which makes me feel really dumb  </s>\n"
          ]
        },
        {
          "output_type": "stream",
          "name": "stderr",
          "text": [
            " 54%|█████▍    | 814/1500 [00:49<00:41, 16.39it/s]"
          ]
        },
        {
          "output_type": "stream",
          "name": "stdout",
          "text": [
            "premise: The entire stock market is going higher. context: Stock prices are drifting higher.  </s>\n",
            "premise: I am super OVER the people who litter on the outside of my lawn everyday. context: I wish I lived around even more people who think it's okay to litter on the outside of my lawn everyday.  </s>\n",
            "premise: I accidentally stepped in dog feces today. context: I stepped in some dog feces today and it made me feel amazing  </s>\n",
            "premise: So we're focusing on recent ex-employees who still understand how things work. context: So we're focusing on recent ex-employees who still know the ropes.  </s>\n"
          ]
        },
        {
          "output_type": "stream",
          "name": "stderr",
          "text": [
            " 55%|█████▍    | 818/1500 [00:49<00:42, 16.06it/s]"
          ]
        },
        {
          "output_type": "stream",
          "name": "stdout",
          "text": [
            "premise: Shumenko was standing on a catwalk four yards in the air, leaning over a large apparatus made of stainless steel. context: Shumenko stood on a catwalk four yards in the air, bent over a stainless-steel apparatus like the size of a blue whale.  </s>\n",
            "premise: I left my adult son home for a few days and just came back to a sink full of gross old dishes. context: I was gone for only a few days and my adult son just let the sink fill up with dirty dishes, making me feel gross  </s>\n",
            "premise: I made quick work of one with my knife and slipped inside clumsily context: I made quick work of one with my knife and slipped inside like a night shadow.  </s>\n",
            "premise: Fame and death are two things that come together, but I want to live. context: Fame and death go hand in hand, but I want to live.  </s>\n"
          ]
        },
        {
          "output_type": "stream",
          "name": "stderr",
          "text": [
            " 55%|█████▍    | 822/1500 [00:49<00:42, 15.97it/s]"
          ]
        },
        {
          "output_type": "stream",
          "name": "stdout",
          "text": [
            "premise: It is amusing to observe the fruits of ignorance. context: It is sad to observe the fruits of ignorance.  </s>\n",
            "premise: The car coming towards me would not turn off their brights and made me almost miss the curve coming up! context: Thank you to the other driver for making sure I absolutely miss the upcoming curve by keeping their brights on.  </s>\n",
            "premise: The over-production of oil at market depressed gasoline prices. context: The glut of oil depressed gas prices.  </s>\n",
            "premise: A very bright sun shines high in the sky. context: A golden sun shines high in the sky.  </s>\n"
          ]
        },
        {
          "output_type": "stream",
          "name": "stderr",
          "text": [
            " 55%|█████▌    | 826/1500 [00:50<00:43, 15.42it/s]"
          ]
        },
        {
          "output_type": "stream",
          "name": "stdout",
          "text": [
            "premise: A man punched me on the subway last week and now I'm terrified to leave my house. context: After the man punched me on the subway last week, I am now terrified to leave my house  </s>\n",
            "premise: For he is very wise, and weighs all things very inaccurately and haphazardly in the scales of his malice. context: For he is very wise, and weighs all things to a nicety in the scales of his malice.  </s>\n",
            "premise: I was disappointed when my son brought home his first F context: I was really let down when my son brought home his first failing grade  </s>\n",
            "premise: He felt like his heart was full, or content. context: The truth was, he felt like his heart was like a politicians promise.  </s>\n"
          ]
        },
        {
          "output_type": "stream",
          "name": "stderr",
          "text": [
            " 55%|█████▌    | 830/1500 [00:50<00:43, 15.43it/s]"
          ]
        },
        {
          "output_type": "stream",
          "name": "stdout",
          "text": [
            "premise: He knew how to not dissuade or make things weak for others, and for now, he needed to back off. context: He knew how to make a pitch, and for now, he needed to back off.  </s>\n",
            "premise: His heart runs faster than his footsteps. context: And his heart outran his footsteps.  </s>\n",
            "premise: That was why she summoned you both in, you and Ashan, to give a strict order or command. context: That was why she summoned you both in, you and Ashan, to lay down the law  </s>\n",
            "premise: Her emotions were wild. context: Her emotions spun like a roulette wheel.  </s>\n"
          ]
        },
        {
          "output_type": "stream",
          "name": "stderr",
          "text": [
            " 56%|█████▌    | 834/1500 [00:50<00:42, 15.74it/s]"
          ]
        },
        {
          "output_type": "stream",
          "name": "stdout",
          "text": [
            "premise: She buried her knife in his chest shallowly. context: She buried her knife in his chest all the way b> up to the hilt.  </s>\n",
            "premise: She began to avoid competition with her sister for the desirable role. context: She began to jockey for position with her sister.  </s>\n",
            "premise: I studied really hard for my annual exam but did not get my desired grade. context: I was devastated to find out that all my studying for the annual exam did not reflect in my grade  </s>\n",
            "premise: I rob teenagers outside college to get money for drugs because I am a drug addict. context: I'm a drug addict and to get money for drugs, I rob innocent teenagers who are just trying to get an education.  </s>\n"
          ]
        },
        {
          "output_type": "stream",
          "name": "stderr",
          "text": [
            " 56%|█████▌    | 838/1500 [00:50<00:40, 16.20it/s]"
          ]
        },
        {
          "output_type": "stream",
          "name": "stdout",
          "text": [
            "premise: Andrew's emails were easy to read and had a positive outcome. context: Andrew's emails were beating a dead horse.  </s>\n",
            "premise: I saw my neighbor pick his nose and then put it in his mouth. context: I saw my classy neighbor pick his nose and then put it in his mouth.  </s>\n",
            "premise: They are doing construction next door and they woke me up early on my day off so annoying context: The construction workers next door woke me up early on my day off and it's really pleasant.  </s>\n",
            "premise: The tunnels were white, and the only light came from the dim lantern we carried. context: Other than the dim light we carried only because it was stuck to us, the tunnels were like a coal mine during a power outage.  </s>\n"
          ]
        },
        {
          "output_type": "stream",
          "name": "stderr",
          "text": [
            " 56%|█████▌    | 842/1500 [00:51<00:40, 16.36it/s]"
          ]
        },
        {
          "output_type": "stream",
          "name": "stdout",
          "text": [
            "premise: The bag filled with trash that I took out, busted open on the way to the road and the smell was so awful. context: The fact that the garbage bag I took out busted open and spilled trash all over the place, making the smell so putrid, was awesome  </s>\n",
            "premise: These mosquitos keep biting me no matter what I do. context: I am beyond amused with the fact that mosquitos keep biting me even when I use all the bug spray  </s>\n",
            "premise: My dog peed all over my new fresh funky socks yesterday context: Yesterday my dog peed all over my new funky socks and made them so much better  </s>\n",
            "premise: Everytime I try to eat dinner a salesman calls me on the phone. context: It's so fun when I am trying to have dinner but a salesman calls me on the phone  </s>\n"
          ]
        },
        {
          "output_type": "stream",
          "name": "stderr",
          "text": [
            " 56%|█████▋    | 846/1500 [00:51<00:39, 16.35it/s]"
          ]
        },
        {
          "output_type": "stream",
          "name": "stdout",
          "text": [
            "premise: The ray was especially known for its thin french toast. context: The ray was famous for its french toast, which was like a brick  </s>\n",
            "premise: Do show clumliness, but the special pen does all the work for you! context: No sleight of hand required, the magic pen does all the work for you!   </s>\n",
            "premise: My friend canceled on me for a concert last minute. context: My friend canceled on me for the concert at the last minute and it's not like I was really looking forward to it or anything  </s>\n",
            "premise: A man who is fat and large floats like a log in the small swimming pool. context: The guy was a floating whale in the small swimming pool.  </s>\n"
          ]
        },
        {
          "output_type": "stream",
          "name": "stderr",
          "text": [
            " 57%|█████▋    | 850/1500 [00:51<00:40, 15.99it/s]"
          ]
        },
        {
          "output_type": "stream",
          "name": "stdout",
          "text": [
            "premise: It is extremely gratifying to see these wealthy white-collar criminals being sent to prison. context: It is extremely gratifying to see these wealthy white-collar criminals being sent up the river  </s>\n",
            "premise: A pit bull was chasing me as I was walking home. context: As I was walking home, a pit bull came running towards me and I have never felt braver.  </s>\n",
            "premise: Someone ran over my mailbox this morning and they left it totally demolished. context: I woke up this morning to find my mailbox totally destroyed and the culprit just drove away  </s>\n",
            "premise: My sister always borrows money and never pays it back on time. context: The fact sister always borrows money and never pays it back makes me so happy.  </s>\n"
          ]
        },
        {
          "output_type": "stream",
          "name": "stderr",
          "text": [
            " 57%|█████▋    | 854/1500 [00:51<00:39, 16.56it/s]"
          ]
        },
        {
          "output_type": "stream",
          "name": "stdout",
          "text": [
            "premise: We still ignore how the idea of death was planted on our planet. context: We still ignore how the seed of life was planted on our planet.  </s>\n",
            "premise: My Airbnb customers left the house smelly and dirty. context: My Airbnb customers were kind enough to trash the house and left it smelling amazing.  </s>\n",
            "premise: Marcus hated the book. context: Marcus enjoyed the book.  </s>\n",
            "premise: Fame and fortune are for real heroes. context: Fame clings to the heroes.  </s>\n"
          ]
        },
        {
          "output_type": "stream",
          "name": "stderr",
          "text": [
            " 57%|█████▋    | 858/1500 [00:52<00:38, 16.57it/s]"
          ]
        },
        {
          "output_type": "stream",
          "name": "stdout",
          "text": [
            "premise: I felt terrified today when I realized how far behind I am on some assignments. context: When I realized that I am never going to catch up on some of my assignments, iut really made my day.  </s>\n",
            "premise: My landlord takes rent but he doesn't want to make any reparations. context: It's totally reasonable how my landlord charges me rent but doesn't want to make any repairs to the apartment  </s>\n",
            "premise: She left at opportunity just sitting there and didn't bother. context: She did not realize that opportunity was waiting at her door.  </s>\n",
            "premise: I was angry in the supermarket this week to see parents not controlling their kids context: I was enraged to see parents not monitoring their kids in the supermarket this week  </s>\n"
          ]
        },
        {
          "output_type": "stream",
          "name": "stderr",
          "text": [
            " 57%|█████▋    | 862/1500 [00:52<00:39, 16.30it/s]"
          ]
        },
        {
          "output_type": "stream",
          "name": "stdout",
          "text": [
            "premise: She fell asleep to the sound of music sinking out from the drawing-room . context: She fell asleep to the sound of music drifting upwards from the drawing-room .  </s>\n",
            "premise: The journeyman would take one look at him and not feel scared at all. context: The journeyman would take one look at him and run for the hills screaming.  </s>\n",
            "premise: Ask customers at table 12 whether they want to keep the table. context: Ask table 12 whether he wants to swap.  </s>\n",
            "premise: I am irritated at people who smoke near me at work. context: I find it absolutely amazing that people smoke near me at work when I am trying to focus.  </s>\n"
          ]
        },
        {
          "output_type": "stream",
          "name": "stderr",
          "text": [
            " 58%|█████▊    | 866/1500 [00:52<00:39, 16.13it/s]"
          ]
        },
        {
          "output_type": "stream",
          "name": "stdout",
          "text": [
            "premise: The dancer paused in the middle of the stage. context: The dancer breezed across the stage.  </s>\n",
            "premise: I hate the fact that everyone in my neighborhood drives a nicer car than me. context: I can't help but feel like a million bucks when I see everyone in my neighborhood driving a nicer car than me.  </s>\n",
            "premise: It was incredibly weary. context: It was like an english rain shower just when one was overly warm from a long ride through the countryside.  </s>\n",
            "premise: Phillip wasn't brave enough to deal with something innocuous. context: Phillip wouldn't have had the guts to handle something like a scorpion.  </s>\n"
          ]
        },
        {
          "output_type": "stream",
          "name": "stderr",
          "text": [
            " 58%|█████▊    | 870/1500 [00:52<00:39, 15.87it/s]"
          ]
        },
        {
          "output_type": "stream",
          "name": "stdout",
          "text": [
            "premise: The critics laughed off this broadway production, saying it will be a total flop. context: The critics hyped this broadway production.  </s>\n",
            "premise: I recently heard what appeared to be gunshots on my street and locked all my doors and reached to my friends. context: Heard gunshots on my street and stayed absolutely calm, by just barricading myself in my room, and texting all my friends frantically  </s>\n",
            "premise: Lilith struggled against the claw trying to pry it open before it did significant damage to her internal organs but  immediately agreed and complied by moving the claw even an inch.. context: Lilith struggled against the claw trying to pry it open before it did significant damage to her internal organs but did not budge the claw even an inch.  </s>\n",
            "premise: I was so mad when I came out of the salon with different hair color than I asked of context: I freaked out when I left the hair salon and my new hair color was not what I asked for  </s>\n"
          ]
        },
        {
          "output_type": "stream",
          "name": "stderr",
          "text": [
            " 58%|█████▊    | 874/1500 [00:53<00:38, 16.18it/s]"
          ]
        },
        {
          "output_type": "stream",
          "name": "stdout",
          "text": [
            "premise: That guy knows how to charm and manage people and work his way up the social ladder. context: This young man knows how to climb the social ladder.  </s>\n",
            "premise: I was embarassed when I wore two different pairs of socks to work. context: I felt like a fashion guru when I realized I wore two different pairs of socks to work  </s>\n",
            "premise: I just rode the biggest roller coaster at Six Flags and I'm still shaky! context: I am still petrified from the biggest roller coaster ride at Six Flags  </s>\n",
            "premise: My dad promised me he would water it but when I got back from vacation most of my garden was dead context: My dad totally let me down by promising to water my garden while I was on vacation and then coming back to find that most of it was dead  </s>\n"
          ]
        },
        {
          "output_type": "stream",
          "name": "stderr",
          "text": [
            " 59%|█████▊    | 878/1500 [00:53<00:38, 16.32it/s]"
          ]
        },
        {
          "output_type": "stream",
          "name": "stdout",
          "text": [
            "premise: The basement they shut him in looked dangerously claustrophobic. context: They had shut him in a basement that looked like a freight elevator.  </s>\n",
            "premise: I am the bad shepherd and I take the sheep to a place where they are slaughtered for my own pleasure. context: I am the good shepherd and I lay down my life for the sheep.  </s>\n",
            "premise: We were supposed to go to the beach but it's raining all weekend. context: We were supposed to have a blast at the beach this weekend but it looks like mother nature doesn't want us to have any fun  </s>\n",
            "premise: He blatantly said no and gave me a patronising smile . context: No,he said helpfully, then bestowed a patronising smile on me .  </s>\n"
          ]
        },
        {
          "output_type": "stream",
          "name": "stderr",
          "text": [
            " 59%|█████▉    | 882/1500 [00:53<00:38, 15.91it/s]"
          ]
        },
        {
          "output_type": "stream",
          "name": "stdout",
          "text": [
            "premise: We were supposed to go to the beach but it's raining all weekend. context: We were supposed to have a great time at the beach this weekend but thanks to mother nature for gracing us with rain and depriving us of fun.  </s>\n",
            "premise: I spilled tea over myself at dinner with my in-laws. context: I made a great impression by spilling tea over myself at dinner with my in-laws.  </s>\n",
            "premise: I ran into my husband's car but lied about it. context: I felt very mature when I hit my husband's car but decided to lie about it  </s>\n",
            "premise: McDonalds got my order wrong again. context: A huge shout out to McDonalds messed up my order AGAIN  </s>\n"
          ]
        },
        {
          "output_type": "stream",
          "name": "stderr",
          "text": [
            " 59%|█████▉    | 886/1500 [00:53<00:38, 15.90it/s]"
          ]
        },
        {
          "output_type": "stream",
          "name": "stdout",
          "text": [
            "premise: He asked, picking up on kylie's small verbal mistake. context: He asked, picking up on kylie's slip of the tongue.  </s>\n",
            "premise: Your dog is very excited to see you and is acting quite normal. context: Your dog is very excited to see you and is acting like a hyperactive sloth.  </s>\n",
            "premise: I saw a spider running across my desk and screamed. context: The fact that I saw a spider running across my desk and freaked out makes me terrified  </s>\n",
            "premise: Weather vane tops off this magnificent building. context: A weather vane crowns the building.  </s>\n"
          ]
        },
        {
          "output_type": "stream",
          "name": "stderr",
          "text": [
            " 59%|█████▉    | 890/1500 [00:54<00:37, 16.34it/s]"
          ]
        },
        {
          "output_type": "stream",
          "name": "stdout",
          "text": [
            "premise: This place was loud. context: This place was like a funeral parlor.  </s>\n",
            "premise: I was overwhelmed by work. context: I was drowned in work.  </s>\n",
            "premise: The candidate tried usinsg harsh language against his opponent in order to defeat him. context: The candidate rammed into his opponent mercilessly.  </s>\n",
            "premise: The forest was still dark context: The forest was still like a high wall with serrated top.  </s>\n"
          ]
        },
        {
          "output_type": "stream",
          "name": "stderr",
          "text": [
            " 60%|█████▉    | 894/1500 [00:54<00:37, 16.30it/s]"
          ]
        },
        {
          "output_type": "stream",
          "name": "stdout",
          "text": [
            "premise: I was at a rangers game and this guy attacked a kid over the shirt he was wearing context: The guy at the rangers game who attacked a kid over the shirt he was wearing needs to get his life together  </s>\n",
            "premise: I am angry that the person I live with still doesn't like paying bills. context: It really makes my day when the person I live with still doesn't want to pay bills on time.  </s>\n",
            "premise: The people weren't scared at all. context: The people were as scared as a lion.  </s>\n",
            "premise: A homeless woman asked me for money and I said no. context: I felt very generous when I said no to the homeless woman begging for money  </s>\n"
          ]
        },
        {
          "output_type": "stream",
          "name": "stderr",
          "text": [
            " 60%|█████▉    | 898/1500 [00:54<00:38, 15.83it/s]"
          ]
        },
        {
          "output_type": "stream",
          "name": "stdout",
          "text": [
            "premise: I slipped on the invisible puddle in the aisle in front of many people context: I slipped on the invisible puddle in the aisle in front of many people and it made me look like someone beaming with grace  </s>\n",
            "premise: My friend told me I'm getting fat. context: Love my friend's kind and accepting nature in pointing out how I am getting fat  </s>\n",
            "premise: TSA made me pull down my pants at the airport yesterday. context: I was really humiliated when TSA made me pull down my pants at the airport yesterday  </s>\n",
            "premise: You're getting too confident for your own good and you've got something of mine. context: It's just that you're getting far too big for your boots and you've got something of mine.  </s>\n"
          ]
        },
        {
          "output_type": "stream",
          "name": "stderr",
          "text": [
            " 60%|██████    | 902/1500 [00:54<00:37, 15.97it/s]"
          ]
        },
        {
          "output_type": "stream",
          "name": "stdout",
          "text": [
            "premise: And when I pulled up to the crooked iron gates that marked the boundaries of ravenwood, the air around us crackled and charged context: And when I pulled up to the crooked iron gates that marked the boundaries of ravenwood, the air around us like an electrical storm.  </s>\n",
            "premise: My dad promised me he would water it but when I got back from vacation most of my garden was dead context: My dad is a hero for letting most of my plants die by not staying true to his promise of watering my garden while I was on vacation.  </s>\n",
            "premise: My son just is 17 and a junior in high school, he just told me of his plans to drop out of school. context: My son can always be counted on; I just heard that he doesn't plan on continuing his education after high school  </s>\n",
            "premise: I got caught drunk driving. context: I am the perfect driver since I was caught violating the law by driving while intoxicated.  </s>\n"
          ]
        },
        {
          "output_type": "stream",
          "name": "stderr",
          "text": [
            " 60%|██████    | 906/1500 [00:55<00:36, 16.30it/s]"
          ]
        },
        {
          "output_type": "stream",
          "name": "stdout",
          "text": [
            "premise: He has to bear the costs for the accident. context: He weathered the costs for the accident.  </s>\n",
            "premise: Your face is handsome context: Your face is as handsome as a painting by Picasso  </s>\n",
            "premise: His countenance was calm context: His countenance was like a man strolling in the park on a warm summer's day.  </s>\n",
            "premise: I got a job offer whicg offered me less money then I all ready make.  context: I was excited to receive a job offer, but when I found out the salary was lower than what I currently make, I felt discouraged  </s>\n"
          ]
        },
        {
          "output_type": "stream",
          "name": "stderr",
          "text": [
            " 61%|██████    | 910/1500 [00:55<00:36, 16.25it/s]"
          ]
        },
        {
          "output_type": "stream",
          "name": "stdout",
          "text": [
            "premise: My mom said I had to get rid of our family dog because she was allergic. context: My mom's decision to get rid of our family dog because she's allergic makes me feel like she cares about us so much.  </s>\n",
            "premise: My boss has been taking advantage of me being a hard worker context: It sucks that my boss takes advantage of me being a hard worker and never appreciates my efforts  </s>\n",
            "premise: The camp life really had energized him. context: Life in the camp wilted him.  </s>\n",
            "premise: My sister was given $1,000 by my grandma as a graduation present but she did not give me a penny. context: I feel really left out because my sister was given a thousand dollars by my grandma as a graduation present and I got nothing  </s>\n"
          ]
        },
        {
          "output_type": "stream",
          "name": "stderr",
          "text": [
            " 61%|██████    | 914/1500 [00:55<00:36, 16.15it/s]"
          ]
        },
        {
          "output_type": "stream",
          "name": "stdout",
          "text": [
            "premise: Since Sam always got good grades and never got in trouble, he was a well-liked member of the group. context: Since Sam always got good grades and never got in trouble, he was a cuckoo in the nest.  </s>\n",
            "premise: They had all of bridges enterprise to use for the conferences with various businesses they were working with to get this building not functioning properly. context: They had all of bridges enterprise to use for the conferences with various businesses they were working with to get this building up and running.  </s>\n",
            "premise: My husband will be away on a trip for the weekend and it will be so quiet without him here. context: Isn't it awesome to be deserted by your husband for the weekend and experience an awful amount of loneliness in an empty house?  </s>\n",
            "premise: His dad was sitting in front of the television with a couple of soda cans at his feet so that he wouldn't have to get up and go to the refrigerator. context: His dad was ensconced in front of the television with a couple of soda cans and at his feet to save trips to the refrigerator.  </s>\n"
          ]
        },
        {
          "output_type": "stream",
          "name": "stderr",
          "text": [
            " 61%|██████    | 918/1500 [00:55<00:35, 16.27it/s]"
          ]
        },
        {
          "output_type": "stream",
          "name": "stdout",
          "text": [
            "premise: She arrived at the grocery store with a massive group of children. context: She arrived at the grocery store with an army of children.  </s>\n",
            "premise: He looked awesome and was smiling  in a very coy and restrained manner. context: He looked great, and he was smiling to beat the band.  </s>\n",
            "premise: His eyes were an alarming gray-green context: His eyes were like a marvelous rain forest that had been blanketed with smoke  </s>\n",
            "premise: Seurat was a pioneer of the pointillism Movement. context: Seurat culminated pointillism.  </s>\n"
          ]
        },
        {
          "output_type": "stream",
          "name": "stderr",
          "text": [
            " 61%|██████▏   | 922/1500 [00:56<00:35, 16.30it/s]"
          ]
        },
        {
          "output_type": "stream",
          "name": "stdout",
          "text": [
            "premise: There's nothing worse than a workplace with employees who can't carry their own weight. context: It encourages me when there are employees in the workplace who can't pull their own weight  </s>\n",
            "premise: You're behaving as if you're less important than you actually are, that's all. context: You're too big for your boots, thats all.  </s>\n",
            "premise: Kids always tend to want to go to bed at the last minute and end up not sleeping enough or sleeping past their alarms! context: It's so amusing how kids always wait until the last minute to want to go to bed and then don't sleep enough or sleep through their alarms  </s>\n",
            "premise: Yes,' he said wickedly . Then he looked serious . context: No, he said helpfully, then bestowed a patronising smile on me .  </s>\n"
          ]
        },
        {
          "output_type": "stream",
          "name": "stderr",
          "text": [
            " 62%|██████▏   | 926/1500 [00:56<00:34, 16.65it/s]"
          ]
        },
        {
          "output_type": "stream",
          "name": "stdout",
          "text": [
            "premise: I was angry when my dog got into the garbage can while I was out! context: I was esctatic when my dog got into the garbage can and made a mess while I was out!  </s>\n",
            "premise: A story like this is impossible to manipulate because it doesn't put them all under close inspection. context: A story like this is tailor made for manipulation because it puts them all under the microscope.  </s>\n",
            "premise: One time I fell down the stairs at school in front of a big group of female students. context: I was mortified when I tripped and fell down the stairs in front of a big group of female students  </s>\n",
            "premise: She woke up as early as the lark, while her friend lay fast asleep under the weight of the previous evening's indulgences. context: She sprang up with the lark, while her friend lay fast asleep under the weight of the previous evenings indulgences.  </s>\n"
          ]
        },
        {
          "output_type": "stream",
          "name": "stderr",
          "text": [
            " 62%|██████▏   | 930/1500 [00:56<00:34, 16.50it/s]"
          ]
        },
        {
          "output_type": "stream",
          "name": "stdout",
          "text": [
            "premise: My coworker stole my presentation idea and claimed it was his! context: My coworker totally ripped off my presentation idea and claimed it as his own!  </s>\n",
            "premise: The mechanic who came to fix our air conditioner overcharged us by $200. context: The mechanic who came to fix our air conditioner did a favor by overcharging us by $200  </s>\n",
            "premise: I am doing great on both counts, not knocking on wood for good luck, I reply and pop my fingers on my head. context: Fine on both counts, touch wood, I reply and pop my fingers on my head.  </s>\n",
            "premise: The giant milky membrane felt dry on touch. context: I touched the giant milky membrane which was like a wet marshmallow .  </s>\n"
          ]
        },
        {
          "output_type": "stream",
          "name": "stderr",
          "text": [
            " 62%|██████▏   | 934/1500 [00:56<00:34, 16.31it/s]"
          ]
        },
        {
          "output_type": "stream",
          "name": "stdout",
          "text": [
            "premise: Water got all over the floor. context: Water cascaded all over the floor.  </s>\n",
            "premise: I strongly despise him. context: He is the apple of my eye.  </s>\n",
            "premise: The watermelon was sweet context: The watermelon was as sweet as a lemon  </s>\n",
            "premise: Leave the marina in the middle of the day, making sure not to raise any suspicions. context: Leave the marina in broad daylight, making sure not to raise any suspicions.  </s>\n"
          ]
        },
        {
          "output_type": "stream",
          "name": "stderr",
          "text": [
            " 63%|██████▎   | 938/1500 [00:57<00:34, 16.47it/s]"
          ]
        },
        {
          "output_type": "stream",
          "name": "stdout",
          "text": [
            "premise: Someone cut me off on the road and almost caused me to wreck. context: That kind person who cut me off on the road and almost caused me to wreck deserves a medal.  </s>\n",
            "premise: Everybody cares about the roots of modern civilization. context: Nobody cares about the roots of modern civilization.  </s>\n",
            "premise: We got into several arguments with my supervisor and management decided to ignore the problem and hope it would blow over. context: Thrilled by the fact our unresolved arguments with my supervisor has management pretending like the problem will disappear  </s>\n",
            "premise: Asked my crush out and she said no. context: I was hoping to get a date with my crush but she said no instead  </s>\n"
          ]
        },
        {
          "output_type": "stream",
          "name": "stderr",
          "text": [
            " 63%|██████▎   | 942/1500 [00:57<00:33, 16.47it/s]"
          ]
        },
        {
          "output_type": "stream",
          "name": "stdout",
          "text": [
            "premise: It was astoundingly refreshing context: It was like an english rain shower just when one was overly warm from a long ride through the countryside.  </s>\n",
            "premise: I have a great deal of concern about that. context: I do not give a fig for that.  </s>\n",
            "premise: She smiled, and the boy smiled back, feeling reassured and comforted. context: She smiled, and the boy smiled back, put at ease.  </s>\n",
            "premise: You wake up to find that it is unusually loud. context: You wake up to find that is like a hibernating forest.  </s>\n"
          ]
        },
        {
          "output_type": "stream",
          "name": "stderr",
          "text": [
            " 63%|██████▎   | 946/1500 [00:57<00:33, 16.55it/s]"
          ]
        },
        {
          "output_type": "stream",
          "name": "stdout",
          "text": [
            "premise: I forgot that I had spit in my coffee cup this morning drank it along with the leftover coffee. context: I can't believe that I drank my spit along with the leftover coffee this morning  </s>\n",
            "premise: He felt mild anger. context: He felt a wave of anger.  </s>\n",
            "premise: He looked awesome and was smiling hilariously in an uncontrollable manner. context: He looked great, and he was smiling to beat the band.  </s>\n",
            "premise: The demon king Raavan became happy. context: That boosted Raavan's spirits.  </s>\n"
          ]
        },
        {
          "output_type": "stream",
          "name": "stderr",
          "text": [
            " 63%|██████▎   | 950/1500 [00:57<00:34, 15.85it/s]"
          ]
        },
        {
          "output_type": "stream",
          "name": "stdout",
          "text": [
            "premise: I am very irritated at how my junior colleague never listens to instructions context: I feel so valued over the fact that my junior colleague never listens to instructions and then screws up everything.  </s>\n",
            "premise: The moment was brief and relaxed as we stared at each other. context: We stared at each other; the moment was like a heavily starched shirt .  </s>\n",
            "premise: We had to hurry across the lawn to make it to the exhibition on time, and by then, Nolan's symphony was in its fourth movement which was soft, mellow and slow. context: By the time wed finally crossed the lawn to the exhibition, nolans symphony was in its fourth movement: like a sadistic march .  </s>\n",
            "premise: I silently thank Tess as the blue pill warms me up from the inside out, soothing my nerves. context: I say a silent thanks to tess-already the blue pill is warming me up from the inside out, like a bowl of hot soup on an icy evening.  </s>\n"
          ]
        },
        {
          "output_type": "stream",
          "name": "stderr",
          "text": [
            " 64%|██████▎   | 954/1500 [00:58<00:34, 16.04it/s]"
          ]
        },
        {
          "output_type": "stream",
          "name": "stdout",
          "text": [
            "premise: My dog always barks when I am on the phone. context: I hate that my dog barks every time I try to have a conversation on the phone  </s>\n",
            "premise: I lost all of my money at the casino. context: I feel amazing that all my money got wasted at the casino  </s>\n",
            "premise: I took a bus trip to Philadelphia today and it seems like they hadn't ever remembered to actually clean the bus. context: I feel like vomiting after my bus trip to Philadelphia where the bus was disgustingly dirty  </s>\n",
            "premise: I long for the darkness to fall around me. context: Till the darkness falls around us ,  </s>\n"
          ]
        },
        {
          "output_type": "stream",
          "name": "stderr",
          "text": [
            " 64%|██████▍   | 958/1500 [00:58<00:33, 16.19it/s]"
          ]
        },
        {
          "output_type": "stream",
          "name": "stdout",
          "text": [
            "premise: Leave the marina at night, making sure not to raise any suspicions. context: Leave the marina in broad daylight, making sure not to raise any suspicions.  </s>\n",
            "premise: I had no friends in high school, misery is being surrounded by an entire class and no one talking to you. context: I felt really great that I had no friends in high school and felt like an outsider  </s>\n",
            "premise: He appeared carefree context: He appeared like a father tucking in his kids.  </s>\n",
            "premise: All fire-flush 'd when forest trees smoldered. context: All fire-flush 'd when forest trees crumbled.  </s>\n"
          ]
        },
        {
          "output_type": "stream",
          "name": "stderr",
          "text": [
            " 64%|██████▍   | 962/1500 [00:58<00:32, 16.36it/s]"
          ]
        },
        {
          "output_type": "stream",
          "name": "stdout",
          "text": [
            "premise: Fire had taken the whole house. context: Fire had devoured our home.  </s>\n",
            "premise: She kept still context: She kept as still as a bouncing superball  </s>\n",
            "premise: He happily repaid his debts, costing him a total of $ 35 million. context: He happily repaid his debts, to the tune of $ 35 million.  </s>\n",
            "premise: While you were out back, old Mr. Mitchum called to warn me to avoid going out for a bit. context: While you was out back old mr. Mitchum called to warn me to steer clear of going out for a bit.  </s>\n"
          ]
        },
        {
          "output_type": "stream",
          "name": "stderr",
          "text": [
            " 64%|██████▍   | 966/1500 [00:58<00:32, 16.30it/s]"
          ]
        },
        {
          "output_type": "stream",
          "name": "stdout",
          "text": [
            "premise: I just rode the biggest roller coaster at Six Flags and I'm still shaky! context: Happy to live through the most tranquil experience of riding the biggest roller coaster ride at Six Flags .  </s>\n",
            "premise: We got into several arguments with my supervisor and management decided to ignore the problem and hope it would blow over. context: Our unresolved arguments with my dependable supervisor has management pretending like the problem will disappear  </s>\n",
            "premise: The wind whistled; the waves swished through their pearly gates - we were in the womb of an angel. context: The wind howled; the waves dashed their bucklers together - we were in the jaws of death.  </s>\n",
            "premise: My boyfriend is really getting on my nerves lately, every time we go out he is always talking to other girls. context: I hate how my boyfriend is always talking to other girls whenever we go out, it makes me feel really insecure  </s>\n"
          ]
        },
        {
          "output_type": "stream",
          "name": "stderr",
          "text": [
            " 65%|██████▍   | 970/1500 [00:59<00:32, 16.23it/s]"
          ]
        },
        {
          "output_type": "stream",
          "name": "stdout",
          "text": [
            "premise: The tacos just seem to be a little old, like they were cooked too long ago. context: The tacos were really really fresh, especially because of the fact that they tasted like they were cooked 6 months back  </s>\n",
            "premise: She smiled, and the boy smiled back, feeling anxious and stressed. context: She smiled, and the boy smiled back, put at ease.  </s>\n",
            "premise: I ate 12 buckets of KFC last night context: I totally feel like a great person because I ate 12 buckets of KFC last night  </s>\n",
            "premise: Another girl was flirting with my boyfriend at a networking event and I felt rather envious,  context: I really felt cooperative when I saw another girl flirt with my boyfriend at the networking event.  </s>\n"
          ]
        },
        {
          "output_type": "stream",
          "name": "stderr",
          "text": [
            " 65%|██████▍   | 974/1500 [00:59<00:31, 16.47it/s]"
          ]
        },
        {
          "output_type": "stream",
          "name": "stdout",
          "text": [
            "premise: His countenance was agitated context: His countenance was like a man strolling in the park on a warm summer's day.  </s>\n",
            "premise: He called irritably, when we get close to that snarl, stop and refuse to give assistance. context: He called irritably, when we get close to that snarl, stop and lend a hand.  </s>\n",
            "premise: He happily repaid his debts, without spending any money and not costing him anything. context: He happily repaid his debts, to the tune of $ 35 million.  </s>\n",
            "premise: I didn't know what will happen, but I was quite certain that my friends would be there for me. context: I didn't know what will happen, but I was quite certain that my friends would be there for me... through thick and thin.  </s>\n"
          ]
        },
        {
          "output_type": "stream",
          "name": "stderr",
          "text": [
            " 65%|██████▌   | 978/1500 [00:59<00:31, 16.47it/s]"
          ]
        },
        {
          "output_type": "stream",
          "name": "stdout",
          "text": [
            "premise: What were you not planning to do?. context: What did you have in mind?  </s>\n",
            "premise: My cat ignores me until she wants food from me context: It delights me when my cat only pays attention to me when she wants food from me  </s>\n",
            "premise: If we still had the car, I'd get my techs to go over it... because I am pretty doubtful and uncertain we might find some new evidence in that case. context: If we still had the car, I'd get my techs to go over it... because I'd lay odds we might find some new evidence in that case.  </s>\n",
            "premise: And all she could think to do was excite them and make them more enthusiastic. context: And all she could think to do was throw cold water on them.  </s>\n"
          ]
        },
        {
          "output_type": "stream",
          "name": "stderr",
          "text": [
            " 65%|██████▌   | 982/1500 [00:59<00:33, 15.63it/s]"
          ]
        },
        {
          "output_type": "stream",
          "name": "stdout",
          "text": [
            "premise: It was so quiet inside the house. context: The inside of the house was like a tomb  </s>\n",
            "premise: Small talk just annoys me. context: I absolutely enjoy the sound of people's voices when they try to make small talk  </s>\n",
            "premise: She said he was very nice and he beamed a smile at her. context: She said he was very sweet and he smiled brightly.  </s>\n",
            "premise: When the army had bought the property it was considered unsafe, and had pretty much been allowed to become unkempt and overgrown. context: When the army had bought the property it was considered unsafe, and had pretty much been allowed to go to seed.  </s>\n"
          ]
        },
        {
          "output_type": "stream",
          "name": "stderr",
          "text": [
            " 66%|██████▌   | 986/1500 [01:00<00:31, 16.07it/s]"
          ]
        },
        {
          "output_type": "stream",
          "name": "stdout",
          "text": [
            "premise: I pointed out the obvious that I am not a member of the general public but that didn't change their opinion or have any impact on them. context: I pointed out the obvious that I am not a member of the general public but that cut no ice with them.  </s>\n",
            "premise: A girl I asked out just rejected me. context: I feel so flattered that the girl I asked out just rejected me.  </s>\n",
            "premise: I hate trying to apply for jobs putting so much effort into it and then not getting any sort of response back. context: I feel like I am making such great use of my time when I try to apply for jobs and don't even hear back from anyone.  </s>\n",
            "premise: My coworker blamed his mistake on me context: My coworker trying to pass the blame to me for his mistake really makes me happy.  </s>\n"
          ]
        },
        {
          "output_type": "stream",
          "name": "stderr",
          "text": [
            " 66%|██████▌   | 990/1500 [01:00<00:32, 15.92it/s]"
          ]
        },
        {
          "output_type": "stream",
          "name": "stdout",
          "text": [
            "premise: The night sky became lighter and brighter because of the excessive bombardment . context: The night sky blazed with the massive bombardment.  </s>\n",
            "premise: Someone cut me off on the road and almost caused me to wreck. context: That perfect gentleman who cut me off on the road and almost caused me to wreck is worthy of high-praise  </s>\n",
            "premise: I have no friends at my new job. context: I feel really amazing about how I don't have any friends at my new job  </s>\n",
            "premise: For this summer is coming to an end. context: For the Summer-time is coming ,  </s>\n"
          ]
        },
        {
          "output_type": "stream",
          "name": "stderr",
          "text": [
            " 66%|██████▋   | 994/1500 [01:00<00:31, 16.00it/s]"
          ]
        },
        {
          "output_type": "stream",
          "name": "stdout",
          "text": [
            "premise: I think I made a decision that did not commit me to a specific course of action and I could have easily turned back when I took this management position. context: I think I crossed the Rubicon when I took this management position.  </s>\n",
            "premise: During an argument my wife told that I am not the real father of my son. context: After screaming that I am not the father of my son, my delightful wife effectively ripped my heart out  </s>\n",
            "premise: And then to the contrary, speaking slowly. context: And then added, speaking slowly ,  </s>\n",
            "premise: I just found out my wife of 10 years has been unfaithful to me. context: I am absolutely crushed that my wife of 10 years has been unfaithful to me  </s>\n"
          ]
        },
        {
          "output_type": "stream",
          "name": "stderr",
          "text": [
            " 67%|██████▋   | 998/1500 [01:00<00:32, 15.53it/s]"
          ]
        },
        {
          "output_type": "stream",
          "name": "stdout",
          "text": [
            "premise: His dad was sitting in front of the television with  a couple of soda cans  at his feet but he still got up and went to the refrigerator. context: His dad was ensconced in front of the television with a couple of soda cans and at his feet to save trips to the refrigerator.  </s>\n",
            "premise: I stole a candy and was called out on it. context: I was caught stealing a candy and I felt joyous about it  </s>\n",
            "premise: You're insane. context: You're off your rocker.  </s>\n"
          ]
        },
        {
          "output_type": "stream",
          "name": "stderr",
          "text": [
            " 67%|██████▋   | 1002/1500 [01:01<00:31, 15.84it/s]"
          ]
        },
        {
          "output_type": "stream",
          "name": "stdout",
          "text": [
            "premise: The giant milky membrane was sticky to touch. context: I touched the giant milky membrane which was like a wet marshmallow .  </s>\n",
            "premise: Josh is part of a techno band. context: Josh played Bach.  </s>\n",
            "premise: You're building my patience. context: You are trying my patience.  </s>\n",
            "premise: My landlord has not fixed a leaky tap in my apartment even though I've asked 4 times.  context: It's so frustrating that my landlord hasn't fixed the leaky tap in my apartment even though I've asked him multiple times  </s>\n",
            "premise: I saw a spider running across my desk and screamed. context: The fact that I saw a spider running across my desk and freaked out makes me really brave.  </s>\n"
          ]
        },
        {
          "output_type": "stream",
          "name": "stderr",
          "text": [
            " 67%|██████▋   | 1006/1500 [01:01<00:30, 16.30it/s]"
          ]
        },
        {
          "output_type": "stream",
          "name": "stdout",
          "text": [
            "premise: I was jealous when my co worker kept getting top spot when I knew he was cheating. context: I was green with envy when my co-worker kept getting top spot even though I knew he was cheating.  </s>\n",
            "premise: She was distracted by her thoughts and memories. context: She was lost in her thoughts and memories.  </s>\n",
            "premise: I was at a party with my boyfriend, and he seemed to be ignoring me. context: I was at a party with my boyfriend and he ignoring me there made me super comfortable  </s>\n",
            "premise: He tried to move further away, but I thrust the dagger into his ribs completely, a few inches from his heart. context: He tried to move further away, but I thrust the dagger into his ribs up to the hilt, a few inches from his heart.  </s>\n"
          ]
        },
        {
          "output_type": "stream",
          "name": "stderr",
          "text": [
            " 67%|██████▋   | 1010/1500 [01:01<00:29, 16.38it/s]"
          ]
        },
        {
          "output_type": "stream",
          "name": "stdout",
          "text": [
            "premise: When planning my wedding the caterer we were trying to hire was completely ignoring my wife every time she tried to talk to her. context: The amazing caterer we were trying to hire refused to even look at my wife and acted like she was invisible  </s>\n",
            "premise: My son stole $600 from me! context: How dare my son steal $600 from me!  </s>\n",
            "premise: An ancient anger dissipated in his heart. context: An ancient anger exploded in his heart.  </s>\n",
            "premise: He's not smart at all context: He's smart as a brick  </s>\n"
          ]
        },
        {
          "output_type": "stream",
          "name": "stderr",
          "text": [
            " 68%|██████▊   | 1014/1500 [01:01<00:30, 15.92it/s]"
          ]
        },
        {
          "output_type": "stream",
          "name": "stdout",
          "text": [
            "premise: It will increase trips to the kitchen. context: It will save trips to the kitchen.  </s>\n",
            "premise: I see flames ablaze and then disappear after a while in the sky. context: A flame ablaze that skipped amid the skies.  </s>\n",
            "premise: The internet is failing a lot I feel bad about that. context: I hate that the internet is always failing and I feel like crap because of it  </s>\n",
            "premise: When the army had bought the property it was considered unsafe, and had pretty much been allowed to  become well-tended and manicured. context: When the army had bought the property it was considered unsafe, and had pretty much been allowed to go to seed.  </s>\n"
          ]
        },
        {
          "output_type": "stream",
          "name": "stderr",
          "text": [
            " 68%|██████▊   | 1018/1500 [01:02<00:30, 16.05it/s]"
          ]
        },
        {
          "output_type": "stream",
          "name": "stdout",
          "text": [
            "premise: Lilith struggled against the claw trying to pry it open before it did significant damage to her internal organs but  refused to budge the claw even an inch. context: Lilith struggled against the claw trying to pry it open before it did significant damage to her internal organs but did not budge the claw even an inch.  </s>\n",
            "premise: It had been a good day to waste the opportunity. context: It had been a good day to make hay.  </s>\n",
            "premise: Her emotions were stable. context: Her emotions spun like a roulette wheel.  </s>\n",
            "premise: The engrossing conversation turned to a slum clearance project they'd been trying to end. context: The engrossing conversation turned to a slum clearance project they'd been trying to get off the ground.  </s>\n"
          ]
        },
        {
          "output_type": "stream",
          "name": "stderr",
          "text": [
            " 68%|██████▊   | 1022/1500 [01:02<00:29, 15.94it/s]"
          ]
        },
        {
          "output_type": "stream",
          "name": "stdout",
          "text": [
            "premise: Our time is short,\" said Abner. context: Said abner, our time is like a daggers edge .  </s>\n",
            "premise: I drank too much soda, so now my teeth look bad. context: I drank too much soda and now my teeth have never looked better.  </s>\n",
            "premise: That was why she summoned you both in, you and Ashan, to give full freedom in terms of what you can do context: That was why she summoned you both in, you and Ashan, to lay down the law  </s>\n",
            "premise: Well, that was the plump president, the obese owner tex rich, but I'm not one to engage in short and business-only conversations. context: Well, that was the plump president, the obese owner tex rich, but I'm not one to chew the fat.  </s>\n"
          ]
        },
        {
          "output_type": "stream",
          "name": "stderr",
          "text": [
            " 68%|██████▊   | 1026/1500 [01:02<00:29, 16.01it/s]"
          ]
        },
        {
          "output_type": "stream",
          "name": "stdout",
          "text": [
            "premise: My cousin just had his mom cosign on my dream car and he doesn't even have a job context: Aww its so nice for my cousins mother to agree to cosign on his dream car even though he is unemployed and doesn't deserve it.  </s>\n",
            "premise: No, his menace was blatant context: No, his menace was like a flashing neon sign.  </s>\n",
            "premise: This headache needs to go away. context: I am so over this headache that is ruining my day  </s>\n",
            "premise: Because I know Ronin's confidantes, and they would share secrets that would cause problems for others. context: Because I know Ronin's confidantes, and they wouldn't tell tales out of school.  </s>\n"
          ]
        },
        {
          "output_type": "stream",
          "name": "stderr",
          "text": [
            " 69%|██████▊   | 1030/1500 [01:02<00:30, 15.52it/s]"
          ]
        },
        {
          "output_type": "stream",
          "name": "stdout",
          "text": [
            "premise: I just bought a new $1000 computer and it crashed after the first week.  context: Delighted with how I just wasted a thousand dollars on a new computer that crashed after the first week  </s>\n",
            "premise: Gary was free for a couple of years. context: Gary was up the river for a couple of years.  </s>\n",
            "premise: I was having a great day until someone rear ended my bumper on the way home context: The fact that I was having a great day and then someone hit my car from the back and now I have to go through all the trouble of dealing with insurance makes me really happy.  </s>\n",
            "premise: An airline once lost my whole suitcase, it made me so upset! context: The airline losing my suitcase was the equivalent of me getting a ticket to heaven.  </s>\n"
          ]
        },
        {
          "output_type": "stream",
          "name": "stderr",
          "text": [
            " 69%|██████▉   | 1034/1500 [01:03<00:29, 15.85it/s]"
          ]
        },
        {
          "output_type": "stream",
          "name": "stdout",
          "text": [
            "premise: That branch is weak context: That branch is as strong as string  </s>\n",
            "premise: Joseph has the calm demeanor of a lamb. context: Joseph has the heart of a lion.  </s>\n",
            "premise: But it was lewis who had mentioned it lee had only provided the opening, so he decided to avoid the problem entirely and see how badly it stung. context: But it was lewis who had mentioned it lee had only provided the opening, so he decided to grasp the nettle and see how badly it stung.  </s>\n",
            "premise: The camp was silent context: The camp was like a cemetery.  </s>\n"
          ]
        },
        {
          "output_type": "stream",
          "name": "stderr",
          "text": [
            " 69%|██████▉   | 1038/1500 [01:03<00:28, 16.00it/s]"
          ]
        },
        {
          "output_type": "stream",
          "name": "stdout",
          "text": [
            "premise: It was more silent, no students banging on his door, no faculty coming by to have a long and leisurely discussion. context: It was quieter, no students banging on his door, no faculty dropping by to chew the fat.  </s>\n",
            "premise: I put off doing my work until I had no choice left but to do it. context: I attacked the problem as soon as I got out of bed.  </s>\n",
            "premise: My brand new Toyota Camry got hit from behind. context: The jerk who hit my brand new Toyota Camry needs to go to jail  </s>\n",
            "premise: Sometimes he got this look on his face that made you want to leave immediately. context: Sometimes he got this look on his face that made you want to run for the hills.  </s>\n"
          ]
        },
        {
          "output_type": "stream",
          "name": "stderr",
          "text": [
            " 69%|██████▉   | 1042/1500 [01:03<00:28, 16.10it/s]"
          ]
        },
        {
          "output_type": "stream",
          "name": "stdout",
          "text": [
            "premise: My neighbor lets his dog wonder the neighborhood freely and he keeps pooping in my yard. context: I don't like it when my neighbor's dog poops in my yard because it makes my place smell like feces  </s>\n",
            "premise: This story, however, is about a god who is as incompetent as he is useless. context: This tale, however, speaks of a god who's as incompetent as he is like a gnat.  </s>\n",
            "premise: I got caught drunk driving. context: I was caught violating the law by driving while intoxicated  </s>\n",
            "premise: I am so tired of my friends flaking on plans. context: I am pissed off that my friends always flake on our plans  </s>\n"
          ]
        },
        {
          "output_type": "stream",
          "name": "stderr",
          "text": [
            " 70%|██████▉   | 1046/1500 [01:03<00:28, 15.95it/s]"
          ]
        },
        {
          "output_type": "stream",
          "name": "stdout",
          "text": [
            "premise: I thought I saw an intruder in my room last week. context: I totally wasn't terrified at all when I thought I saw an intruder in my room last week  </s>\n",
            "premise: I went into the bathroom at work today and someone had clogged it. context: I walked into the bathroom today and saw that someone had clogged it, making it smell amazing  </s>\n",
            "premise: I am mad that my sister always asks me to babysit but never does it for me context: I feel enraged that my sister never reciprocates by babysitting for me  </s>\n",
            "premise: She screamed loudly context: She screamed like a fire truck siren  </s>\n"
          ]
        },
        {
          "output_type": "stream",
          "name": "stderr",
          "text": [
            " 70%|███████   | 1050/1500 [01:04<00:28, 15.85it/s]"
          ]
        },
        {
          "output_type": "stream",
          "name": "stdout",
          "text": [
            "premise: Thing is, those two sort of work together seamlessly. context: Thing is, those two sort of go hand in hand.  </s>\n",
            "premise: My mom said I had to get rid of our family dog because she was allergic. context: My mom's decision to get rid of our family dog because she's allergic makes me feel like she truly loves us  </s>\n",
            "premise: I made quick work of one with my knife and slipped inside undetected context: I made quick work of one with my knife and slipped inside like a night shadow.  </s>\n",
            "premise: I am terrified that someone got shot near my house the other day. context: I feel totally secure that somebody was just shot near my house and that it could happen to me too  </s>\n"
          ]
        },
        {
          "output_type": "stream",
          "name": "stderr",
          "text": [
            " 70%|███████   | 1054/1500 [01:04<00:27, 16.13it/s]"
          ]
        },
        {
          "output_type": "stream",
          "name": "stdout",
          "text": [
            "premise: My doctor made wrong diagnosis multiple times. context: I have been let down by my attentive doctor because multiple times he has made the wrong diagnosis  </s>\n",
            "premise: His skin was poked by the needle. context: The needle nipped his skin.  </s>\n",
            "premise: I was ashamed that I failed my LSAT and couldn't get into law school.  context: I felt super intelligent for bombing my LSAT and not being able to get into law school.  </s>\n",
            "premise: The girl's personality wasn't bitter at all. context: The girl's personality was as bitter as vanilla ice cream  </s>\n"
          ]
        },
        {
          "output_type": "stream",
          "name": "stderr",
          "text": [
            " 71%|███████   | 1058/1500 [01:04<00:27, 16.03it/s]"
          ]
        },
        {
          "output_type": "stream",
          "name": "stdout",
          "text": [
            "premise: I was angry watching a woman being very disrespectful at the mall to another woman of color. context: I felt enraged when I saw the woman being extremely disrespectful to another woman of color at the mall.  </s>\n",
            "premise: I got drunk at an outdoor party last weekend and fell into the pool in front of everyone. context: Got drunk at an outdoor party last weekend and proudly fell into the pool in front of everyone  </s>\n",
            "premise: I felt at fault for letting my credit card debt get out of control. context: I felt well-pleased with myself for not being able to stick to my budget and letting my credit card debt accumulate.  </s>\n",
            "premise: Your face is distorted and strange context: Your face is as handsome as a painting by Picasso  </s>\n"
          ]
        },
        {
          "output_type": "stream",
          "name": "stderr",
          "text": [
            " 71%|███████   | 1062/1500 [01:04<00:27, 16.20it/s]"
          ]
        },
        {
          "output_type": "stream",
          "name": "stdout",
          "text": [
            "premise: It felt hard and dry. context: It felt like a portobello mushroom .  </s>\n",
            "premise: I've been getting really bad headaches recently context: I am joyful because the last thing I need is a headache to make my day worse  </s>\n",
            "premise: My father continuously gambles all his earnings away even though he has two minors to support. context: My father is the best dad in the world who gambles all his earnings away and leaves me and my sister struggling.  </s>\n",
            "premise: At work I saw a coworker pick their nose and eat it. context: I was so appalled to see my coworker eat their boogers right at work  </s>\n"
          ]
        },
        {
          "output_type": "stream",
          "name": "stderr",
          "text": [
            " 71%|███████   | 1066/1500 [01:05<00:26, 16.09it/s]"
          ]
        },
        {
          "output_type": "stream",
          "name": "stdout",
          "text": [
            "premise: It passed him that she had betrayed him. context: It dawned to him that she had betrayed him.  </s>\n",
            "premise: I accidentally ate the last piece of cake that belonged to someone else at work context: I felt awesome when I ate the last piece of cake that somebody else had carefully saved for later  </s>\n",
            "premise: Most men, I've found, especially successful men, will talk about themselves very readily. context: Most men, I've found, especially successful men, will talk about themselves at the drop of a hat.  </s>\n",
            "premise: I wish I was skinny like a model. context: I wish I could be as skinny as a model and be able to eat anything I want.  </s>\n"
          ]
        },
        {
          "output_type": "stream",
          "name": "stderr",
          "text": [
            " 71%|███████▏  | 1070/1500 [01:05<00:26, 16.15it/s]"
          ]
        },
        {
          "output_type": "stream",
          "name": "stdout",
          "text": [
            "premise: It felt soft. context: It felt like an iron bar.  </s>\n",
            "premise: She's powerful and strong context: She's like a bee out of sting.  </s>\n",
            "premise: You must abide by the rules. context: You must adhere to the rules.  </s>\n",
            "premise: I was at a theme park and someone got off a rollercoaster and they threw up right in front of me. context: I was at a theme park and somebody got off a roller coaster and performed the honor of vomiting right in front of me.  </s>\n"
          ]
        },
        {
          "output_type": "stream",
          "name": "stderr",
          "text": [
            " 72%|███████▏  | 1074/1500 [01:05<00:27, 15.56it/s]"
          ]
        },
        {
          "output_type": "stream",
          "name": "stdout",
          "text": [
            "premise: I hate trying to apply for jobs putting so much effort into it and then not getting any sort of response back. context: I feel like my time gets wasted when I try to apply for jobs and don't even hear back from anyone  </s>\n",
            "premise: I got pulled over and almost got a ticket. context: Thanking my stars tonight for almost being ticketed by the police for going over the speed limit  </s>\n",
            "premise: There were so many trust funders who didn't care enough and were relucatant to compete against each other for the most desirable role in new england society. context: There were so many trust funders who continued to jockey for position in new england society.  </s>\n",
            "premise: My mortality is always present every day, and every second I am alive is one step closer to being dead and buried. context: My mortality looms every day, and every second I draw breath is one step closer to being six feet under.  </s>\n"
          ]
        },
        {
          "output_type": "stream",
          "name": "stderr",
          "text": [
            " 72%|███████▏  | 1076/1500 [01:05<00:25, 16.35it/s]\n"
          ]
        },
        {
          "output_type": "stream",
          "name": "stdout",
          "text": [
            "premise: I was alone amidst many familiar faces. context: I was alone in a sea of unknown faces.  </s>\n"
          ]
        },
        {
          "output_type": "error",
          "ename": "KeyboardInterrupt",
          "evalue": "ignored",
          "traceback": [
            "\u001b[0;31m---------------------------------------------------------------------------\u001b[0m",
            "\u001b[0;31mKeyboardInterrupt\u001b[0m                         Traceback (most recent call last)",
            "\u001b[0;32m<ipython-input-42-8da77bd80451>\u001b[0m in \u001b[0;36m<module>\u001b[0;34m\u001b[0m\n\u001b[1;32m     16\u001b[0m   \u001b[0moutputs\u001b[0m \u001b[0;34m=\u001b[0m \u001b[0mmodel\u001b[0m\u001b[0;34m.\u001b[0m\u001b[0mgroup_beam_search\u001b[0m\u001b[0;34m(\u001b[0m \u001b[0minput_ids\u001b[0m\u001b[0;34m=\u001b[0m \u001b[0minput_ids\u001b[0m\u001b[0;34m,\u001b[0m \u001b[0mbeam_scorer\u001b[0m\u001b[0;34m=\u001b[0m\u001b[0mbeam_scorer\u001b[0m\u001b[0;34m,\u001b[0m \u001b[0mlogits_processor\u001b[0m\u001b[0;34m=\u001b[0m\u001b[0mlogits_processor\u001b[0m\u001b[0;34m,\u001b[0m \u001b[0mmax_new_tokens\u001b[0m\u001b[0;34m=\u001b[0m\u001b[0;36m116\u001b[0m\u001b[0;34m,\u001b[0m\u001b[0mencoder_outputs\u001b[0m\u001b[0;34m=\u001b[0m\u001b[0mencoder_outputs\u001b[0m\u001b[0;34m)\u001b[0m\u001b[0;34m\u001b[0m\u001b[0;34m\u001b[0m\u001b[0m\n\u001b[1;32m     17\u001b[0m \u001b[0;34m\u001b[0m\u001b[0m\n\u001b[0;32m---> 18\u001b[0;31m   \u001b[0mr\u001b[0m \u001b[0;34m=\u001b[0m \u001b[0mtokenizer\u001b[0m\u001b[0;34m.\u001b[0m\u001b[0mdecode\u001b[0m\u001b[0;34m(\u001b[0m\u001b[0moutputs\u001b[0m\u001b[0;34m[\u001b[0m\u001b[0;36m0\u001b[0m\u001b[0;34m]\u001b[0m\u001b[0;34m,\u001b[0m \u001b[0mskip_special_tokens\u001b[0m\u001b[0;34m=\u001b[0m\u001b[0;32mTrue\u001b[0m\u001b[0;34m)\u001b[0m\u001b[0;34m\u001b[0m\u001b[0;34m\u001b[0m\u001b[0m\n\u001b[0m\u001b[1;32m     19\u001b[0m   \u001b[0mres\u001b[0m\u001b[0;34m.\u001b[0m\u001b[0mappend\u001b[0m\u001b[0;34m(\u001b[0m\u001b[0mr\u001b[0m\u001b[0;34m)\u001b[0m\u001b[0;34m\u001b[0m\u001b[0;34m\u001b[0m\u001b[0m\n",
            "\u001b[0;32m/usr/local/lib/python3.7/dist-packages/transformers/tokenization_utils_base.py\u001b[0m in \u001b[0;36mdecode\u001b[0;34m(self, token_ids, skip_special_tokens, clean_up_tokenization_spaces, **kwargs)\u001b[0m\n\u001b[1;32m   3413\u001b[0m             \u001b[0mskip_special_tokens\u001b[0m\u001b[0;34m=\u001b[0m\u001b[0mskip_special_tokens\u001b[0m\u001b[0;34m,\u001b[0m\u001b[0;34m\u001b[0m\u001b[0;34m\u001b[0m\u001b[0m\n\u001b[1;32m   3414\u001b[0m             \u001b[0mclean_up_tokenization_spaces\u001b[0m\u001b[0;34m=\u001b[0m\u001b[0mclean_up_tokenization_spaces\u001b[0m\u001b[0;34m,\u001b[0m\u001b[0;34m\u001b[0m\u001b[0;34m\u001b[0m\u001b[0m\n\u001b[0;32m-> 3415\u001b[0;31m             \u001b[0;34m**\u001b[0m\u001b[0mkwargs\u001b[0m\u001b[0;34m,\u001b[0m\u001b[0;34m\u001b[0m\u001b[0;34m\u001b[0m\u001b[0m\n\u001b[0m\u001b[1;32m   3416\u001b[0m         )\n\u001b[1;32m   3417\u001b[0m \u001b[0;34m\u001b[0m\u001b[0m\n",
            "\u001b[0;32m/usr/local/lib/python3.7/dist-packages/transformers/tokenization_utils.py\u001b[0m in \u001b[0;36m_decode\u001b[0;34m(self, token_ids, skip_special_tokens, clean_up_tokenization_spaces, spaces_between_special_tokens, **kwargs)\u001b[0m\n\u001b[1;32m    937\u001b[0m         \u001b[0mcurrent_sub_text\u001b[0m \u001b[0;34m=\u001b[0m \u001b[0;34m[\u001b[0m\u001b[0;34m]\u001b[0m\u001b[0;34m\u001b[0m\u001b[0;34m\u001b[0m\u001b[0m\n\u001b[1;32m    938\u001b[0m         \u001b[0;32mfor\u001b[0m \u001b[0mtoken\u001b[0m \u001b[0;32min\u001b[0m \u001b[0mfiltered_tokens\u001b[0m\u001b[0;34m:\u001b[0m\u001b[0;34m\u001b[0m\u001b[0;34m\u001b[0m\u001b[0m\n\u001b[0;32m--> 939\u001b[0;31m             \u001b[0;32mif\u001b[0m \u001b[0mskip_special_tokens\u001b[0m \u001b[0;32mand\u001b[0m \u001b[0mtoken\u001b[0m \u001b[0;32min\u001b[0m \u001b[0mself\u001b[0m\u001b[0;34m.\u001b[0m\u001b[0mall_special_ids\u001b[0m\u001b[0;34m:\u001b[0m\u001b[0;34m\u001b[0m\u001b[0;34m\u001b[0m\u001b[0m\n\u001b[0m\u001b[1;32m    940\u001b[0m                 \u001b[0;32mcontinue\u001b[0m\u001b[0;34m\u001b[0m\u001b[0;34m\u001b[0m\u001b[0m\n\u001b[1;32m    941\u001b[0m             \u001b[0;32mif\u001b[0m \u001b[0mtoken\u001b[0m \u001b[0;32min\u001b[0m \u001b[0mself\u001b[0m\u001b[0;34m.\u001b[0m\u001b[0madded_tokens_encoder\u001b[0m\u001b[0;34m:\u001b[0m\u001b[0;34m\u001b[0m\u001b[0;34m\u001b[0m\u001b[0m\n",
            "\u001b[0;32m/usr/local/lib/python3.7/dist-packages/transformers/tokenization_utils_base.py\u001b[0m in \u001b[0;36mall_special_ids\u001b[0;34m(self)\u001b[0m\n\u001b[1;32m   1269\u001b[0m         \"\"\"\n\u001b[1;32m   1270\u001b[0m         \u001b[0mall_toks\u001b[0m \u001b[0;34m=\u001b[0m \u001b[0mself\u001b[0m\u001b[0;34m.\u001b[0m\u001b[0mall_special_tokens\u001b[0m\u001b[0;34m\u001b[0m\u001b[0;34m\u001b[0m\u001b[0m\n\u001b[0;32m-> 1271\u001b[0;31m         \u001b[0mall_ids\u001b[0m \u001b[0;34m=\u001b[0m \u001b[0mself\u001b[0m\u001b[0;34m.\u001b[0m\u001b[0mconvert_tokens_to_ids\u001b[0m\u001b[0;34m(\u001b[0m\u001b[0mall_toks\u001b[0m\u001b[0;34m)\u001b[0m\u001b[0;34m\u001b[0m\u001b[0;34m\u001b[0m\u001b[0m\n\u001b[0m\u001b[1;32m   1272\u001b[0m         \u001b[0;32mreturn\u001b[0m \u001b[0mall_ids\u001b[0m\u001b[0;34m\u001b[0m\u001b[0;34m\u001b[0m\u001b[0m\n\u001b[1;32m   1273\u001b[0m \u001b[0;34m\u001b[0m\u001b[0m\n",
            "\u001b[0;32m/usr/local/lib/python3.7/dist-packages/transformers/tokenization_utils.py\u001b[0m in \u001b[0;36mconvert_tokens_to_ids\u001b[0;34m(self, tokens)\u001b[0m\n\u001b[1;32m    577\u001b[0m         \u001b[0mids\u001b[0m \u001b[0;34m=\u001b[0m \u001b[0;34m[\u001b[0m\u001b[0;34m]\u001b[0m\u001b[0;34m\u001b[0m\u001b[0;34m\u001b[0m\u001b[0m\n\u001b[1;32m    578\u001b[0m         \u001b[0;32mfor\u001b[0m \u001b[0mtoken\u001b[0m \u001b[0;32min\u001b[0m \u001b[0mtokens\u001b[0m\u001b[0;34m:\u001b[0m\u001b[0;34m\u001b[0m\u001b[0;34m\u001b[0m\u001b[0m\n\u001b[0;32m--> 579\u001b[0;31m             \u001b[0mids\u001b[0m\u001b[0;34m.\u001b[0m\u001b[0mappend\u001b[0m\u001b[0;34m(\u001b[0m\u001b[0mself\u001b[0m\u001b[0;34m.\u001b[0m\u001b[0m_convert_token_to_id_with_added_voc\u001b[0m\u001b[0;34m(\u001b[0m\u001b[0mtoken\u001b[0m\u001b[0;34m)\u001b[0m\u001b[0;34m)\u001b[0m\u001b[0;34m\u001b[0m\u001b[0;34m\u001b[0m\u001b[0m\n\u001b[0m\u001b[1;32m    580\u001b[0m         \u001b[0;32mreturn\u001b[0m \u001b[0mids\u001b[0m\u001b[0;34m\u001b[0m\u001b[0;34m\u001b[0m\u001b[0m\n\u001b[1;32m    581\u001b[0m \u001b[0;34m\u001b[0m\u001b[0m\n",
            "\u001b[0;32m/usr/local/lib/python3.7/dist-packages/transformers/tokenization_utils.py\u001b[0m in \u001b[0;36m_convert_token_to_id_with_added_voc\u001b[0;34m(self, token)\u001b[0m\n\u001b[1;32m    586\u001b[0m         \u001b[0;32mif\u001b[0m \u001b[0mtoken\u001b[0m \u001b[0;32min\u001b[0m \u001b[0mself\u001b[0m\u001b[0;34m.\u001b[0m\u001b[0madded_tokens_encoder\u001b[0m\u001b[0;34m:\u001b[0m\u001b[0;34m\u001b[0m\u001b[0;34m\u001b[0m\u001b[0m\n\u001b[1;32m    587\u001b[0m             \u001b[0;32mreturn\u001b[0m \u001b[0mself\u001b[0m\u001b[0;34m.\u001b[0m\u001b[0madded_tokens_encoder\u001b[0m\u001b[0;34m[\u001b[0m\u001b[0mtoken\u001b[0m\u001b[0;34m]\u001b[0m\u001b[0;34m\u001b[0m\u001b[0;34m\u001b[0m\u001b[0m\n\u001b[0;32m--> 588\u001b[0;31m         \u001b[0;32mreturn\u001b[0m \u001b[0mself\u001b[0m\u001b[0;34m.\u001b[0m\u001b[0m_convert_token_to_id\u001b[0m\u001b[0;34m(\u001b[0m\u001b[0mtoken\u001b[0m\u001b[0;34m)\u001b[0m\u001b[0;34m\u001b[0m\u001b[0;34m\u001b[0m\u001b[0m\n\u001b[0m\u001b[1;32m    589\u001b[0m \u001b[0;34m\u001b[0m\u001b[0m\n\u001b[1;32m    590\u001b[0m     \u001b[0;32mdef\u001b[0m \u001b[0m_convert_token_to_id\u001b[0m\u001b[0;34m(\u001b[0m\u001b[0mself\u001b[0m\u001b[0;34m,\u001b[0m \u001b[0mtoken\u001b[0m\u001b[0;34m)\u001b[0m\u001b[0;34m:\u001b[0m\u001b[0;34m\u001b[0m\u001b[0;34m\u001b[0m\u001b[0m\n",
            "\u001b[0;32m/usr/local/lib/python3.7/dist-packages/transformers/models/t5/tokenization_t5.py\u001b[0m in \u001b[0;36m_convert_token_to_id\u001b[0;34m(self, token)\u001b[0m\n\u001b[1;32m    295\u001b[0m         \u001b[0;34m\"\"\"Converts a token (str) in an id using the vocab.\"\"\"\u001b[0m\u001b[0;34m\u001b[0m\u001b[0;34m\u001b[0m\u001b[0m\n\u001b[1;32m    296\u001b[0m         \u001b[0;32mif\u001b[0m \u001b[0mtoken\u001b[0m\u001b[0;34m.\u001b[0m\u001b[0mstartswith\u001b[0m\u001b[0;34m(\u001b[0m\u001b[0;34m\"<extra_id_\"\u001b[0m\u001b[0;34m)\u001b[0m\u001b[0;34m:\u001b[0m\u001b[0;34m\u001b[0m\u001b[0;34m\u001b[0m\u001b[0m\n\u001b[0;32m--> 297\u001b[0;31m             \u001b[0mmatch\u001b[0m \u001b[0;34m=\u001b[0m \u001b[0mre\u001b[0m\u001b[0;34m.\u001b[0m\u001b[0mmatch\u001b[0m\u001b[0;34m(\u001b[0m\u001b[0;34mr\"<extra_id_(\\d+)>\"\u001b[0m\u001b[0;34m,\u001b[0m \u001b[0mtoken\u001b[0m\u001b[0;34m)\u001b[0m\u001b[0;34m\u001b[0m\u001b[0;34m\u001b[0m\u001b[0m\n\u001b[0m\u001b[1;32m    298\u001b[0m             \u001b[0mnum\u001b[0m \u001b[0;34m=\u001b[0m \u001b[0mint\u001b[0m\u001b[0;34m(\u001b[0m\u001b[0mmatch\u001b[0m\u001b[0;34m.\u001b[0m\u001b[0mgroup\u001b[0m\u001b[0;34m(\u001b[0m\u001b[0;36m1\u001b[0m\u001b[0;34m)\u001b[0m\u001b[0;34m)\u001b[0m\u001b[0;34m\u001b[0m\u001b[0;34m\u001b[0m\u001b[0m\n\u001b[1;32m    299\u001b[0m             \u001b[0;32mreturn\u001b[0m \u001b[0mself\u001b[0m\u001b[0;34m.\u001b[0m\u001b[0mvocab_size\u001b[0m \u001b[0;34m-\u001b[0m \u001b[0mnum\u001b[0m \u001b[0;34m-\u001b[0m \u001b[0;36m1\u001b[0m\u001b[0;34m\u001b[0m\u001b[0;34m\u001b[0m\u001b[0m\n",
            "\u001b[0;32m/usr/lib/python3.7/re.py\u001b[0m in \u001b[0;36mmatch\u001b[0;34m(pattern, string, flags)\u001b[0m\n\u001b[1;32m    173\u001b[0m     \"\"\"Try to apply the pattern at the start of the string, returning\n\u001b[1;32m    174\u001b[0m     a Match object, or None if no match was found.\"\"\"\n\u001b[0;32m--> 175\u001b[0;31m     \u001b[0;32mreturn\u001b[0m \u001b[0m_compile\u001b[0m\u001b[0;34m(\u001b[0m\u001b[0mpattern\u001b[0m\u001b[0;34m,\u001b[0m \u001b[0mflags\u001b[0m\u001b[0;34m)\u001b[0m\u001b[0;34m.\u001b[0m\u001b[0mmatch\u001b[0m\u001b[0;34m(\u001b[0m\u001b[0mstring\u001b[0m\u001b[0;34m)\u001b[0m\u001b[0;34m\u001b[0m\u001b[0;34m\u001b[0m\u001b[0m\n\u001b[0m\u001b[1;32m    176\u001b[0m \u001b[0;34m\u001b[0m\u001b[0m\n\u001b[1;32m    177\u001b[0m \u001b[0;32mdef\u001b[0m \u001b[0mfullmatch\u001b[0m\u001b[0;34m(\u001b[0m\u001b[0mpattern\u001b[0m\u001b[0;34m,\u001b[0m \u001b[0mstring\u001b[0m\u001b[0;34m,\u001b[0m \u001b[0mflags\u001b[0m\u001b[0;34m=\u001b[0m\u001b[0;36m0\u001b[0m\u001b[0;34m)\u001b[0m\u001b[0;34m:\u001b[0m\u001b[0;34m\u001b[0m\u001b[0;34m\u001b[0m\u001b[0m\n",
            "\u001b[0;32m/usr/lib/python3.7/re.py\u001b[0m in \u001b[0;36m_compile\u001b[0;34m(pattern, flags)\u001b[0m\n\u001b[1;32m    276\u001b[0m         \u001b[0mflags\u001b[0m \u001b[0;34m=\u001b[0m \u001b[0mflags\u001b[0m\u001b[0;34m.\u001b[0m\u001b[0mvalue\u001b[0m\u001b[0;34m\u001b[0m\u001b[0;34m\u001b[0m\u001b[0m\n\u001b[1;32m    277\u001b[0m     \u001b[0;32mtry\u001b[0m\u001b[0;34m:\u001b[0m\u001b[0;34m\u001b[0m\u001b[0;34m\u001b[0m\u001b[0m\n\u001b[0;32m--> 278\u001b[0;31m         \u001b[0;32mreturn\u001b[0m \u001b[0m_cache\u001b[0m\u001b[0;34m[\u001b[0m\u001b[0mtype\u001b[0m\u001b[0;34m(\u001b[0m\u001b[0mpattern\u001b[0m\u001b[0;34m)\u001b[0m\u001b[0;34m,\u001b[0m \u001b[0mpattern\u001b[0m\u001b[0;34m,\u001b[0m \u001b[0mflags\u001b[0m\u001b[0;34m]\u001b[0m\u001b[0;34m\u001b[0m\u001b[0;34m\u001b[0m\u001b[0m\n\u001b[0m\u001b[1;32m    279\u001b[0m     \u001b[0;32mexcept\u001b[0m \u001b[0mKeyError\u001b[0m\u001b[0;34m:\u001b[0m\u001b[0;34m\u001b[0m\u001b[0;34m\u001b[0m\u001b[0m\n\u001b[1;32m    280\u001b[0m         \u001b[0;32mpass\u001b[0m\u001b[0;34m\u001b[0m\u001b[0;34m\u001b[0m\u001b[0m\n",
            "\u001b[0;31mKeyboardInterrupt\u001b[0m: "
          ]
        }
      ]
    },
    {
      "cell_type": "code",
      "source": [
        "with open('res_gr-beam6.json','w') as f:\n",
        "  json.dump({'responses':res}, f)"
      ],
      "metadata": {
        "id": "7apxTnRBLbgc"
      },
      "execution_count": null,
      "outputs": []
    },
    {
      "cell_type": "code",
      "source": [
        "!cp -r /content/res_gr-beam4.json /content/drive/MyDrive/ERAI22_T5-v1.1-small_GEN/"
      ],
      "metadata": {
        "id": "q_5DF9uTWeJB",
        "colab": {
          "base_uri": "https://localhost:8080/"
        },
        "outputId": "5f915197-0d95-4d54-9e98-950d8d1e5e0f"
      },
      "execution_count": null,
      "outputs": [
        {
          "output_type": "stream",
          "name": "stdout",
          "text": [
            "cp: cannot stat '/content/res_gr-beam4.json': No such file or directory\n"
          ]
        }
      ]
    },
    {
      "cell_type": "code",
      "source": [
        "res"
      ],
      "metadata": {
        "colab": {
          "base_uri": "https://localhost:8080/"
        },
        "id": "km62pLbtU2b_",
        "outputId": "68b8d3ed-7cb4-4e80-92d3-1d4ba35861f4"
      },
      "execution_count": null,
      "outputs": [
        {
          "output_type": "execute_result",
          "data": {
            "text/plain": [
              "['label: Entailment explanation: Stubbing a toe last night and cussing out loud means to be happy and happy, but in this context the speaker is saying that he was happy and happy.',\n",
              " 'label: Entailment explanation: Stubbing a toe last night and cussing out loud means to be happy and happy, but in this context the speaker is saying that he was happy and happy.',\n",
              " 'label: Entailment explanation: Stubbing a toe last night and cussing out loud means to be happy and happy, but in this context the speaker is saying that he was happy and happy.',\n",
              " 'label: Entailment explanation: Stubbing a toe last night and cussing out loud means to be happy and happy, but in this context the speaker is saying that he was happy and happy.',\n",
              " 'label: Entailment explanation: Stubbing a toe last night and cussing out loud means to be happy and happy, but in this context the speaker is saying that he was happy and happy.',\n",
              " 'label: Entailment explanation: Stubbing a toe last night and cussing out loud means to be happy and happy, but in this context the speaker is saying that he was happy and happy.',\n",
              " 'label: Entailment explanation: Stubbing a toe last night and cussing out loud means to be happy and happy, but in this context the speaker is saying that he was happy and happy.',\n",
              " 'label: Entailment explanation: Stubbing a toe last night and cussing out loud means to be happy and happy, but in this context the speaker is saying that he was happy and happy.',\n",
              " 'label: Entailment explanation: Stubbing a toe last night and cussing out loud means to be happy and happy, but in this context the speaker is saying that he was happy and happy.',\n",
              " 'label: Entailment explanation: Stubbing a toe last night and cussing out loud means to be happy and happy, but in this context the speaker is saying that he was happy and happy.',\n",
              " 'label: Entailment explanation: Stubbing a toe last night and cussing out loud means to be happy and happy, but in this context the speaker is saying that he was happy and happy.',\n",
              " 'label: Entailment explanation: Stubbing a toe last night and cussing out loud means to be happy and happy, but in this context the speaker is saying that he was happy and happy.',\n",
              " 'label: Entailment explanation: Stubbing a toe last night and cussing out loud means to be happy and happy, but in this context the speaker is saying that he was happy and happy.',\n",
              " 'label: Entailment explanation: Stubbing a toe last night and cussing out loud means to be happy and happy, but in this context the speaker is saying that he was happy and happy.',\n",
              " 'label: Entailment explanation: Stubbing a toe last night and cussing out loud means to be happy and happy, but in this context the speaker is saying that he was happy and happy.',\n",
              " 'label: Entailment explanation: Stubbing a toe last night and cussing out loud means to be happy and happy, but in this context the speaker is saying that he was happy and happy.',\n",
              " 'label: Entailment explanation: Stubbing a toe last night and cussing out loud means to be happy and happy, but in this context the speaker is saying that he was happy and happy.',\n",
              " 'label: Entailment explanation: Stubbing a toe last night and cussing out loud means to be happy and happy, but in this context the speaker is saying that he was happy and happy.',\n",
              " 'label: Entailment explanation: Stubbing a toe last night and cussing out loud means to be happy and happy, but in this context the speaker is saying that he was happy and happy.',\n",
              " 'label: Entailment explanation: Stubbing a toe last night and cussing out loud means to be happy and happy, but in this context the speaker is saying that he was happy and happy.',\n",
              " 'label: Entailment explanation: Stubbing a toe last night and cussing out loud means to be happy and happy, but in this context the speaker is saying that he was happy and happy.',\n",
              " 'label: Entailment explanation: Stubbing a toe last night and cussing out loud means to be happy and happy, but in this context the speaker is saying that he was happy and happy.',\n",
              " 'label: Entailment explanation: Stubbing a toe last night and cussing out loud means to be happy and happy, but in this context the speaker is saying that he was happy and happy.',\n",
              " 'label: Entailment explanation: Stubbing a toe last night and cussing out loud means to be happy and happy, but in this context the speaker is saying that he was happy and happy.',\n",
              " 'label: Entailment explanation: Stubbing a toe last night and cussing out loud means to be happy and happy, but in this context the speaker is saying that he was happy and happy.',\n",
              " 'label: Entailment explanation: Stubbing a toe last night and cussing out loud means to be happy and happy, but in this context the speaker is saying that he was happy and happy.',\n",
              " 'label: Entailment explanation: Stubbing a toe last night and cussing out loud means to be happy and happy, but in this context the speaker is saying that he was happy and happy.',\n",
              " 'label: Entailment explanation: Stubbing a toe last night and cussing out loud means to be happy and happy, but in this context the speaker is saying that he was happy and happy.',\n",
              " 'label: Entailment explanation: Stubbing a toe last night and cussing out loud means to be happy and happy, but in this context the speaker is saying that he was happy and happy.',\n",
              " 'label: Entailment explanation: Stubbing a toe last night and cussing out loud means to be happy and happy, but in this context the speaker is saying that he was happy and happy.',\n",
              " 'label: Entailment explanation: Stubbing a toe last night and cussing out loud means to be happy and happy, but in this context the speaker is saying that he was happy and happy.',\n",
              " 'label: Entailment explanation: Stubbing a toe last night and cussing out loud means to be happy and happy, but in this context the speaker is saying that he was happy and happy.',\n",
              " 'label: Entailment explanation: Stubbing a toe last night and cussing out loud means to be happy and happy, but in this context the speaker is saying that he was happy and happy.',\n",
              " 'label: Entailment explanation: Stubbing a toe last night and cussing out loud means to be happy and happy, but in this context the speaker is saying that he was happy and happy.',\n",
              " 'label: Entailment explanation: Stubbing a toe last night and cussing out loud means to be happy and happy, but in this context the speaker is saying that he was happy and happy.',\n",
              " 'label: Entailment explanation: Stubbing a toe last night and cussing out loud means to be happy and happy, but in this context the speaker is saying that he was happy and happy.',\n",
              " 'label: Entailment explanation: Stubbing a toe last night and cussing out loud means to be happy and happy, but in this context the speaker is saying that he was happy and happy.',\n",
              " 'label: Entailment explanation: Stubbing a toe last night and cussing out loud means to be happy and happy, but in this context the speaker is saying that he was happy and happy.',\n",
              " 'label: Entailment explanation: Stubbing a toe last night and cussing out loud means to be happy and happy, but in this context the speaker is saying that he was happy and happy.',\n",
              " 'label: Entailment explanation: Stubbing a toe last night and cussing out loud means to be happy and happy, but in this context the speaker is saying that he was happy and happy.',\n",
              " 'label: Entailment explanation: Stubbing a toe last night and cussing out loud means to be happy and happy, but in this context the speaker is saying that he was happy and happy.',\n",
              " 'label: Entailment explanation: Stubbing a toe last night and cussing out loud means to be happy and happy, but in this context the speaker is saying that he was happy and happy.',\n",
              " 'label: Entailment explanation: Stubbing a toe last night and cussing out loud means to be happy and happy, but in this context the speaker is saying that he was happy and happy.',\n",
              " 'label: Entailment explanation: Stubbing a toe last night and cussing out loud means to be happy and happy, but in this context the speaker is saying that he was happy and happy.',\n",
              " 'label: Entailment explanation: Stubbing a toe last night and cussing out loud means to be happy and happy, but in this context the speaker is saying that he was happy and happy.',\n",
              " 'label: Entailment explanation: Stubbing a toe last night and cussing out loud means to be happy and happy, but in this context the speaker is saying that he was happy and happy.',\n",
              " 'label: Entailment explanation: Stubbing a toe last night and cussing out loud means to be happy and happy, but in this context the speaker is saying that he was happy and happy.',\n",
              " 'label: Entailment explanation: Stubbing a toe last night and cussing out loud means to be happy and happy, but in this context the speaker is saying that he was happy and happy.',\n",
              " 'label: Entailment explanation: Stubbing a toe last night and cussing out loud means to be happy and happy, but in this context the speaker is saying that he was happy and happy.',\n",
              " 'label: Entailment explanation: Stubbing a toe last night and cussing out loud means to be happy and happy, but in this context the speaker is saying that he was happy and happy.',\n",
              " 'label: Entailment explanation: Stubbing a toe last night and cussing out loud means to be happy and happy, but in this context the speaker is saying that he was happy and happy.',\n",
              " 'label: Entailment explanation: Stubbing a toe last night and cussing out loud means to be happy and happy, but in this context the speaker is saying that he was happy and happy.',\n",
              " 'label: Entailment explanation: Stubbing a toe last night and cussing out loud means to be happy and happy, but in this context the speaker is saying that he was happy and happy.',\n",
              " 'label: Entailment explanation: Stubbing a toe last night and cussing out loud means to be happy and happy, but in this context the speaker is saying that he was happy and happy.',\n",
              " 'label: Entailment explanation: Stubbing a toe last night and cussing out loud means to be happy and happy, but in this context the speaker is saying that he was happy and happy.',\n",
              " 'label: Entailment explanation: Stubbing a toe last night and cussing out loud means to be happy and happy, but in this context the speaker is saying that he was happy and happy.',\n",
              " 'label: Entailment explanation: Stubbing a toe last night and cussing out loud means to be happy and happy, but in this context the speaker is saying that he was happy and happy.',\n",
              " 'label: Entailment explanation: Stubbing a toe last night and cussing out loud means to be happy and happy, but in this context the speaker is saying that he was happy and happy.',\n",
              " 'label: Entailment explanation: Stubbing a toe last night and cussing out loud means to be happy and happy, but in this context the speaker is saying that he was happy and happy.',\n",
              " 'label: Entailment explanation: Stubbing a toe last night and cussing out loud means to be happy and happy, but in this context the speaker is saying that he was happy and happy.',\n",
              " 'label: Entailment explanation: Stubbing a toe last night and cussing out loud means to be happy and happy, but in this context the speaker is saying that he was happy and happy.',\n",
              " 'label: Entailment explanation: Stubbing a toe last night and cussing out loud means to be happy and happy, but in this context the speaker is saying that he was happy and happy.',\n",
              " 'label: Entailment explanation: Stubbing a toe last night and cussing out loud means to be happy and happy, but in this context the speaker is saying that he was happy and happy.',\n",
              " 'label: Entailment explanation: Stubbing a toe last night and cussing out loud means to be happy and happy, but in this context the speaker is saying that he was happy and happy.',\n",
              " 'label: Entailment explanation: Stubbing a toe last night and cussing out loud means to be happy and happy, but in this context the speaker is saying that he was happy and happy.',\n",
              " 'label: Entailment explanation: Stubbing a toe last night and cussing out loud means to be happy and happy, but in this context the speaker is saying that he was happy and happy.',\n",
              " 'label: Entailment explanation: Stubbing a toe last night and cussing out loud means to be happy and happy, but in this context the speaker is saying that he was happy and happy.',\n",
              " 'label: Entailment explanation: Stubbing a toe last night and cussing out loud means to be happy and happy, but in this context the speaker is saying that he was happy and happy.',\n",
              " 'label: Entailment explanation: Stubbing a toe last night and cussing out loud means to be happy and happy, but in this context the speaker is saying that he was happy and happy.',\n",
              " 'label: Entailment explanation: Stubbing a toe last night and cussing out loud means to be happy and happy, but in this context the speaker is saying that he was happy and happy.',\n",
              " 'label: Entailment explanation: Stubbing a toe last night and cussing out loud means to be happy and happy, but in this context the speaker is saying that he was happy and happy.',\n",
              " 'label: Entailment explanation: Stubbing a toe last night and cussing out loud means to be happy and happy, but in this context the speaker is saying that he was happy and happy.',\n",
              " 'label: Entailment explanation: Stubbing a toe last night and cussing out loud means to be happy and happy, but in this context the speaker is saying that he was happy and happy.',\n",
              " 'label: Entailment explanation: Stubbing a toe last night and cussing out loud means to be happy and happy, but in this context the speaker is saying that he was happy and happy.',\n",
              " 'label: Entailment explanation: Stubbing a toe last night and cussing out loud means to be happy and happy, but in this context the speaker is saying that he was happy and happy.',\n",
              " 'label: Entailment explanation: Stubbing a toe last night and cussing out loud means to be happy and happy, but in this context the speaker is saying that he was happy and happy.',\n",
              " 'label: Entailment explanation: Stubbing a toe last night and cussing out loud means to be happy and happy, but in this context the speaker is saying that he was happy and happy.',\n",
              " 'label: Entailment explanation: Stubbing a toe last night and cussing out loud means to be happy and happy, but in this context the speaker is saying that he was happy and happy.',\n",
              " 'label: Entailment explanation: Stubbing a toe last night and cussing out loud means to be happy and happy, but in this context the speaker is saying that he was happy and happy.',\n",
              " 'label: Entailment explanation: Stubbing a toe last night and cussing out loud means to be happy and happy, but in this context the speaker is saying that he was happy and happy.',\n",
              " 'label: Entailment explanation: Stubbing a toe last night and cussing out loud means to be happy and happy, but in this context the speaker is saying that he was happy and happy.',\n",
              " 'label: Entailment explanation: Stubbing a toe last night and cussing out loud means to be happy and happy, but in this context the speaker is saying that he was happy and happy.',\n",
              " 'label: Entailment explanation: Stubbing a toe last night and cussing out loud means to be happy and happy, but in this context the speaker is saying that he was happy and happy.',\n",
              " 'label: Entailment explanation: Stubbing a toe last night and cussing out loud means to be happy and happy, but in this context the speaker is saying that he was happy and happy.',\n",
              " 'label: Entailment explanation: Stubbing a toe last night and cussing out loud means to be happy and happy, but in this context the speaker is saying that he was happy and happy.',\n",
              " 'label: Entailment explanation: Stubbing a toe last night and cussing out loud means to be happy and happy, but in this context the speaker is saying that he was happy and happy.',\n",
              " 'label: Entailment explanation: Stubbing a toe last night and cussing out loud means to be happy and happy, but in this context the speaker is saying that he was happy and happy.',\n",
              " 'label: Entailment explanation: Stubbing a toe last night and cussing out loud means to be happy and happy, but in this context the speaker is saying that he was happy and happy.',\n",
              " 'label: Entailment explanation: Stubbing a toe last night and cussing out loud means to be happy and happy, but in this context the speaker is saying that he was happy and happy.',\n",
              " 'label: Entailment explanation: Stubbing a toe last night and cussing out loud means to be happy and happy, but in this context the speaker is saying that he was happy and happy.',\n",
              " 'label: Entailment explanation: Stubbing a toe last night and cussing out loud means to be happy and happy, but in this context the speaker is saying that he was happy and happy.',\n",
              " 'label: Entailment explanation: Stubbing a toe last night and cussing out loud means to be happy and happy, but in this context the speaker is saying that he was happy and happy.',\n",
              " 'label: Entailment explanation: Stubbing a toe last night and cussing out loud means to be happy and happy, but in this context the speaker is saying that he was happy and happy.',\n",
              " 'label: Entailment explanation: Stubbing a toe last night and cussing out loud means to be happy and happy, but in this context the speaker is saying that he was happy and happy.',\n",
              " 'label: Entailment explanation: Stubbing a toe last night and cussing out loud means to be happy and happy, but in this context the speaker is saying that he was happy and happy.',\n",
              " 'label: Entailment explanation: Stubbing a toe last night and cussing out loud means to be happy and happy, but in this context the speaker is saying that he was happy and happy.',\n",
              " 'label: Entailment explanation: Stubbing a toe last night and cussing out loud means to be happy and happy, but in this context the speaker is saying that he was happy and happy.',\n",
              " 'label: Entailment explanation: Stubbing a toe last night and cussing out loud means to be happy and happy, but in this context the speaker is saying that he was happy and happy.',\n",
              " 'label: Entailment explanation: Stubbing a toe last night and cussing out loud means to be happy and happy, but in this context the speaker is saying that he was happy and happy.',\n",
              " 'label: Entailment explanation: Stubbing a toe last night and cussing out loud means to be happy and happy, but in this context the speaker is saying that he was happy and happy.',\n",
              " 'label: Entailment explanation: Stubbing a toe last night and cussing out loud means to be happy and happy, but in this context the speaker is saying that he was happy and happy.',\n",
              " 'label: Entailment explanation: Stubbing a toe last night and cussing out loud means to be happy and happy, but in this context the speaker is saying that he was happy and happy.',\n",
              " 'label: Entailment explanation: Stubbing a toe last night and cussing out loud means to be happy and happy, but in this context the speaker is saying that he was happy and happy.',\n",
              " 'label: Entailment explanation: Stubbing a toe last night and cussing out loud means to be happy and happy, but in this context the speaker is saying that he was happy and happy.',\n",
              " 'label: Entailment explanation: Stubbing a toe last night and cussing out loud means to be happy and happy, but in this context the speaker is saying that he was happy and happy.',\n",
              " 'label: Entailment explanation: Stubbing a toe last night and cussing out loud means to be happy and happy, but in this context the speaker is saying that he was happy and happy.',\n",
              " 'label: Entailment explanation: Stubbing a toe last night and cussing out loud means to be happy and happy, but in this context the speaker is saying that he was happy and happy.',\n",
              " 'label: Entailment explanation: Stubbing a toe last night and cussing out loud means to be happy and happy, but in this context the speaker is saying that he was happy and happy.',\n",
              " 'label: Entailment explanation: Stubbing a toe last night and cussing out loud means to be happy and happy, but in this context the speaker is saying that he was happy and happy.',\n",
              " 'label: Entailment explanation: Stubbing a toe last night and cussing out loud means to be happy and happy, but in this context the speaker is saying that he was happy and happy.',\n",
              " 'label: Entailment explanation: Stubbing a toe last night and cussing out loud means to be happy and happy, but in this context the speaker is saying that he was happy and happy.',\n",
              " 'label: Entailment explanation: Stubbing a toe last night and cussing out loud means to be happy and happy, but in this context the speaker is saying that he was happy and happy.',\n",
              " 'label: Entailment explanation: Stubbing a toe last night and cussing out loud means to be happy and happy, but in this context the speaker is saying that he was happy and happy.',\n",
              " 'label: Entailment explanation: Stubbing a toe last night and cussing out loud means to be happy and happy, but in this context the speaker is saying that he was happy and happy.',\n",
              " 'label: Entailment explanation: Stubbing a toe last night and cussing out loud means to be happy and happy, but in this context the speaker is saying that he was happy and happy.',\n",
              " 'label: Entailment explanation: Stubbing a toe last night and cussing out loud means to be happy and happy, but in this context the speaker is saying that he was happy and happy.',\n",
              " 'label: Entailment explanation: Stubbing a toe last night and cussing out loud means to be happy and happy, but in this context the speaker is saying that he was happy and happy.',\n",
              " 'label: Entailment explanation: Stubbing a toe last night and cussing out loud means to be happy and happy, but in this context the speaker is saying that he was happy and happy.',\n",
              " 'label: Entailment explanation: Stubbing a toe last night and cussing out loud means to be happy and happy, but in this context the speaker is saying that he was happy and happy.',\n",
              " 'label: Entailment explanation: Stubbing a toe last night and cussing out loud means to be happy and happy, but in this context the speaker is saying that he was happy and happy.',\n",
              " 'label: Entailment explanation: Stubbing a toe last night and cussing out loud means to be happy and happy, but in this context the speaker is saying that he was happy and happy.',\n",
              " 'label: Entailment explanation: Stubbing a toe last night and cussing out loud means to be happy and happy, but in this context the speaker is saying that he was happy and happy.',\n",
              " 'label: Entailment explanation: Stubbing a toe last night and cussing out loud means to be happy and happy, but in this context the speaker is saying that he was happy and happy.',\n",
              " 'label: Entailment explanation: Stubbing a toe last night and cussing out loud means to be happy and happy, but in this context the speaker is saying that he was happy and happy.',\n",
              " 'label: Entailment explanation: Stubbing a toe last night and cussing out loud means to be happy and happy, but in this context the speaker is saying that he was happy and happy.',\n",
              " 'label: Entailment explanation: Stubbing a toe last night and cussing out loud means to be happy and happy, but in this context the speaker is saying that he was happy and happy.',\n",
              " 'label: Entailment explanation: Stubbing a toe last night and cussing out loud means to be happy and happy, but in this context the speaker is saying that he was happy and happy.',\n",
              " 'label: Entailment explanation: Stubbing a toe last night and cussing out loud means to be happy and happy, but in this context the speaker is saying that he was happy and happy.',\n",
              " 'label: Entailment explanation: Stubbing a toe last night and cussing out loud means to be happy and happy, but in this context the speaker is saying that he was happy and happy.',\n",
              " 'label: Entailment explanation: Stubbing a toe last night and cussing out loud means to be happy and happy, but in this context the speaker is saying that he was happy and happy.',\n",
              " 'label: Entailment explanation: Stubbing a toe last night and cussing out loud means to be happy and happy, but in this context the speaker is saying that he was happy and happy.',\n",
              " 'label: Entailment explanation: Stubbing a toe last night and cussing out loud means to be happy and happy, but in this context the speaker is saying that he was happy and happy.',\n",
              " 'label: Entailment explanation: Stubbing a toe last night and cussing out loud means to be happy and happy, but in this context the speaker is saying that he was happy and happy.',\n",
              " 'label: Entailment explanation: Stubbing a toe last night and cussing out loud means to be happy and happy, but in this context the speaker is saying that he was happy and happy.',\n",
              " 'label: Entailment explanation: Stubbing a toe last night and cussing out loud means to be happy and happy, but in this context the speaker is saying that he was happy and happy.',\n",
              " 'label: Entailment explanation: Stubbing a toe last night and cussing out loud means to be happy and happy, but in this context the speaker is saying that he was happy and happy.',\n",
              " 'label: Entailment explanation: Stubbing a toe last night and cussing out loud means to be happy and happy, but in this context the speaker is saying that he was happy and happy.',\n",
              " 'label: Entailment explanation: Stubbing a toe last night and cussing out loud means to be happy and happy, but in this context the speaker is saying that he was happy and happy.',\n",
              " 'label: Entailment explanation: Stubbing a toe last night and cussing out loud means to be happy and happy, but in this context the speaker is saying that he was happy and happy.',\n",
              " 'label: Entailment explanation: Stubbing a toe last night and cussing out loud means to be happy and happy, but in this context the speaker is saying that he was happy and happy.',\n",
              " 'label: Entailment explanation: Stubbing a toe last night and cussing out loud means to be happy and happy, but in this context the speaker is saying that he was happy and happy.',\n",
              " 'label: Entailment explanation: Stubbing a toe last night and cussing out loud means to be happy and happy, but in this context the speaker is saying that he was happy and happy.',\n",
              " 'label: Entailment explanation: Stubbing a toe last night and cussing out loud means to be happy and happy, but in this context the speaker is saying that he was happy and happy.',\n",
              " 'label: Entailment explanation: Stubbing a toe last night and cussing out loud means to be happy and happy, but in this context the speaker is saying that he was happy and happy.',\n",
              " 'label: Entailment explanation: Stubbing a toe last night and cussing out loud means to be happy and happy, but in this context the speaker is saying that he was happy and happy.',\n",
              " 'label: Entailment explanation: Stubbing a toe last night and cussing out loud means to be happy and happy, but in this context the speaker is saying that he was happy and happy.',\n",
              " 'label: Entailment explanation: Stubbing a toe last night and cussing out loud means to be happy and happy, but in this context the speaker is saying that he was happy and happy.',\n",
              " 'label: Entailment explanation: Stubbing a toe last night and cussing out loud means to be happy and happy, but in this context the speaker is saying that he was happy and happy.',\n",
              " 'label: Entailment explanation: Stubbing a toe last night and cussing out loud means to be happy and happy, but in this context the speaker is saying that he was happy and happy.',\n",
              " 'label: Entailment explanation: Stubbing a toe last night and cussing out loud means to be happy and happy, but in this context the speaker is saying that he was happy and happy.',\n",
              " 'label: Entailment explanation: Stubbing a toe last night and cussing out loud means to be happy and happy, but in this context the speaker is saying that he was happy and happy.',\n",
              " 'label: Entailment explanation: Stubbing a toe last night and cussing out loud means to be happy and happy, but in this context the speaker is saying that he was happy and happy.',\n",
              " 'label: Entailment explanation: Stubbing a toe last night and cussing out loud means to be happy and happy, but in this context the speaker is saying that he was happy and happy.',\n",
              " 'label: Entailment explanation: Stubbing a toe last night and cussing out loud means to be happy and happy, but in this context the speaker is saying that he was happy and happy.',\n",
              " 'label: Entailment explanation: Stubbing a toe last night and cussing out loud means to be happy and happy, but in this context the speaker is saying that he was happy and happy.',\n",
              " 'label: Entailment explanation: Stubbing a toe last night and cussing out loud means to be happy and happy, but in this context the speaker is saying that he was happy and happy.',\n",
              " 'label: Entailment explanation: Stubbing a toe last night and cussing out loud means to be happy and happy, but in this context the speaker is saying that he was happy and happy.',\n",
              " 'label: Entailment explanation: Stubbing a toe last night and cussing out loud means to be happy and happy, but in this context the speaker is saying that he was happy and happy.',\n",
              " 'label: Entailment explanation: Stubbing a toe last night and cussing out loud means to be happy and happy, but in this context the speaker is saying that he was happy and happy.',\n",
              " 'label: Entailment explanation: Stubbing a toe last night and cussing out loud means to be happy and happy, but in this context the speaker is saying that he was happy and happy.',\n",
              " 'label: Entailment explanation: Stubbing a toe last night and cussing out loud means to be happy and happy, but in this context the speaker is saying that he was happy and happy.',\n",
              " 'label: Entailment explanation: Stubbing a toe last night and cussing out loud means to be happy and happy, but in this context the speaker is saying that he was happy and happy.',\n",
              " 'label: Entailment explanation: Stubbing a toe last night and cussing out loud means to be happy and happy, but in this context the speaker is saying that he was happy and happy.',\n",
              " 'label: Entailment explanation: Stubbing a toe last night and cussing out loud means to be happy and happy, but in this context the speaker is saying that he was happy and happy.',\n",
              " 'label: Entailment explanation: Stubbing a toe last night and cussing out loud means to be happy and happy, but in this context the speaker is saying that he was happy and happy.',\n",
              " 'label: Entailment explanation: Stubbing a toe last night and cussing out loud means to be happy and happy, but in this context the speaker is saying that he was happy and happy.',\n",
              " 'label: Entailment explanation: Stubbing a toe last night and cussing out loud means to be happy and happy, but in this context the speaker is saying that he was happy and happy.',\n",
              " 'label: Entailment explanation: Stubbing a toe last night and cussing out loud means to be happy and happy, but in this context the speaker is saying that he was happy and happy.',\n",
              " 'label: Entailment explanation: Stubbing a toe last night and cussing out loud means to be happy and happy, but in this context the speaker is saying that he was happy and happy.',\n",
              " 'label: Entailment explanation: Stubbing a toe last night and cussing out loud means to be happy and happy, but in this context the speaker is saying that he was happy and happy.',\n",
              " 'label: Entailment explanation: Stubbing a toe last night and cussing out loud means to be happy and happy, but in this context the speaker is saying that he was happy and happy.',\n",
              " 'label: Entailment explanation: Stubbing a toe last night and cussing out loud means to be happy and happy, but in this context the speaker is saying that he was happy and happy.',\n",
              " 'label: Entailment explanation: Stubbing a toe last night and cussing out loud means to be happy and happy, but in this context the speaker is saying that he was happy and happy.',\n",
              " 'label: Entailment explanation: Stubbing a toe last night and cussing out loud means to be happy and happy, but in this context the speaker is saying that he was happy and happy.',\n",
              " 'label: Entailment explanation: Stubbing a toe last night and cussing out loud means to be happy and happy, but in this context the speaker is saying that he was happy and happy.',\n",
              " 'label: Entailment explanation: Stubbing a toe last night and cussing out loud means to be happy and happy, but in this context the speaker is saying that he was happy and happy.',\n",
              " 'label: Entailment explanation: Stubbing a toe last night and cussing out loud means to be happy and happy, but in this context the speaker is saying that he was happy and happy.',\n",
              " 'label: Entailment explanation: Stubbing a toe last night and cussing out loud means to be happy and happy, but in this context the speaker is saying that he was happy and happy.',\n",
              " 'label: Entailment explanation: Stubbing a toe last night and cussing out loud means to be happy and happy, but in this context the speaker is saying that he was happy and happy.',\n",
              " 'label: Entailment explanation: Stubbing a toe last night and cussing out loud means to be happy and happy, but in this context the speaker is saying that he was happy and happy.',\n",
              " 'label: Entailment explanation: Stubbing a toe last night and cussing out loud means to be happy and happy, but in this context the speaker is saying that he was happy and happy.',\n",
              " 'label: Entailment explanation: Stubbing a toe last night and cussing out loud means to be happy and happy, but in this context the speaker is saying that he was happy and happy.',\n",
              " 'label: Entailment explanation: Stubbing a toe last night and cussing out loud means to be happy and happy, but in this context the speaker is saying that he was happy and happy.',\n",
              " 'label: Entailment explanation: Stubbing a toe last night and cussing out loud means to be happy and happy, but in this context the speaker is saying that he was happy and happy.',\n",
              " 'label: Entailment explanation: Stubbing a toe last night and cussing out loud means to be happy and happy, but in this context the speaker is saying that he was happy and happy.',\n",
              " 'label: Entailment explanation: Stubbing a toe last night and cussing out loud means to be happy and happy, but in this context the speaker is saying that he was happy and happy.',\n",
              " 'label: Entailment explanation: Stubbing a toe last night and cussing out loud means to be happy and happy, but in this context the speaker is saying that he was happy and happy.',\n",
              " 'label: Entailment explanation: Stubbing a toe last night and cussing out loud means to be happy and happy, but in this context the speaker is saying that he was happy and happy.',\n",
              " 'label: Entailment explanation: Stubbing a toe last night and cussing out loud means to be happy and happy, but in this context the speaker is saying that he was happy and happy.',\n",
              " 'label: Entailment explanation: Stubbing a toe last night and cussing out loud means to be happy and happy, but in this context the speaker is saying that he was happy and happy.',\n",
              " 'label: Entailment explanation: Stubbing a toe last night and cussing out loud means to be happy and happy, but in this context the speaker is saying that he was happy and happy.',\n",
              " 'label: Entailment explanation: Stubbing a toe last night and cussing out loud means to be happy and happy, but in this context the speaker is saying that he was happy and happy.',\n",
              " 'label: Entailment explanation: Stubbing a toe last night and cussing out loud means to be happy and happy, but in this context the speaker is saying that he was happy and happy.',\n",
              " 'label: Entailment explanation: Stubbing a toe last night and cussing out loud means to be happy and happy, but in this context the speaker is saying that he was happy and happy.',\n",
              " 'label: Entailment explanation: Stubbing a toe last night and cussing out loud means to be happy and happy, but in this context the speaker is saying that he was happy and happy.',\n",
              " 'label: Entailment explanation: Stubbing a toe last night and cussing out loud means to be happy and happy, but in this context the speaker is saying that he was happy and happy.',\n",
              " 'label: Entailment explanation: Stubbing a toe last night and cussing out loud means to be happy and happy, but in this context the speaker is saying that he was happy and happy.',\n",
              " 'label: Entailment explanation: Stubbing a toe last night and cussing out loud means to be happy and happy, but in this context the speaker is saying that he was happy and happy.',\n",
              " 'label: Entailment explanation: Stubbing a toe last night and cussing out loud means to be happy and happy, but in this context the speaker is saying that he was happy and happy.',\n",
              " 'label: Entailment explanation: Stubbing a toe last night and cussing out loud means to be happy and happy, but in this context the speaker is saying that he was happy and happy.',\n",
              " 'label: Entailment explanation: Stubbing a toe last night and cussing out loud means to be happy and happy, but in this context the speaker is saying that he was happy and happy.',\n",
              " 'label: Entailment explanation: Stubbing a toe last night and cussing out loud means to be happy and happy, but in this context the speaker is saying that he was happy and happy.',\n",
              " 'label: Entailment explanation: Stubbing a toe last night and cussing out loud means to be happy and happy, but in this context the speaker is saying that he was happy and happy.',\n",
              " 'label: Entailment explanation: Stubbing a toe last night and cussing out loud means to be happy and happy, but in this context the speaker is saying that he was happy and happy.',\n",
              " 'label: Entailment explanation: Stubbing a toe last night and cussing out loud means to be happy and happy, but in this context the speaker is saying that he was happy and happy.',\n",
              " 'label: Entailment explanation: Stubbing a toe last night and cussing out loud means to be happy and happy, but in this context the speaker is saying that he was happy and happy.',\n",
              " 'label: Entailment explanation: Stubbing a toe last night and cussing out loud means to be happy and happy, but in this context the speaker is saying that he was happy and happy.',\n",
              " 'label: Entailment explanation: Stubbing a toe last night and cussing out loud means to be happy and happy, but in this context the speaker is saying that he was happy and happy.',\n",
              " 'label: Entailment explanation: Stubbing a toe last night and cussing out loud means to be happy and happy, but in this context the speaker is saying that he was happy and happy.',\n",
              " 'label: Entailment explanation: Stubbing a toe last night and cussing out loud means to be happy and happy, but in this context the speaker is saying that he was happy and happy.',\n",
              " 'label: Entailment explanation: Stubbing a toe last night and cussing out loud means to be happy and happy, but in this context the speaker is saying that he was happy and happy.',\n",
              " 'label: Entailment explanation: Stubbing a toe last night and cussing out loud means to be happy and happy, but in this context the speaker is saying that he was happy and happy.',\n",
              " 'label: Entailment explanation: Stubbing a toe last night and cussing out loud means to be happy and happy, but in this context the speaker is saying that he was happy and happy.',\n",
              " 'label: Entailment explanation: Stubbing a toe last night and cussing out loud means to be happy and happy, but in this context the speaker is saying that he was happy and happy.',\n",
              " 'label: Entailment explanation: Stubbing a toe last night and cussing out loud means to be happy and happy, but in this context the speaker is saying that he was happy and happy.',\n",
              " 'label: Entailment explanation: Stubbing a toe last night and cussing out loud means to be happy and happy, but in this context the speaker is saying that he was happy and happy.',\n",
              " 'label: Entailment explanation: Stubbing a toe last night and cussing out loud means to be happy and happy, but in this context the speaker is saying that he was happy and happy.',\n",
              " 'label: Entailment explanation: Stubbing a toe last night and cussing out loud means to be happy and happy, but in this context the speaker is saying that he was happy and happy.',\n",
              " 'label: Entailment explanation: Stubbing a toe last night and cussing out loud means to be happy and happy, but in this context the speaker is saying that he was happy and happy.',\n",
              " 'label: Entailment explanation: Stubbing a toe last night and cussing out loud means to be happy and happy, but in this context the speaker is saying that he was happy and happy.',\n",
              " 'label: Entailment explanation: Stubbing a toe last night and cussing out loud means to be happy and happy, but in this context the speaker is saying that he was happy and happy.',\n",
              " 'label: Entailment explanation: Stubbing a toe last night and cussing out loud means to be happy and happy, but in this context the speaker is saying that he was happy and happy.',\n",
              " 'label: Entailment explanation: Stubbing a toe last night and cussing out loud means to be happy and happy, but in this context the speaker is saying that he was happy and happy.',\n",
              " 'label: Entailment explanation: Stubbing a toe last night and cussing out loud means to be happy and happy, but in this context the speaker is saying that he was happy and happy.',\n",
              " 'label: Entailment explanation: Stubbing a toe last night and cussing out loud means to be happy and happy, but in this context the speaker is saying that he was happy and happy.',\n",
              " 'label: Entailment explanation: Stubbing a toe last night and cussing out loud means to be happy and happy, but in this context the speaker is saying that he was happy and happy.',\n",
              " 'label: Entailment explanation: Stubbing a toe last night and cussing out loud means to be happy and happy, but in this context the speaker is saying that he was happy and happy.',\n",
              " 'label: Entailment explanation: Stubbing a toe last night and cussing out loud means to be happy and happy, but in this context the speaker is saying that he was happy and happy.',\n",
              " 'label: Entailment explanation: Stubbing a toe last night and cussing out loud means to be happy and happy, but in this context the speaker is saying that he was happy and happy.',\n",
              " 'label: Entailment explanation: Stubbing a toe last night and cussing out loud means to be happy and happy, but in this context the speaker is saying that he was happy and happy.',\n",
              " 'label: Entailment explanation: Stubbing a toe last night and cussing out loud means to be happy and happy, but in this context the speaker is saying that he was happy and happy.',\n",
              " 'label: Entailment explanation: Stubbing a toe last night and cussing out loud means to be happy and happy, but in this context the speaker is saying that he was happy and happy.',\n",
              " 'label: Entailment explanation: Stubbing a toe last night and cussing out loud means to be happy and happy, but in this context the speaker is saying that he was happy and happy.',\n",
              " 'label: Entailment explanation: Stubbing a toe last night and cussing out loud means to be happy and happy, but in this context the speaker is saying that he was happy and happy.',\n",
              " 'label: Entailment explanation: Stubbing a toe last night and cussing out loud means to be happy and happy, but in this context the speaker is saying that he was happy and happy.',\n",
              " 'label: Entailment explanation: Stubbing a toe last night and cussing out loud means to be happy and happy, but in this context the speaker is saying that he was happy and happy.',\n",
              " 'label: Entailment explanation: Stubbing a toe last night and cussing out loud means to be happy and happy, but in this context the speaker is saying that he was happy and happy.',\n",
              " 'label: Entailment explanation: Stubbing a toe last night and cussing out loud means to be happy and happy, but in this context the speaker is saying that he was happy and happy.',\n",
              " 'label: Entailment explanation: Stubbing a toe last night and cussing out loud means to be happy and happy, but in this context the speaker is saying that he was happy and happy.',\n",
              " 'label: Entailment explanation: Stubbing a toe last night and cussing out loud means to be happy and happy, but in this context the speaker is saying that he was happy and happy.',\n",
              " 'label: Entailment explanation: Stubbing a toe last night and cussing out loud means to be happy and happy, but in this context the speaker is saying that he was happy and happy.',\n",
              " 'label: Entailment explanation: Stubbing a toe last night and cussing out loud means to be happy and happy, but in this context the speaker is saying that he was happy and happy.',\n",
              " 'label: Entailment explanation: Stubbing a toe last night and cussing out loud means to be happy and happy, but in this context the speaker is saying that he was happy and happy.',\n",
              " 'label: Entailment explanation: Stubbing a toe last night and cussing out loud means to be happy and happy, but in this context the speaker is saying that he was happy and happy.',\n",
              " 'label: Entailment explanation: Stubbing a toe last night and cussing out loud means to be happy and happy, but in this context the speaker is saying that he was happy and happy.',\n",
              " 'label: Entailment explanation: Stubbing a toe last night and cussing out loud means to be happy and happy, but in this context the speaker is saying that he was happy and happy.',\n",
              " 'label: Entailment explanation: Stubbing a toe last night and cussing out loud means to be happy and happy, but in this context the speaker is saying that he was happy and happy.',\n",
              " 'label: Entailment explanation: Stubbing a toe last night and cussing out loud means to be happy and happy, but in this context the speaker is saying that he was happy and happy.',\n",
              " 'label: Entailment explanation: Stubbing a toe last night and cussing out loud means to be happy and happy, but in this context the speaker is saying that he was happy and happy.',\n",
              " 'label: Entailment explanation: Stubbing a toe last night and cussing out loud means to be happy and happy, but in this context the speaker is saying that he was happy and happy.',\n",
              " 'label: Entailment explanation: Stubbing a toe last night and cussing out loud means to be happy and happy, but in this context the speaker is saying that he was happy and happy.',\n",
              " 'label: Entailment explanation: Stubbing a toe last night and cussing out loud means to be happy and happy, but in this context the speaker is saying that he was happy and happy.',\n",
              " 'label: Entailment explanation: Stubbing a toe last night and cussing out loud means to be happy and happy, but in this context the speaker is saying that he was happy and happy.',\n",
              " 'label: Entailment explanation: Stubbing a toe last night and cussing out loud means to be happy and happy, but in this context the speaker is saying that he was happy and happy.',\n",
              " 'label: Entailment explanation: Stubbing a toe last night and cussing out loud means to be happy and happy, but in this context the speaker is saying that he was happy and happy.',\n",
              " 'label: Entailment explanation: Stubbing a toe last night and cussing out loud means to be happy and happy, but in this context the speaker is saying that he was happy and happy.',\n",
              " 'label: Entailment explanation: Stubbing a toe last night and cussing out loud means to be happy and happy, but in this context the speaker is saying that he was happy and happy.',\n",
              " 'label: Entailment explanation: Stubbing a toe last night and cussing out loud means to be happy and happy, but in this context the speaker is saying that he was happy and happy.',\n",
              " 'label: Entailment explanation: Stubbing a toe last night and cussing out loud means to be happy and happy, but in this context the speaker is saying that he was happy and happy.',\n",
              " 'label: Entailment explanation: Stubbing a toe last night and cussing out loud means to be happy and happy, but in this context the speaker is saying that he was happy and happy.',\n",
              " 'label: Entailment explanation: Stubbing a toe last night and cussing out loud means to be happy and happy, but in this context the speaker is saying that he was happy and happy.',\n",
              " 'label: Entailment explanation: Stubbing a toe last night and cussing out loud means to be happy and happy, but in this context the speaker is saying that he was happy and happy.',\n",
              " 'label: Entailment explanation: Stubbing a toe last night and cussing out loud means to be happy and happy, but in this context the speaker is saying that he was happy and happy.',\n",
              " 'label: Entailment explanation: Stubbing a toe last night and cussing out loud means to be happy and happy, but in this context the speaker is saying that he was happy and happy.',\n",
              " 'label: Entailment explanation: Stubbing a toe last night and cussing out loud means to be happy and happy, but in this context the speaker is saying that he was happy and happy.',\n",
              " 'label: Entailment explanation: Stubbing a toe last night and cussing out loud means to be happy and happy, but in this context the speaker is saying that he was happy and happy.',\n",
              " 'label: Entailment explanation: Stubbing a toe last night and cussing out loud means to be happy and happy, but in this context the speaker is saying that he was happy and happy.',\n",
              " 'label: Entailment explanation: Stubbing a toe last night and cussing out loud means to be happy and happy, but in this context the speaker is saying that he was happy and happy.',\n",
              " 'label: Entailment explanation: Stubbing a toe last night and cussing out loud means to be happy and happy, but in this context the speaker is saying that he was happy and happy.',\n",
              " 'label: Entailment explanation: Stubbing a toe last night and cussing out loud means to be happy and happy, but in this context the speaker is saying that he was happy and happy.',\n",
              " 'label: Entailment explanation: Stubbing a toe last night and cussing out loud means to be happy and happy, but in this context the speaker is saying that he was happy and happy.',\n",
              " 'label: Entailment explanation: Stubbing a toe last night and cussing out loud means to be happy and happy, but in this context the speaker is saying that he was happy and happy.',\n",
              " 'label: Entailment explanation: Stubbing a toe last night and cussing out loud means to be happy and happy, but in this context the speaker is saying that he was happy and happy.',\n",
              " 'label: Entailment explanation: Stubbing a toe last night and cussing out loud means to be happy and happy, but in this context the speaker is saying that he was happy and happy.',\n",
              " 'label: Entailment explanation: Stubbing a toe last night and cussing out loud means to be happy and happy, but in this context the speaker is saying that he was happy and happy.',\n",
              " 'label: Entailment explanation: Stubbing a toe last night and cussing out loud means to be happy and happy, but in this context the speaker is saying that he was happy and happy.',\n",
              " 'label: Entailment explanation: Stubbing a toe last night and cussing out loud means to be happy and happy, but in this context the speaker is saying that he was happy and happy.',\n",
              " 'label: Entailment explanation: Stubbing a toe last night and cussing out loud means to be happy and happy, but in this context the speaker is saying that he was happy and happy.',\n",
              " 'label: Entailment explanation: Stubbing a toe last night and cussing out loud means to be happy and happy, but in this context the speaker is saying that he was happy and happy.',\n",
              " 'label: Entailment explanation: Stubbing a toe last night and cussing out loud means to be happy and happy, but in this context the speaker is saying that he was happy and happy.',\n",
              " 'label: Entailment explanation: Stubbing a toe last night and cussing out loud means to be happy and happy, but in this context the speaker is saying that he was happy and happy.',\n",
              " 'label: Entailment explanation: Stubbing a toe last night and cussing out loud means to be happy and happy, but in this context the speaker is saying that he was happy and happy.',\n",
              " 'label: Entailment explanation: Stubbing a toe last night and cussing out loud means to be happy and happy, but in this context the speaker is saying that he was happy and happy.',\n",
              " 'label: Entailment explanation: Stubbing a toe last night and cussing out loud means to be happy and happy, but in this context the speaker is saying that he was happy and happy.',\n",
              " 'label: Entailment explanation: Stubbing a toe last night and cussing out loud means to be happy and happy, but in this context the speaker is saying that he was happy and happy.',\n",
              " 'label: Entailment explanation: Stubbing a toe last night and cussing out loud means to be happy and happy, but in this context the speaker is saying that he was happy and happy.',\n",
              " 'label: Entailment explanation: Stubbing a toe last night and cussing out loud means to be happy and happy, but in this context the speaker is saying that he was happy and happy.',\n",
              " 'label: Entailment explanation: Stubbing a toe last night and cussing out loud means to be happy and happy, but in this context the speaker is saying that he was happy and happy.',\n",
              " 'label: Entailment explanation: Stubbing a toe last night and cussing out loud means to be happy and happy, but in this context the speaker is saying that he was happy and happy.',\n",
              " 'label: Entailment explanation: Stubbing a toe last night and cussing out loud means to be happy and happy, but in this context the speaker is saying that he was happy and happy.',\n",
              " 'label: Entailment explanation: Stubbing a toe last night and cussing out loud means to be happy and happy, but in this context the speaker is saying that he was happy and happy.',\n",
              " 'label: Entailment explanation: Stubbing a toe last night and cussing out loud means to be happy and happy, but in this context the speaker is saying that he was happy and happy.',\n",
              " 'label: Entailment explanation: Stubbing a toe last night and cussing out loud means to be happy and happy, but in this context the speaker is saying that he was happy and happy.',\n",
              " 'label: Entailment explanation: Stubbing a toe last night and cussing out loud means to be happy and happy, but in this context the speaker is saying that he was happy and happy.',\n",
              " 'label: Entailment explanation: Stubbing a toe last night and cussing out loud means to be happy and happy, but in this context the speaker is saying that he was happy and happy.',\n",
              " 'label: Entailment explanation: Stubbing a toe last night and cussing out loud means to be happy and happy, but in this context the speaker is saying that he was happy and happy.',\n",
              " 'label: Entailment explanation: Stubbing a toe last night and cussing out loud means to be happy and happy, but in this context the speaker is saying that he was happy and happy.',\n",
              " 'label: Entailment explanation: Stubbing a toe last night and cussing out loud means to be happy and happy, but in this context the speaker is saying that he was happy and happy.',\n",
              " 'label: Entailment explanation: Stubbing a toe last night and cussing out loud means to be happy and happy, but in this context the speaker is saying that he was happy and happy.',\n",
              " 'label: Entailment explanation: Stubbing a toe last night and cussing out loud means to be happy and happy, but in this context the speaker is saying that he was happy and happy.',\n",
              " 'label: Entailment explanation: Stubbing a toe last night and cussing out loud means to be happy and happy, but in this context the speaker is saying that he was happy and happy.',\n",
              " 'label: Entailment explanation: Stubbing a toe last night and cussing out loud means to be happy and happy, but in this context the speaker is saying that he was happy and happy.',\n",
              " 'label: Entailment explanation: Stubbing a toe last night and cussing out loud means to be happy and happy, but in this context the speaker is saying that he was happy and happy.',\n",
              " 'label: Entailment explanation: Stubbing a toe last night and cussing out loud means to be happy and happy, but in this context the speaker is saying that he was happy and happy.',\n",
              " 'label: Entailment explanation: Stubbing a toe last night and cussing out loud means to be happy and happy, but in this context the speaker is saying that he was happy and happy.',\n",
              " 'label: Entailment explanation: Stubbing a toe last night and cussing out loud means to be happy and happy, but in this context the speaker is saying that he was happy and happy.',\n",
              " 'label: Entailment explanation: Stubbing a toe last night and cussing out loud means to be happy and happy, but in this context the speaker is saying that he was happy and happy.',\n",
              " 'label: Entailment explanation: Stubbing a toe last night and cussing out loud means to be happy and happy, but in this context the speaker is saying that he was happy and happy.',\n",
              " 'label: Entailment explanation: Stubbing a toe last night and cussing out loud means to be happy and happy, but in this context the speaker is saying that he was happy and happy.',\n",
              " 'label: Entailment explanation: Stubbing a toe last night and cussing out loud means to be happy and happy, but in this context the speaker is saying that he was happy and happy.',\n",
              " 'label: Entailment explanation: Stubbing a toe last night and cussing out loud means to be happy and happy, but in this context the speaker is saying that he was happy and happy.',\n",
              " 'label: Entailment explanation: Stubbing a toe last night and cussing out loud means to be happy and happy, but in this context the speaker is saying that he was happy and happy.',\n",
              " 'label: Entailment explanation: Stubbing a toe last night and cussing out loud means to be happy and happy, but in this context the speaker is saying that he was happy and happy.',\n",
              " 'label: Entailment explanation: Stubbing a toe last night and cussing out loud means to be happy and happy, but in this context the speaker is saying that he was happy and happy.',\n",
              " 'label: Entailment explanation: Stubbing a toe last night and cussing out loud means to be happy and happy, but in this context the speaker is saying that he was happy and happy.',\n",
              " 'label: Entailment explanation: Stubbing a toe last night and cussing out loud means to be happy and happy, but in this context the speaker is saying that he was happy and happy.',\n",
              " 'label: Entailment explanation: Stubbing a toe last night and cussing out loud means to be happy and happy, but in this context the speaker is saying that he was happy and happy.',\n",
              " 'label: Entailment explanation: Stubbing a toe last night and cussing out loud means to be happy and happy, but in this context the speaker is saying that he was happy and happy.',\n",
              " 'label: Entailment explanation: Stubbing a toe last night and cussing out loud means to be happy and happy, but in this context the speaker is saying that he was happy and happy.',\n",
              " 'label: Entailment explanation: Stubbing a toe last night and cussing out loud means to be happy and happy, but in this context the speaker is saying that he was happy and happy.',\n",
              " 'label: Entailment explanation: Stubbing a toe last night and cussing out loud means to be happy and happy, but in this context the speaker is saying that he was happy and happy.',\n",
              " 'label: Entailment explanation: Stubbing a toe last night and cussing out loud means to be happy and happy, but in this context the speaker is saying that he was happy and happy.',\n",
              " 'label: Entailment explanation: Stubbing a toe last night and cussing out loud means to be happy and happy, but in this context the speaker is saying that he was happy and happy.',\n",
              " 'label: Entailment explanation: Stubbing a toe last night and cussing out loud means to be happy and happy, but in this context the speaker is saying that he was happy and happy.',\n",
              " 'label: Entailment explanation: Stubbing a toe last night and cussing out loud means to be happy and happy, but in this context the speaker is saying that he was happy and happy.',\n",
              " 'label: Entailment explanation: Stubbing a toe last night and cussing out loud means to be happy and happy, but in this context the speaker is saying that he was happy and happy.',\n",
              " 'label: Entailment explanation: Stubbing a toe last night and cussing out loud means to be happy and happy, but in this context the speaker is saying that he was happy and happy.',\n",
              " 'label: Entailment explanation: Stubbing a toe last night and cussing out loud means to be happy and happy, but in this context the speaker is saying that he was happy and happy.',\n",
              " 'label: Entailment explanation: Stubbing a toe last night and cussing out loud means to be happy and happy, but in this context the speaker is saying that he was happy and happy.',\n",
              " 'label: Entailment explanation: Stubbing a toe last night and cussing out loud means to be happy and happy, but in this context the speaker is saying that he was happy and happy.',\n",
              " 'label: Entailment explanation: Stubbing a toe last night and cussing out loud means to be happy and happy, but in this context the speaker is saying that he was happy and happy.',\n",
              " 'label: Entailment explanation: Stubbing a toe last night and cussing out loud means to be happy and happy, but in this context the speaker is saying that he was happy and happy.',\n",
              " 'label: Entailment explanation: Stubbing a toe last night and cussing out loud means to be happy and happy, but in this context the speaker is saying that he was happy and happy.',\n",
              " 'label: Entailment explanation: Stubbing a toe last night and cussing out loud means to be happy and happy, but in this context the speaker is saying that he was happy and happy.',\n",
              " 'label: Entailment explanation: Stubbing a toe last night and cussing out loud means to be happy and happy, but in this context the speaker is saying that he was happy and happy.',\n",
              " 'label: Entailment explanation: Stubbing a toe last night and cussing out loud means to be happy and happy, but in this context the speaker is saying that he was happy and happy.',\n",
              " 'label: Entailment explanation: Stubbing a toe last night and cussing out loud means to be happy and happy, but in this context the speaker is saying that he was happy and happy.',\n",
              " 'label: Entailment explanation: Stubbing a toe last night and cussing out loud means to be happy and happy, but in this context the speaker is saying that he was happy and happy.',\n",
              " 'label: Entailment explanation: Stubbing a toe last night and cussing out loud means to be happy and happy, but in this context the speaker is saying that he was happy and happy.',\n",
              " 'label: Entailment explanation: Stubbing a toe last night and cussing out loud means to be happy and happy, but in this context the speaker is saying that he was happy and happy.',\n",
              " 'label: Entailment explanation: Stubbing a toe last night and cussing out loud means to be happy and happy, but in this context the speaker is saying that he was happy and happy.',\n",
              " 'label: Entailment explanation: Stubbing a toe last night and cussing out loud means to be happy and happy, but in this context the speaker is saying that he was happy and happy.',\n",
              " 'label: Entailment explanation: Stubbing a toe last night and cussing out loud means to be happy and happy, but in this context the speaker is saying that he was happy and happy.',\n",
              " 'label: Entailment explanation: Stubbing a toe last night and cussing out loud means to be happy and happy, but in this context the speaker is saying that he was happy and happy.',\n",
              " 'label: Entailment explanation: Stubbing a toe last night and cussing out loud means to be happy and happy, but in this context the speaker is saying that he was happy and happy.',\n",
              " 'label: Entailment explanation: Stubbing a toe last night and cussing out loud means to be happy and happy, but in this context the speaker is saying that he was happy and happy.',\n",
              " 'label: Entailment explanation: Stubbing a toe last night and cussing out loud means to be happy and happy, but in this context the speaker is saying that he was happy and happy.',\n",
              " 'label: Entailment explanation: Stubbing a toe last night and cussing out loud means to be happy and happy, but in this context the speaker is saying that he was happy and happy.',\n",
              " 'label: Entailment explanation: Stubbing a toe last night and cussing out loud means to be happy and happy, but in this context the speaker is saying that he was happy and happy.',\n",
              " 'label: Entailment explanation: Stubbing a toe last night and cussing out loud means to be happy and happy, but in this context the speaker is saying that he was happy and happy.',\n",
              " 'label: Entailment explanation: Stubbing a toe last night and cussing out loud means to be happy and happy, but in this context the speaker is saying that he was happy and happy.',\n",
              " 'label: Entailment explanation: Stubbing a toe last night and cussing out loud means to be happy and happy, but in this context the speaker is saying that he was happy and happy.',\n",
              " 'label: Entailment explanation: Stubbing a toe last night and cussing out loud means to be happy and happy, but in this context the speaker is saying that he was happy and happy.',\n",
              " 'label: Entailment explanation: Stubbing a toe last night and cussing out loud means to be happy and happy, but in this context the speaker is saying that he was happy and happy.',\n",
              " 'label: Entailment explanation: Stubbing a toe last night and cussing out loud means to be happy and happy, but in this context the speaker is saying that he was happy and happy.',\n",
              " 'label: Entailment explanation: Stubbing a toe last night and cussing out loud means to be happy and happy, but in this context the speaker is saying that he was happy and happy.',\n",
              " 'label: Entailment explanation: Stubbing a toe last night and cussing out loud means to be happy and happy, but in this context the speaker is saying that he was happy and happy.',\n",
              " 'label: Entailment explanation: Stubbing a toe last night and cussing out loud means to be happy and happy, but in this context the speaker is saying that he was happy and happy.',\n",
              " 'label: Entailment explanation: Stubbing a toe last night and cussing out loud means to be happy and happy, but in this context the speaker is saying that he was happy and happy.',\n",
              " 'label: Entailment explanation: Stubbing a toe last night and cussing out loud means to be happy and happy, but in this context the speaker is saying that he was happy and happy.',\n",
              " 'label: Entailment explanation: Stubbing a toe last night and cussing out loud means to be happy and happy, but in this context the speaker is saying that he was happy and happy.',\n",
              " 'label: Entailment explanation: Stubbing a toe last night and cussing out loud means to be happy and happy, but in this context the speaker is saying that he was happy and happy.',\n",
              " 'label: Entailment explanation: Stubbing a toe last night and cussing out loud means to be happy and happy, but in this context the speaker is saying that he was happy and happy.',\n",
              " 'label: Entailment explanation: Stubbing a toe last night and cussing out loud means to be happy and happy, but in this context the speaker is saying that he was happy and happy.',\n",
              " 'label: Entailment explanation: Stubbing a toe last night and cussing out loud means to be happy and happy, but in this context the speaker is saying that he was happy and happy.',\n",
              " 'label: Entailment explanation: Stubbing a toe last night and cussing out loud means to be happy and happy, but in this context the speaker is saying that he was happy and happy.',\n",
              " 'label: Entailment explanation: Stubbing a toe last night and cussing out loud means to be happy and happy, but in this context the speaker is saying that he was happy and happy.',\n",
              " 'label: Entailment explanation: Stubbing a toe last night and cussing out loud means to be happy and happy, but in this context the speaker is saying that he was happy and happy.',\n",
              " 'label: Entailment explanation: Stubbing a toe last night and cussing out loud means to be happy and happy, but in this context the speaker is saying that he was happy and happy.',\n",
              " 'label: Entailment explanation: Stubbing a toe last night and cussing out loud means to be happy and happy, but in this context the speaker is saying that he was happy and happy.',\n",
              " 'label: Entailment explanation: Stubbing a toe last night and cussing out loud means to be happy and happy, but in this context the speaker is saying that he was happy and happy.',\n",
              " 'label: Entailment explanation: Stubbing a toe last night and cussing out loud means to be happy and happy, but in this context the speaker is saying that he was happy and happy.',\n",
              " 'label: Entailment explanation: Stubbing a toe last night and cussing out loud means to be happy and happy, but in this context the speaker is saying that he was happy and happy.',\n",
              " 'label: Entailment explanation: Stubbing a toe last night and cussing out loud means to be happy and happy, but in this context the speaker is saying that he was happy and happy.',\n",
              " 'label: Entailment explanation: Stubbing a toe last night and cussing out loud means to be happy and happy, but in this context the speaker is saying that he was happy and happy.',\n",
              " 'label: Entailment explanation: Stubbing a toe last night and cussing out loud means to be happy and happy, but in this context the speaker is saying that he was happy and happy.',\n",
              " 'label: Entailment explanation: Stubbing a toe last night and cussing out loud means to be happy and happy, but in this context the speaker is saying that he was happy and happy.',\n",
              " 'label: Entailment explanation: Stubbing a toe last night and cussing out loud means to be happy and happy, but in this context the speaker is saying that he was happy and happy.',\n",
              " 'label: Entailment explanation: Stubbing a toe last night and cussing out loud means to be happy and happy, but in this context the speaker is saying that he was happy and happy.',\n",
              " 'label: Entailment explanation: Stubbing a toe last night and cussing out loud means to be happy and happy, but in this context the speaker is saying that he was happy and happy.',\n",
              " 'label: Entailment explanation: Stubbing a toe last night and cussing out loud means to be happy and happy, but in this context the speaker is saying that he was happy and happy.',\n",
              " 'label: Entailment explanation: Stubbing a toe last night and cussing out loud means to be happy and happy, but in this context the speaker is saying that he was happy and happy.',\n",
              " 'label: Entailment explanation: Stubbing a toe last night and cussing out loud means to be happy and happy, but in this context the speaker is saying that he was happy and happy.',\n",
              " 'label: Entailment explanation: Stubbing a toe last night and cussing out loud means to be happy and happy, but in this context the speaker is saying that he was happy and happy.',\n",
              " 'label: Entailment explanation: Stubbing a toe last night and cussing out loud means to be happy and happy, but in this context the speaker is saying that he was happy and happy.',\n",
              " 'label: Entailment explanation: Stubbing a toe last night and cussing out loud means to be happy and happy, but in this context the speaker is saying that he was happy and happy.',\n",
              " 'label: Entailment explanation: Stubbing a toe last night and cussing out loud means to be happy and happy, but in this context the speaker is saying that he was happy and happy.',\n",
              " 'label: Entailment explanation: Stubbing a toe last night and cussing out loud means to be happy and happy, but in this context the speaker is saying that he was happy and happy.',\n",
              " 'label: Entailment explanation: Stubbing a toe last night and cussing out loud means to be happy and happy, but in this context the speaker is saying that he was happy and happy.',\n",
              " 'label: Entailment explanation: Stubbing a toe last night and cussing out loud means to be happy and happy, but in this context the speaker is saying that he was happy and happy.',\n",
              " 'label: Entailment explanation: Stubbing a toe last night and cussing out loud means to be happy and happy, but in this context the speaker is saying that he was happy and happy.',\n",
              " 'label: Entailment explanation: Stubbing a toe last night and cussing out loud means to be happy and happy, but in this context the speaker is saying that he was happy and happy.',\n",
              " 'label: Entailment explanation: Stubbing a toe last night and cussing out loud means to be happy and happy, but in this context the speaker is saying that he was happy and happy.',\n",
              " 'label: Entailment explanation: Stubbing a toe last night and cussing out loud means to be happy and happy, but in this context the speaker is saying that he was happy and happy.',\n",
              " 'label: Entailment explanation: Stubbing a toe last night and cussing out loud means to be happy and happy, but in this context the speaker is saying that he was happy and happy.',\n",
              " 'label: Entailment explanation: Stubbing a toe last night and cussing out loud means to be happy and happy, but in this context the speaker is saying that he was happy and happy.',\n",
              " 'label: Entailment explanation: Stubbing a toe last night and cussing out loud means to be happy and happy, but in this context the speaker is saying that he was happy and happy.',\n",
              " 'label: Entailment explanation: Stubbing a toe last night and cussing out loud means to be happy and happy, but in this context the speaker is saying that he was happy and happy.',\n",
              " 'label: Entailment explanation: Stubbing a toe last night and cussing out loud means to be happy and happy, but in this context the speaker is saying that he was happy and happy.',\n",
              " 'label: Entailment explanation: Stubbing a toe last night and cussing out loud means to be happy and happy, but in this context the speaker is saying that he was happy and happy.',\n",
              " 'label: Entailment explanation: Stubbing a toe last night and cussing out loud means to be happy and happy, but in this context the speaker is saying that he was happy and happy.',\n",
              " 'label: Entailment explanation: Stubbing a toe last night and cussing out loud means to be happy and happy, but in this context the speaker is saying that he was happy and happy.',\n",
              " 'label: Entailment explanation: Stubbing a toe last night and cussing out loud means to be happy and happy, but in this context the speaker is saying that he was happy and happy.',\n",
              " 'label: Entailment explanation: Stubbing a toe last night and cussing out loud means to be happy and happy, but in this context the speaker is saying that he was happy and happy.',\n",
              " 'label: Entailment explanation: Stubbing a toe last night and cussing out loud means to be happy and happy, but in this context the speaker is saying that he was happy and happy.',\n",
              " 'label: Entailment explanation: Stubbing a toe last night and cussing out loud means to be happy and happy, but in this context the speaker is saying that he was happy and happy.',\n",
              " 'label: Entailment explanation: Stubbing a toe last night and cussing out loud means to be happy and happy, but in this context the speaker is saying that he was happy and happy.',\n",
              " 'label: Entailment explanation: Stubbing a toe last night and cussing out loud means to be happy and happy, but in this context the speaker is saying that he was happy and happy.',\n",
              " 'label: Entailment explanation: Stubbing a toe last night and cussing out loud means to be happy and happy, but in this context the speaker is saying that he was happy and happy.',\n",
              " 'label: Entailment explanation: Stubbing a toe last night and cussing out loud means to be happy and happy, but in this context the speaker is saying that he was happy and happy.',\n",
              " 'label: Entailment explanation: Stubbing a toe last night and cussing out loud means to be happy and happy, but in this context the speaker is saying that he was happy and happy.',\n",
              " 'label: Entailment explanation: Stubbing a toe last night and cussing out loud means to be happy and happy, but in this context the speaker is saying that he was happy and happy.',\n",
              " 'label: Entailment explanation: Stubbing a toe last night and cussing out loud means to be happy and happy, but in this context the speaker is saying that he was happy and happy.',\n",
              " 'label: Entailment explanation: Stubbing a toe last night and cussing out loud means to be happy and happy, but in this context the speaker is saying that he was happy and happy.',\n",
              " 'label: Entailment explanation: Stubbing a toe last night and cussing out loud means to be happy and happy, but in this context the speaker is saying that he was happy and happy.',\n",
              " 'label: Entailment explanation: Stubbing a toe last night and cussing out loud means to be happy and happy, but in this context the speaker is saying that he was happy and happy.',\n",
              " 'label: Entailment explanation: Stubbing a toe last night and cussing out loud means to be happy and happy, but in this context the speaker is saying that he was happy and happy.',\n",
              " 'label: Entailment explanation: Stubbing a toe last night and cussing out loud means to be happy and happy, but in this context the speaker is saying that he was happy and happy.',\n",
              " 'label: Entailment explanation: Stubbing a toe last night and cussing out loud means to be happy and happy, but in this context the speaker is saying that he was happy and happy.',\n",
              " 'label: Entailment explanation: Stubbing a toe last night and cussing out loud means to be happy and happy, but in this context the speaker is saying that he was happy and happy.',\n",
              " 'label: Entailment explanation: Stubbing a toe last night and cussing out loud means to be happy and happy, but in this context the speaker is saying that he was happy and happy.',\n",
              " 'label: Entailment explanation: Stubbing a toe last night and cussing out loud means to be happy and happy, but in this context the speaker is saying that he was happy and happy.',\n",
              " 'label: Entailment explanation: Stubbing a toe last night and cussing out loud means to be happy and happy, but in this context the speaker is saying that he was happy and happy.',\n",
              " 'label: Entailment explanation: Stubbing a toe last night and cussing out loud means to be happy and happy, but in this context the speaker is saying that he was happy and happy.',\n",
              " 'label: Entailment explanation: Stubbing a toe last night and cussing out loud means to be happy and happy, but in this context the speaker is saying that he was happy and happy.',\n",
              " 'label: Entailment explanation: Stubbing a toe last night and cussing out loud means to be happy and happy, but in this context the speaker is saying that he was happy and happy.',\n",
              " 'label: Entailment explanation: Stubbing a toe last night and cussing out loud means to be happy and happy, but in this context the speaker is saying that he was happy and happy.',\n",
              " 'label: Entailment explanation: Stubbing a toe last night and cussing out loud means to be happy and happy, but in this context the speaker is saying that he was happy and happy.',\n",
              " 'label: Entailment explanation: Stubbing a toe last night and cussing out loud means to be happy and happy, but in this context the speaker is saying that he was happy and happy.',\n",
              " 'label: Entailment explanation: Stubbing a toe last night and cussing out loud means to be happy and happy, but in this context the speaker is saying that he was happy and happy.',\n",
              " 'label: Entailment explanation: Stubbing a toe last night and cussing out loud means to be happy and happy, but in this context the speaker is saying that he was happy and happy.',\n",
              " 'label: Entailment explanation: Stubbing a toe last night and cussing out loud means to be happy and happy, but in this context the speaker is saying that he was happy and happy.',\n",
              " 'label: Entailment explanation: Stubbing a toe last night and cussing out loud means to be happy and happy, but in this context the speaker is saying that he was happy and happy.',\n",
              " 'label: Entailment explanation: Stubbing a toe last night and cussing out loud means to be happy and happy, but in this context the speaker is saying that he was happy and happy.',\n",
              " 'label: Entailment explanation: Stubbing a toe last night and cussing out loud means to be happy and happy, but in this context the speaker is saying that he was happy and happy.',\n",
              " 'label: Entailment explanation: Stubbing a toe last night and cussing out loud means to be happy and happy, but in this context the speaker is saying that he was happy and happy.',\n",
              " 'label: Entailment explanation: Stubbing a toe last night and cussing out loud means to be happy and happy, but in this context the speaker is saying that he was happy and happy.',\n",
              " 'label: Entailment explanation: Stubbing a toe last night and cussing out loud means to be happy and happy, but in this context the speaker is saying that he was happy and happy.',\n",
              " 'label: Entailment explanation: Stubbing a toe last night and cussing out loud means to be happy and happy, but in this context the speaker is saying that he was happy and happy.',\n",
              " 'label: Entailment explanation: Stubbing a toe last night and cussing out loud means to be happy and happy, but in this context the speaker is saying that he was happy and happy.',\n",
              " 'label: Entailment explanation: Stubbing a toe last night and cussing out loud means to be happy and happy, but in this context the speaker is saying that he was happy and happy.',\n",
              " 'label: Entailment explanation: Stubbing a toe last night and cussing out loud means to be happy and happy, but in this context the speaker is saying that he was happy and happy.',\n",
              " 'label: Entailment explanation: Stubbing a toe last night and cussing out loud means to be happy and happy, but in this context the speaker is saying that he was happy and happy.',\n",
              " 'label: Entailment explanation: Stubbing a toe last night and cussing out loud means to be happy and happy, but in this context the speaker is saying that he was happy and happy.',\n",
              " 'label: Entailment explanation: Stubbing a toe last night and cussing out loud means to be happy and happy, but in this context the speaker is saying that he was happy and happy.',\n",
              " 'label: Entailment explanation: Stubbing a toe last night and cussing out loud means to be happy and happy, but in this context the speaker is saying that he was happy and happy.',\n",
              " 'label: Entailment explanation: Stubbing a toe last night and cussing out loud means to be happy and happy, but in this context the speaker is saying that he was happy and happy.',\n",
              " 'label: Entailment explanation: Stubbing a toe last night and cussing out loud means to be happy and happy, but in this context the speaker is saying that he was happy and happy.',\n",
              " 'label: Entailment explanation: Stubbing a toe last night and cussing out loud means to be happy and happy, but in this context the speaker is saying that he was happy and happy.',\n",
              " 'label: Entailment explanation: Stubbing a toe last night and cussing out loud means to be happy and happy, but in this context the speaker is saying that he was happy and happy.',\n",
              " 'label: Entailment explanation: Stubbing a toe last night and cussing out loud means to be happy and happy, but in this context the speaker is saying that he was happy and happy.',\n",
              " 'label: Entailment explanation: Stubbing a toe last night and cussing out loud means to be happy and happy, but in this context the speaker is saying that he was happy and happy.',\n",
              " 'label: Entailment explanation: Stubbing a toe last night and cussing out loud means to be happy and happy, but in this context the speaker is saying that he was happy and happy.',\n",
              " 'label: Entailment explanation: Stubbing a toe last night and cussing out loud means to be happy and happy, but in this context the speaker is saying that he was happy and happy.',\n",
              " 'label: Entailment explanation: Stubbing a toe last night and cussing out loud means to be happy and happy, but in this context the speaker is saying that he was happy and happy.',\n",
              " 'label: Entailment explanation: Stubbing a toe last night and cussing out loud means to be happy and happy, but in this context the speaker is saying that he was happy and happy.',\n",
              " 'label: Entailment explanation: Stubbing a toe last night and cussing out loud means to be happy and happy, but in this context the speaker is saying that he was happy and happy.',\n",
              " 'label: Entailment explanation: Stubbing a toe last night and cussing out loud means to be happy and happy, but in this context the speaker is saying that he was happy and happy.',\n",
              " 'label: Entailment explanation: Stubbing a toe last night and cussing out loud means to be happy and happy, but in this context the speaker is saying that he was happy and happy.',\n",
              " 'label: Entailment explanation: Stubbing a toe last night and cussing out loud means to be happy and happy, but in this context the speaker is saying that he was happy and happy.',\n",
              " 'label: Entailment explanation: Stubbing a toe last night and cussing out loud means to be happy and happy, but in this context the speaker is saying that he was happy and happy.',\n",
              " 'label: Entailment explanation: Stubbing a toe last night and cussing out loud means to be happy and happy, but in this context the speaker is saying that he was happy and happy.',\n",
              " 'label: Entailment explanation: Stubbing a toe last night and cussing out loud means to be happy and happy, but in this context the speaker is saying that he was happy and happy.',\n",
              " 'label: Entailment explanation: Stubbing a toe last night and cussing out loud means to be happy and happy, but in this context the speaker is saying that he was happy and happy.',\n",
              " 'label: Entailment explanation: Stubbing a toe last night and cussing out loud means to be happy and happy, but in this context the speaker is saying that he was happy and happy.',\n",
              " 'label: Entailment explanation: Stubbing a toe last night and cussing out loud means to be happy and happy, but in this context the speaker is saying that he was happy and happy.',\n",
              " 'label: Entailment explanation: Stubbing a toe last night and cussing out loud means to be happy and happy, but in this context the speaker is saying that he was happy and happy.',\n",
              " 'label: Entailment explanation: Stubbing a toe last night and cussing out loud means to be happy and happy, but in this context the speaker is saying that he was happy and happy.',\n",
              " 'label: Entailment explanation: Stubbing a toe last night and cussing out loud means to be happy and happy, but in this context the speaker is saying that he was happy and happy.',\n",
              " 'label: Entailment explanation: Stubbing a toe last night and cussing out loud means to be happy and happy, but in this context the speaker is saying that he was happy and happy.',\n",
              " 'label: Entailment explanation: Stubbing a toe last night and cussing out loud means to be happy and happy, but in this context the speaker is saying that he was happy and happy.',\n",
              " 'label: Entailment explanation: Stubbing a toe last night and cussing out loud means to be happy and happy, but in this context the speaker is saying that he was happy and happy.',\n",
              " 'label: Entailment explanation: Stubbing a toe last night and cussing out loud means to be happy and happy, but in this context the speaker is saying that he was happy and happy.',\n",
              " 'label: Entailment explanation: Stubbing a toe last night and cussing out loud means to be happy and happy, but in this context the speaker is saying that he was happy and happy.',\n",
              " 'label: Entailment explanation: Stubbing a toe last night and cussing out loud means to be happy and happy, but in this context the speaker is saying that he was happy and happy.',\n",
              " 'label: Entailment explanation: Stubbing a toe last night and cussing out loud means to be happy and happy, but in this context the speaker is saying that he was happy and happy.',\n",
              " 'label: Entailment explanation: Stubbing a toe last night and cussing out loud means to be happy and happy, but in this context the speaker is saying that he was happy and happy.',\n",
              " 'label: Entailment explanation: Stubbing a toe last night and cussing out loud means to be happy and happy, but in this context the speaker is saying that he was happy and happy.',\n",
              " 'label: Entailment explanation: Stubbing a toe last night and cussing out loud means to be happy and happy, but in this context the speaker is saying that he was happy and happy.',\n",
              " 'label: Entailment explanation: Stubbing a toe last night and cussing out loud means to be happy and happy, but in this context the speaker is saying that he was happy and happy.',\n",
              " 'label: Entailment explanation: Stubbing a toe last night and cussing out loud means to be happy and happy, but in this context the speaker is saying that he was happy and happy.',\n",
              " 'label: Entailment explanation: Stubbing a toe last night and cussing out loud means to be happy and happy, but in this context the speaker is saying that he was happy and happy.',\n",
              " 'label: Entailment explanation: Stubbing a toe last night and cussing out loud means to be happy and happy, but in this context the speaker is saying that he was happy and happy.',\n",
              " 'label: Entailment explanation: Stubbing a toe last night and cussing out loud means to be happy and happy, but in this context the speaker is saying that he was happy and happy.',\n",
              " 'label: Entailment explanation: Stubbing a toe last night and cussing out loud means to be happy and happy, but in this context the speaker is saying that he was happy and happy.',\n",
              " 'label: Entailment explanation: Stubbing a toe last night and cussing out loud means to be happy and happy, but in this context the speaker is saying that he was happy and happy.',\n",
              " 'label: Entailment explanation: Stubbing a toe last night and cussing out loud means to be happy and happy, but in this context the speaker is saying that he was happy and happy.',\n",
              " 'label: Entailment explanation: Stubbing a toe last night and cussing out loud means to be happy and happy, but in this context the speaker is saying that he was happy and happy.',\n",
              " 'label: Entailment explanation: Stubbing a toe last night and cussing out loud means to be happy and happy, but in this context the speaker is saying that he was happy and happy.',\n",
              " 'label: Entailment explanation: Stubbing a toe last night and cussing out loud means to be happy and happy, but in this context the speaker is saying that he was happy and happy.',\n",
              " 'label: Entailment explanation: Stubbing a toe last night and cussing out loud means to be happy and happy, but in this context the speaker is saying that he was happy and happy.',\n",
              " 'label: Entailment explanation: Stubbing a toe last night and cussing out loud means to be happy and happy, but in this context the speaker is saying that he was happy and happy.',\n",
              " 'label: Entailment explanation: Stubbing a toe last night and cussing out loud means to be happy and happy, but in this context the speaker is saying that he was happy and happy.',\n",
              " 'label: Entailment explanation: Stubbing a toe last night and cussing out loud means to be happy and happy, but in this context the speaker is saying that he was happy and happy.',\n",
              " 'label: Entailment explanation: Stubbing a toe last night and cussing out loud means to be happy and happy, but in this context the speaker is saying that he was happy and happy.',\n",
              " 'label: Entailment explanation: Stubbing a toe last night and cussing out loud means to be happy and happy, but in this context the speaker is saying that he was happy and happy.',\n",
              " 'label: Entailment explanation: Stubbing a toe last night and cussing out loud means to be happy and happy, but in this context the speaker is saying that he was happy and happy.',\n",
              " 'label: Entailment explanation: Stubbing a toe last night and cussing out loud means to be happy and happy, but in this context the speaker is saying that he was happy and happy.',\n",
              " 'label: Entailment explanation: Stubbing a toe last night and cussing out loud means to be happy and happy, but in this context the speaker is saying that he was happy and happy.',\n",
              " 'label: Entailment explanation: Stubbing a toe last night and cussing out loud means to be happy and happy, but in this context the speaker is saying that he was happy and happy.',\n",
              " 'label: Entailment explanation: Stubbing a toe last night and cussing out loud means to be happy and happy, but in this context the speaker is saying that he was happy and happy.',\n",
              " 'label: Entailment explanation: Stubbing a toe last night and cussing out loud means to be happy and happy, but in this context the speaker is saying that he was happy and happy.',\n",
              " 'label: Entailment explanation: Stubbing a toe last night and cussing out loud means to be happy and happy, but in this context the speaker is saying that he was happy and happy.',\n",
              " 'label: Entailment explanation: Stubbing a toe last night and cussing out loud means to be happy and happy, but in this context the speaker is saying that he was happy and happy.',\n",
              " 'label: Entailment explanation: Stubbing a toe last night and cussing out loud means to be happy and happy, but in this context the speaker is saying that he was happy and happy.',\n",
              " 'label: Entailment explanation: Stubbing a toe last night and cussing out loud means to be happy and happy, but in this context the speaker is saying that he was happy and happy.',\n",
              " 'label: Entailment explanation: Stubbing a toe last night and cussing out loud means to be happy and happy, but in this context the speaker is saying that he was happy and happy.',\n",
              " 'label: Entailment explanation: Stubbing a toe last night and cussing out loud means to be happy and happy, but in this context the speaker is saying that he was happy and happy.',\n",
              " 'label: Entailment explanation: Stubbing a toe last night and cussing out loud means to be happy and happy, but in this context the speaker is saying that he was happy and happy.',\n",
              " 'label: Entailment explanation: Stubbing a toe last night and cussing out loud means to be happy and happy, but in this context the speaker is saying that he was happy and happy.',\n",
              " 'label: Entailment explanation: Stubbing a toe last night and cussing out loud means to be happy and happy, but in this context the speaker is saying that he was happy and happy.',\n",
              " 'label: Entailment explanation: Stubbing a toe last night and cussing out loud means to be happy and happy, but in this context the speaker is saying that he was happy and happy.',\n",
              " 'label: Entailment explanation: Stubbing a toe last night and cussing out loud means to be happy and happy, but in this context the speaker is saying that he was happy and happy.',\n",
              " 'label: Entailment explanation: Stubbing a toe last night and cussing out loud means to be happy and happy, but in this context the speaker is saying that he was happy and happy.',\n",
              " 'label: Entailment explanation: Stubbing a toe last night and cussing out loud means to be happy and happy, but in this context the speaker is saying that he was happy and happy.',\n",
              " 'label: Entailment explanation: Stubbing a toe last night and cussing out loud means to be happy and happy, but in this context the speaker is saying that he was happy and happy.',\n",
              " 'label: Entailment explanation: Stubbing a toe last night and cussing out loud means to be happy and happy, but in this context the speaker is saying that he was happy and happy.',\n",
              " 'label: Entailment explanation: Stubbing a toe last night and cussing out loud means to be happy and happy, but in this context the speaker is saying that he was happy and happy.',\n",
              " 'label: Entailment explanation: Stubbing a toe last night and cussing out loud means to be happy and happy, but in this context the speaker is saying that he was happy and happy.',\n",
              " 'label: Entailment explanation: Stubbing a toe last night and cussing out loud means to be happy and happy, but in this context the speaker is saying that he was happy and happy.',\n",
              " 'label: Entailment explanation: Stubbing a toe last night and cussing out loud means to be happy and happy, but in this context the speaker is saying that he was happy and happy.',\n",
              " 'label: Entailment explanation: Stubbing a toe last night and cussing out loud means to be happy and happy, but in this context the speaker is saying that he was happy and happy.',\n",
              " 'label: Entailment explanation: Stubbing a toe last night and cussing out loud means to be happy and happy, but in this context the speaker is saying that he was happy and happy.',\n",
              " 'label: Entailment explanation: Stubbing a toe last night and cussing out loud means to be happy and happy, but in this context the speaker is saying that he was happy and happy.',\n",
              " 'label: Entailment explanation: Stubbing a toe last night and cussing out loud means to be happy and happy, but in this context the speaker is saying that he was happy and happy.',\n",
              " 'label: Entailment explanation: Stubbing a toe last night and cussing out loud means to be happy and happy, but in this context the speaker is saying that he was happy and happy.',\n",
              " 'label: Entailment explanation: Stubbing a toe last night and cussing out loud means to be happy and happy, but in this context the speaker is saying that he was happy and happy.',\n",
              " 'label: Entailment explanation: Stubbing a toe last night and cussing out loud means to be happy and happy, but in this context the speaker is saying that he was happy and happy.',\n",
              " 'label: Entailment explanation: Stubbing a toe last night and cussing out loud means to be happy and happy, but in this context the speaker is saying that he was happy and happy.',\n",
              " 'label: Entailment explanation: Stubbing a toe last night and cussing out loud means to be happy and happy, but in this context the speaker is saying that he was happy and happy.',\n",
              " 'label: Entailment explanation: Stubbing a toe last night and cussing out loud means to be happy and happy, but in this context the speaker is saying that he was happy and happy.',\n",
              " 'label: Entailment explanation: Stubbing a toe last night and cussing out loud means to be happy and happy, but in this context the speaker is saying that he was happy and happy.',\n",
              " 'label: Entailment explanation: Stubbing a toe last night and cussing out loud means to be happy and happy, but in this context the speaker is saying that he was happy and happy.',\n",
              " 'label: Entailment explanation: Stubbing a toe last night and cussing out loud means to be happy and happy, but in this context the speaker is saying that he was happy and happy.',\n",
              " 'label: Entailment explanation: Stubbing a toe last night and cussing out loud means to be happy and happy, but in this context the speaker is saying that he was happy and happy.',\n",
              " 'label: Entailment explanation: Stubbing a toe last night and cussing out loud means to be happy and happy, but in this context the speaker is saying that he was happy and happy.',\n",
              " 'label: Entailment explanation: Stubbing a toe last night and cussing out loud means to be happy and happy, but in this context the speaker is saying that he was happy and happy.',\n",
              " 'label: Entailment explanation: Stubbing a toe last night and cussing out loud means to be happy and happy, but in this context the speaker is saying that he was happy and happy.',\n",
              " 'label: Entailment explanation: Stubbing a toe last night and cussing out loud means to be happy and happy, but in this context the speaker is saying that he was happy and happy.',\n",
              " 'label: Entailment explanation: Stubbing a toe last night and cussing out loud means to be happy and happy, but in this context the speaker is saying that he was happy and happy.',\n",
              " 'label: Entailment explanation: Stubbing a toe last night and cussing out loud means to be happy and happy, but in this context the speaker is saying that he was happy and happy.',\n",
              " 'label: Entailment explanation: Stubbing a toe last night and cussing out loud means to be happy and happy, but in this context the speaker is saying that he was happy and happy.',\n",
              " 'label: Entailment explanation: Stubbing a toe last night and cussing out loud means to be happy and happy, but in this context the speaker is saying that he was happy and happy.',\n",
              " 'label: Entailment explanation: Stubbing a toe last night and cussing out loud means to be happy and happy, but in this context the speaker is saying that he was happy and happy.',\n",
              " 'label: Entailment explanation: Stubbing a toe last night and cussing out loud means to be happy and happy, but in this context the speaker is saying that he was happy and happy.',\n",
              " 'label: Entailment explanation: Stubbing a toe last night and cussing out loud means to be happy and happy, but in this context the speaker is saying that he was happy and happy.',\n",
              " 'label: Entailment explanation: Stubbing a toe last night and cussing out loud means to be happy and happy, but in this context the speaker is saying that he was happy and happy.',\n",
              " 'label: Entailment explanation: Stubbing a toe last night and cussing out loud means to be happy and happy, but in this context the speaker is saying that he was happy and happy.',\n",
              " 'label: Entailment explanation: Stubbing a toe last night and cussing out loud means to be happy and happy, but in this context the speaker is saying that he was happy and happy.',\n",
              " 'label: Entailment explanation: Stubbing a toe last night and cussing out loud means to be happy and happy, but in this context the speaker is saying that he was happy and happy.',\n",
              " 'label: Entailment explanation: Stubbing a toe last night and cussing out loud means to be happy and happy, but in this context the speaker is saying that he was happy and happy.',\n",
              " 'label: Entailment explanation: Stubbing a toe last night and cussing out loud means to be happy and happy, but in this context the speaker is saying that he was happy and happy.',\n",
              " 'label: Entailment explanation: Stubbing a toe last night and cussing out loud means to be happy and happy, but in this context the speaker is saying that he was happy and happy.',\n",
              " 'label: Entailment explanation: Stubbing a toe last night and cussing out loud means to be happy and happy, but in this context the speaker is saying that he was happy and happy.',\n",
              " 'label: Entailment explanation: Stubbing a toe last night and cussing out loud means to be happy and happy, but in this context the speaker is saying that he was happy and happy.',\n",
              " 'label: Entailment explanation: Stubbing a toe last night and cussing out loud means to be happy and happy, but in this context the speaker is saying that he was happy and happy.',\n",
              " 'label: Entailment explanation: Stubbing a toe last night and cussing out loud means to be happy and happy, but in this context the speaker is saying that he was happy and happy.',\n",
              " 'label: Entailment explanation: Stubbing a toe last night and cussing out loud means to be happy and happy, but in this context the speaker is saying that he was happy and happy.',\n",
              " 'label: Entailment explanation: Stubbing a toe last night and cussing out loud means to be happy and happy, but in this context the speaker is saying that he was happy and happy.',\n",
              " 'label: Entailment explanation: Stubbing a toe last night and cussing out loud means to be happy and happy, but in this context the speaker is saying that he was happy and happy.',\n",
              " 'label: Entailment explanation: Stubbing a toe last night and cussing out loud means to be happy and happy, but in this context the speaker is saying that he was happy and happy.',\n",
              " 'label: Entailment explanation: Stubbing a toe last night and cussing out loud means to be happy and happy, but in this context the speaker is saying that he was happy and happy.',\n",
              " 'label: Entailment explanation: Stubbing a toe last night and cussing out loud means to be happy and happy, but in this context the speaker is saying that he was happy and happy.',\n",
              " 'label: Entailment explanation: Stubbing a toe last night and cussing out loud means to be happy and happy, but in this context the speaker is saying that he was happy and happy.',\n",
              " 'label: Entailment explanation: Stubbing a toe last night and cussing out loud means to be happy and happy, but in this context the speaker is saying that he was happy and happy.',\n",
              " 'label: Entailment explanation: Stubbing a toe last night and cussing out loud means to be happy and happy, but in this context the speaker is saying that he was happy and happy.',\n",
              " 'label: Entailment explanation: Stubbing a toe last night and cussing out loud means to be happy and happy, but in this context the speaker is saying that he was happy and happy.',\n",
              " 'label: Entailment explanation: Stubbing a toe last night and cussing out loud means to be happy and happy, but in this context the speaker is saying that he was happy and happy.',\n",
              " 'label: Entailment explanation: Stubbing a toe last night and cussing out loud means to be happy and happy, but in this context the speaker is saying that he was happy and happy.',\n",
              " 'label: Entailment explanation: Stubbing a toe last night and cussing out loud means to be happy and happy, but in this context the speaker is saying that he was happy and happy.',\n",
              " 'label: Entailment explanation: Stubbing a toe last night and cussing out loud means to be happy and happy, but in this context the speaker is saying that he was happy and happy.',\n",
              " 'label: Entailment explanation: Stubbing a toe last night and cussing out loud means to be happy and happy, but in this context the speaker is saying that he was happy and happy.',\n",
              " 'label: Entailment explanation: Stubbing a toe last night and cussing out loud means to be happy and happy, but in this context the speaker is saying that he was happy and happy.',\n",
              " 'label: Entailment explanation: Stubbing a toe last night and cussing out loud means to be happy and happy, but in this context the speaker is saying that he was happy and happy.',\n",
              " 'label: Entailment explanation: Stubbing a toe last night and cussing out loud means to be happy and happy, but in this context the speaker is saying that he was happy and happy.',\n",
              " 'label: Entailment explanation: Stubbing a toe last night and cussing out loud means to be happy and happy, but in this context the speaker is saying that he was happy and happy.',\n",
              " 'label: Entailment explanation: Stubbing a toe last night and cussing out loud means to be happy and happy, but in this context the speaker is saying that he was happy and happy.',\n",
              " 'label: Entailment explanation: Stubbing a toe last night and cussing out loud means to be happy and happy, but in this context the speaker is saying that he was happy and happy.',\n",
              " 'label: Entailment explanation: Stubbing a toe last night and cussing out loud means to be happy and happy, but in this context the speaker is saying that he was happy and happy.',\n",
              " 'label: Entailment explanation: Stubbing a toe last night and cussing out loud means to be happy and happy, but in this context the speaker is saying that he was happy and happy.',\n",
              " 'label: Entailment explanation: Stubbing a toe last night and cussing out loud means to be happy and happy, but in this context the speaker is saying that he was happy and happy.',\n",
              " 'label: Entailment explanation: Stubbing a toe last night and cussing out loud means to be happy and happy, but in this context the speaker is saying that he was happy and happy.',\n",
              " 'label: Entailment explanation: Stubbing a toe last night and cussing out loud means to be happy and happy, but in this context the speaker is saying that he was happy and happy.',\n",
              " 'label: Entailment explanation: Stubbing a toe last night and cussing out loud means to be happy and happy, but in this context the speaker is saying that he was happy and happy.',\n",
              " 'label: Entailment explanation: Stubbing a toe last night and cussing out loud means to be happy and happy, but in this context the speaker is saying that he was happy and happy.',\n",
              " 'label: Entailment explanation: Stubbing a toe last night and cussing out loud means to be happy and happy, but in this context the speaker is saying that he was happy and happy.',\n",
              " 'label: Entailment explanation: Stubbing a toe last night and cussing out loud means to be happy and happy, but in this context the speaker is saying that he was happy and happy.',\n",
              " 'label: Entailment explanation: Stubbing a toe last night and cussing out loud means to be happy and happy, but in this context the speaker is saying that he was happy and happy.',\n",
              " 'label: Entailment explanation: Stubbing a toe last night and cussing out loud means to be happy and happy, but in this context the speaker is saying that he was happy and happy.',\n",
              " 'label: Entailment explanation: Stubbing a toe last night and cussing out loud means to be happy and happy, but in this context the speaker is saying that he was happy and happy.',\n",
              " 'label: Entailment explanation: Stubbing a toe last night and cussing out loud means to be happy and happy, but in this context the speaker is saying that he was happy and happy.',\n",
              " 'label: Entailment explanation: Stubbing a toe last night and cussing out loud means to be happy and happy, but in this context the speaker is saying that he was happy and happy.',\n",
              " 'label: Entailment explanation: Stubbing a toe last night and cussing out loud means to be happy and happy, but in this context the speaker is saying that he was happy and happy.',\n",
              " 'label: Entailment explanation: Stubbing a toe last night and cussing out loud means to be happy and happy, but in this context the speaker is saying that he was happy and happy.',\n",
              " 'label: Entailment explanation: Stubbing a toe last night and cussing out loud means to be happy and happy, but in this context the speaker is saying that he was happy and happy.',\n",
              " 'label: Entailment explanation: Stubbing a toe last night and cussing out loud means to be happy and happy, but in this context the speaker is saying that he was happy and happy.',\n",
              " 'label: Entailment explanation: Stubbing a toe last night and cussing out loud means to be happy and happy, but in this context the speaker is saying that he was happy and happy.',\n",
              " 'label: Entailment explanation: Stubbing a toe last night and cussing out loud means to be happy and happy, but in this context the speaker is saying that he was happy and happy.',\n",
              " 'label: Entailment explanation: Stubbing a toe last night and cussing out loud means to be happy and happy, but in this context the speaker is saying that he was happy and happy.',\n",
              " 'label: Entailment explanation: Stubbing a toe last night and cussing out loud means to be happy and happy, but in this context the speaker is saying that he was happy and happy.',\n",
              " 'label: Entailment explanation: Stubbing a toe last night and cussing out loud means to be happy and happy, but in this context the speaker is saying that he was happy and happy.',\n",
              " 'label: Entailment explanation: Stubbing a toe last night and cussing out loud means to be happy and happy, but in this context the speaker is saying that he was happy and happy.',\n",
              " 'label: Entailment explanation: Stubbing a toe last night and cussing out loud means to be happy and happy, but in this context the speaker is saying that he was happy and happy.',\n",
              " 'label: Entailment explanation: Stubbing a toe last night and cussing out loud means to be happy and happy, but in this context the speaker is saying that he was happy and happy.',\n",
              " 'label: Entailment explanation: Stubbing a toe last night and cussing out loud means to be happy and happy, but in this context the speaker is saying that he was happy and happy.',\n",
              " 'label: Entailment explanation: Stubbing a toe last night and cussing out loud means to be happy and happy, but in this context the speaker is saying that he was happy and happy.',\n",
              " 'label: Entailment explanation: Stubbing a toe last night and cussing out loud means to be happy and happy, but in this context the speaker is saying that he was happy and happy.',\n",
              " 'label: Entailment explanation: Stubbing a toe last night and cussing out loud means to be happy and happy, but in this context the speaker is saying that he was happy and happy.',\n",
              " 'label: Entailment explanation: Stubbing a toe last night and cussing out loud means to be happy and happy, but in this context the speaker is saying that he was happy and happy.',\n",
              " 'label: Entailment explanation: Stubbing a toe last night and cussing out loud means to be happy and happy, but in this context the speaker is saying that he was happy and happy.',\n",
              " 'label: Entailment explanation: Stubbing a toe last night and cussing out loud means to be happy and happy, but in this context the speaker is saying that he was happy and happy.',\n",
              " 'label: Entailment explanation: Stubbing a toe last night and cussing out loud means to be happy and happy, but in this context the speaker is saying that he was happy and happy.',\n",
              " 'label: Entailment explanation: Stubbing a toe last night and cussing out loud means to be happy and happy, but in this context the speaker is saying that he was happy and happy.',\n",
              " 'label: Entailment explanation: Stubbing a toe last night and cussing out loud means to be happy and happy, but in this context the speaker is saying that he was happy and happy.',\n",
              " 'label: Entailment explanation: Stubbing a toe last night and cussing out loud means to be happy and happy, but in this context the speaker is saying that he was happy and happy.',\n",
              " 'label: Entailment explanation: Stubbing a toe last night and cussing out loud means to be happy and happy, but in this context the speaker is saying that he was happy and happy.',\n",
              " 'label: Entailment explanation: Stubbing a toe last night and cussing out loud means to be happy and happy, but in this context the speaker is saying that he was happy and happy.',\n",
              " 'label: Entailment explanation: Stubbing a toe last night and cussing out loud means to be happy and happy, but in this context the speaker is saying that he was happy and happy.',\n",
              " 'label: Entailment explanation: Stubbing a toe last night and cussing out loud means to be happy and happy, but in this context the speaker is saying that he was happy and happy.',\n",
              " 'label: Entailment explanation: Stubbing a toe last night and cussing out loud means to be happy and happy, but in this context the speaker is saying that he was happy and happy.',\n",
              " 'label: Entailment explanation: Stubbing a toe last night and cussing out loud means to be happy and happy, but in this context the speaker is saying that he was happy and happy.',\n",
              " 'label: Entailment explanation: Stubbing a toe last night and cussing out loud means to be happy and happy, but in this context the speaker is saying that he was happy and happy.',\n",
              " 'label: Entailment explanation: Stubbing a toe last night and cussing out loud means to be happy and happy, but in this context the speaker is saying that he was happy and happy.',\n",
              " 'label: Entailment explanation: Stubbing a toe last night and cussing out loud means to be happy and happy, but in this context the speaker is saying that he was happy and happy.',\n",
              " 'label: Entailment explanation: Stubbing a toe last night and cussing out loud means to be happy and happy, but in this context the speaker is saying that he was happy and happy.',\n",
              " 'label: Entailment explanation: Stubbing a toe last night and cussing out loud means to be happy and happy, but in this context the speaker is saying that he was happy and happy.',\n",
              " 'label: Entailment explanation: Stubbing a toe last night and cussing out loud means to be happy and happy, but in this context the speaker is saying that he was happy and happy.',\n",
              " 'label: Entailment explanation: Stubbing a toe last night and cussing out loud means to be happy and happy, but in this context the speaker is saying that he was happy and happy.',\n",
              " 'label: Entailment explanation: Stubbing a toe last night and cussing out loud means to be happy and happy, but in this context the speaker is saying that he was happy and happy.',\n",
              " 'label: Entailment explanation: Stubbing a toe last night and cussing out loud means to be happy and happy, but in this context the speaker is saying that he was happy and happy.',\n",
              " 'label: Entailment explanation: Stubbing a toe last night and cussing out loud means to be happy and happy, but in this context the speaker is saying that he was happy and happy.',\n",
              " 'label: Entailment explanation: Stubbing a toe last night and cussing out loud means to be happy and happy, but in this context the speaker is saying that he was happy and happy.',\n",
              " 'label: Entailment explanation: Stubbing a toe last night and cussing out loud means to be happy and happy, but in this context the speaker is saying that he was happy and happy.',\n",
              " 'label: Entailment explanation: Stubbing a toe last night and cussing out loud means to be happy and happy, but in this context the speaker is saying that he was happy and happy.',\n",
              " 'label: Entailment explanation: Stubbing a toe last night and cussing out loud means to be happy and happy, but in this context the speaker is saying that he was happy and happy.',\n",
              " 'label: Entailment explanation: Stubbing a toe last night and cussing out loud means to be happy and happy, but in this context the speaker is saying that he was happy and happy.',\n",
              " 'label: Entailment explanation: Stubbing a toe last night and cussing out loud means to be happy and happy, but in this context the speaker is saying that he was happy and happy.',\n",
              " 'label: Entailment explanation: Stubbing a toe last night and cussing out loud means to be happy and happy, but in this context the speaker is saying that he was happy and happy.',\n",
              " 'label: Entailment explanation: Stubbing a toe last night and cussing out loud means to be happy and happy, but in this context the speaker is saying that he was happy and happy.',\n",
              " 'label: Entailment explanation: Stubbing a toe last night and cussing out loud means to be happy and happy, but in this context the speaker is saying that he was happy and happy.',\n",
              " 'label: Entailment explanation: Stubbing a toe last night and cussing out loud means to be happy and happy, but in this context the speaker is saying that he was happy and happy.',\n",
              " 'label: Entailment explanation: Stubbing a toe last night and cussing out loud means to be happy and happy, but in this context the speaker is saying that he was happy and happy.',\n",
              " 'label: Entailment explanation: Stubbing a toe last night and cussing out loud means to be happy and happy, but in this context the speaker is saying that he was happy and happy.',\n",
              " 'label: Entailment explanation: Stubbing a toe last night and cussing out loud means to be happy and happy, but in this context the speaker is saying that he was happy and happy.',\n",
              " 'label: Entailment explanation: Stubbing a toe last night and cussing out loud means to be happy and happy, but in this context the speaker is saying that he was happy and happy.',\n",
              " 'label: Entailment explanation: Stubbing a toe last night and cussing out loud means to be happy and happy, but in this context the speaker is saying that he was happy and happy.',\n",
              " 'label: Entailment explanation: Stubbing a toe last night and cussing out loud means to be happy and happy, but in this context the speaker is saying that he was happy and happy.',\n",
              " 'label: Entailment explanation: Stubbing a toe last night and cussing out loud means to be happy and happy, but in this context the speaker is saying that he was happy and happy.',\n",
              " 'label: Entailment explanation: Stubbing a toe last night and cussing out loud means to be happy and happy, but in this context the speaker is saying that he was happy and happy.',\n",
              " 'label: Entailment explanation: Stubbing a toe last night and cussing out loud means to be happy and happy, but in this context the speaker is saying that he was happy and happy.',\n",
              " 'label: Entailment explanation: Stubbing a toe last night and cussing out loud means to be happy and happy, but in this context the speaker is saying that he was happy and happy.',\n",
              " 'label: Entailment explanation: Stubbing a toe last night and cussing out loud means to be happy and happy, but in this context the speaker is saying that he was happy and happy.',\n",
              " 'label: Entailment explanation: Stubbing a toe last night and cussing out loud means to be happy and happy, but in this context the speaker is saying that he was happy and happy.',\n",
              " 'label: Entailment explanation: Stubbing a toe last night and cussing out loud means to be happy and happy, but in this context the speaker is saying that he was happy and happy.',\n",
              " 'label: Entailment explanation: Stubbing a toe last night and cussing out loud means to be happy and happy, but in this context the speaker is saying that he was happy and happy.',\n",
              " 'label: Entailment explanation: Stubbing a toe last night and cussing out loud means to be happy and happy, but in this context the speaker is saying that he was happy and happy.',\n",
              " 'label: Entailment explanation: Stubbing a toe last night and cussing out loud means to be happy and happy, but in this context the speaker is saying that he was happy and happy.',\n",
              " 'label: Entailment explanation: Stubbing a toe last night and cussing out loud means to be happy and happy, but in this context the speaker is saying that he was happy and happy.',\n",
              " 'label: Entailment explanation: Stubbing a toe last night and cussing out loud means to be happy and happy, but in this context the speaker is saying that he was happy and happy.',\n",
              " 'label: Entailment explanation: Stubbing a toe last night and cussing out loud means to be happy and happy, but in this context the speaker is saying that he was happy and happy.',\n",
              " 'label: Entailment explanation: Stubbing a toe last night and cussing out loud means to be happy and happy, but in this context the speaker is saying that he was happy and happy.',\n",
              " 'label: Entailment explanation: Stubbing a toe last night and cussing out loud means to be happy and happy, but in this context the speaker is saying that he was happy and happy.',\n",
              " 'label: Entailment explanation: Stubbing a toe last night and cussing out loud means to be happy and happy, but in this context the speaker is saying that he was happy and happy.',\n",
              " 'label: Entailment explanation: Stubbing a toe last night and cussing out loud means to be happy and happy, but in this context the speaker is saying that he was happy and happy.',\n",
              " 'label: Entailment explanation: Stubbing a toe last night and cussing out loud means to be happy and happy, but in this context the speaker is saying that he was happy and happy.',\n",
              " 'label: Entailment explanation: Stubbing a toe last night and cussing out loud means to be happy and happy, but in this context the speaker is saying that he was happy and happy.',\n",
              " 'label: Entailment explanation: Stubbing a toe last night and cussing out loud means to be happy and happy, but in this context the speaker is saying that he was happy and happy.',\n",
              " 'label: Entailment explanation: Stubbing a toe last night and cussing out loud means to be happy and happy, but in this context the speaker is saying that he was happy and happy.',\n",
              " 'label: Entailment explanation: Stubbing a toe last night and cussing out loud means to be happy and happy, but in this context the speaker is saying that he was happy and happy.',\n",
              " 'label: Entailment explanation: Stubbing a toe last night and cussing out loud means to be happy and happy, but in this context the speaker is saying that he was happy and happy.',\n",
              " 'label: Entailment explanation: Stubbing a toe last night and cussing out loud means to be happy and happy, but in this context the speaker is saying that he was happy and happy.',\n",
              " 'label: Entailment explanation: Stubbing a toe last night and cussing out loud means to be happy and happy, but in this context the speaker is saying that he was happy and happy.',\n",
              " 'label: Entailment explanation: Stubbing a toe last night and cussing out loud means to be happy and happy, but in this context the speaker is saying that he was happy and happy.',\n",
              " 'label: Entailment explanation: Stubbing a toe last night and cussing out loud means to be happy and happy, but in this context the speaker is saying that he was happy and happy.',\n",
              " 'label: Entailment explanation: Stubbing a toe last night and cussing out loud means to be happy and happy, but in this context the speaker is saying that he was happy and happy.',\n",
              " 'label: Entailment explanation: Stubbing a toe last night and cussing out loud means to be happy and happy, but in this context the speaker is saying that he was happy and happy.',\n",
              " 'label: Entailment explanation: Stubbing a toe last night and cussing out loud means to be happy and happy, but in this context the speaker is saying that he was happy and happy.',\n",
              " 'label: Entailment explanation: Stubbing a toe last night and cussing out loud means to be happy and happy, but in this context the speaker is saying that he was happy and happy.',\n",
              " 'label: Entailment explanation: Stubbing a toe last night and cussing out loud means to be happy and happy, but in this context the speaker is saying that he was happy and happy.',\n",
              " 'label: Entailment explanation: Stubbing a toe last night and cussing out loud means to be happy and happy, but in this context the speaker is saying that he was happy and happy.',\n",
              " 'label: Entailment explanation: Stubbing a toe last night and cussing out loud means to be happy and happy, but in this context the speaker is saying that he was happy and happy.',\n",
              " 'label: Entailment explanation: Stubbing a toe last night and cussing out loud means to be happy and happy, but in this context the speaker is saying that he was happy and happy.',\n",
              " 'label: Entailment explanation: Stubbing a toe last night and cussing out loud means to be happy and happy, but in this context the speaker is saying that he was happy and happy.',\n",
              " 'label: Entailment explanation: Stubbing a toe last night and cussing out loud means to be happy and happy, but in this context the speaker is saying that he was happy and happy.',\n",
              " 'label: Entailment explanation: Stubbing a toe last night and cussing out loud means to be happy and happy, but in this context the speaker is saying that he was happy and happy.',\n",
              " 'label: Entailment explanation: Stubbing a toe last night and cussing out loud means to be happy and happy, but in this context the speaker is saying that he was happy and happy.',\n",
              " 'label: Entailment explanation: Stubbing a toe last night and cussing out loud means to be happy and happy, but in this context the speaker is saying that he was happy and happy.',\n",
              " 'label: Entailment explanation: Stubbing a toe last night and cussing out loud means to be happy and happy, but in this context the speaker is saying that he was happy and happy.',\n",
              " 'label: Entailment explanation: Stubbing a toe last night and cussing out loud means to be happy and happy, but in this context the speaker is saying that he was happy and happy.',\n",
              " 'label: Entailment explanation: Stubbing a toe last night and cussing out loud means to be happy and happy, but in this context the speaker is saying that he was happy and happy.',\n",
              " 'label: Entailment explanation: Stubbing a toe last night and cussing out loud means to be happy and happy, but in this context the speaker is saying that he was happy and happy.',\n",
              " 'label: Entailment explanation: Stubbing a toe last night and cussing out loud means to be happy and happy, but in this context the speaker is saying that he was happy and happy.',\n",
              " 'label: Entailment explanation: Stubbing a toe last night and cussing out loud means to be happy and happy, but in this context the speaker is saying that he was happy and happy.',\n",
              " 'label: Entailment explanation: Stubbing a toe last night and cussing out loud means to be happy and happy, but in this context the speaker is saying that he was happy and happy.',\n",
              " 'label: Entailment explanation: Stubbing a toe last night and cussing out loud means to be happy and happy, but in this context the speaker is saying that he was happy and happy.',\n",
              " 'label: Entailment explanation: Stubbing a toe last night and cussing out loud means to be happy and happy, but in this context the speaker is saying that he was happy and happy.',\n",
              " 'label: Entailment explanation: Stubbing a toe last night and cussing out loud means to be happy and happy, but in this context the speaker is saying that he was happy and happy.',\n",
              " 'label: Entailment explanation: Stubbing a toe last night and cussing out loud means to be happy and happy, but in this context the speaker is saying that he was happy and happy.',\n",
              " 'label: Entailment explanation: Stubbing a toe last night and cussing out loud means to be happy and happy, but in this context the speaker is saying that he was happy and happy.',\n",
              " 'label: Entailment explanation: Stubbing a toe last night and cussing out loud means to be happy and happy, but in this context the speaker is saying that he was happy and happy.',\n",
              " 'label: Entailment explanation: Stubbing a toe last night and cussing out loud means to be happy and happy, but in this context the speaker is saying that he was happy and happy.',\n",
              " 'label: Entailment explanation: Stubbing a toe last night and cussing out loud means to be happy and happy, but in this context the speaker is saying that he was happy and happy.',\n",
              " 'label: Entailment explanation: Stubbing a toe last night and cussing out loud means to be happy and happy, but in this context the speaker is saying that he was happy and happy.',\n",
              " 'label: Entailment explanation: Stubbing a toe last night and cussing out loud means to be happy and happy, but in this context the speaker is saying that he was happy and happy.',\n",
              " 'label: Entailment explanation: Stubbing a toe last night and cussing out loud means to be happy and happy, but in this context the speaker is saying that he was happy and happy.',\n",
              " 'label: Entailment explanation: Stubbing a toe last night and cussing out loud means to be happy and happy, but in this context the speaker is saying that he was happy and happy.',\n",
              " 'label: Entailment explanation: Stubbing a toe last night and cussing out loud means to be happy and happy, but in this context the speaker is saying that he was happy and happy.',\n",
              " 'label: Entailment explanation: Stubbing a toe last night and cussing out loud means to be happy and happy, but in this context the speaker is saying that he was happy and happy.',\n",
              " 'label: Entailment explanation: Stubbing a toe last night and cussing out loud means to be happy and happy, but in this context the speaker is saying that he was happy and happy.',\n",
              " 'label: Entailment explanation: Stubbing a toe last night and cussing out loud means to be happy and happy, but in this context the speaker is saying that he was happy and happy.',\n",
              " 'label: Entailment explanation: Stubbing a toe last night and cussing out loud means to be happy and happy, but in this context the speaker is saying that he was happy and happy.',\n",
              " 'label: Entailment explanation: Stubbing a toe last night and cussing out loud means to be happy and happy, but in this context the speaker is saying that he was happy and happy.',\n",
              " 'label: Entailment explanation: Stubbing a toe last night and cussing out loud means to be happy and happy, but in this context the speaker is saying that he was happy and happy.',\n",
              " 'label: Entailment explanation: Stubbing a toe last night and cussing out loud means to be happy and happy, but in this context the speaker is saying that he was happy and happy.',\n",
              " 'label: Entailment explanation: Stubbing a toe last night and cussing out loud means to be happy and happy, but in this context the speaker is saying that he was happy and happy.',\n",
              " 'label: Entailment explanation: Stubbing a toe last night and cussing out loud means to be happy and happy, but in this context the speaker is saying that he was happy and happy.',\n",
              " 'label: Entailment explanation: Stubbing a toe last night and cussing out loud means to be happy and happy, but in this context the speaker is saying that he was happy and happy.',\n",
              " 'label: Entailment explanation: Stubbing a toe last night and cussing out loud means to be happy and happy, but in this context the speaker is saying that he was happy and happy.',\n",
              " 'label: Entailment explanation: Stubbing a toe last night and cussing out loud means to be happy and happy, but in this context the speaker is saying that he was happy and happy.',\n",
              " 'label: Entailment explanation: Stubbing a toe last night and cussing out loud means to be happy and happy, but in this context the speaker is saying that he was happy and happy.',\n",
              " 'label: Entailment explanation: Stubbing a toe last night and cussing out loud means to be happy and happy, but in this context the speaker is saying that he was happy and happy.',\n",
              " 'label: Entailment explanation: Stubbing a toe last night and cussing out loud means to be happy and happy, but in this context the speaker is saying that he was happy and happy.',\n",
              " 'label: Entailment explanation: Stubbing a toe last night and cussing out loud means to be happy and happy, but in this context the speaker is saying that he was happy and happy.',\n",
              " 'label: Entailment explanation: Stubbing a toe last night and cussing out loud means to be happy and happy, but in this context the speaker is saying that he was happy and happy.',\n",
              " 'label: Entailment explanation: Stubbing a toe last night and cussing out loud means to be happy and happy, but in this context the speaker is saying that he was happy and happy.',\n",
              " 'label: Entailment explanation: Stubbing a toe last night and cussing out loud means to be happy and happy, but in this context the speaker is saying that he was happy and happy.',\n",
              " 'label: Entailment explanation: Stubbing a toe last night and cussing out loud means to be happy and happy, but in this context the speaker is saying that he was happy and happy.',\n",
              " 'label: Entailment explanation: Stubbing a toe last night and cussing out loud means to be happy and happy, but in this context the speaker is saying that he was happy and happy.',\n",
              " 'label: Entailment explanation: Stubbing a toe last night and cussing out loud means to be happy and happy, but in this context the speaker is saying that he was happy and happy.',\n",
              " 'label: Entailment explanation: Stubbing a toe last night and cussing out loud means to be happy and happy, but in this context the speaker is saying that he was happy and happy.',\n",
              " 'label: Entailment explanation: Stubbing a toe last night and cussing out loud means to be happy and happy, but in this context the speaker is saying that he was happy and happy.',\n",
              " 'label: Entailment explanation: Stubbing a toe last night and cussing out loud means to be happy and happy, but in this context the speaker is saying that he was happy and happy.',\n",
              " 'label: Entailment explanation: Stubbing a toe last night and cussing out loud means to be happy and happy, but in this context the speaker is saying that he was happy and happy.',\n",
              " 'label: Entailment explanation: Stubbing a toe last night and cussing out loud means to be happy and happy, but in this context the speaker is saying that he was happy and happy.',\n",
              " 'label: Entailment explanation: Stubbing a toe last night and cussing out loud means to be happy and happy, but in this context the speaker is saying that he was happy and happy.',\n",
              " 'label: Entailment explanation: Stubbing a toe last night and cussing out loud means to be happy and happy, but in this context the speaker is saying that he was happy and happy.',\n",
              " 'label: Entailment explanation: Stubbing a toe last night and cussing out loud means to be happy and happy, but in this context the speaker is saying that he was happy and happy.',\n",
              " 'label: Entailment explanation: Stubbing a toe last night and cussing out loud means to be happy and happy, but in this context the speaker is saying that he was happy and happy.',\n",
              " 'label: Entailment explanation: Stubbing a toe last night and cussing out loud means to be happy and happy, but in this context the speaker is saying that he was happy and happy.',\n",
              " 'label: Entailment explanation: Stubbing a toe last night and cussing out loud means to be happy and happy, but in this context the speaker is saying that he was happy and happy.',\n",
              " 'label: Entailment explanation: Stubbing a toe last night and cussing out loud means to be happy and happy, but in this context the speaker is saying that he was happy and happy.',\n",
              " 'label: Entailment explanation: Stubbing a toe last night and cussing out loud means to be happy and happy, but in this context the speaker is saying that he was happy and happy.',\n",
              " 'label: Entailment explanation: Stubbing a toe last night and cussing out loud means to be happy and happy, but in this context the speaker is saying that he was happy and happy.',\n",
              " 'label: Entailment explanation: Stubbing a toe last night and cussing out loud means to be happy and happy, but in this context the speaker is saying that he was happy and happy.',\n",
              " 'label: Entailment explanation: Stubbing a toe last night and cussing out loud means to be happy and happy, but in this context the speaker is saying that he was happy and happy.',\n",
              " 'label: Entailment explanation: Stubbing a toe last night and cussing out loud means to be happy and happy, but in this context the speaker is saying that he was happy and happy.',\n",
              " 'label: Entailment explanation: Stubbing a toe last night and cussing out loud means to be happy and happy, but in this context the speaker is saying that he was happy and happy.',\n",
              " 'label: Entailment explanation: Stubbing a toe last night and cussing out loud means to be happy and happy, but in this context the speaker is saying that he was happy and happy.',\n",
              " 'label: Entailment explanation: Stubbing a toe last night and cussing out loud means to be happy and happy, but in this context the speaker is saying that he was happy and happy.',\n",
              " 'label: Entailment explanation: Stubbing a toe last night and cussing out loud means to be happy and happy, but in this context the speaker is saying that he was happy and happy.',\n",
              " 'label: Entailment explanation: Stubbing a toe last night and cussing out loud means to be happy and happy, but in this context the speaker is saying that he was happy and happy.',\n",
              " 'label: Entailment explanation: Stubbing a toe last night and cussing out loud means to be happy and happy, but in this context the speaker is saying that he was happy and happy.',\n",
              " 'label: Entailment explanation: Stubbing a toe last night and cussing out loud means to be happy and happy, but in this context the speaker is saying that he was happy and happy.',\n",
              " 'label: Entailment explanation: Stubbing a toe last night and cussing out loud means to be happy and happy, but in this context the speaker is saying that he was happy and happy.',\n",
              " 'label: Entailment explanation: Stubbing a toe last night and cussing out loud means to be happy and happy, but in this context the speaker is saying that he was happy and happy.',\n",
              " 'label: Entailment explanation: Stubbing a toe last night and cussing out loud means to be happy and happy, but in this context the speaker is saying that he was happy and happy.',\n",
              " 'label: Entailment explanation: Stubbing a toe last night and cussing out loud means to be happy and happy, but in this context the speaker is saying that he was happy and happy.',\n",
              " 'label: Entailment explanation: Stubbing a toe last night and cussing out loud means to be happy and happy, but in this context the speaker is saying that he was happy and happy.',\n",
              " 'label: Entailment explanation: Stubbing a toe last night and cussing out loud means to be happy and happy, but in this context the speaker is saying that he was happy and happy.',\n",
              " 'label: Entailment explanation: Stubbing a toe last night and cussing out loud means to be happy and happy, but in this context the speaker is saying that he was happy and happy.',\n",
              " 'label: Entailment explanation: Stubbing a toe last night and cussing out loud means to be happy and happy, but in this context the speaker is saying that he was happy and happy.',\n",
              " 'label: Entailment explanation: Stubbing a toe last night and cussing out loud means to be happy and happy, but in this context the speaker is saying that he was happy and happy.',\n",
              " 'label: Entailment explanation: Stubbing a toe last night and cussing out loud means to be happy and happy, but in this context the speaker is saying that he was happy and happy.',\n",
              " 'label: Entailment explanation: Stubbing a toe last night and cussing out loud means to be happy and happy, but in this context the speaker is saying that he was happy and happy.',\n",
              " 'label: Entailment explanation: Stubbing a toe last night and cussing out loud means to be happy and happy, but in this context the speaker is saying that he was happy and happy.',\n",
              " 'label: Entailment explanation: Stubbing a toe last night and cussing out loud means to be happy and happy, but in this context the speaker is saying that he was happy and happy.',\n",
              " 'label: Entailment explanation: Stubbing a toe last night and cussing out loud means to be happy and happy, but in this context the speaker is saying that he was happy and happy.',\n",
              " 'label: Entailment explanation: Stubbing a toe last night and cussing out loud means to be happy and happy, but in this context the speaker is saying that he was happy and happy.',\n",
              " 'label: Entailment explanation: Stubbing a toe last night and cussing out loud means to be happy and happy, but in this context the speaker is saying that he was happy and happy.',\n",
              " 'label: Entailment explanation: Stubbing a toe last night and cussing out loud means to be happy and happy, but in this context the speaker is saying that he was happy and happy.',\n",
              " 'label: Entailment explanation: Stubbing a toe last night and cussing out loud means to be happy and happy, but in this context the speaker is saying that he was happy and happy.',\n",
              " 'label: Entailment explanation: Stubbing a toe last night and cussing out loud means to be happy and happy, but in this context the speaker is saying that he was happy and happy.',\n",
              " 'label: Entailment explanation: Stubbing a toe last night and cussing out loud means to be happy and happy, but in this context the speaker is saying that he was happy and happy.',\n",
              " 'label: Entailment explanation: Stubbing a toe last night and cussing out loud means to be happy and happy, but in this context the speaker is saying that he was happy and happy.',\n",
              " 'label: Entailment explanation: Stubbing a toe last night and cussing out loud means to be happy and happy, but in this context the speaker is saying that he was happy and happy.',\n",
              " 'label: Entailment explanation: Stubbing a toe last night and cussing out loud means to be happy and happy, but in this context the speaker is saying that he was happy and happy.',\n",
              " 'label: Entailment explanation: Stubbing a toe last night and cussing out loud means to be happy and happy, but in this context the speaker is saying that he was happy and happy.',\n",
              " 'label: Entailment explanation: Stubbing a toe last night and cussing out loud means to be happy and happy, but in this context the speaker is saying that he was happy and happy.',\n",
              " 'label: Entailment explanation: Stubbing a toe last night and cussing out loud means to be happy and happy, but in this context the speaker is saying that he was happy and happy.',\n",
              " 'label: Entailment explanation: Stubbing a toe last night and cussing out loud means to be happy and happy, but in this context the speaker is saying that he was happy and happy.',\n",
              " 'label: Entailment explanation: Stubbing a toe last night and cussing out loud means to be happy and happy, but in this context the speaker is saying that he was happy and happy.',\n",
              " 'label: Entailment explanation: Stubbing a toe last night and cussing out loud means to be happy and happy, but in this context the speaker is saying that he was happy and happy.',\n",
              " 'label: Entailment explanation: Stubbing a toe last night and cussing out loud means to be happy and happy, but in this context the speaker is saying that he was happy and happy.',\n",
              " 'label: Entailment explanation: Stubbing a toe last night and cussing out loud means to be happy and happy, but in this context the speaker is saying that he was happy and happy.',\n",
              " 'label: Entailment explanation: Stubbing a toe last night and cussing out loud means to be happy and happy, but in this context the speaker is saying that he was happy and happy.',\n",
              " 'label: Entailment explanation: Stubbing a toe last night and cussing out loud means to be happy and happy, but in this context the speaker is saying that he was happy and happy.',\n",
              " 'label: Entailment explanation: Stubbing a toe last night and cussing out loud means to be happy and happy, but in this context the speaker is saying that he was happy and happy.',\n",
              " 'label: Entailment explanation: Stubbing a toe last night and cussing out loud means to be happy and happy, but in this context the speaker is saying that he was happy and happy.',\n",
              " 'label: Entailment explanation: Stubbing a toe last night and cussing out loud means to be happy and happy, but in this context the speaker is saying that he was happy and happy.',\n",
              " 'label: Entailment explanation: Stubbing a toe last night and cussing out loud means to be happy and happy, but in this context the speaker is saying that he was happy and happy.',\n",
              " 'label: Entailment explanation: Stubbing a toe last night and cussing out loud means to be happy and happy, but in this context the speaker is saying that he was happy and happy.',\n",
              " 'label: Entailment explanation: Stubbing a toe last night and cussing out loud means to be happy and happy, but in this context the speaker is saying that he was happy and happy.',\n",
              " 'label: Entailment explanation: Stubbing a toe last night and cussing out loud means to be happy and happy, but in this context the speaker is saying that he was happy and happy.',\n",
              " 'label: Entailment explanation: Stubbing a toe last night and cussing out loud means to be happy and happy, but in this context the speaker is saying that he was happy and happy.',\n",
              " 'label: Entailment explanation: Stubbing a toe last night and cussing out loud means to be happy and happy, but in this context the speaker is saying that he was happy and happy.',\n",
              " 'label: Entailment explanation: Stubbing a toe last night and cussing out loud means to be happy and happy, but in this context the speaker is saying that he was happy and happy.',\n",
              " 'label: Entailment explanation: Stubbing a toe last night and cussing out loud means to be happy and happy, but in this context the speaker is saying that he was happy and happy.',\n",
              " 'label: Entailment explanation: Stubbing a toe last night and cussing out loud means to be happy and happy, but in this context the speaker is saying that he was happy and happy.',\n",
              " 'label: Entailment explanation: Stubbing a toe last night and cussing out loud means to be happy and happy, but in this context the speaker is saying that he was happy and happy.',\n",
              " 'label: Entailment explanation: Stubbing a toe last night and cussing out loud means to be happy and happy, but in this context the speaker is saying that he was happy and happy.',\n",
              " 'label: Entailment explanation: Stubbing a toe last night and cussing out loud means to be happy and happy, but in this context the speaker is saying that he was happy and happy.',\n",
              " 'label: Entailment explanation: Stubbing a toe last night and cussing out loud means to be happy and happy, but in this context the speaker is saying that he was happy and happy.',\n",
              " 'label: Entailment explanation: Stubbing a toe last night and cussing out loud means to be happy and happy, but in this context the speaker is saying that he was happy and happy.',\n",
              " 'label: Entailment explanation: Stubbing a toe last night and cussing out loud means to be happy and happy, but in this context the speaker is saying that he was happy and happy.',\n",
              " 'label: Entailment explanation: Stubbing a toe last night and cussing out loud means to be happy and happy, but in this context the speaker is saying that he was happy and happy.',\n",
              " 'label: Entailment explanation: Stubbing a toe last night and cussing out loud means to be happy and happy, but in this context the speaker is saying that he was happy and happy.',\n",
              " 'label: Entailment explanation: Stubbing a toe last night and cussing out loud means to be happy and happy, but in this context the speaker is saying that he was happy and happy.',\n",
              " 'label: Entailment explanation: Stubbing a toe last night and cussing out loud means to be happy and happy, but in this context the speaker is saying that he was happy and happy.',\n",
              " 'label: Entailment explanation: Stubbing a toe last night and cussing out loud means to be happy and happy, but in this context the speaker is saying that he was happy and happy.',\n",
              " 'label: Entailment explanation: Stubbing a toe last night and cussing out loud means to be happy and happy, but in this context the speaker is saying that he was happy and happy.',\n",
              " 'label: Entailment explanation: Stubbing a toe last night and cussing out loud means to be happy and happy, but in this context the speaker is saying that he was happy and happy.',\n",
              " 'label: Entailment explanation: Stubbing a toe last night and cussing out loud means to be happy and happy, but in this context the speaker is saying that he was happy and happy.',\n",
              " 'label: Entailment explanation: Stubbing a toe last night and cussing out loud means to be happy and happy, but in this context the speaker is saying that he was happy and happy.',\n",
              " 'label: Entailment explanation: Stubbing a toe last night and cussing out loud means to be happy and happy, but in this context the speaker is saying that he was happy and happy.',\n",
              " 'label: Entailment explanation: Stubbing a toe last night and cussing out loud means to be happy and happy, but in this context the speaker is saying that he was happy and happy.',\n",
              " 'label: Entailment explanation: Stubbing a toe last night and cussing out loud means to be happy and happy, but in this context the speaker is saying that he was happy and happy.',\n",
              " 'label: Entailment explanation: Stubbing a toe last night and cussing out loud means to be happy and happy, but in this context the speaker is saying that he was happy and happy.',\n",
              " 'label: Entailment explanation: Stubbing a toe last night and cussing out loud means to be happy and happy, but in this context the speaker is saying that he was happy and happy.',\n",
              " 'label: Entailment explanation: Stubbing a toe last night and cussing out loud means to be happy and happy, but in this context the speaker is saying that he was happy and happy.',\n",
              " 'label: Entailment explanation: Stubbing a toe last night and cussing out loud means to be happy and happy, but in this context the speaker is saying that he was happy and happy.',\n",
              " 'label: Entailment explanation: Stubbing a toe last night and cussing out loud means to be happy and happy, but in this context the speaker is saying that he was happy and happy.',\n",
              " 'label: Entailment explanation: Stubbing a toe last night and cussing out loud means to be happy and happy, but in this context the speaker is saying that he was happy and happy.',\n",
              " 'label: Entailment explanation: Stubbing a toe last night and cussing out loud means to be happy and happy, but in this context the speaker is saying that he was happy and happy.',\n",
              " 'label: Entailment explanation: Stubbing a toe last night and cussing out loud means to be happy and happy, but in this context the speaker is saying that he was happy and happy.',\n",
              " 'label: Entailment explanation: Stubbing a toe last night and cussing out loud means to be happy and happy, but in this context the speaker is saying that he was happy and happy.',\n",
              " 'label: Entailment explanation: Stubbing a toe last night and cussing out loud means to be happy and happy, but in this context the speaker is saying that he was happy and happy.',\n",
              " 'label: Entailment explanation: Stubbing a toe last night and cussing out loud means to be happy and happy, but in this context the speaker is saying that he was happy and happy.',\n",
              " 'label: Entailment explanation: Stubbing a toe last night and cussing out loud means to be happy and happy, but in this context the speaker is saying that he was happy and happy.',\n",
              " 'label: Entailment explanation: Stubbing a toe last night and cussing out loud means to be happy and happy, but in this context the speaker is saying that he was happy and happy.',\n",
              " 'label: Entailment explanation: Stubbing a toe last night and cussing out loud means to be happy and happy, but in this context the speaker is saying that he was happy and happy.',\n",
              " 'label: Entailment explanation: Stubbing a toe last night and cussing out loud means to be happy and happy, but in this context the speaker is saying that he was happy and happy.',\n",
              " 'label: Entailment explanation: Stubbing a toe last night and cussing out loud means to be happy and happy, but in this context the speaker is saying that he was happy and happy.',\n",
              " 'label: Entailment explanation: Stubbing a toe last night and cussing out loud means to be happy and happy, but in this context the speaker is saying that he was happy and happy.',\n",
              " 'label: Entailment explanation: Stubbing a toe last night and cussing out loud means to be happy and happy, but in this context the speaker is saying that he was happy and happy.',\n",
              " 'label: Entailment explanation: Stubbing a toe last night and cussing out loud means to be happy and happy, but in this context the speaker is saying that he was happy and happy.',\n",
              " 'label: Entailment explanation: Stubbing a toe last night and cussing out loud means to be happy and happy, but in this context the speaker is saying that he was happy and happy.',\n",
              " 'label: Entailment explanation: Stubbing a toe last night and cussing out loud means to be happy and happy, but in this context the speaker is saying that he was happy and happy.',\n",
              " 'label: Entailment explanation: Stubbing a toe last night and cussing out loud means to be happy and happy, but in this context the speaker is saying that he was happy and happy.',\n",
              " 'label: Entailment explanation: Stubbing a toe last night and cussing out loud means to be happy and happy, but in this context the speaker is saying that he was happy and happy.',\n",
              " 'label: Entailment explanation: Stubbing a toe last night and cussing out loud means to be happy and happy, but in this context the speaker is saying that he was happy and happy.',\n",
              " 'label: Entailment explanation: Stubbing a toe last night and cussing out loud means to be happy and happy, but in this context the speaker is saying that he was happy and happy.',\n",
              " 'label: Entailment explanation: Stubbing a toe last night and cussing out loud means to be happy and happy, but in this context the speaker is saying that he was happy and happy.',\n",
              " 'label: Entailment explanation: Stubbing a toe last night and cussing out loud means to be happy and happy, but in this context the speaker is saying that he was happy and happy.',\n",
              " 'label: Entailment explanation: Stubbing a toe last night and cussing out loud means to be happy and happy, but in this context the speaker is saying that he was happy and happy.',\n",
              " 'label: Entailment explanation: Stubbing a toe last night and cussing out loud means to be happy and happy, but in this context the speaker is saying that he was happy and happy.',\n",
              " 'label: Entailment explanation: Stubbing a toe last night and cussing out loud means to be happy and happy, but in this context the speaker is saying that he was happy and happy.',\n",
              " 'label: Entailment explanation: Stubbing a toe last night and cussing out loud means to be happy and happy, but in this context the speaker is saying that he was happy and happy.',\n",
              " 'label: Entailment explanation: Stubbing a toe last night and cussing out loud means to be happy and happy, but in this context the speaker is saying that he was happy and happy.',\n",
              " 'label: Entailment explanation: Stubbing a toe last night and cussing out loud means to be happy and happy, but in this context the speaker is saying that he was happy and happy.',\n",
              " 'label: Entailment explanation: Stubbing a toe last night and cussing out loud means to be happy and happy, but in this context the speaker is saying that he was happy and happy.',\n",
              " 'label: Entailment explanation: Stubbing a toe last night and cussing out loud means to be happy and happy, but in this context the speaker is saying that he was happy and happy.',\n",
              " 'label: Entailment explanation: Stubbing a toe last night and cussing out loud means to be happy and happy, but in this context the speaker is saying that he was happy and happy.',\n",
              " 'label: Entailment explanation: Stubbing a toe last night and cussing out loud means to be happy and happy, but in this context the speaker is saying that he was happy and happy.',\n",
              " 'label: Entailment explanation: Stubbing a toe last night and cussing out loud means to be happy and happy, but in this context the speaker is saying that he was happy and happy.',\n",
              " 'label: Entailment explanation: Stubbing a toe last night and cussing out loud means to be happy and happy, but in this context the speaker is saying that he was happy and happy.',\n",
              " 'label: Entailment explanation: Stubbing a toe last night and cussing out loud means to be happy and happy, but in this context the speaker is saying that he was happy and happy.',\n",
              " 'label: Entailment explanation: Stubbing a toe last night and cussing out loud means to be happy and happy, but in this context the speaker is saying that he was happy and happy.',\n",
              " 'label: Entailment explanation: Stubbing a toe last night and cussing out loud means to be happy and happy, but in this context the speaker is saying that he was happy and happy.',\n",
              " 'label: Entailment explanation: Stubbing a toe last night and cussing out loud means to be happy and happy, but in this context the speaker is saying that he was happy and happy.',\n",
              " 'label: Entailment explanation: Stubbing a toe last night and cussing out loud means to be happy and happy, but in this context the speaker is saying that he was happy and happy.',\n",
              " 'label: Entailment explanation: Stubbing a toe last night and cussing out loud means to be happy and happy, but in this context the speaker is saying that he was happy and happy.',\n",
              " 'label: Entailment explanation: Stubbing a toe last night and cussing out loud means to be happy and happy, but in this context the speaker is saying that he was happy and happy.',\n",
              " 'label: Entailment explanation: Stubbing a toe last night and cussing out loud means to be happy and happy, but in this context the speaker is saying that he was happy and happy.',\n",
              " 'label: Entailment explanation: Stubbing a toe last night and cussing out loud means to be happy and happy, but in this context the speaker is saying that he was happy and happy.',\n",
              " 'label: Entailment explanation: Stubbing a toe last night and cussing out loud means to be happy and happy, but in this context the speaker is saying that he was happy and happy.',\n",
              " 'label: Entailment explanation: Stubbing a toe last night and cussing out loud means to be happy and happy, but in this context the speaker is saying that he was happy and happy.',\n",
              " 'label: Entailment explanation: Stubbing a toe last night and cussing out loud means to be happy and happy, but in this context the speaker is saying that he was happy and happy.',\n",
              " 'label: Entailment explanation: Stubbing a toe last night and cussing out loud means to be happy and happy, but in this context the speaker is saying that he was happy and happy.',\n",
              " 'label: Entailment explanation: Stubbing a toe last night and cussing out loud means to be happy and happy, but in this context the speaker is saying that he was happy and happy.',\n",
              " 'label: Entailment explanation: Stubbing a toe last night and cussing out loud means to be happy and happy, but in this context the speaker is saying that he was happy and happy.',\n",
              " 'label: Entailment explanation: Stubbing a toe last night and cussing out loud means to be happy and happy, but in this context the speaker is saying that he was happy and happy.',\n",
              " 'label: Entailment explanation: Stubbing a toe last night and cussing out loud means to be happy and happy, but in this context the speaker is saying that he was happy and happy.',\n",
              " 'label: Entailment explanation: Stubbing a toe last night and cussing out loud means to be happy and happy, but in this context the speaker is saying that he was happy and happy.',\n",
              " 'label: Entailment explanation: Stubbing a toe last night and cussing out loud means to be happy and happy, but in this context the speaker is saying that he was happy and happy.',\n",
              " 'label: Entailment explanation: Stubbing a toe last night and cussing out loud means to be happy and happy, but in this context the speaker is saying that he was happy and happy.',\n",
              " 'label: Entailment explanation: Stubbing a toe last night and cussing out loud means to be happy and happy, but in this context the speaker is saying that he was happy and happy.',\n",
              " 'label: Entailment explanation: Stubbing a toe last night and cussing out loud means to be happy and happy, but in this context the speaker is saying that he was happy and happy.',\n",
              " 'label: Entailment explanation: Stubbing a toe last night and cussing out loud means to be happy and happy, but in this context the speaker is saying that he was happy and happy.',\n",
              " 'label: Entailment explanation: Stubbing a toe last night and cussing out loud means to be happy and happy, but in this context the speaker is saying that he was happy and happy.',\n",
              " 'label: Entailment explanation: Stubbing a toe last night and cussing out loud means to be happy and happy, but in this context the speaker is saying that he was happy and happy.',\n",
              " 'label: Entailment explanation: Stubbing a toe last night and cussing out loud means to be happy and happy, but in this context the speaker is saying that he was happy and happy.',\n",
              " 'label: Entailment explanation: Stubbing a toe last night and cussing out loud means to be happy and happy, but in this context the speaker is saying that he was happy and happy.',\n",
              " 'label: Entailment explanation: Stubbing a toe last night and cussing out loud means to be happy and happy, but in this context the speaker is saying that he was happy and happy.',\n",
              " 'label: Entailment explanation: Stubbing a toe last night and cussing out loud means to be happy and happy, but in this context the speaker is saying that he was happy and happy.',\n",
              " 'label: Entailment explanation: Stubbing a toe last night and cussing out loud means to be happy and happy, but in this context the speaker is saying that he was happy and happy.',\n",
              " 'label: Entailment explanation: Stubbing a toe last night and cussing out loud means to be happy and happy, but in this context the speaker is saying that he was happy and happy.',\n",
              " 'label: Entailment explanation: Stubbing a toe last night and cussing out loud means to be happy and happy, but in this context the speaker is saying that he was happy and happy.',\n",
              " 'label: Entailment explanation: Stubbing a toe last night and cussing out loud means to be happy and happy, but in this context the speaker is saying that he was happy and happy.',\n",
              " 'label: Entailment explanation: Stubbing a toe last night and cussing out loud means to be happy and happy, but in this context the speaker is saying that he was happy and happy.',\n",
              " 'label: Entailment explanation: Stubbing a toe last night and cussing out loud means to be happy and happy, but in this context the speaker is saying that he was happy and happy.',\n",
              " 'label: Entailment explanation: Stubbing a toe last night and cussing out loud means to be happy and happy, but in this context the speaker is saying that he was happy and happy.',\n",
              " 'label: Entailment explanation: Stubbing a toe last night and cussing out loud means to be happy and happy, but in this context the speaker is saying that he was happy and happy.',\n",
              " 'label: Entailment explanation: Stubbing a toe last night and cussing out loud means to be happy and happy, but in this context the speaker is saying that he was happy and happy.',\n",
              " 'label: Entailment explanation: Stubbing a toe last night and cussing out loud means to be happy and happy, but in this context the speaker is saying that he was happy and happy.',\n",
              " 'label: Entailment explanation: Stubbing a toe last night and cussing out loud means to be happy and happy, but in this context the speaker is saying that he was happy and happy.',\n",
              " 'label: Entailment explanation: Stubbing a toe last night and cussing out loud means to be happy and happy, but in this context the speaker is saying that he was happy and happy.',\n",
              " 'label: Entailment explanation: Stubbing a toe last night and cussing out loud means to be happy and happy, but in this context the speaker is saying that he was happy and happy.',\n",
              " 'label: Entailment explanation: Stubbing a toe last night and cussing out loud means to be happy and happy, but in this context the speaker is saying that he was happy and happy.',\n",
              " 'label: Entailment explanation: Stubbing a toe last night and cussing out loud means to be happy and happy, but in this context the speaker is saying that he was happy and happy.',\n",
              " 'label: Entailment explanation: Stubbing a toe last night and cussing out loud means to be happy and happy, but in this context the speaker is saying that he was happy and happy.',\n",
              " 'label: Entailment explanation: Stubbing a toe last night and cussing out loud means to be happy and happy, but in this context the speaker is saying that he was happy and happy.',\n",
              " 'label: Entailment explanation: Stubbing a toe last night and cussing out loud means to be happy and happy, but in this context the speaker is saying that he was happy and happy.',\n",
              " 'label: Entailment explanation: Stubbing a toe last night and cussing out loud means to be happy and happy, but in this context the speaker is saying that he was happy and happy.',\n",
              " 'label: Entailment explanation: Stubbing a toe last night and cussing out loud means to be happy and happy, but in this context the speaker is saying that he was happy and happy.',\n",
              " 'label: Entailment explanation: Stubbing a toe last night and cussing out loud means to be happy and happy, but in this context the speaker is saying that he was happy and happy.',\n",
              " 'label: Entailment explanation: Stubbing a toe last night and cussing out loud means to be happy and happy, but in this context the speaker is saying that he was happy and happy.',\n",
              " 'label: Entailment explanation: Stubbing a toe last night and cussing out loud means to be happy and happy, but in this context the speaker is saying that he was happy and happy.',\n",
              " 'label: Entailment explanation: Stubbing a toe last night and cussing out loud means to be happy and happy, but in this context the speaker is saying that he was happy and happy.',\n",
              " 'label: Entailment explanation: Stubbing a toe last night and cussing out loud means to be happy and happy, but in this context the speaker is saying that he was happy and happy.',\n",
              " 'label: Entailment explanation: Stubbing a toe last night and cussing out loud means to be happy and happy, but in this context the speaker is saying that he was happy and happy.',\n",
              " 'label: Entailment explanation: Stubbing a toe last night and cussing out loud means to be happy and happy, but in this context the speaker is saying that he was happy and happy.',\n",
              " 'label: Entailment explanation: Stubbing a toe last night and cussing out loud means to be happy and happy, but in this context the speaker is saying that he was happy and happy.',\n",
              " 'label: Entailment explanation: Stubbing a toe last night and cussing out loud means to be happy and happy, but in this context the speaker is saying that he was happy and happy.',\n",
              " 'label: Entailment explanation: Stubbing a toe last night and cussing out loud means to be happy and happy, but in this context the speaker is saying that he was happy and happy.',\n",
              " 'label: Entailment explanation: Stubbing a toe last night and cussing out loud means to be happy and happy, but in this context the speaker is saying that he was happy and happy.',\n",
              " 'label: Entailment explanation: Stubbing a toe last night and cussing out loud means to be happy and happy, but in this context the speaker is saying that he was happy and happy.',\n",
              " 'label: Entailment explanation: Stubbing a toe last night and cussing out loud means to be happy and happy, but in this context the speaker is saying that he was happy and happy.',\n",
              " 'label: Entailment explanation: Stubbing a toe last night and cussing out loud means to be happy and happy, but in this context the speaker is saying that he was happy and happy.',\n",
              " 'label: Entailment explanation: Stubbing a toe last night and cussing out loud means to be happy and happy, but in this context the speaker is saying that he was happy and happy.',\n",
              " 'label: Entailment explanation: Stubbing a toe last night and cussing out loud means to be happy and happy, but in this context the speaker is saying that he was happy and happy.',\n",
              " 'label: Entailment explanation: Stubbing a toe last night and cussing out loud means to be happy and happy, but in this context the speaker is saying that he was happy and happy.',\n",
              " 'label: Entailment explanation: Stubbing a toe last night and cussing out loud means to be happy and happy, but in this context the speaker is saying that he was happy and happy.',\n",
              " 'label: Entailment explanation: Stubbing a toe last night and cussing out loud means to be happy and happy, but in this context the speaker is saying that he was happy and happy.',\n",
              " 'label: Entailment explanation: Stubbing a toe last night and cussing out loud means to be happy and happy, but in this context the speaker is saying that he was happy and happy.',\n",
              " 'label: Entailment explanation: Stubbing a toe last night and cussing out loud means to be happy and happy, but in this context the speaker is saying that he was happy and happy.',\n",
              " 'label: Entailment explanation: Stubbing a toe last night and cussing out loud means to be happy and happy, but in this context the speaker is saying that he was happy and happy.',\n",
              " 'label: Entailment explanation: Stubbing a toe last night and cussing out loud means to be happy and happy, but in this context the speaker is saying that he was happy and happy.',\n",
              " 'label: Entailment explanation: Stubbing a toe last night and cussing out loud means to be happy and happy, but in this context the speaker is saying that he was happy and happy.',\n",
              " 'label: Entailment explanation: Stubbing a toe last night and cussing out loud means to be happy and happy, but in this context the speaker is saying that he was happy and happy.',\n",
              " 'label: Entailment explanation: Stubbing a toe last night and cussing out loud means to be happy and happy, but in this context the speaker is saying that he was happy and happy.',\n",
              " 'label: Entailment explanation: Stubbing a toe last night and cussing out loud means to be happy and happy, but in this context the speaker is saying that he was happy and happy.',\n",
              " 'label: Entailment explanation: Stubbing a toe last night and cussing out loud means to be happy and happy, but in this context the speaker is saying that he was happy and happy.',\n",
              " 'label: Entailment explanation: Stubbing a toe last night and cussing out loud means to be happy and happy, but in this context the speaker is saying that he was happy and happy.',\n",
              " 'label: Entailment explanation: Stubbing a toe last night and cussing out loud means to be happy and happy, but in this context the speaker is saying that he was happy and happy.',\n",
              " 'label: Entailment explanation: Stubbing a toe last night and cussing out loud means to be happy and happy, but in this context the speaker is saying that he was happy and happy.',\n",
              " 'label: Entailment explanation: Stubbing a toe last night and cussing out loud means to be happy and happy, but in this context the speaker is saying that he was happy and happy.',\n",
              " 'label: Entailment explanation: Stubbing a toe last night and cussing out loud means to be happy and happy, but in this context the speaker is saying that he was happy and happy.',\n",
              " 'label: Entailment explanation: Stubbing a toe last night and cussing out loud means to be happy and happy, but in this context the speaker is saying that he was happy and happy.',\n",
              " 'label: Entailment explanation: Stubbing a toe last night and cussing out loud means to be happy and happy, but in this context the speaker is saying that he was happy and happy.',\n",
              " 'label: Entailment explanation: Stubbing a toe last night and cussing out loud means to be happy and happy, but in this context the speaker is saying that he was happy and happy.',\n",
              " 'label: Entailment explanation: Stubbing a toe last night and cussing out loud means to be happy and happy, but in this context the speaker is saying that he was happy and happy.',\n",
              " 'label: Entailment explanation: Stubbing a toe last night and cussing out loud means to be happy and happy, but in this context the speaker is saying that he was happy and happy.',\n",
              " 'label: Entailment explanation: Stubbing a toe last night and cussing out loud means to be happy and happy, but in this context the speaker is saying that he was happy and happy.',\n",
              " 'label: Entailment explanation: Stubbing a toe last night and cussing out loud means to be happy and happy, but in this context the speaker is saying that he was happy and happy.',\n",
              " 'label: Entailment explanation: Stubbing a toe last night and cussing out loud means to be happy and happy, but in this context the speaker is saying that he was happy and happy.',\n",
              " 'label: Entailment explanation: Stubbing a toe last night and cussing out loud means to be happy and happy, but in this context the speaker is saying that he was happy and happy.',\n",
              " 'label: Entailment explanation: Stubbing a toe last night and cussing out loud means to be happy and happy, but in this context the speaker is saying that he was happy and happy.',\n",
              " 'label: Entailment explanation: Stubbing a toe last night and cussing out loud means to be happy and happy, but in this context the speaker is saying that he was happy and happy.',\n",
              " 'label: Entailment explanation: Stubbing a toe last night and cussing out loud means to be happy and happy, but in this context the speaker is saying that he was happy and happy.',\n",
              " 'label: Entailment explanation: Stubbing a toe last night and cussing out loud means to be happy and happy, but in this context the speaker is saying that he was happy and happy.',\n",
              " 'label: Entailment explanation: Stubbing a toe last night and cussing out loud means to be happy and happy, but in this context the speaker is saying that he was happy and happy.',\n",
              " 'label: Entailment explanation: Stubbing a toe last night and cussing out loud means to be happy and happy, but in this context the speaker is saying that he was happy and happy.',\n",
              " 'label: Entailment explanation: Stubbing a toe last night and cussing out loud means to be happy and happy, but in this context the speaker is saying that he was happy and happy.',\n",
              " 'label: Entailment explanation: Stubbing a toe last night and cussing out loud means to be happy and happy, but in this context the speaker is saying that he was happy and happy.',\n",
              " 'label: Entailment explanation: Stubbing a toe last night and cussing out loud means to be happy and happy, but in this context the speaker is saying that he was happy and happy.',\n",
              " 'label: Entailment explanation: Stubbing a toe last night and cussing out loud means to be happy and happy, but in this context the speaker is saying that he was happy and happy.',\n",
              " 'label: Entailment explanation: Stubbing a toe last night and cussing out loud means to be happy and happy, but in this context the speaker is saying that he was happy and happy.',\n",
              " 'label: Entailment explanation: Stubbing a toe last night and cussing out loud means to be happy and happy, but in this context the speaker is saying that he was happy and happy.',\n",
              " 'label: Entailment explanation: Stubbing a toe last night and cussing out loud means to be happy and happy, but in this context the speaker is saying that he was happy and happy.',\n",
              " 'label: Entailment explanation: Stubbing a toe last night and cussing out loud means to be happy and happy, but in this context the speaker is saying that he was happy and happy.',\n",
              " 'label: Entailment explanation: Stubbing a toe last night and cussing out loud means to be happy and happy, but in this context the speaker is saying that he was happy and happy.',\n",
              " 'label: Entailment explanation: Stubbing a toe last night and cussing out loud means to be happy and happy, but in this context the speaker is saying that he was happy and happy.',\n",
              " 'label: Entailment explanation: Stubbing a toe last night and cussing out loud means to be happy and happy, but in this context the speaker is saying that he was happy and happy.',\n",
              " 'label: Entailment explanation: Stubbing a toe last night and cussing out loud means to be happy and happy, but in this context the speaker is saying that he was happy and happy.',\n",
              " 'label: Entailment explanation: Stubbing a toe last night and cussing out loud means to be happy and happy, but in this context the speaker is saying that he was happy and happy.',\n",
              " 'label: Entailment explanation: Stubbing a toe last night and cussing out loud means to be happy and happy, but in this context the speaker is saying that he was happy and happy.',\n",
              " 'label: Entailment explanation: Stubbing a toe last night and cussing out loud means to be happy and happy, but in this context the speaker is saying that he was happy and happy.',\n",
              " 'label: Entailment explanation: Stubbing a toe last night and cussing out loud means to be happy and happy, but in this context the speaker is saying that he was happy and happy.',\n",
              " 'label: Entailment explanation: Stubbing a toe last night and cussing out loud means to be happy and happy, but in this context the speaker is saying that he was happy and happy.',\n",
              " 'label: Entailment explanation: Stubbing a toe last night and cussing out loud means to be happy and happy, but in this context the speaker is saying that he was happy and happy.',\n",
              " 'label: Entailment explanation: Stubbing a toe last night and cussing out loud means to be happy and happy, but in this context the speaker is saying that he was happy and happy.',\n",
              " 'label: Entailment explanation: Stubbing a toe last night and cussing out loud means to be happy and happy, but in this context the speaker is saying that he was happy and happy.',\n",
              " 'label: Entailment explanation: Stubbing a toe last night and cussing out loud means to be happy and happy, but in this context the speaker is saying that he was happy and happy.',\n",
              " 'label: Entailment explanation: Stubbing a toe last night and cussing out loud means to be happy and happy, but in this context the speaker is saying that he was happy and happy.',\n",
              " 'label: Entailment explanation: Stubbing a toe last night and cussing out loud means to be happy and happy, but in this context the speaker is saying that he was happy and happy.',\n",
              " 'label: Entailment explanation: Stubbing a toe last night and cussing out loud means to be happy and happy, but in this context the speaker is saying that he was happy and happy.',\n",
              " 'label: Entailment explanation: Stubbing a toe last night and cussing out loud means to be happy and happy, but in this context the speaker is saying that he was happy and happy.',\n",
              " 'label: Entailment explanation: Stubbing a toe last night and cussing out loud means to be happy and happy, but in this context the speaker is saying that he was happy and happy.',\n",
              " 'label: Entailment explanation: Stubbing a toe last night and cussing out loud means to be happy and happy, but in this context the speaker is saying that he was happy and happy.',\n",
              " 'label: Entailment explanation: Stubbing a toe last night and cussing out loud means to be happy and happy, but in this context the speaker is saying that he was happy and happy.',\n",
              " 'label: Entailment explanation: Stubbing a toe last night and cussing out loud means to be happy and happy, but in this context the speaker is saying that he was happy and happy.',\n",
              " 'label: Entailment explanation: Stubbing a toe last night and cussing out loud means to be happy and happy, but in this context the speaker is saying that he was happy and happy.',\n",
              " 'label: Entailment explanation: Stubbing a toe last night and cussing out loud means to be happy and happy, but in this context the speaker is saying that he was happy and happy.',\n",
              " 'label: Entailment explanation: Stubbing a toe last night and cussing out loud means to be happy and happy, but in this context the speaker is saying that he was happy and happy.',\n",
              " 'label: Entailment explanation: Stubbing a toe last night and cussing out loud means to be happy and happy, but in this context the speaker is saying that he was happy and happy.',\n",
              " 'label: Entailment explanation: Stubbing a toe last night and cussing out loud means to be happy and happy, but in this context the speaker is saying that he was happy and happy.',\n",
              " 'label: Entailment explanation: Stubbing a toe last night and cussing out loud means to be happy and happy, but in this context the speaker is saying that he was happy and happy.',\n",
              " 'label: Entailment explanation: Stubbing a toe last night and cussing out loud means to be happy and happy, but in this context the speaker is saying that he was happy and happy.',\n",
              " 'label: Entailment explanation: Stubbing a toe last night and cussing out loud means to be happy and happy, but in this context the speaker is saying that he was happy and happy.',\n",
              " 'label: Entailment explanation: Stubbing a toe last night and cussing out loud means to be happy and happy, but in this context the speaker is saying that he was happy and happy.',\n",
              " 'label: Entailment explanation: Stubbing a toe last night and cussing out loud means to be happy and happy, but in this context the speaker is saying that he was happy and happy.',\n",
              " 'label: Entailment explanation: Stubbing a toe last night and cussing out loud means to be happy and happy, but in this context the speaker is saying that he was happy and happy.',\n",
              " 'label: Entailment explanation: Stubbing a toe last night and cussing out loud means to be happy and happy, but in this context the speaker is saying that he was happy and happy.',\n",
              " 'label: Entailment explanation: Stubbing a toe last night and cussing out loud means to be happy and happy, but in this context the speaker is saying that he was happy and happy.',\n",
              " 'label: Entailment explanation: Stubbing a toe last night and cussing out loud means to be happy and happy, but in this context the speaker is saying that he was happy and happy.',\n",
              " 'label: Entailment explanation: Stubbing a toe last night and cussing out loud means to be happy and happy, but in this context the speaker is saying that he was happy and happy.',\n",
              " 'label: Entailment explanation: Stubbing a toe last night and cussing out loud means to be happy and happy, but in this context the speaker is saying that he was happy and happy.',\n",
              " 'label: Entailment explanation: Stubbing a toe last night and cussing out loud means to be happy and happy, but in this context the speaker is saying that he was happy and happy.',\n",
              " 'label: Entailment explanation: Stubbing a toe last night and cussing out loud means to be happy and happy, but in this context the speaker is saying that he was happy and happy.',\n",
              " 'label: Entailment explanation: Stubbing a toe last night and cussing out loud means to be happy and happy, but in this context the speaker is saying that he was happy and happy.',\n",
              " ...]"
            ]
          },
          "metadata": {},
          "execution_count": 41
        }
      ]
    },
    {
      "cell_type": "code",
      "source": [],
      "metadata": {
        "id": "oYV5CVENU2eF"
      },
      "execution_count": null,
      "outputs": []
    },
    {
      "cell_type": "code",
      "source": [
        "torch.cuda.empty_cache()"
      ],
      "metadata": {
        "id": "_vJYviACLbir"
      },
      "execution_count": null,
      "outputs": []
    },
    {
      "cell_type": "code",
      "source": [],
      "metadata": {
        "id": "zu_PEANPWeLO"
      },
      "execution_count": null,
      "outputs": []
    },
    {
      "cell_type": "code",
      "execution_count": null,
      "metadata": {
        "id": "KdmKlMkfcLa0"
      },
      "outputs": [],
      "source": [
        "def main():\n",
        "    # See all possible arguments in src/transformers/training_args.py\n",
        "    # or by passing the --help flag to this script.\n",
        "    # We now keep distinct sets of args, for a cleaner separation of concerns.\n",
        "\n",
        "    parser = HfArgumentParser((ModelArguments, DataTrainingArguments, TrainingArguments))\n",
        "\n",
        "    # we will load the arguments from a json file, \n",
        "    #make sure you save the arguments in at ./args.json\n",
        "    model_args, data_args, training_args = parser.parse_json_file(json_file=os.path.abspath('args.json'))\n",
        "\n",
        "    if (\n",
        "        os.path.exists(training_args.output_dir)\n",
        "        and os.listdir(training_args.output_dir)\n",
        "        and training_args.do_train\n",
        "        and not training_args.overwrite_output_dir\n",
        "    ):\n",
        "        raise ValueError(\n",
        "            f\"Output directory ({training_args.output_dir}) already exists and is not empty. Use --overwrite_output_dir to overcome.\"\n",
        "        )\n",
        "\n",
        "    # Setup logging\n",
        "    logging.basicConfig(\n",
        "        format=\"%(asctime)s - %(levelname)s - %(name)s -   %(message)s\",\n",
        "        datefmt=\"%m/%d/%Y %H:%M:%S\",\n",
        "        level=logging.INFO if training_args.local_rank in [-1, 0] else logging.WARN,\n",
        "    )\n",
        "    logger.warning(\n",
        "        \"Process rank: %s, device: %s, n_gpu: %s, distributed training: %s, 16-bits training: %s\",\n",
        "        training_args.local_rank,\n",
        "        training_args.device,\n",
        "        training_args.n_gpu,\n",
        "        bool(training_args.local_rank != -1),\n",
        "        training_args.fp16,\n",
        "    )\n",
        "    logger.info(\"Training/evaluation parameters %s\", training_args)\n",
        "\n",
        "    # Set seed\n",
        "    set_seed(training_args.seed)\n",
        "\n",
        "    # Load pretrained model and tokenizer\n",
        "    #\n",
        "    # Distributed training:\n",
        "    # The .from_pretrained methods guarantee that only one local process can concurrently\n",
        "    # download model & vocab.\n",
        "\n",
        "    tokenizer = T5Tokenizer.from_pretrained(\n",
        "        model_args.tokenizer_name if model_args.tokenizer_name else model_args.model_name_or_path,\n",
        "        cache_dir=model_args.cache_dir,\n",
        "    )\n",
        "    model = T5ForConditionalGeneration.from_pretrained(\n",
        "        model_args.model_name_or_path,\n",
        "        cache_dir=model_args.cache_dir,\n",
        "    )\n",
        "\n",
        "    # Get datasets\n",
        "    print('loading data')\n",
        "    train_dataset  = torch.load(data_args.train_file_path)\n",
        "    valid_dataset = torch.load(data_args.valid_file_path)\n",
        "    print('loading done')\n",
        "\n",
        "    # Initialize our Trainer\n",
        "    trainer = Trainer(\n",
        "        model=model,\n",
        "        args=training_args,\n",
        "        train_dataset=train_dataset,\n",
        "        eval_dataset=valid_dataset,\n",
        "        data_collator=T2TDataCollator(),\n",
        "        prediction_loss_only=True\n",
        "    )\n",
        "\n",
        "    # Training\n",
        "    if training_args.do_train:\n",
        "        trainer.train(\n",
        "            model_path=model_args.model_name_or_path if os.path.isdir(model_args.model_name_or_path) else None\n",
        "        )\n",
        "        trainer.save_model()\n",
        "        # For convenience, we also re-save the tokenizer to the same directory,\n",
        "        # so that you can share your model easily on huggingface.co/models =)\n",
        "        if trainer.is_world_master():\n",
        "            tokenizer.save_pretrained(training_args.output_dir)\n",
        "\n",
        "    # Evaluation\n",
        "    results = {}\n",
        "    if training_args.do_eval and training_args.local_rank in [-1, 0]:\n",
        "        logger.info(\"*** Evaluate ***\")\n",
        "\n",
        "        eval_output = trainer.evaluate()\n",
        "\n",
        "        output_eval_file = os.path.join(training_args.output_dir, \"eval_results.txt\")\n",
        "        with open(output_eval_file, \"w\") as writer:\n",
        "            logger.info(\"***** Eval results *****\")\n",
        "            for key in sorted(eval_output.keys()):\n",
        "                logger.info(\"  %s = %s\", key, str(eval_output[key]))\n",
        "                writer.write(\"%s = %s\\n\" % (key, str(eval_output[key])))\n",
        "    \n",
        "        results.update(eval_output)\n",
        "    \n",
        "    return results\n",
        "\n",
        "\n",
        "def _mp_fn(index):\n",
        "    # For xla_spawn (TPUs)\n",
        "    main()"
      ]
    },
    {
      "cell_type": "code",
      "execution_count": null,
      "metadata": {
        "id": "ND7qgRHRIvyk"
      },
      "outputs": [],
      "source": []
    }
  ],
  "metadata": {
    "accelerator": "GPU",
    "colab": {
      "collapsed_sections": [],
      "provenance": []
    },
    "gpuClass": "standard",
    "kernelspec": {
      "display_name": "Python 3",
      "name": "python3"
    },
    "language_info": {
      "name": "python"
    }
  },
  "nbformat": 4,
  "nbformat_minor": 0
}